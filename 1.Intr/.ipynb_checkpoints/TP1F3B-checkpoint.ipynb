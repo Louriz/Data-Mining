{
 "cells": [
  {
   "cell_type": "markdown",
   "metadata": {},
   "source": [
    "- Romain Billot \n",
    "- Yannis Haralambous \n",
    "- Philippe Lenca \n",
    "- Sorin Moga"
   ]
  },
  {
   "cell_type": "markdown",
   "metadata": {},
   "source": [
    "---\n",
    "Lab 1: Important issues illustrated from a case study\n",
    "- Data and Objective understanding\n",
    "- Descriptive statistics\n",
    "- Visualisation tools\n",
    "- Regression\n",
    "---"
   ]
  },
  {
   "cell_type": "markdown",
   "metadata": {},
   "source": [
    "## Data and objective understanding"
   ]
  },
  {
   "cell_type": "markdown",
   "metadata": {},
   "source": [
    "–The Tips dataset– Food server’s tips in restaurants may be influenced by many factors (e.g. the\n",
    "nature and location of the restaurant, the size of the party, the table location and the day of the week. . . ).\n",
    "Restaurant managers need to know which factors matter when they assign tables to food servers. Indeed,\n",
    "for the sake of staff morale, they usually want to avoid either the substance or the appearance of unfair\n",
    "treatment of the servers, for whom tips (at least in restaurants in the United States) are a major component\n",
    "of pay.\n",
    "In one restaurant, a food server recorded some data on all customers they served during an interval\n",
    "of two and a half months in early 1990. The restaurant, located in a suburban shopping mall, was part\n",
    "of a national chain and served a varied menu. In observance of local law the restaurant offered seating\n",
    "in a non-smoking section to patrons who requested it. Each record includes a day and time, and thus\n",
    "taken together, they show the server’s work schedule. The food server provided a comma-separated-value\n",
    "file tips.csv containing 244 records, described by 7 variables ( total bill, tip, sex, smoker, day, time\n",
    "and size; see Table 1)."
   ]
  },
  {
   "cell_type": "code",
   "execution_count": null,
   "metadata": {
    "collapsed": true
   },
   "outputs": [],
   "source": [
    "# import useful libraries\n",
    "import pandas as pd\n",
    "import matplotlib.pyplot as plt\n",
    "import seaborn as sns\n",
    "import numpy as np\n",
    "import scipy as sp"
   ]
  },
  {
   "cell_type": "markdown",
   "metadata": {},
   "source": [
    "### Question 1"
   ]
  },
  {
   "cell_type": "markdown",
   "metadata": {},
   "source": [
    "What do you know from the text above and what information is missing?"
   ]
  },
  {
   "cell_type": "markdown",
   "metadata": {},
   "source": [
    "---\n",
    "We can say that our problem is about supervised learning, because we have a target function which is the tip. The other attributes are the dependent variables(features).\n",
    "\n",
    "---"
   ]
  },
  {
   "cell_type": "markdown",
   "metadata": {},
   "source": [
    "### Question 2"
   ]
  },
  {
   "cell_type": "markdown",
   "metadata": {},
   "source": [
    "Do you have some idea about the objectives of the study and the knowledge you could extract from the data? Could you suggest a list of questions of interest?"
   ]
  },
  {
   "cell_type": "markdown",
   "metadata": {
    "collapsed": true
   },
   "source": [
    "Here we want to know the influence of total bill, sex, smoker, day, time and size on tip by finding a model that can generalise the data.  "
   ]
  },
  {
   "cell_type": "markdown",
   "metadata": {},
   "source": [
    "Some questions : \n",
    "\n",
    "    - What factors can most influence the tip value ?\n",
    "    - Which factors matter when they assign tables to food servers ?\n",
    "  "
   ]
  },
  {
   "cell_type": "markdown",
   "metadata": {},
   "source": [
    "### Question 3"
   ]
  },
  {
   "cell_type": "markdown",
   "metadata": {},
   "source": [
    " Load the dataset and have a look at it using the describe() function. Describe the data (the format of the data, the quantity of data –number of example/ records and variable/fields–). What are the expected values and role of each variable?"
   ]
  },
  {
   "cell_type": "code",
   "execution_count": null,
   "metadata": {},
   "outputs": [],
   "source": [
    "# load data\n",
    "data_tips=pd.read_csv('tips.csv')\n",
    "# the type of the object data_tips \n",
    "type(data_tips)\n",
    "# the shape of data \n",
    "data_tips.shape\n",
    "# look qt the firsy 5 rows\n",
    "data_tips.head()\n",
    "#variables in data\n",
    "data_tips.columns\n"
   ]
  },
  {
   "cell_type": "code",
   "execution_count": null,
   "metadata": {},
   "outputs": [],
   "source": [
    "# describe the data\n",
    "data_tips.describe() # here we give some statistics about only numerical variables"
   ]
  },
  {
   "cell_type": "code",
   "execution_count": null,
   "metadata": {},
   "outputs": [],
   "source": [
    "# give a description about categorical variables\n",
    "data_tips.describe(include=['object']) "
   ]
  },
  {
   "cell_type": "code",
   "execution_count": null,
   "metadata": {
    "collapsed": true
   },
   "outputs": [],
   "source": [
    "# a description for each variable :\n",
    "# 'total_bill' : total to pay \n",
    "#'tip' : the tip value\n",
    "#'sex' : the gender of the customer\n",
    "#'smoker' :  customer smokes or not\n",
    "#'day' : 4 days ( from thursday to sunday)\n",
    "#'time' : either dinner or lunch\n",
    "#'size' : the size of the party"
   ]
  },
  {
   "cell_type": "markdown",
   "metadata": {},
   "source": [
    "### Question 4"
   ]
  },
  {
   "cell_type": "markdown",
   "metadata": {},
   "source": [
    "Tip is usually referred to by percentage points, or as a rate. This enables a normalization over the total bill and a comparison of values across other variables. The question is now to create a \"tip rate\" variable and to add it to the original dataset."
   ]
  },
  {
   "cell_type": "code",
   "execution_count": null,
   "metadata": {},
   "outputs": [],
   "source": [
    "data_tips['tip_rate']=data_tips['tip']/data_tips['total_bill']\n",
    "data_tips.head()"
   ]
  },
  {
   "cell_type": "markdown",
   "metadata": {},
   "source": [
    "##### Home work"
   ]
  },
  {
   "cell_type": "markdown",
   "metadata": {},
   "source": [
    "Explore the notion of scale of measurement. Provide a short note with meaningful definitions\n",
    "and examples. Explain why it is important to consider the right scale for each variable.\n",
    "What is the scale for each of the eight variables?"
   ]
  },
  {
   "cell_type": "markdown",
   "metadata": {},
   "source": [
    "http://stattrek.com/statistics/measurement-scales.aspx?Tutorial=AP"
   ]
  },
  {
   "cell_type": "markdown",
   "metadata": {},
   "source": [
    "## Descriptive statistics and visualisation"
   ]
  },
  {
   "cell_type": "markdown",
   "metadata": {},
   "source": [
    "### Question 5"
   ]
  },
  {
   "cell_type": "markdown",
   "metadata": {},
   "source": [
    "Explore univariate summaries with the R summary function."
   ]
  },
  {
   "cell_type": "code",
   "execution_count": null,
   "metadata": {},
   "outputs": [],
   "source": [
    "data_tips.describe()"
   ]
  },
  {
   "cell_type": "code",
   "execution_count": null,
   "metadata": {},
   "outputs": [],
   "source": [
    "data_tips.describe(include=['object'])"
   ]
  },
  {
   "cell_type": "markdown",
   "metadata": {},
   "source": [
    "### Question 6"
   ]
  },
  {
   "cell_type": "markdown",
   "metadata": {},
   "source": [
    "Plot a representation of the days distribution in the dataset and comment."
   ]
  },
  {
   "cell_type": "code",
   "execution_count": null,
   "metadata": {},
   "outputs": [],
   "source": [
    "sns.countplot(x='day',data=data_tips)\n"
   ]
  },
  {
   "cell_type": "code",
   "execution_count": null,
   "metadata": {},
   "outputs": [],
   "source": [
    "sns.barplot(x='day',y= 'tip',data= data_tips)"
   ]
  },
  {
   "cell_type": "markdown",
   "metadata": {},
   "source": [
    "### Question 7"
   ]
  },
  {
   "cell_type": "markdown",
   "metadata": {},
   "source": [
    "Prepare a plot of the amount of tips against the total bill. What can you see ? Test the correlation\n",
    "between the two variables."
   ]
  },
  {
   "cell_type": "code",
   "execution_count": null,
   "metadata": {},
   "outputs": [],
   "source": [
    "sns.jointplot(y=\"tip\", x=\"total_bill\", data=data_tips)\n",
    "plt.title('Tip vs total_bill')"
   ]
  },
  {
   "cell_type": "markdown",
   "metadata": {},
   "source": [
    "### Question 8"
   ]
  },
  {
   "cell_type": "markdown",
   "metadata": {},
   "source": [
    "Draw and interpret three boxplots : \n",
    "\n",
    "    1. the distribution of the total bill,\n",
    "    2. the distribution of tips;\n",
    "    3. the distributions of tips vs. days."
   ]
  },
  {
   "cell_type": "code",
   "execution_count": null,
   "metadata": {},
   "outputs": [],
   "source": [
    "sns.boxplot(x= 'total_bill',data=data_tips)\n",
    "sns.boxplot(x= 'tip',data=data_tips)\n",
    "sns.boxplot(x= 'tip',y='day',data=data_tips)\n",
    "plt.title('Tip VS Days')"
   ]
  },
  {
   "cell_type": "markdown",
   "metadata": {},
   "source": [
    "### Question 9"
   ]
  },
  {
   "cell_type": "markdown",
   "metadata": {},
   "source": [
    "Draw an histogram of tips. What can you say about the shape of the data ? Is this restaurant\n",
    "expensive ? Split the plotting window into 6 subplots (function mfrow) and plot 6 histograms\n",
    "with increasing numbers of breaks."
   ]
  },
  {
   "cell_type": "code",
   "execution_count": null,
   "metadata": {},
   "outputs": [],
   "source": [
    "plt.hist(x='tip',data=data_tips)"
   ]
  },
  {
   "cell_type": "markdown",
   "metadata": {},
   "source": [
    "### Question 10"
   ]
  },
  {
   "cell_type": "markdown",
   "metadata": {},
   "source": [
    "\n",
    "for time of the day (dinner or lunch) and day of the week."
   ]
  },
  {
   "cell_type": "code",
   "execution_count": null,
   "metadata": {
    "collapsed": true
   },
   "outputs": [],
   "source": []
  },
  {
   "cell_type": "markdown",
   "metadata": {},
   "source": [
    "### Question 11"
   ]
  },
  {
   "cell_type": "markdown",
   "metadata": {},
   "source": [
    "Display the counts (proportions) for Gender of the Bill Payer and Smoking Parties. Do the same\n",
    "for time of the day (dinner or lunch) and day of the week"
   ]
  },
  {
   "cell_type": "code",
   "execution_count": null,
   "metadata": {
    "collapsed": true
   },
   "outputs": [],
   "source": []
  },
  {
   "cell_type": "markdown",
   "metadata": {},
   "source": [
    "### Question 12"
   ]
  },
  {
   "cell_type": "markdown",
   "metadata": {},
   "source": [
    "Who pay mostly the bills ? men or women ? and when ? Try to visualise the conditional distributions\n",
    "of Sex given the day of the week, with a mosaic plot"
   ]
  },
  {
   "cell_type": "code",
   "execution_count": null,
   "metadata": {
    "collapsed": true
   },
   "outputs": [],
   "source": []
  },
  {
   "cell_type": "markdown",
   "metadata": {},
   "source": [
    "## Regression"
   ]
  },
  {
   "cell_type": "markdown",
   "metadata": {},
   "source": [
    "### Question 13"
   ]
  },
  {
   "cell_type": "markdown",
   "metadata": {},
   "source": [
    "Before starting with the regression, we will learn how to build dummy variables, which is sometimes\n",
    "useful. Create four new variables, named thu, fri, sat, sun, that take 1 if the dining party\n",
    "was held on that day, 0 otherwise. Use the function with of R and force the variable to the R factor\n",
    "type with the factor function"
   ]
  },
  {
   "cell_type": "code",
   "execution_count": null,
   "metadata": {
    "collapsed": true
   },
   "outputs": [],
   "source": []
  },
  {
   "cell_type": "markdown",
   "metadata": {},
   "source": [
    "### Question 14"
   ]
  },
  {
   "cell_type": "markdown",
   "metadata": {},
   "source": [
    "Fit a general linear model with tip rate as a response variable against all the other variables of\n",
    "interest : sex, smoker, time, size, thu, fri, sat, sun"
   ]
  },
  {
   "cell_type": "code",
   "execution_count": null,
   "metadata": {
    "collapsed": true
   },
   "outputs": [],
   "source": []
  },
  {
   "cell_type": "markdown",
   "metadata": {},
   "source": [
    "### Question 15"
   ]
  },
  {
   "cell_type": "markdown",
   "metadata": {},
   "source": [
    "Fit a model with only the size as an explanatory variable"
   ]
  },
  {
   "cell_type": "code",
   "execution_count": null,
   "metadata": {
    "collapsed": true
   },
   "outputs": [],
   "source": []
  },
  {
   "cell_type": "markdown",
   "metadata": {},
   "source": [
    "### Question 16"
   ]
  },
  {
   "cell_type": "markdown",
   "metadata": {},
   "source": [
    "Use a stepwise algorithm with the AIC statistic as a variable selection process to select a good\n",
    "model. Start from the full model of question 13. What do you remark?"
   ]
  },
  {
   "cell_type": "markdown",
   "metadata": {},
   "source": [
    "#### Home work"
   ]
  },
  {
   "cell_type": "markdown",
   "metadata": {},
   "source": [
    "Explore the notion of interaction between the Gender and the smoking habit by including\n",
    "explicitely this interaction into a model with size, sex, smoke"
   ]
  },
  {
   "cell_type": "markdown",
   "metadata": {},
   "source": [
    "### Question 17"
   ]
  },
  {
   "cell_type": "markdown",
   "metadata": {},
   "source": [
    "Check the linear relationship between the tip and the total bill, seen at question 7, with a linear\n",
    "model and interpret the quality of this model"
   ]
  },
  {
   "cell_type": "code",
   "execution_count": null,
   "metadata": {
    "collapsed": true
   },
   "outputs": [],
   "source": []
  },
  {
   "cell_type": "code",
   "execution_count": null,
   "metadata": {
    "collapsed": true
   },
   "outputs": [],
   "source": []
  }
 ],
 "metadata": {
  "kernelspec": {
   "display_name": "Python 3",
   "language": "python",
   "name": "python3"
  },
  "language_info": {
   "codemirror_mode": {
    "name": "ipython",
    "version": 3
   },
   "file_extension": ".py",
   "mimetype": "text/x-python",
   "name": "python",
   "nbconvert_exporter": "python",
   "pygments_lexer": "ipython3",
   "version": "3.6.1"
  }
 },
 "nbformat": 4,
 "nbformat_minor": 1
}
