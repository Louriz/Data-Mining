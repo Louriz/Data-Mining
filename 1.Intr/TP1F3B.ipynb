{
 "cells": [
  {
   "cell_type": "markdown",
   "metadata": {},
   "source": [
    "# Introduction to data mining with the tips dataset"
   ]
  },
  {
   "cell_type": "markdown",
   "metadata": {},
   "source": [
    "- Romain Billot \n",
    "- Yannis Haralambous \n",
    "- Philippe Lenca \n",
    "- Sorin Moga"
   ]
  },
  {
   "cell_type": "markdown",
   "metadata": {},
   "source": [
    "---\n",
    "Lab 1: Important issues illustrated from a case study\n",
    "- Data and Objective understanding\n",
    "- Descriptive statistics\n",
    "- Visualisation tools\n",
    "- Regression\n",
    "---"
   ]
  },
  {
   "cell_type": "markdown",
   "metadata": {},
   "source": [
    "## Data and objective understanding"
   ]
  },
  {
   "cell_type": "markdown",
   "metadata": {},
   "source": [
    "–The Tips dataset– Food server’s tips in restaurants may be influenced by many factors (e.g. the\n",
    "nature and location of the restaurant, the size of the party, the table location and the day of the week. . . ).\n",
    "Restaurant managers need to know which factors matter when they assign tables to food servers. Indeed,\n",
    "for the sake of staff morale, they usually want to avoid either the substance or the appearance of unfair\n",
    "treatment of the servers, for whom tips (at least in restaurants in the United States) are a major component\n",
    "of pay.\n",
    "In one restaurant, a food server recorded some data on all customers they served during an interval\n",
    "of two and a half months in early 1990. The restaurant, located in a suburban shopping mall, was part\n",
    "of a national chain and served a varied menu. In observance of local law the restaurant offered seating\n",
    "in a non-smoking section to patrons who requested it. Each record includes a day and time, and thus\n",
    "taken together, they show the server’s work schedule. The food server provided a comma-separated-value\n",
    "file tips.csv containing 244 records, described by 7 variables ( total bill, tip, sex, smoker, day, time\n",
    "and size)."
   ]
  },
  {
   "cell_type": "code",
   "execution_count": 1,
   "metadata": {
    "collapsed": true
   },
   "outputs": [],
   "source": [
    "# import useful libraries\n",
    "import pandas as pd\n",
    "import matplotlib.pyplot as plt\n",
    "%matplotlib inline\n",
    "import seaborn as sns\n",
    "import numpy as np\n",
    "import scipy as sp"
   ]
  },
  {
   "cell_type": "markdown",
   "metadata": {},
   "source": [
    "### Question 1"
   ]
  },
  {
   "cell_type": "markdown",
   "metadata": {},
   "source": [
    "What do you know from the text above and what information is missing?"
   ]
  },
  {
   "cell_type": "markdown",
   "metadata": {},
   "source": [
    "---\n",
    "We can say that our problem is about supervised learning, because we have a target function which is the tip provided bu customers to servers. The other attributes are the dependent variables(features).\n",
    "\n",
    "---"
   ]
  },
  {
   "cell_type": "markdown",
   "metadata": {},
   "source": [
    "### Question 2"
   ]
  },
  {
   "cell_type": "markdown",
   "metadata": {},
   "source": [
    "Do you have some idea about the objectives of the study and the knowledge you could extract from the data? Could you suggest a list of questions of interest?"
   ]
  },
  {
   "cell_type": "markdown",
   "metadata": {
    "collapsed": true
   },
   "source": [
    "Here we want to know the influence of total bill, sex, smoker, day, time and size on tip by finding a model that can generalise the data.  "
   ]
  },
  {
   "cell_type": "markdown",
   "metadata": {},
   "source": [
    "Some questions : \n",
    "\n",
    "    - What factors can most influence the tip value ?\n",
    "    - Which factors matter when managers assign tables to food servers ?\n",
    "  "
   ]
  },
  {
   "cell_type": "markdown",
   "metadata": {},
   "source": [
    "### Question 3"
   ]
  },
  {
   "cell_type": "markdown",
   "metadata": {},
   "source": [
    " Load the dataset and have a look at it using the describe() function. Describe the data (the format of the data, the quantity of data –number of example/ records and variable/fields–). What are the expected values and role of each variable?"
   ]
  },
  {
   "cell_type": "code",
   "execution_count": 2,
   "metadata": {
    "collapsed": false
   },
   "outputs": [
    {
     "data": {
      "text/html": [
       "<div>\n",
       "<table border=\"1\" class=\"dataframe\">\n",
       "  <thead>\n",
       "    <tr style=\"text-align: right;\">\n",
       "      <th></th>\n",
       "      <th>total_bill</th>\n",
       "      <th>tip</th>\n",
       "      <th>sex</th>\n",
       "      <th>smoker</th>\n",
       "      <th>day</th>\n",
       "      <th>time</th>\n",
       "      <th>size</th>\n",
       "    </tr>\n",
       "  </thead>\n",
       "  <tbody>\n",
       "    <tr>\n",
       "      <th>0</th>\n",
       "      <td>16.99</td>\n",
       "      <td>1.01</td>\n",
       "      <td>Female</td>\n",
       "      <td>No</td>\n",
       "      <td>Sun</td>\n",
       "      <td>Dinner</td>\n",
       "      <td>2</td>\n",
       "    </tr>\n",
       "    <tr>\n",
       "      <th>1</th>\n",
       "      <td>10.34</td>\n",
       "      <td>1.66</td>\n",
       "      <td>Male</td>\n",
       "      <td>No</td>\n",
       "      <td>Sun</td>\n",
       "      <td>Dinner</td>\n",
       "      <td>3</td>\n",
       "    </tr>\n",
       "    <tr>\n",
       "      <th>2</th>\n",
       "      <td>21.01</td>\n",
       "      <td>3.50</td>\n",
       "      <td>Male</td>\n",
       "      <td>No</td>\n",
       "      <td>Sun</td>\n",
       "      <td>Dinner</td>\n",
       "      <td>3</td>\n",
       "    </tr>\n",
       "    <tr>\n",
       "      <th>3</th>\n",
       "      <td>23.68</td>\n",
       "      <td>3.31</td>\n",
       "      <td>Male</td>\n",
       "      <td>No</td>\n",
       "      <td>Sun</td>\n",
       "      <td>Dinner</td>\n",
       "      <td>2</td>\n",
       "    </tr>\n",
       "    <tr>\n",
       "      <th>4</th>\n",
       "      <td>24.59</td>\n",
       "      <td>3.61</td>\n",
       "      <td>Female</td>\n",
       "      <td>No</td>\n",
       "      <td>Sun</td>\n",
       "      <td>Dinner</td>\n",
       "      <td>4</td>\n",
       "    </tr>\n",
       "  </tbody>\n",
       "</table>\n",
       "</div>"
      ],
      "text/plain": [
       "   total_bill   tip     sex smoker  day    time  size\n",
       "0       16.99  1.01  Female     No  Sun  Dinner     2\n",
       "1       10.34  1.66    Male     No  Sun  Dinner     3\n",
       "2       21.01  3.50    Male     No  Sun  Dinner     3\n",
       "3       23.68  3.31    Male     No  Sun  Dinner     2\n",
       "4       24.59  3.61  Female     No  Sun  Dinner     4"
      ]
     },
     "execution_count": 2,
     "metadata": {},
     "output_type": "execute_result"
    }
   ],
   "source": [
    "# the code below loads the data for you\n",
    "data_tips=pd.read_csv('tips.csv')\n",
    "# you can run the below code to see the first five observations \n",
    "data_tips.head()\n"
   ]
  },
  {
   "cell_type": "code",
   "execution_count": 3,
   "metadata": {
    "collapsed": false
   },
   "outputs": [
    {
     "data": {
      "text/plain": [
       "(pandas.core.frame.DataFrame,\n",
       " (244, 7),\n",
       " Index(['total_bill', 'tip', 'sex', 'smoker', 'day', 'time', 'size'], dtype='object'))"
      ]
     },
     "execution_count": 3,
     "metadata": {},
     "output_type": "execute_result"
    }
   ],
   "source": [
    "# this function should return a tuple of 3 values: the class of your dataset object, the shape of the datasets and the columns names\n",
    "def answer_3():\n",
    "    # write your code here:\n",
    "    # the type of the object data_tips \n",
    "    dataset_type=type(data_tips)\n",
    "    # the shape of data \n",
    "    shape=data_tips.shape\n",
    "    #variables in data\n",
    "    col_names=data_tips.columns\n",
    "   \n",
    "    return dataset_type,shape,col_names\n",
    "    \n",
    "answer_3()"
   ]
  },
  {
   "cell_type": "code",
   "execution_count": 4,
   "metadata": {
    "collapsed": true
   },
   "outputs": [],
   "source": [
    "# a description for each variable :\n",
    "# 'total_bill' : total to pay \n",
    "#'tip' : the tip value\n",
    "#'sex' : the gender of the customer\n",
    "#'smoker' :  customer smokes or not\n",
    "#'day' : 4 days ( from thursday to sunday)\n",
    "#'time' : either dinner or lunch\n",
    "#'size' : the size of the party"
   ]
  },
  {
   "cell_type": "markdown",
   "metadata": {},
   "source": [
    "### Question 4"
   ]
  },
  {
   "cell_type": "markdown",
   "metadata": {},
   "source": [
    "Tip is usually referred to by percentage points, or as a rate. This enables a normalization over the total bill and a comparison of values across other variables. The question is now to create a \"tip rate\" variable and to add it to the original dataset."
   ]
  },
  {
   "cell_type": "code",
   "execution_count": 5,
   "metadata": {
    "collapsed": false
   },
   "outputs": [
    {
     "data": {
      "text/html": [
       "<div>\n",
       "<table border=\"1\" class=\"dataframe\">\n",
       "  <thead>\n",
       "    <tr style=\"text-align: right;\">\n",
       "      <th></th>\n",
       "      <th>total_bill</th>\n",
       "      <th>tip</th>\n",
       "      <th>sex</th>\n",
       "      <th>smoker</th>\n",
       "      <th>day</th>\n",
       "      <th>time</th>\n",
       "      <th>size</th>\n",
       "      <th>tip_rate</th>\n",
       "    </tr>\n",
       "  </thead>\n",
       "  <tbody>\n",
       "    <tr>\n",
       "      <th>0</th>\n",
       "      <td>16.99</td>\n",
       "      <td>1.01</td>\n",
       "      <td>Female</td>\n",
       "      <td>No</td>\n",
       "      <td>Sun</td>\n",
       "      <td>Dinner</td>\n",
       "      <td>2</td>\n",
       "      <td>0.059447</td>\n",
       "    </tr>\n",
       "    <tr>\n",
       "      <th>1</th>\n",
       "      <td>10.34</td>\n",
       "      <td>1.66</td>\n",
       "      <td>Male</td>\n",
       "      <td>No</td>\n",
       "      <td>Sun</td>\n",
       "      <td>Dinner</td>\n",
       "      <td>3</td>\n",
       "      <td>0.160542</td>\n",
       "    </tr>\n",
       "    <tr>\n",
       "      <th>2</th>\n",
       "      <td>21.01</td>\n",
       "      <td>3.50</td>\n",
       "      <td>Male</td>\n",
       "      <td>No</td>\n",
       "      <td>Sun</td>\n",
       "      <td>Dinner</td>\n",
       "      <td>3</td>\n",
       "      <td>0.166587</td>\n",
       "    </tr>\n",
       "    <tr>\n",
       "      <th>3</th>\n",
       "      <td>23.68</td>\n",
       "      <td>3.31</td>\n",
       "      <td>Male</td>\n",
       "      <td>No</td>\n",
       "      <td>Sun</td>\n",
       "      <td>Dinner</td>\n",
       "      <td>2</td>\n",
       "      <td>0.139780</td>\n",
       "    </tr>\n",
       "    <tr>\n",
       "      <th>4</th>\n",
       "      <td>24.59</td>\n",
       "      <td>3.61</td>\n",
       "      <td>Female</td>\n",
       "      <td>No</td>\n",
       "      <td>Sun</td>\n",
       "      <td>Dinner</td>\n",
       "      <td>4</td>\n",
       "      <td>0.146808</td>\n",
       "    </tr>\n",
       "  </tbody>\n",
       "</table>\n",
       "</div>"
      ],
      "text/plain": [
       "   total_bill   tip     sex smoker  day    time  size  tip_rate\n",
       "0       16.99  1.01  Female     No  Sun  Dinner     2  0.059447\n",
       "1       10.34  1.66    Male     No  Sun  Dinner     3  0.160542\n",
       "2       21.01  3.50    Male     No  Sun  Dinner     3  0.166587\n",
       "3       23.68  3.31    Male     No  Sun  Dinner     2  0.139780\n",
       "4       24.59  3.61  Female     No  Sun  Dinner     4  0.146808"
      ]
     },
     "execution_count": 5,
     "metadata": {},
     "output_type": "execute_result"
    }
   ],
   "source": [
    "#This function should return a dataframe including the new variable tip_rate\n",
    "def answer_4():\n",
    "    # write your code here\n",
    "    data_tips['tip_rate']=data_tips['tip']/data_tips['total_bill']\n",
    "\n",
    "    return data_tips\n",
    "answer_4().head()"
   ]
  },
  {
   "cell_type": "markdown",
   "metadata": {},
   "source": [
    "##### Home work"
   ]
  },
  {
   "cell_type": "markdown",
   "metadata": {},
   "source": [
    "Explore the notion of scale of measurement. Provide a short note with meaningful definitions\n",
    "and examples. Explain why it is important to consider the right scale for each variable.\n",
    "What is the scale for each of the eight variables?"
   ]
  },
  {
   "cell_type": "markdown",
   "metadata": {},
   "source": [
    "you can visit the link below to explore the notion of scale measurement:\n",
    "http://stattrek.com/statistics/measurement-scales.aspx?Tutorial=AP"
   ]
  },
  {
   "cell_type": "markdown",
   "metadata": {},
   "source": [
    "## Descriptive statistics and visualisation"
   ]
  },
  {
   "cell_type": "markdown",
   "metadata": {},
   "source": [
    "### Question 5"
   ]
  },
  {
   "cell_type": "markdown",
   "metadata": {},
   "source": [
    "Explore univariate summaries with the describe() function."
   ]
  },
  {
   "cell_type": "code",
   "execution_count": 6,
   "metadata": {
    "collapsed": false
   },
   "outputs": [
    {
     "data": {
      "text/plain": [
       "(       total_bill         tip        size    tip_rate\n",
       " count  244.000000  244.000000  244.000000  244.000000\n",
       " mean    19.785943    2.998279    2.569672    0.160803\n",
       " std      8.902412    1.383638    0.951100    0.061072\n",
       " min      3.070000    1.000000    1.000000    0.035638\n",
       " 25%     13.347500    2.000000    2.000000    0.129127\n",
       " 50%     17.795000    2.900000    2.000000    0.154770\n",
       " 75%     24.127500    3.562500    3.000000    0.191475\n",
       " max     50.810000   10.000000    6.000000    0.710345,\n",
       "          sex smoker  day    time\n",
       " count    244    244  244     244\n",
       " unique     2      2    4       2\n",
       " top     Male     No  Sat  Dinner\n",
       " freq     157    151   87     176)"
      ]
     },
     "execution_count": 6,
     "metadata": {},
     "output_type": "execute_result"
    }
   ],
   "source": [
    "#This function should return summary about numerical and categorical features\n",
    "# use the output of answer4() for your this question\n",
    "def answer_5():\n",
    "    # write your code here:\n",
    "    num_des=answer_4().describe()\n",
    "    cate_des=answer_4().describe(include=['object'])\n",
    "    return num_des,cate_des\n",
    "answer_5()"
   ]
  },
  {
   "cell_type": "markdown",
   "metadata": {},
   "source": [
    "### Question 6"
   ]
  },
  {
   "cell_type": "markdown",
   "metadata": {},
   "source": [
    "Plot a representation of the days distribution in the dataset and comment."
   ]
  },
  {
   "cell_type": "code",
   "execution_count": 7,
   "metadata": {
    "collapsed": false
   },
   "outputs": [
    {
     "data": {
      "text/plain": [
       "<matplotlib.axes._subplots.AxesSubplot at 0x7fed0493b828>"
      ]
     },
     "execution_count": 7,
     "metadata": {},
     "output_type": "execute_result"
    },
    {
     "data": {
      "image/png": "[encoded data removed]",
      "text/plain": [
       "<matplotlib.figure.Figure at 0x7fed04923710>"
      ]
     },
     "metadata": {},
     "output_type": "display_data"
    }
   ],
   "source": [
    "# this function should return a plot of the days distribution, give a comment below your plot\n",
    "def answer_6():\n",
    "    # write your code here\n",
    "    return sns.countplot(x='day',data=data_tips)\n",
    "answer_6()     "
   ]
  },
  {
   "cell_type": "markdown",
   "metadata": {},
   "source": [
    "let your comment here:"
   ]
  },
  {
   "cell_type": "markdown",
   "metadata": {},
   "source": [
    "### Question 7"
   ]
  },
  {
   "cell_type": "markdown",
   "metadata": {},
   "source": [
    "Prepare a plot of the amount of tips against the total bill. What can you see ? Test the correlation\n",
    "between the two variables."
   ]
  },
  {
   "cell_type": "code",
   "execution_count": 8,
   "metadata": {
    "collapsed": false
   },
   "outputs": [
    {
     "data": {
      "text/plain": [
       "<matplotlib.axes._subplots.AxesSubplot at 0x7fed048ff550>"
      ]
     },
     "execution_count": 8,
     "metadata": {},
     "output_type": "execute_result"
    },
    {
     "data": {
      "image/png": "[encoded data removed]",
      "text/plain": [
       "<matplotlib.figure.Figure at 0x7fed0490f5c0>"
      ]
     },
     "metadata": {},
     "output_type": "display_data"
    }
   ],
   "source": [
    "# this function should return a plot of tips against the total_bill\n",
    "def answer_7(): \n",
    "    # write your code here\n",
    "    ax = sns.regplot(x=\"total_bill\", y=\"tip\", data=data_tips)\n",
    "    return ax\n",
    "answer_7()"
   ]
  },
  {
   "cell_type": "markdown",
   "metadata": {},
   "source": [
    "We can say that  tip correlate strongly with the total_bill. As shown above we can draw a line that can approximate the relationship between them.\n"
   ]
  },
  {
   "cell_type": "markdown",
   "metadata": {},
   "source": [
    "### Question 8"
   ]
  },
  {
   "cell_type": "markdown",
   "metadata": {},
   "source": [
    "Draw and interpret three boxplots : \n",
    "\n",
    "    1. the distribution of the total bill,\n",
    "    2. the distribution of tips;\n",
    "    3. the distributions of tips vs. days."
   ]
  },
  {
   "cell_type": "code",
   "execution_count": 9,
   "metadata": {
    "collapsed": false
   },
   "outputs": [
    {
     "data": {
      "text/plain": [
       "(<matplotlib.axes._subplots.AxesSubplot at 0x7fed0490f710>,\n",
       " <matplotlib.axes._subplots.AxesSubplot at 0x7fecfef6e7f0>,\n",
       " <matplotlib.axes._subplots.AxesSubplot at 0x7fecfef47e10>)"
      ]
     },
     "execution_count": 9,
     "metadata": {},
     "output_type": "execute_result"
    },
    {
     "data": {
      "image/png": "[encoded data removed]",
      "text/plain": [
       "<matplotlib.figure.Figure at 0x7fecff0151d0>"
      ]
     },
     "metadata": {},
     "output_type": "display_data"
    },
    {
     "data": {
      "image/png": "[encoded data removed]",
      "text/plain": [
       "<matplotlib.figure.Figure at 0x7fed0490f2b0>"
      ]
     },
     "metadata": {},
     "output_type": "display_data"
    },
    {
     "data": {
      "image/png": "[encoded data removed]",
      "text/plain": [
       "<matplotlib.figure.Figure at 0x7fecfef6e7b8>"
      ]
     },
     "metadata": {},
     "output_type": "display_data"
    }
   ],
   "source": [
    "def answer_8():\n",
    "    # write your code here\n",
    "    plt.figure()\n",
    "    boxplot_total_bill = sns.boxplot(x= 'total_bill',data=data_tips)\n",
    "    plt.figure()\n",
    "    boxplot_tip =sns.boxplot(x= 'tip',data=data_tips)\n",
    "    plt.figure()\n",
    "    boxplot_tip_vs_day = sns.boxplot(x= 'tip',y='day',data=data_tips)\n",
    "    return boxplot_total_bill,boxplot_tip,boxplot_tip_vs_day\n",
    "answer_8()"
   ]
  },
  {
   "cell_type": "code",
   "execution_count": 10,
   "metadata": {
    "collapsed": true
   },
   "outputs": [],
   "source": [
    "# to interpret:  firstly, there outliers ( black points in the boxplots) ..."
   ]
  },
  {
   "cell_type": "markdown",
   "metadata": {},
   "source": [
    "### Question 9"
   ]
  },
  {
   "cell_type": "markdown",
   "metadata": {},
   "source": [
    "Draw an histogram of tips. What can you say about the shape of the data ? Is this restaurant\n",
    "expensive ?  plot 6 histograms\n",
    "with increasing numbers of breaks."
   ]
  },
  {
   "cell_type": "code",
   "execution_count": 11,
   "metadata": {
    "collapsed": false
   },
   "outputs": [
    {
     "data": {
      "image/png": "[encoded data removed]",
      "text/plain": [
       "<matplotlib.figure.Figure at 0x7fecff019438>"
      ]
     },
     "metadata": {},
     "output_type": "display_data"
    },
    {
     "data": {
      "image/png": "[encoded data removed]",
      "text/plain": [
       "<matplotlib.figure.Figure at 0x7fecfedf4518>"
      ]
     },
     "metadata": {},
     "output_type": "display_data"
    },
    {
     "data": {
      "image/png": "[encoded data removed]",
      "text/plain": [
       "<matplotlib.figure.Figure at 0x7fecfedc8e80>"
      ]
     },
     "metadata": {},
     "output_type": "display_data"
    },
    {
     "data": {
      "image/png": "[encoded data removed]",
      "text/plain": [
       "<matplotlib.figure.Figure at 0x7fecfed41400>"
      ]
     },
     "metadata": {},
     "output_type": "display_data"
    },
    {
     "data": {
      "image/png": "[encoded data removed]",
      "text/plain": [
       "<matplotlib.figure.Figure at 0x7fecfecb2550>"
      ]
     },
     "metadata": {},
     "output_type": "display_data"
    }
   ],
   "source": [
    "def answer_9():\n",
    "    # write your code here\n",
    "    #plt.subplot(nrows=2,ncols=3)\n",
    "    for i in range(7,17,2):\n",
    "        plt.figure()\n",
    "        plt.hist(x='tip',data=data_tips,bins=i)\n",
    "        plt.title('histogram for bins='+str(i))\n",
    "answer_9()"
   ]
  },
  {
   "cell_type": "markdown",
   "metadata": {},
   "source": [
    "### Question 11"
   ]
  },
  {
   "cell_type": "markdown",
   "metadata": {},
   "source": [
    "Display the counts (proportions) for Gender of the Bill Payer and Smoking Parties. Do the same\n",
    "for time of the day (dinner or lunch) and day of the week"
   ]
  },
  {
   "cell_type": "code",
   "execution_count": 12,
   "metadata": {
    "collapsed": false
   },
   "outputs": [
    {
     "data": {
      "text/plain": [
       "(<matplotlib.axes._subplots.AxesSubplot at 0x7fecfec64208>,\n",
       " <matplotlib.axes._subplots.AxesSubplot at 0x7fecfeb28f98>)"
      ]
     },
     "execution_count": 12,
     "metadata": {},
     "output_type": "execute_result"
    },
    {
     "data": {
      "image/png": "[encoded data removed]",
      "text/plain": [
       "<matplotlib.figure.Figure at 0x7fecfeb67208>"
      ]
     },
     "metadata": {},
     "output_type": "display_data"
    },
    {
     "data": {
      "image/png": "[encoded data removed]",
      "text/plain": [
       "<matplotlib.figure.Figure at 0x7fecfeb674e0>"
      ]
     },
     "metadata": {},
     "output_type": "display_data"
    }
   ],
   "source": [
    "def answer_11():\n",
    "    # write your code here\n",
    "    ax1=pd.crosstab(data_tips.smoker,data_tips.sex).plot.barh(stacked=True)\n",
    "    ax2=pd.crosstab(data_tips.day,data_tips.time).plot.barh(stacked=True)\n",
    "\n",
    "    return ax1,ax2\n",
    "answer_11()"
   ]
  },
  {
   "cell_type": "markdown",
   "metadata": {},
   "source": [
    "### Question 12"
   ]
  },
  {
   "cell_type": "markdown",
   "metadata": {},
   "source": [
    "Who pay mostly the bills ? men or women ? and when ? Try to visualise the conditional distributions\n",
    "of Sex given the day of the week, with a mosaic plot"
   ]
  },
  {
   "cell_type": "code",
   "execution_count": 13,
   "metadata": {
    "collapsed": false
   },
   "outputs": [
    {
     "data": {
      "text/plain": [
       "(<matplotlib.figure.Figure at 0x7fed048d2048>,\n",
       " OrderedDict([(('Sun', 'Female'),\n",
       "               (0.0, 0.0, 0.3068723249616409, 0.2360552544151075)),\n",
       "              (('Sun', 'Male'),\n",
       "               (0.0,\n",
       "                0.23937751355132011,\n",
       "                0.3068723249616409,\n",
       "                0.7606224864486798)),\n",
       "              (('Sat', 'Female'),\n",
       "               (0.3117984333360252,\n",
       "                0.0,\n",
       "                0.35128805620608894,\n",
       "                0.32076984763432237)),\n",
       "              (('Sat', 'Male'),\n",
       "               (0.3117984333360252,\n",
       "                0.32409210677053502,\n",
       "                0.35128805620608894,\n",
       "                0.67590789322946487)),\n",
       "              (('Thur', 'Female'),\n",
       "               (0.6680125979164984,\n",
       "                0.0,\n",
       "                0.250343212468707,\n",
       "                0.51441431786518055)),\n",
       "              (('Thur', 'Male'),\n",
       "               (0.6680125979164984,\n",
       "                0.51773657700139308,\n",
       "                0.250343212468707,\n",
       "                0.48226342299860675)),\n",
       "              (('Fri', 'Female'),\n",
       "               (0.9232819187595896,\n",
       "                0.0,\n",
       "                0.07671808124041025,\n",
       "                0.47211050883021499)),\n",
       "              (('Fri', 'Male'),\n",
       "               (0.9232819187595896,\n",
       "                0.47543276796642764,\n",
       "                0.07671808124041025,\n",
       "                0.52456723203357236))]))"
      ]
     },
     "execution_count": 13,
     "metadata": {},
     "output_type": "execute_result"
    },
    {
     "data": {
      "image/png": "[encoded data removed]",
      "text/plain": [
       "<matplotlib.figure.Figure at 0x7fed048d2048>"
      ]
     },
     "metadata": {},
     "output_type": "display_data"
    }
   ],
   "source": [
    "from statsmodels.graphics.mosaicplot import mosaic\n",
    "def answer_12():\n",
    "    ax=mosaic(data_tips,['day','sex'])\n",
    "    \n",
    "    return ax \n",
    "\n",
    "answer_12()\n",
    "# men pay mostly and  on Sunday"
   ]
  },
  {
   "cell_type": "code",
   "execution_count": 33,
   "metadata": {
    "collapsed": false
   },
   "outputs": [],
   "source": [
    "#You can explore more nice plots  with the seaborn library: http://seaborn.pydata.org/tutorial/categorical.html"
   ]
  },
  {
   "cell_type": "code",
   "execution_count": 16,
   "metadata": {
    "collapsed": false
   },
   "outputs": [
    {
     "data": {
      "text/plain": [
       "<seaborn.axisgrid.FacetGrid at 0x7fecfe982780>"
      ]
     },
     "execution_count": 16,
     "metadata": {},
     "output_type": "execute_result"
    },
    {
     "data": {
      "image/png": "[encoded data removed]",
      "text/plain": [
       "<matplotlib.figure.Figure at 0x7fecfe92cc50>"
      ]
     },
     "metadata": {},
     "output_type": "display_data"
    }
   ],
   "source": [
    "sns.factorplot(x=\"day\", y=\"tip\", hue=\"smoker\", data=data_tips)  # estimtor is the mean among each day"
   ]
  },
  {
   "cell_type": "code",
   "execution_count": 18,
   "metadata": {
    "collapsed": false
   },
   "outputs": [
    {
     "data": {
      "text/plain": [
       "<seaborn.axisgrid.FacetGrid at 0x7fecfece71d0>"
      ]
     },
     "execution_count": 18,
     "metadata": {},
     "output_type": "execute_result"
    },
    {
     "data": {
      "image/png": "[encoded data removed]",
      "text/plain": [
       "<matplotlib.figure.Figure at 0x7fecfee2b748>"
      ]
     },
     "metadata": {},
     "output_type": "display_data"
    }
   ],
   "source": [
    "sns.factorplot(x=\"day\", y=\"total_bill\", hue=\"sex\", data=data_tips, kind=\"bar\")"
   ]
  },
  {
   "cell_type": "code",
   "execution_count": 20,
   "metadata": {
    "collapsed": true
   },
   "outputs": [],
   "source": [
    "# the plot above shows that Male pay mostly the bills, especially on Sunday"
   ]
  },
  {
   "cell_type": "markdown",
   "metadata": {},
   "source": [
    "## Regression"
   ]
  },
  {
   "cell_type": "code",
   "execution_count": 22,
   "metadata": {
    "collapsed": true
   },
   "outputs": [],
   "source": [
    "# importing statsmodels\n",
    "import statsmodels.formula.api as sm"
   ]
  },
  {
   "cell_type": "markdown",
   "metadata": {},
   "source": [
    "### Question 13"
   ]
  },
  {
   "cell_type": "markdown",
   "metadata": {},
   "source": [
    "Before starting with the regression, we will learn how to build dummy variables, which is sometimes\n",
    "useful. Create four new variables, named day_Thur, day_Fri, day_Sat, day_Sun, that take 1 if the dining party\n",
    "was held on that day, 0 otherwise."
   ]
  },
  {
   "cell_type": "code",
   "execution_count": 27,
   "metadata": {
    "collapsed": false
   },
   "outputs": [
    {
     "data": {
      "text/html": [
       "<div>\n",
       "<table border=\"1\" class=\"dataframe\">\n",
       "  <thead>\n",
       "    <tr style=\"text-align: right;\">\n",
       "      <th></th>\n",
       "      <th>total_bill</th>\n",
       "      <th>tip</th>\n",
       "      <th>sex</th>\n",
       "      <th>smoker</th>\n",
       "      <th>time</th>\n",
       "      <th>size</th>\n",
       "      <th>tip_rate</th>\n",
       "      <th>day_Fri</th>\n",
       "      <th>day_Sat</th>\n",
       "      <th>day_Sun</th>\n",
       "      <th>day_Thur</th>\n",
       "    </tr>\n",
       "  </thead>\n",
       "  <tbody>\n",
       "    <tr>\n",
       "      <th>0</th>\n",
       "      <td>16.99</td>\n",
       "      <td>1.01</td>\n",
       "      <td>Female</td>\n",
       "      <td>No</td>\n",
       "      <td>Dinner</td>\n",
       "      <td>2</td>\n",
       "      <td>0.059447</td>\n",
       "      <td>0</td>\n",
       "      <td>0</td>\n",
       "      <td>1</td>\n",
       "      <td>0</td>\n",
       "    </tr>\n",
       "    <tr>\n",
       "      <th>1</th>\n",
       "      <td>10.34</td>\n",
       "      <td>1.66</td>\n",
       "      <td>Male</td>\n",
       "      <td>No</td>\n",
       "      <td>Dinner</td>\n",
       "      <td>3</td>\n",
       "      <td>0.160542</td>\n",
       "      <td>0</td>\n",
       "      <td>0</td>\n",
       "      <td>1</td>\n",
       "      <td>0</td>\n",
       "    </tr>\n",
       "  </tbody>\n",
       "</table>\n",
       "</div>"
      ],
      "text/plain": [
       "   total_bill   tip     sex smoker    time  size  tip_rate  day_Fri  day_Sat  \\\n",
       "0       16.99  1.01  Female     No  Dinner     2  0.059447        0        0   \n",
       "1       10.34  1.66    Male     No  Dinner     3  0.160542        0        0   \n",
       "\n",
       "   day_Sun  day_Thur  \n",
       "0        1         0  \n",
       "1        1         0  "
      ]
     },
     "execution_count": 27,
     "metadata": {},
     "output_type": "execute_result"
    }
   ],
   "source": [
    "#this function should return a dataframe including the dummies for 'day'\n",
    "def answer_13():\n",
    "    # write your code here:\n",
    "    data_tips=answer_4()\n",
    "    return pd.get_dummies(data_tips,columns=['day'])\n",
    "answer_13().head(2)\n"
   ]
  },
  {
   "cell_type": "markdown",
   "metadata": {},
   "source": [
    "### Question 14"
   ]
  },
  {
   "cell_type": "markdown",
   "metadata": {},
   "source": [
    "Fit a general linear model with tip rate as a response variable against all the other variables of\n",
    "interest : sex, smoker, time, size, day_Thur, day_Fri, day_Sat, day_Sun"
   ]
  },
  {
   "cell_type": "code",
   "execution_count": 30,
   "metadata": {
    "collapsed": false
   },
   "outputs": [
    {
     "data": {
      "text/html": [
       "<table class=\"simpletable\">\n",
       "<caption>OLS Regression Results</caption>\n",
       "<tr>\n",
       "  <th>Dep. Variable:</th>    <td>answer_13().tip_rate</td> <th>  R-squared:         </th> <td>   0.042</td>\n",
       "</tr>\n",
       "<tr>\n",
       "  <th>Model:</th>                     <td>OLS</td>         <th>  Adj. R-squared:    </th> <td>   0.014</td>\n",
       "</tr>\n",
       "<tr>\n",
       "  <th>Method:</th>               <td>Least Squares</td>    <th>  F-statistic:       </th> <td>   1.479</td>\n",
       "</tr>\n",
       "<tr>\n",
       "  <th>Date:</th>               <td>Tue, 18 Jul 2017</td>   <th>  Prob (F-statistic):</th>  <td> 0.175</td> \n",
       "</tr>\n",
       "<tr>\n",
       "  <th>Time:</th>                   <td>13:44:42</td>       <th>  Log-Likelihood:    </th> <td>  341.67</td>\n",
       "</tr>\n",
       "<tr>\n",
       "  <th>No. Observations:</th>        <td>   244</td>        <th>  AIC:               </th> <td>  -667.3</td>\n",
       "</tr>\n",
       "<tr>\n",
       "  <th>Df Residuals:</th>            <td>   236</td>        <th>  BIC:               </th> <td>  -639.4</td>\n",
       "</tr>\n",
       "<tr>\n",
       "  <th>Df Model:</th>                <td>     7</td>        <th>                     </th>     <td> </td>   \n",
       "</tr>\n",
       "<tr>\n",
       "  <th>Covariance Type:</th>        <td>nonrobust</td>      <th>                     </th>     <td> </td>   \n",
       "</tr>\n",
       "</table>\n",
       "<table class=\"simpletable\">\n",
       "<tr>\n",
       "              <td></td>                 <th>coef</th>     <th>std err</th>      <th>t</th>      <th>P>|t|</th> <th>[95.0% Conf. Int.]</th> \n",
       "</tr>\n",
       "<tr>\n",
       "  <th>Intercept</th>                 <td>    0.1459</td> <td>    0.013</td> <td>   11.554</td> <td> 0.000</td> <td>    0.121     0.171</td>\n",
       "</tr>\n",
       "<tr>\n",
       "  <th>answer_13().sex[T.Male]</th>   <td>   -0.0085</td> <td>    0.008</td> <td>   -1.023</td> <td> 0.307</td> <td>   -0.025     0.008</td>\n",
       "</tr>\n",
       "<tr>\n",
       "  <th>answer_13().smoker[T.Yes]</th> <td>    0.0036</td> <td>    0.008</td> <td>    0.428</td> <td> 0.669</td> <td>   -0.013     0.020</td>\n",
       "</tr>\n",
       "<tr>\n",
       "  <th>answer_13().time[T.Lunch]</th> <td>    0.0234</td> <td>    0.026</td> <td>    0.895</td> <td> 0.372</td> <td>   -0.028     0.075</td>\n",
       "</tr>\n",
       "<tr>\n",
       "  <th>answer_13()['size']</th>       <td>   -0.0096</td> <td>    0.004</td> <td>   -2.282</td> <td> 0.023</td> <td>   -0.018    -0.001</td>\n",
       "</tr>\n",
       "<tr>\n",
       "  <th>answer_13().day_Fri</th>       <td>    0.0373</td> <td>    0.012</td> <td>    3.049</td> <td> 0.003</td> <td>    0.013     0.061</td>\n",
       "</tr>\n",
       "<tr>\n",
       "  <th>answer_13().day_Thur</th>      <td>    0.0191</td> <td>    0.020</td> <td>    0.953</td> <td> 0.341</td> <td>   -0.020     0.059</td>\n",
       "</tr>\n",
       "<tr>\n",
       "  <th>answer_13().day_Sun</th>       <td>    0.0540</td> <td>    0.010</td> <td>    5.160</td> <td> 0.000</td> <td>    0.033     0.075</td>\n",
       "</tr>\n",
       "<tr>\n",
       "  <th>answer_13().day_Sat</th>       <td>    0.0355</td> <td>    0.010</td> <td>    3.590</td> <td> 0.000</td> <td>    0.016     0.055</td>\n",
       "</tr>\n",
       "</table>\n",
       "<table class=\"simpletable\">\n",
       "<tr>\n",
       "  <th>Omnibus:</th>       <td>214.408</td> <th>  Durbin-Watson:     </th> <td>   2.098</td>\n",
       "</tr>\n",
       "<tr>\n",
       "  <th>Prob(Omnibus):</th> <td> 0.000</td>  <th>  Jarque-Bera (JB):  </th> <td>7088.439</td>\n",
       "</tr>\n",
       "<tr>\n",
       "  <th>Skew:</th>          <td> 3.189</td>  <th>  Prob(JB):          </th> <td>    0.00</td>\n",
       "</tr>\n",
       "<tr>\n",
       "  <th>Kurtosis:</th>      <td>28.623</td>  <th>  Cond. No.          </th> <td>8.72e+15</td>\n",
       "</tr>\n",
       "</table>"
      ],
      "text/plain": [
       "<class 'statsmodels.iolib.summary.Summary'>\n",
       "\"\"\"\n",
       "                             OLS Regression Results                             \n",
       "================================================================================\n",
       "Dep. Variable:     answer_13().tip_rate   R-squared:                       0.042\n",
       "Model:                              OLS   Adj. R-squared:                  0.014\n",
       "Method:                   Least Squares   F-statistic:                     1.479\n",
       "Date:                  Tue, 18 Jul 2017   Prob (F-statistic):              0.175\n",
       "Time:                          13:44:42   Log-Likelihood:                 341.67\n",
       "No. Observations:                   244   AIC:                            -667.3\n",
       "Df Residuals:                       236   BIC:                            -639.4\n",
       "Df Model:                             7                                         \n",
       "Covariance Type:              nonrobust                                         \n",
       "=============================================================================================\n",
       "                                coef    std err          t      P>|t|      [95.0% Conf. Int.]\n",
       "---------------------------------------------------------------------------------------------\n",
       "Intercept                     0.1459      0.013     11.554      0.000         0.121     0.171\n",
       "answer_13().sex[T.Male]      -0.0085      0.008     -1.023      0.307        -0.025     0.008\n",
       "answer_13().smoker[T.Yes]     0.0036      0.008      0.428      0.669        -0.013     0.020\n",
       "answer_13().time[T.Lunch]     0.0234      0.026      0.895      0.372        -0.028     0.075\n",
       "answer_13()['size']          -0.0096      0.004     -2.282      0.023        -0.018    -0.001\n",
       "answer_13().day_Fri           0.0373      0.012      3.049      0.003         0.013     0.061\n",
       "answer_13().day_Thur          0.0191      0.020      0.953      0.341        -0.020     0.059\n",
       "answer_13().day_Sun           0.0540      0.010      5.160      0.000         0.033     0.075\n",
       "answer_13().day_Sat           0.0355      0.010      3.590      0.000         0.016     0.055\n",
       "==============================================================================\n",
       "Omnibus:                      214.408   Durbin-Watson:                   2.098\n",
       "Prob(Omnibus):                  0.000   Jarque-Bera (JB):             7088.439\n",
       "Skew:                           3.189   Prob(JB):                         0.00\n",
       "Kurtosis:                      28.623   Cond. No.                     8.72e+15\n",
       "==============================================================================\n",
       "\n",
       "Warnings:\n",
       "[1] Standard Errors assume that the covariance matrix of the errors is correctly specified.\n",
       "[2] The smallest eigenvalue is 2.97e-29. This might indicate that there are\n",
       "strong multicollinearity problems or that the design matrix is singular.\n",
       "\"\"\""
      ]
     },
     "execution_count": 30,
     "metadata": {},
     "output_type": "execute_result"
    }
   ],
   "source": [
    "# this function should fit a general model respecting the requirements and return a summary about that model\n",
    "#( use :  your_model.summary())\n",
    "def answer_14():\n",
    "    answer_13()\n",
    "    model=sm.ols(formula=\"answer_13().tip_rate~answer_13().sex + answer_13().smoker +answer_13().time + answer_13()['size'] + answer_13().day_Fri + answer_13().day_Thur + answer_13().day_Sun + answer_13().day_Sat \",data=answer_13()).fit()\n",
    "    return model.summary()\n",
    "answer_14()\n"
   ]
  },
  {
   "cell_type": "markdown",
   "metadata": {},
   "source": [
    "### Question 15"
   ]
  },
  {
   "cell_type": "markdown",
   "metadata": {},
   "source": [
    "Fit a model with only the size as an explanatory variable"
   ]
  },
  {
   "cell_type": "code",
   "execution_count": 32,
   "metadata": {
    "collapsed": false
   },
   "outputs": [
    {
     "data": {
      "text/html": [
       "<table class=\"simpletable\">\n",
       "<caption>OLS Regression Results</caption>\n",
       "<tr>\n",
       "  <th>Dep. Variable:</th>    <td>data_tips.tip_rate</td> <th>  R-squared:         </th> <td>   0.020</td>\n",
       "</tr>\n",
       "<tr>\n",
       "  <th>Model:</th>                    <td>OLS</td>        <th>  Adj. R-squared:    </th> <td>   0.016</td>\n",
       "</tr>\n",
       "<tr>\n",
       "  <th>Method:</th>              <td>Least Squares</td>   <th>  F-statistic:       </th> <td>   5.042</td>\n",
       "</tr>\n",
       "<tr>\n",
       "  <th>Date:</th>              <td>Tue, 18 Jul 2017</td>  <th>  Prob (F-statistic):</th>  <td>0.0256</td> \n",
       "</tr>\n",
       "<tr>\n",
       "  <th>Time:</th>                  <td>13:47:08</td>      <th>  Log-Likelihood:    </th> <td>  338.95</td>\n",
       "</tr>\n",
       "<tr>\n",
       "  <th>No. Observations:</th>       <td>   244</td>       <th>  AIC:               </th> <td>  -673.9</td>\n",
       "</tr>\n",
       "<tr>\n",
       "  <th>Df Residuals:</th>           <td>   242</td>       <th>  BIC:               </th> <td>  -666.9</td>\n",
       "</tr>\n",
       "<tr>\n",
       "  <th>Df Model:</th>               <td>     1</td>       <th>                     </th>     <td> </td>   \n",
       "</tr>\n",
       "<tr>\n",
       "  <th>Covariance Type:</th>       <td>nonrobust</td>     <th>                     </th>     <td> </td>   \n",
       "</tr>\n",
       "</table>\n",
       "<table class=\"simpletable\">\n",
       "<tr>\n",
       "          <td></td>             <th>coef</th>     <th>std err</th>      <th>t</th>      <th>P>|t|</th> <th>[95.0% Conf. Int.]</th> \n",
       "</tr>\n",
       "<tr>\n",
       "  <th>Intercept</th>         <td>    0.1844</td> <td>    0.011</td> <td>   16.475</td> <td> 0.000</td> <td>    0.162     0.206</td>\n",
       "</tr>\n",
       "<tr>\n",
       "  <th>data_tips['size']</th> <td>   -0.0092</td> <td>    0.004</td> <td>   -2.245</td> <td> 0.026</td> <td>   -0.017    -0.001</td>\n",
       "</tr>\n",
       "</table>\n",
       "<table class=\"simpletable\">\n",
       "<tr>\n",
       "  <th>Omnibus:</th>       <td>220.122</td> <th>  Durbin-Watson:     </th> <td>   2.096</td>\n",
       "</tr>\n",
       "<tr>\n",
       "  <th>Prob(Omnibus):</th> <td> 0.000</td>  <th>  Jarque-Bera (JB):  </th> <td>7618.220</td>\n",
       "</tr>\n",
       "<tr>\n",
       "  <th>Skew:</th>          <td> 3.308</td>  <th>  Prob(JB):          </th> <td>    0.00</td>\n",
       "</tr>\n",
       "<tr>\n",
       "  <th>Kurtosis:</th>      <td>29.562</td>  <th>  Cond. No.          </th> <td>    8.85</td>\n",
       "</tr>\n",
       "</table>"
      ],
      "text/plain": [
       "<class 'statsmodels.iolib.summary.Summary'>\n",
       "\"\"\"\n",
       "                            OLS Regression Results                            \n",
       "==============================================================================\n",
       "Dep. Variable:     data_tips.tip_rate   R-squared:                       0.020\n",
       "Model:                            OLS   Adj. R-squared:                  0.016\n",
       "Method:                 Least Squares   F-statistic:                     5.042\n",
       "Date:                Tue, 18 Jul 2017   Prob (F-statistic):             0.0256\n",
       "Time:                        13:47:08   Log-Likelihood:                 338.95\n",
       "No. Observations:                 244   AIC:                            -673.9\n",
       "Df Residuals:                     242   BIC:                            -666.9\n",
       "Df Model:                           1                                         \n",
       "Covariance Type:            nonrobust                                         \n",
       "=====================================================================================\n",
       "                        coef    std err          t      P>|t|      [95.0% Conf. Int.]\n",
       "-------------------------------------------------------------------------------------\n",
       "Intercept             0.1844      0.011     16.475      0.000         0.162     0.206\n",
       "data_tips['size']    -0.0092      0.004     -2.245      0.026        -0.017    -0.001\n",
       "==============================================================================\n",
       "Omnibus:                      220.122   Durbin-Watson:                   2.096\n",
       "Prob(Omnibus):                  0.000   Jarque-Bera (JB):             7618.220\n",
       "Skew:                           3.308   Prob(JB):                         0.00\n",
       "Kurtosis:                      29.562   Cond. No.                         8.85\n",
       "==============================================================================\n",
       "\n",
       "Warnings:\n",
       "[1] Standard Errors assume that the covariance matrix of the errors is correctly specified.\n",
       "\"\"\""
      ]
     },
     "execution_count": 32,
     "metadata": {},
     "output_type": "execute_result"
    }
   ],
   "source": [
    "def answer_15():\n",
    "    #write your code here\n",
    "    data_tips=answer_13()\n",
    "    model=sm.ols(formula=\"data_tips.tip_rate~data_tips['size']\",data=data_tips).fit()    \n",
    "    return model.summary()\n",
    "\n",
    "answer_15()"
   ]
  },
  {
   "cell_type": "markdown",
   "metadata": {},
   "source": [
    "### Question 16"
   ]
  },
  {
   "cell_type": "markdown",
   "metadata": {},
   "source": [
    "Use a stepwise algorithm with the AIC statistic as a variable selection process to select a good\n",
    "model. Start from the full model of question 13. What do you remark?"
   ]
  },
  {
   "cell_type": "code",
   "execution_count": 34,
   "metadata": {
    "collapsed": true
   },
   "outputs": [],
   "source": [
    "# this function is provided since there is no specific method for aicstatistic in python\n",
    "# the source code was taken from : http://planspace.org/20150423-forward_selection_with_statsmodels/\n",
    "import statsmodels.formula.api as smf\n",
    "\n",
    "def forward_selected(data, response):\n",
    "    \"\"\"Linear model designed by forward selection.\n",
    "\n",
    "    Parameters:\n",
    "    -----------\n",
    "    data : pandas DataFrame with all possible predictors and response\n",
    "\n",
    "    response: string, name of response column in data\n",
    "\n",
    "    Returns:\n",
    "    --------\n",
    "    model: an \"optimal\" fitted statsmodels linear model\n",
    "           with an intercept\n",
    "           selected by forward selection\n",
    "           evaluated by adjusted R-squared\n",
    "    \"\"\"\n",
    "    remaining = set(data.columns)\n",
    "    remaining.remove(response)\n",
    "    selected = []\n",
    "    current_score, best_new_score = 0.0, 0.0\n",
    "    while remaining and current_score == best_new_score:\n",
    "        scores_with_candidates = []\n",
    "        for candidate in remaining:\n",
    "            formula = \"{} ~ {} \".format(response,\n",
    "                                           ' + '.join(selected + [candidate]))\n",
    "            score = smf.ols(formula, data).fit().rsquared_adj\n",
    "            scores_with_candidates.append((score, candidate))\n",
    "        scores_with_candidates.sort()\n",
    "        best_new_score, best_candidate = scores_with_candidates.pop()\n",
    "        if current_score < best_new_score:\n",
    "            remaining.remove(best_candidate)\n",
    "            selected.append(best_candidate)\n",
    "            current_score = best_new_score\n",
    "    formula = \"{} ~ {} \".format(response,\n",
    "                                   ' + '.join(selected))\n",
    "    model = smf.ols(formula, data).fit()\n",
    "    return model"
   ]
  },
  {
   "cell_type": "code",
   "execution_count": 35,
   "metadata": {
    "collapsed": false
   },
   "outputs": [
    {
     "data": {
      "text/plain": [
       "('tip_rate ~ size + day_Sat ', 0.022243088905636199)"
      ]
     },
     "execution_count": 35,
     "metadata": {},
     "output_type": "execute_result"
    }
   ],
   "source": [
    "def answer_16():\n",
    "    data=answer_13().iloc[:,2:10]\n",
    "    model = forward_selected(data, 'tip_rate')\n",
    "    return  model.model.formula ,model.rsquared_adj\n",
    "answer_16()"
   ]
  },
  {
   "cell_type": "markdown",
   "metadata": {},
   "source": [
    "#### Home work"
   ]
  },
  {
   "cell_type": "markdown",
   "metadata": {},
   "source": [
    "Explore the notion of interaction between the Gender and the smoking habit by including\n",
    "explicitely this interaction into a model with size, sex, smoke"
   ]
  },
  {
   "cell_type": "markdown",
   "metadata": {},
   "source": [
    "### Question 17"
   ]
  },
  {
   "cell_type": "markdown",
   "metadata": {},
   "source": [
    "Check the linear relationship between the tip and the total bill, seen at question 7, with a linear\n",
    "model and interpret the quality of this model"
   ]
  },
  {
   "cell_type": "code",
   "execution_count": 37,
   "metadata": {
    "collapsed": false
   },
   "outputs": [
    {
     "data": {
      "text/html": [
       "<table class=\"simpletable\">\n",
       "<caption>OLS Regression Results</caption>\n",
       "<tr>\n",
       "  <th>Dep. Variable:</th>    <td>data_tips.tip_rate</td> <th>  R-squared:         </th> <td>   0.115</td>\n",
       "</tr>\n",
       "<tr>\n",
       "  <th>Model:</th>                    <td>OLS</td>        <th>  Adj. R-squared:    </th> <td>   0.111</td>\n",
       "</tr>\n",
       "<tr>\n",
       "  <th>Method:</th>              <td>Least Squares</td>   <th>  F-statistic:       </th> <td>   31.34</td>\n",
       "</tr>\n",
       "<tr>\n",
       "  <th>Date:</th>              <td>Tue, 18 Jul 2017</td>  <th>  Prob (F-statistic):</th> <td>5.85e-08</td>\n",
       "</tr>\n",
       "<tr>\n",
       "  <th>Time:</th>                  <td>13:54:37</td>      <th>  Log-Likelihood:    </th> <td>  351.29</td>\n",
       "</tr>\n",
       "<tr>\n",
       "  <th>No. Observations:</th>       <td>   244</td>       <th>  AIC:               </th> <td>  -698.6</td>\n",
       "</tr>\n",
       "<tr>\n",
       "  <th>Df Residuals:</th>           <td>   242</td>       <th>  BIC:               </th> <td>  -691.6</td>\n",
       "</tr>\n",
       "<tr>\n",
       "  <th>Df Model:</th>               <td>     1</td>       <th>                     </th>     <td> </td>   \n",
       "</tr>\n",
       "<tr>\n",
       "  <th>Covariance Type:</th>       <td>nonrobust</td>     <th>                     </th>     <td> </td>   \n",
       "</tr>\n",
       "</table>\n",
       "<table class=\"simpletable\">\n",
       "<tr>\n",
       "            <td></td>              <th>coef</th>     <th>std err</th>      <th>t</th>      <th>P>|t|</th> <th>[95.0% Conf. Int.]</th> \n",
       "</tr>\n",
       "<tr>\n",
       "  <th>Intercept</th>            <td>    0.2068</td> <td>    0.009</td> <td>   22.975</td> <td> 0.000</td> <td>    0.189     0.224</td>\n",
       "</tr>\n",
       "<tr>\n",
       "  <th>data_tips.total_bill</th> <td>   -0.0023</td> <td>    0.000</td> <td>   -5.599</td> <td> 0.000</td> <td>   -0.003    -0.002</td>\n",
       "</tr>\n",
       "</table>\n",
       "<table class=\"simpletable\">\n",
       "<tr>\n",
       "  <th>Omnibus:</th>       <td>224.802</td> <th>  Durbin-Watson:     </th> <td>   2.020</td>\n",
       "</tr>\n",
       "<tr>\n",
       "  <th>Prob(Omnibus):</th> <td> 0.000</td>  <th>  Jarque-Bera (JB):  </th> <td>7863.442</td>\n",
       "</tr>\n",
       "<tr>\n",
       "  <th>Skew:</th>          <td> 3.420</td>  <th>  Prob(JB):          </th> <td>    0.00</td>\n",
       "</tr>\n",
       "<tr>\n",
       "  <th>Kurtosis:</th>      <td>29.957</td>  <th>  Cond. No.          </th> <td>    53.0</td>\n",
       "</tr>\n",
       "</table>"
      ],
      "text/plain": [
       "<class 'statsmodels.iolib.summary.Summary'>\n",
       "\"\"\"\n",
       "                            OLS Regression Results                            \n",
       "==============================================================================\n",
       "Dep. Variable:     data_tips.tip_rate   R-squared:                       0.115\n",
       "Model:                            OLS   Adj. R-squared:                  0.111\n",
       "Method:                 Least Squares   F-statistic:                     31.34\n",
       "Date:                Tue, 18 Jul 2017   Prob (F-statistic):           5.85e-08\n",
       "Time:                        13:54:37   Log-Likelihood:                 351.29\n",
       "No. Observations:                 244   AIC:                            -698.6\n",
       "Df Residuals:                     242   BIC:                            -691.6\n",
       "Df Model:                           1                                         \n",
       "Covariance Type:            nonrobust                                         \n",
       "========================================================================================\n",
       "                           coef    std err          t      P>|t|      [95.0% Conf. Int.]\n",
       "----------------------------------------------------------------------------------------\n",
       "Intercept                0.2068      0.009     22.975      0.000         0.189     0.224\n",
       "data_tips.total_bill    -0.0023      0.000     -5.599      0.000        -0.003    -0.002\n",
       "==============================================================================\n",
       "Omnibus:                      224.802   Durbin-Watson:                   2.020\n",
       "Prob(Omnibus):                  0.000   Jarque-Bera (JB):             7863.442\n",
       "Skew:                           3.420   Prob(JB):                         0.00\n",
       "Kurtosis:                      29.957   Cond. No.                         53.0\n",
       "==============================================================================\n",
       "\n",
       "Warnings:\n",
       "[1] Standard Errors assume that the covariance matrix of the errors is correctly specified.\n",
       "\"\"\""
      ]
     },
     "execution_count": 37,
     "metadata": {},
     "output_type": "execute_result"
    }
   ],
   "source": [
    "\n",
    "def answer_17():\n",
    "    # write your code here\n",
    "    model=sm.ols(formula=\"data_tips.tip_rate~data_tips.total_bill\",data=data_tips).fit()\n",
    "    return model.summary()\n",
    "answer_17()"
   ]
  },
  {
   "cell_type": "code",
   "execution_count": null,
   "metadata": {
    "collapsed": true
   },
   "outputs": [],
   "source": []
  }
 ],
 "metadata": {
  "kernelspec": {
   "display_name": "Python 3",
   "language": "python",
   "name": "python3"
  },
  "language_info": {
   "codemirror_mode": {
    "name": "ipython",
    "version": 3
   },
   "file_extension": ".py",
   "mimetype": "text/x-python",
   "name": "python",
   "nbconvert_exporter": "python",
   "pygments_lexer": "ipython3",
   "version": "3.5.2"
  }
 },
 "nbformat": 4,
 "nbformat_minor": 1
}
