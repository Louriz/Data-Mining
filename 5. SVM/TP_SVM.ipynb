{
 "cells": [
  {
   "cell_type": "markdown",
   "metadata": {},
   "source": [
    "<img src=\"IMT.jpg\" alt=\"Drawing\" style=\"width: 200px;\"/>"
   ]
  },
  {
   "cell_type": "markdown",
   "metadata": {},
   "source": [
    "# UVF3B403 MS IABDA"
   ]
  },
  {
   "cell_type": "markdown",
   "metadata": {},
   "source": [
    "## TP sur les SVM"
   ]
  },
  {
   "cell_type": "markdown",
   "metadata": {},
   "source": [
    "### Yannis Haralambous (Télécom Bretagne)"
   ]
  },
  {
   "cell_type": "markdown",
   "metadata": {},
   "source": [
    "<b>Dans ce TP nous allons d’abord décortiquer un exemple élémentaire de SVM et puis voir quelques\n",
    "exemples d’utilisation de SVM sous Python. Les packages utilisés seront scikit-learn (et ses souspackages\n",
    "svm et datasets), numpy et matplotlib.</b>"
   ]
  },
  {
   "cell_type": "code",
   "execution_count": 1,
   "metadata": {
    "collapsed": false
   },
   "outputs": [
    {
     "name": "stderr",
     "output_type": "stream",
     "text": [
      "/opt/conda/lib/python3.5/site-packages/sklearn/cross_validation.py:44: DeprecationWarning: This module was deprecated in version 0.18 in favor of the model_selection module into which all the refactored classes and functions are moved. Also note that the interface of the new CV iterators are different from that of this module. This module will be removed in 0.20.\n",
      "  \"This module will be removed in 0.20.\", DeprecationWarning)\n"
     ]
    }
   ],
   "source": [
    "# import needed libraries\n",
    "import numpy  as np\n",
    "from sklearn.preprocessing import MinMaxScaler\n",
    "import pandas as pd\n",
    "import matplotlib.pyplot as plt\n",
    "from matplotlib import style\n",
    "from sklearn import svm\n",
    "from sklearn import datasets\n",
    "from sklearn.model_selection import train_test_split\n",
    "from sklearn.metrics import precision_recall_fscore_support\n",
    "from sklearn.cross_validation import KFold"
   ]
  },
  {
   "cell_type": "markdown",
   "metadata": {},
   "source": [
    "## 1 Un SVM élémentaire"
   ]
  },
  {
   "cell_type": "markdown",
   "metadata": {},
   "source": [
    "Prenons dans le plan euclidien R*R les individus (1; 1), (1; 5), (5; 1) et (5; 5), associés aux classes\n",
    "-1; 1; 1; 1."
   ]
  },
  {
   "cell_type": "markdown",
   "metadata": {},
   "source": [
    "### 1 Calculer manuellement le vecteur (a; b) ainsi que la valeur de c de la droite qui sera le séparateur optimal."
   ]
  },
  {
   "cell_type": "code",
   "execution_count": null,
   "metadata": {
    "collapsed": true
   },
   "outputs": [],
   "source": [
    "## 1. determine support vectors by inspecting data\n",
    "## 2. determine alpha(i): resolve a linear system ( add 1 to every vector as a new coordinate so that the final result include \n",
    "     # orthogonal vector and the intercept)\n",
    "## 3. determine w= sum(alhp(i)times s(i))"
   ]
  },
  {
   "cell_type": "markdown",
   "metadata": {},
   "source": [
    "### 2 Implémenter (bien comprendre le code) :"
   ]
  },
  {
   "cell_type": "code",
   "execution_count": 2,
   "metadata": {
    "collapsed": false
   },
   "outputs": [
    {
     "name": "stdout",
     "output_type": "stream",
     "text": [
      "[[ 1.  1.]\n",
      " [ 1.  5.]\n",
      " [ 5.  1.]]\n",
      "[1 2]\n",
      "-1.99886067708\n",
      "[ 0.49975586  0.49975586]\n",
      "y= -1.0 * x+ 3.99967432014\n"
     ]
    },
    {
     "data": {
      "image/png": "[encoded data removed]",
      "text/plain": [
       "<matplotlib.figure.Figure at 0x7fc403c1e1d0>"
      ]
     },
     "metadata": {},
     "output_type": "display_data"
    }
   ],
   "source": [
    "style.use(\"ggplot\")\n",
    "X = np.array([[1, 1], [1, 5], [5, 1], [5, 5]]) # create a np  array for our data\n",
    "y = [-1,1,1,1] # put label for each data point\n",
    "clf = svm.SVC(kernel='linear')  # initialize our classifier, we will use SVM with the linear kernel\n",
    "clf.fit(X, y)  # fit the data : X is data( we have 2 features (R*R), y is the target function\n",
    "\n",
    "\n",
    "print (clf.support_vectors_)  # print the support vectors.By inspection, obviously we can see that [1, 1][1, 5][5, 1] are sup vec  \n",
    "print (clf.n_support_)  #count support vectors for each class. we have one sup vec for class \"-1\" and the rest for \"+1\"==>(1,2)\n",
    "print( clf.intercept_[0])  # c\n",
    "w = clf.coef_[0]  # the orthogonal vector (a,b)\n",
    "print(w)\n",
    "a = -w[0] / w[1] # y=ax+b : a=-w[0] / w[1], b= - clf.intercept_[0] / w[1]\n",
    "b= - clf.intercept_[0] / w[1]\n",
    "print( \"y=\",a,\"* x+\",b)\n",
    "\n",
    "\n",
    "xx = np.linspace(0,6)\n",
    "yy = a * xx + b\n",
    "plt.plot(xx, yy, 'k-', label=\"non weighted div\")\n",
    "plt.scatter(X[:, 0], X[:, 1], c = y)\n",
    "plt.legend()\n",
    "plt.show()"
   ]
  },
  {
   "cell_type": "markdown",
   "metadata": {},
   "source": [
    "## 2 Quelques exemples d’applications"
   ]
  },
  {
   "cell_type": "markdown",
   "metadata": {},
   "source": [
    "On a le choix entre quatre noyaux (option Kernel de SVC) :\n"
   ]
  },
  {
   "cell_type": "markdown",
   "metadata": {},
   "source": [
    "<i>Linèaire linear</i>$$k(x,y)= <x,y>$$"
   ]
  },
  {
   "cell_type": "markdown",
   "metadata": {},
   "source": [
    "<i> polynomial pol </i>$$k(x,y)=(\\gamma .<x,y>+ r)^d$$"
   ]
  },
  {
   "cell_type": "markdown",
   "metadata": {},
   "source": [
    "<i> radial rbf </i> $$ k(x,y)= exp(-\\gamma ||x-y||) $$"
   ]
  },
  {
   "cell_type": "markdown",
   "metadata": {},
   "source": [
    "<i> sigmoîd sigmoid</i> $$ k(x,y)= \\tanh (\\gamma <x,y>)$$"
   ]
  },
  {
   "cell_type": "markdown",
   "metadata": {},
   "source": [
    "Les paramètres gamma , d et r s’écrivent gamma, degree et coef0 resp. Le paramètre de coût C (vu en cours)\n",
    "s’écrit cost."
   ]
  },
  {
   "cell_type": "markdown",
   "metadata": {},
   "source": [
    "### 2.1 Iris"
   ]
  },
  {
   "cell_type": "markdown",
   "metadata": {},
   "source": [
    "Nous allons commencer par les illustres données « iris » de Fischer : la taille en centimètre des pétales et\n",
    "autres parties que je ne saurais nommer de certaines fleurs. Pour chaque individu on a 4 infos numériques \n",
    "et la classe. Les classes sont Iris setosa, Iris versicolor et Iris virginica. On a 150 individus et les classes\n",
    "sont équidistribuées."
   ]
  },
  {
   "cell_type": "markdown",
   "metadata": {},
   "source": [
    "#### step 1: Load data and initialize the classifier  "
   ]
  },
  {
   "cell_type": "code",
   "execution_count": 3,
   "metadata": {
    "collapsed": true
   },
   "outputs": [],
   "source": [
    "clf = svm.SVC()\n",
    "iris = datasets.load_iris()\n",
    "X, y = iris.data, iris.target"
   ]
  },
  {
   "cell_type": "markdown",
   "metadata": {},
   "source": [
    "#### step 2: split data for train/test using train_test_split function"
   ]
  },
  {
   "cell_type": "code",
   "execution_count": 4,
   "metadata": {
    "collapsed": false
   },
   "outputs": [],
   "source": [
    " X_train, X_test, y_train, y_test = train_test_split(X, y, test_size=0.33, random_state=42,stratify=y)"
   ]
  },
  {
   "cell_type": "markdown",
   "metadata": {
    "collapsed": true
   },
   "source": [
    "#### step 3: fit your model"
   ]
  },
  {
   "cell_type": "code",
   "execution_count": 5,
   "metadata": {
    "collapsed": false
   },
   "outputs": [
    {
     "data": {
      "text/plain": [
       "SVC(C=1.0, cache_size=200, class_weight=None, coef0=0.0,\n",
       "  decision_function_shape=None, degree=3, gamma='auto', kernel='rbf',\n",
       "  max_iter=-1, probability=False, random_state=None, shrinking=True,\n",
       "  tol=0.001, verbose=False)"
      ]
     },
     "execution_count": 5,
     "metadata": {},
     "output_type": "execute_result"
    }
   ],
   "source": [
    "clf.fit(X_train,y_train)"
   ]
  },
  {
   "cell_type": "markdown",
   "metadata": {},
   "source": [
    "#### step 4: predict for X_test using your model that you have just fitted"
   ]
  },
  {
   "cell_type": "code",
   "execution_count": 6,
   "metadata": {
    "collapsed": false
   },
   "outputs": [],
   "source": [
    "y_pred=clf.predict(X_test)\n"
   ]
  },
  {
   "cell_type": "markdown",
   "metadata": {},
   "source": [
    "#### step 5: using precision_recall_fscore_support function, under sklearn.metrics package, compute precsion, recall and fscore for each class"
   ]
  },
  {
   "cell_type": "code",
   "execution_count": 7,
   "metadata": {
    "collapsed": false
   },
   "outputs": [
    {
     "data": {
      "text/plain": [
       "(array([ 1.,  1.,  1.]),\n",
       " array([ 1.,  1.,  1.]),\n",
       " array([ 1.,  1.,  1.]),\n",
       " array([16, 17, 17]))"
      ]
     },
     "execution_count": 7,
     "metadata": {},
     "output_type": "execute_result"
    }
   ],
   "source": [
    "precision_recall_fscore_support(y_test, y_pred)"
   ]
  },
  {
   "cell_type": "markdown",
   "metadata": {},
   "source": [
    "#### step 6 : using KFold in sklearn.cross_validation package, with K=10, compute the average recall and precision for each class"
   ]
  },
  {
   "cell_type": "code",
   "execution_count": 8,
   "metadata": {
    "collapsed": false
   },
   "outputs": [
    {
     "name": "stderr",
     "output_type": "stream",
     "text": [
      "/opt/conda/lib/python3.5/site-packages/numpy/lib/arraysetops.py:375: FutureWarning: elementwise comparison failed; returning scalar instead, but in the future will perform elementwise comparison\n",
      "  mask &= (ar1 != a)\n"
     ]
    },
    {
     "data": {
      "text/plain": [
       "(array([ 1.        ,  0.98      ,  0.94571429]),\n",
       " array([ 1.        ,  0.93238095,  0.9875    ]))"
      ]
     },
     "execution_count": 8,
     "metadata": {},
     "output_type": "execute_result"
    }
   ],
   "source": [
    "kf = KFold(150, n_folds=10,shuffle=True)\n",
    "Precision=0\n",
    "Recall=0\n",
    "for train_index, test_index in kf:\n",
    "    #print(\"TRAIN:\", train_index, \"TEST:\", test_index)\n",
    "    X_train, X_test = X[train_index], X[test_index]\n",
    "    y_train, y_test = y[train_index], y[test_index]\n",
    "    \n",
    "    clf.fit(X_train,y_train)\n",
    "    y_pred=clf.predict(X_test)\n",
    "    Precision=np.add(Precision,precision_recall_fscore_support(y_test,y_pred,labels=['0','1','2'])[0])\n",
    "    Recall=np.add(Recall,precision_recall_fscore_support(y_test,y_pred)[1])\n",
    "Precision/10,Recall/10\n"
   ]
  },
  {
   "cell_type": "markdown",
   "metadata": {},
   "source": [
    "#### step 7: let's put everything together in one function which takes as paramters the kernel and C value."
   ]
  },
  {
   "cell_type": "code",
   "execution_count": 25,
   "metadata": {
    "collapsed": false
   },
   "outputs": [],
   "source": [
    "def Iris_SVM(kernel_choice,C_value):\n",
    "    # load data and initialize the classifier with Kernel=\"kernel\" and C=\"C\"\n",
    "     # kernels that we can use :'linear', 'poly', 'rbf', 'sigmoid'\n",
    "    clf = svm.SVC(C=C_value,kernel=kernel_choice)\n",
    "    iris = datasets.load_iris()\n",
    "    X, y = iris.data, iris.target\n",
    "    '''\n",
    "    # if you want to test the effect of scaling data before applying SVM:\n",
    "    scaler = MinMaxScaler()\n",
    "    df_scaled = pd.DataFrame(scaler.fit_transform(X))\n",
    "    X_scaled=df_scaled.values\n",
    "    '''\n",
    "    \n",
    "    \n",
    "    # split data into train/test\n",
    "    X_train, X_test, y_train, y_test = train_test_split(X, y, test_size=0.33, random_state=42,stratify=y)\n",
    "    \n",
    "    \n",
    "    # fit and predict\n",
    "    clf=clf.fit(X_train,y_train)\n",
    "    y_pred=clf.predict(X_test)\n",
    "    \n",
    "    precision_recall_train_test=precision_recall_fscore_support(y_test, y_pred)\n",
    "    \n",
    "    print(\"Precision, Recall and Fscore for train_test split is :\\n\",precision_recall_train_test)\n",
    "    \n",
    "    \n",
    "    \n",
    "    \n",
    "    kf = KFold(150, n_folds=10,shuffle=True)\n",
    "    Precision=0\n",
    "    Recall=0\n",
    "    for train_index, test_index in kf:\n",
    "        #print(\"TRAIN:\", train_index, \"TEST:\", test_index)\n",
    "        X_train_cv, X_test_cv = X[train_index], X[test_index]\n",
    "        y_train_cv, y_test_cv = y[train_index], y[test_index]\n",
    "    \n",
    "        clf.fit(X_train_cv,y_train_cv)\n",
    "        y_pred_cv=clf.predict(X_test_cv)\n",
    "        Precision=np.add(Precision,precision_recall_fscore_support(y_test_cv,y_pred_cv,labels=['0','1','2'])[0])\n",
    "        Recall=np.add(Recall,precision_recall_fscore_support(y_test_cv,y_pred_cv)[1])\n",
    "    print(\"Precision and Recall for cross validation is : \\n\", Precision/10,Recall/10)\n",
    " "
   ]
  },
  {
   "cell_type": "markdown",
   "metadata": {},
   "source": [
    "#### step 8: Call your function for different values of C with the same kernel"
   ]
  },
  {
   "cell_type": "code",
   "execution_count": 30,
   "metadata": {
    "collapsed": false
   },
   "outputs": [
    {
     "name": "stdout",
     "output_type": "stream",
     "text": [
      "################## Results for C= 1 :#####################\n",
      "\n",
      "Precision, Recall and Fscore for train_test split is :\n",
      " (array([ 1.,  1.,  1.]), array([ 1.,  1.,  1.]), array([ 1.,  1.,  1.]), array([16, 17, 17]))\n",
      "Precision and Recall for cross validation is : \n",
      " [ 1.      0.975   0.9375] [ 1.          0.94071429  0.975     ]\n",
      "None\n",
      "################## Results for C= 10 :#####################\n",
      "\n",
      "Precision, Recall and Fscore for train_test split is :\n",
      " (array([ 1.,  1.,  1.]), array([ 1.,  1.,  1.]), array([ 1.,  1.,  1.]), array([16, 17, 17]))\n",
      "Precision and Recall for cross validation is : \n",
      " [ 1.          0.96333333  0.90333333] [ 1.          0.92619048  0.96333333]\n",
      "None\n"
     ]
    },
    {
     "name": "stderr",
     "output_type": "stream",
     "text": [
      "/opt/conda/lib/python3.5/site-packages/numpy/lib/arraysetops.py:375: FutureWarning: elementwise comparison failed; returning scalar instead, but in the future will perform elementwise comparison\n",
      "  mask &= (ar1 != a)\n"
     ]
    }
   ],
   "source": [
    "C_values=[1,10]\n",
    "for C in C_values:\n",
    "    print(\"################## Results for C=\",C,\":#####################\\n\")\n",
    "    print(Iris_SVM('rbf',C))"
   ]
  },
  {
   "cell_type": "code",
   "execution_count": 28,
   "metadata": {
    "collapsed": false
   },
   "outputs": [
    {
     "name": "stdout",
     "output_type": "stream",
     "text": [
      "Precision, Recall and Fscore for train_test split is :\n",
      " (array([ 1.,  1.,  1.]), array([ 1.,  1.,  1.]), array([ 1.,  1.,  1.]), array([16, 17, 17]))\n",
      "Precision and Recall for cross validation is : \n",
      " [ 1.          0.98571429  0.94166667] [ 1.     0.95   0.975]\n"
     ]
    },
    {
     "name": "stderr",
     "output_type": "stream",
     "text": [
      "/opt/conda/lib/python3.5/site-packages/numpy/lib/arraysetops.py:375: FutureWarning: elementwise comparison failed; returning scalar instead, but in the future will perform elementwise comparison\n",
      "  mask &= (ar1 != a)\n"
     ]
    }
   ],
   "source": [
    "Iris_SVM('rbf',1)"
   ]
  },
  {
   "cell_type": "markdown",
   "metadata": {},
   "source": [
    "#### step 9: Try to use different type of kernls with the same value of C( take C=1)"
   ]
  },
  {
   "cell_type": "code",
   "execution_count": 23,
   "metadata": {
    "collapsed": false
   },
   "outputs": [
    {
     "name": "stdout",
     "output_type": "stream",
     "text": [
      "################## Results for : linear ###########################\n",
      "\n",
      "Precision, Recall and Fscore for train_test split is :\n",
      " (array([ 1.,  1.,  1.]), array([ 1.,  1.,  1.]), array([ 1.,  1.,  1.]), array([16, 17, 17]))\n",
      "Precision and Recall for cross validation is \n",
      " [ 1.          0.98333333  0.95      ] [ 1.          0.94666667  0.98888889]\n",
      "None\n",
      "################## Results for : poly ###########################\n",
      "\n",
      "Precision, Recall and Fscore for train_test split is :\n",
      " (array([ 1.        ,  0.80952381,  1.        ]), array([ 1.        ,  1.        ,  0.76470588]), array([ 1.        ,  0.89473684,  0.86666667]), array([16, 17, 17]))\n",
      "Precision and Recall for cross validation is \n",
      " [ 1.     0.975  0.955] [ 1.          0.9675      0.98333333]\n",
      "None\n",
      "################## Results for : rbf ###########################\n",
      "\n",
      "Precision, Recall and Fscore for train_test split is :\n",
      " (array([ 1.,  1.,  1.]), array([ 1.,  1.,  1.]), array([ 1.,  1.,  1.]), array([16, 17, 17]))\n",
      "Precision and Recall for cross validation is \n",
      " [ 1.          0.98        0.94166667] [ 1.          0.93833333  0.9875    ]\n",
      "None\n",
      "################## Results for : sigmoid ###########################\n",
      "\n",
      "Precision, Recall and Fscore for train_test split is :\n",
      " (array([ 0.32,  0.  ,  0.  ]), array([ 1.,  0.,  0.]), array([ 0.48484848,  0.        ,  0.        ]), array([16, 17, 17]))\n",
      "Precision and Recall for cross validation is \n",
      " [ 0.08666667  0.06666667  0.04666667] [ 0.4  0.3  0.2]\n",
      "None\n"
     ]
    },
    {
     "name": "stderr",
     "output_type": "stream",
     "text": [
      "/opt/conda/lib/python3.5/site-packages/numpy/lib/arraysetops.py:375: FutureWarning: elementwise comparison failed; returning scalar instead, but in the future will perform elementwise comparison\n",
      "  mask &= (ar1 != a)\n",
      "/opt/conda/lib/python3.5/site-packages/sklearn/metrics/classification.py:1113: UndefinedMetricWarning: Precision and F-score are ill-defined and being set to 0.0 in labels with no predicted samples.\n",
      "  'precision', 'predicted', average, warn_for)\n"
     ]
    }
   ],
   "source": [
    "kernels=['linear', 'poly', 'rbf', 'sigmoid']\n",
    "for kernel in kernels:\n",
    "    print(\"################## Results for :\", kernel,\"###########################\\n\")\n",
    "    print(Iris_SVM(kernel,1))"
   ]
  },
  {
   "cell_type": "markdown",
   "metadata": {},
   "source": [
    "### 2.2 SPAM"
   ]
  },
  {
   "cell_type": "markdown",
   "metadata": {},
   "source": [
    "Refaire toutes les opérations en utilisant l’ensemble de données « SPAM » du labo Hewlett-Packard\n",
    "(https://archive.ics.uci.edu/ml/datasets/Spambase). Les classes sont spam et nonspam. Pour chaque\n",
    "individu on a 57 données numériques et la classe. On a 4 061 individus et les classes sont distribuées de la\n",
    "manière suivante : 39,4% de spam et 60,59% de nonspam.<br/>\n",
    "Voir\n",
    "https://archive.ics.uci.edu/ml/machine-learning-databases/spambase/spambase.DOCUMENTATION\n",
    "pour la description des données.<br/>\n",
    "Faire varier les noyaux et les paramètres et comparer les résultats en fonction de l’importance de la\n",
    "précision et du rappel."
   ]
  },
  {
   "cell_type": "code",
   "execution_count": 18,
   "metadata": {
    "collapsed": true
   },
   "outputs": [],
   "source": [
    "spambase=pd.read_csv('https://archive.ics.uci.edu/ml/machine-learning-databases/spambase/spambase.data',header=None)\n",
    "y1=spambase.pop(57)\n",
    "X1=spambase.values"
   ]
  },
  {
   "cell_type": "code",
   "execution_count": 19,
   "metadata": {
    "collapsed": true
   },
   "outputs": [],
   "source": [
    "def SpamBase_SVM(kernel_choice,C_value):\n",
    "    # load data and initialize the classifier with Kernel=\"kernel\" and C=\"C\"\n",
    "     # kernels that we can use :'linear', 'poly', 'rbf', 'sigmoid'\n",
    "    clf = svm.SVC(C=C_value,kernel=kernel_choice)\n",
    "    \n",
    "    # split data into train/test\n",
    "    X_train, X_test, y_train, y_test = train_test_split(X1, y1, test_size=0.33, random_state=42,stratify=y1)\n",
    "    \n",
    "    \n",
    "    # fit and predict\n",
    "    clf=clf.fit(X_train,y_train)\n",
    "    y_pred=clf.predict(X_test)\n",
    "    \n",
    "    precision_recall_train_test=precision_recall_fscore_support(y_test, y_pred)\n",
    "    \n",
    "    print(\"Precision, Recall and Fscore for train_test split is :\\n\",precision_recall_train_test)\n",
    "    \n",
    "    \n",
    "    \n",
    "    \n",
    "    kf = KFold(len(X1), n_folds=10,shuffle=True)\n",
    "    Precision=0\n",
    "    Recall=0\n",
    "    for train_index, test_index in kf:\n",
    "        #print(\"TRAIN:\", train_index, \"TEST:\", test_index)\n",
    "        X_train_cv, X_test_cv = X1[train_index], X1[test_index]\n",
    "        y_train_cv, y_test_cv = y1[train_index], y1[test_index]\n",
    "    \n",
    "        clf.fit(X_train_cv,y_train_cv)\n",
    "        y_pred_cv=clf.predict(X_test_cv)\n",
    "        Precision=np.add(Precision,precision_recall_fscore_support(y_test_cv,y_pred_cv,labels=['0','1'])[0])\n",
    "        Recall=np.add(Recall,precision_recall_fscore_support(y_test_cv,y_pred_cv)[1])\n",
    "    print(\"Precision and Recall for cross validation is \\n\", Precision/10,Recall/10)"
   ]
  },
  {
   "cell_type": "code",
   "execution_count": 20,
   "metadata": {
    "collapsed": false
   },
   "outputs": [],
   "source": [
    "SpamBase_SVM('linear',1)"
   ]
  },
  {
   "cell_type": "code",
   "execution_count": null,
   "metadata": {
    "collapsed": true
   },
   "outputs": [],
   "source": []
  }
 ],
 "metadata": {
  "kernelspec": {
   "display_name": "Python 3",
   "language": "python",
   "name": "python3"
  },
  "language_info": {
   "codemirror_mode": {
    "name": "ipython",
    "version": 3
   },
   "file_extension": ".py",
   "mimetype": "text/x-python",
   "name": "python",
   "nbconvert_exporter": "python",
   "pygments_lexer": "ipython3",
   "version": "3.5.2"
  }
 },
 "nbformat": 4,
 "nbformat_minor": 1
}
