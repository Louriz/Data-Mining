{
 "cells": [
  {
   "cell_type": "markdown",
   "metadata": {},
   "source": [
    "![](IMT.jpg)"
   ]
  },
  {
   "cell_type": "markdown",
   "metadata": {},
   "source": [
    "- <b>Riahi Louriz\n",
    "- Etudiant en Data Science à IMT Atlantique, campus Brest\n",
    "- riahilouriz@gmail.com</b>"
   ]
  },
  {
   "cell_type": "markdown",
   "metadata": {
    "collapsed": true
   },
   "source": [
    "# Processing missing values"
   ]
  },
  {
   "cell_type": "markdown",
   "metadata": {},
   "source": [
    "## Introduction :"
   ]
  },
  {
   "cell_type": "markdown",
   "metadata": {
    "collapsed": true
   },
   "source": [
    "\"In statistics, missing data, or missing values, occur when no data value is stored for the variable in an observation. Missing data are a common occurrence and can have a significant effect on the conclusions that can be drawn from the data.\"(<b>Wikipedia</b>).\n",
    "\n"
   ]
  },
  {
   "cell_type": "markdown",
   "metadata": {},
   "source": [
    "Missing data is a very popular and challenging problem in data mining and machine learning. Data can be missed for many reasons which I will not cover here in the introduction, but to give a tangible example : \"a person that we have questioned did not want to tell about his salary\". We will explain all missing data mechanisms later on. As a consequence handling missing data is an important step in data mining since many algorithms can not support data with missing values. As a fruit we have a good accuracy and so a good decision making."
   ]
  },
  {
   "cell_type": "markdown",
   "metadata": {},
   "source": [
    "This lab will be composed of two major parts : a part that talks about the fundamentals of missing values and a practical part where we will study an example in detail."
   ]
  },
  {
   "cell_type": "markdown",
   "metadata": {},
   "source": [
    "## Part 1 :"
   ]
  },
  {
   "cell_type": "markdown",
   "metadata": {},
   "source": [
    "Before I begin missing data mechanism, I would like to start by giving a small overview of missing data :Missing data can exist either in features or in the label( supervised learning). When missing data is in the label, we call the problem : <b> semi-supervised learning</b> which is beyond the scope of this lab. Whereas, if the missing values occur in the data features we have two cases : either those values can be processed automatically without any preprocessing for those missing data ( xgboost, decision tree, random forest, k-Nearest Neighbors) or the seconde case those missed values need to be processed  carefully."
   ]
  },
  {
   "cell_type": "markdown",
   "metadata": {},
   "source": [
    "### Missing Data Mechanism "
   ]
  },
  {
   "cell_type": "markdown",
   "metadata": {},
   "source": [
    "Preprocessing missing data is firstly knowing the reasons behind those missed values. In the next paragraph we are going to highlight different missing data mechanism with  interesting examples. Let's learn something new !"
   ]
  },
  {
   "cell_type": "markdown",
   "metadata": {
    "collapsed": true
   },
   "source": [
    "#### 1. MAR: Missing At Random "
   ]
  },
  {
   "cell_type": "markdown",
   "metadata": {
    "collapsed": true
   },
   "source": [
    "If the probability of absence is related to one or\n",
    "several other variables observed, we talk about missingness at random\n",
    "(MAR).[4] Missed value has nothing to do with the actual column but other columns. In order to clarify this mechanism, let's illustrate it :"
   ]
  },
  {
   "cell_type": "code",
   "execution_count": 1,
   "metadata": {
    "collapsed": false
   },
   "outputs": [
    {
     "data": {
      "text/html": [
       "<div>\n",
       "<table border=\"1\" class=\"dataframe\">\n",
       "  <thead>\n",
       "    <tr style=\"text-align: right;\">\n",
       "      <th></th>\n",
       "      <th>area</th>\n",
       "      <th>depth</th>\n",
       "      <th>length</th>\n",
       "      <th>volume</th>\n",
       "      <th>width</th>\n",
       "    </tr>\n",
       "  </thead>\n",
       "  <tbody>\n",
       "    <tr>\n",
       "      <th>0</th>\n",
       "      <td>10.0</td>\n",
       "      <td>10.0</td>\n",
       "      <td>10.0</td>\n",
       "      <td>10.0</td>\n",
       "      <td>10.0</td>\n",
       "    </tr>\n",
       "    <tr>\n",
       "      <th>1</th>\n",
       "      <td>20.0</td>\n",
       "      <td>20.0</td>\n",
       "      <td>20.0</td>\n",
       "      <td>20.0</td>\n",
       "      <td>12.0</td>\n",
       "    </tr>\n",
       "    <tr>\n",
       "      <th>2</th>\n",
       "      <td>NaN</td>\n",
       "      <td>NaN</td>\n",
       "      <td>NaN</td>\n",
       "      <td>NaN</td>\n",
       "      <td>NaN</td>\n",
       "    </tr>\n",
       "    <tr>\n",
       "      <th>3</th>\n",
       "      <td>40.0</td>\n",
       "      <td>40.0</td>\n",
       "      <td>40.0</td>\n",
       "      <td>40.0</td>\n",
       "      <td>14.0</td>\n",
       "    </tr>\n",
       "    <tr>\n",
       "      <th>4</th>\n",
       "      <td>50.0</td>\n",
       "      <td>50.0</td>\n",
       "      <td>50.0</td>\n",
       "      <td>50.0</td>\n",
       "      <td>15.0</td>\n",
       "    </tr>\n",
       "    <tr>\n",
       "      <th>5</th>\n",
       "      <td>60.0</td>\n",
       "      <td>60.0</td>\n",
       "      <td>60.0</td>\n",
       "      <td>60.0</td>\n",
       "      <td>16.0</td>\n",
       "    </tr>\n",
       "    <tr>\n",
       "      <th>6</th>\n",
       "      <td>NaN</td>\n",
       "      <td>NaN</td>\n",
       "      <td>70.0</td>\n",
       "      <td>NaN</td>\n",
       "      <td>17.0</td>\n",
       "    </tr>\n",
       "    <tr>\n",
       "      <th>7</th>\n",
       "      <td>80.0</td>\n",
       "      <td>80.0</td>\n",
       "      <td>80.0</td>\n",
       "      <td>80.0</td>\n",
       "      <td>18.0</td>\n",
       "    </tr>\n",
       "    <tr>\n",
       "      <th>8</th>\n",
       "      <td>90.0</td>\n",
       "      <td>90.0</td>\n",
       "      <td>90.0</td>\n",
       "      <td>90.0</td>\n",
       "      <td>19.0</td>\n",
       "    </tr>\n",
       "    <tr>\n",
       "      <th>9</th>\n",
       "      <td>NaN</td>\n",
       "      <td>100.0</td>\n",
       "      <td>100.0</td>\n",
       "      <td>NaN</td>\n",
       "      <td>NaN</td>\n",
       "    </tr>\n",
       "    <tr>\n",
       "      <th>10</th>\n",
       "      <td>110.0</td>\n",
       "      <td>110.0</td>\n",
       "      <td>110.0</td>\n",
       "      <td>110.0</td>\n",
       "      <td>21.0</td>\n",
       "    </tr>\n",
       "  </tbody>\n",
       "</table>\n",
       "</div>"
      ],
      "text/plain": [
       "     area  depth  length  volume  width\n",
       "0    10.0   10.0    10.0    10.0   10.0\n",
       "1    20.0   20.0    20.0    20.0   12.0\n",
       "2     NaN    NaN     NaN     NaN    NaN\n",
       "3    40.0   40.0    40.0    40.0   14.0\n",
       "4    50.0   50.0    50.0    50.0   15.0\n",
       "5    60.0   60.0    60.0    60.0   16.0\n",
       "6     NaN    NaN    70.0     NaN   17.0\n",
       "7    80.0   80.0    80.0    80.0   18.0\n",
       "8    90.0   90.0    90.0    90.0   19.0\n",
       "9     NaN  100.0   100.0     NaN    NaN\n",
       "10  110.0  110.0   110.0   110.0   21.0"
      ]
     },
     "execution_count": 1,
     "metadata": {},
     "output_type": "execute_result"
    }
   ],
   "source": [
    "import pandas as pd\n",
    "import numpy as np\n",
    "mar = pd.DataFrame({'width':[10, 12, np.nan, 14, 15, 16,17,18, 19, np.nan, 21], \n",
    "                    'depth': [10, 20, np.nan, 40, 50, 60,np.nan, 80, 90, 100, 110],\n",
    "                   'length' : [10, 20, np.nan, 40, 50, 60, 70, 80, 90, 100, 110],\n",
    "                   'volume':[10, 20, np.nan, 40, 50, 60, np.nan, 80, 90, np.nan, 110],\n",
    "                   'area':[10, 20, np.nan, 40, 50, 60, np.nan, 80, 90, np.nan, 110.]}) \n",
    "mar"
   ]
  },
  {
   "cell_type": "markdown",
   "metadata": {},
   "source": [
    "The example above shows the MAR mechanism : The area and the volume depend on width,length and depth( only volume). So when one of those features is missed obviously area and volume will be missed. That's why we say that having a missed value in volume depend on the abscence or presence of a value on other features."
   ]
  },
  {
   "cell_type": "markdown",
   "metadata": {},
   "source": [
    "#### 2. MCAR : Missing Completely at Random "
   ]
  },
  {
   "cell_type": "markdown",
   "metadata": {},
   "source": [
    "A data in a variable is said to be MCAR, if the probability of absence is the same for all observations. This probability does depend  only on external parameters independent of this variable[4]. An example to explicate better :"
   ]
  },
  {
   "cell_type": "code",
   "execution_count": 2,
   "metadata": {
    "collapsed": false
   },
   "outputs": [
    {
     "data": {
      "text/html": [
       "<div>\n",
       "<table border=\"1\" class=\"dataframe\">\n",
       "  <thead>\n",
       "    <tr style=\"text-align: right;\">\n",
       "      <th></th>\n",
       "      <th>sea_surface_temperature</th>\n",
       "      <th>wind_speed</th>\n",
       "    </tr>\n",
       "  </thead>\n",
       "  <tbody>\n",
       "    <tr>\n",
       "      <th>0</th>\n",
       "      <td>10.0</td>\n",
       "      <td>NaN</td>\n",
       "    </tr>\n",
       "    <tr>\n",
       "      <th>1</th>\n",
       "      <td>12.0</td>\n",
       "      <td>2.00</td>\n",
       "    </tr>\n",
       "    <tr>\n",
       "      <th>2</th>\n",
       "      <td>NaN</td>\n",
       "      <td>2.10</td>\n",
       "    </tr>\n",
       "    <tr>\n",
       "      <th>3</th>\n",
       "      <td>14.0</td>\n",
       "      <td>4.00</td>\n",
       "    </tr>\n",
       "    <tr>\n",
       "      <th>4</th>\n",
       "      <td>15.0</td>\n",
       "      <td>5.00</td>\n",
       "    </tr>\n",
       "    <tr>\n",
       "      <th>5</th>\n",
       "      <td>16.0</td>\n",
       "      <td>6.00</td>\n",
       "    </tr>\n",
       "    <tr>\n",
       "      <th>6</th>\n",
       "      <td>17.0</td>\n",
       "      <td>NaN</td>\n",
       "    </tr>\n",
       "    <tr>\n",
       "      <th>7</th>\n",
       "      <td>18.0</td>\n",
       "      <td>0.80</td>\n",
       "    </tr>\n",
       "    <tr>\n",
       "      <th>8</th>\n",
       "      <td>NaN</td>\n",
       "      <td>0.90</td>\n",
       "    </tr>\n",
       "    <tr>\n",
       "      <th>9</th>\n",
       "      <td>NaN</td>\n",
       "      <td>0.10</td>\n",
       "    </tr>\n",
       "    <tr>\n",
       "      <th>10</th>\n",
       "      <td>21.0</td>\n",
       "      <td>2.25</td>\n",
       "    </tr>\n",
       "  </tbody>\n",
       "</table>\n",
       "</div>"
      ],
      "text/plain": [
       "    sea_surface_temperature  wind_speed\n",
       "0                      10.0         NaN\n",
       "1                      12.0        2.00\n",
       "2                       NaN        2.10\n",
       "3                      14.0        4.00\n",
       "4                      15.0        5.00\n",
       "5                      16.0        6.00\n",
       "6                      17.0         NaN\n",
       "7                      18.0        0.80\n",
       "8                       NaN        0.90\n",
       "9                       NaN        0.10\n",
       "10                     21.0        2.25"
      ]
     },
     "execution_count": 2,
     "metadata": {},
     "output_type": "execute_result"
    }
   ],
   "source": [
    "mcar = pd.DataFrame({'sea_surface_temperature':[10, 12, np.nan, 14, 15, 16,17,18, np.nan, np.nan, 21], \n",
    "                    'wind_speed': [np.nan, 2,2.1, 4, 5, 6,np.nan, 0.8, 0.9, 0.10, 2.25],\n",
    "                   }) \n",
    "mcar"
   ]
  },
  {
   "cell_type": "markdown",
   "metadata": {},
   "source": [
    "Satellites used to measure climatic variables sometimes fail to capture information because of a technical problem of a certain radar."
   ]
  },
  {
   "cell_type": "markdown",
   "metadata": {},
   "source": [
    "<b>Note</b> : if the percentage of MCAR values is very small, delete those values will not affect your analysis."
   ]
  },
  {
   "cell_type": "markdown",
   "metadata": {},
   "source": [
    "\n",
    "#### MNAR: Missing Not at Random "
   ]
  },
  {
   "cell_type": "markdown",
   "metadata": {},
   "source": [
    "The data is said to be  missing not at random (MNAR) if the probability of absence depends on the variable in\n",
    "question[4]."
   ]
  },
  {
   "cell_type": "code",
   "execution_count": 3,
   "metadata": {
    "collapsed": false
   },
   "outputs": [
    {
     "data": {
      "text/html": [
       "<div>\n",
       "<table border=\"1\" class=\"dataframe\">\n",
       "  <thead>\n",
       "    <tr style=\"text-align: right;\">\n",
       "      <th></th>\n",
       "      <th>age</th>\n",
       "      <th>salary</th>\n",
       "    </tr>\n",
       "  </thead>\n",
       "  <tbody>\n",
       "    <tr>\n",
       "      <th>0</th>\n",
       "      <td>20</td>\n",
       "      <td>40.0</td>\n",
       "    </tr>\n",
       "    <tr>\n",
       "      <th>1</th>\n",
       "      <td>29</td>\n",
       "      <td>35.0</td>\n",
       "    </tr>\n",
       "    <tr>\n",
       "      <th>2</th>\n",
       "      <td>27</td>\n",
       "      <td>NaN</td>\n",
       "    </tr>\n",
       "    <tr>\n",
       "      <th>3</th>\n",
       "      <td>43</td>\n",
       "      <td>28.0</td>\n",
       "    </tr>\n",
       "    <tr>\n",
       "      <th>4</th>\n",
       "      <td>56</td>\n",
       "      <td>45.0</td>\n",
       "    </tr>\n",
       "    <tr>\n",
       "      <th>5</th>\n",
       "      <td>50</td>\n",
       "      <td>NaN</td>\n",
       "    </tr>\n",
       "    <tr>\n",
       "      <th>6</th>\n",
       "      <td>35</td>\n",
       "      <td>37.0</td>\n",
       "    </tr>\n",
       "    <tr>\n",
       "      <th>7</th>\n",
       "      <td>48</td>\n",
       "      <td>38.0</td>\n",
       "    </tr>\n",
       "    <tr>\n",
       "      <th>8</th>\n",
       "      <td>49</td>\n",
       "      <td>39.0</td>\n",
       "    </tr>\n",
       "    <tr>\n",
       "      <th>9</th>\n",
       "      <td>45</td>\n",
       "      <td>NaN</td>\n",
       "    </tr>\n",
       "    <tr>\n",
       "      <th>10</th>\n",
       "      <td>25</td>\n",
       "      <td>21.0</td>\n",
       "    </tr>\n",
       "  </tbody>\n",
       "</table>\n",
       "</div>"
      ],
      "text/plain": [
       "    age  salary\n",
       "0    20    40.0\n",
       "1    29    35.0\n",
       "2    27     NaN\n",
       "3    43    28.0\n",
       "4    56    45.0\n",
       "5    50     NaN\n",
       "6    35    37.0\n",
       "7    48    38.0\n",
       "8    49    39.0\n",
       "9    45     NaN\n",
       "10   25    21.0"
      ]
     },
     "execution_count": 3,
     "metadata": {},
     "output_type": "execute_result"
    }
   ],
   "source": [
    "mnar = pd.DataFrame({'salary':[40, 35, np.nan, 28, 45, np.nan,37,38, 39, np.nan, 21], \n",
    "                    'age': [20, 29,27, 43, 56, 50,35, 48, 49, 45, 25],\n",
    "                   }) \n",
    "mnar"
   ]
  },
  {
   "cell_type": "markdown",
   "metadata": {},
   "source": [
    "This exampe is very popular when a person rejects to tell about his salary."
   ]
  },
  {
   "cell_type": "markdown",
   "metadata": {},
   "source": [
    "---\n",
    "Until now you have explored  mechanisms behind missing values. I hope that you have got a full idea about the importance of this issue in data mining and machine learning. As a Data Scientist, you must always ask questions about the reasons behind missing values because only people who understand the job and the context can answer you. As a result of grasping those reasons you will be able to choose the best methods to impute missing data.\n",
    "\n",
    "---"
   ]
  },
  {
   "cell_type": "markdown",
   "metadata": {},
   "source": [
    "Let's go deeper and see what are the solutions to deal with missing values :"
   ]
  },
  {
   "cell_type": "markdown",
   "metadata": {},
   "source": [
    "### Analysis without completion"
   ]
  },
  {
   "cell_type": "markdown",
   "metadata": {},
   "source": [
    "#### Data deletion methods"
   ]
  },
  {
   "cell_type": "markdown",
   "metadata": {
    "collapsed": true
   },
   "source": [
    "In this case we are not interested in imputing missing values but just delete them. In other words, we delete all rows which have missing values. many drawbakcs can be drawn from this methods but I prefer two of them :\n",
    "    1. We risk to delete a lot of data \n",
    "    2. If missing data not MCAR we risk to have a sample which is not representatif of the original sample. \n"
   ]
  },
  {
   "cell_type": "markdown",
   "metadata": {},
   "source": [
    "<b> Example :</b> Using our mcar dataframe "
   ]
  },
  {
   "cell_type": "code",
   "execution_count": 4,
   "metadata": {
    "collapsed": false
   },
   "outputs": [
    {
     "name": "stdout",
     "output_type": "stream",
     "text": [
      "Original shape is : (11, 2)\n",
      "After case deletion : (6, 2)\n",
      "We have lost 45 % of the information\n"
     ]
    },
    {
     "data": {
      "text/html": [
       "<div>\n",
       "<table border=\"1\" class=\"dataframe\">\n",
       "  <thead>\n",
       "    <tr style=\"text-align: right;\">\n",
       "      <th></th>\n",
       "      <th>sea_surface_temperature</th>\n",
       "      <th>wind_speed</th>\n",
       "    </tr>\n",
       "  </thead>\n",
       "  <tbody>\n",
       "    <tr>\n",
       "      <th>1</th>\n",
       "      <td>12.0</td>\n",
       "      <td>2.00</td>\n",
       "    </tr>\n",
       "    <tr>\n",
       "      <th>3</th>\n",
       "      <td>14.0</td>\n",
       "      <td>4.00</td>\n",
       "    </tr>\n",
       "    <tr>\n",
       "      <th>4</th>\n",
       "      <td>15.0</td>\n",
       "      <td>5.00</td>\n",
       "    </tr>\n",
       "    <tr>\n",
       "      <th>5</th>\n",
       "      <td>16.0</td>\n",
       "      <td>6.00</td>\n",
       "    </tr>\n",
       "    <tr>\n",
       "      <th>7</th>\n",
       "      <td>18.0</td>\n",
       "      <td>0.80</td>\n",
       "    </tr>\n",
       "    <tr>\n",
       "      <th>10</th>\n",
       "      <td>21.0</td>\n",
       "      <td>2.25</td>\n",
       "    </tr>\n",
       "  </tbody>\n",
       "</table>\n",
       "</div>"
      ],
      "text/plain": [
       "    sea_surface_temperature  wind_speed\n",
       "1                      12.0        2.00\n",
       "3                      14.0        4.00\n",
       "4                      15.0        5.00\n",
       "5                      16.0        6.00\n",
       "7                      18.0        0.80\n",
       "10                     21.0        2.25"
      ]
     },
     "execution_count": 4,
     "metadata": {},
     "output_type": "execute_result"
    }
   ],
   "source": [
    "print('Original shape is :',mcar.shape)\n",
    "print('After case deletion :',mcar.dropna().shape)\n",
    "print('We have lost',round(100*(1-mcar.dropna().shape[0]/mcar.shape[0])),'% of the information')\n",
    "mcar.dropna()"
   ]
  },
  {
   "cell_type": "markdown",
   "metadata": {},
   "source": [
    "#### Methods that tolerate missing data"
   ]
  },
  {
   "cell_type": "markdown",
   "metadata": {},
   "source": [
    "There are some algorithms that tolerate with missing data. So you do not need to perform any preprocessing or deleting missing data. Some of those algorithm, which I have found but you may find others of course : XGBOOST( see the last example in this lab), Decision trees, Random Forests and KNN."
   ]
  },
  {
   "cell_type": "markdown",
   "metadata": {},
   "source": [
    "#### Imputation methods"
   ]
  },
  {
   "cell_type": "markdown",
   "metadata": {
    "collapsed": true
   },
   "source": [
    "If your missing data is not MCAR and the algorithm that you want to use  can not support missing data, What can you do ? This is the objectif of this part. I will not list all methods that exist but I will try to headnote some of them and when to use depending on situations :"
   ]
  },
  {
   "cell_type": "markdown",
   "metadata": {},
   "source": [
    "##### Mean, Median and Mode Imputation : "
   ]
  },
  {
   "cell_type": "markdown",
   "metadata": {},
   "source": [
    "Using the measures of central tendency involves replacing the missing values with the mean or median for numerical features and the mode for categorical features. The major limitation of using this method is that it leads to biased estimates of the variances and covariance. This imputation technique <b>works well</b> when the values are missing completely at random. [1]"
   ]
  },
  {
   "cell_type": "markdown",
   "metadata": {},
   "source": [
    "##### k-Neareast Neighbor (kNN) Imputation :"
   ]
  },
  {
   "cell_type": "markdown",
   "metadata": {},
   "source": [
    "For k-Nearest Neighbor imputation, the missing values are based on a kNN algorithm. These values are obtained by using similarity-based methods that rely on distance metrics (Euclidean distance, Jaccard similarity, Minkowski norm etc). They can be used to predict both discrete and continuous attributes. The main disadvantage of using kNN imputation is that it becomes time-consuming when analyzing large datasets because it searches for similar instances through all the dataset. <b>fancyimpute.kNN(k=x).complete(data matrix)</b> can be used for kNN imputation. Choosing the correct value for the number of neighbors (k) is also an important factor to consider when using kNN imputation. <b>This methods can perform well on MAR data.</b> [1]"
   ]
  },
  {
   "cell_type": "markdown",
   "metadata": {},
   "source": [
    "##### Multiple Imputation using MICE (Multiple Imputation by Chained Equations)  :\n"
   ]
  },
  {
   "cell_type": "markdown",
   "metadata": {},
   "source": [
    "Multiple imputation is a process where the missing values are filled multiple times to create \"complete\" datasets. Multiple imputation has a lot of advantages over traditional single imputation methods. Multiple Imputation by Chained Equations (MICE) is an imputation method that <b>works with the assumption that the missing data are Missing at Random (MAR)</b>. Recall that for MAR, the nature of the missing data is related to the observed data but not the missing data. The MICE algorithm works by running multiple regression models and each missing value is modeled conditionally depending on the observed (non-missing) values. <b>fancyimpute.MICE().complete(data matrix)</b>  can be used for MICE implementation. [1]"
   ]
  },
  {
   "cell_type": "markdown",
   "metadata": {},
   "source": [
    "## Part 2 : Application on a dataset  ( from Kaggle)"
   ]
  },
  {
   "cell_type": "markdown",
   "metadata": {},
   "source": [
    "You can find all information about the dataset used below in the following link : https://www.kaggle.com/uciml/pima-indians-diabetes-database/data"
   ]
  },
  {
   "cell_type": "markdown",
   "metadata": {},
   "source": [
    "#### Required libraries "
   ]
  },
  {
   "cell_type": "code",
   "execution_count": 5,
   "metadata": {
    "collapsed": false
   },
   "outputs": [
    {
     "name": "stdout",
     "output_type": "stream",
     "text": [
      "Collecting missingno\n",
      "  Downloading missingno-0.3.7.tar.gz\n",
      "Requirement already satisfied (use --upgrade to upgrade): numpy in /opt/conda/lib/python3.5/site-packages (from missingno)\n",
      "Requirement already satisfied (use --upgrade to upgrade): matplotlib in /opt/conda/lib/python3.5/site-packages (from missingno)\n",
      "Requirement already satisfied (use --upgrade to upgrade): scipy in /opt/conda/lib/python3.5/site-packages (from missingno)\n",
      "Requirement already satisfied (use --upgrade to upgrade): seaborn in /opt/conda/lib/python3.5/site-packages (from missingno)\n",
      "Requirement already satisfied (use --upgrade to upgrade): cycler>=0.10 in /opt/conda/lib/python3.5/site-packages/cycler-0.10.0-py3.5.egg (from matplotlib->missingno)\n",
      "Requirement already satisfied (use --upgrade to upgrade): python-dateutil in /opt/conda/lib/python3.5/site-packages (from matplotlib->missingno)\n",
      "Requirement already satisfied (use --upgrade to upgrade): pyparsing!=2.0.0,!=2.0.4,!=2.1.2,!=2.1.6,>=1.5.6 in /opt/conda/lib/python3.5/site-packages (from matplotlib->missingno)\n",
      "Requirement already satisfied (use --upgrade to upgrade): pytz in /opt/conda/lib/python3.5/site-packages (from matplotlib->missingno)\n",
      "Requirement already satisfied (use --upgrade to upgrade): six>=1.10 in /opt/conda/lib/python3.5/site-packages (from matplotlib->missingno)\n",
      "Requirement already satisfied (use --upgrade to upgrade): pandas in /opt/conda/lib/python3.5/site-packages (from seaborn->missingno)\n",
      "Building wheels for collected packages: missingno\n",
      "  Running setup.py bdist_wheel for missingno ... \u001b[?25l-\b \b\\\b \b|\b \bdone\n",
      "\u001b[?25h  Stored in directory: /home/jovyan/.cache/pip/wheels/96/52/c5/eb988eb218ca6a1828822a44eded4c8d420c45ed7cee05d33c\n",
      "Successfully built missingno\n",
      "Installing collected packages: missingno\n",
      "Successfully installed missingno-0.3.7\n",
      "\u001b[33mYou are using pip version 8.1.2, however version 9.0.1 is available.\n",
      "You should consider upgrading via the 'pip install --upgrade pip' command.\u001b[0m\n"
     ]
    }
   ],
   "source": [
    "#install required libraries :\n",
    "!pip install missingno"
   ]
  },
  {
   "cell_type": "code",
   "execution_count": 6,
   "metadata": {
    "collapsed": false
   },
   "outputs": [],
   "source": [
    "import pandas as pd\n",
    "import seaborn as sns\n",
    "import numpy as np\n",
    "import matplotlib.pyplot as plt\n",
    "import sklearn\n",
    "from sklearn.discriminant_analysis import LinearDiscriminantAnalysis\n",
    "from sklearn.model_selection import KFold\n",
    "from sklearn.model_selection import cross_val_score\n",
    "import matplotlib.pyplot as plt\n",
    "import seaborn as sn\n",
    "%matplotlib inline\n",
    "import missingno as msno  # if you do not have this package try install it by running : !pip install missingno"
   ]
  },
  {
   "cell_type": "markdown",
   "metadata": {},
   "source": [
    "#### Load data : "
   ]
  },
  {
   "cell_type": "code",
   "execution_count": 7,
   "metadata": {
    "collapsed": true
   },
   "outputs": [],
   "source": [
    "diabetes=pd.read_csv('diabetes.csv')"
   ]
  },
  {
   "cell_type": "code",
   "execution_count": 8,
   "metadata": {
    "collapsed": false
   },
   "outputs": [
    {
     "name": "stdout",
     "output_type": "stream",
     "text": [
      "(768, 9)\n"
     ]
    },
    {
     "data": {
      "text/html": [
       "<div>\n",
       "<table border=\"1\" class=\"dataframe\">\n",
       "  <thead>\n",
       "    <tr style=\"text-align: right;\">\n",
       "      <th></th>\n",
       "      <th>Pregnancies</th>\n",
       "      <th>Glucose</th>\n",
       "      <th>BloodPressure</th>\n",
       "      <th>SkinThickness</th>\n",
       "      <th>Insulin</th>\n",
       "      <th>BMI</th>\n",
       "      <th>DiabetesPedigreeFunction</th>\n",
       "      <th>Age</th>\n",
       "      <th>Outcome</th>\n",
       "    </tr>\n",
       "  </thead>\n",
       "  <tbody>\n",
       "    <tr>\n",
       "      <th>0</th>\n",
       "      <td>6</td>\n",
       "      <td>148</td>\n",
       "      <td>72</td>\n",
       "      <td>35</td>\n",
       "      <td>0</td>\n",
       "      <td>33.6</td>\n",
       "      <td>0.627</td>\n",
       "      <td>50</td>\n",
       "      <td>1</td>\n",
       "    </tr>\n",
       "    <tr>\n",
       "      <th>1</th>\n",
       "      <td>1</td>\n",
       "      <td>85</td>\n",
       "      <td>66</td>\n",
       "      <td>29</td>\n",
       "      <td>0</td>\n",
       "      <td>26.6</td>\n",
       "      <td>0.351</td>\n",
       "      <td>31</td>\n",
       "      <td>0</td>\n",
       "    </tr>\n",
       "    <tr>\n",
       "      <th>2</th>\n",
       "      <td>8</td>\n",
       "      <td>183</td>\n",
       "      <td>64</td>\n",
       "      <td>0</td>\n",
       "      <td>0</td>\n",
       "      <td>23.3</td>\n",
       "      <td>0.672</td>\n",
       "      <td>32</td>\n",
       "      <td>1</td>\n",
       "    </tr>\n",
       "    <tr>\n",
       "      <th>3</th>\n",
       "      <td>1</td>\n",
       "      <td>89</td>\n",
       "      <td>66</td>\n",
       "      <td>23</td>\n",
       "      <td>94</td>\n",
       "      <td>28.1</td>\n",
       "      <td>0.167</td>\n",
       "      <td>21</td>\n",
       "      <td>0</td>\n",
       "    </tr>\n",
       "    <tr>\n",
       "      <th>4</th>\n",
       "      <td>0</td>\n",
       "      <td>137</td>\n",
       "      <td>40</td>\n",
       "      <td>35</td>\n",
       "      <td>168</td>\n",
       "      <td>43.1</td>\n",
       "      <td>2.288</td>\n",
       "      <td>33</td>\n",
       "      <td>1</td>\n",
       "    </tr>\n",
       "  </tbody>\n",
       "</table>\n",
       "</div>"
      ],
      "text/plain": [
       "   Pregnancies  Glucose  BloodPressure  SkinThickness  Insulin   BMI  \\\n",
       "0            6      148             72             35        0  33.6   \n",
       "1            1       85             66             29        0  26.6   \n",
       "2            8      183             64              0        0  23.3   \n",
       "3            1       89             66             23       94  28.1   \n",
       "4            0      137             40             35      168  43.1   \n",
       "\n",
       "   DiabetesPedigreeFunction  Age  Outcome  \n",
       "0                     0.627   50        1  \n",
       "1                     0.351   31        0  \n",
       "2                     0.672   32        1  \n",
       "3                     0.167   21        0  \n",
       "4                     2.288   33        1  "
      ]
     },
     "execution_count": 8,
     "metadata": {},
     "output_type": "execute_result"
    }
   ],
   "source": [
    "# first 5 rows and the shape :\n",
    "print(diabetes.shape)\n",
    "diabetes.head()"
   ]
  },
  {
   "cell_type": "code",
   "execution_count": 9,
   "metadata": {
    "collapsed": false
   },
   "outputs": [
    {
     "data": {
      "text/plain": [
       "Pregnancies                   int64\n",
       "Glucose                       int64\n",
       "BloodPressure                 int64\n",
       "SkinThickness                 int64\n",
       "Insulin                       int64\n",
       "BMI                         float64\n",
       "DiabetesPedigreeFunction    float64\n",
       "Age                           int64\n",
       "Outcome                       int64\n",
       "dtype: object"
      ]
     },
     "execution_count": 9,
     "metadata": {},
     "output_type": "execute_result"
    }
   ],
   "source": [
    "# feature types : \n",
    "diabetes.dtypes"
   ]
  },
  {
   "cell_type": "code",
   "execution_count": 10,
   "metadata": {
    "collapsed": false
   },
   "outputs": [
    {
     "data": {
      "text/html": [
       "<div>\n",
       "<table border=\"1\" class=\"dataframe\">\n",
       "  <thead>\n",
       "    <tr style=\"text-align: right;\">\n",
       "      <th></th>\n",
       "      <th>Pregnancies</th>\n",
       "      <th>Glucose</th>\n",
       "      <th>BloodPressure</th>\n",
       "      <th>SkinThickness</th>\n",
       "      <th>Insulin</th>\n",
       "      <th>BMI</th>\n",
       "      <th>DiabetesPedigreeFunction</th>\n",
       "      <th>Age</th>\n",
       "      <th>Outcome</th>\n",
       "    </tr>\n",
       "  </thead>\n",
       "  <tbody>\n",
       "    <tr>\n",
       "      <th>count</th>\n",
       "      <td>768.000000</td>\n",
       "      <td>768.000000</td>\n",
       "      <td>768.000000</td>\n",
       "      <td>768.000000</td>\n",
       "      <td>768.000000</td>\n",
       "      <td>768.000000</td>\n",
       "      <td>768.000000</td>\n",
       "      <td>768.000000</td>\n",
       "      <td>768.000000</td>\n",
       "    </tr>\n",
       "    <tr>\n",
       "      <th>mean</th>\n",
       "      <td>3.845052</td>\n",
       "      <td>120.894531</td>\n",
       "      <td>69.105469</td>\n",
       "      <td>20.536458</td>\n",
       "      <td>79.799479</td>\n",
       "      <td>31.992578</td>\n",
       "      <td>0.471876</td>\n",
       "      <td>33.240885</td>\n",
       "      <td>0.348958</td>\n",
       "    </tr>\n",
       "    <tr>\n",
       "      <th>std</th>\n",
       "      <td>3.369578</td>\n",
       "      <td>31.972618</td>\n",
       "      <td>19.355807</td>\n",
       "      <td>15.952218</td>\n",
       "      <td>115.244002</td>\n",
       "      <td>7.884160</td>\n",
       "      <td>0.331329</td>\n",
       "      <td>11.760232</td>\n",
       "      <td>0.476951</td>\n",
       "    </tr>\n",
       "    <tr>\n",
       "      <th>min</th>\n",
       "      <td>0.000000</td>\n",
       "      <td>0.000000</td>\n",
       "      <td>0.000000</td>\n",
       "      <td>0.000000</td>\n",
       "      <td>0.000000</td>\n",
       "      <td>0.000000</td>\n",
       "      <td>0.078000</td>\n",
       "      <td>21.000000</td>\n",
       "      <td>0.000000</td>\n",
       "    </tr>\n",
       "    <tr>\n",
       "      <th>25%</th>\n",
       "      <td>1.000000</td>\n",
       "      <td>99.000000</td>\n",
       "      <td>62.000000</td>\n",
       "      <td>0.000000</td>\n",
       "      <td>0.000000</td>\n",
       "      <td>27.300000</td>\n",
       "      <td>0.243750</td>\n",
       "      <td>24.000000</td>\n",
       "      <td>0.000000</td>\n",
       "    </tr>\n",
       "    <tr>\n",
       "      <th>50%</th>\n",
       "      <td>3.000000</td>\n",
       "      <td>117.000000</td>\n",
       "      <td>72.000000</td>\n",
       "      <td>23.000000</td>\n",
       "      <td>30.500000</td>\n",
       "      <td>32.000000</td>\n",
       "      <td>0.372500</td>\n",
       "      <td>29.000000</td>\n",
       "      <td>0.000000</td>\n",
       "    </tr>\n",
       "    <tr>\n",
       "      <th>75%</th>\n",
       "      <td>6.000000</td>\n",
       "      <td>140.250000</td>\n",
       "      <td>80.000000</td>\n",
       "      <td>32.000000</td>\n",
       "      <td>127.250000</td>\n",
       "      <td>36.600000</td>\n",
       "      <td>0.626250</td>\n",
       "      <td>41.000000</td>\n",
       "      <td>1.000000</td>\n",
       "    </tr>\n",
       "    <tr>\n",
       "      <th>max</th>\n",
       "      <td>17.000000</td>\n",
       "      <td>199.000000</td>\n",
       "      <td>122.000000</td>\n",
       "      <td>99.000000</td>\n",
       "      <td>846.000000</td>\n",
       "      <td>67.100000</td>\n",
       "      <td>2.420000</td>\n",
       "      <td>81.000000</td>\n",
       "      <td>1.000000</td>\n",
       "    </tr>\n",
       "  </tbody>\n",
       "</table>\n",
       "</div>"
      ],
      "text/plain": [
       "       Pregnancies     Glucose  BloodPressure  SkinThickness     Insulin  \\\n",
       "count   768.000000  768.000000     768.000000     768.000000  768.000000   \n",
       "mean      3.845052  120.894531      69.105469      20.536458   79.799479   \n",
       "std       3.369578   31.972618      19.355807      15.952218  115.244002   \n",
       "min       0.000000    0.000000       0.000000       0.000000    0.000000   \n",
       "25%       1.000000   99.000000      62.000000       0.000000    0.000000   \n",
       "50%       3.000000  117.000000      72.000000      23.000000   30.500000   \n",
       "75%       6.000000  140.250000      80.000000      32.000000  127.250000   \n",
       "max      17.000000  199.000000     122.000000      99.000000  846.000000   \n",
       "\n",
       "              BMI  DiabetesPedigreeFunction         Age     Outcome  \n",
       "count  768.000000                768.000000  768.000000  768.000000  \n",
       "mean    31.992578                  0.471876   33.240885    0.348958  \n",
       "std      7.884160                  0.331329   11.760232    0.476951  \n",
       "min      0.000000                  0.078000   21.000000    0.000000  \n",
       "25%     27.300000                  0.243750   24.000000    0.000000  \n",
       "50%     32.000000                  0.372500   29.000000    0.000000  \n",
       "75%     36.600000                  0.626250   41.000000    1.000000  \n",
       "max     67.100000                  2.420000   81.000000    1.000000  "
      ]
     },
     "execution_count": 10,
     "metadata": {},
     "output_type": "execute_result"
    }
   ],
   "source": [
    "# describe data :\n",
    "diabetes.describe()\n"
   ]
  },
  {
   "cell_type": "markdown",
   "metadata": {},
   "source": [
    "- As you can see our class is not balanced: 34.89% are predicted as '1' ( the positive class) and the rest as '0' ( the negative class)\n",
    "- Range of values for features is different ( maybe some normalization will be mandatory in case of using some models like SVM and Neural Network)"
   ]
  },
  {
   "cell_type": "markdown",
   "metadata": {},
   "source": [
    "###### The most important point is: by looking at the min we notice that some features have 0 min value which is impossible!"
   ]
  },
  {
   "cell_type": "markdown",
   "metadata": {},
   "source": [
    "In the next part we are going to see how to identify missing values and mark them as missing values ( nan representation)"
   ]
  },
  {
   "cell_type": "markdown",
   "metadata": {},
   "source": [
    "#### Mark missing values "
   ]
  },
  {
   "cell_type": "markdown",
   "metadata": {},
   "source": [
    "Let's inspect the min result in our previous descibe  method :"
   ]
  },
  {
   "cell_type": "code",
   "execution_count": 11,
   "metadata": {
    "collapsed": false
   },
   "outputs": [
    {
     "data": {
      "text/plain": [
       "Pregnancies                  0.000\n",
       "Glucose                      0.000\n",
       "BloodPressure                0.000\n",
       "SkinThickness                0.000\n",
       "Insulin                      0.000\n",
       "BMI                          0.000\n",
       "DiabetesPedigreeFunction     0.078\n",
       "Age                         21.000\n",
       "Outcome                      0.000\n",
       "Name: min, dtype: float64"
      ]
     },
     "execution_count": 11,
     "metadata": {},
     "output_type": "execute_result"
    }
   ],
   "source": [
    "# you can use loc[] since diabetes.describe() is a dataframe\n",
    "diabetes.describe().loc['min',]"
   ]
  },
  {
   "cell_type": "markdown",
   "metadata": {},
   "source": [
    "As said before,  there are columns that have a minimum value of zero (0). On some columns, a value of zero does not make sense and indicates an invalid or missing value.\n",
    "\n",
    "Specifically, the following columns have an invalid zero minimum value(it is the context that implies these remarks ):\n",
    "\n",
    "    1: Plasma glucose concentration\n",
    "    2: Diastolic blood pressure\n",
    "    3: Triceps skinfold thickness\n",
    "    4: 2-Hour serum insulin\n",
    "    5: Body mass index"
   ]
  },
  {
   "cell_type": "markdown",
   "metadata": {},
   "source": [
    "Now, let's mark missing values by giving them the right representation. In Python, specifically Pandas, NumPy and Scikit-Learn, we mark missing values as NaN. Values with a NaN value are ignored from operations like sum, count, etc."
   ]
  },
  {
   "cell_type": "code",
   "execution_count": 12,
   "metadata": {
    "collapsed": false
   },
   "outputs": [
    {
     "name": "stdout",
     "output_type": "stream",
     "text": [
      "Pregnancies                   0\n",
      "Glucose                       5\n",
      "BloodPressure                35\n",
      "SkinThickness               227\n",
      "Insulin                     374\n",
      "BMI                          11\n",
      "DiabetesPedigreeFunction      0\n",
      "Age                           0\n",
      "Outcome                       0\n",
      "dtype: int64\n"
     ]
    },
    {
     "data": {
      "text/html": [
       "<div>\n",
       "<table border=\"1\" class=\"dataframe\">\n",
       "  <thead>\n",
       "    <tr style=\"text-align: right;\">\n",
       "      <th></th>\n",
       "      <th>Pregnancies</th>\n",
       "      <th>Glucose</th>\n",
       "      <th>BloodPressure</th>\n",
       "      <th>SkinThickness</th>\n",
       "      <th>Insulin</th>\n",
       "      <th>BMI</th>\n",
       "      <th>DiabetesPedigreeFunction</th>\n",
       "      <th>Age</th>\n",
       "      <th>Outcome</th>\n",
       "    </tr>\n",
       "  </thead>\n",
       "  <tbody>\n",
       "    <tr>\n",
       "      <th>0</th>\n",
       "      <td>6</td>\n",
       "      <td>148.0</td>\n",
       "      <td>72.0</td>\n",
       "      <td>35.0</td>\n",
       "      <td>NaN</td>\n",
       "      <td>33.6</td>\n",
       "      <td>0.627</td>\n",
       "      <td>50</td>\n",
       "      <td>1</td>\n",
       "    </tr>\n",
       "    <tr>\n",
       "      <th>1</th>\n",
       "      <td>1</td>\n",
       "      <td>85.0</td>\n",
       "      <td>66.0</td>\n",
       "      <td>29.0</td>\n",
       "      <td>NaN</td>\n",
       "      <td>26.6</td>\n",
       "      <td>0.351</td>\n",
       "      <td>31</td>\n",
       "      <td>0</td>\n",
       "    </tr>\n",
       "    <tr>\n",
       "      <th>2</th>\n",
       "      <td>8</td>\n",
       "      <td>183.0</td>\n",
       "      <td>64.0</td>\n",
       "      <td>NaN</td>\n",
       "      <td>NaN</td>\n",
       "      <td>23.3</td>\n",
       "      <td>0.672</td>\n",
       "      <td>32</td>\n",
       "      <td>1</td>\n",
       "    </tr>\n",
       "    <tr>\n",
       "      <th>3</th>\n",
       "      <td>1</td>\n",
       "      <td>89.0</td>\n",
       "      <td>66.0</td>\n",
       "      <td>23.0</td>\n",
       "      <td>94.0</td>\n",
       "      <td>28.1</td>\n",
       "      <td>0.167</td>\n",
       "      <td>21</td>\n",
       "      <td>0</td>\n",
       "    </tr>\n",
       "    <tr>\n",
       "      <th>4</th>\n",
       "      <td>0</td>\n",
       "      <td>137.0</td>\n",
       "      <td>40.0</td>\n",
       "      <td>35.0</td>\n",
       "      <td>168.0</td>\n",
       "      <td>43.1</td>\n",
       "      <td>2.288</td>\n",
       "      <td>33</td>\n",
       "      <td>1</td>\n",
       "    </tr>\n",
       "    <tr>\n",
       "      <th>5</th>\n",
       "      <td>5</td>\n",
       "      <td>116.0</td>\n",
       "      <td>74.0</td>\n",
       "      <td>NaN</td>\n",
       "      <td>NaN</td>\n",
       "      <td>25.6</td>\n",
       "      <td>0.201</td>\n",
       "      <td>30</td>\n",
       "      <td>0</td>\n",
       "    </tr>\n",
       "    <tr>\n",
       "      <th>6</th>\n",
       "      <td>3</td>\n",
       "      <td>78.0</td>\n",
       "      <td>50.0</td>\n",
       "      <td>32.0</td>\n",
       "      <td>88.0</td>\n",
       "      <td>31.0</td>\n",
       "      <td>0.248</td>\n",
       "      <td>26</td>\n",
       "      <td>1</td>\n",
       "    </tr>\n",
       "    <tr>\n",
       "      <th>7</th>\n",
       "      <td>10</td>\n",
       "      <td>115.0</td>\n",
       "      <td>NaN</td>\n",
       "      <td>NaN</td>\n",
       "      <td>NaN</td>\n",
       "      <td>35.3</td>\n",
       "      <td>0.134</td>\n",
       "      <td>29</td>\n",
       "      <td>0</td>\n",
       "    </tr>\n",
       "    <tr>\n",
       "      <th>8</th>\n",
       "      <td>2</td>\n",
       "      <td>197.0</td>\n",
       "      <td>70.0</td>\n",
       "      <td>45.0</td>\n",
       "      <td>543.0</td>\n",
       "      <td>30.5</td>\n",
       "      <td>0.158</td>\n",
       "      <td>53</td>\n",
       "      <td>1</td>\n",
       "    </tr>\n",
       "    <tr>\n",
       "      <th>9</th>\n",
       "      <td>8</td>\n",
       "      <td>125.0</td>\n",
       "      <td>96.0</td>\n",
       "      <td>NaN</td>\n",
       "      <td>NaN</td>\n",
       "      <td>NaN</td>\n",
       "      <td>0.232</td>\n",
       "      <td>54</td>\n",
       "      <td>1</td>\n",
       "    </tr>\n",
       "  </tbody>\n",
       "</table>\n",
       "</div>"
      ],
      "text/plain": [
       "   Pregnancies  Glucose  BloodPressure  SkinThickness  Insulin   BMI  \\\n",
       "0            6    148.0           72.0           35.0      NaN  33.6   \n",
       "1            1     85.0           66.0           29.0      NaN  26.6   \n",
       "2            8    183.0           64.0            NaN      NaN  23.3   \n",
       "3            1     89.0           66.0           23.0     94.0  28.1   \n",
       "4            0    137.0           40.0           35.0    168.0  43.1   \n",
       "5            5    116.0           74.0            NaN      NaN  25.6   \n",
       "6            3     78.0           50.0           32.0     88.0  31.0   \n",
       "7           10    115.0            NaN            NaN      NaN  35.3   \n",
       "8            2    197.0           70.0           45.0    543.0  30.5   \n",
       "9            8    125.0           96.0            NaN      NaN   NaN   \n",
       "\n",
       "   DiabetesPedigreeFunction  Age  Outcome  \n",
       "0                     0.627   50        1  \n",
       "1                     0.351   31        0  \n",
       "2                     0.672   32        1  \n",
       "3                     0.167   21        0  \n",
       "4                     2.288   33        1  \n",
       "5                     0.201   30        0  \n",
       "6                     0.248   26        1  \n",
       "7                     0.134   29        0  \n",
       "8                     0.158   53        1  \n",
       "9                     0.232   54        1  "
      ]
     },
     "execution_count": 12,
     "metadata": {},
     "output_type": "execute_result"
    }
   ],
   "source": [
    "# mark zero values as missing or NaN\n",
    "diabetes.iloc[:,[1,2,3,4,5]] = diabetes.iloc[:,[1,2,3,4,5]].replace(0, np.NaN)\n",
    "# count the number of NaN values in each column\n",
    "print(diabetes.isnull().sum())\n",
    "# print the first 10 rows to check that '0's were replaced by NaN\n",
    "diabetes.head(10)"
   ]
  },
  {
   "cell_type": "markdown",
   "metadata": {},
   "source": [
    "We can see that columns Glucose,BloodPressure and BMI have just a few zero values, whereas columns SkinThickness and Insulin show a lot more, approximately half of the rows.\n",
    "This highlights that different missing values strategies may be needed for different columns, e.g. to ensure that there are still a sufficient number of records left to train a predictive model"
   ]
  },
  {
   "cell_type": "markdown",
   "metadata": {},
   "source": [
    "#### Data missing visualization :"
   ]
  },
  {
   "cell_type": "markdown",
   "metadata": {},
   "source": [
    "Let's see a simple matrix visualization for the missing values involved in our dataset : "
   ]
  },
  {
   "cell_type": "code",
   "execution_count": 13,
   "metadata": {
    "collapsed": false
   },
   "outputs": [
    {
     "data": {
      "image/png": "[encoded data removed]",
      "text/plain": [
       "<matplotlib.figure.Figure at 0x7fee2de25518>"
      ]
     },
     "metadata": {},
     "output_type": "display_data"
    }
   ],
   "source": [
    "msno.matrix(diabetes)"
   ]
  },
  {
   "cell_type": "markdown",
   "metadata": {},
   "source": [
    "It is very clear that Insulin and SkinThickness have a lot of missing values."
   ]
  },
  {
   "cell_type": "markdown",
   "metadata": {},
   "source": [
    "Another way to visualize the completeness of your data is to use bar plot as follow :"
   ]
  },
  {
   "cell_type": "code",
   "execution_count": 14,
   "metadata": {
    "collapsed": false
   },
   "outputs": [
    {
     "data": {
      "image/png": "[encoded data removed]",
      "text/plain": [
       "<matplotlib.figure.Figure at 0x7fedd1fe5898>"
      ]
     },
     "metadata": {},
     "output_type": "display_data"
    }
   ],
   "source": [
    "msno.bar(diabetes, color=\"blue\", figsize=(30,18))"
   ]
  },
  {
   "cell_type": "markdown",
   "metadata": {},
   "source": [
    "A simple correlation heatmap is shown below. This map describes the degree of nullity relationship between the different features. The range of this nullity correlation is from -1 to 1 (-1 ≤ R ≤ 1). Features with no missing value are excluded in the heatmap( e.g : Age). If the nullity correlation is very close to zero (-0.05 < R < 0.05)(e.g : Glucose vs Glucose), no value will be displayed. Also, a perfect positive nullity correlation (R=1) indicates when the first feature and the second feature both have corresponding missing values (MAR) while a perfect negative nullity correlation (R=-1) means that one of the features is missing and the second is not missing (MNAR)."
   ]
  },
  {
   "cell_type": "code",
   "execution_count": 15,
   "metadata": {
    "collapsed": false
   },
   "outputs": [
    {
     "data": {
      "image/png": "[encoded data removed]",
      "text/plain": [
       "<matplotlib.figure.Figure at 0x7fedd1fca898>"
      ]
     },
     "metadata": {},
     "output_type": "display_data"
    }
   ],
   "source": [
    "msno.heatmap(diabetes)"
   ]
  },
  {
   "cell_type": "markdown",
   "metadata": {},
   "source": [
    "The above plot is not possible for big datasets, to overcome this issue you can use dendograms :"
   ]
  },
  {
   "cell_type": "code",
   "execution_count": 16,
   "metadata": {
    "collapsed": false
   },
   "outputs": [
    {
     "data": {
      "image/png": "[encoded data removed]",
      "text/plain": [
       "<matplotlib.figure.Figure at 0x7fedc5053198>"
      ]
     },
     "metadata": {},
     "output_type": "display_data"
    }
   ],
   "source": [
    "msno.dendrogram(diabetes) # Fits a `scipy` hierarchical clustering algorithm to the given DataFrame's variables and \n",
    "#visualizes the results as a `scipy` dendrogram.\n",
    "# It like what you have seen in clusetring methods."
   ]
  },
  {
   "cell_type": "markdown",
   "metadata": {},
   "source": [
    "---\n",
    "Untill now, we have explored how to identify missing values and how to give them the right representation (NaN). In the next part we are going to see how missing data can cause problems during our modeling. \n",
    "\n",
    "\n",
    "---\n"
   ]
  },
  {
   "cell_type": "markdown",
   "metadata": {
    "collapsed": true
   },
   "source": [
    "#### Problems with missing data :"
   ]
  },
  {
   "cell_type": "markdown",
   "metadata": {},
   "source": [
    "Modeling using a dataset with missing values can cause problems for some models."
   ]
  },
  {
   "cell_type": "markdown",
   "metadata": {},
   "source": [
    "###### Runnig a SVC classifier: "
   ]
  },
  {
   "cell_type": "code",
   "execution_count": 17,
   "metadata": {
    "collapsed": false
   },
   "outputs": [],
   "source": [
    "# split data into input X and output y\n",
    "values = diabetes.values  # array form\n",
    "X = values[:,0:8]\n",
    "y = values[:,8]"
   ]
  },
  {
   "cell_type": "code",
   "execution_count": 18,
   "metadata": {
    "collapsed": false
   },
   "outputs": [],
   "source": [
    "from sklearn.svm import SVC\n",
    "#svm = SVC(kernel='rbf', C=1).fit(X, y)\n",
    "#svm.score(X, y)"
   ]
  },
  {
   "cell_type": "markdown",
   "metadata": {},
   "source": [
    "- Remove the comment and run the cell above to see the result.\n",
    "- We got an error and it is exactly what we expected, because there are NaN values in our data which SVC can not handle.\n"
   ]
  },
  {
   "cell_type": "markdown",
   "metadata": {},
   "source": [
    "Now we are going to handle those missing values. As described above. We have multiple mechanism for missing data and each mechanism needs its suitable methods for imputing data. In the following part, we are going to explore multiple ways to imput missing data and compare the performance of each one. Let's Learn something new :) :"
   ]
  },
  {
   "cell_type": "markdown",
   "metadata": {},
   "source": [
    "#### Remove Rows with missing data :"
   ]
  },
  {
   "cell_type": "markdown",
   "metadata": {},
   "source": [
    "Refer to Data deletion methods section for more information about this method."
   ]
  },
  {
   "cell_type": "markdown",
   "metadata": {},
   "source": [
    "<b>Pandas</b> provides the dropna() function that can be used to drop either columns or rows with missing data. "
   ]
  },
  {
   "cell_type": "markdown",
   "metadata": {},
   "source": [
    "<b>We can use dropna() to remove all rows with missing data, as follows:</b>"
   ]
  },
  {
   "cell_type": "code",
   "execution_count": 19,
   "metadata": {
    "collapsed": false
   },
   "outputs": [
    {
     "name": "stdout",
     "output_type": "stream",
     "text": [
      "(392, 9)\n"
     ]
    }
   ],
   "source": [
    "# drop rows with missing values\n",
    "diabetes.dropna(inplace=True)\n",
    "# summarize the number of rows and columns in the dataset\n",
    "print(diabetes.shape)"
   ]
  },
  {
   "cell_type": "markdown",
   "metadata": {},
   "source": [
    "Obviously, the number of rows has been decreased sharply from 768 to 392. \n",
    "<b>===></b> Removing all rows with at least one missing value is not a good idea in case having only a small training dataset."
   ]
  },
  {
   "cell_type": "markdown",
   "metadata": {},
   "source": [
    "###### SVC classifier :"
   ]
  },
  {
   "cell_type": "code",
   "execution_count": 20,
   "metadata": {
    "collapsed": false
   },
   "outputs": [
    {
     "name": "stdout",
     "output_type": "stream",
     "text": [
      "Recall : 0.563562091503\n",
      "Accuracy:  0.778195341554\n"
     ]
    }
   ],
   "source": [
    "from sklearn.svm import SVC\n",
    "# prepare input and output data :\n",
    "values = diabetes.values\n",
    "X = values[:,0:8]\n",
    "y = values[:,8]\n",
    "# SVC with linear kernel and C=1\n",
    "svm = SVC(kernel='linear', C=1)\n",
    "# cross validation method \n",
    "kfold = KFold(n_splits=3, random_state=7)\n",
    "# note I have used recall and accuracy as scoring metric \n",
    "# ( you can use also precision, F-score, ..)\n",
    "# by default recall score is computed for the label '1' which is in\n",
    "# our case the minority class\n",
    "result_recall = cross_val_score(svm, X, y, cv=kfold, scoring='recall')\n",
    "result_accuracy = cross_val_score(svm, X, y, cv=kfold, scoring='accuracy')\n",
    "\n",
    "print('Recall :',result_recall.mean())\n",
    "print('Accuracy: ', result_accuracy.mean())"
   ]
  },
  {
   "cell_type": "markdown",
   "metadata": {},
   "source": [
    "Good! The accuracy outperforms the dummy classifier accuracy (66%). Also for the recall we have an interesting result of 56%. However, eliminating missing data degrades the results for some models. Let's see the effect of deleting columns with missing data."
   ]
  },
  {
   "cell_type": "markdown",
   "metadata": {},
   "source": [
    "<b>We can use dropna() to remove all columns with missing data that  exceeds a defined threshold, as follows:</b>"
   ]
  },
  {
   "cell_type": "code",
   "execution_count": 21,
   "metadata": {
    "collapsed": false
   },
   "outputs": [
    {
     "name": "stdout",
     "output_type": "stream",
     "text": [
      "(768, 4)\n"
     ]
    }
   ],
   "source": [
    "# diabetes is now without any missing values, so we will load again data\n",
    "# and prepare it as before :\n",
    "diabetes=pd.read_csv('diabetes.csv')\n",
    "# mark zero values as missing or NaN\n",
    "diabetes.iloc[:,[1,2,3,4,5]] = diabetes.iloc[:,[1,2,3,4,5]].replace(0, np.NaN)\n",
    "# delete columns with missing values with a defined threshold fraction ( here 1.0*len(diabetes))\n",
    "#( it means : Keep only the columns that contains 100% rows without missing values) :\n",
    "# Because i am using SVC i am obliged to use  a fraction of 100%, otherwise\n",
    "# the resulting data can have NaN values which is not supported by SVC.\n",
    "frac = len(diabetes) * 1\n",
    "diabetes.dropna(thresh=frac, axis=1,inplace=True)\n",
    "# summarize the number of rows and columns in the dataset\n",
    "print(diabetes.shape)"
   ]
  },
  {
   "cell_type": "code",
   "execution_count": 22,
   "metadata": {
    "collapsed": false
   },
   "outputs": [
    {
     "data": {
      "text/html": [
       "<div>\n",
       "<table border=\"1\" class=\"dataframe\">\n",
       "  <thead>\n",
       "    <tr style=\"text-align: right;\">\n",
       "      <th></th>\n",
       "      <th>Pregnancies</th>\n",
       "      <th>DiabetesPedigreeFunction</th>\n",
       "      <th>Age</th>\n",
       "      <th>Outcome</th>\n",
       "    </tr>\n",
       "  </thead>\n",
       "  <tbody>\n",
       "    <tr>\n",
       "      <th>0</th>\n",
       "      <td>6</td>\n",
       "      <td>0.627</td>\n",
       "      <td>50</td>\n",
       "      <td>1</td>\n",
       "    </tr>\n",
       "    <tr>\n",
       "      <th>1</th>\n",
       "      <td>1</td>\n",
       "      <td>0.351</td>\n",
       "      <td>31</td>\n",
       "      <td>0</td>\n",
       "    </tr>\n",
       "  </tbody>\n",
       "</table>\n",
       "</div>"
      ],
      "text/plain": [
       "   Pregnancies  DiabetesPedigreeFunction  Age  Outcome\n",
       "0            6                     0.627   50        1\n",
       "1            1                     0.351   31        0"
      ]
     },
     "execution_count": 22,
     "metadata": {},
     "output_type": "execute_result"
    }
   ],
   "source": [
    "# first 2 rows to inspect the new data \n",
    "diabetes.head(2)"
   ]
  },
  {
   "cell_type": "markdown",
   "metadata": {},
   "source": [
    "###### SVC classifier: "
   ]
  },
  {
   "cell_type": "code",
   "execution_count": 23,
   "metadata": {
    "collapsed": false
   },
   "outputs": [
    {
     "name": "stdout",
     "output_type": "stream",
     "text": [
      "Recall : 0.143978211697\n",
      "Accuracy:  0.641927083333\n"
     ]
    }
   ],
   "source": [
    "from sklearn.svm import SVC\n",
    "# prepare input and output data :\n",
    "values = diabetes.values\n",
    "X = values[:,0:3]\n",
    "y = values[:,3]\n",
    "# SVC with linear kernel and C=1\n",
    "svm = SVC(kernel='linear', C=1)\n",
    "# cross validation method \n",
    "kfold = KFold(n_splits=3, random_state=7)\n",
    "\n",
    "result_recall = cross_val_score(svm, X, y, cv=kfold, scoring='recall')\n",
    "result_accuracy = cross_val_score(svm, X, y, cv=kfold, scoring='accuracy')\n",
    "\n",
    "print('Recall :',result_recall.mean())\n",
    "print('Accuracy: ', result_accuracy.mean())"
   ]
  },
  {
   "cell_type": "markdown",
   "metadata": {},
   "source": [
    "Results can say more what I can give as a comment. Now you have a full idea about the need to process missing data and not to throw them simply with dropna() function. "
   ]
  },
  {
   "cell_type": "markdown",
   "metadata": {},
   "source": [
    "### Impute Missing Values"
   ]
  },
  {
   "cell_type": "markdown",
   "metadata": {},
   "source": [
    "Impute missing values is not an easy task, because it depends on many criterias such as the domain, the reasons behind missing values etc .\n",
    " In the next part, we are going to explore different ways for imputing missing values and compute the performance on each resulting dataset. ( Refer to sections above about how to impute missing data to know more about those methods). "
   ]
  },
  {
   "cell_type": "markdown",
   "metadata": {
    "collapsed": true
   },
   "source": [
    "<b>When imputing missing values, there many options to take such as :</b>\n",
    "    "
   ]
  },
  {
   "cell_type": "markdown",
   "metadata": {},
   "source": [
    "- Replace missing values by a constant value that has meaning in the domain.\n",
    "- A value estimated by another predictive model\n",
    "- A mean,median or mode value.\n",
    "- A value from another randomly selected record."
   ]
  },
  {
   "cell_type": "markdown",
   "metadata": {},
   "source": [
    "#### Imputing using the mean,median,mode( for categorical variables) :"
   ]
  },
  {
   "cell_type": "markdown",
   "metadata": {},
   "source": [
    "Using the measures of central tendency involves substituting the missing values with the mean or median for numerical variables and the mode for categorical variables. The major limitation of using this method is that it leads to biased estimates of the variances and covariance. The standard errors and test statistics can also be underestimated and overestimated respectively. <b>This imputation technique works well with when the values are Missing Completely at Random (MCAR)</b>. Scikit-learn comes with an imputed function in the form <b>sklearn.preprocessing.Imputer(missing_values='NaN', strategy='mean', axis=0, verbose=0, copy=True)</b>. Strategy is the imputation strategy and the default is the \"mean\" of the axis (0 for columns and 1 for rows). The other strategies are \"median\" and \"most_frequent\"."
   ]
  },
  {
   "cell_type": "code",
   "execution_count": 24,
   "metadata": {
    "collapsed": true
   },
   "outputs": [],
   "source": [
    "from sklearn.preprocessing import Imputer\n",
    "imp = Imputer(missing_values='NaN', strategy='median', axis=0)\n",
    "# you can use for the strategy either median, mean,mostfrequent"
   ]
  },
  {
   "cell_type": "code",
   "execution_count": 25,
   "metadata": {
    "collapsed": false
   },
   "outputs": [],
   "source": [
    "#load again the data and preprocess it.\n",
    "diabetes=pd.read_csv('diabetes.csv')\n",
    "# mark zero values as missing or NaN\n",
    "diabetes.iloc[:,[1,2,3,4,5]] = diabetes.iloc[:,[1,2,3,4,5]].replace(0, np.NaN)\n",
    "## fill missing values by the mean of the colmun concerned :\n",
    "imp.fit(diabetes)\n",
    "imputed_diabetes=imp.transform(diabetes)\n",
    "\n"
   ]
  },
  {
   "cell_type": "markdown",
   "metadata": {},
   "source": [
    "#### SVC classifier :"
   ]
  },
  {
   "cell_type": "code",
   "execution_count": 26,
   "metadata": {
    "collapsed": false
   },
   "outputs": [
    {
     "name": "stdout",
     "output_type": "stream",
     "text": [
      "Recall : 0.551460357027\n",
      "Accuracy:  0.763020833333\n"
     ]
    }
   ],
   "source": [
    "from sklearn.svm import SVC\n",
    "# prepare input and output data :\n",
    "\n",
    "X = imputed_diabetes[:,0:8]\n",
    "y = imputed_diabetes[:,8]\n",
    "# SVC with linear kernel and C=1\n",
    "svm = SVC(kernel='linear', C=1)\n",
    "# cross validation method \n",
    "kfold = KFold(n_splits=3, random_state=7)\n",
    "\n",
    "result_recall = cross_val_score(svm, X, y, cv=kfold, scoring='recall')\n",
    "result_accuracy = cross_val_score(svm, X, y, cv=kfold, scoring='accuracy')\n",
    "\n",
    "print('Recall :',result_recall.mean())\n",
    "print('Accuracy: ', result_accuracy.mean())"
   ]
  },
  {
   "cell_type": "markdown",
   "metadata": {},
   "source": [
    "<mark>Results are quit good but less than deleting all rows with missing values as we have already performed. Do not worry, now we are trying to highlight different strategies. The best one depends on the context and how the data was missed( MCAR, MAR and MNAR). As I have mentionned before imputing missing values with mean, median etc works well with MCAR data, but if you go back to data missing visualization you can find out that it is not the case here.</mark>"
   ]
  },
  {
   "cell_type": "markdown",
   "metadata": {},
   "source": [
    "#### k-Neareast Neighbor (kNN) Imputation :"
   ]
  },
  {
   "cell_type": "markdown",
   "metadata": {},
   "source": [
    "For k-Nearest Neighbor imputation, the missing values are based on a kNN algorithm. These values are obtained by using similarity-based methods that rely on distance metrics (Euclidean distance, Jaccard similarity, Minkowski norm etc). They can be used to predict both discrete and continuous attributes. The main disadvantage of using kNN imputation is that it becomes time-consuming when analyzing large datasets because it searches for similar instances through all the dataset. fancyimpute.kNN(k=x).complete(data matrix) can be used for kNN imputation. Choosing the correct value for the number of neighbors (k) is also an important factor to consider when using kNN imputation."
   ]
  },
  {
   "cell_type": "code",
   "execution_count": 27,
   "metadata": {
    "collapsed": false
   },
   "outputs": [
    {
     "name": "stdout",
     "output_type": "stream",
     "text": [
      "Collecting fancyimpute\n",
      "  Downloading fancyimpute-0.2.0.tar.gz\n",
      "Requirement already satisfied (use --upgrade to upgrade): six in /opt/conda/lib/python3.5/site-packages (from fancyimpute)\n",
      "Collecting knnimpute (from fancyimpute)\n",
      "  Downloading knnimpute-0.1.0.tar.gz\n",
      "Requirement already satisfied (use --upgrade to upgrade): numpy>=1.10 in /opt/conda/lib/python3.5/site-packages (from fancyimpute)\n",
      "Requirement already satisfied (use --upgrade to upgrade): scipy in /opt/conda/lib/python3.5/site-packages (from fancyimpute)\n",
      "Collecting cvxpy (from fancyimpute)\n",
      "  Downloading cvxpy-0.4.11.tar.gz (159kB)\n",
      "\u001b[K    100% |████████████████████████████████| 163kB 5.1MB/s \n",
      "\u001b[?25hRequirement already satisfied (use --upgrade to upgrade): scikit-learn>=0.17.1 in /opt/conda/lib/python3.5/site-packages (from fancyimpute)\n",
      "Collecting downhill (from fancyimpute)\n",
      "  Downloading downhill-0.4.0-py2.py3-none-any.whl\n",
      "Collecting climate (from fancyimpute)\n",
      "  Downloading climate-0.4.6-py3-none-any.whl\n",
      "Collecting theano (from fancyimpute)\n",
      "  Downloading Theano-0.9.0.tar.gz (3.1MB)\n",
      "\u001b[K    100% |████████████████████████████████| 3.1MB 344kB/s \n",
      "\u001b[?25hCollecting ecos>=2 (from cvxpy->fancyimpute)\n",
      "  Downloading ecos-2.0.4.tar.gz (113kB)\n",
      "\u001b[K    100% |████████████████████████████████| 122kB 7.7MB/s \n",
      "\u001b[?25hCollecting scs>=1.1.3 (from cvxpy->fancyimpute)\n",
      "  Downloading scs-1.2.7.tar.gz (280kB)\n",
      "\u001b[K    100% |████████████████████████████████| 286kB 3.6MB/s \n",
      "\u001b[?25hCollecting multiprocess (from cvxpy->fancyimpute)\n",
      "  Downloading multiprocess-0.70.5.zip (1.5MB)\n",
      "\u001b[K    100% |████████████████████████████████| 1.5MB 791kB/s \n",
      "\u001b[?25hRequirement already satisfied (use --upgrade to upgrade): fastcache in /opt/conda/lib/python3.5/site-packages (from cvxpy->fancyimpute)\n",
      "Collecting toolz (from cvxpy->fancyimpute)\n",
      "  Downloading toolz-0.8.2.tar.gz (45kB)\n",
      "\u001b[K    100% |████████████████████████████████| 51kB 7.2MB/s \n",
      "\u001b[?25hCollecting CVXcanon>=0.0.22 (from cvxpy->fancyimpute)\n",
      "  Downloading CVXcanon-0.1.1.tar.gz (694kB)\n",
      "\u001b[K    100% |████████████████████████████████| 696kB 1.6MB/s \n",
      "\u001b[?25hCollecting click (from downhill->fancyimpute)\n",
      "  Downloading click-6.7-py2.py3-none-any.whl (71kB)\n",
      "\u001b[K    100% |████████████████████████████████| 71kB 7.8MB/s \n",
      "\u001b[?25hCollecting plac (from climate->fancyimpute)\n",
      "  Downloading plac-0.9.6-py2.py3-none-any.whl\n",
      "Collecting dill>=0.2.6 (from multiprocess->cvxpy->fancyimpute)\n",
      "  Downloading dill-0.2.7.1.tar.gz (64kB)\n",
      "\u001b[K    100% |████████████████████████████████| 71kB 10.0MB/s \n",
      "\u001b[?25hBuilding wheels for collected packages: fancyimpute, knnimpute, cvxpy, theano, ecos, scs, multiprocess, toolz, CVXcanon, dill\n",
      "  Running setup.py bdist_wheel for fancyimpute ... \u001b[?25l-\b \b\\\b \b|\b \bdone\n",
      "\u001b[?25h  Stored in directory: /home/jovyan/.cache/pip/wheels/46/9d/78/a49d65bb66557f705de636d1a21f9310993a4342670add3f9e\n",
      "  Running setup.py bdist_wheel for knnimpute ... \u001b[?25l-\b \b\\\b \b|\b \bdone\n",
      "\u001b[?25h  Stored in directory: /home/jovyan/.cache/pip/wheels/66/a0/1c/ed41cf540d0bd6d4ae368e9554b77753da154e7d8974c4435f\n",
      "  Running setup.py bdist_wheel for cvxpy ... \u001b[?25l-\b \b\\\b \b|\b \b/\b \b-\b \b\\\b \b|\b \b/\b \bdone\n",
      "\u001b[?25h  Stored in directory: /home/jovyan/.cache/pip/wheels/25/7d/12/57dfa9160d887b962454011079e491d815dbfc99e5555fbcef\n",
      "  Running setup.py bdist_wheel for theano ... \u001b[?25l-\b \b\\\b \b|\b \b/\b \b-\b \b\\\b \bdone\n",
      "\u001b[?25h  Stored in directory: /home/jovyan/.cache/pip/wheels/d5/5b/93/433299b86e3e9b25f0f600e4e4ebf18e38eb7534ea518eba13\n",
      "  Running setup.py bdist_wheel for ecos ... \u001b[?25l-\b \b\\\b \b|\b \b/\b \b-\b \b\\\b \b|\b \b/\b \b-\b \b\\\b \b|\b \b/\b \b-\b \b\\\b \b|\b \b/\b \b-\b \b\\\b \b|\b \b/\b \b-\b \b\\\b \b|\b \bdone\n",
      "\u001b[?25h  Stored in directory: /home/jovyan/.cache/pip/wheels/c3/1d/fc/fb93c7c26e627779cfe8cd433bb8ed2cd628f19ad094f70517\n",
      "  Running setup.py bdist_wheel for scs ... \u001b[?25l-\b \b\\\b \b|\b \b/\b \b-\b \b\\\b \b|\b \b/\b \b-\b \b\\\b \b|\b \b/\b \b-\b \b\\\b \b|\b \b/\b \b-\b \b\\\b \b|\b \b/\b \b-\b \b\\\b \b|\b \b/\b \b-\b \b\\\b \b|\b \b/\b \b-\b \b\\\b \bdone\n",
      "\u001b[?25h  Stored in directory: /home/jovyan/.cache/pip/wheels/de/bb/5c/5efaf95dbe8b2a87650a9a1061aeefcd5b16353b98afbac789\n",
      "  Running setup.py bdist_wheel for multiprocess ... \u001b[?25l-\b \b\\\b \b|\b \b/\b \b-\b \bdone\n",
      "\u001b[?25h  Stored in directory: /home/jovyan/.cache/pip/wheels/28/ef/9f/5cc70b5d92fc4641b68dc23b3583f2b6ec1d153cb71985aeaf\n",
      "  Running setup.py bdist_wheel for toolz ... \u001b[?25l-\b \b\\\b \bdone\n",
      "\u001b[?25h  Stored in directory: /home/jovyan/.cache/pip/wheels/44/56/6f/d5ac6dce9c887d96df2cd7b27ed0a6dd9357ef82b951ebb777\n",
      "  Running setup.py bdist_wheel for CVXcanon ... \u001b[?25l-\b \b\\\b \b|\b \b/\b \b-\b \b\\\b \b|\b \b/\b \bdone\n",
      "\u001b[?25h  Stored in directory: /home/jovyan/.cache/pip/wheels/1b/f6/dd/14f66c64621bddd6b92a3cfc995fa2a21b134fcf4122402b30\n",
      "  Running setup.py bdist_wheel for dill ... \u001b[?25l-\b \b\\\b \b|\b \bdone\n",
      "\u001b[?25h  Stored in directory: /home/jovyan/.cache/pip/wheels/e5/88/fe/7e290ce5bb39d531eb9bee5cf254ba1c3e3c7ba3339ce67bee\n",
      "Successfully built fancyimpute knnimpute cvxpy theano ecos scs multiprocess toolz CVXcanon dill\n",
      "Installing collected packages: knnimpute, ecos, scs, dill, multiprocess, toolz, CVXcanon, cvxpy, click, theano, downhill, plac, climate, fancyimpute\n",
      "  Found existing installation: dill 0.2.5\n",
      "    Uninstalling dill-0.2.5:\n",
      "      Successfully uninstalled dill-0.2.5\n",
      "Successfully installed CVXcanon-0.1.1 click-6.7 climate-0.4.6 cvxpy-0.4.11 dill-0.2.7.1 downhill-0.4.0 ecos-2.0.4 fancyimpute-0.2.0 knnimpute-0.1.0 multiprocess-0.70.5 plac-0.9.6 scs-1.2.7 theano-0.9.0 toolz-0.8.2\n",
      "\u001b[33mYou are using pip version 8.1.2, however version 9.0.1 is available.\n",
      "You should consider upgrading via the 'pip install --upgrade pip' command.\u001b[0m\n"
     ]
    }
   ],
   "source": [
    "#install required packages : we will use fancyimpute package\n",
    "!pip install fancyimpute"
   ]
  },
  {
   "cell_type": "markdown",
   "metadata": {},
   "source": [
    "I will begin by explaining a short example on how to use fancyimpute package in order to impute missing values :"
   ]
  },
  {
   "cell_type": "code",
   "execution_count": 28,
   "metadata": {
    "collapsed": false
   },
   "outputs": [
    {
     "data": {
      "text/html": [
       "<div>\n",
       "<table border=\"1\" class=\"dataframe\">\n",
       "  <thead>\n",
       "    <tr style=\"text-align: right;\">\n",
       "      <th></th>\n",
       "      <th>feature1</th>\n",
       "      <th>feature2</th>\n",
       "    </tr>\n",
       "  </thead>\n",
       "  <tbody>\n",
       "    <tr>\n",
       "      <th>0</th>\n",
       "      <td>10.0</td>\n",
       "      <td>10.0</td>\n",
       "    </tr>\n",
       "    <tr>\n",
       "      <th>1</th>\n",
       "      <td>12.0</td>\n",
       "      <td>20.0</td>\n",
       "    </tr>\n",
       "    <tr>\n",
       "      <th>2</th>\n",
       "      <td>NaN</td>\n",
       "      <td>30.0</td>\n",
       "    </tr>\n",
       "    <tr>\n",
       "      <th>3</th>\n",
       "      <td>14.0</td>\n",
       "      <td>40.0</td>\n",
       "    </tr>\n",
       "    <tr>\n",
       "      <th>4</th>\n",
       "      <td>15.0</td>\n",
       "      <td>50.0</td>\n",
       "    </tr>\n",
       "    <tr>\n",
       "      <th>5</th>\n",
       "      <td>16.0</td>\n",
       "      <td>60.0</td>\n",
       "    </tr>\n",
       "    <tr>\n",
       "      <th>6</th>\n",
       "      <td>17.0</td>\n",
       "      <td>70.0</td>\n",
       "    </tr>\n",
       "    <tr>\n",
       "      <th>7</th>\n",
       "      <td>18.0</td>\n",
       "      <td>80.0</td>\n",
       "    </tr>\n",
       "    <tr>\n",
       "      <th>8</th>\n",
       "      <td>19.0</td>\n",
       "      <td>90.0</td>\n",
       "    </tr>\n",
       "    <tr>\n",
       "      <th>9</th>\n",
       "      <td>NaN</td>\n",
       "      <td>100.0</td>\n",
       "    </tr>\n",
       "    <tr>\n",
       "      <th>10</th>\n",
       "      <td>21.0</td>\n",
       "      <td>110.0</td>\n",
       "    </tr>\n",
       "  </tbody>\n",
       "</table>\n",
       "</div>"
      ],
      "text/plain": [
       "    feature1  feature2\n",
       "0       10.0      10.0\n",
       "1       12.0      20.0\n",
       "2        NaN      30.0\n",
       "3       14.0      40.0\n",
       "4       15.0      50.0\n",
       "5       16.0      60.0\n",
       "6       17.0      70.0\n",
       "7       18.0      80.0\n",
       "8       19.0      90.0\n",
       "9        NaN     100.0\n",
       "10      21.0     110.0"
      ]
     },
     "execution_count": 28,
     "metadata": {},
     "output_type": "execute_result"
    }
   ],
   "source": [
    "#import required libraries :\n",
    "from fancyimpute import KNN\n",
    "#Create a simple dataframe with missing values :\n",
    "df = pd.DataFrame({'feature1':[10, 12, np.nan, 14, 15, 16, 17, 18, 19, np.nan, 21], \n",
    "                    'feature2': [10, 20, 30, 40, 50, 60, 70, 80, 90, 100, 110.]}) \n",
    "\n",
    "df"
   ]
  },
  {
   "cell_type": "code",
   "execution_count": 29,
   "metadata": {
    "collapsed": false
   },
   "outputs": [
    {
     "name": "stdout",
     "output_type": "stream",
     "text": [
      "Imputing row 1/11 with 0 missing, elapsed time: 0.002\n"
     ]
    },
    {
     "data": {
      "text/plain": [
       "array([[  10.        ,   10.        ],\n",
       "       [  12.        ,   20.        ],\n",
       "       [  12.66666693,   30.        ],\n",
       "       [  14.        ,   40.        ],\n",
       "       [  15.        ,   50.        ],\n",
       "       [  16.        ,   60.        ],\n",
       "       [  17.        ,   70.        ],\n",
       "       [  18.        ,   80.        ],\n",
       "       [  19.        ,   90.        ],\n",
       "       [  19.77777819,  100.        ],\n",
       "       [  21.        ,  110.        ]])"
      ]
     },
     "execution_count": 29,
     "metadata": {},
     "output_type": "execute_result"
    }
   ],
   "source": [
    "#use KNN to impute missing values\n",
    "X_filled_knn = KNN(k=3).complete(df)  # k=3  Number of neighboring rows to use for imputation.\n",
    "# See results :\n",
    "X_filled_knn"
   ]
  },
  {
   "cell_type": "markdown",
   "metadata": {},
   "source": [
    "<b>End of the example</b>"
   ]
  },
  {
   "cell_type": "markdown",
   "metadata": {},
   "source": [
    "Let's go back to our data :"
   ]
  },
  {
   "cell_type": "code",
   "execution_count": 30,
   "metadata": {
    "collapsed": false
   },
   "outputs": [
    {
     "name": "stdout",
     "output_type": "stream",
     "text": [
      "Imputing row 1/9 with 0 missing, elapsed time: 0.002\n"
     ]
    }
   ],
   "source": [
    "#load again the data and preprocess it.\n",
    "diabetes=pd.read_csv('diabetes.csv')\n",
    "# mark zero values as missing or NaN\n",
    "diabetes.iloc[:,[1,2,3,4,5]] = diabetes.iloc[:,[1,2,3,4,5]].replace(0, np.NaN)\n",
    "## fill missing values by using KNN approach :\n",
    "\n",
    "diabetes_filled_knn=KNN(k=3,orientation='columns').complete(diabetes)"
   ]
  },
  {
   "cell_type": "markdown",
   "metadata": {},
   "source": [
    "#### SVC classifier :"
   ]
  },
  {
   "cell_type": "code",
   "execution_count": 31,
   "metadata": {
    "collapsed": false
   },
   "outputs": [
    {
     "name": "stdout",
     "output_type": "stream",
     "text": [
      "Recall : 0.550415596234\n",
      "Accuracy:  0.759114583333\n"
     ]
    }
   ],
   "source": [
    "X=diabetes_filled_knn[:,0:8]\n",
    "y=diabetes_filled_knn[:,8]\n",
    "# SVC with linear kernel and C=1\n",
    "svm = SVC(kernel='linear', C=1)\n",
    "# cross validation method \n",
    "kfold = KFold(n_splits=3, random_state=7)\n",
    "\n",
    "result_recall = cross_val_score(svm, X, y, cv=kfold, scoring='recall')\n",
    "result_accuracy = cross_val_score(svm, X, y, cv=kfold, scoring='accuracy')\n",
    "\n",
    "print('Recall :',result_recall.mean())\n",
    "print('Accuracy: ', result_accuracy.mean())"
   ]
  },
  {
   "cell_type": "markdown",
   "metadata": {},
   "source": [
    "I hope the above examples gave you an interesting idea about how to use the fancyimpute package in order to impute missing values."
   ]
  },
  {
   "cell_type": "markdown",
   "metadata": {},
   "source": [
    "#### Multiple Imputation using MICE (Multiple Imputation by Chained Equations)"
   ]
  },
  {
   "cell_type": "markdown",
   "metadata": {},
   "source": [
    "Multiple imputation is a process where the missing values are filled multiple times to create \"complete\" datasets. Multiple imputation has a lot of advantages over traditional single imputation methods.<b> Multiple Imputation by Chained Equations (MICE) is an imputation method that works with the assumption that the missing data are Missing at Random (MAR)</b>. Recall that for MAR, the nature of the missing data is related to the observed data but not the missing data. The MICE algorithm works by running multiple regression models and each missing value is modeled conditionally depending on the observed (non-missing) values. For that we will use : <b>fancyimpute.MICE().complete(data matrix)</b> can be used for MICE implementation."
   ]
  },
  {
   "cell_type": "code",
   "execution_count": 32,
   "metadata": {
    "collapsed": false
   },
   "outputs": [
    {
     "name": "stdout",
     "output_type": "stream",
     "text": [
      "[MICE] Completing matrix with shape (768, 9)\n",
      "[MICE] Starting imputation round 1/110, elapsed time 0.001\n",
      "[MICE] Starting imputation round 2/110, elapsed time 0.046\n",
      "[MICE] Starting imputation round 3/110, elapsed time 0.064\n",
      "[MICE] Starting imputation round 4/110, elapsed time 0.083\n",
      "[MICE] Starting imputation round 5/110, elapsed time 0.097\n",
      "[MICE] Starting imputation round 6/110, elapsed time 0.112\n",
      "[MICE] Starting imputation round 7/110, elapsed time 0.129\n",
      "[MICE] Starting imputation round 8/110, elapsed time 0.147\n",
      "[MICE] Starting imputation round 9/110, elapsed time 0.164\n",
      "[MICE] Starting imputation round 10/110, elapsed time 0.183\n",
      "[MICE] Starting imputation round 11/110, elapsed time 0.200\n",
      "[MICE] Starting imputation round 12/110, elapsed time 0.215\n",
      "[MICE] Starting imputation round 13/110, elapsed time 0.243\n",
      "[MICE] Starting imputation round 14/110, elapsed time 0.253\n",
      "[MICE] Starting imputation round 15/110, elapsed time 0.270\n",
      "[MICE] Starting imputation round 16/110, elapsed time 0.285\n",
      "[MICE] Starting imputation round 17/110, elapsed time 0.302\n",
      "[MICE] Starting imputation round 18/110, elapsed time 0.315\n",
      "[MICE] Starting imputation round 19/110, elapsed time 0.330\n",
      "[MICE] Starting imputation round 20/110, elapsed time 0.343\n",
      "[MICE] Starting imputation round 21/110, elapsed time 0.355\n",
      "[MICE] Starting imputation round 22/110, elapsed time 0.371\n",
      "[MICE] Starting imputation round 23/110, elapsed time 0.390\n",
      "[MICE] Starting imputation round 24/110, elapsed time 0.406\n",
      "[MICE] Starting imputation round 25/110, elapsed time 0.421\n",
      "[MICE] Starting imputation round 26/110, elapsed time 0.443\n",
      "[MICE] Starting imputation round 27/110, elapsed time 0.468\n",
      "[MICE] Starting imputation round 28/110, elapsed time 0.487\n",
      "[MICE] Starting imputation round 29/110, elapsed time 0.514\n",
      "[MICE] Starting imputation round 30/110, elapsed time 0.534\n",
      "[MICE] Starting imputation round 31/110, elapsed time 0.550\n",
      "[MICE] Starting imputation round 32/110, elapsed time 0.567\n",
      "[MICE] Starting imputation round 33/110, elapsed time 0.583\n",
      "[MICE] Starting imputation round 34/110, elapsed time 0.603\n",
      "[MICE] Starting imputation round 35/110, elapsed time 0.622\n",
      "[MICE] Starting imputation round 36/110, elapsed time 0.639\n",
      "[MICE] Starting imputation round 37/110, elapsed time 0.666\n",
      "[MICE] Starting imputation round 38/110, elapsed time 0.690\n",
      "[MICE] Starting imputation round 39/110, elapsed time 0.705\n",
      "[MICE] Starting imputation round 40/110, elapsed time 0.723\n",
      "[MICE] Starting imputation round 41/110, elapsed time 0.752\n",
      "[MICE] Starting imputation round 42/110, elapsed time 0.826\n",
      "[MICE] Starting imputation round 43/110, elapsed time 0.864\n",
      "[MICE] Starting imputation round 44/110, elapsed time 0.890\n",
      "[MICE] Starting imputation round 45/110, elapsed time 0.912\n",
      "[MICE] Starting imputation round 46/110, elapsed time 0.929\n",
      "[MICE] Starting imputation round 47/110, elapsed time 0.952\n",
      "[MICE] Starting imputation round 48/110, elapsed time 0.970\n",
      "[MICE] Starting imputation round 49/110, elapsed time 0.989\n",
      "[MICE] Starting imputation round 50/110, elapsed time 1.013\n",
      "[MICE] Starting imputation round 51/110, elapsed time 1.035\n",
      "[MICE] Starting imputation round 52/110, elapsed time 1.074\n",
      "[MICE] Starting imputation round 53/110, elapsed time 1.097\n",
      "[MICE] Starting imputation round 54/110, elapsed time 1.118\n",
      "[MICE] Starting imputation round 55/110, elapsed time 1.132\n",
      "[MICE] Starting imputation round 56/110, elapsed time 1.145\n",
      "[MICE] Starting imputation round 57/110, elapsed time 1.162\n",
      "[MICE] Starting imputation round 58/110, elapsed time 1.179\n",
      "[MICE] Starting imputation round 59/110, elapsed time 1.197\n",
      "[MICE] Starting imputation round 60/110, elapsed time 1.220\n",
      "[MICE] Starting imputation round 61/110, elapsed time 1.240\n",
      "[MICE] Starting imputation round 62/110, elapsed time 1.270\n",
      "[MICE] Starting imputation round 63/110, elapsed time 1.283\n",
      "[MICE] Starting imputation round 64/110, elapsed time 1.306\n",
      "[MICE] Starting imputation round 65/110, elapsed time 1.321\n",
      "[MICE] Starting imputation round 66/110, elapsed time 1.333\n",
      "[MICE] Starting imputation round 67/110, elapsed time 1.346\n",
      "[MICE] Starting imputation round 68/110, elapsed time 1.363\n",
      "[MICE] Starting imputation round 69/110, elapsed time 1.376\n",
      "[MICE] Starting imputation round 70/110, elapsed time 1.395\n",
      "[MICE] Starting imputation round 71/110, elapsed time 1.411\n",
      "[MICE] Starting imputation round 72/110, elapsed time 1.430\n",
      "[MICE] Starting imputation round 73/110, elapsed time 1.455\n",
      "[MICE] Starting imputation round 74/110, elapsed time 1.472\n",
      "[MICE] Starting imputation round 75/110, elapsed time 1.487\n",
      "[MICE] Starting imputation round 76/110, elapsed time 1.499\n",
      "[MICE] Starting imputation round 77/110, elapsed time 1.511\n",
      "[MICE] Starting imputation round 78/110, elapsed time 1.523\n",
      "[MICE] Starting imputation round 79/110, elapsed time 1.542\n",
      "[MICE] Starting imputation round 80/110, elapsed time 1.558\n",
      "[MICE] Starting imputation round 81/110, elapsed time 1.574\n",
      "[MICE] Starting imputation round 82/110, elapsed time 1.591\n",
      "[MICE] Starting imputation round 83/110, elapsed time 1.611\n",
      "[MICE] Starting imputation round 84/110, elapsed time 1.624\n",
      "[MICE] Starting imputation round 85/110, elapsed time 1.642\n",
      "[MICE] Starting imputation round 86/110, elapsed time 1.655\n",
      "[MICE] Starting imputation round 87/110, elapsed time 1.672\n",
      "[MICE] Starting imputation round 88/110, elapsed time 1.699\n",
      "[MICE] Starting imputation round 89/110, elapsed time 1.723\n",
      "[MICE] Starting imputation round 90/110, elapsed time 1.738\n",
      "[MICE] Starting imputation round 91/110, elapsed time 1.752\n",
      "[MICE] Starting imputation round 92/110, elapsed time 1.764\n",
      "[MICE] Starting imputation round 93/110, elapsed time 1.776\n",
      "[MICE] Starting imputation round 94/110, elapsed time 1.791\n",
      "[MICE] Starting imputation round 95/110, elapsed time 1.805\n",
      "[MICE] Starting imputation round 96/110, elapsed time 1.820\n",
      "[MICE] Starting imputation round 97/110, elapsed time 1.833\n",
      "[MICE] Starting imputation round 98/110, elapsed time 1.843\n",
      "[MICE] Starting imputation round 99/110, elapsed time 1.858\n",
      "[MICE] Starting imputation round 100/110, elapsed time 1.873\n",
      "[MICE] Starting imputation round 101/110, elapsed time 1.898\n",
      "[MICE] Starting imputation round 102/110, elapsed time 1.919\n",
      "[MICE] Starting imputation round 103/110, elapsed time 1.934\n",
      "[MICE] Starting imputation round 104/110, elapsed time 1.952\n",
      "[MICE] Starting imputation round 105/110, elapsed time 1.967\n",
      "[MICE] Starting imputation round 106/110, elapsed time 1.990\n",
      "[MICE] Starting imputation round 107/110, elapsed time 2.010\n",
      "[MICE] Starting imputation round 108/110, elapsed time 2.026\n",
      "[MICE] Starting imputation round 109/110, elapsed time 2.038\n",
      "[MICE] Starting imputation round 110/110, elapsed time 2.050\n"
     ]
    }
   ],
   "source": [
    "from fancyimpute import MICE\n",
    "#load again the data and preprocess it.\n",
    "diabetes=pd.read_csv('diabetes.csv')\n",
    "# mark zero values as missing or NaN\n",
    "diabetes.iloc[:,[1,2,3,4,5]] = diabetes.iloc[:,[1,2,3,4,5]].replace(0, np.NaN)\n",
    "## fill missing values by using MICE approach :\n",
    "mice_diabetes=MICE().complete(diabetes.values)"
   ]
  },
  {
   "cell_type": "code",
   "execution_count": 33,
   "metadata": {
    "collapsed": false
   },
   "outputs": [
    {
     "data": {
      "text/plain": [
       "array([[   6.   ,  148.   ,   72.   , ...,    0.627,   50.   ,    1.   ],\n",
       "       [   1.   ,   85.   ,   66.   , ...,    0.351,   31.   ,    0.   ],\n",
       "       [   8.   ,  183.   ,   64.   , ...,    0.672,   32.   ,    1.   ],\n",
       "       ..., \n",
       "       [   5.   ,  121.   ,   72.   , ...,    0.245,   30.   ,    0.   ],\n",
       "       [   1.   ,  126.   ,   60.   , ...,    0.349,   47.   ,    1.   ],\n",
       "       [   1.   ,   93.   ,   70.   , ...,    0.315,   23.   ,    0.   ]])"
      ]
     },
     "execution_count": 33,
     "metadata": {},
     "output_type": "execute_result"
    }
   ],
   "source": [
    "mice_diabetes"
   ]
  },
  {
   "cell_type": "code",
   "execution_count": 34,
   "metadata": {
    "collapsed": false
   },
   "outputs": [
    {
     "name": "stdout",
     "output_type": "stream",
     "text": [
      "Recall : 0.558877781829\n",
      "Accuracy:  0.768229166667\n"
     ]
    }
   ],
   "source": [
    "# Library for scaling data ( as you know SVM needs normalization)\n",
    "from sklearn import preprocessing\n",
    "# prepare vectors: features and label\n",
    "X_train=mice_diabetes[:,0:8]\n",
    "y=mice_diabetes[:,8]\n",
    "# scale features\n",
    "X_train_scale=preprocessing.scale(X_train)\n",
    "\n",
    "# SVC with linear kernel and C=1\n",
    "svm = SVC(kernel='linear', C=1)\n",
    "# cross validation method \n",
    "kfold = KFold(n_splits=3, random_state=7)\n",
    "\n",
    "result_recall = cross_val_score(svm, X_train_scale, y, cv=kfold, scoring='recall')\n",
    "result_accuracy = cross_val_score(svm, X_train_scale, y, cv=kfold, scoring='accuracy')\n",
    "\n",
    "print('Recall :',result_recall.mean())\n",
    "print('Accuracy: ', result_accuracy.mean())"
   ]
  },
  {
   "cell_type": "markdown",
   "metadata": {},
   "source": [
    "### Algorithms That handles missing data "
   ]
  },
  {
   "cell_type": "markdown",
   "metadata": {},
   "source": [
    "As I have already said, there are algorithms that handle missing data with doing any preprocessing. One of those algorithm is XGBOOSt."
   ]
  },
  {
   "cell_type": "code",
   "execution_count": 37,
   "metadata": {
    "collapsed": false
   },
   "outputs": [
    {
     "name": "stdout",
     "output_type": "stream",
     "text": [
      "Collecting xgboost\n",
      "  Downloading xgboost-0.6a2.tar.gz (1.2MB)\n",
      "\u001b[K    100% |████████████████████████████████| 1.2MB 857kB/s \n",
      "\u001b[?25hRequirement already satisfied (use --upgrade to upgrade): numpy in /opt/conda/lib/python3.5/site-packages (from xgboost)\n",
      "Requirement already satisfied (use --upgrade to upgrade): scipy in /opt/conda/lib/python3.5/site-packages (from xgboost)\n",
      "Requirement already satisfied (use --upgrade to upgrade): scikit-learn in /opt/conda/lib/python3.5/site-packages (from xgboost)\n",
      "Building wheels for collected packages: xgboost\n",
      "  Running setup.py bdist_wheel for xgboost ... \u001b[?25l-\b \b\\\b \b|\b \b/\b \b-\b \b\\\b \b|\b \b/\b \b-\b \b\\\b \b|\b \b/\b \b-\b \b\\\b \b|\b \b/\b \b-\b \b\\\b \b|\b \b/\b \b-\b \b\\\b \b|\b \b/\b \b-\b \b\\\b \b|\b \b/\b \b-\b \b\\\b \b|\b \b/\b \b-\b \b\\\b \b|\b \b/\b \b-\b \b\\\b \b|\b \b/\b \b-\b \b\\\b \b|\b \b/\b \b-\b \b\\\b \b|\b \b/\b \b-\b \b\\\b \b|\b \b/\b \b-\b \b\\\b \b|\b \b/\b \b-\b \b\\\b \b|\b \bdone\n",
      "\u001b[?25h  Stored in directory: /home/jovyan/.cache/pip/wheels/5e/c1/d6/522af54e5cc001fad4dd855117f8bf61b11d56443e06672e26\n",
      "Successfully built xgboost\n",
      "Installing collected packages: xgboost\n",
      "Successfully installed xgboost-0.6a2\n",
      "\u001b[33mYou are using pip version 8.1.2, however version 9.0.1 is available.\n",
      "You should consider upgrading via the 'pip install --upgrade pip' command.\u001b[0m\n"
     ]
    }
   ],
   "source": [
    "#install xgboosr using pip :\n",
    "!pip install xgboost"
   ]
  },
  {
   "cell_type": "code",
   "execution_count": 40,
   "metadata": {
    "collapsed": false
   },
   "outputs": [
    {
     "name": "stdout",
     "output_type": "stream",
     "text": [
      "Accuracy: 76.77%\n",
      "Recall: 65.22%\n"
     ]
    }
   ],
   "source": [
    "#Required libraries :\n",
    "from xgboost import XGBClassifier\n",
    "from sklearn.model_selection import train_test_split\n",
    "from sklearn.metrics import accuracy_score,recall_score\n",
    "# load data\n",
    "diabetes=pd.read_csv('diabetes.csv')\n",
    "# mark zero values as missing or NaN\n",
    "diabetes.iloc[:,[1,2,3,4,5]] = diabetes.iloc[:,[1,2,3,4,5]].replace(0, np.NaN)\n",
    "# split data into X and y\n",
    "X = diabetes.values[:,0:8]\n",
    "Y = diabetes.values[:,8]\n",
    "# split data into train and test sets\n",
    "seed = 7\n",
    "test_size = 0.33\n",
    "X_train, X_test, y_train, y_test = train_test_split(X, Y, test_size=test_size, random_state=seed)\n",
    "# fit model on training data\n",
    "model = XGBClassifier()\n",
    "model.fit(X_train, y_train)\n",
    "# make predictions for test data\n",
    "y_pred = model.predict(X_test)\n",
    "# evaluate predictions\n",
    "accuracy = accuracy_score(y_test, y_pred)\n",
    "recall=recall_score(y_test,y_pred)\n",
    "print(\"Accuracy: %.2f%%\" % (accuracy * 100.0))\n",
    "print(\"Recall: %.2f%%\" % (recall * 100.0))"
   ]
  },
  {
   "cell_type": "markdown",
   "metadata": {},
   "source": [
    "# Conclusion :"
   ]
  },
  {
   "cell_type": "markdown",
   "metadata": {},
   "source": [
    "This lab highlights the importance of preprocessing missing data in data mining and machine learning. The first part was about the mechanisms behind missing values which are: MAR, MNAR and MCAR. Those mechanisms push the Data Scientist to be very careful about this issue and to refer to persons that understand the context of the mission. I have also provided an overview of some solutions in order to deal with missing values. The seconde part was full of application on a dataset taken from Kaggle. During this part you have explored some data exploration, how to identify and mark missing values, some visualizations that help you to take a fast idea about the interaction between different columns regarding their missing values. "
   ]
  },
  {
   "cell_type": "markdown",
   "metadata": {},
   "source": [
    "# Bibliography"
   ]
  },
  {
   "cell_type": "markdown",
   "metadata": {},
   "source": [
    "- [1] http://datascience.ibm.com/blog/missing-data-conundrum-exploration-and-imputation-techniques/ \n",
    "- [2] http://scikit-learn.org/stable/modules/preprocessing.html#imputation\n",
    "\n",
    "- [3] https://machinelearningmastery.com/handle-missing-data-python/\n",
    "- [4] https://www.math.univ-toulouse.fr/~besse/Wikistat/"
   ]
  },
  {
   "cell_type": "code",
   "execution_count": null,
   "metadata": {
    "collapsed": true
   },
   "outputs": [],
   "source": []
  }
 ],
 "metadata": {
  "kernelspec": {
   "display_name": "Python 3",
   "language": "python",
   "name": "python3"
  },
  "language_info": {
   "codemirror_mode": {
    "name": "ipython",
    "version": 3
   },
   "file_extension": ".py",
   "mimetype": "text/x-python",
   "name": "python",
   "nbconvert_exporter": "python",
   "pygments_lexer": "ipython3",
   "version": "3.5.2"
  }
 },
 "nbformat": 4,
 "nbformat_minor": 1
}
