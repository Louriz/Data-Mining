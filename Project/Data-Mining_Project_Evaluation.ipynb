{
 "cells": [
  {
   "cell_type": "markdown",
   "metadata": {},
   "source": [
    "![](IMT.jpg)"
   ]
  },
  {
   "cell_type": "markdown",
   "metadata": {},
   "source": [
    "---\n",
    "# Evaluation\n",
    "---"
   ]
  },
  {
   "cell_type": "markdown",
   "metadata": {},
   "source": [
    "Riahi LOURIZ\n",
    "\n",
    "    Ingénieur généraliste, Data science \n",
    "    \n",
    "    Promo 2018\n",
    "    \n",
    "    e-mail perso :riahilouriz@gmail.com\n",
    "    \n",
    "    e-mail école :riahi.louriz@telecom-bretagne.eu\n",
    "    "
   ]
  },
  {
   "cell_type": "markdown",
   "metadata": {},
   "source": [
    "Preparing, preprocessing, understanding data, feature engineering and modeling are considered a very important steps in machine learning. \n",
    "However, a Data scientist should be very aware about the results of his model and the way how to interpret his results.\n",
    "This lab covers evaluation and model selection methods that you can use to help understand and optimize the performance of your machine\n",
    "learning models."
   ]
  },
  {
   "cell_type": "markdown",
   "metadata": {},
   "source": [
    "## Objectives:"
   ]
  },
  {
   "cell_type": "markdown",
   "metadata": {},
   "source": [
    "1. Understand why accuracy alone can be an inadequate metric for getting a more complete picture of a classifier's performance\n",
    "\n",
    "2. Understand the motivation and definition of a variety of important evaluation metrics in machine learning and how to interpret the results of using a given evaluation metric\n",
    "\n",
    "3. Optimize a machine learning algorithm using a specific evaluation metric appropriate for a given task"
   ]
  },
  {
   "cell_type": "markdown",
   "metadata": {},
   "source": [
    "#### key words :"
   ]
  },
  {
   "cell_type": "markdown",
   "metadata": {},
   "source": [
    "Accuracy, Recall, Precision, F-score, AUC, ROC curve, Confusion Matrices, Grid Search."
   ]
  },
  {
   "cell_type": "markdown",
   "metadata": {},
   "source": [
    "###### We are going to work on breast_cancer and  digits datasets which exist already in sklearn.\n",
    "    The first part we are going to use the breast_cancer dataset, and the second part will be about the digits dataset"
   ]
  },
  {
   "cell_type": "markdown",
   "metadata": {},
   "source": [
    "For more information about the dataset, you can visit the following link :\n",
    "    https://archive.ics.uci.edu/ml/datasets/Breast+Cancer+Wisconsin+(Diagnostic)"
   ]
  },
  {
   "cell_type": "markdown",
   "metadata": {},
   "source": [
    "# Part 1 :"
   ]
  },
  {
   "cell_type": "markdown",
   "metadata": {},
   "source": [
    "## Required libraries: "
   ]
  },
  {
   "cell_type": "code",
   "execution_count": 1,
   "metadata": {
    "collapsed": true
   },
   "outputs": [],
   "source": [
    "%matplotlib notebook\n",
    "import numpy as np\n",
    "import pandas as pd\n",
    "import seaborn as sn\n",
    "import matplotlib.pyplot as plt\n",
    "\n",
    "from sklearn.model_selection import train_test_split\n",
    "from sklearn.datasets import make_classification, make_blobs\n",
    "from matplotlib.colors import ListedColormap\n",
    "from sklearn.datasets import load_breast_cancer"
   ]
  },
  {
   "cell_type": "markdown",
   "metadata": {},
   "source": [
    "## Loading dataset:"
   ]
  },
  {
   "cell_type": "code",
   "execution_count": 2,
   "metadata": {
    "collapsed": true
   },
   "outputs": [],
   "source": [
    "cancer = load_breast_cancer()"
   ]
  },
  {
   "cell_type": "markdown",
   "metadata": {},
   "source": [
    "### feature names :"
   ]
  },
  {
   "cell_type": "code",
   "execution_count": 3,
   "metadata": {
    "collapsed": false
   },
   "outputs": [
    {
     "name": "stdout",
     "output_type": "stream",
     "text": [
      "cancer data contains 30 features, which are :\n",
      "['mean radius' 'mean texture' 'mean perimeter' 'mean area'\n",
      " 'mean smoothness' 'mean compactness' 'mean concavity'\n",
      " 'mean concave points' 'mean symmetry' 'mean fractal dimension'\n",
      " 'radius error' 'texture error' 'perimeter error' 'area error'\n",
      " 'smoothness error' 'compactness error' 'concavity error'\n",
      " 'concave points error' 'symmetry error' 'fractal dimension error'\n",
      " 'worst radius' 'worst texture' 'worst perimeter' 'worst area'\n",
      " 'worst smoothness' 'worst compactness' 'worst concavity'\n",
      " 'worst concave points' 'worst symmetry' 'worst fractal dimension']\n"
     ]
    }
   ],
   "source": [
    "print('cancer data contains',len(cancer.feature_names), 'features, which are :')\n",
    "print(cancer.feature_names) "
   ]
  },
  {
   "cell_type": "markdown",
   "metadata": {},
   "source": [
    "<mark>Our data set contains 30 numerical attributes(features).</mark>"
   ]
  },
  {
   "cell_type": "markdown",
   "metadata": {},
   "source": [
    "### target names :"
   ]
  },
  {
   "cell_type": "code",
   "execution_count": 4,
   "metadata": {
    "collapsed": false
   },
   "outputs": [
    {
     "data": {
      "text/plain": [
       "array(['malignant', 'benign'], \n",
       "      dtype='<U9')"
      ]
     },
     "execution_count": 4,
     "metadata": {},
     "output_type": "execute_result"
    }
   ],
   "source": [
    "cancer.target_names"
   ]
  },
  {
   "cell_type": "markdown",
   "metadata": {},
   "source": [
    "<mark> The target column has 2 different values : malignant and benign </mark>"
   ]
  },
  {
   "cell_type": "code",
   "execution_count": 5,
   "metadata": {
    "collapsed": true
   },
   "outputs": [],
   "source": [
    "#X_cancer : features values in a numpy array form\n",
    "#y_cancer : target values in a numpy array form\n",
    "(X_cancer, y_cancer) = load_breast_cancer(return_X_y = True)"
   ]
  },
  {
   "cell_type": "markdown",
   "metadata": {},
   "source": [
    "###### from now, we are going to work on X_cancer and y_cancer arrays."
   ]
  },
  {
   "cell_type": "markdown",
   "metadata": {},
   "source": [
    "### Description of the target :"
   ]
  },
  {
   "cell_type": "code",
   "execution_count": 6,
   "metadata": {
    "collapsed": false
   },
   "outputs": [
    {
     "name": "stdout",
     "output_type": "stream",
     "text": [
      "Length of y_cancer : 569\n",
      "Percentage of malignant: 37.2583479789 %\n"
     ]
    }
   ],
   "source": [
    "#length of y_caner\n",
    "print('Length of y_cancer :',len(y_cancer))\n",
    "# percentage of malignant. Note that malignant is encoded as '0'\n",
    "print( 'Percentage of malignant:',(1-np.mean(y_cancer))*100,'%')"
   ]
  },
  {
   "cell_type": "markdown",
   "metadata": {},
   "source": [
    "<mark> Comment : Notice that the class '0' is the minority class. This fact will help us understand the evaluation methods very well."
   ]
  },
  {
   "cell_type": "markdown",
   "metadata": {},
   "source": [
    "## Dummy classifiers :"
   ]
  },
  {
   "cell_type": "markdown",
   "metadata": {},
   "source": [
    "DummyClassifier is a classifier that makes predictions using simple rules, which can be useful as a baseline for comparison against future classifiers, especially when the data presents imbalanced classes( like our case with the breast cancer dataset)."
   ]
  },
  {
   "cell_type": "markdown",
   "metadata": {},
   "source": [
    "### Some notes about a dummy classifier : "
   ]
  },
  {
   "cell_type": "markdown",
   "metadata": {},
   "source": [
    "- We can use it as a sanity check for the models that we have developed.\n",
    "- We should not use those classifiers in real application\n",
    "- They provide a null metric baseline.\n",
    "- Can be used for classification and regression\n",
    "- Some strategies, for classification task, used for strategy parameter : \n",
    "    - most_frequent : predicts the most frequent label in the dataset\n",
    "    - stratified : random prediction based on the target distribution\n",
    "    - uniform : predictions are generated uniformly at random\n",
    "    - constante:  predicts a constant provided by the user."
   ]
  },
  {
   "cell_type": "code",
   "execution_count": 7,
   "metadata": {
    "collapsed": true
   },
   "outputs": [],
   "source": [
    "#split our data for train/test\n",
    "X_train, X_test, y_train, y_test = train_test_split(X_cancer, y_cancer, random_state=0)"
   ]
  },
  {
   "cell_type": "markdown",
   "metadata": {},
   "source": [
    "### Build a Dummy classifier :"
   ]
  },
  {
   "cell_type": "markdown",
   "metadata": {},
   "source": [
    "#### most_frequent startegy:"
   ]
  },
  {
   "cell_type": "code",
   "execution_count": 8,
   "metadata": {
    "collapsed": false
   },
   "outputs": [
    {
     "data": {
      "text/plain": [
       "array([1, 1, 1, 1, 1, 1, 1, 1, 1, 1, 1, 1, 1, 1, 1, 1, 1, 1, 1, 1, 1, 1, 1,\n",
       "       1, 1, 1, 1, 1, 1, 1, 1, 1, 1, 1, 1, 1, 1, 1, 1, 1, 1, 1, 1, 1, 1, 1,\n",
       "       1, 1, 1, 1, 1, 1, 1, 1, 1, 1, 1, 1, 1, 1, 1, 1, 1, 1, 1, 1, 1, 1, 1,\n",
       "       1, 1, 1, 1, 1, 1, 1, 1, 1, 1, 1, 1, 1, 1, 1, 1, 1, 1, 1, 1, 1, 1, 1,\n",
       "       1, 1, 1, 1, 1, 1, 1, 1, 1, 1, 1, 1, 1, 1, 1, 1, 1, 1, 1, 1, 1, 1, 1,\n",
       "       1, 1, 1, 1, 1, 1, 1, 1, 1, 1, 1, 1, 1, 1, 1, 1, 1, 1, 1, 1, 1, 1, 1,\n",
       "       1, 1, 1, 1, 1])"
      ]
     },
     "execution_count": 8,
     "metadata": {},
     "output_type": "execute_result"
    }
   ],
   "source": [
    "from sklearn.dummy import DummyClassifier\n",
    "\n",
    "# Negative class (1) is most frequent\n",
    "dummy_majority = DummyClassifier(strategy = 'most_frequent').fit(X_train, y_train)\n",
    "# Therefore the dummy 'most_frequent' classifier always predicts class 1\n",
    "y_dummy_predictions = dummy_majority.predict(X_test)\n",
    "\n",
    "y_dummy_predictions"
   ]
  },
  {
   "cell_type": "code",
   "execution_count": 9,
   "metadata": {
    "collapsed": false
   },
   "outputs": [
    {
     "data": {
      "text/plain": [
       "0.62937062937062938"
      ]
     },
     "execution_count": 9,
     "metadata": {},
     "output_type": "execute_result"
    }
   ],
   "source": [
    "# score :\n",
    "dummy_majority.score(X_test, y_test)"
   ]
  },
  {
   "cell_type": "markdown",
   "metadata": {},
   "source": [
    "Notice that the result is equal to the proportion of the negative class '1'"
   ]
  },
  {
   "cell_type": "markdown",
   "metadata": {},
   "source": [
    "#### stratified strategy:"
   ]
  },
  {
   "cell_type": "code",
   "execution_count": 10,
   "metadata": {
    "collapsed": false
   },
   "outputs": [
    {
     "data": {
      "text/plain": [
       "array([1, 0, 1, 1, 1, 1, 1, 1, 1, 1, 1, 1, 0, 0, 0, 1, 1, 1, 0, 0, 1, 0, 0,\n",
       "       1, 1, 1, 0, 1, 0, 0, 1, 1, 1, 1, 1, 1, 1, 1, 1, 1, 1, 1, 0, 1, 0, 0,\n",
       "       1, 1, 1, 1, 1, 1, 1, 1, 1, 1, 0, 0, 0, 1, 1, 0, 0, 0, 1, 1, 1, 1, 1,\n",
       "       1, 1, 0, 1, 0, 1, 0, 1, 1, 0, 0, 1, 1, 0, 0, 1, 1, 1, 1, 0, 1, 1, 0,\n",
       "       1, 1, 0, 0, 1, 1, 1, 1, 0, 1, 0, 1, 0, 1, 1, 0, 0, 0, 1, 1, 0, 0, 1,\n",
       "       1, 1, 1, 1, 1, 1, 0, 1, 1, 1, 1, 1, 0, 1, 1, 1, 0, 0, 1, 0, 1, 1, 1,\n",
       "       1, 0, 1, 0, 1])"
      ]
     },
     "execution_count": 10,
     "metadata": {},
     "output_type": "execute_result"
    }
   ],
   "source": [
    "dummy_stratified = DummyClassifier(strategy = 'stratified').fit(X_train, y_train)\n",
    "# Therefore the dummy 'most_frequent' classifier always predicts class 1\n",
    "y_dummy_predictions = dummy_stratified.predict(X_test)\n",
    "y_dummy_predictions"
   ]
  },
  {
   "cell_type": "code",
   "execution_count": 11,
   "metadata": {
    "collapsed": false
   },
   "outputs": [
    {
     "data": {
      "text/plain": [
       "0.5174825174825175"
      ]
     },
     "execution_count": 11,
     "metadata": {},
     "output_type": "execute_result"
    }
   ],
   "source": [
    "dummy_stratified.score(X_test,y_test)"
   ]
  },
  {
   "cell_type": "markdown",
   "metadata": {},
   "source": [
    "### Confusion matrices :"
   ]
  },
  {
   "cell_type": "markdown",
   "metadata": {},
   "source": [
    "![](confusion_matrix.png)\n",
    " "
   ]
  },
  {
   "cell_type": "markdown",
   "metadata": {},
   "source": [
    "In our case the positive class is '0' and the negative class is '1'"
   ]
  },
  {
   "cell_type": "code",
   "execution_count": 12,
   "metadata": {
    "collapsed": false
   },
   "outputs": [
    {
     "name": "stdout",
     "output_type": "stream",
     "text": [
      "Most frequent class (dummy classifier)\n",
      " [[ 0 53]\n",
      " [ 0 90]]\n"
     ]
    }
   ],
   "source": [
    "from sklearn.metrics import confusion_matrix\n",
    "\n",
    "# Negative class (1) is most frequent\n",
    "dummy_majority = DummyClassifier(strategy = 'most_frequent').fit(X_train, y_train)\n",
    "y_majority_predicted = dummy_majority.predict(X_test)\n",
    "confusion = confusion_matrix(y_test, y_majority_predicted)\n",
    "\n",
    "print('Most frequent class (dummy classifier)\\n', confusion)"
   ]
  },
  {
   "cell_type": "code",
   "execution_count": 13,
   "metadata": {
    "collapsed": false
   },
   "outputs": [
    {
     "name": "stdout",
     "output_type": "stream",
     "text": [
      "Random class-proportional prediction (dummy classifier)\n",
      " [[20 33]\n",
      " [36 54]]\n"
     ]
    }
   ],
   "source": [
    "# produces random predictions same class proportion as training set\n",
    "dummy_classprop = DummyClassifier(strategy='stratified').fit(X_train, y_train)\n",
    "y_classprop_predicted = dummy_classprop.predict(X_test)\n",
    "confusion = confusion_matrix(y_test, y_classprop_predicted)\n",
    "\n",
    "print('Random class-proportional prediction (dummy classifier)\\n', confusion)"
   ]
  },
  {
   "cell_type": "markdown",
   "metadata": {},
   "source": [
    "Untill now we have got a full idea about how a dummy classifier works, and how to exploit it as baseline for comparaison with a model\n",
    "which must outperfoms the performance of this dummy classifier."
   ]
  },
  {
   "cell_type": "markdown",
   "metadata": {},
   "source": [
    "<b>Let's now exploit a diversity of classifiers and compare their confusion_matrix:</b> "
   ]
  },
  {
   "cell_type": "markdown",
   "metadata": {},
   "source": [
    "## SVM classifier"
   ]
  },
  {
   "cell_type": "code",
   "execution_count": 14,
   "metadata": {
    "collapsed": false
   },
   "outputs": [
    {
     "name": "stdout",
     "output_type": "stream",
     "text": [
      "the score on the test set is : 0.629370629371 \n",
      "But look at the confusion matrix :\n",
      "Support vector machine classifier (rbf kernel, C=1)\n",
      " [[ 0 53]\n",
      " [ 0 90]]\n"
     ]
    }
   ],
   "source": [
    "from sklearn.svm import SVC\n",
    "\n",
    "svm = SVC(kernel='rbf', C=1).fit(X_train, y_train)\n",
    "prediction=svm.predict(X_test) #predict on X_test, then show them ( next line of code)\n",
    "print('the score on the test set is :',svm.score(X_test, y_test),'\\nBut look at the confusion matrix :')\n",
    "confusion = confusion_matrix(y_test, prediction)\n",
    "\n",
    "print('Support vector machine classifier (rbf kernel, C=1)\\n', confusion)\n"
   ]
  },
  {
   "cell_type": "markdown",
   "metadata": {},
   "source": [
    "When we see  an accuracy of 62.93% maybe we can guess that our model is doing right ( not very good) but it is slightly good. Nevertheless, by looking at the confusion matrix we can figure out that our model is very poor in predicting the positive class '0'."
   ]
  },
  {
   "cell_type": "markdown",
   "metadata": {},
   "source": [
    "==> That's why we need other metrics measurements to assess the model's performance."
   ]
  },
  {
   "cell_type": "markdown",
   "metadata": {},
   "source": [
    "Before exploring those new metrics let's explore more classifiers and print their confusion matrices :"
   ]
  },
  {
   "cell_type": "markdown",
   "metadata": {},
   "source": [
    "### SVC with a linear kernel"
   ]
  },
  {
   "cell_type": "code",
   "execution_count": 15,
   "metadata": {
    "collapsed": false
   },
   "outputs": [
    {
     "name": "stdout",
     "output_type": "stream",
     "text": [
      "Support vector machine classifier (linear kernel, C=1)\n",
      " [[52  1]\n",
      " [ 5 85]]\n"
     ]
    }
   ],
   "source": [
    "svm = SVC(kernel='linear', C=1).fit(X_train, y_train)\n",
    "svm_predicted = svm.predict(X_test)\n",
    "confusion = confusion_matrix(y_test, svm_predicted)\n",
    "\n",
    "print('Support vector machine classifier (linear kernel, C=1)\\n', confusion)"
   ]
  },
  {
   "cell_type": "markdown",
   "metadata": {},
   "source": [
    "## Logistic regression "
   ]
  },
  {
   "cell_type": "code",
   "execution_count": 16,
   "metadata": {
    "collapsed": false
   },
   "outputs": [
    {
     "name": "stdout",
     "output_type": "stream",
     "text": [
      "Logistic regression classifier (default settings)\n",
      " [[52  1]\n",
      " [ 5 85]]\n"
     ]
    }
   ],
   "source": [
    "from sklearn.linear_model import LogisticRegression\n",
    "\n",
    "lr = LogisticRegression().fit(X_train, y_train)\n",
    "lr_predicted = lr.predict(X_test)\n",
    "confusion = confusion_matrix(y_test, lr_predicted)\n",
    "\n",
    "print('Logistic regression classifier (default settings)\\n', confusion)"
   ]
  },
  {
   "cell_type": "markdown",
   "metadata": {},
   "source": [
    "## Decision tree classifier"
   ]
  },
  {
   "cell_type": "code",
   "execution_count": 17,
   "metadata": {
    "collapsed": false
   },
   "outputs": [
    {
     "name": "stdout",
     "output_type": "stream",
     "text": [
      "Decision tree classifier (max_depth = 2)\n",
      " [[48  5]\n",
      " [ 4 86]]\n"
     ]
    }
   ],
   "source": [
    "from sklearn.tree import DecisionTreeClassifier\n",
    "\n",
    "dt = DecisionTreeClassifier(max_depth=2).fit(X_train, y_train)\n",
    "tree_predicted = dt.predict(X_test)\n",
    "confusion = confusion_matrix(y_test, tree_predicted)\n",
    "\n",
    "print('Decision tree classifier (max_depth = 2)\\n', confusion)"
   ]
  },
  {
   "cell_type": "markdown",
   "metadata": {},
   "source": [
    "<mark>SVM with a linear kernel and the logistic regression perform the same and more efficiently than decision tree.</mark>"
   ]
  },
  {
   "cell_type": "markdown",
   "metadata": {},
   "source": [
    "## Evaluation metrics for binary classification"
   ]
  },
  {
   "cell_type": "markdown",
   "metadata": {},
   "source": [
    "### Recall about: Recall, Precision, F-score "
   ]
  },
  {
   "cell_type": "markdown",
   "metadata": {},
   "source": [
    "#### Recall :"
   ]
  },
  {
   "cell_type": "markdown",
   "metadata": {},
   "source": [
    "- Recall or True Positive Rate (TPR) is the fraction of all positive instances that the model predicts correctly as positive.\n",
    "- Recall is called also : Sensitivity or Probability of detection"
   ]
  },
  {
   "cell_type": "markdown",
   "metadata": {},
   "source": [
    "\n",
    "Formula : \n",
    "    Recall = TP/(TP+FN)"
   ]
  },
  {
   "cell_type": "code",
   "execution_count": 18,
   "metadata": {
    "collapsed": false
   },
   "outputs": [
    {
     "data": {
      "text/plain": [
       "0.9056603773584906"
      ]
     },
     "execution_count": 18,
     "metadata": {},
     "output_type": "execute_result"
    }
   ],
   "source": [
    "#Example : using the output of our decision tree( max_depth=2) \n",
    "Recall= 48/(48+5) \n",
    "Recall"
   ]
  },
  {
   "cell_type": "markdown",
   "metadata": {},
   "source": [
    "#### Precision "
   ]
  },
  {
   "cell_type": "markdown",
   "metadata": {},
   "source": [
    "- Precision: what fraction of positive predictions are correct.\n",
    "\n",
    "    "
   ]
  },
  {
   "cell_type": "markdown",
   "metadata": {},
   "source": [
    "Formula : Precision = TP/(TP+FP)"
   ]
  },
  {
   "cell_type": "code",
   "execution_count": 19,
   "metadata": {
    "collapsed": false
   },
   "outputs": [
    {
     "data": {
      "text/plain": [
       "0.9230769230769231"
      ]
     },
     "execution_count": 19,
     "metadata": {},
     "output_type": "execute_result"
    }
   ],
   "source": [
    "#Example : using the output of our decision tree( max_depth=2) \n",
    "Precision= 48/(48+4)\n",
    "Precision"
   ]
  },
  {
   "cell_type": "markdown",
   "metadata": {},
   "source": [
    "#### The Precision-Recall Tradeoff"
   ]
  },
  {
   "cell_type": "markdown",
   "metadata": {},
   "source": [
    "In real applicatio there is always a tradeoff between the recall and precision values.To illustarte this tradeoff, i will use the following examples which I have found in Applied Machine Learning in Python ( Coursera) online course."
   ]
  },
  {
   "cell_type": "markdown",
   "metadata": {},
   "source": [
    "![](eval1.JPG)\n",
    "\n"
   ]
  },
  {
   "cell_type": "markdown",
   "metadata": {},
   "source": [
    "![](eval2.JPG)"
   ]
  },
  {
   "cell_type": "markdown",
   "metadata": {},
   "source": [
    "The example above show a classifer  which performs very well on the positive class ( do not worry about the form of the matrix, you should just knwo what is your positive and negative class). \n",
    "By looking at the decision boundary, it is very clear that the classifier does not provide any False Alarm( FP=0). To grasp it, for our breast cancer data the false alarm raises  when we declare an instance as malignant but in reality it is benign."
   ]
  },
  {
   "cell_type": "markdown",
   "metadata": {},
   "source": [
    "![](eval3.JPG)"
   ]
  },
  {
   "cell_type": "markdown",
   "metadata": {},
   "source": [
    "The classifier above handles very well the negative class( FN=0). For breast cancer, a FN different from  0  raises when the classifier classifies some instances as bening but they are malginant.\n",
    "==> This is the most important thing in a model used in a such field (medical field). This is due to the fact that if we declare to a person that he (she) is clean from any cancer but in reality he (she) is, we are committing a big error.\n",
    "<mark>In short words, th best classifier for this case is the one whose Recall is near to 1.</mark>"
   ]
  },
  {
   "cell_type": "markdown",
   "metadata": {},
   "source": [
    "#### F-score :"
   ]
  },
  {
   "cell_type": "markdown",
   "metadata": {},
   "source": [
    "- It combines Recall and Precision.\n",
    "-  Formula : F-score = 2 * Recall * Precision/(Recall+Precision)= 2 TP/(2TP+ FN + FP)"
   ]
  },
  {
   "cell_type": "markdown",
   "metadata": {},
   "source": [
    "#### F-Beta:\n"
   ]
  },
  {
   "cell_type": "markdown",
   "metadata": {},
   "source": [
    "- F-score with a beta paramter that can be adjusted\n",
    "-  Formula : F-Beta =(1+Beta^2)TP / ((1+Beta^2)TP + Beta FN + FP)\n",
    "- Beta small ===> Precision oriented\n",
    "- Beta high ===> Recall oriented "
   ]
  },
  {
   "cell_type": "markdown",
   "metadata": {},
   "source": [
    "Let's apply all the metrics using the tree_predicted array from the decision tree classifier: "
   ]
  },
  {
   "cell_type": "code",
   "execution_count": 20,
   "metadata": {
    "collapsed": false
   },
   "outputs": [
    {
     "name": "stdout",
     "output_type": "stream",
     "text": [
      "Accuracy: 0.94\n",
      "Precision: 0.92\n",
      "Recall: 0.91\n",
      "F1: 0.91\n"
     ]
    }
   ],
   "source": [
    "from sklearn.metrics import accuracy_score, precision_score, recall_score, f1_score\n",
    "# Accuracy = TP + TN / (TP + TN + FP + FN)\n",
    "# Precision = TP / (TP + FP)\n",
    "# Recall = TP / (TP + FN)  Also known as sensitivity, or True Positive Rate\n",
    "# F-score = 2 * Precision * Recall / (Precision + Recall) \n",
    "print('Accuracy: {:.2f}'.format(accuracy_score(y_test, tree_predicted)))\n",
    "print('Precision: {:.2f}'.format(precision_score(y_test, tree_predicted,pos_label=0))) # our postive label is '0'\n",
    "print('Recall: {:.2f}'.format(recall_score(y_test, tree_predicted,pos_label=0)))\n",
    "print('F1: {:.2f}'.format(f1_score(y_test, tree_predicted,pos_label=0)))"
   ]
  },
  {
   "cell_type": "markdown",
   "metadata": {},
   "source": [
    "###### Classification report ouput for all the previous classifiers \n"
   ]
  },
  {
   "cell_type": "markdown",
   "metadata": {},
   "source": [
    "It allows you to print a full summary about the performance of your classifier towards all your labels in the target column"
   ]
  },
  {
   "cell_type": "code",
   "execution_count": 21,
   "metadata": {
    "collapsed": false
   },
   "outputs": [
    {
     "name": "stdout",
     "output_type": "stream",
     "text": [
      "Random class-proportional (dummy)\n",
      "              precision    recall  f1-score   support\n",
      "\n",
      "  Malignant       0.36      0.38      0.37        53\n",
      "     Benign       0.62      0.60      0.61        90\n",
      "\n",
      "avg / total       0.52      0.52      0.52       143\n",
      "\n",
      "SVM\n",
      "              precision    recall  f1-score   support\n",
      "\n",
      "  Malignant       0.91      0.98      0.95        53\n",
      "     Benign       0.99      0.94      0.97        90\n",
      "\n",
      "avg / total       0.96      0.96      0.96       143\n",
      "\n",
      "Logistic regression\n",
      "              precision    recall  f1-score   support\n",
      "\n",
      "  Malignant       0.91      0.98      0.95        53\n",
      "     Benign       0.99      0.94      0.97        90\n",
      "\n",
      "avg / total       0.96      0.96      0.96       143\n",
      "\n",
      "Decision tree\n",
      "              precision    recall  f1-score   support\n",
      "\n",
      "  Malignant       0.92      0.91      0.91        53\n",
      "     Benign       0.95      0.96      0.95        90\n",
      "\n",
      "avg / total       0.94      0.94      0.94       143\n",
      "\n"
     ]
    }
   ],
   "source": [
    "from sklearn.metrics import classification_report\n",
    "print('Random class-proportional (dummy)\\n', \n",
    "      classification_report(y_test, y_classprop_predicted, target_names=['Malignant', 'Benign']))\n",
    "print('SVM\\n', \n",
    "      classification_report(y_test, svm_predicted, target_names = ['Malignant', 'Benign']))\n",
    "print('Logistic regression\\n', \n",
    "      classification_report(y_test, lr_predicted, target_names = ['Malignant', 'Benign']))\n",
    "print('Decision tree\\n', \n",
    "      classification_report(y_test, tree_predicted, target_names = ['Malignant', 'Benign']))"
   ]
  },
  {
   "cell_type": "markdown",
   "metadata": {},
   "source": [
    "<mark><b> The  best model is the one which maximizes the Recall.</b></mark>"
   ]
  },
  {
   "cell_type": "markdown",
   "metadata": {},
   "source": [
    "## Grid Search :\n",
    "     - Grid search is used to find the best parameters of a chosen model that maximizes a scoring metric."
   ]
  },
  {
   "cell_type": "code",
   "execution_count": 22,
   "metadata": {
    "collapsed": false
   },
   "outputs": [
    {
     "name": "stdout",
     "output_type": "stream",
     "text": [
      "Test set Recall:  1.0\n",
      "Grid best parameter (max. Recall):  {'gamma': 0.01}\n",
      "Grid best score (Recall):  1.0\n"
     ]
    }
   ],
   "source": [
    "from sklearn.svm import SVC\n",
    "from sklearn.model_selection import GridSearchCV\n",
    "from sklearn.metrics import recall_score, precision_score\n",
    "\n",
    "svc = SVC(kernel='rbf')\n",
    "grid_values = {'gamma': [0.001, 0.01, 0.05, 0.1, 1, 10, 100]}\n",
    "#metric to optimize over grid parameters: Recall\n",
    "grid_clf_recall = GridSearchCV(svc, param_grid = grid_values, scoring = 'recall')\n",
    "grid_clf_recall.fit(X_train, y_train)\n",
    "y_decision_fn_scores_recall = grid_clf_recall.predict(X_test) \n",
    "\n",
    "print('Test set Recall: ', recall_score(y_test, y_decision_fn_scores_recall))\n",
    "print('Grid best parameter (max. Recall): ', grid_clf_recall.best_params_)\n",
    "print('Grid best score (Recall): ', grid_clf_recall.best_score_)"
   ]
  },
  {
   "cell_type": "markdown",
   "metadata": {
    "collapsed": true
   },
   "source": [
    "Conclusion : \n",
    "    - Grid search above shows that the best gamma for our SVC classifier is 0.01, which gives as best score for recall 1."
   ]
  },
  {
   "cell_type": "markdown",
   "metadata": {},
   "source": [
    "---\n",
    "Untill now, we have a got a full idea about the need for other metrics to assess the performance of a classifier. We have shown that accuracy is not a  good metric when your data presents imbalanced class.\n",
    "\n",
    "---"
   ]
  },
  {
   "cell_type": "markdown",
   "metadata": {},
   "source": [
    "# Part 2"
   ]
  },
  {
   "cell_type": "markdown",
   "metadata": {},
   "source": [
    "In this part we are going to explore the digits dataset to highlight the same concepts mentionned in the first part but with more algorithms like Neural Network and Gradient Boosting.\n",
    "\n",
    "\n"
   ]
  },
  {
   "cell_type": "markdown",
   "metadata": {},
   "source": [
    "### Loading Data :"
   ]
  },
  {
   "cell_type": "code",
   "execution_count": 23,
   "metadata": {
    "collapsed": true
   },
   "outputs": [],
   "source": [
    "from sklearn.datasets import load_digits"
   ]
  },
  {
   "cell_type": "markdown",
   "metadata": {},
   "source": [
    "### Data description "
   ]
  },
  {
   "cell_type": "code",
   "execution_count": 24,
   "metadata": {
    "collapsed": false
   },
   "outputs": [
    {
     "data": {
      "text/plain": [
       "\"Optical Recognition of Handwritten Digits Data Set\\n===================================================\\n\\nNotes\\n-----\\nData Set Characteristics:\\n    :Number of Instances: 5620\\n    :Number of Attributes: 64\\n    :Attribute Information: 8x8 image of integer pixels in the range 0..16.\\n    :Missing Attribute Values: None\\n    :Creator: E. Alpaydin (alpaydin '@' boun.edu.tr)\\n    :Date: July; 1998\\n\\nThis is a copy of the test set of the UCI ML hand-written digits datasets\\nhttp://archive.ics.uci.edu/ml/datasets/Optical+Recognition+of+Handwritten+Digits\\n\\nThe data set contains images of hand-written digits: 10 classes where\\neach class refers to a digit.\\n\\nPreprocessing programs made available by NIST were used to extract\\nnormalized bitmaps of handwritten digits from a preprinted form. From a\\ntotal of 43 people, 30 contributed to the training set and different 13\\nto the test set. 32x32 bitmaps are divided into nonoverlapping blocks of\\n4x4 and the number of on pixels are counted in each block. This generates\\nan input matrix of 8x8 where each element is an integer in the range\\n0..16. This reduces dimensionality and gives invariance to small\\ndistortions.\\n\\nFor info on NIST preprocessing routines, see M. D. Garris, J. L. Blue, G.\\nT. Candela, D. L. Dimmick, J. Geist, P. J. Grother, S. A. Janet, and C.\\nL. Wilson, NIST Form-Based Handprint Recognition System, NISTIR 5469,\\n1994.\\n\\nReferences\\n----------\\n  - C. Kaynak (1995) Methods of Combining Multiple Classifiers and Their\\n    Applications to Handwritten Digit Recognition, MSc Thesis, Institute of\\n    Graduate Studies in Science and Engineering, Bogazici University.\\n  - E. Alpaydin, C. Kaynak (1998) Cascading Classifiers, Kybernetika.\\n  - Ken Tang and Ponnuthurai N. Suganthan and Xi Yao and A. Kai Qin.\\n    Linear dimensionalityreduction using relevance weighted LDA. School of\\n    Electrical and Electronic Engineering Nanyang Technological University.\\n    2005.\\n  - Claudio Gentile. A New Approximate Maximal Margin Classification\\n    Algorithm. NIPS. 2000.\\n\""
      ]
     },
     "execution_count": 24,
     "metadata": {},
     "output_type": "execute_result"
    }
   ],
   "source": [
    "dataset = load_digits() #\"Optical Recognition of Handwritten Digits Data Set\n",
    "X, y = dataset.data, dataset.target\n",
    "dataset.DESCR # read data description"
   ]
  },
  {
   "cell_type": "code",
   "execution_count": 25,
   "metadata": {
    "collapsed": true
   },
   "outputs": [],
   "source": [
    "# we have :\n",
    "#          5620 instances \n",
    "#          64 attributes ( integer pixels in the range 0:16) \n",
    "#          target names : are numbers from 0 to 9"
   ]
  },
  {
   "cell_type": "code",
   "execution_count": 26,
   "metadata": {
    "collapsed": false
   },
   "outputs": [
    {
     "name": "stdout",
     "output_type": "stream",
     "text": [
      "0 178\n",
      "1 182\n",
      "2 177\n",
      "3 183\n",
      "4 181\n",
      "5 182\n",
      "6 181\n",
      "7 179\n",
      "8 174\n",
      "9 180\n"
     ]
    }
   ],
   "source": [
    "# let's count the support for each target name :\n",
    "for class_name, class_count in zip(dataset.target_names, np.bincount(dataset.target)):\n",
    "    print(class_name,class_count)\n"
   ]
  },
  {
   "cell_type": "markdown",
   "metadata": {},
   "source": [
    "As you can see this is a multiclassification problem. We are not going to deal with that kind of problems  in this lab, that's why we will make this problem as a binary classification by choosing one label as a positive class ( we choose '1') and other digits are the negative class."
   ]
  },
  {
   "cell_type": "markdown",
   "metadata": {},
   "source": [
    "### Creating imbalanced dataset :"
   ]
  },
  {
   "cell_type": "code",
   "execution_count": 27,
   "metadata": {
    "collapsed": false
   },
   "outputs": [
    {
     "name": "stdout",
     "output_type": "stream",
     "text": [
      "Original labels:\t [1 2 3 4 5 6 7 8 9 0 1 2 3 4 5 6 7 8 9 0 1 2 3 4 5 6 7 8 9]\n",
      "New binary labels:\t [1 0 0 0 0 0 0 0 0 0 1 0 0 0 0 0 0 0 0 0 1 0 0 0 0 0 0 0 0]\n"
     ]
    }
   ],
   "source": [
    "y_binary_imbalanced = y.copy() #  make a copy of y\n",
    "y_binary_imbalanced[y_binary_imbalanced != 1] = 0  # all digits # from 1 we replace them by 0\n",
    "\n",
    "print('Original labels:\\t', y[1:30])\n",
    "print('New binary labels:\\t', y_binary_imbalanced[1:30])"
   ]
  },
  {
   "cell_type": "code",
   "execution_count": 28,
   "metadata": {
    "collapsed": false
   },
   "outputs": [
    {
     "data": {
      "text/plain": [
       "0.10127991096271564"
      ]
     },
     "execution_count": 28,
     "metadata": {},
     "output_type": "execute_result"
    }
   ],
   "source": [
    "# the proportion of the postive class :\n",
    "np.mean(y_binary_imbalanced)"
   ]
  },
  {
   "cell_type": "markdown",
   "metadata": {},
   "source": [
    "This  is a more challenging problem, because the positive class represents only 10% of the target labels."
   ]
  },
  {
   "cell_type": "markdown",
   "metadata": {},
   "source": [
    "### Dummy classifier :"
   ]
  },
  {
   "cell_type": "code",
   "execution_count": 29,
   "metadata": {
    "collapsed": false
   },
   "outputs": [
    {
     "name": "stdout",
     "output_type": "stream",
     "text": [
      "proportion of 1 in training is : 0.103192279139\n",
      "proportion of 1 in testing is : 0.0955555555556\n",
      "testing score : 0.904444444444\n"
     ]
    }
   ],
   "source": [
    "from sklearn.dummy import DummyClassifier\n",
    "from sklearn.model_selection import train_test_split\n",
    "# spli data :\n",
    "X_train, X_test, y_train, y_test= train_test_split(X, y_binary_imbalanced,random_state=0)\n",
    "# verify that the distribution of our class is the same in both training/ testing datsets :\n",
    "print('proportion of 1 in training is :', np.mean(y_train))\n",
    "print('proportion of 1 in testing is :', np.mean(y_test))\n",
    "\n",
    "# build model :\n",
    "dummy=DummyClassifier(strategy='most_frequent')\n",
    "dummy=dummy.fit(X_train, y_train)\n",
    "\n",
    "print('testing score :',dummy.score(X_test, y_test))\n"
   ]
  },
  {
   "cell_type": "markdown",
   "metadata": {},
   "source": [
    "90% as accuracy is very good, But we must not trust this result as we are facing imbalanced dataset."
   ]
  },
  {
   "cell_type": "markdown",
   "metadata": {},
   "source": [
    "let's see the confusion matrix for our dummy classifier :"
   ]
  },
  {
   "cell_type": "code",
   "execution_count": 30,
   "metadata": {
    "collapsed": false
   },
   "outputs": [
    {
     "name": "stdout",
     "output_type": "stream",
     "text": [
      "[[407   0]\n",
      " [ 43   0]]\n"
     ]
    }
   ],
   "source": [
    "from sklearn.metrics import confusion_matrix\n",
    "y_most_frequent=dummy.predict(X_test)\n",
    "\n",
    "confusion_most_frequent=confusion_matrix(y_test, y_most_frequent) # it outputs result in sorted order ( ie: 0 then 1 )\n",
    "\n",
    "print(confusion_most_frequent)"
   ]
  },
  {
   "cell_type": "markdown",
   "metadata": {},
   "source": [
    "As you can see our dummy classifier does not predict correctly any '1' example."
   ]
  },
  {
   "cell_type": "markdown",
   "metadata": {},
   "source": [
    "### SVC classifier"
   ]
  },
  {
   "cell_type": "code",
   "execution_count": 31,
   "metadata": {
    "collapsed": false
   },
   "outputs": [
    {
     "name": "stdout",
     "output_type": "stream",
     "text": [
      "testing score svc (kernel= rbf and C= 1) 0.908888888889\n",
      "[[407   0]\n",
      " [ 41   2]]\n"
     ]
    }
   ],
   "source": [
    "from sklearn.svm import  SVC\n",
    "svc=SVC(kernel='rbf', C=1)\n",
    "svc=svc.fit(X_train,y_train)\n",
    "y_svc=svc.predict(X_test)\n",
    "confusion_svc=confusion_matrix(y_test,y_svc)\n",
    "\n",
    "print('testing score svc (kernel= rbf and C= 1)',svc.score(X_test,y_test))\n",
    "print(confusion_svc)\n",
    "\n"
   ]
  },
  {
   "cell_type": "markdown",
   "metadata": {},
   "source": [
    "It is very obvious that our SVC classier does not do  well even more that as our previous dummy classifier."
   ]
  },
  {
   "cell_type": "markdown",
   "metadata": {},
   "source": [
    "Before continuing our lab, I would like to highlight some remarks :\n",
    "    - Always try to begin with a baseline accuracy using the dummy classifier\n",
    "    - Your model that you should get must outperfom the dummy classifier\n",
    "    - Your model must maximize the scoring metrics that is very appropriate to your context (eg: Recall for health field, Precision for engine searching)"
   ]
  },
  {
   "cell_type": "markdown",
   "metadata": {},
   "source": [
    "### SVC classifier( linear kernel) : "
   ]
  },
  {
   "cell_type": "code",
   "execution_count": 32,
   "metadata": {
    "collapsed": false
   },
   "outputs": [
    {
     "name": "stdout",
     "output_type": "stream",
     "text": [
      "Training score using SVC ( linear kernel and C=10) is : 1.0\n",
      "Testing score using SVC ( linear kernel and  C=10 ) is : 0.977777777778\n",
      "Support vector machine classifier (linear kernel, C=1)\n",
      " [[402   5]\n",
      " [  5  38]]\n"
     ]
    }
   ],
   "source": [
    "svm = SVC(kernel='linear', C=10).fit(X_train, y_train)\n",
    "svm_predicted = svm.predict(X_test)\n",
    "confusion = confusion_matrix(y_test, svm_predicted)\n",
    "print('Training score using SVC ( linear kernel and C=10) is :', svm.score(X_train,y_train))\n",
    "print('Testing score using SVC ( linear kernel and  C=10 ) is :', svm.score(X_test,y_test))\n",
    "print('Support vector machine classifier (linear kernel, C=1)\\n', confusion)"
   ]
  },
  {
   "cell_type": "markdown",
   "metadata": {},
   "source": [
    "Good results, but it seems that by comparing training and testing accuracies we have overfitting."
   ]
  },
  {
   "cell_type": "markdown",
   "metadata": {},
   "source": [
    "### Logistic regression :"
   ]
  },
  {
   "cell_type": "code",
   "execution_count": 33,
   "metadata": {
    "collapsed": false
   },
   "outputs": [
    {
     "name": "stdout",
     "output_type": "stream",
     "text": [
      "Training score using logistic reg is : 0.993318485523\n",
      "Testing score using logistic reg  is : 0.973333333333\n",
      "Logistic regression classifier (default settings)\n",
      " [[401   6]\n",
      " [  6  37]]\n"
     ]
    }
   ],
   "source": [
    "from sklearn.linear_model import LogisticRegression\n",
    "\n",
    "lr = LogisticRegression().fit(X_train, y_train)\n",
    "lr_predicted = lr.predict(X_test)\n",
    "confusion = confusion_matrix(y_test, lr_predicted)\n",
    "print('Training score using logistic reg is :', lr.score(X_train,y_train))\n",
    "print('Testing score using logistic reg  is :', lr.score(X_test,y_test))\n",
    "print('Logistic regression classifier (default settings)\\n', confusion)"
   ]
  },
  {
   "cell_type": "code",
   "execution_count": 34,
   "metadata": {
    "collapsed": false
   },
   "outputs": [
    {
     "name": "stdout",
     "output_type": "stream",
     "text": [
      "Training score using decision tree is : 0.936896807721\n",
      "Testing score using  decision tree is : 0.946666666667\n",
      "Decision tree classifier (max_depth = 2)\n",
      " [[400   7]\n",
      " [ 17  26]]\n"
     ]
    }
   ],
   "source": [
    "from sklearn.tree import DecisionTreeClassifier\n",
    "\n",
    "dt = DecisionTreeClassifier(max_depth=2).fit(X_train, y_train)\n",
    "tree_predicted = dt.predict(X_test)\n",
    "confusion = confusion_matrix(y_test, tree_predicted)\n",
    "print('Training score using decision tree is :', dt.score(X_train,y_train))\n",
    "print('Testing score using  decision tree is :', dt.score(X_test,y_test))\n",
    "print('Decision tree classifier (max_depth = 2)\\n', confusion)"
   ]
  },
  {
   "cell_type": "markdown",
   "metadata": {},
   "source": [
    "#### Classification report for all the previous classifiers :"
   ]
  },
  {
   "cell_type": "code",
   "execution_count": 35,
   "metadata": {
    "collapsed": false
   },
   "outputs": [
    {
     "name": "stdout",
     "output_type": "stream",
     "text": [
      "Random class-proportional (dummy)\n",
      "               precision    recall  f1-score   support\n",
      "\n",
      "not digit  1       0.90      1.00      0.95       407\n",
      "     digit 1       0.00      0.00      0.00        43\n",
      "\n",
      " avg / total       0.82      0.90      0.86       450\n",
      "\n",
      "SVM\n",
      "              precision    recall  f1-score   support\n",
      "\n",
      "not digit 1       0.99      0.99      0.99       407\n",
      "    digit 1       0.88      0.88      0.88        43\n",
      "\n",
      "avg / total       0.98      0.98      0.98       450\n",
      "\n",
      "Logistic regression\n",
      "              precision    recall  f1-score   support\n",
      "\n",
      "notdigit  1       0.99      0.99      0.99       407\n",
      "    digit 1       0.86      0.86      0.86        43\n",
      "\n",
      "avg / total       0.97      0.97      0.97       450\n",
      "\n",
      "Decision tree\n",
      "              precision    recall  f1-score   support\n",
      "\n",
      "notdigit  1       0.96      0.98      0.97       407\n",
      "    digit 1       0.79      0.60      0.68        43\n",
      "\n",
      "avg / total       0.94      0.95      0.94       450\n",
      "\n"
     ]
    },
    {
     "name": "stderr",
     "output_type": "stream",
     "text": [
      "/opt/conda/lib/python3.5/site-packages/sklearn/metrics/classification.py:1113: UndefinedMetricWarning: Precision and F-score are ill-defined and being set to 0.0 in labels with no predicted samples.\n",
      "  'precision', 'predicted', average, warn_for)\n"
     ]
    }
   ],
   "source": [
    "from sklearn.metrics import classification_report\n",
    "print('Random class-proportional (dummy)\\n', \n",
    "      classification_report(y_test, y_most_frequent, target_names=['not digit  1', 'digit 1']))\n",
    "print('SVM\\n', \n",
    "      classification_report(y_test, svm_predicted, target_names = ['not digit 1', 'digit 1']))\n",
    "print('Logistic regression\\n', \n",
    "      classification_report(y_test, lr_predicted, target_names = ['notdigit  1', 'digit 1']))\n",
    "print('Decision tree\\n', \n",
    "      classification_report(y_test, tree_predicted, target_names = ['notdigit  1', 'digit 1']))"
   ]
  },
  {
   "cell_type": "markdown",
   "metadata": {},
   "source": [
    "As we can figure out, results are different from a model to another, especially for the postive class"
   ]
  },
  {
   "cell_type": "markdown",
   "metadata": {},
   "source": [
    "Now, we will use another metric, which is also used in the case of imbalanced class :"
   ]
  },
  {
   "cell_type": "markdown",
   "metadata": {},
   "source": [
    "### ROC curves, Area-Under-Curve (AUC)"
   ]
  },
  {
   "cell_type": "markdown",
   "metadata": {},
   "source": [
    "#### SVM :"
   ]
  },
  {
   "cell_type": "code",
   "execution_count": 36,
   "metadata": {
    "collapsed": false
   },
   "outputs": [
    {
     "data": {
      "application/javascript": [
       "/* Put everything inside the global mpl namespace */\n",
       "window.mpl = {};\n",
       "\n",
       "\n",
       "mpl.get_websocket_type = function() {\n",
       "    if (typeof(WebSocket) !== 'undefined') {\n",
       "        return WebSocket;\n",
       "    } else if (typeof(MozWebSocket) !== 'undefined') {\n",
       "        return MozWebSocket;\n",
       "    } else {\n",
       "        alert('Your browser does not have WebSocket support.' +\n",
       "              'Please try Chrome, Safari or Firefox ≥ 6. ' +\n",
       "              'Firefox 4 and 5 are also supported but you ' +\n",
       "              'have to enable WebSockets in about:config.');\n",
       "    };\n",
       "}\n",
       "\n",
       "mpl.figure = function(figure_id, websocket, ondownload, parent_element) {\n",
       "    this.id = figure_id;\n",
       "\n",
       "    this.ws = websocket;\n",
       "\n",
       "    this.supports_binary = (this.ws.binaryType != undefined);\n",
       "\n",
       "    if (!this.supports_binary) {\n",
       "        var warnings = document.getElementById(\"mpl-warnings\");\n",
       "        if (warnings) {\n",
       "            warnings.style.display = 'block';\n",
       "            warnings.textContent = (\n",
       "                \"This browser does not support binary websocket messages. \" +\n",
       "                    \"Performance may be slow.\");\n",
       "        }\n",
       "    }\n",
       "\n",
       "    this.imageObj = new Image();\n",
       "\n",
       "    this.context = undefined;\n",
       "    this.message = undefined;\n",
       "    this.canvas = undefined;\n",
       "    this.rubberband_canvas = undefined;\n",
       "    this.rubberband_context = undefined;\n",
       "    this.format_dropdown = undefined;\n",
       "\n",
       "    this.image_mode = 'full';\n",
       "\n",
       "    this.root = $('<div/>');\n",
       "    this._root_extra_style(this.root)\n",
       "    this.root.attr('style', 'display: inline-block');\n",
       "\n",
       "    $(parent_element).append(this.root);\n",
       "\n",
       "    this._init_header(this);\n",
       "    this._init_canvas(this);\n",
       "    this._init_toolbar(this);\n",
       "\n",
       "    var fig = this;\n",
       "\n",
       "    this.waiting = false;\n",
       "\n",
       "    this.ws.onopen =  function () {\n",
       "            fig.send_message(\"supports_binary\", {value: fig.supports_binary});\n",
       "            fig.send_message(\"send_image_mode\", {});\n",
       "            if (mpl.ratio != 1) {\n",
       "                fig.send_message(\"set_dpi_ratio\", {'dpi_ratio': mpl.ratio});\n",
       "            }\n",
       "            fig.send_message(\"refresh\", {});\n",
       "        }\n",
       "\n",
       "    this.imageObj.onload = function() {\n",
       "            if (fig.image_mode == 'full') {\n",
       "                // Full images could contain transparency (where diff images\n",
       "                // almost always do), so we need to clear the canvas so that\n",
       "                // there is no ghosting.\n",
       "                fig.context.clearRect(0, 0, fig.canvas.width, fig.canvas.height);\n",
       "            }\n",
       "            fig.context.drawImage(fig.imageObj, 0, 0);\n",
       "        };\n",
       "\n",
       "    this.imageObj.onunload = function() {\n",
       "        this.ws.close();\n",
       "    }\n",
       "\n",
       "    this.ws.onmessage = this._make_on_message_function(this);\n",
       "\n",
       "    this.ondownload = ondownload;\n",
       "}\n",
       "\n",
       "mpl.figure.prototype._init_header = function() {\n",
       "    var titlebar = $(\n",
       "        '<div class=\"ui-dialog-titlebar ui-widget-header ui-corner-all ' +\n",
       "        'ui-helper-clearfix\"/>');\n",
       "    var titletext = $(\n",
       "        '<div class=\"ui-dialog-title\" style=\"width: 100%; ' +\n",
       "        'text-align: center; padding: 3px;\"/>');\n",
       "    titlebar.append(titletext)\n",
       "    this.root.append(titlebar);\n",
       "    this.header = titletext[0];\n",
       "}\n",
       "\n",
       "\n",
       "\n",
       "mpl.figure.prototype._canvas_extra_style = function(canvas_div) {\n",
       "\n",
       "}\n",
       "\n",
       "\n",
       "mpl.figure.prototype._root_extra_style = function(canvas_div) {\n",
       "\n",
       "}\n",
       "\n",
       "mpl.figure.prototype._init_canvas = function() {\n",
       "    var fig = this;\n",
       "\n",
       "    var canvas_div = $('<div/>');\n",
       "\n",
       "    canvas_div.attr('style', 'position: relative; clear: both; outline: 0');\n",
       "\n",
       "    function canvas_keyboard_event(event) {\n",
       "        return fig.key_event(event, event['data']);\n",
       "    }\n",
       "\n",
       "    canvas_div.keydown('key_press', canvas_keyboard_event);\n",
       "    canvas_div.keyup('key_release', canvas_keyboard_event);\n",
       "    this.canvas_div = canvas_div\n",
       "    this._canvas_extra_style(canvas_div)\n",
       "    this.root.append(canvas_div);\n",
       "\n",
       "    var canvas = $('<canvas/>');\n",
       "    canvas.addClass('mpl-canvas');\n",
       "    canvas.attr('style', \"left: 0; top: 0; z-index: 0; outline: 0\")\n",
       "\n",
       "    this.canvas = canvas[0];\n",
       "    this.context = canvas[0].getContext(\"2d\");\n",
       "\n",
       "    var backingStore = this.context.backingStorePixelRatio ||\n",
       "\tthis.context.webkitBackingStorePixelRatio ||\n",
       "\tthis.context.mozBackingStorePixelRatio ||\n",
       "\tthis.context.msBackingStorePixelRatio ||\n",
       "\tthis.context.oBackingStorePixelRatio ||\n",
       "\tthis.context.backingStorePixelRatio || 1;\n",
       "\n",
       "    mpl.ratio = (window.devicePixelRatio || 1) / backingStore;\n",
       "\n",
       "    var rubberband = $('<canvas/>');\n",
       "    rubberband.attr('style', \"position: absolute; left: 0; top: 0; z-index: 1;\")\n",
       "\n",
       "    var pass_mouse_events = true;\n",
       "\n",
       "    canvas_div.resizable({\n",
       "        start: function(event, ui) {\n",
       "            pass_mouse_events = false;\n",
       "        },\n",
       "        resize: function(event, ui) {\n",
       "            fig.request_resize(ui.size.width, ui.size.height);\n",
       "        },\n",
       "        stop: function(event, ui) {\n",
       "            pass_mouse_events = true;\n",
       "            fig.request_resize(ui.size.width, ui.size.height);\n",
       "        },\n",
       "    });\n",
       "\n",
       "    function mouse_event_fn(event) {\n",
       "        if (pass_mouse_events)\n",
       "            return fig.mouse_event(event, event['data']);\n",
       "    }\n",
       "\n",
       "    rubberband.mousedown('button_press', mouse_event_fn);\n",
       "    rubberband.mouseup('button_release', mouse_event_fn);\n",
       "    // Throttle sequential mouse events to 1 every 20ms.\n",
       "    rubberband.mousemove('motion_notify', mouse_event_fn);\n",
       "\n",
       "    rubberband.mouseenter('figure_enter', mouse_event_fn);\n",
       "    rubberband.mouseleave('figure_leave', mouse_event_fn);\n",
       "\n",
       "    canvas_div.on(\"wheel\", function (event) {\n",
       "        event = event.originalEvent;\n",
       "        event['data'] = 'scroll'\n",
       "        if (event.deltaY < 0) {\n",
       "            event.step = 1;\n",
       "        } else {\n",
       "            event.step = -1;\n",
       "        }\n",
       "        mouse_event_fn(event);\n",
       "    });\n",
       "\n",
       "    canvas_div.append(canvas);\n",
       "    canvas_div.append(rubberband);\n",
       "\n",
       "    this.rubberband = rubberband;\n",
       "    this.rubberband_canvas = rubberband[0];\n",
       "    this.rubberband_context = rubberband[0].getContext(\"2d\");\n",
       "    this.rubberband_context.strokeStyle = \"#000000\";\n",
       "\n",
       "    this._resize_canvas = function(width, height) {\n",
       "        // Keep the size of the canvas, canvas container, and rubber band\n",
       "        // canvas in synch.\n",
       "        canvas_div.css('width', width)\n",
       "        canvas_div.css('height', height)\n",
       "\n",
       "        canvas.attr('width', width * mpl.ratio);\n",
       "        canvas.attr('height', height * mpl.ratio);\n",
       "        canvas.attr('style', 'width: ' + width + 'px; height: ' + height + 'px;');\n",
       "\n",
       "        rubberband.attr('width', width);\n",
       "        rubberband.attr('height', height);\n",
       "    }\n",
       "\n",
       "    // Set the figure to an initial 600x600px, this will subsequently be updated\n",
       "    // upon first draw.\n",
       "    this._resize_canvas(600, 600);\n",
       "\n",
       "    // Disable right mouse context menu.\n",
       "    $(this.rubberband_canvas).bind(\"contextmenu\",function(e){\n",
       "        return false;\n",
       "    });\n",
       "\n",
       "    function set_focus () {\n",
       "        canvas.focus();\n",
       "        canvas_div.focus();\n",
       "    }\n",
       "\n",
       "    window.setTimeout(set_focus, 100);\n",
       "}\n",
       "\n",
       "mpl.figure.prototype._init_toolbar = function() {\n",
       "    var fig = this;\n",
       "\n",
       "    var nav_element = $('<div/>')\n",
       "    nav_element.attr('style', 'width: 100%');\n",
       "    this.root.append(nav_element);\n",
       "\n",
       "    // Define a callback function for later on.\n",
       "    function toolbar_event(event) {\n",
       "        return fig.toolbar_button_onclick(event['data']);\n",
       "    }\n",
       "    function toolbar_mouse_event(event) {\n",
       "        return fig.toolbar_button_onmouseover(event['data']);\n",
       "    }\n",
       "\n",
       "    for(var toolbar_ind in mpl.toolbar_items) {\n",
       "        var name = mpl.toolbar_items[toolbar_ind][0];\n",
       "        var tooltip = mpl.toolbar_items[toolbar_ind][1];\n",
       "        var image = mpl.toolbar_items[toolbar_ind][2];\n",
       "        var method_name = mpl.toolbar_items[toolbar_ind][3];\n",
       "\n",
       "        if (!name) {\n",
       "            // put a spacer in here.\n",
       "            continue;\n",
       "        }\n",
       "        var button = $('<button/>');\n",
       "        button.addClass('ui-button ui-widget ui-state-default ui-corner-all ' +\n",
       "                        'ui-button-icon-only');\n",
       "        button.attr('role', 'button');\n",
       "        button.attr('aria-disabled', 'false');\n",
       "        button.click(method_name, toolbar_event);\n",
       "        button.mouseover(tooltip, toolbar_mouse_event);\n",
       "\n",
       "        var icon_img = $('<span/>');\n",
       "        icon_img.addClass('ui-button-icon-primary ui-icon');\n",
       "        icon_img.addClass(image);\n",
       "        icon_img.addClass('ui-corner-all');\n",
       "\n",
       "        var tooltip_span = $('<span/>');\n",
       "        tooltip_span.addClass('ui-button-text');\n",
       "        tooltip_span.html(tooltip);\n",
       "\n",
       "        button.append(icon_img);\n",
       "        button.append(tooltip_span);\n",
       "\n",
       "        nav_element.append(button);\n",
       "    }\n",
       "\n",
       "    var fmt_picker_span = $('<span/>');\n",
       "\n",
       "    var fmt_picker = $('<select/>');\n",
       "    fmt_picker.addClass('mpl-toolbar-option ui-widget ui-widget-content');\n",
       "    fmt_picker_span.append(fmt_picker);\n",
       "    nav_element.append(fmt_picker_span);\n",
       "    this.format_dropdown = fmt_picker[0];\n",
       "\n",
       "    for (var ind in mpl.extensions) {\n",
       "        var fmt = mpl.extensions[ind];\n",
       "        var option = $(\n",
       "            '<option/>', {selected: fmt === mpl.default_extension}).html(fmt);\n",
       "        fmt_picker.append(option)\n",
       "    }\n",
       "\n",
       "    // Add hover states to the ui-buttons\n",
       "    $( \".ui-button\" ).hover(\n",
       "        function() { $(this).addClass(\"ui-state-hover\");},\n",
       "        function() { $(this).removeClass(\"ui-state-hover\");}\n",
       "    );\n",
       "\n",
       "    var status_bar = $('<span class=\"mpl-message\"/>');\n",
       "    nav_element.append(status_bar);\n",
       "    this.message = status_bar[0];\n",
       "}\n",
       "\n",
       "mpl.figure.prototype.request_resize = function(x_pixels, y_pixels) {\n",
       "    // Request matplotlib to resize the figure. Matplotlib will then trigger a resize in the client,\n",
       "    // which will in turn request a refresh of the image.\n",
       "    this.send_message('resize', {'width': x_pixels, 'height': y_pixels});\n",
       "}\n",
       "\n",
       "mpl.figure.prototype.send_message = function(type, properties) {\n",
       "    properties['type'] = type;\n",
       "    properties['figure_id'] = this.id;\n",
       "    this.ws.send(JSON.stringify(properties));\n",
       "}\n",
       "\n",
       "mpl.figure.prototype.send_draw_message = function() {\n",
       "    if (!this.waiting) {\n",
       "        this.waiting = true;\n",
       "        this.ws.send(JSON.stringify({type: \"draw\", figure_id: this.id}));\n",
       "    }\n",
       "}\n",
       "\n",
       "\n",
       "mpl.figure.prototype.handle_save = function(fig, msg) {\n",
       "    var format_dropdown = fig.format_dropdown;\n",
       "    var format = format_dropdown.options[format_dropdown.selectedIndex].value;\n",
       "    fig.ondownload(fig, format);\n",
       "}\n",
       "\n",
       "\n",
       "mpl.figure.prototype.handle_resize = function(fig, msg) {\n",
       "    var size = msg['size'];\n",
       "    if (size[0] != fig.canvas.width || size[1] != fig.canvas.height) {\n",
       "        fig._resize_canvas(size[0], size[1]);\n",
       "        fig.send_message(\"refresh\", {});\n",
       "    };\n",
       "}\n",
       "\n",
       "mpl.figure.prototype.handle_rubberband = function(fig, msg) {\n",
       "    var x0 = msg['x0'] / mpl.ratio;\n",
       "    var y0 = (fig.canvas.height - msg['y0']) / mpl.ratio;\n",
       "    var x1 = msg['x1'] / mpl.ratio;\n",
       "    var y1 = (fig.canvas.height - msg['y1']) / mpl.ratio;\n",
       "    x0 = Math.floor(x0) + 0.5;\n",
       "    y0 = Math.floor(y0) + 0.5;\n",
       "    x1 = Math.floor(x1) + 0.5;\n",
       "    y1 = Math.floor(y1) + 0.5;\n",
       "    var min_x = Math.min(x0, x1);\n",
       "    var min_y = Math.min(y0, y1);\n",
       "    var width = Math.abs(x1 - x0);\n",
       "    var height = Math.abs(y1 - y0);\n",
       "\n",
       "    fig.rubberband_context.clearRect(\n",
       "        0, 0, fig.canvas.width, fig.canvas.height);\n",
       "\n",
       "    fig.rubberband_context.strokeRect(min_x, min_y, width, height);\n",
       "}\n",
       "\n",
       "mpl.figure.prototype.handle_figure_label = function(fig, msg) {\n",
       "    // Updates the figure title.\n",
       "    fig.header.textContent = msg['label'];\n",
       "}\n",
       "\n",
       "mpl.figure.prototype.handle_cursor = function(fig, msg) {\n",
       "    var cursor = msg['cursor'];\n",
       "    switch(cursor)\n",
       "    {\n",
       "    case 0:\n",
       "        cursor = 'pointer';\n",
       "        break;\n",
       "    case 1:\n",
       "        cursor = 'default';\n",
       "        break;\n",
       "    case 2:\n",
       "        cursor = 'crosshair';\n",
       "        break;\n",
       "    case 3:\n",
       "        cursor = 'move';\n",
       "        break;\n",
       "    }\n",
       "    fig.rubberband_canvas.style.cursor = cursor;\n",
       "}\n",
       "\n",
       "mpl.figure.prototype.handle_message = function(fig, msg) {\n",
       "    fig.message.textContent = msg['message'];\n",
       "}\n",
       "\n",
       "mpl.figure.prototype.handle_draw = function(fig, msg) {\n",
       "    // Request the server to send over a new figure.\n",
       "    fig.send_draw_message();\n",
       "}\n",
       "\n",
       "mpl.figure.prototype.handle_image_mode = function(fig, msg) {\n",
       "    fig.image_mode = msg['mode'];\n",
       "}\n",
       "\n",
       "mpl.figure.prototype.updated_canvas_event = function() {\n",
       "    // Called whenever the canvas gets updated.\n",
       "    this.send_message(\"ack\", {});\n",
       "}\n",
       "\n",
       "// A function to construct a web socket function for onmessage handling.\n",
       "// Called in the figure constructor.\n",
       "mpl.figure.prototype._make_on_message_function = function(fig) {\n",
       "    return function socket_on_message(evt) {\n",
       "        if (evt.data instanceof Blob) {\n",
       "            /* FIXME: We get \"Resource interpreted as Image but\n",
       "             * transferred with MIME type text/plain:\" errors on\n",
       "             * Chrome.  But how to set the MIME type?  It doesn't seem\n",
       "             * to be part of the websocket stream */\n",
       "            evt.data.type = \"image/png\";\n",
       "\n",
       "            /* Free the memory for the previous frames */\n",
       "            if (fig.imageObj.src) {\n",
       "                (window.URL || window.webkitURL).revokeObjectURL(\n",
       "                    fig.imageObj.src);\n",
       "            }\n",
       "\n",
       "            fig.imageObj.src = (window.URL || window.webkitURL).createObjectURL(\n",
       "                evt.data);\n",
       "            fig.updated_canvas_event();\n",
       "            fig.waiting = false;\n",
       "            return;\n",
       "        }\n",
       "        else if (typeof evt.data === 'string' && evt.data.slice(0, 21) == \"data:image/png;base64\") {\n",
       "            fig.imageObj.src = evt.data;\n",
       "            fig.updated_canvas_event();\n",
       "            fig.waiting = false;\n",
       "            return;\n",
       "        }\n",
       "\n",
       "        var msg = JSON.parse(evt.data);\n",
       "        var msg_type = msg['type'];\n",
       "\n",
       "        // Call the  \"handle_{type}\" callback, which takes\n",
       "        // the figure and JSON message as its only arguments.\n",
       "        try {\n",
       "            var callback = fig[\"handle_\" + msg_type];\n",
       "        } catch (e) {\n",
       "            console.log(\"No handler for the '\" + msg_type + \"' message type: \", msg);\n",
       "            return;\n",
       "        }\n",
       "\n",
       "        if (callback) {\n",
       "            try {\n",
       "                // console.log(\"Handling '\" + msg_type + \"' message: \", msg);\n",
       "                callback(fig, msg);\n",
       "            } catch (e) {\n",
       "                console.log(\"Exception inside the 'handler_\" + msg_type + \"' callback:\", e, e.stack, msg);\n",
       "            }\n",
       "        }\n",
       "    };\n",
       "}\n",
       "\n",
       "// from http://stackoverflow.com/questions/1114465/getting-mouse-location-in-canvas\n",
       "mpl.findpos = function(e) {\n",
       "    //this section is from http://www.quirksmode.org/js/events_properties.html\n",
       "    var targ;\n",
       "    if (!e)\n",
       "        e = window.event;\n",
       "    if (e.target)\n",
       "        targ = e.target;\n",
       "    else if (e.srcElement)\n",
       "        targ = e.srcElement;\n",
       "    if (targ.nodeType == 3) // defeat Safari bug\n",
       "        targ = targ.parentNode;\n",
       "\n",
       "    // jQuery normalizes the pageX and pageY\n",
       "    // pageX,Y are the mouse positions relative to the document\n",
       "    // offset() returns the position of the element relative to the document\n",
       "    var x = e.pageX - $(targ).offset().left;\n",
       "    var y = e.pageY - $(targ).offset().top;\n",
       "\n",
       "    return {\"x\": x, \"y\": y};\n",
       "};\n",
       "\n",
       "/*\n",
       " * return a copy of an object with only non-object keys\n",
       " * we need this to avoid circular references\n",
       " * http://stackoverflow.com/a/24161582/3208463\n",
       " */\n",
       "function simpleKeys (original) {\n",
       "  return Object.keys(original).reduce(function (obj, key) {\n",
       "    if (typeof original[key] !== 'object')\n",
       "        obj[key] = original[key]\n",
       "    return obj;\n",
       "  }, {});\n",
       "}\n",
       "\n",
       "mpl.figure.prototype.mouse_event = function(event, name) {\n",
       "    var canvas_pos = mpl.findpos(event)\n",
       "\n",
       "    if (name === 'button_press')\n",
       "    {\n",
       "        this.canvas.focus();\n",
       "        this.canvas_div.focus();\n",
       "    }\n",
       "\n",
       "    var x = canvas_pos.x * mpl.ratio;\n",
       "    var y = canvas_pos.y * mpl.ratio;\n",
       "\n",
       "    this.send_message(name, {x: x, y: y, button: event.button,\n",
       "                             step: event.step,\n",
       "                             guiEvent: simpleKeys(event)});\n",
       "\n",
       "    /* This prevents the web browser from automatically changing to\n",
       "     * the text insertion cursor when the button is pressed.  We want\n",
       "     * to control all of the cursor setting manually through the\n",
       "     * 'cursor' event from matplotlib */\n",
       "    event.preventDefault();\n",
       "    return false;\n",
       "}\n",
       "\n",
       "mpl.figure.prototype._key_event_extra = function(event, name) {\n",
       "    // Handle any extra behaviour associated with a key event\n",
       "}\n",
       "\n",
       "mpl.figure.prototype.key_event = function(event, name) {\n",
       "\n",
       "    // Prevent repeat events\n",
       "    if (name == 'key_press')\n",
       "    {\n",
       "        if (event.which === this._key)\n",
       "            return;\n",
       "        else\n",
       "            this._key = event.which;\n",
       "    }\n",
       "    if (name == 'key_release')\n",
       "        this._key = null;\n",
       "\n",
       "    var value = '';\n",
       "    if (event.ctrlKey && event.which != 17)\n",
       "        value += \"ctrl+\";\n",
       "    if (event.altKey && event.which != 18)\n",
       "        value += \"alt+\";\n",
       "    if (event.shiftKey && event.which != 16)\n",
       "        value += \"shift+\";\n",
       "\n",
       "    value += 'k';\n",
       "    value += event.which.toString();\n",
       "\n",
       "    this._key_event_extra(event, name);\n",
       "\n",
       "    this.send_message(name, {key: value,\n",
       "                             guiEvent: simpleKeys(event)});\n",
       "    return false;\n",
       "}\n",
       "\n",
       "mpl.figure.prototype.toolbar_button_onclick = function(name) {\n",
       "    if (name == 'download') {\n",
       "        this.handle_save(this, null);\n",
       "    } else {\n",
       "        this.send_message(\"toolbar_button\", {name: name});\n",
       "    }\n",
       "};\n",
       "\n",
       "mpl.figure.prototype.toolbar_button_onmouseover = function(tooltip) {\n",
       "    this.message.textContent = tooltip;\n",
       "};\n",
       "mpl.toolbar_items = [[\"Home\", \"Reset original view\", \"fa fa-home icon-home\", \"home\"], [\"Back\", \"Back to  previous view\", \"fa fa-arrow-left icon-arrow-left\", \"back\"], [\"Forward\", \"Forward to next view\", \"fa fa-arrow-right icon-arrow-right\", \"forward\"], [\"\", \"\", \"\", \"\"], [\"Pan\", \"Pan axes with left mouse, zoom with right\", \"fa fa-arrows icon-move\", \"pan\"], [\"Zoom\", \"Zoom to rectangle\", \"fa fa-square-o icon-check-empty\", \"zoom\"], [\"\", \"\", \"\", \"\"], [\"Download\", \"Download plot\", \"fa fa-floppy-o icon-save\", \"download\"]];\n",
       "\n",
       "mpl.extensions = [\"eps\", \"jpeg\", \"pdf\", \"png\", \"ps\", \"raw\", \"svg\", \"tif\"];\n",
       "\n",
       "mpl.default_extension = \"png\";var comm_websocket_adapter = function(comm) {\n",
       "    // Create a \"websocket\"-like object which calls the given IPython comm\n",
       "    // object with the appropriate methods. Currently this is a non binary\n",
       "    // socket, so there is still some room for performance tuning.\n",
       "    var ws = {};\n",
       "\n",
       "    ws.close = function() {\n",
       "        comm.close()\n",
       "    };\n",
       "    ws.send = function(m) {\n",
       "        //console.log('sending', m);\n",
       "        comm.send(m);\n",
       "    };\n",
       "    // Register the callback with on_msg.\n",
       "    comm.on_msg(function(msg) {\n",
       "        //console.log('receiving', msg['content']['data'], msg);\n",
       "        // Pass the mpl event to the overriden (by mpl) onmessage function.\n",
       "        ws.onmessage(msg['content']['data'])\n",
       "    });\n",
       "    return ws;\n",
       "}\n",
       "\n",
       "mpl.mpl_figure_comm = function(comm, msg) {\n",
       "    // This is the function which gets called when the mpl process\n",
       "    // starts-up an IPython Comm through the \"matplotlib\" channel.\n",
       "\n",
       "    var id = msg.content.data.id;\n",
       "    // Get hold of the div created by the display call when the Comm\n",
       "    // socket was opened in Python.\n",
       "    var element = $(\"#\" + id);\n",
       "    var ws_proxy = comm_websocket_adapter(comm)\n",
       "\n",
       "    function ondownload(figure, format) {\n",
       "        window.open(figure.imageObj.src);\n",
       "    }\n",
       "\n",
       "    var fig = new mpl.figure(id, ws_proxy,\n",
       "                           ondownload,\n",
       "                           element.get(0));\n",
       "\n",
       "    // Call onopen now - mpl needs it, as it is assuming we've passed it a real\n",
       "    // web socket which is closed, not our websocket->open comm proxy.\n",
       "    ws_proxy.onopen();\n",
       "\n",
       "    fig.parent_element = element.get(0);\n",
       "    fig.cell_info = mpl.find_output_cell(\"<div id='\" + id + \"'></div>\");\n",
       "    if (!fig.cell_info) {\n",
       "        console.error(\"Failed to find cell for figure\", id, fig);\n",
       "        return;\n",
       "    }\n",
       "\n",
       "    var output_index = fig.cell_info[2]\n",
       "    var cell = fig.cell_info[0];\n",
       "\n",
       "};\n",
       "\n",
       "mpl.figure.prototype.handle_close = function(fig, msg) {\n",
       "    var width = fig.canvas.width/mpl.ratio\n",
       "    fig.root.unbind('remove')\n",
       "\n",
       "    // Update the output cell to use the data from the current canvas.\n",
       "    fig.push_to_output();\n",
       "    var dataURL = fig.canvas.toDataURL();\n",
       "    // Re-enable the keyboard manager in IPython - without this line, in FF,\n",
       "    // the notebook keyboard shortcuts fail.\n",
       "    IPython.keyboard_manager.enable()\n",
       "    $(fig.parent_element).html('<img src=\"' + dataURL + '\" width=\"' + width + '\">');\n",
       "    fig.close_ws(fig, msg);\n",
       "}\n",
       "\n",
       "mpl.figure.prototype.close_ws = function(fig, msg){\n",
       "    fig.send_message('closing', msg);\n",
       "    // fig.ws.close()\n",
       "}\n",
       "\n",
       "mpl.figure.prototype.push_to_output = function(remove_interactive) {\n",
       "    // Turn the data on the canvas into data in the output cell.\n",
       "    var width = this.canvas.width/mpl.ratio\n",
       "    var dataURL = this.canvas.toDataURL();\n",
       "    this.cell_info[1]['text/html'] = '<img src=\"' + dataURL + '\" width=\"' + width + '\">';\n",
       "}\n",
       "\n",
       "mpl.figure.prototype.updated_canvas_event = function() {\n",
       "    // Tell IPython that the notebook contents must change.\n",
       "    IPython.notebook.set_dirty(true);\n",
       "    this.send_message(\"ack\", {});\n",
       "    var fig = this;\n",
       "    // Wait a second, then push the new image to the DOM so\n",
       "    // that it is saved nicely (might be nice to debounce this).\n",
       "    setTimeout(function () { fig.push_to_output() }, 1000);\n",
       "}\n",
       "\n",
       "mpl.figure.prototype._init_toolbar = function() {\n",
       "    var fig = this;\n",
       "\n",
       "    var nav_element = $('<div/>')\n",
       "    nav_element.attr('style', 'width: 100%');\n",
       "    this.root.append(nav_element);\n",
       "\n",
       "    // Define a callback function for later on.\n",
       "    function toolbar_event(event) {\n",
       "        return fig.toolbar_button_onclick(event['data']);\n",
       "    }\n",
       "    function toolbar_mouse_event(event) {\n",
       "        return fig.toolbar_button_onmouseover(event['data']);\n",
       "    }\n",
       "\n",
       "    for(var toolbar_ind in mpl.toolbar_items){\n",
       "        var name = mpl.toolbar_items[toolbar_ind][0];\n",
       "        var tooltip = mpl.toolbar_items[toolbar_ind][1];\n",
       "        var image = mpl.toolbar_items[toolbar_ind][2];\n",
       "        var method_name = mpl.toolbar_items[toolbar_ind][3];\n",
       "\n",
       "        if (!name) { continue; };\n",
       "\n",
       "        var button = $('<button class=\"btn btn-default\" href=\"#\" title=\"' + name + '\"><i class=\"fa ' + image + ' fa-lg\"></i></button>');\n",
       "        button.click(method_name, toolbar_event);\n",
       "        button.mouseover(tooltip, toolbar_mouse_event);\n",
       "        nav_element.append(button);\n",
       "    }\n",
       "\n",
       "    // Add the status bar.\n",
       "    var status_bar = $('<span class=\"mpl-message\" style=\"text-align:right; float: right;\"/>');\n",
       "    nav_element.append(status_bar);\n",
       "    this.message = status_bar[0];\n",
       "\n",
       "    // Add the close button to the window.\n",
       "    var buttongrp = $('<div class=\"btn-group inline pull-right\"></div>');\n",
       "    var button = $('<button class=\"btn btn-mini btn-primary\" href=\"#\" title=\"Stop Interaction\"><i class=\"fa fa-power-off icon-remove icon-large\"></i></button>');\n",
       "    button.click(function (evt) { fig.handle_close(fig, {}); } );\n",
       "    button.mouseover('Stop Interaction', toolbar_mouse_event);\n",
       "    buttongrp.append(button);\n",
       "    var titlebar = this.root.find($('.ui-dialog-titlebar'));\n",
       "    titlebar.prepend(buttongrp);\n",
       "}\n",
       "\n",
       "mpl.figure.prototype._root_extra_style = function(el){\n",
       "    var fig = this\n",
       "    el.on(\"remove\", function(){\n",
       "\tfig.close_ws(fig, {});\n",
       "    });\n",
       "}\n",
       "\n",
       "mpl.figure.prototype._canvas_extra_style = function(el){\n",
       "    // this is important to make the div 'focusable\n",
       "    el.attr('tabindex', 0)\n",
       "    // reach out to IPython and tell the keyboard manager to turn it's self\n",
       "    // off when our div gets focus\n",
       "\n",
       "    // location in version 3\n",
       "    if (IPython.notebook.keyboard_manager) {\n",
       "        IPython.notebook.keyboard_manager.register_events(el);\n",
       "    }\n",
       "    else {\n",
       "        // location in version 2\n",
       "        IPython.keyboard_manager.register_events(el);\n",
       "    }\n",
       "\n",
       "}\n",
       "\n",
       "mpl.figure.prototype._key_event_extra = function(event, name) {\n",
       "    var manager = IPython.notebook.keyboard_manager;\n",
       "    if (!manager)\n",
       "        manager = IPython.keyboard_manager;\n",
       "\n",
       "    // Check for shift+enter\n",
       "    if (event.shiftKey && event.which == 13) {\n",
       "        this.canvas_div.blur();\n",
       "        // select the cell after this one\n",
       "        var index = IPython.notebook.find_cell_index(this.cell_info[0]);\n",
       "        IPython.notebook.select(index + 1);\n",
       "    }\n",
       "}\n",
       "\n",
       "mpl.figure.prototype.handle_save = function(fig, msg) {\n",
       "    fig.ondownload(fig, null);\n",
       "}\n",
       "\n",
       "\n",
       "mpl.find_output_cell = function(html_output) {\n",
       "    // Return the cell and output element which can be found *uniquely* in the notebook.\n",
       "    // Note - this is a bit hacky, but it is done because the \"notebook_saving.Notebook\"\n",
       "    // IPython event is triggered only after the cells have been serialised, which for\n",
       "    // our purposes (turning an active figure into a static one), is too late.\n",
       "    var cells = IPython.notebook.get_cells();\n",
       "    var ncells = cells.length;\n",
       "    for (var i=0; i<ncells; i++) {\n",
       "        var cell = cells[i];\n",
       "        if (cell.cell_type === 'code'){\n",
       "            for (var j=0; j<cell.output_area.outputs.length; j++) {\n",
       "                var data = cell.output_area.outputs[j];\n",
       "                if (data.data) {\n",
       "                    // IPython >= 3 moved mimebundle to data attribute of output\n",
       "                    data = data.data;\n",
       "                }\n",
       "                if (data['text/html'] == html_output) {\n",
       "                    return [cell, data, j];\n",
       "                }\n",
       "            }\n",
       "        }\n",
       "    }\n",
       "}\n",
       "\n",
       "// Register the function which deals with the matplotlib target/channel.\n",
       "// The kernel may be null if the page has been refreshed.\n",
       "if (IPython.notebook.kernel != null) {\n",
       "    IPython.notebook.kernel.comm_manager.register_target('matplotlib', mpl.mpl_figure_comm);\n",
       "}\n"
      ],
      "text/plain": [
       "<IPython.core.display.Javascript object>"
      ]
     },
     "metadata": {},
     "output_type": "display_data"
    },
    {
     "data": {
      "text/html": [
       "<img src=\"data:image/png;base64,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\" width=\"800\">"
      ],
      "text/plain": [
       "<IPython.core.display.HTML object>"
      ]
     },
     "metadata": {},
     "output_type": "display_data"
    },
    {
     "name": "stdout",
     "output_type": "stream",
     "text": [
      "gamma = 0.01  accuracy = 0.91   AUC = 1.00\n",
      "gamma = 0.10  accuracy = 0.90   AUC = 0.98\n",
      "gamma = 0.20  accuracy = 0.90   AUC = 0.66\n",
      "gamma = 1.00  accuracy = 0.90   AUC = 0.50\n"
     ]
    }
   ],
   "source": [
    "from sklearn.metrics import roc_curve, auc\n",
    "from matplotlib import cm\n",
    "\n",
    "\n",
    "plt.figure()\n",
    "plt.xlim([-0.01, 1.00])\n",
    "plt.ylim([-0.01, 1.01])\n",
    "for g in [0.01, 0.1, 0.20, 1]:\n",
    "    svm = SVC(gamma=g).fit(X_train, y_train)\n",
    "    y_score_svm = svm.decision_function(X_test)\n",
    "    fpr_svm, tpr_svm, _ = roc_curve(y_test, y_score_svm)\n",
    "    roc_auc_svm = auc(fpr_svm, tpr_svm)\n",
    "    accuracy_svm = svm.score(X_test, y_test)\n",
    "    print(\"gamma = {:.2f}  accuracy = {:.2f}   AUC = {:.2f}\".format(g, accuracy_svm, \n",
    "                                                                    roc_auc_svm))\n",
    "    plt.plot(fpr_svm, tpr_svm, lw=3, alpha=0.7, \n",
    "             label='SVM (gamma = {:0.2f}, area = {:0.2f})'.format(g, roc_auc_svm))\n",
    "\n",
    "plt.xlabel('False Positive Rate', fontsize=16)\n",
    "plt.ylabel('True Positive Rate (Recall)', fontsize=16)\n",
    "plt.plot([0, 1], [0, 1], color='k', lw=0.5, linestyle='--') # plot the line corresponding to AUC=0.5\n",
    "plt.legend(loc=\"lower right\", fontsize=11)\n",
    "plt.title('ROC curve: (1-of-10 digits classifier)', fontsize=16)\n",
    "plt.axes().set_aspect('equal')\n",
    "\n",
    "plt.show()"
   ]
  },
  {
   "cell_type": "markdown",
   "metadata": {},
   "source": [
    "<mark>The best gamma is the which provides the best AUC score, in this case gamme=0.01</mark>"
   ]
  },
  {
   "cell_type": "markdown",
   "metadata": {},
   "source": [
    "#### Decision Tree:"
   ]
  },
  {
   "cell_type": "code",
   "execution_count": 37,
   "metadata": {
    "collapsed": false
   },
   "outputs": [
    {
     "data": {
      "application/javascript": [
       "/* Put everything inside the global mpl namespace */\n",
       "window.mpl = {};\n",
       "\n",
       "\n",
       "mpl.get_websocket_type = function() {\n",
       "    if (typeof(WebSocket) !== 'undefined') {\n",
       "        return WebSocket;\n",
       "    } else if (typeof(MozWebSocket) !== 'undefined') {\n",
       "        return MozWebSocket;\n",
       "    } else {\n",
       "        alert('Your browser does not have WebSocket support.' +\n",
       "              'Please try Chrome, Safari or Firefox ≥ 6. ' +\n",
       "              'Firefox 4 and 5 are also supported but you ' +\n",
       "              'have to enable WebSockets in about:config.');\n",
       "    };\n",
       "}\n",
       "\n",
       "mpl.figure = function(figure_id, websocket, ondownload, parent_element) {\n",
       "    this.id = figure_id;\n",
       "\n",
       "    this.ws = websocket;\n",
       "\n",
       "    this.supports_binary = (this.ws.binaryType != undefined);\n",
       "\n",
       "    if (!this.supports_binary) {\n",
       "        var warnings = document.getElementById(\"mpl-warnings\");\n",
       "        if (warnings) {\n",
       "            warnings.style.display = 'block';\n",
       "            warnings.textContent = (\n",
       "                \"This browser does not support binary websocket messages. \" +\n",
       "                    \"Performance may be slow.\");\n",
       "        }\n",
       "    }\n",
       "\n",
       "    this.imageObj = new Image();\n",
       "\n",
       "    this.context = undefined;\n",
       "    this.message = undefined;\n",
       "    this.canvas = undefined;\n",
       "    this.rubberband_canvas = undefined;\n",
       "    this.rubberband_context = undefined;\n",
       "    this.format_dropdown = undefined;\n",
       "\n",
       "    this.image_mode = 'full';\n",
       "\n",
       "    this.root = $('<div/>');\n",
       "    this._root_extra_style(this.root)\n",
       "    this.root.attr('style', 'display: inline-block');\n",
       "\n",
       "    $(parent_element).append(this.root);\n",
       "\n",
       "    this._init_header(this);\n",
       "    this._init_canvas(this);\n",
       "    this._init_toolbar(this);\n",
       "\n",
       "    var fig = this;\n",
       "\n",
       "    this.waiting = false;\n",
       "\n",
       "    this.ws.onopen =  function () {\n",
       "            fig.send_message(\"supports_binary\", {value: fig.supports_binary});\n",
       "            fig.send_message(\"send_image_mode\", {});\n",
       "            if (mpl.ratio != 1) {\n",
       "                fig.send_message(\"set_dpi_ratio\", {'dpi_ratio': mpl.ratio});\n",
       "            }\n",
       "            fig.send_message(\"refresh\", {});\n",
       "        }\n",
       "\n",
       "    this.imageObj.onload = function() {\n",
       "            if (fig.image_mode == 'full') {\n",
       "                // Full images could contain transparency (where diff images\n",
       "                // almost always do), so we need to clear the canvas so that\n",
       "                // there is no ghosting.\n",
       "                fig.context.clearRect(0, 0, fig.canvas.width, fig.canvas.height);\n",
       "            }\n",
       "            fig.context.drawImage(fig.imageObj, 0, 0);\n",
       "        };\n",
       "\n",
       "    this.imageObj.onunload = function() {\n",
       "        this.ws.close();\n",
       "    }\n",
       "\n",
       "    this.ws.onmessage = this._make_on_message_function(this);\n",
       "\n",
       "    this.ondownload = ondownload;\n",
       "}\n",
       "\n",
       "mpl.figure.prototype._init_header = function() {\n",
       "    var titlebar = $(\n",
       "        '<div class=\"ui-dialog-titlebar ui-widget-header ui-corner-all ' +\n",
       "        'ui-helper-clearfix\"/>');\n",
       "    var titletext = $(\n",
       "        '<div class=\"ui-dialog-title\" style=\"width: 100%; ' +\n",
       "        'text-align: center; padding: 3px;\"/>');\n",
       "    titlebar.append(titletext)\n",
       "    this.root.append(titlebar);\n",
       "    this.header = titletext[0];\n",
       "}\n",
       "\n",
       "\n",
       "\n",
       "mpl.figure.prototype._canvas_extra_style = function(canvas_div) {\n",
       "\n",
       "}\n",
       "\n",
       "\n",
       "mpl.figure.prototype._root_extra_style = function(canvas_div) {\n",
       "\n",
       "}\n",
       "\n",
       "mpl.figure.prototype._init_canvas = function() {\n",
       "    var fig = this;\n",
       "\n",
       "    var canvas_div = $('<div/>');\n",
       "\n",
       "    canvas_div.attr('style', 'position: relative; clear: both; outline: 0');\n",
       "\n",
       "    function canvas_keyboard_event(event) {\n",
       "        return fig.key_event(event, event['data']);\n",
       "    }\n",
       "\n",
       "    canvas_div.keydown('key_press', canvas_keyboard_event);\n",
       "    canvas_div.keyup('key_release', canvas_keyboard_event);\n",
       "    this.canvas_div = canvas_div\n",
       "    this._canvas_extra_style(canvas_div)\n",
       "    this.root.append(canvas_div);\n",
       "\n",
       "    var canvas = $('<canvas/>');\n",
       "    canvas.addClass('mpl-canvas');\n",
       "    canvas.attr('style', \"left: 0; top: 0; z-index: 0; outline: 0\")\n",
       "\n",
       "    this.canvas = canvas[0];\n",
       "    this.context = canvas[0].getContext(\"2d\");\n",
       "\n",
       "    var backingStore = this.context.backingStorePixelRatio ||\n",
       "\tthis.context.webkitBackingStorePixelRatio ||\n",
       "\tthis.context.mozBackingStorePixelRatio ||\n",
       "\tthis.context.msBackingStorePixelRatio ||\n",
       "\tthis.context.oBackingStorePixelRatio ||\n",
       "\tthis.context.backingStorePixelRatio || 1;\n",
       "\n",
       "    mpl.ratio = (window.devicePixelRatio || 1) / backingStore;\n",
       "\n",
       "    var rubberband = $('<canvas/>');\n",
       "    rubberband.attr('style', \"position: absolute; left: 0; top: 0; z-index: 1;\")\n",
       "\n",
       "    var pass_mouse_events = true;\n",
       "\n",
       "    canvas_div.resizable({\n",
       "        start: function(event, ui) {\n",
       "            pass_mouse_events = false;\n",
       "        },\n",
       "        resize: function(event, ui) {\n",
       "            fig.request_resize(ui.size.width, ui.size.height);\n",
       "        },\n",
       "        stop: function(event, ui) {\n",
       "            pass_mouse_events = true;\n",
       "            fig.request_resize(ui.size.width, ui.size.height);\n",
       "        },\n",
       "    });\n",
       "\n",
       "    function mouse_event_fn(event) {\n",
       "        if (pass_mouse_events)\n",
       "            return fig.mouse_event(event, event['data']);\n",
       "    }\n",
       "\n",
       "    rubberband.mousedown('button_press', mouse_event_fn);\n",
       "    rubberband.mouseup('button_release', mouse_event_fn);\n",
       "    // Throttle sequential mouse events to 1 every 20ms.\n",
       "    rubberband.mousemove('motion_notify', mouse_event_fn);\n",
       "\n",
       "    rubberband.mouseenter('figure_enter', mouse_event_fn);\n",
       "    rubberband.mouseleave('figure_leave', mouse_event_fn);\n",
       "\n",
       "    canvas_div.on(\"wheel\", function (event) {\n",
       "        event = event.originalEvent;\n",
       "        event['data'] = 'scroll'\n",
       "        if (event.deltaY < 0) {\n",
       "            event.step = 1;\n",
       "        } else {\n",
       "            event.step = -1;\n",
       "        }\n",
       "        mouse_event_fn(event);\n",
       "    });\n",
       "\n",
       "    canvas_div.append(canvas);\n",
       "    canvas_div.append(rubberband);\n",
       "\n",
       "    this.rubberband = rubberband;\n",
       "    this.rubberband_canvas = rubberband[0];\n",
       "    this.rubberband_context = rubberband[0].getContext(\"2d\");\n",
       "    this.rubberband_context.strokeStyle = \"#000000\";\n",
       "\n",
       "    this._resize_canvas = function(width, height) {\n",
       "        // Keep the size of the canvas, canvas container, and rubber band\n",
       "        // canvas in synch.\n",
       "        canvas_div.css('width', width)\n",
       "        canvas_div.css('height', height)\n",
       "\n",
       "        canvas.attr('width', width * mpl.ratio);\n",
       "        canvas.attr('height', height * mpl.ratio);\n",
       "        canvas.attr('style', 'width: ' + width + 'px; height: ' + height + 'px;');\n",
       "\n",
       "        rubberband.attr('width', width);\n",
       "        rubberband.attr('height', height);\n",
       "    }\n",
       "\n",
       "    // Set the figure to an initial 600x600px, this will subsequently be updated\n",
       "    // upon first draw.\n",
       "    this._resize_canvas(600, 600);\n",
       "\n",
       "    // Disable right mouse context menu.\n",
       "    $(this.rubberband_canvas).bind(\"contextmenu\",function(e){\n",
       "        return false;\n",
       "    });\n",
       "\n",
       "    function set_focus () {\n",
       "        canvas.focus();\n",
       "        canvas_div.focus();\n",
       "    }\n",
       "\n",
       "    window.setTimeout(set_focus, 100);\n",
       "}\n",
       "\n",
       "mpl.figure.prototype._init_toolbar = function() {\n",
       "    var fig = this;\n",
       "\n",
       "    var nav_element = $('<div/>')\n",
       "    nav_element.attr('style', 'width: 100%');\n",
       "    this.root.append(nav_element);\n",
       "\n",
       "    // Define a callback function for later on.\n",
       "    function toolbar_event(event) {\n",
       "        return fig.toolbar_button_onclick(event['data']);\n",
       "    }\n",
       "    function toolbar_mouse_event(event) {\n",
       "        return fig.toolbar_button_onmouseover(event['data']);\n",
       "    }\n",
       "\n",
       "    for(var toolbar_ind in mpl.toolbar_items) {\n",
       "        var name = mpl.toolbar_items[toolbar_ind][0];\n",
       "        var tooltip = mpl.toolbar_items[toolbar_ind][1];\n",
       "        var image = mpl.toolbar_items[toolbar_ind][2];\n",
       "        var method_name = mpl.toolbar_items[toolbar_ind][3];\n",
       "\n",
       "        if (!name) {\n",
       "            // put a spacer in here.\n",
       "            continue;\n",
       "        }\n",
       "        var button = $('<button/>');\n",
       "        button.addClass('ui-button ui-widget ui-state-default ui-corner-all ' +\n",
       "                        'ui-button-icon-only');\n",
       "        button.attr('role', 'button');\n",
       "        button.attr('aria-disabled', 'false');\n",
       "        button.click(method_name, toolbar_event);\n",
       "        button.mouseover(tooltip, toolbar_mouse_event);\n",
       "\n",
       "        var icon_img = $('<span/>');\n",
       "        icon_img.addClass('ui-button-icon-primary ui-icon');\n",
       "        icon_img.addClass(image);\n",
       "        icon_img.addClass('ui-corner-all');\n",
       "\n",
       "        var tooltip_span = $('<span/>');\n",
       "        tooltip_span.addClass('ui-button-text');\n",
       "        tooltip_span.html(tooltip);\n",
       "\n",
       "        button.append(icon_img);\n",
       "        button.append(tooltip_span);\n",
       "\n",
       "        nav_element.append(button);\n",
       "    }\n",
       "\n",
       "    var fmt_picker_span = $('<span/>');\n",
       "\n",
       "    var fmt_picker = $('<select/>');\n",
       "    fmt_picker.addClass('mpl-toolbar-option ui-widget ui-widget-content');\n",
       "    fmt_picker_span.append(fmt_picker);\n",
       "    nav_element.append(fmt_picker_span);\n",
       "    this.format_dropdown = fmt_picker[0];\n",
       "\n",
       "    for (var ind in mpl.extensions) {\n",
       "        var fmt = mpl.extensions[ind];\n",
       "        var option = $(\n",
       "            '<option/>', {selected: fmt === mpl.default_extension}).html(fmt);\n",
       "        fmt_picker.append(option)\n",
       "    }\n",
       "\n",
       "    // Add hover states to the ui-buttons\n",
       "    $( \".ui-button\" ).hover(\n",
       "        function() { $(this).addClass(\"ui-state-hover\");},\n",
       "        function() { $(this).removeClass(\"ui-state-hover\");}\n",
       "    );\n",
       "\n",
       "    var status_bar = $('<span class=\"mpl-message\"/>');\n",
       "    nav_element.append(status_bar);\n",
       "    this.message = status_bar[0];\n",
       "}\n",
       "\n",
       "mpl.figure.prototype.request_resize = function(x_pixels, y_pixels) {\n",
       "    // Request matplotlib to resize the figure. Matplotlib will then trigger a resize in the client,\n",
       "    // which will in turn request a refresh of the image.\n",
       "    this.send_message('resize', {'width': x_pixels, 'height': y_pixels});\n",
       "}\n",
       "\n",
       "mpl.figure.prototype.send_message = function(type, properties) {\n",
       "    properties['type'] = type;\n",
       "    properties['figure_id'] = this.id;\n",
       "    this.ws.send(JSON.stringify(properties));\n",
       "}\n",
       "\n",
       "mpl.figure.prototype.send_draw_message = function() {\n",
       "    if (!this.waiting) {\n",
       "        this.waiting = true;\n",
       "        this.ws.send(JSON.stringify({type: \"draw\", figure_id: this.id}));\n",
       "    }\n",
       "}\n",
       "\n",
       "\n",
       "mpl.figure.prototype.handle_save = function(fig, msg) {\n",
       "    var format_dropdown = fig.format_dropdown;\n",
       "    var format = format_dropdown.options[format_dropdown.selectedIndex].value;\n",
       "    fig.ondownload(fig, format);\n",
       "}\n",
       "\n",
       "\n",
       "mpl.figure.prototype.handle_resize = function(fig, msg) {\n",
       "    var size = msg['size'];\n",
       "    if (size[0] != fig.canvas.width || size[1] != fig.canvas.height) {\n",
       "        fig._resize_canvas(size[0], size[1]);\n",
       "        fig.send_message(\"refresh\", {});\n",
       "    };\n",
       "}\n",
       "\n",
       "mpl.figure.prototype.handle_rubberband = function(fig, msg) {\n",
       "    var x0 = msg['x0'] / mpl.ratio;\n",
       "    var y0 = (fig.canvas.height - msg['y0']) / mpl.ratio;\n",
       "    var x1 = msg['x1'] / mpl.ratio;\n",
       "    var y1 = (fig.canvas.height - msg['y1']) / mpl.ratio;\n",
       "    x0 = Math.floor(x0) + 0.5;\n",
       "    y0 = Math.floor(y0) + 0.5;\n",
       "    x1 = Math.floor(x1) + 0.5;\n",
       "    y1 = Math.floor(y1) + 0.5;\n",
       "    var min_x = Math.min(x0, x1);\n",
       "    var min_y = Math.min(y0, y1);\n",
       "    var width = Math.abs(x1 - x0);\n",
       "    var height = Math.abs(y1 - y0);\n",
       "\n",
       "    fig.rubberband_context.clearRect(\n",
       "        0, 0, fig.canvas.width, fig.canvas.height);\n",
       "\n",
       "    fig.rubberband_context.strokeRect(min_x, min_y, width, height);\n",
       "}\n",
       "\n",
       "mpl.figure.prototype.handle_figure_label = function(fig, msg) {\n",
       "    // Updates the figure title.\n",
       "    fig.header.textContent = msg['label'];\n",
       "}\n",
       "\n",
       "mpl.figure.prototype.handle_cursor = function(fig, msg) {\n",
       "    var cursor = msg['cursor'];\n",
       "    switch(cursor)\n",
       "    {\n",
       "    case 0:\n",
       "        cursor = 'pointer';\n",
       "        break;\n",
       "    case 1:\n",
       "        cursor = 'default';\n",
       "        break;\n",
       "    case 2:\n",
       "        cursor = 'crosshair';\n",
       "        break;\n",
       "    case 3:\n",
       "        cursor = 'move';\n",
       "        break;\n",
       "    }\n",
       "    fig.rubberband_canvas.style.cursor = cursor;\n",
       "}\n",
       "\n",
       "mpl.figure.prototype.handle_message = function(fig, msg) {\n",
       "    fig.message.textContent = msg['message'];\n",
       "}\n",
       "\n",
       "mpl.figure.prototype.handle_draw = function(fig, msg) {\n",
       "    // Request the server to send over a new figure.\n",
       "    fig.send_draw_message();\n",
       "}\n",
       "\n",
       "mpl.figure.prototype.handle_image_mode = function(fig, msg) {\n",
       "    fig.image_mode = msg['mode'];\n",
       "}\n",
       "\n",
       "mpl.figure.prototype.updated_canvas_event = function() {\n",
       "    // Called whenever the canvas gets updated.\n",
       "    this.send_message(\"ack\", {});\n",
       "}\n",
       "\n",
       "// A function to construct a web socket function for onmessage handling.\n",
       "// Called in the figure constructor.\n",
       "mpl.figure.prototype._make_on_message_function = function(fig) {\n",
       "    return function socket_on_message(evt) {\n",
       "        if (evt.data instanceof Blob) {\n",
       "            /* FIXME: We get \"Resource interpreted as Image but\n",
       "             * transferred with MIME type text/plain:\" errors on\n",
       "             * Chrome.  But how to set the MIME type?  It doesn't seem\n",
       "             * to be part of the websocket stream */\n",
       "            evt.data.type = \"image/png\";\n",
       "\n",
       "            /* Free the memory for the previous frames */\n",
       "            if (fig.imageObj.src) {\n",
       "                (window.URL || window.webkitURL).revokeObjectURL(\n",
       "                    fig.imageObj.src);\n",
       "            }\n",
       "\n",
       "            fig.imageObj.src = (window.URL || window.webkitURL).createObjectURL(\n",
       "                evt.data);\n",
       "            fig.updated_canvas_event();\n",
       "            fig.waiting = false;\n",
       "            return;\n",
       "        }\n",
       "        else if (typeof evt.data === 'string' && evt.data.slice(0, 21) == \"data:image/png;base64\") {\n",
       "            fig.imageObj.src = evt.data;\n",
       "            fig.updated_canvas_event();\n",
       "            fig.waiting = false;\n",
       "            return;\n",
       "        }\n",
       "\n",
       "        var msg = JSON.parse(evt.data);\n",
       "        var msg_type = msg['type'];\n",
       "\n",
       "        // Call the  \"handle_{type}\" callback, which takes\n",
       "        // the figure and JSON message as its only arguments.\n",
       "        try {\n",
       "            var callback = fig[\"handle_\" + msg_type];\n",
       "        } catch (e) {\n",
       "            console.log(\"No handler for the '\" + msg_type + \"' message type: \", msg);\n",
       "            return;\n",
       "        }\n",
       "\n",
       "        if (callback) {\n",
       "            try {\n",
       "                // console.log(\"Handling '\" + msg_type + \"' message: \", msg);\n",
       "                callback(fig, msg);\n",
       "            } catch (e) {\n",
       "                console.log(\"Exception inside the 'handler_\" + msg_type + \"' callback:\", e, e.stack, msg);\n",
       "            }\n",
       "        }\n",
       "    };\n",
       "}\n",
       "\n",
       "// from http://stackoverflow.com/questions/1114465/getting-mouse-location-in-canvas\n",
       "mpl.findpos = function(e) {\n",
       "    //this section is from http://www.quirksmode.org/js/events_properties.html\n",
       "    var targ;\n",
       "    if (!e)\n",
       "        e = window.event;\n",
       "    if (e.target)\n",
       "        targ = e.target;\n",
       "    else if (e.srcElement)\n",
       "        targ = e.srcElement;\n",
       "    if (targ.nodeType == 3) // defeat Safari bug\n",
       "        targ = targ.parentNode;\n",
       "\n",
       "    // jQuery normalizes the pageX and pageY\n",
       "    // pageX,Y are the mouse positions relative to the document\n",
       "    // offset() returns the position of the element relative to the document\n",
       "    var x = e.pageX - $(targ).offset().left;\n",
       "    var y = e.pageY - $(targ).offset().top;\n",
       "\n",
       "    return {\"x\": x, \"y\": y};\n",
       "};\n",
       "\n",
       "/*\n",
       " * return a copy of an object with only non-object keys\n",
       " * we need this to avoid circular references\n",
       " * http://stackoverflow.com/a/24161582/3208463\n",
       " */\n",
       "function simpleKeys (original) {\n",
       "  return Object.keys(original).reduce(function (obj, key) {\n",
       "    if (typeof original[key] !== 'object')\n",
       "        obj[key] = original[key]\n",
       "    return obj;\n",
       "  }, {});\n",
       "}\n",
       "\n",
       "mpl.figure.prototype.mouse_event = function(event, name) {\n",
       "    var canvas_pos = mpl.findpos(event)\n",
       "\n",
       "    if (name === 'button_press')\n",
       "    {\n",
       "        this.canvas.focus();\n",
       "        this.canvas_div.focus();\n",
       "    }\n",
       "\n",
       "    var x = canvas_pos.x * mpl.ratio;\n",
       "    var y = canvas_pos.y * mpl.ratio;\n",
       "\n",
       "    this.send_message(name, {x: x, y: y, button: event.button,\n",
       "                             step: event.step,\n",
       "                             guiEvent: simpleKeys(event)});\n",
       "\n",
       "    /* This prevents the web browser from automatically changing to\n",
       "     * the text insertion cursor when the button is pressed.  We want\n",
       "     * to control all of the cursor setting manually through the\n",
       "     * 'cursor' event from matplotlib */\n",
       "    event.preventDefault();\n",
       "    return false;\n",
       "}\n",
       "\n",
       "mpl.figure.prototype._key_event_extra = function(event, name) {\n",
       "    // Handle any extra behaviour associated with a key event\n",
       "}\n",
       "\n",
       "mpl.figure.prototype.key_event = function(event, name) {\n",
       "\n",
       "    // Prevent repeat events\n",
       "    if (name == 'key_press')\n",
       "    {\n",
       "        if (event.which === this._key)\n",
       "            return;\n",
       "        else\n",
       "            this._key = event.which;\n",
       "    }\n",
       "    if (name == 'key_release')\n",
       "        this._key = null;\n",
       "\n",
       "    var value = '';\n",
       "    if (event.ctrlKey && event.which != 17)\n",
       "        value += \"ctrl+\";\n",
       "    if (event.altKey && event.which != 18)\n",
       "        value += \"alt+\";\n",
       "    if (event.shiftKey && event.which != 16)\n",
       "        value += \"shift+\";\n",
       "\n",
       "    value += 'k';\n",
       "    value += event.which.toString();\n",
       "\n",
       "    this._key_event_extra(event, name);\n",
       "\n",
       "    this.send_message(name, {key: value,\n",
       "                             guiEvent: simpleKeys(event)});\n",
       "    return false;\n",
       "}\n",
       "\n",
       "mpl.figure.prototype.toolbar_button_onclick = function(name) {\n",
       "    if (name == 'download') {\n",
       "        this.handle_save(this, null);\n",
       "    } else {\n",
       "        this.send_message(\"toolbar_button\", {name: name});\n",
       "    }\n",
       "};\n",
       "\n",
       "mpl.figure.prototype.toolbar_button_onmouseover = function(tooltip) {\n",
       "    this.message.textContent = tooltip;\n",
       "};\n",
       "mpl.toolbar_items = [[\"Home\", \"Reset original view\", \"fa fa-home icon-home\", \"home\"], [\"Back\", \"Back to  previous view\", \"fa fa-arrow-left icon-arrow-left\", \"back\"], [\"Forward\", \"Forward to next view\", \"fa fa-arrow-right icon-arrow-right\", \"forward\"], [\"\", \"\", \"\", \"\"], [\"Pan\", \"Pan axes with left mouse, zoom with right\", \"fa fa-arrows icon-move\", \"pan\"], [\"Zoom\", \"Zoom to rectangle\", \"fa fa-square-o icon-check-empty\", \"zoom\"], [\"\", \"\", \"\", \"\"], [\"Download\", \"Download plot\", \"fa fa-floppy-o icon-save\", \"download\"]];\n",
       "\n",
       "mpl.extensions = [\"eps\", \"jpeg\", \"pdf\", \"png\", \"ps\", \"raw\", \"svg\", \"tif\"];\n",
       "\n",
       "mpl.default_extension = \"png\";var comm_websocket_adapter = function(comm) {\n",
       "    // Create a \"websocket\"-like object which calls the given IPython comm\n",
       "    // object with the appropriate methods. Currently this is a non binary\n",
       "    // socket, so there is still some room for performance tuning.\n",
       "    var ws = {};\n",
       "\n",
       "    ws.close = function() {\n",
       "        comm.close()\n",
       "    };\n",
       "    ws.send = function(m) {\n",
       "        //console.log('sending', m);\n",
       "        comm.send(m);\n",
       "    };\n",
       "    // Register the callback with on_msg.\n",
       "    comm.on_msg(function(msg) {\n",
       "        //console.log('receiving', msg['content']['data'], msg);\n",
       "        // Pass the mpl event to the overriden (by mpl) onmessage function.\n",
       "        ws.onmessage(msg['content']['data'])\n",
       "    });\n",
       "    return ws;\n",
       "}\n",
       "\n",
       "mpl.mpl_figure_comm = function(comm, msg) {\n",
       "    // This is the function which gets called when the mpl process\n",
       "    // starts-up an IPython Comm through the \"matplotlib\" channel.\n",
       "\n",
       "    var id = msg.content.data.id;\n",
       "    // Get hold of the div created by the display call when the Comm\n",
       "    // socket was opened in Python.\n",
       "    var element = $(\"#\" + id);\n",
       "    var ws_proxy = comm_websocket_adapter(comm)\n",
       "\n",
       "    function ondownload(figure, format) {\n",
       "        window.open(figure.imageObj.src);\n",
       "    }\n",
       "\n",
       "    var fig = new mpl.figure(id, ws_proxy,\n",
       "                           ondownload,\n",
       "                           element.get(0));\n",
       "\n",
       "    // Call onopen now - mpl needs it, as it is assuming we've passed it a real\n",
       "    // web socket which is closed, not our websocket->open comm proxy.\n",
       "    ws_proxy.onopen();\n",
       "\n",
       "    fig.parent_element = element.get(0);\n",
       "    fig.cell_info = mpl.find_output_cell(\"<div id='\" + id + \"'></div>\");\n",
       "    if (!fig.cell_info) {\n",
       "        console.error(\"Failed to find cell for figure\", id, fig);\n",
       "        return;\n",
       "    }\n",
       "\n",
       "    var output_index = fig.cell_info[2]\n",
       "    var cell = fig.cell_info[0];\n",
       "\n",
       "};\n",
       "\n",
       "mpl.figure.prototype.handle_close = function(fig, msg) {\n",
       "    var width = fig.canvas.width/mpl.ratio\n",
       "    fig.root.unbind('remove')\n",
       "\n",
       "    // Update the output cell to use the data from the current canvas.\n",
       "    fig.push_to_output();\n",
       "    var dataURL = fig.canvas.toDataURL();\n",
       "    // Re-enable the keyboard manager in IPython - without this line, in FF,\n",
       "    // the notebook keyboard shortcuts fail.\n",
       "    IPython.keyboard_manager.enable()\n",
       "    $(fig.parent_element).html('<img src=\"' + dataURL + '\" width=\"' + width + '\">');\n",
       "    fig.close_ws(fig, msg);\n",
       "}\n",
       "\n",
       "mpl.figure.prototype.close_ws = function(fig, msg){\n",
       "    fig.send_message('closing', msg);\n",
       "    // fig.ws.close()\n",
       "}\n",
       "\n",
       "mpl.figure.prototype.push_to_output = function(remove_interactive) {\n",
       "    // Turn the data on the canvas into data in the output cell.\n",
       "    var width = this.canvas.width/mpl.ratio\n",
       "    var dataURL = this.canvas.toDataURL();\n",
       "    this.cell_info[1]['text/html'] = '<img src=\"' + dataURL + '\" width=\"' + width + '\">';\n",
       "}\n",
       "\n",
       "mpl.figure.prototype.updated_canvas_event = function() {\n",
       "    // Tell IPython that the notebook contents must change.\n",
       "    IPython.notebook.set_dirty(true);\n",
       "    this.send_message(\"ack\", {});\n",
       "    var fig = this;\n",
       "    // Wait a second, then push the new image to the DOM so\n",
       "    // that it is saved nicely (might be nice to debounce this).\n",
       "    setTimeout(function () { fig.push_to_output() }, 1000);\n",
       "}\n",
       "\n",
       "mpl.figure.prototype._init_toolbar = function() {\n",
       "    var fig = this;\n",
       "\n",
       "    var nav_element = $('<div/>')\n",
       "    nav_element.attr('style', 'width: 100%');\n",
       "    this.root.append(nav_element);\n",
       "\n",
       "    // Define a callback function for later on.\n",
       "    function toolbar_event(event) {\n",
       "        return fig.toolbar_button_onclick(event['data']);\n",
       "    }\n",
       "    function toolbar_mouse_event(event) {\n",
       "        return fig.toolbar_button_onmouseover(event['data']);\n",
       "    }\n",
       "\n",
       "    for(var toolbar_ind in mpl.toolbar_items){\n",
       "        var name = mpl.toolbar_items[toolbar_ind][0];\n",
       "        var tooltip = mpl.toolbar_items[toolbar_ind][1];\n",
       "        var image = mpl.toolbar_items[toolbar_ind][2];\n",
       "        var method_name = mpl.toolbar_items[toolbar_ind][3];\n",
       "\n",
       "        if (!name) { continue; };\n",
       "\n",
       "        var button = $('<button class=\"btn btn-default\" href=\"#\" title=\"' + name + '\"><i class=\"fa ' + image + ' fa-lg\"></i></button>');\n",
       "        button.click(method_name, toolbar_event);\n",
       "        button.mouseover(tooltip, toolbar_mouse_event);\n",
       "        nav_element.append(button);\n",
       "    }\n",
       "\n",
       "    // Add the status bar.\n",
       "    var status_bar = $('<span class=\"mpl-message\" style=\"text-align:right; float: right;\"/>');\n",
       "    nav_element.append(status_bar);\n",
       "    this.message = status_bar[0];\n",
       "\n",
       "    // Add the close button to the window.\n",
       "    var buttongrp = $('<div class=\"btn-group inline pull-right\"></div>');\n",
       "    var button = $('<button class=\"btn btn-mini btn-primary\" href=\"#\" title=\"Stop Interaction\"><i class=\"fa fa-power-off icon-remove icon-large\"></i></button>');\n",
       "    button.click(function (evt) { fig.handle_close(fig, {}); } );\n",
       "    button.mouseover('Stop Interaction', toolbar_mouse_event);\n",
       "    buttongrp.append(button);\n",
       "    var titlebar = this.root.find($('.ui-dialog-titlebar'));\n",
       "    titlebar.prepend(buttongrp);\n",
       "}\n",
       "\n",
       "mpl.figure.prototype._root_extra_style = function(el){\n",
       "    var fig = this\n",
       "    el.on(\"remove\", function(){\n",
       "\tfig.close_ws(fig, {});\n",
       "    });\n",
       "}\n",
       "\n",
       "mpl.figure.prototype._canvas_extra_style = function(el){\n",
       "    // this is important to make the div 'focusable\n",
       "    el.attr('tabindex', 0)\n",
       "    // reach out to IPython and tell the keyboard manager to turn it's self\n",
       "    // off when our div gets focus\n",
       "\n",
       "    // location in version 3\n",
       "    if (IPython.notebook.keyboard_manager) {\n",
       "        IPython.notebook.keyboard_manager.register_events(el);\n",
       "    }\n",
       "    else {\n",
       "        // location in version 2\n",
       "        IPython.keyboard_manager.register_events(el);\n",
       "    }\n",
       "\n",
       "}\n",
       "\n",
       "mpl.figure.prototype._key_event_extra = function(event, name) {\n",
       "    var manager = IPython.notebook.keyboard_manager;\n",
       "    if (!manager)\n",
       "        manager = IPython.keyboard_manager;\n",
       "\n",
       "    // Check for shift+enter\n",
       "    if (event.shiftKey && event.which == 13) {\n",
       "        this.canvas_div.blur();\n",
       "        // select the cell after this one\n",
       "        var index = IPython.notebook.find_cell_index(this.cell_info[0]);\n",
       "        IPython.notebook.select(index + 1);\n",
       "    }\n",
       "}\n",
       "\n",
       "mpl.figure.prototype.handle_save = function(fig, msg) {\n",
       "    fig.ondownload(fig, null);\n",
       "}\n",
       "\n",
       "\n",
       "mpl.find_output_cell = function(html_output) {\n",
       "    // Return the cell and output element which can be found *uniquely* in the notebook.\n",
       "    // Note - this is a bit hacky, but it is done because the \"notebook_saving.Notebook\"\n",
       "    // IPython event is triggered only after the cells have been serialised, which for\n",
       "    // our purposes (turning an active figure into a static one), is too late.\n",
       "    var cells = IPython.notebook.get_cells();\n",
       "    var ncells = cells.length;\n",
       "    for (var i=0; i<ncells; i++) {\n",
       "        var cell = cells[i];\n",
       "        if (cell.cell_type === 'code'){\n",
       "            for (var j=0; j<cell.output_area.outputs.length; j++) {\n",
       "                var data = cell.output_area.outputs[j];\n",
       "                if (data.data) {\n",
       "                    // IPython >= 3 moved mimebundle to data attribute of output\n",
       "                    data = data.data;\n",
       "                }\n",
       "                if (data['text/html'] == html_output) {\n",
       "                    return [cell, data, j];\n",
       "                }\n",
       "            }\n",
       "        }\n",
       "    }\n",
       "}\n",
       "\n",
       "// Register the function which deals with the matplotlib target/channel.\n",
       "// The kernel may be null if the page has been refreshed.\n",
       "if (IPython.notebook.kernel != null) {\n",
       "    IPython.notebook.kernel.comm_manager.register_target('matplotlib', mpl.mpl_figure_comm);\n",
       "}\n"
      ],
      "text/plain": [
       "<IPython.core.display.Javascript object>"
      ]
     },
     "metadata": {},
     "output_type": "display_data"
    },
    {
     "data": {
      "text/html": [
       "<img src=\"data:image/png;base64,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\" width=\"800\">"
      ],
      "text/plain": [
       "<IPython.core.display.HTML object>"
      ]
     },
     "metadata": {},
     "output_type": "display_data"
    },
    {
     "name": "stdout",
     "output_type": "stream",
     "text": [
      "max_depth = 2.00  accuracy = 0.95   AUC = 0.79\n",
      "max_depth = 4.00  accuracy = 0.98   AUC = 0.89\n",
      "max_depth = 6.00  accuracy = 0.97   AUC = 0.91\n",
      "max_depth = 8.00  accuracy = 0.97   AUC = 0.89\n",
      "max_depth = 10.00  accuracy = 0.96   AUC = 0.89\n",
      "max_depth = 12.00  accuracy = 0.97   AUC = 0.89\n",
      "max_depth = 14.00  accuracy = 0.97   AUC = 0.90\n"
     ]
    }
   ],
   "source": [
    "from matplotlib import cm\n",
    "\n",
    "\n",
    "plt.figure()\n",
    "plt.xlim([-0.01, 1.00])\n",
    "plt.ylim([-0.01, 1.01])\n",
    "for depth in [2, 4, 6, 8,10,12,14]:\n",
    "    dt = DecisionTreeClassifier(max_depth=depth).fit(X_train, y_train)\n",
    "    y_score_dt = dt.predict(X_test)\n",
    "    fpr_dt, tpr_dt, _ = roc_curve(y_test, y_score_dt)\n",
    "    roc_auc_dt = auc(fpr_dt, tpr_dt)\n",
    "    accuracy_dt = dt.score(X_test, y_test)\n",
    "    print(\"max_depth = {:.2f}  accuracy = {:.2f}   AUC = {:.2f}\".format(depth, accuracy_dt, \n",
    "                                                                    roc_auc_dt))\n",
    "    plt.plot(fpr_dt, tpr_dt, lw=3, alpha=0.7, \n",
    "             label='Decision Tree (depth = {:0.2f}, area = {:0.2f})'.format(depth, roc_auc_dt))\n",
    "\n",
    "plt.xlabel('False Positive Rate', fontsize=16)\n",
    "plt.ylabel('True Positive Rate (Recall)', fontsize=16)\n",
    "plt.plot([0, 1], [0, 1], color='k', lw=0.5, linestyle='--') # plot the line corresponding to AUC=0.5\n",
    "plt.legend(loc=\"lower right\", fontsize=11)\n",
    "plt.title('ROC curve: (1-of-10 digits classifier)', fontsize=16)\n",
    "plt.axes().set_aspect('equal')\n",
    "\n",
    "plt.show()"
   ]
  },
  {
   "cell_type": "markdown",
   "metadata": {},
   "source": [
    "Comments :\n",
    "    - As the max_depth increases, we got overfitting\n",
    "    - The best max_depth values is: 8"
   ]
  },
  {
   "cell_type": "markdown",
   "metadata": {},
   "source": [
    "### Random Forests :"
   ]
  },
  {
   "cell_type": "markdown",
   "metadata": {},
   "source": [
    "##### Notes about Random Forests :"
   ]
  },
  {
   "cell_type": "markdown",
   "metadata": {
    "collapsed": true
   },
   "source": [
    "    - Random Forests( RF) is widely used in this field of machine learning and provides good results in many problems.\n",
    "    - RF is composed of many trees ( like decision tree but we have many trees)\n",
    "    - RF can be used either for classification or regression.\n",
    "    - The fact of having many trees helps us avoid overfitting, because we got a good generaliztion for the dataset."
   ]
  },
  {
   "cell_type": "markdown",
   "metadata": {},
   "source": [
    "##### Random Forest process :"
   ]
  },
  {
   "cell_type": "markdown",
   "metadata": {},
   "source": [
    "The figure below illustrates very well the process of RF :\n",
    "    - So it is clear that after splitting the datasets into multiple subsets ( len(subset) <= len(original dataset) ), each tree will be learned using a subset.\n",
    "    - How the subsets are  generated: Given an original dataset D of size n ( number of instances), m ( number of trees) subsets are genereated, each of size n' ( n'<=n), by sampling from D uniformly with/without replacement. When we sample by replacement, some instances my be occured several times within the same subset. This method is called: Bagging.\n",
    "    - Then m models are fitted usin the m subsets generated before."
   ]
  },
  {
   "cell_type": "markdown",
   "metadata": {},
   "source": [
    "![](RF2.JPG)"
   ]
  },
  {
   "cell_type": "markdown",
   "metadata": {},
   "source": [
    "##### Random Forest max_features Parameter :"
   ]
  },
  {
   "cell_type": "markdown",
   "metadata": {},
   "source": [
    "- learning is quit sensitive to max_feature paramater ( for more info about this parameter look at the documentation in sklearn)\n",
    "- if you set max_features=1 ==> you will get complex trees\n",
    "- if your set max_features= or close to the number of features ==> you will get similar trees"
   ]
  },
  {
   "cell_type": "markdown",
   "metadata": {},
   "source": [
    "##### Prediction using Random Forests:\n",
    "    Suppose having you have already fitted your model and want to predict for an unseen instance :\n",
    "        - Use every tree to predict the label for your new instance\n",
    "        - Combine all your results, by :\n",
    "            - Taking the mean if your model is about regression\n",
    "            - Taking the most appeared label ( majority vote) if your model is about classification  "
   ]
  },
  {
   "cell_type": "markdown",
   "metadata": {},
   "source": [
    "##### Adv & Des : "
   ]
  },
  {
   "cell_type": "markdown",
   "metadata": {},
   "source": [
    "<b>Adv :</b>\n",
    "    - Very good result in many problems\n",
    "    - Does nor require a lot of preprocessing and preparation\n",
    "    - Can handle like decision tree a mixture of attribute types\n",
    "    - Can be parallelized across multiple CPUs\n",
    "<b>Des :</b>\n",
    "    - Extreme values often poorly estimated in case of regression\n",
    "    - Learning can take time if you do not have enough cores."
   ]
  },
  {
   "cell_type": "code",
   "execution_count": 38,
   "metadata": {
    "collapsed": false,
    "scrolled": true
   },
   "outputs": [
    {
     "name": "stdout",
     "output_type": "stream",
     "text": [
      "Accuracy of RF classifier on training set: 1.00\n",
      "Accuracy of RF classifier on test set: 0.98\n"
     ]
    }
   ],
   "source": [
    "from sklearn.ensemble import RandomForestClassifier\n",
    "\n",
    "RF = RandomForestClassifier(max_features = 8, random_state = 0) \n",
    "RF.fit(X_train, y_train)\n",
    "\n",
    "print('Accuracy of RF classifier on training set: {:.2f}'\n",
    "     .format(RF.score(X_train, y_train)))\n",
    "print('Accuracy of RF classifier on test set: {:.2f}'\n",
    "     .format(RF.score(X_test, y_test)))"
   ]
  },
  {
   "cell_type": "markdown",
   "metadata": {},
   "source": [
    "#### Confusion matrix :"
   ]
  },
  {
   "cell_type": "code",
   "execution_count": 39,
   "metadata": {
    "collapsed": false
   },
   "outputs": [
    {
     "name": "stdout",
     "output_type": "stream",
     "text": [
      "[[407   0]\n",
      " [  7  36]]\n",
      "             precision    recall  f1-score   support\n",
      "\n",
      "          0       0.98      1.00      0.99       407\n",
      "          1       1.00      0.84      0.91        43\n",
      "\n",
      "avg / total       0.98      0.98      0.98       450\n",
      "\n"
     ]
    }
   ],
   "source": [
    "y_RF=RF.predict(X_test)\n",
    "confusion_RF=confusion_matrix(y_test,y_RF)\n",
    "print(confusion_RF)\n",
    "print( classification_report(y_test,y_RF))"
   ]
  },
  {
   "cell_type": "markdown",
   "metadata": {},
   "source": [
    "<mark>RF provides a Precision of 1 for the minority class</mark>"
   ]
  },
  {
   "cell_type": "markdown",
   "metadata": {},
   "source": [
    "### Gradient-boosted decision trees"
   ]
  },
  {
   "cell_type": "markdown",
   "metadata": {},
   "source": [
    "##### Notes about Gradient-boosted decision trees:"
   ]
  },
  {
   "cell_type": "markdown",
   "metadata": {
    "collapsed": true
   },
   "source": [
    "- During training a series of small decision trees are built\n",
    "- Each new model is influenced by the performance of those built previously.\n",
    "- Encourages new models to become experts for instances handled incorrectly by earlier ones by assigning greater weight to those instances.\n",
    "- Learning  rate : is about how hard the new tree will attempt to correct remaining errors from the previous trees.\n",
    "- Learning rate parameter : should be tunned very well as a high values can lead to more complex trees and small values lead to simpler trees."
   ]
  },
  {
   "cell_type": "markdown",
   "metadata": {},
   "source": [
    "#### Adv & Des :\n",
    "    "
   ]
  },
  {
   "cell_type": "markdown",
   "metadata": {},
   "source": [
    "<b>Adv :</b>\n",
    "    - Often best accuracy on many problems\n",
    "    - Does not require normalization to perform well\n",
    "    - Handles mixture of feature types\n",
    "<b> Des :</b>\n",
    "    - Models built are often hard to  human to interpret \n",
    "    - Not recommended for text classification and problems with high dimensional sparse features(ie features with a lot of zeros)"
   ]
  },
  {
   "cell_type": "code",
   "execution_count": 40,
   "metadata": {
    "collapsed": false
   },
   "outputs": [
    {
     "name": "stdout",
     "output_type": "stream",
     "text": [
      "Digits  dataset (learning_rate=0.1, max_depth=3)\n",
      "Accuracy of GBDT classifier on training set: 1.00\n",
      "Accuracy of GBDT classifier on test set: 0.99\n",
      "\n",
      "Digits  dataset (learning_rate=0.01, max_depth=2)\n",
      "Accuracy of GBDT classifier on training set: 0.93\n",
      "Accuracy of GBDT classifier on test set: 0.93\n"
     ]
    }
   ],
   "source": [
    "from sklearn.ensemble import GradientBoostingClassifier\n",
    "\n",
    "\n",
    "GBC = GradientBoostingClassifier(random_state = 0)\n",
    "GBC.fit(X_train, y_train)\n",
    "\n",
    "print('Digits  dataset (learning_rate=0.1, max_depth=3)')\n",
    "print('Accuracy of GBDT classifier on training set: {:.2f}'\n",
    "     .format(GBC.score(X_train, y_train)))\n",
    "print('Accuracy of GBDT classifier on test set: {:.2f}\\n'\n",
    "     .format(GBC.score(X_test, y_test)))\n",
    "\n",
    "GBC = GradientBoostingClassifier(learning_rate = 0.01, max_depth = 2, random_state = 0)\n",
    "GBC.fit(X_train, y_train)\n",
    "\n",
    "print('Digits  dataset (learning_rate=0.01, max_depth=2)')\n",
    "print('Accuracy of GBDT classifier on training set: {:.2f}'\n",
    "     .format(GBC.score(X_train, y_train)))\n",
    "print('Accuracy of GBDT classifier on test set: {:.2f}'\n",
    "     .format(GBC.score(X_test, y_test)))"
   ]
  },
  {
   "cell_type": "markdown",
   "metadata": {},
   "source": [
    "#### Confusion matrix"
   ]
  },
  {
   "cell_type": "code",
   "execution_count": 41,
   "metadata": {
    "collapsed": false
   },
   "outputs": [
    {
     "name": "stdout",
     "output_type": "stream",
     "text": [
      "[[406   1]\n",
      " [ 30  13]]\n",
      "             precision    recall  f1-score   support\n",
      "\n",
      "          0       0.93      1.00      0.96       407\n",
      "          1       0.93      0.30      0.46        43\n",
      "\n",
      "avg / total       0.93      0.93      0.91       450\n",
      "\n"
     ]
    }
   ],
   "source": [
    "y_GBC=GBC.predict(X_test)\n",
    "confusion_GBC=confusion_matrix(y_test,y_GBC)\n",
    "print(confusion_GBC)\n",
    "print(classification_report(y_test,y_GBC))"
   ]
  },
  {
   "cell_type": "markdown",
   "metadata": {},
   "source": [
    "<mark>Gradiet Boosting provides a small value for the recall of the postive class</mark>"
   ]
  },
  {
   "cell_type": "markdown",
   "metadata": {},
   "source": [
    "### Neural networks :"
   ]
  },
  {
   "cell_type": "markdown",
   "metadata": {},
   "source": [
    "##### Notes about Neural networks:"
   ]
  },
  {
   "cell_type": "markdown",
   "metadata": {},
   "source": [
    "Example : The example below contains two hiden layers , each of 4 units."
   ]
  },
  {
   "cell_type": "markdown",
   "metadata": {
    "collapsed": true
   },
   "source": [
    "![](NN.jpeg)"
   ]
  },
  {
   "cell_type": "markdown",
   "metadata": {},
   "source": [
    "#### Activation functions"
   ]
  },
  {
   "cell_type": "markdown",
   "metadata": {},
   "source": [
    "Below we have some activation functions which are used for computing coefficient in each unit."
   ]
  },
  {
   "cell_type": "code",
   "execution_count": 42,
   "metadata": {
    "collapsed": false
   },
   "outputs": [
    {
     "data": {
      "application/javascript": [
       "/* Put everything inside the global mpl namespace */\n",
       "window.mpl = {};\n",
       "\n",
       "\n",
       "mpl.get_websocket_type = function() {\n",
       "    if (typeof(WebSocket) !== 'undefined') {\n",
       "        return WebSocket;\n",
       "    } else if (typeof(MozWebSocket) !== 'undefined') {\n",
       "        return MozWebSocket;\n",
       "    } else {\n",
       "        alert('Your browser does not have WebSocket support.' +\n",
       "              'Please try Chrome, Safari or Firefox ≥ 6. ' +\n",
       "              'Firefox 4 and 5 are also supported but you ' +\n",
       "              'have to enable WebSockets in about:config.');\n",
       "    };\n",
       "}\n",
       "\n",
       "mpl.figure = function(figure_id, websocket, ondownload, parent_element) {\n",
       "    this.id = figure_id;\n",
       "\n",
       "    this.ws = websocket;\n",
       "\n",
       "    this.supports_binary = (this.ws.binaryType != undefined);\n",
       "\n",
       "    if (!this.supports_binary) {\n",
       "        var warnings = document.getElementById(\"mpl-warnings\");\n",
       "        if (warnings) {\n",
       "            warnings.style.display = 'block';\n",
       "            warnings.textContent = (\n",
       "                \"This browser does not support binary websocket messages. \" +\n",
       "                    \"Performance may be slow.\");\n",
       "        }\n",
       "    }\n",
       "\n",
       "    this.imageObj = new Image();\n",
       "\n",
       "    this.context = undefined;\n",
       "    this.message = undefined;\n",
       "    this.canvas = undefined;\n",
       "    this.rubberband_canvas = undefined;\n",
       "    this.rubberband_context = undefined;\n",
       "    this.format_dropdown = undefined;\n",
       "\n",
       "    this.image_mode = 'full';\n",
       "\n",
       "    this.root = $('<div/>');\n",
       "    this._root_extra_style(this.root)\n",
       "    this.root.attr('style', 'display: inline-block');\n",
       "\n",
       "    $(parent_element).append(this.root);\n",
       "\n",
       "    this._init_header(this);\n",
       "    this._init_canvas(this);\n",
       "    this._init_toolbar(this);\n",
       "\n",
       "    var fig = this;\n",
       "\n",
       "    this.waiting = false;\n",
       "\n",
       "    this.ws.onopen =  function () {\n",
       "            fig.send_message(\"supports_binary\", {value: fig.supports_binary});\n",
       "            fig.send_message(\"send_image_mode\", {});\n",
       "            if (mpl.ratio != 1) {\n",
       "                fig.send_message(\"set_dpi_ratio\", {'dpi_ratio': mpl.ratio});\n",
       "            }\n",
       "            fig.send_message(\"refresh\", {});\n",
       "        }\n",
       "\n",
       "    this.imageObj.onload = function() {\n",
       "            if (fig.image_mode == 'full') {\n",
       "                // Full images could contain transparency (where diff images\n",
       "                // almost always do), so we need to clear the canvas so that\n",
       "                // there is no ghosting.\n",
       "                fig.context.clearRect(0, 0, fig.canvas.width, fig.canvas.height);\n",
       "            }\n",
       "            fig.context.drawImage(fig.imageObj, 0, 0);\n",
       "        };\n",
       "\n",
       "    this.imageObj.onunload = function() {\n",
       "        this.ws.close();\n",
       "    }\n",
       "\n",
       "    this.ws.onmessage = this._make_on_message_function(this);\n",
       "\n",
       "    this.ondownload = ondownload;\n",
       "}\n",
       "\n",
       "mpl.figure.prototype._init_header = function() {\n",
       "    var titlebar = $(\n",
       "        '<div class=\"ui-dialog-titlebar ui-widget-header ui-corner-all ' +\n",
       "        'ui-helper-clearfix\"/>');\n",
       "    var titletext = $(\n",
       "        '<div class=\"ui-dialog-title\" style=\"width: 100%; ' +\n",
       "        'text-align: center; padding: 3px;\"/>');\n",
       "    titlebar.append(titletext)\n",
       "    this.root.append(titlebar);\n",
       "    this.header = titletext[0];\n",
       "}\n",
       "\n",
       "\n",
       "\n",
       "mpl.figure.prototype._canvas_extra_style = function(canvas_div) {\n",
       "\n",
       "}\n",
       "\n",
       "\n",
       "mpl.figure.prototype._root_extra_style = function(canvas_div) {\n",
       "\n",
       "}\n",
       "\n",
       "mpl.figure.prototype._init_canvas = function() {\n",
       "    var fig = this;\n",
       "\n",
       "    var canvas_div = $('<div/>');\n",
       "\n",
       "    canvas_div.attr('style', 'position: relative; clear: both; outline: 0');\n",
       "\n",
       "    function canvas_keyboard_event(event) {\n",
       "        return fig.key_event(event, event['data']);\n",
       "    }\n",
       "\n",
       "    canvas_div.keydown('key_press', canvas_keyboard_event);\n",
       "    canvas_div.keyup('key_release', canvas_keyboard_event);\n",
       "    this.canvas_div = canvas_div\n",
       "    this._canvas_extra_style(canvas_div)\n",
       "    this.root.append(canvas_div);\n",
       "\n",
       "    var canvas = $('<canvas/>');\n",
       "    canvas.addClass('mpl-canvas');\n",
       "    canvas.attr('style', \"left: 0; top: 0; z-index: 0; outline: 0\")\n",
       "\n",
       "    this.canvas = canvas[0];\n",
       "    this.context = canvas[0].getContext(\"2d\");\n",
       "\n",
       "    var backingStore = this.context.backingStorePixelRatio ||\n",
       "\tthis.context.webkitBackingStorePixelRatio ||\n",
       "\tthis.context.mozBackingStorePixelRatio ||\n",
       "\tthis.context.msBackingStorePixelRatio ||\n",
       "\tthis.context.oBackingStorePixelRatio ||\n",
       "\tthis.context.backingStorePixelRatio || 1;\n",
       "\n",
       "    mpl.ratio = (window.devicePixelRatio || 1) / backingStore;\n",
       "\n",
       "    var rubberband = $('<canvas/>');\n",
       "    rubberband.attr('style', \"position: absolute; left: 0; top: 0; z-index: 1;\")\n",
       "\n",
       "    var pass_mouse_events = true;\n",
       "\n",
       "    canvas_div.resizable({\n",
       "        start: function(event, ui) {\n",
       "            pass_mouse_events = false;\n",
       "        },\n",
       "        resize: function(event, ui) {\n",
       "            fig.request_resize(ui.size.width, ui.size.height);\n",
       "        },\n",
       "        stop: function(event, ui) {\n",
       "            pass_mouse_events = true;\n",
       "            fig.request_resize(ui.size.width, ui.size.height);\n",
       "        },\n",
       "    });\n",
       "\n",
       "    function mouse_event_fn(event) {\n",
       "        if (pass_mouse_events)\n",
       "            return fig.mouse_event(event, event['data']);\n",
       "    }\n",
       "\n",
       "    rubberband.mousedown('button_press', mouse_event_fn);\n",
       "    rubberband.mouseup('button_release', mouse_event_fn);\n",
       "    // Throttle sequential mouse events to 1 every 20ms.\n",
       "    rubberband.mousemove('motion_notify', mouse_event_fn);\n",
       "\n",
       "    rubberband.mouseenter('figure_enter', mouse_event_fn);\n",
       "    rubberband.mouseleave('figure_leave', mouse_event_fn);\n",
       "\n",
       "    canvas_div.on(\"wheel\", function (event) {\n",
       "        event = event.originalEvent;\n",
       "        event['data'] = 'scroll'\n",
       "        if (event.deltaY < 0) {\n",
       "            event.step = 1;\n",
       "        } else {\n",
       "            event.step = -1;\n",
       "        }\n",
       "        mouse_event_fn(event);\n",
       "    });\n",
       "\n",
       "    canvas_div.append(canvas);\n",
       "    canvas_div.append(rubberband);\n",
       "\n",
       "    this.rubberband = rubberband;\n",
       "    this.rubberband_canvas = rubberband[0];\n",
       "    this.rubberband_context = rubberband[0].getContext(\"2d\");\n",
       "    this.rubberband_context.strokeStyle = \"#000000\";\n",
       "\n",
       "    this._resize_canvas = function(width, height) {\n",
       "        // Keep the size of the canvas, canvas container, and rubber band\n",
       "        // canvas in synch.\n",
       "        canvas_div.css('width', width)\n",
       "        canvas_div.css('height', height)\n",
       "\n",
       "        canvas.attr('width', width * mpl.ratio);\n",
       "        canvas.attr('height', height * mpl.ratio);\n",
       "        canvas.attr('style', 'width: ' + width + 'px; height: ' + height + 'px;');\n",
       "\n",
       "        rubberband.attr('width', width);\n",
       "        rubberband.attr('height', height);\n",
       "    }\n",
       "\n",
       "    // Set the figure to an initial 600x600px, this will subsequently be updated\n",
       "    // upon first draw.\n",
       "    this._resize_canvas(600, 600);\n",
       "\n",
       "    // Disable right mouse context menu.\n",
       "    $(this.rubberband_canvas).bind(\"contextmenu\",function(e){\n",
       "        return false;\n",
       "    });\n",
       "\n",
       "    function set_focus () {\n",
       "        canvas.focus();\n",
       "        canvas_div.focus();\n",
       "    }\n",
       "\n",
       "    window.setTimeout(set_focus, 100);\n",
       "}\n",
       "\n",
       "mpl.figure.prototype._init_toolbar = function() {\n",
       "    var fig = this;\n",
       "\n",
       "    var nav_element = $('<div/>')\n",
       "    nav_element.attr('style', 'width: 100%');\n",
       "    this.root.append(nav_element);\n",
       "\n",
       "    // Define a callback function for later on.\n",
       "    function toolbar_event(event) {\n",
       "        return fig.toolbar_button_onclick(event['data']);\n",
       "    }\n",
       "    function toolbar_mouse_event(event) {\n",
       "        return fig.toolbar_button_onmouseover(event['data']);\n",
       "    }\n",
       "\n",
       "    for(var toolbar_ind in mpl.toolbar_items) {\n",
       "        var name = mpl.toolbar_items[toolbar_ind][0];\n",
       "        var tooltip = mpl.toolbar_items[toolbar_ind][1];\n",
       "        var image = mpl.toolbar_items[toolbar_ind][2];\n",
       "        var method_name = mpl.toolbar_items[toolbar_ind][3];\n",
       "\n",
       "        if (!name) {\n",
       "            // put a spacer in here.\n",
       "            continue;\n",
       "        }\n",
       "        var button = $('<button/>');\n",
       "        button.addClass('ui-button ui-widget ui-state-default ui-corner-all ' +\n",
       "                        'ui-button-icon-only');\n",
       "        button.attr('role', 'button');\n",
       "        button.attr('aria-disabled', 'false');\n",
       "        button.click(method_name, toolbar_event);\n",
       "        button.mouseover(tooltip, toolbar_mouse_event);\n",
       "\n",
       "        var icon_img = $('<span/>');\n",
       "        icon_img.addClass('ui-button-icon-primary ui-icon');\n",
       "        icon_img.addClass(image);\n",
       "        icon_img.addClass('ui-corner-all');\n",
       "\n",
       "        var tooltip_span = $('<span/>');\n",
       "        tooltip_span.addClass('ui-button-text');\n",
       "        tooltip_span.html(tooltip);\n",
       "\n",
       "        button.append(icon_img);\n",
       "        button.append(tooltip_span);\n",
       "\n",
       "        nav_element.append(button);\n",
       "    }\n",
       "\n",
       "    var fmt_picker_span = $('<span/>');\n",
       "\n",
       "    var fmt_picker = $('<select/>');\n",
       "    fmt_picker.addClass('mpl-toolbar-option ui-widget ui-widget-content');\n",
       "    fmt_picker_span.append(fmt_picker);\n",
       "    nav_element.append(fmt_picker_span);\n",
       "    this.format_dropdown = fmt_picker[0];\n",
       "\n",
       "    for (var ind in mpl.extensions) {\n",
       "        var fmt = mpl.extensions[ind];\n",
       "        var option = $(\n",
       "            '<option/>', {selected: fmt === mpl.default_extension}).html(fmt);\n",
       "        fmt_picker.append(option)\n",
       "    }\n",
       "\n",
       "    // Add hover states to the ui-buttons\n",
       "    $( \".ui-button\" ).hover(\n",
       "        function() { $(this).addClass(\"ui-state-hover\");},\n",
       "        function() { $(this).removeClass(\"ui-state-hover\");}\n",
       "    );\n",
       "\n",
       "    var status_bar = $('<span class=\"mpl-message\"/>');\n",
       "    nav_element.append(status_bar);\n",
       "    this.message = status_bar[0];\n",
       "}\n",
       "\n",
       "mpl.figure.prototype.request_resize = function(x_pixels, y_pixels) {\n",
       "    // Request matplotlib to resize the figure. Matplotlib will then trigger a resize in the client,\n",
       "    // which will in turn request a refresh of the image.\n",
       "    this.send_message('resize', {'width': x_pixels, 'height': y_pixels});\n",
       "}\n",
       "\n",
       "mpl.figure.prototype.send_message = function(type, properties) {\n",
       "    properties['type'] = type;\n",
       "    properties['figure_id'] = this.id;\n",
       "    this.ws.send(JSON.stringify(properties));\n",
       "}\n",
       "\n",
       "mpl.figure.prototype.send_draw_message = function() {\n",
       "    if (!this.waiting) {\n",
       "        this.waiting = true;\n",
       "        this.ws.send(JSON.stringify({type: \"draw\", figure_id: this.id}));\n",
       "    }\n",
       "}\n",
       "\n",
       "\n",
       "mpl.figure.prototype.handle_save = function(fig, msg) {\n",
       "    var format_dropdown = fig.format_dropdown;\n",
       "    var format = format_dropdown.options[format_dropdown.selectedIndex].value;\n",
       "    fig.ondownload(fig, format);\n",
       "}\n",
       "\n",
       "\n",
       "mpl.figure.prototype.handle_resize = function(fig, msg) {\n",
       "    var size = msg['size'];\n",
       "    if (size[0] != fig.canvas.width || size[1] != fig.canvas.height) {\n",
       "        fig._resize_canvas(size[0], size[1]);\n",
       "        fig.send_message(\"refresh\", {});\n",
       "    };\n",
       "}\n",
       "\n",
       "mpl.figure.prototype.handle_rubberband = function(fig, msg) {\n",
       "    var x0 = msg['x0'] / mpl.ratio;\n",
       "    var y0 = (fig.canvas.height - msg['y0']) / mpl.ratio;\n",
       "    var x1 = msg['x1'] / mpl.ratio;\n",
       "    var y1 = (fig.canvas.height - msg['y1']) / mpl.ratio;\n",
       "    x0 = Math.floor(x0) + 0.5;\n",
       "    y0 = Math.floor(y0) + 0.5;\n",
       "    x1 = Math.floor(x1) + 0.5;\n",
       "    y1 = Math.floor(y1) + 0.5;\n",
       "    var min_x = Math.min(x0, x1);\n",
       "    var min_y = Math.min(y0, y1);\n",
       "    var width = Math.abs(x1 - x0);\n",
       "    var height = Math.abs(y1 - y0);\n",
       "\n",
       "    fig.rubberband_context.clearRect(\n",
       "        0, 0, fig.canvas.width, fig.canvas.height);\n",
       "\n",
       "    fig.rubberband_context.strokeRect(min_x, min_y, width, height);\n",
       "}\n",
       "\n",
       "mpl.figure.prototype.handle_figure_label = function(fig, msg) {\n",
       "    // Updates the figure title.\n",
       "    fig.header.textContent = msg['label'];\n",
       "}\n",
       "\n",
       "mpl.figure.prototype.handle_cursor = function(fig, msg) {\n",
       "    var cursor = msg['cursor'];\n",
       "    switch(cursor)\n",
       "    {\n",
       "    case 0:\n",
       "        cursor = 'pointer';\n",
       "        break;\n",
       "    case 1:\n",
       "        cursor = 'default';\n",
       "        break;\n",
       "    case 2:\n",
       "        cursor = 'crosshair';\n",
       "        break;\n",
       "    case 3:\n",
       "        cursor = 'move';\n",
       "        break;\n",
       "    }\n",
       "    fig.rubberband_canvas.style.cursor = cursor;\n",
       "}\n",
       "\n",
       "mpl.figure.prototype.handle_message = function(fig, msg) {\n",
       "    fig.message.textContent = msg['message'];\n",
       "}\n",
       "\n",
       "mpl.figure.prototype.handle_draw = function(fig, msg) {\n",
       "    // Request the server to send over a new figure.\n",
       "    fig.send_draw_message();\n",
       "}\n",
       "\n",
       "mpl.figure.prototype.handle_image_mode = function(fig, msg) {\n",
       "    fig.image_mode = msg['mode'];\n",
       "}\n",
       "\n",
       "mpl.figure.prototype.updated_canvas_event = function() {\n",
       "    // Called whenever the canvas gets updated.\n",
       "    this.send_message(\"ack\", {});\n",
       "}\n",
       "\n",
       "// A function to construct a web socket function for onmessage handling.\n",
       "// Called in the figure constructor.\n",
       "mpl.figure.prototype._make_on_message_function = function(fig) {\n",
       "    return function socket_on_message(evt) {\n",
       "        if (evt.data instanceof Blob) {\n",
       "            /* FIXME: We get \"Resource interpreted as Image but\n",
       "             * transferred with MIME type text/plain:\" errors on\n",
       "             * Chrome.  But how to set the MIME type?  It doesn't seem\n",
       "             * to be part of the websocket stream */\n",
       "            evt.data.type = \"image/png\";\n",
       "\n",
       "            /* Free the memory for the previous frames */\n",
       "            if (fig.imageObj.src) {\n",
       "                (window.URL || window.webkitURL).revokeObjectURL(\n",
       "                    fig.imageObj.src);\n",
       "            }\n",
       "\n",
       "            fig.imageObj.src = (window.URL || window.webkitURL).createObjectURL(\n",
       "                evt.data);\n",
       "            fig.updated_canvas_event();\n",
       "            fig.waiting = false;\n",
       "            return;\n",
       "        }\n",
       "        else if (typeof evt.data === 'string' && evt.data.slice(0, 21) == \"data:image/png;base64\") {\n",
       "            fig.imageObj.src = evt.data;\n",
       "            fig.updated_canvas_event();\n",
       "            fig.waiting = false;\n",
       "            return;\n",
       "        }\n",
       "\n",
       "        var msg = JSON.parse(evt.data);\n",
       "        var msg_type = msg['type'];\n",
       "\n",
       "        // Call the  \"handle_{type}\" callback, which takes\n",
       "        // the figure and JSON message as its only arguments.\n",
       "        try {\n",
       "            var callback = fig[\"handle_\" + msg_type];\n",
       "        } catch (e) {\n",
       "            console.log(\"No handler for the '\" + msg_type + \"' message type: \", msg);\n",
       "            return;\n",
       "        }\n",
       "\n",
       "        if (callback) {\n",
       "            try {\n",
       "                // console.log(\"Handling '\" + msg_type + \"' message: \", msg);\n",
       "                callback(fig, msg);\n",
       "            } catch (e) {\n",
       "                console.log(\"Exception inside the 'handler_\" + msg_type + \"' callback:\", e, e.stack, msg);\n",
       "            }\n",
       "        }\n",
       "    };\n",
       "}\n",
       "\n",
       "// from http://stackoverflow.com/questions/1114465/getting-mouse-location-in-canvas\n",
       "mpl.findpos = function(e) {\n",
       "    //this section is from http://www.quirksmode.org/js/events_properties.html\n",
       "    var targ;\n",
       "    if (!e)\n",
       "        e = window.event;\n",
       "    if (e.target)\n",
       "        targ = e.target;\n",
       "    else if (e.srcElement)\n",
       "        targ = e.srcElement;\n",
       "    if (targ.nodeType == 3) // defeat Safari bug\n",
       "        targ = targ.parentNode;\n",
       "\n",
       "    // jQuery normalizes the pageX and pageY\n",
       "    // pageX,Y are the mouse positions relative to the document\n",
       "    // offset() returns the position of the element relative to the document\n",
       "    var x = e.pageX - $(targ).offset().left;\n",
       "    var y = e.pageY - $(targ).offset().top;\n",
       "\n",
       "    return {\"x\": x, \"y\": y};\n",
       "};\n",
       "\n",
       "/*\n",
       " * return a copy of an object with only non-object keys\n",
       " * we need this to avoid circular references\n",
       " * http://stackoverflow.com/a/24161582/3208463\n",
       " */\n",
       "function simpleKeys (original) {\n",
       "  return Object.keys(original).reduce(function (obj, key) {\n",
       "    if (typeof original[key] !== 'object')\n",
       "        obj[key] = original[key]\n",
       "    return obj;\n",
       "  }, {});\n",
       "}\n",
       "\n",
       "mpl.figure.prototype.mouse_event = function(event, name) {\n",
       "    var canvas_pos = mpl.findpos(event)\n",
       "\n",
       "    if (name === 'button_press')\n",
       "    {\n",
       "        this.canvas.focus();\n",
       "        this.canvas_div.focus();\n",
       "    }\n",
       "\n",
       "    var x = canvas_pos.x * mpl.ratio;\n",
       "    var y = canvas_pos.y * mpl.ratio;\n",
       "\n",
       "    this.send_message(name, {x: x, y: y, button: event.button,\n",
       "                             step: event.step,\n",
       "                             guiEvent: simpleKeys(event)});\n",
       "\n",
       "    /* This prevents the web browser from automatically changing to\n",
       "     * the text insertion cursor when the button is pressed.  We want\n",
       "     * to control all of the cursor setting manually through the\n",
       "     * 'cursor' event from matplotlib */\n",
       "    event.preventDefault();\n",
       "    return false;\n",
       "}\n",
       "\n",
       "mpl.figure.prototype._key_event_extra = function(event, name) {\n",
       "    // Handle any extra behaviour associated with a key event\n",
       "}\n",
       "\n",
       "mpl.figure.prototype.key_event = function(event, name) {\n",
       "\n",
       "    // Prevent repeat events\n",
       "    if (name == 'key_press')\n",
       "    {\n",
       "        if (event.which === this._key)\n",
       "            return;\n",
       "        else\n",
       "            this._key = event.which;\n",
       "    }\n",
       "    if (name == 'key_release')\n",
       "        this._key = null;\n",
       "\n",
       "    var value = '';\n",
       "    if (event.ctrlKey && event.which != 17)\n",
       "        value += \"ctrl+\";\n",
       "    if (event.altKey && event.which != 18)\n",
       "        value += \"alt+\";\n",
       "    if (event.shiftKey && event.which != 16)\n",
       "        value += \"shift+\";\n",
       "\n",
       "    value += 'k';\n",
       "    value += event.which.toString();\n",
       "\n",
       "    this._key_event_extra(event, name);\n",
       "\n",
       "    this.send_message(name, {key: value,\n",
       "                             guiEvent: simpleKeys(event)});\n",
       "    return false;\n",
       "}\n",
       "\n",
       "mpl.figure.prototype.toolbar_button_onclick = function(name) {\n",
       "    if (name == 'download') {\n",
       "        this.handle_save(this, null);\n",
       "    } else {\n",
       "        this.send_message(\"toolbar_button\", {name: name});\n",
       "    }\n",
       "};\n",
       "\n",
       "mpl.figure.prototype.toolbar_button_onmouseover = function(tooltip) {\n",
       "    this.message.textContent = tooltip;\n",
       "};\n",
       "mpl.toolbar_items = [[\"Home\", \"Reset original view\", \"fa fa-home icon-home\", \"home\"], [\"Back\", \"Back to  previous view\", \"fa fa-arrow-left icon-arrow-left\", \"back\"], [\"Forward\", \"Forward to next view\", \"fa fa-arrow-right icon-arrow-right\", \"forward\"], [\"\", \"\", \"\", \"\"], [\"Pan\", \"Pan axes with left mouse, zoom with right\", \"fa fa-arrows icon-move\", \"pan\"], [\"Zoom\", \"Zoom to rectangle\", \"fa fa-square-o icon-check-empty\", \"zoom\"], [\"\", \"\", \"\", \"\"], [\"Download\", \"Download plot\", \"fa fa-floppy-o icon-save\", \"download\"]];\n",
       "\n",
       "mpl.extensions = [\"eps\", \"jpeg\", \"pdf\", \"png\", \"ps\", \"raw\", \"svg\", \"tif\"];\n",
       "\n",
       "mpl.default_extension = \"png\";var comm_websocket_adapter = function(comm) {\n",
       "    // Create a \"websocket\"-like object which calls the given IPython comm\n",
       "    // object with the appropriate methods. Currently this is a non binary\n",
       "    // socket, so there is still some room for performance tuning.\n",
       "    var ws = {};\n",
       "\n",
       "    ws.close = function() {\n",
       "        comm.close()\n",
       "    };\n",
       "    ws.send = function(m) {\n",
       "        //console.log('sending', m);\n",
       "        comm.send(m);\n",
       "    };\n",
       "    // Register the callback with on_msg.\n",
       "    comm.on_msg(function(msg) {\n",
       "        //console.log('receiving', msg['content']['data'], msg);\n",
       "        // Pass the mpl event to the overriden (by mpl) onmessage function.\n",
       "        ws.onmessage(msg['content']['data'])\n",
       "    });\n",
       "    return ws;\n",
       "}\n",
       "\n",
       "mpl.mpl_figure_comm = function(comm, msg) {\n",
       "    // This is the function which gets called when the mpl process\n",
       "    // starts-up an IPython Comm through the \"matplotlib\" channel.\n",
       "\n",
       "    var id = msg.content.data.id;\n",
       "    // Get hold of the div created by the display call when the Comm\n",
       "    // socket was opened in Python.\n",
       "    var element = $(\"#\" + id);\n",
       "    var ws_proxy = comm_websocket_adapter(comm)\n",
       "\n",
       "    function ondownload(figure, format) {\n",
       "        window.open(figure.imageObj.src);\n",
       "    }\n",
       "\n",
       "    var fig = new mpl.figure(id, ws_proxy,\n",
       "                           ondownload,\n",
       "                           element.get(0));\n",
       "\n",
       "    // Call onopen now - mpl needs it, as it is assuming we've passed it a real\n",
       "    // web socket which is closed, not our websocket->open comm proxy.\n",
       "    ws_proxy.onopen();\n",
       "\n",
       "    fig.parent_element = element.get(0);\n",
       "    fig.cell_info = mpl.find_output_cell(\"<div id='\" + id + \"'></div>\");\n",
       "    if (!fig.cell_info) {\n",
       "        console.error(\"Failed to find cell for figure\", id, fig);\n",
       "        return;\n",
       "    }\n",
       "\n",
       "    var output_index = fig.cell_info[2]\n",
       "    var cell = fig.cell_info[0];\n",
       "\n",
       "};\n",
       "\n",
       "mpl.figure.prototype.handle_close = function(fig, msg) {\n",
       "    var width = fig.canvas.width/mpl.ratio\n",
       "    fig.root.unbind('remove')\n",
       "\n",
       "    // Update the output cell to use the data from the current canvas.\n",
       "    fig.push_to_output();\n",
       "    var dataURL = fig.canvas.toDataURL();\n",
       "    // Re-enable the keyboard manager in IPython - without this line, in FF,\n",
       "    // the notebook keyboard shortcuts fail.\n",
       "    IPython.keyboard_manager.enable()\n",
       "    $(fig.parent_element).html('<img src=\"' + dataURL + '\" width=\"' + width + '\">');\n",
       "    fig.close_ws(fig, msg);\n",
       "}\n",
       "\n",
       "mpl.figure.prototype.close_ws = function(fig, msg){\n",
       "    fig.send_message('closing', msg);\n",
       "    // fig.ws.close()\n",
       "}\n",
       "\n",
       "mpl.figure.prototype.push_to_output = function(remove_interactive) {\n",
       "    // Turn the data on the canvas into data in the output cell.\n",
       "    var width = this.canvas.width/mpl.ratio\n",
       "    var dataURL = this.canvas.toDataURL();\n",
       "    this.cell_info[1]['text/html'] = '<img src=\"' + dataURL + '\" width=\"' + width + '\">';\n",
       "}\n",
       "\n",
       "mpl.figure.prototype.updated_canvas_event = function() {\n",
       "    // Tell IPython that the notebook contents must change.\n",
       "    IPython.notebook.set_dirty(true);\n",
       "    this.send_message(\"ack\", {});\n",
       "    var fig = this;\n",
       "    // Wait a second, then push the new image to the DOM so\n",
       "    // that it is saved nicely (might be nice to debounce this).\n",
       "    setTimeout(function () { fig.push_to_output() }, 1000);\n",
       "}\n",
       "\n",
       "mpl.figure.prototype._init_toolbar = function() {\n",
       "    var fig = this;\n",
       "\n",
       "    var nav_element = $('<div/>')\n",
       "    nav_element.attr('style', 'width: 100%');\n",
       "    this.root.append(nav_element);\n",
       "\n",
       "    // Define a callback function for later on.\n",
       "    function toolbar_event(event) {\n",
       "        return fig.toolbar_button_onclick(event['data']);\n",
       "    }\n",
       "    function toolbar_mouse_event(event) {\n",
       "        return fig.toolbar_button_onmouseover(event['data']);\n",
       "    }\n",
       "\n",
       "    for(var toolbar_ind in mpl.toolbar_items){\n",
       "        var name = mpl.toolbar_items[toolbar_ind][0];\n",
       "        var tooltip = mpl.toolbar_items[toolbar_ind][1];\n",
       "        var image = mpl.toolbar_items[toolbar_ind][2];\n",
       "        var method_name = mpl.toolbar_items[toolbar_ind][3];\n",
       "\n",
       "        if (!name) { continue; };\n",
       "\n",
       "        var button = $('<button class=\"btn btn-default\" href=\"#\" title=\"' + name + '\"><i class=\"fa ' + image + ' fa-lg\"></i></button>');\n",
       "        button.click(method_name, toolbar_event);\n",
       "        button.mouseover(tooltip, toolbar_mouse_event);\n",
       "        nav_element.append(button);\n",
       "    }\n",
       "\n",
       "    // Add the status bar.\n",
       "    var status_bar = $('<span class=\"mpl-message\" style=\"text-align:right; float: right;\"/>');\n",
       "    nav_element.append(status_bar);\n",
       "    this.message = status_bar[0];\n",
       "\n",
       "    // Add the close button to the window.\n",
       "    var buttongrp = $('<div class=\"btn-group inline pull-right\"></div>');\n",
       "    var button = $('<button class=\"btn btn-mini btn-primary\" href=\"#\" title=\"Stop Interaction\"><i class=\"fa fa-power-off icon-remove icon-large\"></i></button>');\n",
       "    button.click(function (evt) { fig.handle_close(fig, {}); } );\n",
       "    button.mouseover('Stop Interaction', toolbar_mouse_event);\n",
       "    buttongrp.append(button);\n",
       "    var titlebar = this.root.find($('.ui-dialog-titlebar'));\n",
       "    titlebar.prepend(buttongrp);\n",
       "}\n",
       "\n",
       "mpl.figure.prototype._root_extra_style = function(el){\n",
       "    var fig = this\n",
       "    el.on(\"remove\", function(){\n",
       "\tfig.close_ws(fig, {});\n",
       "    });\n",
       "}\n",
       "\n",
       "mpl.figure.prototype._canvas_extra_style = function(el){\n",
       "    // this is important to make the div 'focusable\n",
       "    el.attr('tabindex', 0)\n",
       "    // reach out to IPython and tell the keyboard manager to turn it's self\n",
       "    // off when our div gets focus\n",
       "\n",
       "    // location in version 3\n",
       "    if (IPython.notebook.keyboard_manager) {\n",
       "        IPython.notebook.keyboard_manager.register_events(el);\n",
       "    }\n",
       "    else {\n",
       "        // location in version 2\n",
       "        IPython.keyboard_manager.register_events(el);\n",
       "    }\n",
       "\n",
       "}\n",
       "\n",
       "mpl.figure.prototype._key_event_extra = function(event, name) {\n",
       "    var manager = IPython.notebook.keyboard_manager;\n",
       "    if (!manager)\n",
       "        manager = IPython.keyboard_manager;\n",
       "\n",
       "    // Check for shift+enter\n",
       "    if (event.shiftKey && event.which == 13) {\n",
       "        this.canvas_div.blur();\n",
       "        // select the cell after this one\n",
       "        var index = IPython.notebook.find_cell_index(this.cell_info[0]);\n",
       "        IPython.notebook.select(index + 1);\n",
       "    }\n",
       "}\n",
       "\n",
       "mpl.figure.prototype.handle_save = function(fig, msg) {\n",
       "    fig.ondownload(fig, null);\n",
       "}\n",
       "\n",
       "\n",
       "mpl.find_output_cell = function(html_output) {\n",
       "    // Return the cell and output element which can be found *uniquely* in the notebook.\n",
       "    // Note - this is a bit hacky, but it is done because the \"notebook_saving.Notebook\"\n",
       "    // IPython event is triggered only after the cells have been serialised, which for\n",
       "    // our purposes (turning an active figure into a static one), is too late.\n",
       "    var cells = IPython.notebook.get_cells();\n",
       "    var ncells = cells.length;\n",
       "    for (var i=0; i<ncells; i++) {\n",
       "        var cell = cells[i];\n",
       "        if (cell.cell_type === 'code'){\n",
       "            for (var j=0; j<cell.output_area.outputs.length; j++) {\n",
       "                var data = cell.output_area.outputs[j];\n",
       "                if (data.data) {\n",
       "                    // IPython >= 3 moved mimebundle to data attribute of output\n",
       "                    data = data.data;\n",
       "                }\n",
       "                if (data['text/html'] == html_output) {\n",
       "                    return [cell, data, j];\n",
       "                }\n",
       "            }\n",
       "        }\n",
       "    }\n",
       "}\n",
       "\n",
       "// Register the function which deals with the matplotlib target/channel.\n",
       "// The kernel may be null if the page has been refreshed.\n",
       "if (IPython.notebook.kernel != null) {\n",
       "    IPython.notebook.kernel.comm_manager.register_target('matplotlib', mpl.mpl_figure_comm);\n",
       "}\n"
      ],
      "text/plain": [
       "<IPython.core.display.Javascript object>"
      ]
     },
     "metadata": {},
     "output_type": "display_data"
    },
    {
     "data": {
      "text/html": [
       "<img src=\"data:image/png;base64,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\" width=\"700\">"
      ],
      "text/plain": [
       "<IPython.core.display.HTML object>"
      ]
     },
     "metadata": {},
     "output_type": "display_data"
    }
   ],
   "source": [
    "xrange = np.linspace(-2, 2, 200)\n",
    "\n",
    "plt.figure(figsize=(7,6))\n",
    "\n",
    "plt.plot(xrange, np.maximum(xrange, 0), label = 'relu')\n",
    "plt.plot(xrange, np.tanh(xrange), label = 'tanh')\n",
    "plt.plot(xrange, 1 / (1 + np.exp(-xrange)), label = 'logistic')\n",
    "plt.legend()\n",
    "plt.title('Neural network activation functions')\n",
    "plt.xlabel('Input value (x)')\n",
    "plt.ylabel('Activation function output')\n",
    "\n",
    "plt.show()"
   ]
  },
  {
   "cell_type": "code",
   "execution_count": 43,
   "metadata": {
    "collapsed": false
   },
   "outputs": [
    {
     "name": "stdout",
     "output_type": "stream",
     "text": [
      "Digits  dataset\n",
      "Accuracy of NN classifier on training set: 1.00\n",
      "Accuracy of NN classifier on test set: 0.99\n"
     ]
    }
   ],
   "source": [
    "from sklearn.neural_network import MLPClassifier\n",
    "from sklearn.preprocessing import MinMaxScaler\n",
    "\n",
    "\n",
    "scaler = MinMaxScaler()\n",
    "\n",
    "X_train_scaled = scaler.fit_transform(X_train)\n",
    "X_test_scaled = scaler.transform(X_test)\n",
    "\n",
    "MLP = MLPClassifier(hidden_layer_sizes = [100, 100], alpha = 5.0,\n",
    "                   random_state = 0, solver='lbfgs').fit(X_train_scaled, y_train)\n",
    "# hidden_layer_sizes =[100,100]==> means  we will use 2 hidden layers, each of them with 100 units\n",
    "# Note that MLP has many paramater to tune. Here we limit for one parameter for illustrating\n",
    "print('Digits  dataset')\n",
    "print('Accuracy of NN classifier on training set: {:.2f}'\n",
    "     .format(MLP.score(X_train_scaled, y_train)))\n",
    "print('Accuracy of NN classifier on test set: {:.2f}'\n",
    "     .format(MLP.score(X_test_scaled, y_test)))"
   ]
  },
  {
   "cell_type": "code",
   "execution_count": 44,
   "metadata": {
    "collapsed": false
   },
   "outputs": [
    {
     "name": "stdout",
     "output_type": "stream",
     "text": [
      "[[ 95 312]\n",
      " [  0  43]]\n",
      "             precision    recall  f1-score   support\n",
      "\n",
      "          0       1.00      0.23      0.38       407\n",
      "          1       0.12      1.00      0.22        43\n",
      "\n",
      "avg / total       0.92      0.31      0.36       450\n",
      "\n"
     ]
    }
   ],
   "source": [
    "y_MLP=MLP.predict(X_test)\n",
    "confusion_MLP=confusion_matrix(y_test,y_MLP)\n",
    "print(confusion_MLP)\n",
    "print(classification_report(y_test,y_MLP))"
   ]
  },
  {
   "cell_type": "markdown",
   "metadata": {},
   "source": [
    "#### The effect of activation function : "
   ]
  },
  {
   "cell_type": "code",
   "execution_count": 45,
   "metadata": {
    "collapsed": false
   },
   "outputs": [
    {
     "name": "stdout",
     "output_type": "stream",
     "text": [
      "Digits  dataset\n",
      "For relu : Accuracy of NN classifier on training set: 1.00\n",
      "For relu Accuracy of NN classifier on test set: 0.99\n",
      "Digits  dataset\n",
      "For tanh : Accuracy of NN classifier on training set: 1.00\n",
      "For tanh Accuracy of NN classifier on test set: 0.99\n",
      "Digits  dataset\n",
      "For logistic : Accuracy of NN classifier on training set: 0.98\n",
      "For logistic Accuracy of NN classifier on test set: 0.99\n"
     ]
    }
   ],
   "source": [
    "activation_functions=['relu','tanh','logistic']\n",
    "for activation_function in activation_functions :\n",
    "    MLP = MLPClassifier(hidden_layer_sizes = [100, 100], alpha = 5.0, activation=activation_function,random_state = 0, solver='lbfgs').fit(X_train_scaled, y_train)\n",
    "\n",
    "    print('Digits  dataset')\n",
    "    print('For',activation_function,': Accuracy of NN classifier on training set: {:.2f}'\n",
    "         .format(MLP.score(X_train_scaled, y_train)))\n",
    "    print('For',activation_function,'Accuracy of NN classifier on test set: {:.2f}'\n",
    "         .format(MLP.score(X_test_scaled, y_test)))"
   ]
  },
  {
   "cell_type": "markdown",
   "metadata": {},
   "source": [
    "- You can print the classification report for each model to see more diffrences\n",
    "\n",
    "- Logistic regression is a good generalization for the dataset."
   ]
  },
  {
   "cell_type": "markdown",
   "metadata": {},
   "source": [
    "<mark>MLP provides a recall equal to 1 for the positive class but with  a very poor precision. </mark>"
   ]
  },
  {
   "cell_type": "markdown",
   "metadata": {},
   "source": [
    "#### Conclusion :\n",
    "    "
   ]
  },
  {
   "cell_type": "markdown",
   "metadata": {},
   "source": [
    "Running different models gives differents results in term of Recall, Precision and Accuracy. The final decision depends on our needs. If we are looking for a model that minimizes False Negative( maximizes Recall), MLP is the best choice. Otherwise  if we are lookin for a model that minimizes the False Positive (maximizes Precision) then RF is the best one."
   ]
  },
  {
   "cell_type": "markdown",
   "metadata": {},
   "source": [
    "# Bibliography \n",
    "    \n",
    "    "
   ]
  },
  {
   "cell_type": "markdown",
   "metadata": {},
   "source": [
    "1. https://www.coursera.org/learn/python-machine-learning\n",
    "2. Arbres de Décision et Forêts Aléatoires Pr. Fabien Moutarde Centre de Robotique (CAOR) MINES ParisTech (ENSMP) PSL Research University\n",
    "3. https://en.wikipedia.org/wiki/Bootstrap_aggregating\n",
    "4. https://www.google.fr/search?q=confusion+matrix&source=lnms&tbm=isch&sa=X&ved=0ahUKEwiY-L_atP3WAhVGNhoKHYFfCFoQ_AUICigB&biw=1366&bih=662#imgrc=qaM5X9E7c28zqM:\n",
    "5. Ensemble Models Dr. ChooYunHuoy Department of Industrial Computing Faculty of Information and Communication Technology, UTeM Melaka, Malaysia\n",
    "6. https://goo.gl/images/A3udxy"
   ]
  },
  {
   "cell_type": "code",
   "execution_count": null,
   "metadata": {
    "collapsed": true
   },
   "outputs": [],
   "source": []
  },
  {
   "cell_type": "code",
   "execution_count": null,
   "metadata": {
    "collapsed": true
   },
   "outputs": [],
   "source": []
  }
 ],
 "metadata": {
  "kernelspec": {
   "display_name": "Python 3",
   "language": "python",
   "name": "python3"
  },
  "language_info": {
   "codemirror_mode": {
    "name": "ipython",
    "version": 3
   },
   "file_extension": ".py",
   "mimetype": "text/x-python",
   "name": "python",
   "nbconvert_exporter": "python",
   "pygments_lexer": "ipython3",
   "version": "3.5.2"
  }
 },
 "nbformat": 4,
 "nbformat_minor": 1
}
