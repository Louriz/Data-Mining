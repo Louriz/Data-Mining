{
 "cells": [
  {
   "cell_type": "markdown",
   "metadata": {},
   "source": [
    "![](IMT.jpg)"
   ]
  },
  {
   "cell_type": "markdown",
   "metadata": {},
   "source": [
    "- <b>Riahi Louriz\n",
    "- Etudiant en Data Science à IMT Atlantique, campus Brest\n",
    "- riahilouriz@gmail.com</b>"
   ]
  },
  {
   "cell_type": "markdown",
   "metadata": {},
   "source": [
    "# Processing outliers "
   ]
  },
  {
   "cell_type": "markdown",
   "metadata": {},
   "source": [
    "## Introduction :"
   ]
  },
  {
   "cell_type": "markdown",
   "metadata": {},
   "source": [
    "\"In statistics, an outlier is a value or an observation that is \"distant\" from other observations made on the same phenomenon, that is, it contrasts greatly with \"normally\" measured values. An outlier may be due to the variability inherent in the observed phenomenon or it may also indicate an experimental error.\" (<b>Wikipedia</b>)"
   ]
  },
  {
   "cell_type": "markdown",
   "metadata": {},
   "source": [
    "Outliers data is a very popular and challenging problem in data mining and machine learning. Data can be an outlier for many reasons which I will not cover here in the introduction, but to give a tangible example : \"All individuals have a salary between \\$15 000 and \\$25 000 except one person who has $100 000. This person will be considered as an outlier\". We will explain all outlier data mechanisms later on. Hence, Handling outlier data is an important step in data mining since the majority of  algorithms can not handle accurately outlier values. As a fruit we have a good accuracy and so a good decision making."
   ]
  },
  {
   "cell_type": "markdown",
   "metadata": {},
   "source": [
    "Outliers processing is very similar to missing data processing. We will follow the same outline of my last lab, which covers the mechanisms of missing data and how to treat them. To know more about this lab, you can visit the following link:\n",
    "https://github.com/Louriz/Data-Mining/tree/master/Project"
   ]
  },
  {
   "cell_type": "markdown",
   "metadata": {},
   "source": [
    "During this lab, we will cover two principal parts: In the first part we will go through some general definitions supported by examples, then a second part which will be  a case study with the language R ( MCA : Multiple Correspondence Analysis)."
   ]
  },
  {
   "cell_type": "markdown",
   "metadata": {},
   "source": [
    "## Part 1 : definitions and examples"
   ]
  },
  {
   "cell_type": "markdown",
   "metadata": {},
   "source": [
    "###  Mechanisms of   Outliers Data"
   ]
  },
  {
   "cell_type": "markdown",
   "metadata": {},
   "source": [
    "Preprocessing outliers data is firstly knowing the reasons behind those outlier values. In the next paragraph we are going to highlight different missing data mechanism with  interesting examples. Let's learn something new !"
   ]
  },
  {
   "cell_type": "markdown",
   "metadata": {},
   "source": [
    "<b>Causes of outliers can be classified in two broad categories:</b>\n",
    "\n",
    "    1. Artificial (Error) / Non-natural\n",
    "    2. Natural"
   ]
  },
  {
   "cell_type": "markdown",
   "metadata": {},
   "source": [
    "Let's know more deeply about those categories :"
   ]
  },
  {
   "cell_type": "markdown",
   "metadata": {},
   "source": [
    "#### Artificial (Error) / Non-natural"
   ]
  },
  {
   "cell_type": "markdown",
   "metadata": {},
   "source": [
    "##### 1.Data Entry Errors :"
   ]
  },
  {
   "cell_type": "markdown",
   "metadata": {},
   "source": [
    "Human errors such as errors caused during data collection, recording, or entry can give birth to outliers in data. For example: Age of an individual is 50 years . Accidentally, the data entry operator puts an additional zero for the person in question. Now the age becomes 500 years which is 10 times higher. Evidently, this will be the outlier value when compared with rest of the population."
   ]
  },
  {
   "cell_type": "markdown",
   "metadata": {},
   "source": [
    "<mark>python simulation :</mark> "
   ]
  },
  {
   "cell_type": "code",
   "execution_count": 5,
   "metadata": {
    "collapsed": false
   },
   "outputs": [
    {
     "data": {
      "text/html": [
       "<div>\n",
       "<table border=\"1\" class=\"dataframe\">\n",
       "  <thead>\n",
       "    <tr style=\"text-align: right;\">\n",
       "      <th></th>\n",
       "      <th>Id</th>\n",
       "      <th>age</th>\n",
       "    </tr>\n",
       "  </thead>\n",
       "  <tbody>\n",
       "    <tr>\n",
       "      <th>0</th>\n",
       "      <td>#12BC5</td>\n",
       "      <td>35</td>\n",
       "    </tr>\n",
       "    <tr>\n",
       "      <th>1</th>\n",
       "      <td>#75DEG</td>\n",
       "      <td>40</td>\n",
       "    </tr>\n",
       "    <tr>\n",
       "      <th>2</th>\n",
       "      <td>#89Kwf</td>\n",
       "      <td>500</td>\n",
       "    </tr>\n",
       "    <tr>\n",
       "      <th>3</th>\n",
       "      <td>#12EC5</td>\n",
       "      <td>29</td>\n",
       "    </tr>\n",
       "    <tr>\n",
       "      <th>4</th>\n",
       "      <td>#78DEG</td>\n",
       "      <td>24</td>\n",
       "    </tr>\n",
       "    <tr>\n",
       "      <th>5</th>\n",
       "      <td>#89Kzf</td>\n",
       "      <td>38</td>\n",
       "    </tr>\n",
       "    <tr>\n",
       "      <th>6</th>\n",
       "      <td>#45iuO</td>\n",
       "      <td>60</td>\n",
       "    </tr>\n",
       "    <tr>\n",
       "      <th>7</th>\n",
       "      <td>#12458</td>\n",
       "      <td>55</td>\n",
       "    </tr>\n",
       "  </tbody>\n",
       "</table>\n",
       "</div>"
      ],
      "text/plain": [
       "       Id  age\n",
       "0  #12BC5   35\n",
       "1  #75DEG   40\n",
       "2  #89Kwf  500\n",
       "3  #12EC5   29\n",
       "4  #78DEG   24\n",
       "5  #89Kzf   38\n",
       "6  #45iuO   60\n",
       "7  #12458   55"
      ]
     },
     "execution_count": 5,
     "metadata": {},
     "output_type": "execute_result"
    }
   ],
   "source": [
    "import pandas as pd\n",
    "entry_errors=pd.DataFrame({'Id':['#12BC5','#75DEG','#89Kwf','#12EC5','#78DEG','#89Kzf','#45iuO','#12458'],'age':[35,40,500,29,24,38,60,55]})\n",
    "entry_errors"
   ]
  },
  {
   "cell_type": "markdown",
   "metadata": {},
   "source": [
    "##### 2.Measurement Error"
   ]
  },
  {
   "cell_type": "markdown",
   "metadata": {},
   "source": [
    "It is one of the most common source of outliers. This is caused when the measurement instrument used turns out to be faulty. For example: There are three radars that are installed on satellites to measure climatic variables. But one of these three proves to be defective. The values measured by this defective radar will be larger or smaller considerably, and therefore outliers."
   ]
  },
  {
   "cell_type": "markdown",
   "metadata": {
    "collapsed": true
   },
   "source": [
    "<mark>python simulation</mark> "
   ]
  },
  {
   "cell_type": "code",
   "execution_count": 11,
   "metadata": {
    "collapsed": false
   },
   "outputs": [
    {
     "data": {
      "text/html": [
       "<div>\n",
       "<table border=\"1\" class=\"dataframe\">\n",
       "  <thead>\n",
       "    <tr style=\"text-align: right;\">\n",
       "      <th></th>\n",
       "      <th>temperature_radar_1</th>\n",
       "      <th>temperature_radar_2</th>\n",
       "      <th>temperature_radar_3</th>\n",
       "    </tr>\n",
       "  </thead>\n",
       "  <tbody>\n",
       "    <tr>\n",
       "      <th>0</th>\n",
       "      <td>22</td>\n",
       "      <td>25</td>\n",
       "      <td>100.0</td>\n",
       "    </tr>\n",
       "    <tr>\n",
       "      <th>1</th>\n",
       "      <td>26</td>\n",
       "      <td>26</td>\n",
       "      <td>-20.0</td>\n",
       "    </tr>\n",
       "    <tr>\n",
       "      <th>2</th>\n",
       "      <td>27</td>\n",
       "      <td>27</td>\n",
       "      <td>200.0</td>\n",
       "    </tr>\n",
       "    <tr>\n",
       "      <th>3</th>\n",
       "      <td>25</td>\n",
       "      <td>19</td>\n",
       "      <td>30.0</td>\n",
       "    </tr>\n",
       "    <tr>\n",
       "      <th>4</th>\n",
       "      <td>24</td>\n",
       "      <td>28</td>\n",
       "      <td>12.0</td>\n",
       "    </tr>\n",
       "    <tr>\n",
       "      <th>5</th>\n",
       "      <td>29</td>\n",
       "      <td>29</td>\n",
       "      <td>-1000.0</td>\n",
       "    </tr>\n",
       "    <tr>\n",
       "      <th>6</th>\n",
       "      <td>30</td>\n",
       "      <td>28</td>\n",
       "      <td>20.0</td>\n",
       "    </tr>\n",
       "    <tr>\n",
       "      <th>7</th>\n",
       "      <td>24</td>\n",
       "      <td>24</td>\n",
       "      <td>NaN</td>\n",
       "    </tr>\n",
       "  </tbody>\n",
       "</table>\n",
       "</div>"
      ],
      "text/plain": [
       "   temperature_radar_1  temperature_radar_2  temperature_radar_3\n",
       "0                   22                   25                100.0\n",
       "1                   26                   26                -20.0\n",
       "2                   27                   27                200.0\n",
       "3                   25                   19                 30.0\n",
       "4                   24                   28                 12.0\n",
       "5                   29                   29              -1000.0\n",
       "6                   30                   28                 20.0\n",
       "7                   24                   24                  NaN"
      ]
     },
     "execution_count": 11,
     "metadata": {},
     "output_type": "execute_result"
    }
   ],
   "source": [
    "import pandas as pd\n",
    "import numpy as np\n",
    "measurement_errors=pd.DataFrame({'temperature_radar_1':[22,26,27,25,24,29,30,24],\n",
    "                                   'temperature_radar_2':[25,26,27,19,28,29,28,24],\n",
    "                                 'temperature_radar_3' :[100,-20,200,30,12,-1000,20,np.nan]} )\n",
    "measurement_errors"
   ]
  },
  {
   "cell_type": "markdown",
   "metadata": {
    "collapsed": true
   },
   "source": [
    "##### 3.Experimental Error"
   ]
  },
  {
   "cell_type": "markdown",
   "metadata": {
    "collapsed": true
   },
   "source": [
    "\"Another cause of outliers is experimental error. For example: In a 100m sprint of 7 runners, one runner missed out on concentrating on the ‘Go’ call which caused him to start late. Hence, this caused the runner’s run time to be more than other runners. His total run time can be an outlier.\" [1]"
   ]
  },
  {
   "cell_type": "markdown",
   "metadata": {
    "collapsed": true
   },
   "source": [
    "##### 4.Intentional Outlier:"
   ]
  },
  {
   "cell_type": "markdown",
   "metadata": {
    "collapsed": true
   },
   "source": [
    "\"This is commonly found in self-reported measures that involves sensitive data. For example: Teens would typically under report the amount of alcohol that they consume. Only a fraction of them would report actual value. Here actual values might look like outliers because rest of the teens are under reporting the consumption.\" [1]"
   ]
  },
  {
   "cell_type": "markdown",
   "metadata": {
    "collapsed": true
   },
   "source": [
    "<mark>python simulation</mark>"
   ]
  },
  {
   "cell_type": "code",
   "execution_count": 14,
   "metadata": {
    "collapsed": false
   },
   "outputs": [
    {
     "data": {
      "text/html": [
       "<div>\n",
       "<table border=\"1\" class=\"dataframe\">\n",
       "  <thead>\n",
       "    <tr style=\"text-align: right;\">\n",
       "      <th></th>\n",
       "      <th>Id</th>\n",
       "      <th>alcohol_times_per_week</th>\n",
       "    </tr>\n",
       "  </thead>\n",
       "  <tbody>\n",
       "    <tr>\n",
       "      <th>0</th>\n",
       "      <td>#A1245</td>\n",
       "      <td>1</td>\n",
       "    </tr>\n",
       "    <tr>\n",
       "      <th>1</th>\n",
       "      <td>#B1245</td>\n",
       "      <td>1</td>\n",
       "    </tr>\n",
       "    <tr>\n",
       "      <th>2</th>\n",
       "      <td>#C1245</td>\n",
       "      <td>7</td>\n",
       "    </tr>\n",
       "    <tr>\n",
       "      <th>3</th>\n",
       "      <td>#A1275</td>\n",
       "      <td>1</td>\n",
       "    </tr>\n",
       "    <tr>\n",
       "      <th>4</th>\n",
       "      <td>#B1945</td>\n",
       "      <td>0</td>\n",
       "    </tr>\n",
       "    <tr>\n",
       "      <th>5</th>\n",
       "      <td>#A1W45</td>\n",
       "      <td>2</td>\n",
       "    </tr>\n",
       "    <tr>\n",
       "      <th>6</th>\n",
       "      <td>#Acb245</td>\n",
       "      <td>1</td>\n",
       "    </tr>\n",
       "    <tr>\n",
       "      <th>7</th>\n",
       "      <td>#A1200</td>\n",
       "      <td>6</td>\n",
       "    </tr>\n",
       "    <tr>\n",
       "      <th>8</th>\n",
       "      <td>#U1245</td>\n",
       "      <td>0</td>\n",
       "    </tr>\n",
       "    <tr>\n",
       "      <th>9</th>\n",
       "      <td>#K1245</td>\n",
       "      <td>1</td>\n",
       "    </tr>\n",
       "  </tbody>\n",
       "</table>\n",
       "</div>"
      ],
      "text/plain": [
       "        Id  alcohol_times_per_week\n",
       "0   #A1245                       1\n",
       "1   #B1245                       1\n",
       "2   #C1245                       7\n",
       "3   #A1275                       1\n",
       "4   #B1945                       0\n",
       "5   #A1W45                       2\n",
       "6  #Acb245                       1\n",
       "7   #A1200                       6\n",
       "8   #U1245                       0\n",
       "9   #K1245                       1"
      ]
     },
     "execution_count": 14,
     "metadata": {},
     "output_type": "execute_result"
    }
   ],
   "source": [
    "import pandas as pd\n",
    "import numpy as np\n",
    "intentional_errors=pd.DataFrame({'Id':['#A1245','#B1245','#C1245','#A1275','#B1945','#A1W45','#Acb245','#A1200','#U1245','#K1245'],\n",
    "                                   'alcohol_times_per_week':[1,1,7,1,0,2,1,6,0,1]} )\n",
    "intentional_errors"
   ]
  },
  {
   "cell_type": "markdown",
   "metadata": {
    "collapsed": true
   },
   "source": [
    "- Real values are : 6,7 \n",
    "- Under reporting values are : 1,1,1,0,2,1,0,1\n"
   ]
  },
  {
   "cell_type": "markdown",
   "metadata": {
    "collapsed": true
   },
   "source": [
    "So it seems that 6 and 7 are the outliers but the reality is the opposite. This is what we call <b>Intentional Outlier</b>."
   ]
  },
  {
   "cell_type": "markdown",
   "metadata": {
    "collapsed": true
   },
   "source": [
    "##### 5.Sampling error"
   ]
  },
  {
   "cell_type": "markdown",
   "metadata": {},
   "source": [
    "For instance, we have to measure the height of athletes. By mistake, we include a few basketball players in the sample ( they are very tall ;)). This inclusion is likely to cause outliers in the dataset. [1]"
   ]
  },
  {
   "cell_type": "markdown",
   "metadata": {},
   "source": [
    "![](sampling.JPG)"
   ]
  },
  {
   "cell_type": "code",
   "execution_count": 18,
   "metadata": {
    "collapsed": false
   },
   "outputs": [
    {
     "data": {
      "text/html": [
       "<div>\n",
       "<table border=\"1\" class=\"dataframe\">\n",
       "  <thead>\n",
       "    <tr style=\"text-align: right;\">\n",
       "      <th></th>\n",
       "      <th>Id</th>\n",
       "      <th>athlete_height</th>\n",
       "    </tr>\n",
       "  </thead>\n",
       "  <tbody>\n",
       "    <tr>\n",
       "      <th>0</th>\n",
       "      <td>#A1245</td>\n",
       "      <td>1.70</td>\n",
       "    </tr>\n",
       "    <tr>\n",
       "      <th>1</th>\n",
       "      <td>#B1245</td>\n",
       "      <td>1.75</td>\n",
       "    </tr>\n",
       "    <tr>\n",
       "      <th>2</th>\n",
       "      <td>#C1245</td>\n",
       "      <td>1.72</td>\n",
       "    </tr>\n",
       "    <tr>\n",
       "      <th>3</th>\n",
       "      <td>#A1275</td>\n",
       "      <td>1.65</td>\n",
       "    </tr>\n",
       "    <tr>\n",
       "      <th>4</th>\n",
       "      <td>#B1945</td>\n",
       "      <td>2.25</td>\n",
       "    </tr>\n",
       "    <tr>\n",
       "      <th>5</th>\n",
       "      <td>#A1200</td>\n",
       "      <td>2.50</td>\n",
       "    </tr>\n",
       "    <tr>\n",
       "      <th>6</th>\n",
       "      <td>#U1245</td>\n",
       "      <td>1.62</td>\n",
       "    </tr>\n",
       "    <tr>\n",
       "      <th>7</th>\n",
       "      <td>#K1245</td>\n",
       "      <td>1.57</td>\n",
       "    </tr>\n",
       "  </tbody>\n",
       "</table>\n",
       "</div>"
      ],
      "text/plain": [
       "       Id  athlete_height\n",
       "0  #A1245            1.70\n",
       "1  #B1245            1.75\n",
       "2  #C1245            1.72\n",
       "3  #A1275            1.65\n",
       "4  #B1945            2.25\n",
       "5  #A1200            2.50\n",
       "6  #U1245            1.62\n",
       "7  #K1245            1.57"
      ]
     },
     "execution_count": 18,
     "metadata": {},
     "output_type": "execute_result"
    }
   ],
   "source": [
    "import pandas as pd\n",
    "import numpy as np\n",
    "sampling_errors=pd.DataFrame({'Id':['#A1245','#B1245','#C1245','#A1275','#B1945','#A1200','#U1245','#K1245'],\n",
    "                                   'athlete_height':[1.70,1.75,1.72,1.65,2.25,2.5,1.62,1.57]} )\n",
    "sampling_errors"
   ]
  },
  {
   "cell_type": "markdown",
   "metadata": {},
   "source": [
    "#### Natural"
   ]
  },
  {
   "cell_type": "markdown",
   "metadata": {
    "collapsed": true
   },
   "source": [
    "When an outiler is not artificial, so it is natural."
   ]
  },
  {
   "cell_type": "markdown",
   "metadata": {
    "collapsed": true
   },
   "source": [
    "### Impact of Outliers "
   ]
  },
  {
   "cell_type": "markdown",
   "metadata": {
    "collapsed": true
   },
   "source": [
    "The existence of outliers can dramatically change the results of our modeling. I will list some impacts of outliers : "
   ]
  },
  {
   "cell_type": "markdown",
   "metadata": {},
   "source": [
    "- If the outliers are non-randomly distributed, they can decrease normality [1]. As a result they can impact the basic assumption of linear regression for example.\n",
    "- They can bias or influence estimates that may be of substantive interest [1].  Especially data exploration stage, where outliers can affect the desired statistics."
   ]
  },
  {
   "cell_type": "markdown",
   "metadata": {},
   "source": [
    "let's illustrate with an example :"
   ]
  },
  {
   "cell_type": "code",
   "execution_count": 1,
   "metadata": {
    "collapsed": false
   },
   "outputs": [
    {
     "data": {
      "text/html": [
       "<div>\n",
       "<table border=\"1\" class=\"dataframe\">\n",
       "  <thead>\n",
       "    <tr style=\"text-align: right;\">\n",
       "      <th></th>\n",
       "      <th>col1_without_outlier</th>\n",
       "      <th>col2_with_outlier</th>\n",
       "    </tr>\n",
       "  </thead>\n",
       "  <tbody>\n",
       "    <tr>\n",
       "      <th>0</th>\n",
       "      <td>1</td>\n",
       "      <td>1</td>\n",
       "    </tr>\n",
       "    <tr>\n",
       "      <th>1</th>\n",
       "      <td>2</td>\n",
       "      <td>2</td>\n",
       "    </tr>\n",
       "    <tr>\n",
       "      <th>2</th>\n",
       "      <td>4</td>\n",
       "      <td>4</td>\n",
       "    </tr>\n",
       "    <tr>\n",
       "      <th>3</th>\n",
       "      <td>2</td>\n",
       "      <td>100</td>\n",
       "    </tr>\n",
       "    <tr>\n",
       "      <th>4</th>\n",
       "      <td>1</td>\n",
       "      <td>5</td>\n",
       "    </tr>\n",
       "    <tr>\n",
       "      <th>5</th>\n",
       "      <td>5</td>\n",
       "      <td>2</td>\n",
       "    </tr>\n",
       "    <tr>\n",
       "      <th>6</th>\n",
       "      <td>3</td>\n",
       "      <td>3</td>\n",
       "    </tr>\n",
       "  </tbody>\n",
       "</table>\n",
       "</div>"
      ],
      "text/plain": [
       "   col1_without_outlier  col2_with_outlier\n",
       "0                     1                  1\n",
       "1                     2                  2\n",
       "2                     4                  4\n",
       "3                     2                100\n",
       "4                     1                  5\n",
       "5                     5                  2\n",
       "6                     3                  3"
      ]
     },
     "execution_count": 1,
     "metadata": {},
     "output_type": "execute_result"
    }
   ],
   "source": [
    "import pandas as pd\n",
    "df=pd.DataFrame({'col1_without_outlier':[1,2,4,2,1,5,3],'col2_with_outlier':[1,2,4,100,5,2,3]})\n",
    "df"
   ]
  },
  {
   "cell_type": "markdown",
   "metadata": {},
   "source": [
    "Some statistics :"
   ]
  },
  {
   "cell_type": "code",
   "execution_count": 3,
   "metadata": {
    "collapsed": false
   },
   "outputs": [
    {
     "data": {
      "text/html": [
       "<div>\n",
       "<table border=\"1\" class=\"dataframe\">\n",
       "  <thead>\n",
       "    <tr style=\"text-align: right;\">\n",
       "      <th></th>\n",
       "      <th>col1_without_outlier</th>\n",
       "      <th>col2_with_outlier</th>\n",
       "    </tr>\n",
       "  </thead>\n",
       "  <tbody>\n",
       "    <tr>\n",
       "      <th>count</th>\n",
       "      <td>7.000000</td>\n",
       "      <td>7.000000</td>\n",
       "    </tr>\n",
       "    <tr>\n",
       "      <th>mean</th>\n",
       "      <td>2.571429</td>\n",
       "      <td>16.714286</td>\n",
       "    </tr>\n",
       "    <tr>\n",
       "      <th>std</th>\n",
       "      <td>1.511858</td>\n",
       "      <td>36.750121</td>\n",
       "    </tr>\n",
       "    <tr>\n",
       "      <th>min</th>\n",
       "      <td>1.000000</td>\n",
       "      <td>1.000000</td>\n",
       "    </tr>\n",
       "    <tr>\n",
       "      <th>25%</th>\n",
       "      <td>1.500000</td>\n",
       "      <td>2.000000</td>\n",
       "    </tr>\n",
       "    <tr>\n",
       "      <th>50%</th>\n",
       "      <td>2.000000</td>\n",
       "      <td>3.000000</td>\n",
       "    </tr>\n",
       "    <tr>\n",
       "      <th>75%</th>\n",
       "      <td>3.500000</td>\n",
       "      <td>4.500000</td>\n",
       "    </tr>\n",
       "    <tr>\n",
       "      <th>max</th>\n",
       "      <td>5.000000</td>\n",
       "      <td>100.000000</td>\n",
       "    </tr>\n",
       "  </tbody>\n",
       "</table>\n",
       "</div>"
      ],
      "text/plain": [
       "       col1_without_outlier  col2_with_outlier\n",
       "count              7.000000           7.000000\n",
       "mean               2.571429          16.714286\n",
       "std                1.511858          36.750121\n",
       "min                1.000000           1.000000\n",
       "25%                1.500000           2.000000\n",
       "50%                2.000000           3.000000\n",
       "75%                3.500000           4.500000\n",
       "max                5.000000         100.000000"
      ]
     },
     "execution_count": 3,
     "metadata": {},
     "output_type": "execute_result"
    }
   ],
   "source": [
    "df.describe()"
   ]
  },
  {
   "cell_type": "markdown",
   "metadata": {},
   "source": [
    "We see very well the impact of the outlier on our statistics. The mean passes from 2.57 to 16.71."
   ]
  },
  {
   "cell_type": "markdown",
   "metadata": {},
   "source": [
    "### Types of Outliers"
   ]
  },
  {
   "cell_type": "markdown",
   "metadata": {},
   "source": [
    "There are two types of outliers, which i will cover one by one followed by examples :"
   ]
  },
  {
   "cell_type": "markdown",
   "metadata": {},
   "source": [
    "##### 1.Univariate outliers :"
   ]
  },
  {
   "cell_type": "markdown",
   "metadata": {},
   "source": [
    "These outliers can be found only when we look at the distribution of one single variable."
   ]
  },
  {
   "cell_type": "markdown",
   "metadata": {},
   "source": [
    "<b>Example:</b>"
   ]
  },
  {
   "cell_type": "code",
   "execution_count": 3,
   "metadata": {
    "collapsed": false
   },
   "outputs": [
    {
     "data": {
      "text/plain": [
       "<matplotlib.axes._subplots.AxesSubplot at 0x7f10a1f33da0>"
      ]
     },
     "execution_count": 3,
     "metadata": {},
     "output_type": "execute_result"
    },
    {
     "data": {
      "image/png": "[encoded data removed]",
      "text/plain": [
       "<matplotlib.figure.Figure at 0x7f109cd477f0>"
      ]
     },
     "metadata": {},
     "output_type": "display_data"
    }
   ],
   "source": [
    "import pandas as pd\n",
    "import matplotlib.pyplot as plt\n",
    "import seaborn as sns\n",
    "%matplotlib inline\n",
    "univariate=pd.Series([1,1.2,4,2,5,100])\n",
    "sns.boxplot(univariate,orient='v')"
   ]
  },
  {
   "cell_type": "markdown",
   "metadata": {},
   "source": [
    "As shown above in the figure, it is clearly that 100 is an outlier. This is an univariate outlier."
   ]
  },
  {
   "cell_type": "markdown",
   "metadata": {},
   "source": [
    "#### 2.Multivariate outliers :"
   ]
  },
  {
   "cell_type": "markdown",
   "metadata": {},
   "source": [
    "Multi-variate outliers are outliers in an n-dimensional space. In order to find them, you have to look at distributions in multi-dimensions.[1]"
   ]
  },
  {
   "cell_type": "markdown",
   "metadata": {},
   "source": [
    "Let's have an example: suppose where are studing the relationship between height and weight."
   ]
  },
  {
   "cell_type": "code",
   "execution_count": 4,
   "metadata": {
    "collapsed": false
   },
   "outputs": [
    {
     "data": {
      "text/html": [
       "<div>\n",
       "<table border=\"1\" class=\"dataframe\">\n",
       "  <thead>\n",
       "    <tr style=\"text-align: right;\">\n",
       "      <th></th>\n",
       "      <th>height(m)</th>\n",
       "      <th>weight(kg)</th>\n",
       "    </tr>\n",
       "  </thead>\n",
       "  <tbody>\n",
       "    <tr>\n",
       "      <th>0</th>\n",
       "      <td>1.50</td>\n",
       "      <td>60</td>\n",
       "    </tr>\n",
       "    <tr>\n",
       "      <th>1</th>\n",
       "      <td>1.55</td>\n",
       "      <td>62</td>\n",
       "    </tr>\n",
       "    <tr>\n",
       "      <th>2</th>\n",
       "      <td>1.60</td>\n",
       "      <td>64</td>\n",
       "    </tr>\n",
       "    <tr>\n",
       "      <th>3</th>\n",
       "      <td>1.65</td>\n",
       "      <td>68</td>\n",
       "    </tr>\n",
       "    <tr>\n",
       "      <th>4</th>\n",
       "      <td>1.70</td>\n",
       "      <td>69</td>\n",
       "    </tr>\n",
       "    <tr>\n",
       "      <th>5</th>\n",
       "      <td>1.75</td>\n",
       "      <td>69</td>\n",
       "    </tr>\n",
       "    <tr>\n",
       "      <th>6</th>\n",
       "      <td>1.80</td>\n",
       "      <td>70</td>\n",
       "    </tr>\n",
       "    <tr>\n",
       "      <th>7</th>\n",
       "      <td>1.73</td>\n",
       "      <td>60</td>\n",
       "    </tr>\n",
       "    <tr>\n",
       "      <th>8</th>\n",
       "      <td>1.50</td>\n",
       "      <td>70</td>\n",
       "    </tr>\n",
       "  </tbody>\n",
       "</table>\n",
       "</div>"
      ],
      "text/plain": [
       "   height(m)  weight(kg)\n",
       "0       1.50          60\n",
       "1       1.55          62\n",
       "2       1.60          64\n",
       "3       1.65          68\n",
       "4       1.70          69\n",
       "5       1.75          69\n",
       "6       1.80          70\n",
       "7       1.73          60\n",
       "8       1.50          70"
      ]
     },
     "execution_count": 4,
     "metadata": {},
     "output_type": "execute_result"
    }
   ],
   "source": [
    "multivariate=pd.DataFrame({'height(m)':[1.50,1.55,1.60,1.65,1.70,1.75,1.80,1.73,1.50],'weight(kg)':[60,62,64,68,69,69,70,60,70]})\n",
    "multivariate\n"
   ]
  },
  {
   "cell_type": "code",
   "execution_count": 4,
   "metadata": {
    "collapsed": false
   },
   "outputs": [
    {
     "data": {
      "text/plain": [
       "<matplotlib.axes._subplots.AxesSubplot at 0x7fa03d0bf0f0>"
      ]
     },
     "execution_count": 4,
     "metadata": {},
     "output_type": "execute_result"
    },
    {
     "data": {
      "image/png": "[encoded data removed]",
      "text/plain": [
       "<matplotlib.figure.Figure at 0x7fa0950bf0f0>"
      ]
     },
     "metadata": {},
     "output_type": "display_data"
    }
   ],
   "source": [
    "sns.boxplot(multivariate['height(m)'],orient='v')"
   ]
  },
  {
   "cell_type": "code",
   "execution_count": 5,
   "metadata": {
    "collapsed": false
   },
   "outputs": [
    {
     "data": {
      "text/plain": [
       "<matplotlib.axes._subplots.AxesSubplot at 0x7fa03e1679e8>"
      ]
     },
     "execution_count": 5,
     "metadata": {},
     "output_type": "execute_result"
    },
    {
     "data": {
      "image/png": "[encoded data removed]",
      "text/plain": [
       "<matplotlib.figure.Figure at 0x7fa03dff89e8>"
      ]
     },
     "metadata": {},
     "output_type": "display_data"
    }
   ],
   "source": [
    "sns.boxplot(multivariate['weight(kg)'],orient='v')"
   ]
  },
  {
   "cell_type": "markdown",
   "metadata": {},
   "source": [
    "Notice that boxplots do not present any outlier. Let's now explore a 2-dimensional plot to inspect if any outlier exist or not."
   ]
  },
  {
   "cell_type": "code",
   "execution_count": 6,
   "metadata": {
    "collapsed": false
   },
   "outputs": [
    {
     "data": {
      "text/plain": [
       "<matplotlib.collections.PathCollection at 0x7fa03d07ccf8>"
      ]
     },
     "execution_count": 6,
     "metadata": {},
     "output_type": "execute_result"
    },
    {
     "data": {
      "image/png": "[encoded data removed]",
      "text/plain": [
       "<matplotlib.figure.Figure at 0x7fa0413267f0>"
      ]
     },
     "metadata": {},
     "output_type": "display_data"
    }
   ],
   "source": [
    "plt.scatter(multivariate['height(m)'], multivariate['weight(kg)'])"
   ]
  },
  {
   "cell_type": "markdown",
   "metadata": {},
   "source": [
    "Now we have a full idea about 2 outliers in our data (points far from the linear tendency)."
   ]
  },
  {
   "cell_type": "markdown",
   "metadata": {},
   "source": [
    "### Detect Outliers :"
   ]
  },
  {
   "cell_type": "markdown",
   "metadata": {},
   "source": [
    "There are many ways to detect outliers and most of them are visual methods. Along our way we have already explored one of them, but I will enumerate some of them :"
   ]
  },
  {
   "cell_type": "markdown",
   "metadata": {},
   "source": [
    "##### Visualization methods: "
   ]
  },
  {
   "cell_type": "markdown",
   "metadata": {},
   "source": [
    "- Boxplots\n",
    "- Histogram\n",
    "- Scatter Plot"
   ]
  },
  {
   "cell_type": "markdown",
   "metadata": {},
   "source": [
    "##### Other methods :"
   ]
  },
  {
   "cell_type": "markdown",
   "metadata": {},
   "source": [
    "- Any value, which is beyond the range of -1.5 x IQR to 1.5 x IQR [1]. ( note that IQR= Q3-Q1 the difference between the third and the first quartile). \n",
    "\n",
    "- Use capping methods. Any value which out of range of 5th and 95th percentile can be considered as outlier. [1]\n",
    "- Bivariate and multivariate outliers are typically measured using either an index of influence or leverage, or distance. Popular indices such as Mahalanobis’ distance and Cook’s D are frequently used to detect outliers. [1]"
   ]
  },
  {
   "cell_type": "markdown",
   "metadata": {},
   "source": [
    "<mark>In statistics, <b>the distance of Mahalanobis</b> is a distance measure introduced by Prasanta Chandra Mahalanobis in 19361. It is based on the correlation between variables by which different models can be identified and analyzed. This is a useful way to determine the similarity between a series of known and unknown data. It differs from the Euclidean distance in that it takes into account the variance and correlation of the data set. Thus, unlike the Euclidean distance where all the components of the vectors are treated independently and in the same way, the Mahalanobis distance gives a smaller weight to the most dispersed components.</mark>"
   ]
  },
  {
   "cell_type": "markdown",
   "metadata": {},
   "source": [
    "Les's give one example about how to detect outliers using Mahalanobis's distance, I will be inspiring from  an example taken from the following link : \n",
    "http://kldavenport.com/mahalanobis-distance-and-outliers/"
   ]
  },
  {
   "cell_type": "markdown",
   "metadata": {},
   "source": [
    "In practice, the Mahalanobis distance from a multivariate vector:"
   ]
  },
  {
   "cell_type": "markdown",
   "metadata": {},
   "source": [
    "$$x=(x_1,x_2,...,x_p)^T $$"
   ]
  },
  {
   "cell_type": "markdown",
   "metadata": {},
   "source": [
    "To set of mean values :"
   ]
  },
  {
   "cell_type": "markdown",
   "metadata": {},
   "source": [
    "$$\\mu=(\\mu_1,\\mu_2,...,\\mu_p)^T$$"
   ]
  },
  {
   "cell_type": "markdown",
   "metadata": {},
   "source": [
    "and having a covariance matrix $$\\Sigma$$ is defined as follows:"
   ]
  },
  {
   "cell_type": "markdown",
   "metadata": {},
   "source": [
    "$$D_M(x)=\\sqrt((x-\\mu)^T \\Sigma ^-1 (x-\\mu)) $$"
   ]
  },
  {
   "cell_type": "markdown",
   "metadata": {},
   "source": [
    "I am going to explore a very simple example using only two vectors x and y ( here p=2)"
   ]
  },
  {
   "cell_type": "markdown",
   "metadata": {},
   "source": [
    "##### 1. Construct two series of values:"
   ]
  },
  {
   "cell_type": "code",
   "execution_count": 5,
   "metadata": {
    "collapsed": false
   },
   "outputs": [
    {
     "name": "stdout",
     "output_type": "stream",
     "text": [
      "[ 1.5   1.55  1.6   1.65  1.7   1.75  1.8   1.73  1.5 ] [60 62 64 68 69 69 70 60 70]\n",
      "(9,)\n",
      "(9,)\n"
     ]
    }
   ],
   "source": [
    "#Going back to our study about the relationship between weight and height :\n",
    "x=multivariate['height(m)'].values\n",
    "y=multivariate['weight(kg)'].values\n",
    "print (x,y)\n",
    "print(x.shape)\n",
    "print(y.shape)"
   ]
  },
  {
   "cell_type": "markdown",
   "metadata": {},
   "source": [
    "##### 2. Estimate a covariance matrix for (x,y):"
   ]
  },
  {
   "cell_type": "code",
   "execution_count": 6,
   "metadata": {
    "collapsed": false
   },
   "outputs": [
    {
     "name": "stdout",
     "output_type": "stream",
     "text": [
      "[[  9.32923013e+01  -8.68116911e-01]\n",
      " [ -8.68116911e-01   6.30399581e-02]]\n",
      "(2, 2)\n"
     ]
    }
   ],
   "source": [
    "import numpy as np\n",
    "#compute covariance of x and y :\n",
    "covariance_xy = np.cov(x,y, rowvar=0) # rowvar is set to 0 because we are dealing with column values.\n",
    "# In other words we are comparing two features not two individuals.\n",
    "# inverse the covariance of x and y :\n",
    "inv_covariance_xy = np.linalg.inv(covariance_xy)\n",
    "\n",
    "# Examine inverse covariance matrix and shape\n",
    "print (inv_covariance_xy)\n",
    "print (inv_covariance_xy.shape)"
   ]
  },
  {
   "cell_type": "markdown",
   "metadata": {},
   "source": [
    "##### 3.Center each value by the mean:"
   ]
  },
  {
   "cell_type": "code",
   "execution_count": 7,
   "metadata": {
    "collapsed": false
   },
   "outputs": [
    {
     "name": "stdout",
     "output_type": "stream",
     "text": [
      "[-0.14222222 -0.09222222 -0.04222222  0.00777778  0.05777778  0.10777778\n",
      "  0.15777778  0.08777778 -0.14222222]\n",
      "[-5.77777778 -3.77777778 -1.77777778  2.22222222  3.22222222  3.22222222\n",
      "  4.22222222 -5.77777778  4.22222222]\n"
     ]
    }
   ],
   "source": [
    "mean_x=np.mean(x) # mean of the vector x\n",
    "mean_y=np.mean(y)  # mean of the vector y\n",
    "x_centered=x-mean_x # center x\n",
    "y_centered=y-mean_y  # center y \n",
    "print(x_centered)\n",
    "print(y_centered)"
   ]
  },
  {
   "cell_type": "markdown",
   "metadata": {},
   "source": [
    "Join the x_centered and y_centered arrays into (9 x 2) array to be used in our formula later. Consider these coordinate pairs."
   ]
  },
  {
   "cell_type": "code",
   "execution_count": 8,
   "metadata": {
    "collapsed": false
   },
   "outputs": [
    {
     "data": {
      "text/plain": [
       "((9, 2), array([[-0.14222222, -5.77777778],\n",
       "        [-0.09222222, -3.77777778],\n",
       "        [-0.04222222, -1.77777778],\n",
       "        [ 0.00777778,  2.22222222],\n",
       "        [ 0.05777778,  3.22222222],\n",
       "        [ 0.10777778,  3.22222222],\n",
       "        [ 0.15777778,  4.22222222],\n",
       "        [ 0.08777778, -5.77777778],\n",
       "        [-0.14222222,  4.22222222]]))"
      ]
     },
     "execution_count": 8,
     "metadata": {},
     "output_type": "execute_result"
    }
   ],
   "source": [
    "diff_xmu=np.transpose([x_centered,y_centered])\n",
    "diff_xmu.shape, diff_xmu"
   ]
  },
  {
   "cell_type": "code",
   "execution_count": 11,
   "metadata": {
    "collapsed": false
   },
   "outputs": [
    {
     "data": {
      "text/plain": [
       "[1.6014901629368141,\n",
       " 1.0431832783584976,\n",
       " 0.48500141219645976,\n",
       " 0.53567066739029112,\n",
       " 0.80169909868717859,\n",
       " 1.0654800906169462,\n",
       " 1.5131404630059275,\n",
       " 1.9245273828577079,\n",
       " 2.0133205148567508]"
      ]
     },
     "execution_count": 11,
     "metadata": {},
     "output_type": "execute_result"
    }
   ],
   "source": [
    "md = []\n",
    "for i in range(len(diff_xmu)):\n",
    "    md.append(np.sqrt(np.dot(np.dot(np.transpose(diff_xmu[i]),inv_covariance_xy),diff_xmu[i])))\n",
    "md"
   ]
  },
  {
   "cell_type": "markdown",
   "metadata": {
    "collapsed": true
   },
   "source": [
    "###### We can wrap all this sequential code up into one function as follows:"
   ]
  },
  {
   "cell_type": "code",
   "execution_count": 14,
   "metadata": {
    "collapsed": true
   },
   "outputs": [],
   "source": [
    "def MahalanobisDist(x, y):\n",
    "    covariance_xy = np.cov(x,y, rowvar=0)\n",
    "    inv_covariance_xy = np.linalg.inv(covariance_xy)\n",
    "    mean_x=np.mean(x) # mean of the vector x\n",
    "    mean_y=np.mean(y)  # mean of the vector y\n",
    "    x_centered=x-mean_x # center x\n",
    "    y_centered=y-mean_y  # center y \n",
    "    diff_xmu = np.transpose([x_centered, y_centered])\n",
    "    \n",
    "    md = []\n",
    "    for i in range(len(diff_xmu)):\n",
    "        md.append(np.sqrt(np.dot(np.dot(np.transpose(diff_xmu[i]),inv_covariance_xy),diff_xmu[i])))\n",
    "    return md"
   ]
  },
  {
   "cell_type": "code",
   "execution_count": 15,
   "metadata": {
    "collapsed": false
   },
   "outputs": [
    {
     "data": {
      "text/plain": [
       "[1.6014901629368141,\n",
       " 1.0431832783584976,\n",
       " 0.48500141219645976,\n",
       " 0.53567066739029112,\n",
       " 0.80169909868717859,\n",
       " 1.0654800906169462,\n",
       " 1.5131404630059275,\n",
       " 1.9245273828577079,\n",
       " 2.0133205148567508]"
      ]
     },
     "execution_count": 15,
     "metadata": {},
     "output_type": "execute_result"
    }
   ],
   "source": [
    "MahalanobisDist(x,y)"
   ]
  },
  {
   "cell_type": "code",
   "execution_count": 16,
   "metadata": {
    "collapsed": true
   },
   "outputs": [],
   "source": [
    "def MD_removeOutliers(x, y):\n",
    "    MD = MahalanobisDist(x, y)\n",
    "    threshold = np.mean(MD) * 1.5 # adjust 1.5 accordingly \n",
    "    nx, ny, outliers = [], [], []\n",
    "    for i in range(len(MD)):\n",
    "        if MD[i] <= threshold:\n",
    "            nx.append(x[i])\n",
    "            ny.append(y[i])\n",
    "        else:\n",
    "            outliers.append(i) # position of removed pair\n",
    "    return (np.array(nx), np.array(ny), np.array(outliers))"
   ]
  },
  {
   "cell_type": "code",
   "execution_count": 17,
   "metadata": {
    "collapsed": false
   },
   "outputs": [
    {
     "name": "stdout",
     "output_type": "stream",
     "text": [
      "x: [ 1.5   1.55  1.6   1.65  1.7   1.75  1.8   1.73  1.5 ]\n",
      "y: [60 62 64 68 69 69 70 60 70]\n"
     ]
    },
    {
     "data": {
      "text/plain": [
       "(array([ 1.5 ,  1.55,  1.6 ,  1.65,  1.7 ,  1.75,  1.8 ]),\n",
       " array([60, 62, 64, 68, 69, 69, 70]),\n",
       " array([7, 8]))"
      ]
     },
     "execution_count": 17,
     "metadata": {},
     "output_type": "execute_result"
    }
   ],
   "source": [
    "print ('x:', x)\n",
    "print ('y:', y)\n",
    "MD_removeOutliers(x,y)"
   ]
  },
  {
   "cell_type": "markdown",
   "metadata": {
    "collapsed": true
   },
   "source": [
    "Outliers are in position 7 and 8 which are the couples (1.73,60) and (1.5,70). Ohh! impossible!, do you remember those couples. Go back to scatter plot for height and weight( I ploted it again below). Nice isn't it ?"
   ]
  },
  {
   "cell_type": "code",
   "execution_count": 18,
   "metadata": {
    "collapsed": false
   },
   "outputs": [
    {
     "data": {
      "text/plain": [
       "<matplotlib.collections.PathCollection at 0x7f109ef31d30>"
      ]
     },
     "execution_count": 18,
     "metadata": {},
     "output_type": "execute_result"
    },
    {
     "data": {
      "image/png": "[encoded data removed]",
      "text/plain": [
       "<matplotlib.figure.Figure at 0x7f10a1f1d550>"
      ]
     },
     "metadata": {},
     "output_type": "display_data"
    }
   ],
   "source": [
    "plt.scatter(multivariate['height(m)'], multivariate['weight(kg)'])"
   ]
  },
  {
   "cell_type": "markdown",
   "metadata": {
    "collapsed": true
   },
   "source": [
    "Now you have a very strong way to identify outliers, why? because scatter plot can be only used in 2-D or 3-D, but in case you have many features in your dataset it is more easy to use Mahalanobis Distance.\n"
   ]
  },
  {
   "cell_type": "markdown",
   "metadata": {},
   "source": [
    "### Precess Outliers : "
   ]
  },
  {
   "cell_type": "markdown",
   "metadata": {},
   "source": [
    "As said above in the introduction, processing outliers is very similar to processing missing values. Such as deleting rows or columns with outliers, transforming them, binning them, treat them as a separate group, imputing values and other statistical methods."
   ]
  },
  {
   "cell_type": "markdown",
   "metadata": {},
   "source": [
    "#### Deleting observations : "
   ]
  },
  {
   "cell_type": "markdown",
   "metadata": {
    "collapsed": true
   },
   "source": [
    "We delete outlier values if it is due to data entry error, data processing error or outlier observations are very small in numbers.[1]"
   ]
  },
  {
   "cell_type": "markdown",
   "metadata": {},
   "source": [
    "<mark>Note that deleting outliers that are due to data entry error does not affect  bias the result of your model. It is like MCAR missing values.</mark>"
   ]
  },
  {
   "cell_type": "markdown",
   "metadata": {},
   "source": [
    "#### Transforming and binning values :"
   ]
  },
  {
   "cell_type": "markdown",
   "metadata": {
    "collapsed": true
   },
   "source": [
    "Transforming variables can also eliminate outliers. Natural log of a value reduces the variation caused by extreme values. Binning is also a form of variable transformation. Decision Tree algorithm allows to deal with outliers well due to binning of variable. We can also use the process of assigning weights to different observations.[1]"
   ]
  },
  {
   "cell_type": "markdown",
   "metadata": {},
   "source": [
    "#### Imputing :"
   ]
  },
  {
   "cell_type": "markdown",
   "metadata": {
    "collapsed": true
   },
   "source": [
    "Like imputation of missing values, we can also impute outliers. We can use mean, median, mode imputation methods. Before imputing values, we should analyse if it is natural outlier or artificial. If it is artificial, we can go with imputing values. We can also use statistical model to predict values of outlier observation and after that we can impute it with predicted values.\n",
    "To know more about imputing missing values: \n",
    "https://github.com/Louriz/Data-Mining/tree/master/Project"
   ]
  },
  {
   "cell_type": "markdown",
   "metadata": {},
   "source": [
    "#### Treat separately :"
   ]
  },
  {
   "cell_type": "markdown",
   "metadata": {
    "collapsed": true
   },
   "source": [
    " If there are significant number of outliers, we should treat them separately in the statistical model. One of the approach is to treat both groups as two different groups and build individual model for both groups and then combine the output.[1]"
   ]
  },
  {
   "cell_type": "markdown",
   "metadata": {},
   "source": [
    "## Part2 : Case study "
   ]
  },
  {
   "cell_type": "markdown",
   "metadata": {
    "collapsed": true
   },
   "source": [
    "During my last project in statistics, I was doing MCA(  Multiple Correspondence Analysis) for our survey data about MOOC. When I have done the first MCA I was very angry about the result because they are non-sense, but with more exploration I have found that there is an outlier ( only one !) who ruined my life for two days :). As a result of deleting this individual from the data, I have got a very good result regarding our set of goals."
   ]
  },
  {
   "cell_type": "markdown",
   "metadata": {},
   "source": [
    "To change the language in which we are working now, I will provide you my study using the R language.\n",
    "You find in my Github account the pdf document with details entitled:"
   ]
  },
  {
   "cell_type": "markdown",
   "metadata": {},
   "source": [
    "# Conclusion"
   ]
  },
  {
   "cell_type": "markdown",
   "metadata": {
    "collapsed": true
   },
   "source": [
    "During this lab, you have explored many mechanisms that can be behind outliers, and also how to identify them in order to process those  values either separately or transforming them using similar methods used in processing missing values.\n",
    "\n",
    "Good luck in your future learning :)."
   ]
  },
  {
   "cell_type": "markdown",
   "metadata": {},
   "source": [
    "# References : "
   ]
  },
  {
   "cell_type": "markdown",
   "metadata": {},
   "source": [
    "[1] https://www.analyticsvidhya.com/blog/2016/01/guide-data-exploration/#three\n",
    "\n",
    "[2] https://machinelearningmastery.com/how-to-identify-outliers-in-your-data/"
   ]
  }
 ],
 "metadata": {
  "kernelspec": {
   "display_name": "Python 3",
   "language": "python",
   "name": "python3"
  },
  "language_info": {
   "codemirror_mode": {
    "name": "ipython",
    "version": 3
   },
   "file_extension": ".py",
   "mimetype": "text/x-python",
   "name": "python",
   "nbconvert_exporter": "python",
   "pygments_lexer": "ipython3",
   "version": "3.5.2"
  }
 },
 "nbformat": 4,
 "nbformat_minor": 1
}
