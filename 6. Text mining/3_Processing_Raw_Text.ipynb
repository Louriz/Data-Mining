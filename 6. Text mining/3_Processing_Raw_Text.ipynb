{
 "cells": [
  {
   "cell_type": "markdown",
   "metadata": {},
   "source": [
    "# 3   Processing Raw Text"
   ]
  },
  {
   "cell_type": "code",
   "execution_count": 1,
   "metadata": {},
   "outputs": [
    {
     "name": "stdout",
     "output_type": "stream",
     "text": [
      "Requirement already up-to-date: pip in c:\\users\\pc\\anaconda3\\lib\\site-packages\n"
     ]
    },
    {
     "name": "stderr",
     "output_type": "stream",
     "text": [
      "Retrying (Retry(total=4, connect=None, read=None, redirect=None)) after connection broken by 'NewConnectionError('<pip._vendor.requests.packages.urllib3.connection.VerifiedHTTPSConnection object at 0x02D579D0>: Failed to establish a new connection: [Errno 11004] getaddrinfo failed',)': /simple/pip/\n",
      "Retrying (Retry(total=3, connect=None, read=None, redirect=None)) after connection broken by 'NewConnectionError('<pip._vendor.requests.packages.urllib3.connection.VerifiedHTTPSConnection object at 0x02D578F0>: Failed to establish a new connection: [Errno 11004] getaddrinfo failed',)': /simple/pip/\n",
      "Retrying (Retry(total=2, connect=None, read=None, redirect=None)) after connection broken by 'NewConnectionError('<pip._vendor.requests.packages.urllib3.connection.VerifiedHTTPSConnection object at 0x02D57890>: Failed to establish a new connection: [Errno 11004] getaddrinfo failed',)': /simple/pip/\n",
      "Retrying (Retry(total=1, connect=None, read=None, redirect=None)) after connection broken by 'NewConnectionError('<pip._vendor.requests.packages.urllib3.connection.VerifiedHTTPSConnection object at 0x02D57850>: Failed to establish a new connection: [Errno 11004] getaddrinfo failed',)': /simple/pip/\n",
      "Retrying (Retry(total=0, connect=None, read=None, redirect=None)) after connection broken by 'NewConnectionError('<pip._vendor.requests.packages.urllib3.connection.VerifiedHTTPSConnection object at 0x02D577F0>: Failed to establish a new connection: [Errno 11004] getaddrinfo failed',)': /simple/pip/\n"
     ]
    }
   ],
   "source": [
    "!pip install --upgrade pip"
   ]
  },
  {
   "cell_type": "code",
   "execution_count": 2,
   "metadata": {},
   "outputs": [
    {
     "name": "stdout",
     "output_type": "stream",
     "text": [
      "Requirement already satisfied: nltk in c:\\users\\pc\\anaconda3\\lib\\site-packages\n",
      "Requirement already satisfied: six in c:\\users\\pc\\anaconda3\\lib\\site-packages (from nltk)\n"
     ]
    }
   ],
   "source": [
    "!pip install nltk\n"
   ]
  },
  {
   "cell_type": "code",
   "execution_count": 3,
   "metadata": {
    "collapsed": true
   },
   "outputs": [],
   "source": [
    "import nltk"
   ]
  },
  {
   "cell_type": "markdown",
   "metadata": {},
   "source": [
    "The most important source of texts is undoubtedly the Web. It's convenient to have existing text collections to explore, such as the corpora we saw in the previous chapters. However, you probably have your own text sources in mind, and need to learn how to access them.\n",
    "\n",
    "The goal of this chapter is to answer the following questions:\n",
    "\n",
    "- How can we write programs to access text from local files and from the web, in order to get hold of an unlimited range of language material?\n",
    "\n",
    "- How can we split documents up into individual words and punctuation symbols, so we can carry out the same kinds of analysis we did with text corpora in earlier chapters?\n",
    "\n",
    "- How can we write programs to produce formatted output and save it in a file?"
   ]
  },
  {
   "cell_type": "markdown",
   "metadata": {},
   "source": [
    "In order to address these questions, we will be covering key concepts in NLP, including tokenization and stemming. Along the way you will consolidate your Python knowledge and learn about strings, files, and regular expressions. Since so much text on the web is in HTML format, we will also see how to dispense with markup.\n"
   ]
  },
  {
   "cell_type": "markdown",
   "metadata": {},
   "source": [
    "<b>Note:</b>\n",
    "\n",
    "<b>Important</b>: From this chapter onwards, our program samples will assume you begin your interactive session or your program with the following import statements:"
   ]
  },
  {
   "cell_type": "code",
   "execution_count": 4,
   "metadata": {
    "collapsed": true
   },
   "outputs": [],
   "source": [
    "#from __future__ import division  # Python 2 users only\n",
    "import nltk, re, pprint\n",
    "from nltk import word_tokenize"
   ]
  },
  {
   "cell_type": "markdown",
   "metadata": {},
   "source": [
    "# 3.1   Accessing Text from the Web and from Disk\n",
    "\n"
   ]
  },
  {
   "cell_type": "markdown",
   "metadata": {},
   "source": [
    "<b>Electronic Books</b>\n",
    "\n",
    "A small sample of texts from Project Gutenberg appears in the NLTK corpus collection. However, you may be interested in analyzing other texts from Project Gutenberg. You can browse the catalog of 25,000 free online books at http://www.gutenberg.org/catalog/, and obtain a URL to an ASCII text file. Although 90% of the texts in Project Gutenberg are in English, it includes material in over 50 other languages, including Catalan, Chinese, Dutch, Finnish, French, German, Italian, Portuguese and Spanish (with more than 100 texts each).\n",
    "\n",
    "Text number 2554 is an English translation of Crime and Punishment, and we can access it as follows."
   ]
  },
  {
   "cell_type": "code",
   "execution_count": 5,
   "metadata": {},
   "outputs": [
    {
     "data": {
      "text/plain": [
       "(str,\n",
       " 1176896,\n",
       " 'The Project Gutenberg EBook of Crime and Punishment, by Fyodor Dostoevsky\\r\\n')"
      ]
     },
     "execution_count": 5,
     "metadata": {},
     "output_type": "execute_result"
    }
   ],
   "source": [
    "from urllib import request\n",
    "url = \"http://www.gutenberg.org/files/2554/2554.txt\"\n",
    "response = request.urlopen(url)\n",
    "raw = response.read().decode('utf8')\n",
    "type(raw),len(raw),raw[:75]\n",
    "\n"
   ]
  },
  {
   "cell_type": "markdown",
   "metadata": {},
   "source": [
    "The variable raw contains a string with 1,176,893 characters. (We can see that it is a string, using type(raw).) This is the raw content of the book, including many details we are not interested in such as whitespace, line breaks and blank lines. Notice the \\r and \\n in the opening line of the file, which is how Python displays the special carriage return and line feed characters (the file must have been created on a Windows machine). For our language processing, we want to break up the string into words and punctuation, as we saw in 1.. This step is called tokenization, and it produces our familiar structure, a list of words and punctuation.\n",
    "\n"
   ]
  },
  {
   "cell_type": "code",
   "execution_count": 5,
   "metadata": {},
   "outputs": [
    {
     "name": "stdout",
     "output_type": "stream",
     "text": [
      "showing info https://raw.githubusercontent.com/nltk/nltk_data/gh-pages/index.xml\n"
     ]
    },
    {
     "data": {
      "text/plain": [
       "True"
      ]
     },
     "execution_count": 5,
     "metadata": {},
     "output_type": "execute_result"
    }
   ],
   "source": [
    "nltk.download() # you need to download nltk, after running this cell you will get a screen with some choices, choose to install all packages"
   ]
  },
  {
   "cell_type": "code",
   "execution_count": 7,
   "metadata": {
    "collapsed": true
   },
   "outputs": [],
   "source": [
    "tokens = word_tokenize(raw)\n",
    "\n"
   ]
  },
  {
   "cell_type": "code",
   "execution_count": 8,
   "metadata": {},
   "outputs": [
    {
     "name": "stdout",
     "output_type": "stream",
     "text": [
      "<class 'list'>\n",
      "254352\n"
     ]
    },
    {
     "data": {
      "text/plain": [
       "['The',\n",
       " 'Project',\n",
       " 'Gutenberg',\n",
       " 'EBook',\n",
       " 'of',\n",
       " 'Crime',\n",
       " 'and',\n",
       " 'Punishment',\n",
       " ',',\n",
       " 'by']"
      ]
     },
     "execution_count": 8,
     "metadata": {},
     "output_type": "execute_result"
    }
   ],
   "source": [
    "print(type(tokens))\n",
    "print(len(tokens))\n",
    "tokens[:10]"
   ]
  },
  {
   "cell_type": "markdown",
   "metadata": {},
   "source": [
    "Notice that NLTK was needed for tokenization, but not for any of the earlier tasks of opening a URL and reading it into a string. If we now take the further step of creating an NLTK text from this list, we can carry out all of the other linguistic processing we saw in 1., along with the regular list operations like slicing:\n",
    "\n"
   ]
  },
  {
   "cell_type": "code",
   "execution_count": 9,
   "metadata": {},
   "outputs": [
    {
     "data": {
      "text/plain": [
       "nltk.text.Text"
      ]
     },
     "execution_count": 9,
     "metadata": {},
     "output_type": "execute_result"
    }
   ],
   "source": [
    "text=nltk.Text(tokens)\n",
    "type(text)"
   ]
  },
  {
   "cell_type": "code",
   "execution_count": 10,
   "metadata": {},
   "outputs": [
    {
     "name": "stdout",
     "output_type": "stream",
     "text": [
      "['CHAPTER', 'I', 'On', 'an', 'exceptionally', 'hot', 'evening', 'early', 'in', 'July', 'a', 'young', 'man', 'came', 'out', 'of', 'the', 'garret', 'in', 'which', 'he', 'lodged', 'in', 'S.', 'Place', 'and', 'walked', 'slowly', ',', 'as', 'though', 'in', 'hesitation', ',', 'towards', 'K.', 'bridge', '.']\n"
     ]
    }
   ],
   "source": [
    "print(text[1024:1062])"
   ]
  },
  {
   "cell_type": "code",
   "execution_count": 11,
   "metadata": {},
   "outputs": [
    {
     "name": "stdout",
     "output_type": "stream",
     "text": [
      "Katerina Ivanovna; Pyotr Petrovitch; Pulcheria Alexandrovna; Avdotya\n",
      "Romanovna; Rodion Romanovitch; Marfa Petrovna; Sofya Semyonovna; old\n",
      "woman; Project Gutenberg-tm; Porfiry Petrovitch; Amalia Ivanovna;\n",
      "great deal; Nikodim Fomitch; young man; Ilya Petrovitch; n't know;\n",
      "Project Gutenberg; Dmitri Prokofitch; Andrey Semyonovitch; Hay Market\n",
      "None\n"
     ]
    }
   ],
   "source": [
    "print(text.collocations()) #Collocations are expressions of multiple words which commonly co-occur"
   ]
  },
  {
   "cell_type": "markdown",
   "metadata": {},
   "source": [
    "Notice that Project Gutenberg appears as a collocation. This is because each text downloaded from Project Gutenberg contains a header with the name of the text, the author, the names of people who scanned and corrected the text, a license, and so on. Sometimes this information appears in a footer at the end of the file. We cannot reliably detect where the content begins and ends, and so have to resort to manual inspection of the file, to discover unique strings that mark the beginning and the end, before trimming raw to be just the content and nothing else:\n",
    "\n"
   ]
  },
  {
   "cell_type": "code",
   "execution_count": 12,
   "metadata": {},
   "outputs": [
    {
     "data": {
      "text/plain": [
       "5338"
      ]
     },
     "execution_count": 12,
     "metadata": {},
     "output_type": "execute_result"
    }
   ],
   "source": [
    "raw.find(\"PART I\")"
   ]
  },
  {
   "cell_type": "code",
   "execution_count": 13,
   "metadata": {},
   "outputs": [
    {
     "data": {
      "text/plain": [
       "1157746"
      ]
     },
     "execution_count": 13,
     "metadata": {},
     "output_type": "execute_result"
    }
   ],
   "source": [
    "raw.rfind(\"End of Project Gutenberg's Crime\")"
   ]
  },
  {
   "cell_type": "code",
   "execution_count": 14,
   "metadata": {},
   "outputs": [
    {
     "data": {
      "text/plain": [
       "0"
      ]
     },
     "execution_count": 14,
     "metadata": {},
     "output_type": "execute_result"
    }
   ],
   "source": [
    "raw = raw[5338:1157743] #[1]\n",
    "raw.find(\"PART I\")"
   ]
  },
  {
   "cell_type": "markdown",
   "metadata": {},
   "source": [
    "The find() and rfind() (\"reverse find\") methods help us get the right index values to use for slicing the string [1]. We overwrite raw with this slice, so now it begins with \"PART I\" and goes up to (but not including) the phrase that marks the end of the content.\n",
    "\n",
    "This was our first brush with the reality of the web: texts found on the web may contain unwanted material, and there may not be an automatic way to remove it. But with a small amount of extra work we can extract the material we need."
   ]
  },
  {
   "cell_type": "markdown",
   "metadata": {},
   "source": [
    "#### Dealing with HTML\n",
    "\n"
   ]
  },
  {
   "cell_type": "markdown",
   "metadata": {},
   "source": [
    "Much of the text on the web is in the form of HTML documents. You can use a web browser to save a page as text to a local file, then access this as described in the section on files below. However, if you're going to do this often, it's easiest to get Python to do the work directly. The first step is the same as before, using urlopen. For fun we'll pick a BBC News story called Blondes to die out in 200 years, an urban legend passed along by the BBC as established scientific fact:\n",
    "\n"
   ]
  },
  {
   "cell_type": "code",
   "execution_count": 15,
   "metadata": {},
   "outputs": [
    {
     "data": {
      "text/plain": [
       "'<!doctype html public \"-//W3C//DTD HTML 4.0 Transitional//EN'"
      ]
     },
     "execution_count": 15,
     "metadata": {},
     "output_type": "execute_result"
    }
   ],
   "source": [
    "url = \"http://news.bbc.co.uk/2/hi/health/2284783.stm\"\n",
    "html = request.urlopen(url).read().decode('utf8')\n",
    "html[:60]"
   ]
  },
  {
   "cell_type": "markdown",
   "metadata": {},
   "source": [
    "You can type print(html) to see the HTML content in all its glory, including meta tags, an image map, JavaScript, forms, and tables.\n",
    "\n"
   ]
  },
  {
   "cell_type": "code",
   "execution_count": 16,
   "metadata": {},
   "outputs": [
    {
     "name": "stdout",
     "output_type": "stream",
     "text": [
      "<!doctype html public \"-//W3C//DTD HTML 4.0 Transitional//EN\" \"http://www.w3.org/TR/REC-html40/loose.dtd\">\r\n",
      "<html>\r\n",
      "<head>\r\n",
      "<title>BBC NEWS | Health | Blondes 'to die out in 200 years'</title>\r\n",
      "<meta name=\"keywords\" content=\"BBC, News, BBC News, news online, world, uk, international, foreign, british, online, service\">\r\n",
      "<meta name=\"OriginalPublicationDate\" content=\"2002/09/27 11:51:55\">\r\n",
      "<meta name=\"UKFS_URL\" content=\"/1/hi/health/2284783.stm\">\r\n",
      "<meta name=\"IFS_URL\" content=\"/2/hi/health/2284783.stm\">\r\n",
      "<meta name=\"HTTP-EQUIV\" content=\"text/html;charset=iso-8859-1\">\r\n",
      "<meta name=\"Headline\" content=\"Blondes 'to die out in 200 years'\">\r\n",
      "<meta name=\"Section\" content=\"Health\">\r\n",
      "<meta name=\"Description\" content=\"Natural blondes are an endangered species and will die out by 2202, a study suggests.\">\r\n",
      "<!-- GENMaps-->\r\n",
      "<map name=\"banner\">\r\n",
      "<area alt=\"BBC NEWS\" coords=\"7,9,167,32\" href=\"http://news.bbc.co.uk/1/hi.html\" shape=\"RECT\">\r\n",
      "</map>\r\n",
      "\r\n",
      "<script src=\"/nol/shared/js/livestats_v1_1.js\" language=\"JavaScript\" type=\"text/javascript\"></script>\r\n",
      "\r\n",
      "\r\n",
      "\r\n",
      "\r\n",
      "\r\n",
      "\r\n",
      "\r\n",
      "\r\n",
      "\r\n",
      "\r\n",
      "\r\n",
      "\r\n",
      "\r\n",
      "<link type=\"text/css\" rel=\"stylesheet\" href=\"/nol/shared/stylesheets/uki_globalstylesheet.css\">\r\n",
      "<script src=\"/nol/shared/js_ifs/nol.js\" language=\"JavaScript\"></script>\r\n",
      "</head>\r\n",
      "\r\n",
      "<body bgcolor=\"#FFFFFF\" text=\"#000000\" link=\"#000066\" alink=\"#000066\" vlink=\"#993333\" topmargin=\"0\" leftmargin=\"0\" marginheight=\"0\" marginwidth=\"0\">\r\n",
      "<!--[START]--(( BBCi TOOLBAR )) IFS News -->\r\n",
      "<table width=\"610\" cellpadding=\"0\" cellspacing=\"0\" border=\"0\">\r\n",
      "<tr>\r\n",
      "<td class=\"bbcpageShadow\"><a name=\"top\"><img src=\"/nol/shared/img/global_toolbar/t.gif\" width=\"600\" height=\"2\" alt=\"\"/></a></td>\r\n",
      "</tr>\r\n",
      "\t\t<form action=\"http://search.bbc.co.uk/cgi-bin/search/results.pl\" accept-Charset=\"UTF-8\">\r\n",
      "\t\t<input type=\"hidden\" name=\"scope\" value=\"all\" />\r\n",
      "\t\t<input type=\"hidden\" name=\"edition\" value=\"d\" />\r\n",
      "<tr>\r\n",
      "<td class=\"bbcpageGrey\">\r\n",
      "<table cellpadding=\"0\" cellspacing=\"0\" border=\"0\">\r\n",
      "<tr>\r\n",
      "<td class=\"bbcpageShadowLeft\" width=\"100%\"><a href=\"http://www.bbc.co.uk/\"><img src=\"/nol/shared/img/global_toolbar/logo.gif\" width=\"62\" height=\"20\" alt=\"BBCi\" border=\"0\" hspace=\"7\" vspace=\"2\" /></a></td>\r\n",
      "<td class=\"bbcpageGreyT\" align=\"right\"><FONT COLOR=\"#000000\"><font face=\"tahoma,arial,helvetica,sans-serif\" size=\"1\" class=\"bbcpageWhite\"><b><a href=\"http://www.bbc.co.uk/categories/\" class=\"bbcpageWhite\">CATEGORIES</a></b></font></td>\r\n",
      "<td class=\"bbcpageBar\"><font face=\"tahoma,arial,helvetica,sans-serif\" size=\"1\" class=\"bbcpageWhite\">&nbsp;&nbsp;<b><a href=\"http://www.bbc.co.uk/tv/\" class=\"bbcpageWhite\">TV</a></b></font></td>\r\n",
      "<td class=\"bbcpageBar2\"><font face=\"tahoma,arial,helvetica,sans-serif\" size=\"1\" class=\"bbcpageWhite\">&nbsp;&nbsp;<b><a href=\"http://www.bbc.co.uk/radio/\" class=\"bbcpageWhite\">RADIO</a></b></font></td>\r\n",
      "<td class=\"bbcpageBar\"><font face=\"tahoma,arial,helvetica,sans-serif\" size=\"1\" class=\"bbcpageWhite\">&nbsp;&nbsp;<b><a href=\"http://www.bbc.co.uk/communicate/\" class=\"bbcpageWhite\">COMMUNICATE</a></b></font></td>\r\n",
      "<td class=\"bbcpageBar2\"><font face=\"tahoma,arial,helvetica,sans-serif\" size=\"1\" class=\"bbcpageWhite\">&nbsp;&nbsp;<b><a href=\"http://www.bbc.co.uk/whereilive/\" class=\"bbcpageWhite\">WHERE&nbsp;I&nbsp;LIVE</a></b></font></td>\r\n",
      "<td class=\"bbcpageBar\"><font face=\"tahoma,arial,helvetica,sans-serif\" size=\"1\" class=\"bbcpageWhite\">&nbsp;&nbsp;<b><a href=\"http://www.bbc.co.uk/a-z/\" class=\"bbcpageWhite\">INDEX</a>&nbsp;</b></font></td>\r\n",
      "<td class=\"bbcpageSearchL\"><img src=\"/shared/img/o.gif\" width=\"2\" height=\"30\" alt=\"\" /></td>\r\n",
      "<td class=\"bbcpageSearch\"><font face=\"tahoma,arial,helvetica,sans-serif\" size=\"1\" class=\"bbcpageCream\">&nbsp;&nbsp;<!-- <label for=\"bbcpagesearchbox\"> --><b>SEARCH</b><!-- </label> -->&nbsp;</font></td>\r\n",
      "<td class=\"bbcpageSearch2\" style=\"font-family:tahoma,arial,helvetica,sans-serif;\"><img src=\"/shared/img/o.gif\" width=\"1\" height=\"3\" alt=\"\" /><br /><INPUT type=\"text\" name=\"q\" id=\"bbcpagesearchbox\" size=\"5\" style=\"width:95px;\" /></td>\r\n",
      "<td class=\"bbcpageSearch\"><img src=\"/shared/img/o.gif\" width=\"3\" height=\"1\" alt=\"\" /></td>\r\n",
      "<td class=\"bbcpageSearch2\"><img src=\"/shared/img/o.gif\" width=\"1\" height=\"5\" alt=\"\" /><br /><input type=\"image\" value=\"go\" src=\"/nol/shared/img/global_toolbar/go.gif\" width=\"20\" height=\"16\" border=\"0\" alt=\"Go\" align=\"top\" /></td>\r\n",
      "<td class=\"bbcpageSearch\"><img src=\"/shared/img/o.gif\" width=\"3\" height=\"1\" alt=\"\" /></td>\r\n",
      "<td class=\"bbcpageSearchR\"><img src=\"/shared/img/o.gif\" width=\"1\" height=\"30\" alt=\"\" /></td>\r\n",
      "</tr>\r\n",
      "\r\n",
      "<tr bgcolor=\"#000000\">\r\n",
      "<td><img src=\"/shared/img/o.gif\" width=\"76\" height=\"1\" alt=\"\"/></td>\r\n",
      "<td><img src=\"/shared/img/o.gif\" width=\"76\" height=\"1\" alt=\"\"/></td>\r\n",
      "<td><img src=\"/shared/img/o.gif\" width=\"20\" height=\"1\" alt=\"\"/></td>\r\n",
      "<td><img src=\"/shared/img/o.gif\" width=\"42\" height=\"1\" alt=\"\"/></td>\r\n",
      "<td><img src=\"/shared/img/o.gif\" width=\"86\" height=\"1\" alt=\"\"/></td>\r\n",
      "<td><img src=\"/shared/img/o.gif\" width=\"78\" height=\"1\" alt=\"\"/></td>\r\n",
      "<td><img src=\"/shared/img/o.gif\" width=\"42\" height=\"1\" alt=\"\"/></td>\r\n",
      "<td><img src=\"/shared/img/o.gif\" width=\"2\" height=\"1\" alt=\"\"/></td>\r\n",
      "<td><img src=\"/shared/img/o.gif\" width=\"51\" height=\"1\" alt=\"\"/></td>\r\n",
      "<td><img src=\"/shared/img/o.gif\" width=\"100\" height=\"1\" alt=\"\"/></td>\r\n",
      "<td><img src=\"/shared/img/o.gif\" width=\"3\" height=\"1\" alt=\"\"/></td>\r\n",
      "<td><img src=\"/shared/img/o.gif\" width=\"20\" height=\"1\" alt=\"\"/></td>\r\n",
      "<td><img src=\"/shared/img/o.gif\" width=\"3\" height=\"1\" alt=\"\"/></td>\r\n",
      "<td><img src=\"/shared/img/o.gif\" width=\"1\" height=\"1\" alt=\"\"/></td>\r\n",
      "</tr>\r\n",
      "\r\n",
      "</table></td>\r\n",
      "\r\n",
      "</tr>\r\n",
      "</form>\r\n",
      "</table>\r\n",
      "<!-- end news toolbar 1.0 -->\r\n",
      "<table width=\"610\" cellspacing=\"0\" cellpadding=\"0\" border=\"0\">\r\n",
      "<tr><td bgcolor=\"#9C0000\"><img src=\"/nol/shared/img/banners/ukfs_banner.gif\" width=\"610\" height=\"40\" border=\"0\" alt=\"BBC News UK Edition\" usemap=\"#banner\"></td></tr></table>\r\n",
      "<!--END OF BANNER-->\r\n",
      "\r\n",
      "<table border=\"0\" cellpadding=\"0\" cellspacing=\"0\" width=\"610\">\r\n",
      "<tr>\r\n",
      "<td width=\"10\"><img src=\"/shared/img/o.gif\" width=\"10\" height=\"1\" alt=\"\"></td>\r\n",
      "<td width=\"100\"><img src=\"/shared/img/o.gif\" width=\"100\" height=\"1\" alt=\"\"></td>\r\n",
      "<td width=\"5\"><img src=\"/shared/img/o.gif\" width=\"5\" height=\"1\" alt=\"\"></td>\r\n",
      "<td bgcolor=\"#999966\" width=\"315\"><img src=\"/shared/img/o.gif\" width=\"315\" height=\"1\" alt=\"\"></td>\r\n",
      "<td bgcolor=\"#999966\" width=\"10\"><img src=\"/shared/img/o.gif\" width=\"10\" height=\"1\" alt=\"\"></td>\r\n",
      "<td bgcolor=\"#999966\" width=\"170\"><img src=\"/shared/img/o.gif\" width=\"170\" height=\"1\" alt=\"\"></td>\r\n",
      "</tr>\r\n",
      "\r\n",
      "<tr>\r\n",
      "<td width=\"10\"><img src=\"/shared/img/o.gif\" width=\"10\" height=\"1\" alt=\"\"></td>\r\n",
      "<td width=\"100\"><img src=\"/shared/img/o.gif\" width=\"100\" height=\"1\" alt=\"\"></td>\r\n",
      "<td width=\"5\"><img src=\"/shared/img/o.gif\" width=\"5\" height=\"3\" alt=\"\"></td>\r\n",
      "<td colspan=\"3\" width=\"495\" class=\"crumbtraila\" bgcolor=\"#CCCC99\">\r\n",
      "    &nbsp;You are in:&nbsp;<a href=\"/1/hi/health/default.stm\"><b>Health</b> </a>&nbsp;\r\n",
      "    \r\n",
      "    \r\n",
      "</td>\r\n",
      "</tr>\r\n",
      "<tr>\r\n",
      "<td width=\"10\"><img src=\"/shared/img/o.gif\" width=\"10\" height=\"1\" alt=\"\"></td>\r\n",
      "<td align=\"LEFT\" valign=\"TOP\">\r\n",
      "    \r\n",
      "\t<table width=\"100\" cellspacing=\"0\" cellpadding=\"0\" border=\"0\">\r\n",
      "\t<tr>\r\n",
      "\t<td><img height=\"1\" border=\"0\" width=\"96\" alt=\"\" src=\"http://newsimg.bbc.co.uk/shared/img/o.gif\"></td>\r\n",
      "\t<td><img height=\"1\" border=\"0\" width=\"4\" alt=\"\" src=\"http://newsimg.bbc.co.uk/shared/img/o.gif\"></td>\r\n",
      "\t</tr>\r\n",
      "\t\r\n",
      "\t\r\n",
      "\t\t\r\n",
      "\t\t\r\n",
      "\t\t\t\r\n",
      "\t\t\t\t\r\n",
      "\t\t\t\t\t<tr>\r\n",
      "\t\t\t\t\t<td bgColor=\"#FFFFFF\" class=\"sectionStyleTight\" align=\"right\"><a href=\"/1/hi/default.stm\" class=\"index\"><b>News Front Page</b></a></td><td bgcolor=\"#FFFFFF\"><img height=\"1\" width=\"1\" alt=\"\" src=\"http://newsimg.bbc.co.uk/shared/img/o.gif\"></td>\r\n",
      "\t\t\t\t\t</tr>\r\n",
      "\t\t\t\t\r\n",
      "\t\t\t\t\r\n",
      "\t\t\t\t\r\n",
      "\t\t\t\t\r\n",
      "\t\t\t\r\n",
      "\t\t\t\r\n",
      "\t\t\r\n",
      "\t\r\n",
      "\r\n",
      "\t\r\n",
      "\r\n",
      "\t\r\n",
      "\t\t\r\n",
      "\t\t\r\n",
      "\t\t\t\r\n",
      "\t\t\t\t\r\n",
      "\t\t\t\t\t<tr>\r\n",
      "\t\t\t\t\t<td bgColor=\"#FFFFFF\" class=\"sectionStyle\" align=\"right\"><a href=\"/1/hi/world/default.stm\" class=\"index\"><b>World</b></a></td><td bgcolor=\"#FFFFFF\"><img height=\"1\" width=\"1\" alt=\"\" src=\"http://newsimg.bbc.co.uk/shared/img/o.gif\"></td>\r\n",
      "\t\t\t\t\t</tr>\r\n",
      "\t\t\t\t\r\n",
      "\t\t\t\t\r\n",
      "\t\t\t\t\r\n",
      "\t\t\t\t\r\n",
      "\t\t\t\r\n",
      "\t\t\t\r\n",
      "\t\t\r\n",
      "\t\r\n",
      "\r\n",
      "\t\r\n",
      "\r\n",
      "\t\r\n",
      "\t\t\r\n",
      "\t\t\r\n",
      "\t\t\t\r\n",
      "\t\t\t\t\r\n",
      "\t\t\t\t\t<tr>\r\n",
      "\t\t\t\t\t<td bgColor=\"#FFFFFF\" class=\"sectionStyle\" align=\"right\"><a href=\"/1/hi/uk/default.stm\" class=\"index\"><b>UK</b></a></td><td bgcolor=\"#FFFFFF\"><img height=\"1\" width=\"1\" alt=\"\" src=\"http://newsimg.bbc.co.uk/shared/img/o.gif\"></td>\r\n",
      "\t\t\t\t\t</tr>\r\n",
      "\t\t\t\t\r\n",
      "\t\t\t\t\r\n",
      "\t\t\t\t\r\n",
      "\t\t\t\t\r\n",
      "\t\t\t\r\n",
      "\t\t\t\r\n",
      "\t\t\r\n",
      "\t\r\n",
      "\r\n",
      "\t\r\n",
      "\r\n",
      "\t\r\n",
      "\t\t\r\n",
      "\t\t\r\n",
      "\t\t\t\r\n",
      "\t\t\t\t\r\n",
      "\t\t\t\t\t<tr>\r\n",
      "\t\t\t\t\t<td bgColor=\"#FFFFFF\" class=\"sectionStyle\" align=\"right\"><a href=\"/1/hi/england/default.stm\" class=\"index\"><b>England</b></a></td><td bgcolor=\"#FFFFFF\"><img height=\"1\" width=\"1\" alt=\"\" src=\"http://newsimg.bbc.co.uk/shared/img/o.gif\"></td>\r\n",
      "\t\t\t\t\t</tr>\r\n",
      "\t\t\t\t\r\n",
      "\t\t\t\t\r\n",
      "\t\t\t\t\r\n",
      "\t\t\t\t\r\n",
      "\t\t\t\r\n",
      "\t\t\t\r\n",
      "\t\t\r\n",
      "\t\r\n",
      "\r\n",
      "\t\r\n",
      "\r\n",
      "\t\r\n",
      "\t\t\r\n",
      "\t\t\r\n",
      "\t\t\t\r\n",
      "\t\t\t\t\r\n",
      "\t\t\t\t\t<tr>\r\n",
      "\t\t\t\t\t<td bgColor=\"#FFFFFF\" class=\"sectionStyle\" align=\"right\"><a href=\"/1/hi/northern_ireland/default.stm\" class=\"index\"><b>N Ireland</b></a></td><td bgcolor=\"#FFFFFF\"><img height=\"1\" width=\"1\" alt=\"\" src=\"http://newsimg.bbc.co.uk/shared/img/o.gif\"></td>\r\n",
      "\t\t\t\t\t</tr>\r\n",
      "\t\t\t\t\r\n",
      "\t\t\t\t\r\n",
      "\t\t\t\t\r\n",
      "\t\t\t\t\r\n",
      "\t\t\t\r\n",
      "\t\t\t\r\n",
      "\t\t\r\n",
      "\t\r\n",
      "\r\n",
      "\t\r\n",
      "\r\n",
      "\t\r\n",
      "\t\t\r\n",
      "\t\t\r\n",
      "\t\t\t\r\n",
      "\t\t\t\t\r\n",
      "\t\t\t\t\t<tr>\r\n",
      "\t\t\t\t\t<td bgColor=\"#FFFFFF\" class=\"sectionStyle\" align=\"right\"><a href=\"/1/hi/scotland/default.stm\" class=\"index\"><b>Scotland</b></a></td><td bgcolor=\"#FFFFFF\"><img height=\"1\" width=\"1\" alt=\"\" src=\"http://newsimg.bbc.co.uk/shared/img/o.gif\"></td>\r\n",
      "\t\t\t\t\t</tr>\r\n",
      "\t\t\t\t\r\n",
      "\t\t\t\t\r\n",
      "\t\t\t\t\r\n",
      "\t\t\t\t\r\n",
      "\t\t\t\r\n",
      "\t\t\t\r\n",
      "\t\t\r\n",
      "\t\r\n",
      "\r\n",
      "\t\r\n",
      "\r\n",
      "\t\r\n",
      "\t\t\r\n",
      "\t\t\r\n",
      "\t\t\t\r\n",
      "\t\t\t\t\r\n",
      "\t\t\t\t\t<tr>\r\n",
      "\t\t\t\t\t<td bgColor=\"#FFFFFF\" class=\"sectionStyle\" align=\"right\"><a href=\"/1/hi/wales/default.stm\" class=\"index\"><b>Wales</b></a></td><td bgcolor=\"#FFFFFF\"><img height=\"1\" width=\"1\" alt=\"\" src=\"http://newsimg.bbc.co.uk/shared/img/o.gif\"></td>\r\n",
      "\t\t\t\t\t</tr>\r\n",
      "\t\t\t\t\r\n",
      "\t\t\t\t\r\n",
      "\t\t\t\t\r\n",
      "\t\t\t\t\r\n",
      "\t\t\t\r\n",
      "\t\t\t\r\n",
      "\t\t\r\n",
      "\t\r\n",
      "\r\n",
      "\t\r\n",
      "\r\n",
      "\t\r\n",
      "\t\t\r\n",
      "\t\t\r\n",
      "\t\t\t\r\n",
      "\t\t\t\t\r\n",
      "\t\t\t\t\t<tr>\r\n",
      "\t\t\t\t\t<td bgColor=\"#FFFFFF\" class=\"sectionStyle\" align=\"right\"><a href=\"/1/hi/uk_politics/default.stm\" class=\"index\"><b>Politics</b></a></td><td bgcolor=\"#FFFFFF\"><img height=\"1\" width=\"1\" alt=\"\" src=\"http://newsimg.bbc.co.uk/shared/img/o.gif\"></td>\r\n",
      "\t\t\t\t\t</tr>\r\n",
      "\t\t\t\t\r\n",
      "\t\t\t\t\r\n",
      "\t\t\t\t\r\n",
      "\t\t\t\t\r\n",
      "\t\t\t\r\n",
      "\t\t\t\r\n",
      "\t\t\r\n",
      "\t\r\n",
      "\r\n",
      "\t\r\n",
      "\r\n",
      "\t\r\n",
      "\t\t\r\n",
      "\t\t\r\n",
      "\t\t\t\r\n",
      "\t\t\t\t\r\n",
      "\t\t\t\t\t<tr>\r\n",
      "\t\t\t\t\t<td bgColor=\"#FFFFFF\" class=\"sectionStyle\" align=\"right\"><a href=\"/1/hi/business/default.stm\" class=\"index\"><b>Business</b></a></td><td bgcolor=\"#FFFFFF\"><img height=\"1\" width=\"1\" alt=\"\" src=\"http://newsimg.bbc.co.uk/shared/img/o.gif\"></td>\r\n",
      "\t\t\t\t\t</tr>\r\n",
      "\t\t\t\t\r\n",
      "\t\t\t\t\r\n",
      "\t\t\t\t\r\n",
      "\t\t\t\t\r\n",
      "\t\t\t\r\n",
      "\t\t\t\r\n",
      "\t\t\r\n",
      "\t\r\n",
      "\r\n",
      "\t\r\n",
      "\r\n",
      "\t\r\n",
      "\t\t\r\n",
      "\t\t\r\n",
      "\t\t\t\r\n",
      "\t\t\t\t\r\n",
      "\t\t\t\t\t<tr>\r\n",
      "\t\t\t\t\t<td bgColor=\"#FFFFFF\" class=\"sectionStyleTight\" align=\"right\"><a href=\"/1/hi/entertainment/default.stm\" class=\"index\"><b>Entertainment</b></a></td><td bgcolor=\"#FFFFFF\"><img height=\"1\" width=\"1\" alt=\"\" src=\"http://newsimg.bbc.co.uk/shared/img/o.gif\"></td>\r\n",
      "\t\t\t\t\t</tr>\r\n",
      "\t\t\t\t\r\n",
      "\t\t\t\t\r\n",
      "\t\t\t\t\r\n",
      "\t\t\t\t\r\n",
      "\t\t\t\r\n",
      "\t\t\t\r\n",
      "\t\t\r\n",
      "\t\r\n",
      "\r\n",
      "\t\r\n",
      "\r\n",
      "\t\r\n",
      "\t\t\r\n",
      "\t\t\r\n",
      "\t\t\t\r\n",
      "\t\t\t\t\r\n",
      "\t\t\t\t\t<tr>\r\n",
      "\t\t\t\t\t<td bgColor=\"#FFFFFF\" class=\"sectionStyleTight\" align=\"right\"><a href=\"/1/hi/sci/tech/default.stm\" class=\"index\"><b>Science/Nature</b></a></td><td bgcolor=\"#FFFFFF\"><img height=\"1\" width=\"1\" alt=\"\" src=\"http://newsimg.bbc.co.uk/shared/img/o.gif\"></td>\r\n",
      "\t\t\t\t\t</tr>\r\n",
      "\t\t\t\t\r\n",
      "\t\t\t\t\r\n",
      "\t\t\t\t\r\n",
      "\t\t\t\t\r\n",
      "\t\t\t\r\n",
      "\t\t\t\r\n",
      "\t\t\r\n",
      "\t\r\n",
      "\r\n",
      "\t\r\n",
      "\r\n",
      "\t\r\n",
      "\t\t\r\n",
      "\t\t\r\n",
      "\t\t\t\r\n",
      "\t\t\t\t\r\n",
      "\t\t\t\t\t<tr>\r\n",
      "\t\t\t\t\t<td bgColor=\"#FFFFFF\" class=\"sectionStyle\" align=\"right\"><a href=\"/1/hi/technology/default.stm\" class=\"index\"><b>Technology</b></a></td><td bgcolor=\"#FFFFFF\"><img height=\"1\" width=\"1\" alt=\"\" src=\"http://newsimg.bbc.co.uk/shared/img/o.gif\"></td>\r\n",
      "\t\t\t\t\t</tr>\r\n",
      "\t\t\t\t\r\n",
      "\t\t\t\t\r\n",
      "\t\t\t\t\r\n",
      "\t\t\t\t\r\n",
      "\t\t\t\r\n",
      "\t\t\t\r\n",
      "\t\t\r\n",
      "\t\r\n",
      "\r\n",
      "\t\r\n",
      "\r\n",
      "\t\r\n",
      "\t\t\r\n",
      "\t\t\r\n",
      "\t\t\t\r\n",
      "\t\t\t\t\r\n",
      "\t\t\t\t\r\n",
      "\t\t\t\t\t<tr>\r\n",
      "\t\t\t\t\t<td bgColor=\"#999999\" class=\"sectionStyle\" align=\"right\"><a href=\"/1/hi/health/default.stm\" class=\"index\"><b>Health</b></a></td><td bgColor=\"#CC3300\"><img height=\"1\" width=\"1\" alt=\"\" src=\"http://newsimg.bbc.co.uk/shared/img/o.gif\"></td>\r\n",
      "\t\t\t\t\t</tr>\r\n",
      "\t\t\t\t\t\r\n",
      "\t\r\n",
      "\t\t\r\n",
      "\t\t\r\n",
      "\t\t\t\r\n",
      "\t\t\t\r\n",
      "\t\t\t\t\r\n",
      "\t\t\t\t\r\n",
      "\t\t\t\t\t<tr>\r\n",
      "\t\t\t\t\t<td bgColor=\"#CCCCCC\" align=\"right\" class=\"sectionStyle\"><a href=\"/1/hi/health/medical_notes/default.stm\" class=\"index\"><b>Medical notes</b></a></td><td bgcolor=\"#CCCCCC\"><img height=\"1\" width=\"1\" alt=\"\" src=\"http://newsimg.bbc.co.uk/shared/img/o.gif\"></td>\r\n",
      "\t\t\t\t\t</tr>\r\n",
      "\t\t\t\t\r\n",
      "\t\t\t\t\r\n",
      "\t\t\t\t\r\n",
      "\t\t\t\r\n",
      "\t\t\r\n",
      "\t\r\n",
      "\r\n",
      "\t\r\n",
      "\r\n",
      "\t\t\t\t\r\n",
      "\t\t\t\t\r\n",
      "\t\t\t\t\r\n",
      "\t\t\t\r\n",
      "\t\t\t\r\n",
      "\t\t\r\n",
      "\t\r\n",
      "\r\n",
      "\t\r\n",
      "\r\n",
      "\t\r\n",
      "\t\t\r\n",
      "\t\t\r\n",
      "\t\t\t\r\n",
      "\t\t\t\t\r\n",
      "\t\t\t\t\t<tr>\r\n",
      "\t\t\t\t\t<td bgColor=\"#FFFFFF\" class=\"sectionStyle\" align=\"right\"><a href=\"/1/hi/education/default.stm\" class=\"index\"><b>Education</b></a></td><td bgcolor=\"#FFFFFF\"><img height=\"1\" width=\"1\" alt=\"\" src=\"http://newsimg.bbc.co.uk/shared/img/o.gif\"></td>\r\n",
      "\t\t\t\t\t</tr>\r\n",
      "\t\t\t\t\r\n",
      "\t\t\t\t\r\n",
      "\t\t\t\t\r\n",
      "\t\t\t\t\r\n",
      "\t\t\t\t\t<tr>\r\n",
      "\t\t\t\t\t<td align=\"CENTER\" colspan=\"2\"><span class=\"lhsNavSeparator\">-------------</span></td>\r\n",
      "\t\t\t\t\t</tr>\r\n",
      "\t\t\t\t\r\n",
      "\t\t\t\r\n",
      "\t\t\t\r\n",
      "\t\t\r\n",
      "\t\r\n",
      "\r\n",
      "\t\r\n",
      "\r\n",
      "\t\r\n",
      "\t\t\r\n",
      "\t\t\r\n",
      "\t\t\t\r\n",
      "\t\t\t\t\r\n",
      "\t\t\t\t\t<tr>\r\n",
      "\t\t\t\t\t<td bgColor=\"#FFFFFF\" class=\"sectionStyle\" align=\"right\"><a href=\"/1/hi/talking_point/default.stm\" class=\"index\"><b>Talking Point</b></a></td><td bgcolor=\"#FFFFFF\"><img height=\"1\" width=\"1\" alt=\"\" src=\"http://newsimg.bbc.co.uk/shared/img/o.gif\"></td>\r\n",
      "\t\t\t\t\t</tr>\r\n",
      "\t\t\t\t\r\n",
      "\t\t\t\t\r\n",
      "\t\t\t\t\r\n",
      "\t\t\t\t\r\n",
      "\t\t\t\t\t<tr>\r\n",
      "\t\t\t\t\t<td align=\"CENTER\" colspan=\"2\"><span class=\"lhsNavSeparator\">-------------</span></td>\r\n",
      "\t\t\t\t\t</tr>\r\n",
      "\t\t\t\t\r\n",
      "\t\t\t\r\n",
      "\t\t\t\r\n",
      "\t\t\r\n",
      "\t\r\n",
      "\r\n",
      "\t\r\n",
      "\r\n",
      "\t\r\n",
      "\t\t\r\n",
      "\t\t\t\r\n",
      "\t\t\t\t<tr>\r\n",
      "\t\t\t\t<td bgColor=\"#FFFFFF\" class=\"sectionStyleTight\" align=\"right\"><a href=\"/1/shared/bsp/hi/country_profiles/html/default.stm\" class=\"index\"><b>Country Profiles</b></a></td><td bgcolor=\"#FFFFFF\"><img height=\"1\" width=\"1\" alt=\"\" src=\"http://newsimg.bbc.co.uk/shared/img/o.gif\"></td>\r\n",
      "\t\t\t\t</tr>\r\n",
      "\t\t\t\r\n",
      "\t\t\t\r\n",
      "\t\t\t\r\n",
      "\t\t\r\n",
      "\t\t\r\n",
      "\t\r\n",
      "\r\n",
      "\t\r\n",
      "\r\n",
      "\t\r\n",
      "\t\t\r\n",
      "\t\t\t\r\n",
      "\t\t\t\t<tr>\r\n",
      "\t\t\t\t<td bgColor=\"#FFFFFF\" class=\"sectionStyle\" align=\"right\"><a href=\"/1/shared/bsp/hi/in_depth/html/default.stm\" class=\"index\"><b>In Depth</b></a></td><td bgcolor=\"#FFFFFF\"><img height=\"1\" width=\"1\" alt=\"\" src=\"http://newsimg.bbc.co.uk/shared/img/o.gif\"></td>\r\n",
      "\t\t\t\t</tr>\r\n",
      "\t\t\t\r\n",
      "\t\t\t\r\n",
      "\t\t\t\r\n",
      "\t\t\t\t<tr>\r\n",
      "\t\t\t\t<td align=\"CENTER\" colspan=\"2\"><span class=\"lhsNavSeparator\">-------------</span></td>\r\n",
      "\t\t\t\t</tr>\r\n",
      "\t\t\t\r\n",
      "\t\t\r\n",
      "\t\t\r\n",
      "\t\r\n",
      "\r\n",
      "\t\r\n",
      "\r\n",
      "\t\r\n",
      "\t\t\r\n",
      "\t\t\r\n",
      "\t\t\t\r\n",
      "\t\t\t\t\r\n",
      "\t\t\t\t\t<tr>\r\n",
      "\t\t\t\t\t<td bgColor=\"#FFFFFF\" class=\"sectionStyle\" align=\"right\"><a href=\"/1/hi/programmes/default.stm\" class=\"index\"><b>Programmes</b></a></td><td bgcolor=\"#FFFFFF\"><img height=\"1\" width=\"1\" alt=\"\" src=\"http://newsimg.bbc.co.uk/shared/img/o.gif\"></td>\r\n",
      "\t\t\t\t\t</tr>\r\n",
      "\t\t\t\t\r\n",
      "\t\t\t\t\r\n",
      "\t\t\t\t\r\n",
      "\t\t\t\t\r\n",
      "\t\t\t\t\t<tr>\r\n",
      "\t\t\t\t\t<td align=\"CENTER\" colspan=\"2\"><span class=\"lhsNavSeparator\">-------------</span></td>\r\n",
      "\t\t\t\t\t</tr>\r\n",
      "\t\t\t\t\r\n",
      "\t\t\t\r\n",
      "\t\t\t\r\n",
      "\t\t\r\n",
      "\t\r\n",
      "\r\n",
      "\t\r\n",
      "\r\n",
      "\t<tr><td colspan=\"2\"><img height=\"5\" border=\"0\" width=\"1\" alt=\"\" src=\"http://newsimg.bbc.co.uk/shared/img/o.gif\"></td></tr>\r\n",
      "\t</table>\r\n",
      "\r\n",
      "\r\n",
      "\r\n",
      "    \r\n",
      "    \r\n",
      "\r\n",
      "\r\n",
      "<table width=\"100\" cellspacing=\"0\" cellpadding=\"0\" border=\"0\">\r\n",
      "<tr>\r\n",
      "<td><a href=\"/sport1/hi/default.stm\"><img src=\"/nol/shared/img/nav/sport.gif\" width=\"100\" height=\"13\" alt=\"BBC Sport\" border=\"0\"></a></td>\r\n",
      "</tr>\r\n",
      "<tr>\r\n",
      "<td><img src=\"/shared/img/o.gif\" height=\"3\" width=\"1\" border=\"0\"></td>\r\n",
      "</tr>\r\n",
      "<tr>\r\n",
      "<td><a href=\"http://www.bbc.co.uk/weather/\"><img src=\"/nol/shared/img/nav/weather.gif\" width=\"100\" height=\"13\" alt=\"BBC Weather\" border=\"0\"></a></td>\r\n",
      "</tr>\r\n",
      "<tr>\r\n",
      "<td><img src=\"/shared/img/o.gif\" height=\"3\" width=\"1\" border=\"0\"></td>\r\n",
      "</tr>\r\n",
      "<tr>\r\n",
      "<td><a href=\"/cbbcnews/default.stm\"><img src=\"/nol/shared/img/nav/cbbc.gif\" width=\"100\" height=\"13\" alt=\"CBBC News\" border=\"0\"></a></td>\r\n",
      "</tr>\r\n",
      "<tr>\r\n",
      "<td><img src=\"/shared/img/o.gif\" height=\"10\" width=\"1\" border=\"0\"></td>\r\n",
      "</tr>\r\n",
      "</table>\r\n",
      "\r\n",
      "<table width=\"100\" cellspacing=\"0\" cellpadding=\"0\" border=\"0\">\r\n",
      "<tr bgcolor=\"#990000\">\r\n",
      "<td><img src=\"/shared/img/o.gif\" width=\"1\" height=\"1\" alt=\"\"></td>\r\n",
      "<td><img src=\"/shared/img/o.gif\" width=\"3\" height=\"1\" alt=\"\"></td>\r\n",
      "<td><img src=\"/shared/img/o.gif\" width=\"90\" height=\"1\" alt=\"\"></td>\r\n",
      "<td><img src=\"/shared/img/o.gif\" width=\"5\" height=\"1\" alt=\"\"></td>\r\n",
      "<td><img src=\"/shared/img/o.gif\" width=\"1\" height=\"1\" alt=\"\"></td>\r\n",
      "</tr>\r\n",
      "<tr bgcolor=\"#990000\">\r\n",
      "<td colspan=\"3\" align=\"right\" valign=\"top\"><div class=\"servicehead\">SERVICES</div></td>\r\n",
      "<td><img src=\"/shared/img/o.gif\" width=\"5\" height=\"2\" alt=\"\" vspace=\"5\"></td>\r\n",
      "<td><img src=\"/shared/img/o.gif\" width=\"1\" height=\"1\" alt=\"\"></td>\r\n",
      "</tr>\r\n",
      "<tr>\r\n",
      "<td bgcolor=\"#CCCCCC\"><img src=\"/shared/img/o.gif\" width=\"1\" height=\"1\" alt=\"\"></td>\r\n",
      "<td class=\"servicebg1\"><img src=\"/shared/img/o.gif\" width=\"3\" height=\"1\" alt=\"\"></td>\r\n",
      "<td align=\"right\" class=\"servicebg1\"><div class=\"servicesnav\"><a href=\"http://www.bbc.co.uk/email/news\">Daily E-mail\r\n",
      "</a></div></td>\r\n",
      "<td class=\"serviceoption1\"><img src=\"/shared/img/o.gif\" width=\"5\" height=\"1\" alt=\"\"></td>\r\n",
      "<td bgcolor=\"#CCCCCC\"><img src=\"/shared/img/o.gif\" width=\"1\" height=\"1\" alt=\"\"></td>\r\n",
      "</tr> \r\n",
      "<tr>\r\n",
      "<td bgcolor=\"#CCCCCC\"><img src=\"/shared/img/o.gif\" width=\"1\" height=\"1\" alt=\"\"></td>\r\n",
      "<td class=\"servicebg2\"><img src=\"/shared/img/o.gif\" width=\"3\" height=\"1\" alt=\"\"></td>\r\n",
      "<td align=\"right\" class=\"servicebg2\"><div class=\"servicesnav\"><a href=\"/1/shared/bsp/hi/services/ticker/html/default.stm\">News Ticker\r\n",
      "</a></div></td>\r\n",
      "<td class=\"serviceoption2\"><img src=\"/shared/img/o.gif\" width=\"5\" height=\"1\" alt=\"\"></td>\r\n",
      "<td bgcolor=\"#CCCCCC\"><img src=\"/shared/img/o.gif\" width=\"1\" height=\"1\" alt=\"\"></td>\r\n",
      "</tr>\r\n",
      "<tr>\r\n",
      "<td bgcolor=\"#CCCCCC\"><img src=\"/shared/img/o.gif\" width=\"1\" height=\"1\" alt=\"\"></td>\r\n",
      "<td class=\"servicebg3\"><img src=\"/shared/img/o.gif\" width=\"3\" height=\"1\" alt=\"\"></td>\r\n",
      "<td align=\"right\" class=\"servicebg3\"><div class=\"servicesnav\"><a href=\"/1/shared/bsp/hi/services/mobiles/html/default.stm\">Mobile/PDAs\r\n",
      "</a></div></td>\r\n",
      "<td class=\"serviceoption3\"><img src=\"/shared/img/o.gif\" width=\"5\" height=\"1\" alt=\"\"></td>\r\n",
      "<td bgcolor=\"#CCCCCC\"><img src=\"/shared/img/o.gif\" width=\"1\" height=\"1\" alt=\"\"></td>\r\n",
      "</tr>\r\n",
      "<tr>\r\n",
      "<td bgcolor=\"#CCCCCC\"><img src=\"/shared/img/o.gif\" width=\"1\" height=\"1\" alt=\"\"></td>\r\n",
      "<td align=\"center\" colspan=\"3\"><span class=\"lhsNavSeparator\">-------------\r\n",
      "</span></td>\r\n",
      "<td bgcolor=\"#CCCCCC\"><img src=\"/shared/img/o.gif\" width=\"1\" height=\"1\" alt=\"\"></td>\r\n",
      "</tr>\r\n",
      "</table>\r\n",
      "\r\n",
      "\r\n",
      "\r\n",
      "\r\n",
      "\r\n",
      "    <table width=\"100\" cellspacing=\"0\" cellpadding=\"0\" border=\"0\">\r\n",
      "    <tr>\r\n",
      "    <td bgcolor=\"#CCCCCC\"><img src=\"/shared/img/o.gif\" width=\"1\" height=\"1\" alt=\"\"></td>\r\n",
      "    <td><img src=\"/shared/img/o.gif\" width=\"3\" height=\"1\" alt=\"\"></td>\r\n",
      "    <td><img src=\"/shared/img/o.gif\" width=\"90\" height=\"1\" alt=\"\"></td>\r\n",
      "    <td><img src=\"/shared/img/o.gif\" width=\"5\" height=\"1\" alt=\"\"></td>\r\n",
      "    <td bgcolor=\"#CCCCCC\"><img src=\"/shared/img/o.gif\" width=\"1\" height=\"1\" alt=\"\"></td>\r\n",
      "    </tr>\r\n",
      "    <tr>\r\n",
      "    <td bgcolor=\"#CCCCCC\"><img src=\"/shared/img/o.gif\" width=\"1\" height=\"1\" alt=\"\"></td>\r\n",
      "    <td class=\"servicebg4\"><img src=\"/shared/img/o.gif\" width=\"3\" height=\"1\" alt=\"\"></td>\r\n",
      "    <td align=\"right\" class=\"servicebg4\"><div class=\"servicesnav\"><a href=\"/1/low/health/2284783.stm\">Text Only</a></div></td>\r\n",
      "    <td class=\"serviceoption4\"><img src=\"/shared/img/o.gif\" width=\"5\" height=\"1\" alt=\"\"></td>\r\n",
      "    <td bgcolor=\"#CCCCCC\"><img src=\"/shared/img/o.gif\" width=\"1\" height=\"1\" alt=\"\"></td>\r\n",
      "    </tr>\r\n",
      "    </table>\r\n",
      "\r\n",
      "\r\n",
      "\r\n",
      "\r\n",
      "<table width=\"100\" cellspacing=\"0\" cellpadding=\"0\" border=\"0\">\r\n",
      "<tr>\r\n",
      "<td bgcolor=\"#CCCCCC\"><img src=\"/shared/img/o.gif\" width=\"1\" height=\"1\" alt=\"\"></td>\r\n",
      "<td class=\"servicebg5\"><img src=\"/shared/img/o.gif\" width=\"3\" height=\"1\" alt=\"\"></td>\r\n",
      "<td align=\"right\" class=\"servicebg5\"><div class=\"servicesnav\"><a href=\"/1/shared/bsp/hi/services/feedback/html/default.stm\">Feedback\r\n",
      "</a></div></td>\r\n",
      "<td class=\"serviceoption5\"><img src=\"/shared/img/o.gif\" width=\"5\" height=\"1\" alt=\"\"></td>\r\n",
      "<td bgcolor=\"#CCCCCC\"><img src=\"/shared/img/o.gif\" width=\"1\" height=\"1\" alt=\"\"></td>\r\n",
      "</tr>\r\n",
      "<tr>\r\n",
      "<td bgcolor=\"#CCCCCC\"><img src=\"/shared/img/o.gif\" width=\"1\" height=\"1\" alt=\"\"></td>\r\n",
      "<td class=\"servicebg6\"><img src=\"/shared/img/o.gif\" width=\"3\" height=\"1\" alt=\"\"></td>\r\n",
      "<td align=\"right\" class=\"servicebg6\"><div class=\"servicesnav\"><a href=\"/1/shared/bsp/hi/services/help/html/default.stm\">Help\r\n",
      "</a></div></td>\r\n",
      "<td class=\"serviceoption6\"><img src=\"/shared/img/o.gif\" width=\"5\" height=\"1\" alt=\"\"></td>\r\n",
      "<td bgcolor=\"#CCCCCC\"><img src=\"/shared/img/o.gif\" width=\"1\" height=\"1\" alt=\"\"></td>\r\n",
      "</tr>\r\n",
      "<tr bgcolor=\"#CCCCCC\">\r\n",
      "<td><img src=\"/shared/img/o.gif\" width=\"1\" height=\"1\" alt=\"\"></td>\r\n",
      "<td><img src=\"/shared/img/o.gif\" width=\"3\" height=\"1\" alt=\"\"></td>\r\n",
      "<td><img src=\"/shared/img/o.gif\" width=\"90\" height=\"1\" alt=\"\"></td>\r\n",
      "<td><img src=\"/shared/img/o.gif\" width=\"5\" height=\"1\" alt=\"\"></td>\r\n",
      "<td><img src=\"/shared/img/o.gif\" width=\"1\" height=\"1\" alt=\"\"></td>\r\n",
      "</tr>\r\n",
      "<tr>\r\n",
      "<td colspan=\"5\"><img src=\"/shared/img/o.gif\" width=\"1\" height=\"4\" alt=\"\"></td>\r\n",
      "</tr>\r\n",
      "</table>\r\n",
      "\r\n",
      "\r\n",
      "\r\n",
      "\r\n",
      "\r\n",
      "\r\n",
      "<table width=\"100\" cellspacing=\"0\" cellpadding=\"0\" border=\"0\">\r\n",
      "<tr bgcolor=\"#6699CC\">\r\n",
      "<td><img src=\"/shared/img/o.gif\" width=\"1\" height=\"1\" alt=\"\"></td>\r\n",
      "<td><img src=\"/shared/img/o.gif\" width=\"3\" height=\"1\" alt=\"\"></td>\r\n",
      "<td><img src=\"/shared/img/o.gif\" width=\"90\" height=\"1\" alt=\"\"></td>\r\n",
      "<td><img src=\"/shared/img/o.gif\" width=\"5\" height=\"1\" alt=\"\"></td>\r\n",
      "<td><img src=\"/shared/img/o.gif\" width=\"1\" height=\"1\" alt=\"\"></td>\r\n",
      "</tr>\r\n",
      "<tr bgcolor=\"#336699\">\r\n",
      "<td colspan=\"3\" align=\"right\"><div class=\"servicehead\">EDITIONS\r\n",
      "</div></td>\r\n",
      "<td><img src=\"/shared/img/o.gif\" width=\"5\" height=\"1\" alt=\"\"></td>\r\n",
      "<td><img src=\"/shared/img/o.gif\" width=\"1\" height=\"1\" alt=\"\"></td>\r\n",
      "</tr>\r\n",
      "<tr>\r\n",
      "<td bgcolor=\"#CCCCCC\"><img src=\"/shared/img/o.gif\" width=\"1\" height=\"1\" alt=\"\"></td>\r\n",
      "<td><img src=\"/shared/img/o.gif\" width=\"3\" height=\"1\" alt=\"\"></td>\r\n",
      "<td align=\"right\"><div class=\"servicesnavtight\"><a href=\"/shared/hi/change_edition-news-Domestic.stm\">Change to World\r\n",
      "</a></div></td>\r\n",
      "<td><img src=\"/shared/img/o.gif\" width=\"5\" height=\"1\" alt=\"\"></td>\r\n",
      "<td bgcolor=\"#CCCCCC\"><img src=\"/shared/img/o.gif\" width=\"1\" height=\"1\" alt=\"\"></td>\r\n",
      "</tr>\r\n",
      "<tr bgcolor=\"#CCCCCC\">\r\n",
      "<td><img src=\"/shared/img/o.gif\" width=\"1\" height=\"1\" alt=\"\"></td>\r\n",
      "<td><img src=\"/shared/img/o.gif\" width=\"3\" height=\"1\" alt=\"\"></td>\r\n",
      "<td><img src=\"/shared/img/o.gif\" width=\"90\" height=\"1\" alt=\"\"></td>\r\n",
      "<td><img src=\"/shared/img/o.gif\" width=\"5\" height=\"1\" alt=\"\"></td>\r\n",
      "<td><img src=\"/shared/img/o.gif\" width=\"1\" height=\"1\" alt=\"\"></td>\r\n",
      "</tr>\r\n",
      "</table>\r\n",
      "</td>\r\n",
      "<td><img src=\"/shared/img/o.gif\" width=\"5\" height=\"200\" alt=\"\"></td>\r\n",
      "<td valign=\"TOP\">\r\n",
      "    \t\r\n",
      "\t\r\n",
      "\r\n",
      "                \r\n",
      "\r\n",
      "\r\n",
      "<font face=\"sans-serif\" size=\"1\"><span class=\"date\">Friday, 27 September, 2002, 11:51 GMT 12:51 UK\r\n",
      "</span></font>\r\n",
      "\r\n",
      "\r\n",
      "\r\n",
      "\r\n",
      "\t\t\r\n",
      "\t\t\t<div class=\"headlinestory\"><b>Blondes 'to die out in 200 years'</b><br></div>\r\n",
      "\t\t\r\n",
      "\r\n",
      "\t\r\n",
      "\r\n",
      "\t\r\n",
      "                \r\n",
      "\t\r\n",
      "\t<div class=\"inlineimage\">\r\n",
      "\t\t<img height=\"180\" vspace=\"0\" border=\"0\" width=\"300\" alt=\" \" src=\"/media/images/38280000/jpg/_38280456_blonde300.jpg\">\r\n",
      "\t\t\r\n",
      "\t\t\t<div class=\"caption\"><font size=\"1\">Scientists believe the last blondes will be in Finland</font><br></div>\r\n",
      "\t\t\r\n",
      "\t</div>\r\n",
      "\t\r\n",
      "\r\n",
      "\t\r\n",
      "\r\n",
      "\t<font class=\"body\" face=\"sans-serif\" size=\"2\">\r\n",
      "\t<div class=\"bodytext\">\r\n",
      "\tThe last natural blondes will die out within 200 years, scientists believe. \r\n",
      "<P>\r\n",
      "A study by experts in Germany suggests people with blonde hair are an endangered species and will become extinct by 2202.\r\n",
      "<P>\r\n",
      "Researchers predict the last truly natural blonde will be born in Finland - the country with the highest proportion of blondes. \r\n",
      "<P>\r\n",
      "\r\n",
      "\r\n",
      "<!-- GENInlineBOX -->\r\n",
      "\r\n",
      "\t<table bgcolor=\"#FFFFCC\" class=\"boxbody\" cellspacing=\"0\" width=\"150\" border=\"0\" cellpadding=\"3\" align=\"right\">\r\n",
      "\r\n",
      "\r\n",
      "\r\n",
      "\r\n",
      "<!-- GENInlineQUOTE -->\r\n",
      "\r\n",
      "\t<tr><td><img src=\"/nol/shared/img/startquote.gif\" width=\"23\" height=\"18\" border=\"0\" valign=\"TOP\" alt=\"\"><br><div class=\"boxbody\">\r\n",
      "\r\n",
      "\r\n",
      "\r\n",
      "\r\n",
      "\r\n",
      "\tThe frequency of blondes may drop but they won't disappear\r\n",
      "\r\n",
      "\r\n",
      "\r\n",
      "\r\n",
      "\r\n",
      "\t</div><img align=\"RIGHT\" src=\"/nol/shared/img/endquote.gif\" width=\"23\" height=\"18\" border=\"0\" valign=\"ABSBOTTOM\" alt=\"\"><br clear=\"ALL\"></td></tr>\r\n",
      "\r\n",
      "\r\n",
      "\r\n",
      "<!-- GENInlineNAME -->\r\n",
      "\r\n",
      "\t<tr><td bgcolor=\"cccc99\"><div class=\"boxhead\">\r\n",
      "\r\n",
      "\r\n",
      "\r\n",
      "\r\n",
      "\r\n",
      "\tProf Jonathan Rees, University of Edinburgh\r\n",
      "\r\n",
      "\r\n",
      "\r\n",
      "\r\n",
      "\r\n",
      "\t</div></td></tr>\r\n",
      "\r\n",
      "\r\n",
      "\r\n",
      "\r\n",
      "\r\n",
      "\r\n",
      "\t</table>\r\n",
      "\r\n",
      "\r\n",
      "\r\n",
      "\r\n",
      "\t\r\n",
      "But they say too few people now carry the gene for blondes to last beyond the next two centuries. \r\n",
      "<P>\r\n",
      "The problem is that blonde hair is caused by a recessive gene. \r\n",
      "<P>\r\n",
      "In order for a child to have blonde hair, it must have the gene on both sides of the family in the grandparents' generation. \r\n",
      "<P><B>Dyed rivals</B>\r\n",
      "<P>\r\n",
      "\r\n",
      "The researchers also believe that so-called bottle blondes may be to blame for the demise of their natural rivals. \r\n",
      "<P>\r\n",
      "They suggest that dyed-blondes are more attractive to men who choose them as partners over true blondes. \r\n",
      "<P>\r\n",
      "\r\n",
      "\r\n",
      "<!-- GENInlineIMAGE -->\r\n",
      "\r\n",
      "\t\t\r\n",
      "\t\t\t<table cellspacing=\"3\" align=\"RIGHT\" width=\"150\" border=\"0\" cellpadding=\"3\"><tr><td><font size=\"2\">\r\n",
      "\t\t\r\n",
      "\t\t<div class=\"inlineimage\">\r\n",
      "            <img alt=\"Tory MP Ann Widdecombe\" height=\"180\" vspace=\"0\" src=\"/media/images/38280000/jpg/_38280457_widders150.jpg\" border=\"0\" width=\"150\">\r\n",
      "            \r\n",
      "                <div class=\"caption\"><small>Bottle-blondes like Ann Widdecombe may be to blame</small><br></div>\r\n",
      "            \r\n",
      "\t\t</div>\r\n",
      "\t\t\r\n",
      "\t\t\t</font></td></tr></table>\r\n",
      "\t\t\r\n",
      "\r\n",
      "\t\r\n",
      "But Jonathan Rees, professor of dermatology at the University of Edinburgh said it was unlikely blondes would die out completely. \r\n",
      "<P>\r\n",
      "\"Genes don't die out unless there is a disadvantage of having that gene or by chance. They don't disappear,\" he told BBC News Online.\r\n",
      "<P>\r\n",
      "\"The only reason blondes would disappear is if having the gene was a disadvantage and I do not think that is the case. \r\n",
      "<P>\r\n",
      "\"The frequency of blondes may drop but they won't disappear.\"\r\n",
      "<P>\r\n",
      "\r\n",
      "\r\n",
      "\r\n",
      "</div>\r\n",
      "\t</font>\r\n",
      "\r\n",
      "\r\n",
      "\r\n",
      "\r\n",
      "</td>\r\n",
      "<td><img src=\"/shared/img/o.gif\" width=\"10\" height=\"1\" alt=\"\"></td>\r\n",
      "<td valign=\"TOP\"><font face=\"sans-serif\" size=\"2\">\r\n",
      "\t\r\n",
      "\t\r\n",
      "\r\n",
      "\t\r\n",
      "        \r\n",
      "\t<div class=\"rhslist\"><div class=\"rhshead\"><b>See also:</b><br><img src=\"/shared/img/999999.gif\" width=\"170\" vspace=\"2\" height=\"1\" alt=\"\"><br></div>\r\n",
      "\t\r\n",
      "\t\t<div class=\"aitem\">\r\n",
      "\t\t\t<span class=\"seealsodate\">28 Mar 01&nbsp;|&nbsp;Education</span>\r\n",
      "                        <div><a href=\"/1/hi/education/1248103.stm\"><span>What is it about blondes?</span></a><br></div>\r\n",
      "\r\n",
      "\t\t</div>\r\n",
      "\t\r\n",
      "\t\t<div class=\"aitem\">\r\n",
      "\t\t\t<span class=\"seealsodate\">09 Apr 99&nbsp;|&nbsp;Health</span>\r\n",
      "                        <div><a href=\"/1/hi/health/315527.stm\"><span>Platinum blondes are labelled as dumb</span></a><br></div>\r\n",
      "\r\n",
      "\t\t</div>\r\n",
      "\t\r\n",
      "\t\t<div class=\"aitem\">\r\n",
      "\t\t\t<span class=\"seealsodate\">17 Apr 02&nbsp;|&nbsp;Health</span>\r\n",
      "                        <div><a href=\"/1/hi/health/1934496.stm\"><span>Hair dye cancer alert</span></a><br></div>\r\n",
      "\r\n",
      "\t\t</div>\r\n",
      "\t\r\n",
      "\t</div>\r\n",
      "\r\n",
      "\r\n",
      "\r\n",
      "\t\r\n",
      "<div class=\"rhslist\">\r\n",
      "<div class=\"rhshead\"><b>Internet links:</b><br><img src=\"/shared/img/999999.gif\" width=\"170\" vspace=\"2\" height=\"1\" alt=\"\"><br></div>\r\n",
      "<div class=\"aitem\"><a href=\"http://www.ed.ac.uk/\">University of Edinburgh</a></div>\r\n",
      "<span class=\"disclaimer\"><br>The BBC is not responsible for the content of external internet sites</span><br>\r\n",
      "</div>\r\n",
      "\r\n",
      "\t\r\n",
      "            \r\n",
      "    \r\n",
      "<div class=\"rhslist\">\r\n",
      "\t<div class=\"rhshead\"><b>Top Health stories now:</b><br><img src=\"/shared/img/999999.gif\" width=\"170\" vspace=\"2\" height=\"1\" alt=\"\"><br></div>\r\n",
      "\t\r\n",
      "            <div class=\"bulletheadline\"><a href=\"/1/hi/health/2775869.stm\"><span>Climbdown on care home rules</span></a><br></div>\r\n",
      "\r\n",
      "\t\r\n",
      "            <div class=\"bulletheadline\"><a href=\"/1/hi/health/2775607.stm\"><span>Jab to counter rise in deadly disease</span></a><br></div>\r\n",
      "\r\n",
      "\t\r\n",
      "            <div class=\"bulletheadline\"><a href=\"/1/hi/health/2775357.stm\"><span>NHS watchdog to monitor operations</span></a><br></div>\r\n",
      "\r\n",
      "\t\r\n",
      "            <div class=\"bulletheadline\"><a href=\"/1/hi/health/2777301.stm\"><span>ECT challenge halted</span></a><br></div>\r\n",
      "\r\n",
      "\t\r\n",
      "            <div class=\"bulletheadline\"><a href=\"/1/hi/england/2776825.stm\"><span>Skill-sharing cuts doctors'\r\n",
      "workload\r\n",
      "</span></a><br></div>\r\n",
      "\r\n",
      "\t\r\n",
      "            <div class=\"bulletheadline\"><a href=\"/1/hi/health/2770999.stm\"><span>Heart risk link to big families</span></a><br></div>\r\n",
      "\r\n",
      "\t\r\n",
      "            <div class=\"bulletheadline\"><a href=\"/1/hi/uk_politics/2774595.stm\"><span>Ministers suffer second bed block defeat</span></a><br></div>\r\n",
      "\r\n",
      "\t\r\n",
      "            <div class=\"bulletheadline\"><a href=\"/2/hi/health/2776719.stm\"><span>Ebola outbreak confirmed in Congo</span></a><br></div>\r\n",
      "\r\n",
      "\t\r\n",
      "</div>\r\n",
      "<img src=\"/shared/img/999999.gif\" width=\"170\" height=\"1\" border=\"0\" alt=\"\">\r\n",
      "<div class=\"promotextbold\">Links to more Health stories are at the foot of the page.<br><img src=\"/shared/img/999999.gif\" width=\"170\" height=\"1\" border=\"0\" vspace=\"4\" alt=\"\"><br>\r\n",
      "</div>\r\n",
      "\r\n",
      "\r\n",
      "    \r\n",
      "    \r\n",
      "\r\n",
      "\t\r\n",
      "</font></td>\r\n",
      "</tr>\r\n",
      "</table>\r\n",
      "<br>\r\n",
      "<table border=\"0\" cellpadding=\"0\" cellspacing=\"0\">\r\n",
      "<tr>\r\n",
      "  <td width=\"115\"><img src=\"/shared/img/o.gif\" width=\"105\" height=\"1\" border=\"0\" alt=\"\"></td>\r\n",
      "  <td width=\"315\"><img border=\"0\" alt=\"\" src=\"/shared/img/999999.gif\" width=\"315\" height=\"1\"></td>\r\n",
      "</tr>\r\n",
      "<tr>\r\n",
      "  <td width=\"115\" height=\"18\"><img src=\"/shared/img/o.gif\" width=\"115\" height=\"1\" border=\"0\" alt=\"\"></td>\r\n",
      "  <td width=\"315\" align=\"left\"><a onClick=\"window.open('http://newsvote.bbc.co.uk/cgi-bin/emailthisstory/emailthisstory.pl','Mailer','status=no,scrollbars=yes,resizable=yes,width=370,height=445');\" href=\"http://newsvote.bbc.co.uk/cgi-bin/emailthisstory/emailthisstory.pl\" class=\"index\" target=\"Mailer\"><img border=\"0\" alt=\"\" src=\"/sol/shared/img/mail_icon.gif\" width=\"13\" height=\"9\"> <span class=\"blueText\"><b>E-mail this story to a friend</b></span></td>\r\n",
      "</tr>\r\n",
      "</table>\r\n",
      "\r\n",
      "    <table border=\"0\" cellpadding=\"0\" cellspacing=\"0\">\r\n",
      "  <tr>\r\n",
      "    <td width=\"115\"><img src=\"/shared/img/o.gif\" width=\"115\" height=\"1\" alt=\"\"></td>\r\n",
      "    <td width=\"315\"><img border=\"0\" alt=\"\" src=\"/shared/img/999999.gif\" width=\"315\" height=\"1\"></td>\r\n",
      "  </tr>\r\n",
      "  <tr>\r\n",
      "    <td><img src=\"/shared/img/o.gif\" width=\"115\" height=\"1\" alt=\"\"></td>\r\n",
      "    <td align=\"left\">\r\n",
      "\r\n",
      "<br clear=\"all\">\r\n",
      "<font size=\"2\">\r\n",
      " <span class=\"blackText\">\r\n",
      "<b>Links to more Health stories</b></span>\r\n",
      "<br>\r\n",
      "<form name=\"storyMenu\">\r\n",
      "<select name=\"storyLink\">\r\n",
      "<option value=\"#\">In This Section</option>\r\n",
      "\r\n",
      "        <OPTION value=\"/1/hi/health/2775869.stm\">Climbdown on care home rules</OPTION>\r\n",
      "\r\n",
      "        <OPTION value=\"/1/hi/health/2775607.stm\">Jab to counter rise in deadly disease</OPTION>\r\n",
      "\r\n",
      "        <OPTION value=\"/1/hi/health/2775357.stm\">NHS watchdog to monitor operations</OPTION>\r\n",
      "\r\n",
      "        <OPTION value=\"/1/hi/health/2777301.stm\">ECT challenge halted</OPTION>\r\n",
      "\r\n",
      "        <OPTION value=\"/1/hi/england/2776825.stm\">Skill-sharing cuts doctors'\r\n",
      "workload\r\n",
      "</OPTION>\r\n",
      "\r\n",
      "        <OPTION value=\"/1/hi/health/2770999.stm\">Heart risk link to big families</OPTION>\r\n",
      "\r\n",
      "        <OPTION value=\"/1/hi/uk_politics/2774595.stm\">Ministers suffer second bed block defeat</OPTION>\r\n",
      "\r\n",
      "        <OPTION value=\"/2/hi/health/2776719.stm\">Ebola outbreak confirmed in Congo</OPTION>\r\n",
      "\r\n",
      "        <OPTION value=\"/1/hi/england/2775283.stm\">Surgeon hid ban to get work</OPTION>\r\n",
      "\r\n",
      "        <OPTION value=\"/1/hi/uk/2776003.stm\">Phone mast emissions 'well below limits'</OPTION>\r\n",
      "\r\n",
      "        <OPTION value=\"/1/hi/health/2761469.stm\">Back pain drug 'may aid diabetics'</OPTION>\r\n",
      "\r\n",
      "        <OPTION value=\"/1/hi/health/2772499.stm\">Vegetables ward off Alzheimer's</OPTION>\r\n",
      "\r\n",
      "        <OPTION value=\"/1/hi/health/2760843.stm\">Gene defect explains high blood pressure</OPTION>\r\n",
      "\r\n",
      "        <OPTION value=\"/1/hi/england/2773203.stm\">Damages over brain surgery delay</OPTION>\r\n",
      "\r\n",
      "        <OPTION value=\"/1/hi/world/middle_east/2774951.stm\">Polio campaign launched in Iraq</OPTION>\r\n",
      "\r\n",
      "        <OPTION value=\"/1/hi/health/2772005.stm\">Fears over tuna health risk to babies</OPTION>\r\n",
      "\r\n",
      "</select>\r\n",
      "<INPUT VALUE=\"Go\" TYPE=\"BUTTON\" onClick=\"window.location = document.storyMenu.storyLink.options[document.storyMenu.storyLink.options.selectedIndex].value\">\r\n",
      "</form>\r\n",
      "</font>\r\n",
      "\r\n",
      "</td>\r\n",
      "  </tr>\r\n",
      "</table>\r\n",
      "\r\n",
      "    \r\n",
      "    \r\n",
      "\r\n",
      "<br clear=\"ALL\">\r\n",
      "<table width=\"610\" cellpadding=\"0\" cellspacing=\"0\" border=\"0\">\r\n",
      "<tr>\r\n",
      "<td><img border=\"0\" alt=\"\" src=\"/shared/img/o.gif\" width=\"100\" height=\"1\"></td>\r\n",
      "<td><img border=\"0\" alt=\"\" src=\"/shared/img/o.gif\" width=\"10\" height=\"1\"></td>\r\n",
      "<td><img border=\"0\" alt=\"\" src=\"/shared/img/o.gif\" width=\"500\" height=\"1\"></td>\r\n",
      "</tr>\r\n",
      "<tr>\r\n",
      "<td colspan=\"3\"><img vspace=\"4\" alt=\"\" src=\"/shared/img/000000.gif\" width=\"610\" height=\"1\"></td>\r\n",
      "</tr>\r\n",
      "<tr>\r\n",
      "<td align=\"right\" valign=\"top\"><a href=\"/1/shared/bsp/hi/services/copyright/html/default.stm\"><img src=\"/nol/shared/img/specials_nav/copyright_bbc.gif\" alt=\"&copy; BBC\" border=\"0\"></a></td>\r\n",
      "<td><img border=\"0\" alt=\"\" src=\"/shared/img/o.gif\" width=\"10\" height=\"1\"></td>\r\n",
      "<td>\r\n",
      "<font size=\"2\">\r\n",
      "<span class=\"footerarrow\">^^  </span>\r\n",
      "<span class=\"footer\"><a href=\"#top\">Back to top</a>\r\n",
      "<p>\r\n",
      "\r\n",
      "    <table width=\"500\" cellpadding=\"0\" cellspacing=\"0\" border=\"0\">\r\n",
      "<tr>\r\n",
      "<td><img border=\"0\" alt=\"\" src=\"/shared/img/o.gif\" width=\"500\" height=\"1\"></td>\r\n",
      "</tr>\r\n",
      "<tr>\r\n",
      "<td><b class=\"footer\"><span class=\"footerpiping\">\r\n",
      "<a href=\"/1/hi/default.stm\" class=\"index\">News Front Page</a>\r\n",
      " | \r\n",
      "\r\n",
      "\r\n",
      "<a href=\"/1/hi/world/default.stm\" class=\"index\">World</a>\r\n",
      " | \r\n",
      "\r\n",
      "\r\n",
      "<a href=\"/1/hi/uk/default.stm\" class=\"index\">UK</a>\r\n",
      " | \r\n",
      "\r\n",
      "\r\n",
      "<a href=\"/1/hi/england/default.stm\" class=\"index\">England</a>\r\n",
      " | \r\n",
      "\r\n",
      "\r\n",
      "<a href=\"/1/hi/northern_ireland/default.stm\" class=\"index\">N Ireland</a>\r\n",
      " | \r\n",
      "\r\n",
      "\r\n",
      "<a href=\"/1/hi/scotland/default.stm\" class=\"index\">Scotland</a>\r\n",
      " | \r\n",
      "\r\n",
      "\r\n",
      "<a href=\"/1/hi/wales/default.stm\" class=\"index\">Wales</a>\r\n",
      " | \r\n",
      "<br>\r\n",
      "\r\n",
      "<a href=\"/1/hi/uk_politics/default.stm\" class=\"index\">Politics</a>\r\n",
      " | \r\n",
      "\r\n",
      "\r\n",
      "<a href=\"/1/hi/business/default.stm\" class=\"index\">Business</a>\r\n",
      " | \r\n",
      "\r\n",
      "\r\n",
      "<a href=\"/1/hi/entertainment/default.stm\" class=\"index\">Entertainment</a>\r\n",
      " | \r\n",
      "\r\n",
      "\r\n",
      "<a href=\"/1/hi/sci/tech/default.stm\" class=\"index\">Science/Nature</a>\r\n",
      " | \r\n",
      "\r\n",
      "\r\n",
      "<a href=\"/1/hi/technology/default.stm\" class=\"index\">Technology</a>\r\n",
      " | \r\n",
      "<br>\r\n",
      "\r\n",
      "<a href=\"/1/hi/health/default.stm\" class=\"index\">Health</a>\r\n",
      " | \r\n",
      "\r\n",
      "\r\n",
      "<a href=\"/1/hi/education/default.stm\" class=\"index\">Education</a>\r\n",
      " | \r\n",
      "\r\n",
      "\r\n",
      "<a href=\"/1/hi/talking_point/default.stm\" class=\"index\">Talking Point</a>\r\n",
      " | \r\n",
      "\r\n",
      "<a href=\"/1/shared/bsp/hi/country_profiles/html/default.stm\" class=\"index\">Country Profiles</a>\r\n",
      "\r\n",
      " | \r\n",
      "\r\n",
      "<a href=\"/1/shared/bsp/hi/in_depth/html/default.stm\" class=\"index\">In Depth</a>\r\n",
      "\r\n",
      " | \r\n",
      "<br>\r\n",
      "\r\n",
      "<a href=\"/1/hi/programmes/default.stm\" class=\"index\">Programmes</a>\r\n",
      "\r\n",
      "\r\n",
      "</span></b></td>\r\n",
      "</tr>\r\n",
      "</table>\r\n",
      "    \r\n",
      "    \r\n",
      "</span></font></td>\r\n",
      "</tr>\r\n",
      "</table>\r\n",
      "    <table width=\"610\" cellpadding=\"0\" cellspacing=\"0\" border=\"0\">\r\n",
      "    <tr>\r\n",
      "    <td><img src=\"/shared/img/o.gif\" width=\"110\" height=\"1\" alt=\"\"></td>\r\n",
      "      <td class=\"footer\" align=\"left\" valign=\"top\" width=\"600\" bgcolor=\"#FFFFFF\"><b><span style=\"color : #999999;\">----------------------------------------------------------------------------------\r\n",
      "</span>\r\n",
      "    <br>\r\n",
      "    <a class=\"index\" href=\"/sport1/\">To BBC Sport&gt;&gt;\r\n",
      "</a> <span style=\"color : #999999;\">|\r\n",
      "</span> <a class=\"index\" href=\"http://www.bbc.co.uk/weather/\">To BBC Weather&gt;&gt;\r\n",
      "</a> <span style=\"color : #999999;\">|\r\n",
      "</span> <a class=\"index\" href=\"http://www.bbc.co.uk/worldservice/index.shtml\">To BBC World Service&gt;&gt;\r\n",
      "</a>\r\n",
      "    <br>\r\n",
      "    <b><span style=\"color : #999999;\">----------------------------------------------------------------------------------\r\n",
      "</span>\r\n",
      "    <br>\r\n",
      "    <a class=\"footer\" href=\"/1/shared/bsp/hi/services/copyright/html/default.stm\"><span style=\"font-size : 10px\">&copy; MMIII\r\n",
      "</span></a> <font size=\"1\">|\r\n",
      "</font> <a class=\"footer\" href=\"/1/shared/bsp/hi/services/help/html/sources.stm\"><span style=\"font-size : 10px\">News Sources\r\n",
      "</span></a> <font size=\"1\">|\r\n",
      "</font> <a class=\"footer\" href=\"http://www.bbc.co.uk/privacy/\"><span style=\"font-size : 10px\">Privacy\r\n",
      "</span></a></b>\r\n",
      "    <br><br><br>\r\n",
      "<script>\r\n",
      "\tvar si = document.location+\"\";\r\n",
      "\tvar tsi = si.replace(\".stm\",\"\").substr(si.length-11, si.length);\r\n",
      "\tif (!tsi.match(/\\d\\d\\d\\d\\d\\d\\d/)) {tsi = 0;}\r\n",
      "\tdocument.write('<img src=\"http://stats.bbc.co.uk/o.gif?~RS~s~RS~News~RS~t~RS~HighWeb_Legacy~RS~i~RS~' + tsi + '~RS~p~RS~0~RS~u~RS~/1/hi/health/2284783.stm~RS~r~RS~(none)~RS~a~RS~Domestic~RS~q~RS~~RS~z~RS~39~RS~\">');\r\n",
      "</script>\r\n",
      "<noscript>\r\n",
      "\t<img src=\"http://stats.bbc.co.uk/o.gif?~RS~s~RS~News~RS~t~RS~HighWeb_Legacy~RS~i~RS~0~RS~p~RS~0~RS~u~RS~/1/hi/health/2284783.stm~RS~r~RS~(none)~RS~a~RS~Domestic~RS~q~RS~~RS~z~RS~39~RS~\">\r\n",
      "</noscript>\r\n",
      "\r\n",
      "\r\n",
      "\r\n",
      "\r\n",
      "    </td>\r\n",
      "    </tr>\r\n",
      "    </table>\r\n",
      "\r\n",
      "<br>\r\n",
      "<link type=\"text/css\" rel=\"stylesheet\" href=\"/nol/shared/stylesheets/uki_globalstylesheet.css\">\r\n",
      "\r\n",
      "</body>\r\n",
      "</html>\r\n",
      "\n"
     ]
    }
   ],
   "source": [
    "print(html)"
   ]
  },
  {
   "cell_type": "markdown",
   "metadata": {},
   "source": [
    "To get text out of HTML we will use a Python library called BeautifulSoup, available from http://www.crummy.com/software/BeautifulSoup/:\n",
    "\n"
   ]
  },
  {
   "cell_type": "code",
   "execution_count": 6,
   "metadata": {
    "collapsed": true
   },
   "outputs": [],
   "source": [
    "from bs4 import BeautifulSoup"
   ]
  },
  {
   "cell_type": "code",
   "execution_count": 18,
   "metadata": {},
   "outputs": [
    {
     "name": "stderr",
     "output_type": "stream",
     "text": [
      "C:\\Users\\pc\\Anaconda3\\lib\\site-packages\\bs4\\__init__.py:181: UserWarning: No parser was explicitly specified, so I'm using the best available HTML parser for this system (\"lxml\"). This usually isn't a problem, but if you run this code on another system, or in a different virtual environment, it may use a different parser and behave differently.\n",
      "\n",
      "The code that caused this warning is on line 193 of the file C:\\Users\\pc\\Anaconda3\\lib\\runpy.py. To get rid of this warning, change code that looks like this:\n",
      "\n",
      " BeautifulSoup(YOUR_MARKUP})\n",
      "\n",
      "to this:\n",
      "\n",
      " BeautifulSoup(YOUR_MARKUP, \"lxml\")\n",
      "\n",
      "  markup_type=markup_type))\n"
     ]
    },
    {
     "data": {
      "text/plain": [
       "['BBC',\n",
       " 'NEWS',\n",
       " '|',\n",
       " 'Health',\n",
       " '|',\n",
       " 'Blondes',\n",
       " \"'to\",\n",
       " 'die',\n",
       " 'out',\n",
       " 'in',\n",
       " '200',\n",
       " \"years'\",\n",
       " 'CATEGORIES',\n",
       " 'TV',\n",
       " 'RADIO',\n",
       " 'COMMUNICATE',\n",
       " 'WHERE',\n",
       " 'I',\n",
       " 'LIVE',\n",
       " 'INDEX',\n",
       " 'SEARCH',\n",
       " 'You',\n",
       " 'are',\n",
       " 'in',\n",
       " ':',\n",
       " 'Health',\n",
       " 'News',\n",
       " 'Front',\n",
       " 'Page',\n",
       " 'World',\n",
       " 'UK',\n",
       " 'England',\n",
       " 'N',\n",
       " 'Ireland',\n",
       " 'Scotland',\n",
       " 'Wales',\n",
       " 'Politics',\n",
       " 'Business',\n",
       " 'Entertainment',\n",
       " 'Science/Nature',\n",
       " 'Technology',\n",
       " 'Health',\n",
       " 'Medical',\n",
       " 'notes',\n",
       " 'Education',\n",
       " '--',\n",
       " '--',\n",
       " '--',\n",
       " '--',\n",
       " '--',\n",
       " '--',\n",
       " '-',\n",
       " 'Talking',\n",
       " 'Point',\n",
       " '--',\n",
       " '--',\n",
       " '--',\n",
       " '--',\n",
       " '--',\n",
       " '--',\n",
       " '-',\n",
       " 'Country',\n",
       " 'Profiles',\n",
       " 'In',\n",
       " 'Depth',\n",
       " '--',\n",
       " '--',\n",
       " '--',\n",
       " '--',\n",
       " '--',\n",
       " '--',\n",
       " '-',\n",
       " 'Programmes',\n",
       " '--',\n",
       " '--',\n",
       " '--',\n",
       " '--',\n",
       " '--',\n",
       " '--',\n",
       " '-',\n",
       " 'SERVICES',\n",
       " 'Daily',\n",
       " 'E-mail',\n",
       " 'News',\n",
       " 'Ticker',\n",
       " 'Mobile/PDAs',\n",
       " '--',\n",
       " '--',\n",
       " '--',\n",
       " '--',\n",
       " '--',\n",
       " '--',\n",
       " '-',\n",
       " 'Text',\n",
       " 'Only',\n",
       " 'Feedback',\n",
       " 'Help',\n",
       " 'EDITIONS',\n",
       " 'Change',\n",
       " 'to',\n",
       " 'World',\n",
       " 'Friday',\n",
       " ',',\n",
       " '27',\n",
       " 'September',\n",
       " ',',\n",
       " '2002',\n",
       " ',',\n",
       " '11:51',\n",
       " 'GMT',\n",
       " '12:51',\n",
       " 'UK',\n",
       " 'Blondes',\n",
       " \"'to\",\n",
       " 'die',\n",
       " 'out',\n",
       " 'in',\n",
       " '200',\n",
       " \"years'\",\n",
       " 'Scientists',\n",
       " 'believe',\n",
       " 'the',\n",
       " 'last',\n",
       " 'blondes',\n",
       " 'will',\n",
       " 'be',\n",
       " 'in',\n",
       " 'Finland',\n",
       " 'The',\n",
       " 'last',\n",
       " 'natural',\n",
       " 'blondes',\n",
       " 'will',\n",
       " 'die',\n",
       " 'out',\n",
       " 'within',\n",
       " '200',\n",
       " 'years',\n",
       " ',',\n",
       " 'scientists',\n",
       " 'believe',\n",
       " '.',\n",
       " 'A',\n",
       " 'study',\n",
       " 'by',\n",
       " 'experts',\n",
       " 'in',\n",
       " 'Germany',\n",
       " 'suggests',\n",
       " 'people',\n",
       " 'with',\n",
       " 'blonde',\n",
       " 'hair',\n",
       " 'are',\n",
       " 'an',\n",
       " 'endangered',\n",
       " 'species',\n",
       " 'and',\n",
       " 'will',\n",
       " 'become',\n",
       " 'extinct',\n",
       " 'by',\n",
       " '2202',\n",
       " '.',\n",
       " 'Researchers',\n",
       " 'predict',\n",
       " 'the',\n",
       " 'last',\n",
       " 'truly',\n",
       " 'natural',\n",
       " 'blonde',\n",
       " 'will',\n",
       " 'be',\n",
       " 'born',\n",
       " 'in',\n",
       " 'Finland',\n",
       " '-',\n",
       " 'the',\n",
       " 'country',\n",
       " 'with',\n",
       " 'the',\n",
       " 'highest',\n",
       " 'proportion',\n",
       " 'of',\n",
       " 'blondes',\n",
       " '.',\n",
       " 'The',\n",
       " 'frequency',\n",
       " 'of',\n",
       " 'blondes',\n",
       " 'may',\n",
       " 'drop',\n",
       " 'but',\n",
       " 'they',\n",
       " 'wo',\n",
       " \"n't\",\n",
       " 'disappear',\n",
       " 'Prof',\n",
       " 'Jonathan',\n",
       " 'Rees',\n",
       " ',',\n",
       " 'University',\n",
       " 'of',\n",
       " 'Edinburgh',\n",
       " 'But',\n",
       " 'they',\n",
       " 'say',\n",
       " 'too',\n",
       " 'few',\n",
       " 'people',\n",
       " 'now',\n",
       " 'carry',\n",
       " 'the',\n",
       " 'gene',\n",
       " 'for',\n",
       " 'blondes',\n",
       " 'to',\n",
       " 'last',\n",
       " 'beyond',\n",
       " 'the',\n",
       " 'next',\n",
       " 'two',\n",
       " 'centuries',\n",
       " '.',\n",
       " 'The',\n",
       " 'problem',\n",
       " 'is',\n",
       " 'that',\n",
       " 'blonde',\n",
       " 'hair',\n",
       " 'is',\n",
       " 'caused',\n",
       " 'by',\n",
       " 'a',\n",
       " 'recessive',\n",
       " 'gene',\n",
       " '.',\n",
       " 'In',\n",
       " 'order',\n",
       " 'for',\n",
       " 'a',\n",
       " 'child',\n",
       " 'to',\n",
       " 'have',\n",
       " 'blonde',\n",
       " 'hair',\n",
       " ',',\n",
       " 'it',\n",
       " 'must',\n",
       " 'have',\n",
       " 'the',\n",
       " 'gene',\n",
       " 'on',\n",
       " 'both',\n",
       " 'sides',\n",
       " 'of',\n",
       " 'the',\n",
       " 'family',\n",
       " 'in',\n",
       " 'the',\n",
       " 'grandparents',\n",
       " \"'\",\n",
       " 'generation',\n",
       " '.',\n",
       " 'Dyed',\n",
       " 'rivals',\n",
       " 'The',\n",
       " 'researchers',\n",
       " 'also',\n",
       " 'believe',\n",
       " 'that',\n",
       " 'so-called',\n",
       " 'bottle',\n",
       " 'blondes',\n",
       " 'may',\n",
       " 'be',\n",
       " 'to',\n",
       " 'blame',\n",
       " 'for',\n",
       " 'the',\n",
       " 'demise',\n",
       " 'of',\n",
       " 'their',\n",
       " 'natural',\n",
       " 'rivals',\n",
       " '.',\n",
       " 'They',\n",
       " 'suggest',\n",
       " 'that',\n",
       " 'dyed-blondes',\n",
       " 'are',\n",
       " 'more',\n",
       " 'attractive',\n",
       " 'to',\n",
       " 'men',\n",
       " 'who',\n",
       " 'choose',\n",
       " 'them',\n",
       " 'as',\n",
       " 'partners',\n",
       " 'over',\n",
       " 'true',\n",
       " 'blondes',\n",
       " '.',\n",
       " 'Bottle-blondes',\n",
       " 'like',\n",
       " 'Ann',\n",
       " 'Widdecombe',\n",
       " 'may',\n",
       " 'be',\n",
       " 'to',\n",
       " 'blame',\n",
       " 'But',\n",
       " 'Jonathan',\n",
       " 'Rees',\n",
       " ',',\n",
       " 'professor',\n",
       " 'of',\n",
       " 'dermatology',\n",
       " 'at',\n",
       " 'the',\n",
       " 'University',\n",
       " 'of',\n",
       " 'Edinburgh',\n",
       " 'said',\n",
       " 'it',\n",
       " 'was',\n",
       " 'unlikely',\n",
       " 'blondes',\n",
       " 'would',\n",
       " 'die',\n",
       " 'out',\n",
       " 'completely',\n",
       " '.',\n",
       " '``',\n",
       " 'Genes',\n",
       " 'do',\n",
       " \"n't\",\n",
       " 'die',\n",
       " 'out',\n",
       " 'unless',\n",
       " 'there',\n",
       " 'is',\n",
       " 'a',\n",
       " 'disadvantage',\n",
       " 'of',\n",
       " 'having',\n",
       " 'that',\n",
       " 'gene',\n",
       " 'or',\n",
       " 'by',\n",
       " 'chance',\n",
       " '.',\n",
       " 'They',\n",
       " 'do',\n",
       " \"n't\",\n",
       " 'disappear',\n",
       " ',',\n",
       " \"''\",\n",
       " 'he',\n",
       " 'told',\n",
       " 'BBC',\n",
       " 'News',\n",
       " 'Online',\n",
       " '.',\n",
       " '``',\n",
       " 'The',\n",
       " 'only',\n",
       " 'reason',\n",
       " 'blondes',\n",
       " 'would',\n",
       " 'disappear',\n",
       " 'is',\n",
       " 'if',\n",
       " 'having',\n",
       " 'the',\n",
       " 'gene',\n",
       " 'was',\n",
       " 'a',\n",
       " 'disadvantage',\n",
       " 'and',\n",
       " 'I',\n",
       " 'do',\n",
       " 'not',\n",
       " 'think',\n",
       " 'that',\n",
       " 'is',\n",
       " 'the',\n",
       " 'case',\n",
       " '.',\n",
       " '``',\n",
       " 'The',\n",
       " 'frequency',\n",
       " 'of',\n",
       " 'blondes',\n",
       " 'may',\n",
       " 'drop',\n",
       " 'but',\n",
       " 'they',\n",
       " 'wo',\n",
       " \"n't\",\n",
       " 'disappear',\n",
       " '.',\n",
       " \"''\",\n",
       " 'See',\n",
       " 'also',\n",
       " ':',\n",
       " '28',\n",
       " 'Mar',\n",
       " '01',\n",
       " '|',\n",
       " 'Education',\n",
       " 'What',\n",
       " 'is',\n",
       " 'it',\n",
       " 'about',\n",
       " 'blondes',\n",
       " '?',\n",
       " '09',\n",
       " 'Apr',\n",
       " '99',\n",
       " '|',\n",
       " 'Health',\n",
       " 'Platinum',\n",
       " 'blondes',\n",
       " 'are',\n",
       " 'labelled',\n",
       " 'as',\n",
       " 'dumb',\n",
       " '17',\n",
       " 'Apr',\n",
       " '02',\n",
       " '|',\n",
       " 'Health',\n",
       " 'Hair',\n",
       " 'dye',\n",
       " 'cancer',\n",
       " 'alert',\n",
       " 'Internet',\n",
       " 'links',\n",
       " ':',\n",
       " 'University',\n",
       " 'of',\n",
       " 'Edinburgh',\n",
       " 'The',\n",
       " 'BBC',\n",
       " 'is',\n",
       " 'not',\n",
       " 'responsible',\n",
       " 'for',\n",
       " 'the',\n",
       " 'content',\n",
       " 'of',\n",
       " 'external',\n",
       " 'internet',\n",
       " 'sites',\n",
       " 'Top',\n",
       " 'Health',\n",
       " 'stories',\n",
       " 'now',\n",
       " ':',\n",
       " 'Climbdown',\n",
       " 'on',\n",
       " 'care',\n",
       " 'home',\n",
       " 'rules',\n",
       " 'Jab',\n",
       " 'to',\n",
       " 'counter',\n",
       " 'rise',\n",
       " 'in',\n",
       " 'deadly',\n",
       " 'disease',\n",
       " 'NHS',\n",
       " 'watchdog',\n",
       " 'to',\n",
       " 'monitor',\n",
       " 'operations',\n",
       " 'ECT',\n",
       " 'challenge',\n",
       " 'halted',\n",
       " 'Skill-sharing',\n",
       " 'cuts',\n",
       " \"doctors'\",\n",
       " 'workload',\n",
       " 'Heart',\n",
       " 'risk',\n",
       " 'link',\n",
       " 'to',\n",
       " 'big',\n",
       " 'families',\n",
       " 'Ministers',\n",
       " 'suffer',\n",
       " 'second',\n",
       " 'bed',\n",
       " 'block',\n",
       " 'defeat',\n",
       " 'Ebola',\n",
       " 'outbreak',\n",
       " 'confirmed',\n",
       " 'in',\n",
       " 'Congo',\n",
       " 'Links',\n",
       " 'to',\n",
       " 'more',\n",
       " 'Health',\n",
       " 'stories',\n",
       " 'are',\n",
       " 'at',\n",
       " 'the',\n",
       " 'foot',\n",
       " 'of',\n",
       " 'the',\n",
       " 'page',\n",
       " '.',\n",
       " 'E-mail',\n",
       " 'this',\n",
       " 'story',\n",
       " 'to',\n",
       " 'a',\n",
       " 'friend',\n",
       " 'Links',\n",
       " 'to',\n",
       " 'more',\n",
       " 'Health',\n",
       " 'stories',\n",
       " 'In',\n",
       " 'This',\n",
       " 'Section',\n",
       " 'Climbdown',\n",
       " 'on',\n",
       " 'care',\n",
       " 'home',\n",
       " 'rules',\n",
       " 'Jab',\n",
       " 'to',\n",
       " 'counter',\n",
       " 'rise',\n",
       " 'in',\n",
       " 'deadly',\n",
       " 'disease',\n",
       " 'NHS',\n",
       " 'watchdog',\n",
       " 'to',\n",
       " 'monitor',\n",
       " 'operations',\n",
       " 'ECT',\n",
       " 'challenge',\n",
       " 'halted',\n",
       " 'Skill-sharing',\n",
       " 'cuts',\n",
       " \"doctors'\",\n",
       " 'workload',\n",
       " 'Heart',\n",
       " 'risk',\n",
       " 'link',\n",
       " 'to',\n",
       " 'big',\n",
       " 'families',\n",
       " 'Ministers',\n",
       " 'suffer',\n",
       " 'second',\n",
       " 'bed',\n",
       " 'block',\n",
       " 'defeat',\n",
       " 'Ebola',\n",
       " 'outbreak',\n",
       " 'confirmed',\n",
       " 'in',\n",
       " 'Congo',\n",
       " 'Surgeon',\n",
       " 'hid',\n",
       " 'ban',\n",
       " 'to',\n",
       " 'get',\n",
       " 'work',\n",
       " 'Phone',\n",
       " 'mast',\n",
       " 'emissions',\n",
       " \"'well\",\n",
       " 'below',\n",
       " \"limits'\",\n",
       " 'Back',\n",
       " 'pain',\n",
       " 'drug',\n",
       " \"'may\",\n",
       " 'aid',\n",
       " \"diabetics'\",\n",
       " 'Vegetables',\n",
       " 'ward',\n",
       " 'off',\n",
       " \"Alzheimer's\",\n",
       " 'Gene',\n",
       " 'defect',\n",
       " 'explains',\n",
       " 'high',\n",
       " 'blood',\n",
       " 'pressure',\n",
       " 'Damages',\n",
       " 'over',\n",
       " 'brain',\n",
       " 'surgery',\n",
       " 'delay',\n",
       " 'Polio',\n",
       " 'campaign',\n",
       " 'launched',\n",
       " 'in',\n",
       " 'Iraq',\n",
       " 'Fears',\n",
       " 'over',\n",
       " 'tuna',\n",
       " 'health',\n",
       " 'risk',\n",
       " 'to',\n",
       " 'babies',\n",
       " '^^',\n",
       " 'Back',\n",
       " 'to',\n",
       " 'top',\n",
       " 'News',\n",
       " 'Front',\n",
       " 'Page',\n",
       " '|',\n",
       " 'World',\n",
       " '|',\n",
       " 'UK',\n",
       " '|',\n",
       " 'England',\n",
       " '|',\n",
       " 'N',\n",
       " 'Ireland',\n",
       " '|',\n",
       " 'Scotland',\n",
       " '|',\n",
       " 'Wales',\n",
       " '|',\n",
       " 'Politics',\n",
       " '|',\n",
       " 'Business',\n",
       " '|',\n",
       " 'Entertainment',\n",
       " '|',\n",
       " 'Science/Nature',\n",
       " '|',\n",
       " 'Technology',\n",
       " '|',\n",
       " 'Health',\n",
       " '|',\n",
       " 'Education',\n",
       " '|',\n",
       " 'Talking',\n",
       " 'Point',\n",
       " '|',\n",
       " 'Country',\n",
       " 'Profiles',\n",
       " '|',\n",
       " 'In',\n",
       " 'Depth',\n",
       " '|',\n",
       " 'Programmes',\n",
       " '--',\n",
       " '--',\n",
       " '--',\n",
       " '--',\n",
       " '--',\n",
       " '--',\n",
       " '--',\n",
       " '--',\n",
       " '--',\n",
       " '--',\n",
       " '--',\n",
       " '--',\n",
       " '--',\n",
       " '--',\n",
       " '--',\n",
       " '--',\n",
       " '--',\n",
       " '--',\n",
       " '--',\n",
       " '--',\n",
       " '--',\n",
       " '--',\n",
       " '--',\n",
       " '--',\n",
       " '--',\n",
       " '--',\n",
       " '--',\n",
       " '--',\n",
       " '--',\n",
       " '--',\n",
       " '--',\n",
       " '--',\n",
       " '--',\n",
       " '--',\n",
       " '--',\n",
       " '--',\n",
       " '--',\n",
       " '--',\n",
       " '--',\n",
       " '--',\n",
       " '--',\n",
       " 'To',\n",
       " 'BBC',\n",
       " 'Sport',\n",
       " '>',\n",
       " '>',\n",
       " '|',\n",
       " 'To',\n",
       " 'BBC',\n",
       " 'Weather',\n",
       " '>',\n",
       " '>',\n",
       " '|',\n",
       " 'To',\n",
       " 'BBC',\n",
       " 'World',\n",
       " 'Service',\n",
       " '>',\n",
       " '>',\n",
       " '--',\n",
       " '--',\n",
       " '--',\n",
       " '--',\n",
       " '--',\n",
       " '--',\n",
       " '--',\n",
       " '--',\n",
       " '--',\n",
       " '--',\n",
       " '--',\n",
       " '--',\n",
       " '--',\n",
       " '--',\n",
       " '--',\n",
       " '--',\n",
       " '--',\n",
       " '--',\n",
       " '--',\n",
       " '--',\n",
       " '--',\n",
       " '--',\n",
       " '--',\n",
       " '--',\n",
       " '--',\n",
       " '--',\n",
       " '--',\n",
       " '--',\n",
       " '--',\n",
       " '--',\n",
       " '--',\n",
       " '--',\n",
       " '--',\n",
       " '--',\n",
       " '--',\n",
       " '--',\n",
       " '--',\n",
       " '--',\n",
       " '--',\n",
       " '--',\n",
       " '--',\n",
       " '©',\n",
       " 'MMIII',\n",
       " '|',\n",
       " 'News',\n",
       " 'Sources',\n",
       " '|',\n",
       " 'Privacy',\n",
       " 'var',\n",
       " 'si',\n",
       " '=',\n",
       " 'document.location+',\n",
       " \"''\",\n",
       " \"''\",\n",
       " ';',\n",
       " 'var',\n",
       " 'tsi',\n",
       " '=',\n",
       " 'si.replace',\n",
       " '(',\n",
       " '``',\n",
       " '.stm',\n",
       " \"''\",\n",
       " ',',\n",
       " \"''\",\n",
       " \"''\",\n",
       " ')',\n",
       " '.substr',\n",
       " '(',\n",
       " 'si.length-11',\n",
       " ',',\n",
       " 'si.length',\n",
       " ')',\n",
       " ';',\n",
       " 'if',\n",
       " '(',\n",
       " '!',\n",
       " 'tsi.match',\n",
       " '(',\n",
       " '/\\\\d\\\\d\\\\d\\\\d\\\\d\\\\d\\\\d/',\n",
       " ')',\n",
       " ')',\n",
       " '{',\n",
       " 'tsi',\n",
       " '=',\n",
       " '0',\n",
       " ';',\n",
       " '}',\n",
       " 'document.write',\n",
       " '(',\n",
       " \"'\",\n",
       " '<',\n",
       " 'img',\n",
       " 'src=',\n",
       " \"''\",\n",
       " 'http',\n",
       " ':',\n",
       " '//stats.bbc.co.uk/o.gif',\n",
       " '?',\n",
       " '~RS~s~RS~News~RS~t~RS~HighWeb_Legacy~RS~i~RS~',\n",
       " \"'\",\n",
       " '+',\n",
       " 'tsi',\n",
       " '+',\n",
       " \"'~RS~p~RS~0~RS~u~RS~/1/hi/health/2284783.stm~RS~r~RS~\",\n",
       " '(',\n",
       " 'none',\n",
       " ')',\n",
       " '~RS~a~RS~Domestic~RS~q~RS~~RS~z~RS~39~RS~',\n",
       " \"''\",\n",
       " '>',\n",
       " \"'\",\n",
       " ')',\n",
       " ';']"
      ]
     },
     "execution_count": 18,
     "metadata": {},
     "output_type": "execute_result"
    }
   ],
   "source": [
    "raw = BeautifulSoup(html).get_text()\n",
    "tokens = word_tokenize(raw)\n",
    "tokens"
   ]
  },
  {
   "cell_type": "markdown",
   "metadata": {},
   "source": [
    "This still contains unwanted material concerning site navigation and related stories. With some trial and error you can find the start and end indexes of the content and select the tokens of interest, and initialize a text as before.\n",
    "\n"
   ]
  },
  {
   "cell_type": "code",
   "execution_count": 19,
   "metadata": {},
   "outputs": [
    {
     "name": "stdout",
     "output_type": "stream",
     "text": [
      "Displaying 5 of 5 matches:\n",
      "hey say too few people now carry the gene for blondes to last beyond the next \n",
      "blonde hair is caused by a recessive gene . In order for a child to have blond\n",
      " have blonde hair , it must have the gene on both sides of the family in the g\n",
      "ere is a disadvantage of having that gene or by chance . They do n't disappear\n",
      "des would disappear is if having the gene was a disadvantage and I do not thin\n"
     ]
    }
   ],
   "source": [
    "tokens = tokens[110:390]\n",
    "text = nltk.Text(tokens)\n",
    "text.concordance('gene')"
   ]
  },
  {
   "cell_type": "markdown",
   "metadata": {},
   "source": [
    "#### Processing Search Engine Results\n",
    "\n"
   ]
  },
  {
   "cell_type": "markdown",
   "metadata": {},
   "source": [
    "The web can be thought of as a huge corpus of unannotated text. Web search engines provide an efficient means of searching this large quantity of text for relevant linguistic examples. The main advantage of search engines is size: since you are searching such a large set of documents, you are more likely to find any linguistic pattern you are interested in. Furthermore, you can make use of very specific patterns, which would only match one or two examples on a smaller example, but which might match tens of thousands of examples when run on the web. A second advantage of web search engines is that they are very easy to use. Thus, they provide a very convenient tool for quickly checking a theory, to see if it is reasonable.\n",
    "\n"
   ]
  },
  {
   "cell_type": "markdown",
   "metadata": {},
   "source": [
    "![](table3.JPG)"
   ]
  },
  {
   "cell_type": "markdown",
   "metadata": {},
   "source": [
    "Unfortunately, search engines have some significant shortcomings. First, the allowable range of search patterns is severely restricted. Unlike local corpora, where you write programs to search for arbitrarily complex patterns, search engines generally only allow you to search for individual words or strings of words, sometimes with wildcards. Second, search engines give inconsistent results, and can give widely different figures when used at different times or in different geographical regions. When content has been duplicated across multiple sites, search results may be boosted. Finally, the markup in the result returned by a search engine may change unpredictably, breaking any pattern-based method of locating particular content (a problem which is ameliorated by the use of search engine APIs).\n",
    "\n"
   ]
  },
  {
   "cell_type": "markdown",
   "metadata": {},
   "source": [
    "<b>Your Turn</b>: Search the web for \"the of\" (inside quotes). Based on the large count, can we conclude that the of is a frequent collocation in English"
   ]
  },
  {
   "cell_type": "markdown",
   "metadata": {},
   "source": [
    "<mark>after looking for the \"the of\", we can say that it is a collocation in English</mark>\n"
   ]
  },
  {
   "cell_type": "markdown",
   "metadata": {},
   "source": [
    "#### Processing RSS Feeds\n",
    "\n"
   ]
  },
  {
   "cell_type": "markdown",
   "metadata": {},
   "source": [
    "The blogosphere is an important source of text, in both formal and informal registers. With the help of a Python library called the Universal Feed Parser, available from  https://pypi.python.org/pypi/feedparser, we can access the content of a blog, as shown below:\n",
    "\n"
   ]
  },
  {
   "cell_type": "code",
   "execution_count": 21,
   "metadata": {},
   "outputs": [
    {
     "name": "stdout",
     "output_type": "stream",
     "text": [
      "Requirement already satisfied: feedparser in c:\\users\\pc\\anaconda3\\lib\\site-packages\n"
     ]
    }
   ],
   "source": [
    "!pip install feedparser"
   ]
  },
  {
   "cell_type": "code",
   "execution_count": 22,
   "metadata": {},
   "outputs": [
    {
     "name": "stdout",
     "output_type": "stream",
     "text": [
      "Language Log\n"
     ]
    }
   ],
   "source": [
    "import feedparser\n",
    "llog = feedparser.parse(\"http://languagelog.ldc.upenn.edu/nll/?feed=atom\")\n",
    "print(llog['feed']['title'])\n"
   ]
  },
  {
   "cell_type": "code",
   "execution_count": 25,
   "metadata": {},
   "outputs": [
    {
     "name": "stdout",
     "output_type": "stream",
     "text": [
      "13\n",
      "Bad Chinese\n",
      "<p>Sign south of the demolished Pfeiffer Bridge on Highway 1 in Monter\n"
     ]
    }
   ],
   "source": [
    "print(len(llog.entries))\n",
    "post = llog.entries[2]\n",
    "print(post.title)\n",
    "content = post.content[0].value\n",
    "print(content[:70])\n"
   ]
  },
  {
   "cell_type": "markdown",
   "metadata": {},
   "source": [
    "With some further work, we can write programs to create a small corpus of blog posts, and use this as the basis for our NLP work.\n",
    "\n"
   ]
  },
  {
   "cell_type": "code",
   "execution_count": 26,
   "metadata": {},
   "outputs": [
    {
     "name": "stdout",
     "output_type": "stream",
     "text": [
      "['Sign', 'south', 'of', 'the', 'demolished', 'Pfeiffer', 'Bridge', 'on', 'Highway', '1', 'in', 'Monterey', 'County', '(', 'photograph', 'taken', 'on', 'August', '12', ',', '2017', 'by', 'Richard', 'Masoner', 'while', 'on', 'a', 'Big', 'Sur', 'bike', 'trip', ',', 'via', 'Flickr', ')', ':', 'This', 'is', 'not', 'Chinglish', '.', 'It', 'is', 'the', 'opposite', 'of', 'Chinglish', ':', 'English', 'poorly', 'translated', 'into', 'Chinese', '.', 'The', 'sign', 'says', ':', 'Zhǔdòng', 'gōnglù', 'bùyào', 'zǒu', 'zài', 'zhōngjiān', 'de', 'lùxiàn', 'bǎochí', 'bái', 'xiàn', 'de', 'quánlì', '主动公路不要走在中间的路线保持白线的权利', 'It', \"'s\", 'difficult', 'for', 'me', 'to', 'make', 'sense', 'of', 'this', 'sign', '.', 'Chinese', 'friends', 'to', 'whom', 'I', 'show', 'this', 'sign', 'are', 'also', 'totally', 'confused', 'by', 'it', '.', 'Forced', 'translation', 'into', 'English', ':', \"''\", 'Active', 'highway', '.', 'Do', \"n't\", 'walk', '/', 'ride', 'in', 'the', 'center', 'line', '/', 'lane', '.', 'Keep', '/', 'maintain', 'the', 'rights', 'of', 'the', 'white', 'line', '.', \"''\", 'Word', 'for', 'word', 'translations', ':', 'zhǔdòng', '主动', 'active', ';', 'initiative', ';', 'driving', 'gōnglù', '公路', 'highway', ';', 'road', 'bùyào', '不要', 'do', 'not', 'zǒu', '走', 'walk', ';', 'ride', 'zài', '在', 'in', ';', 'at', 'zhōngjiān', '中间', 'between', ';', 'inside', 'de', '的', 'of', 'lùxiàn', '路线', 'route', ';', 'lane', 'bǎochí', '保持', 'keep', ';', 'maintain', 'báixiàn', '白线', 'white', 'line', '(', 'perhaps', 'signifying', '``', 'fog', 'line', \"''\", 'here', ')', 'de', '的', 'of', 'quánlì', '权利', 'right', '(', 's', ')', ';', 'legal', 'right', ';', 'droit', 'I', 'think', 'what', 'they', \"'re\", 'trying', 'to', 'say', 'is', 'something', 'like', 'this', ':', 'Busy', 'highway', '.', 'Do', \"n't\", 'walk', '/', 'ride', 'in', 'the', 'center', 'lane', '.', 'Stay', 'to', 'the', 'right', 'of', 'the', 'white', 'line', '.', 'Translated', 'into', 'Chinese', ',', 'that', 'would', 'be', 'something', 'like', 'this', ':', 'Fánmáng', 'de', 'gōnglù', '.', 'Bùyào', 'zài', 'zhōngjiān', 'chēdào', 'shàng', 'zǒulù/qíchē', '.', 'Qǐng', 'kào', 'bái', 'xiàn', 'de', 'yòubiān', '.', '繁忙的公路。不要在中间车道上走路/骑车。请靠白线的右边。', 'Of', 'course', ',', 'there', 'are', 'many', 'other', 'possibilities', ',', 'depending', 'upon', 'exactly', 'what', 'the', 'original', 'English', 'was', '.', 'For', 'those', 'who', 'are', 'interested', ',', 'here', 'I', \"'ll\", 'give', 'half', 'a', 'dozen', 'other', 'versions', 'suggested', 'by', 'respondents', ',', 'but', 'only', 'in', 'Chinese', 'characters', 'with', 'Hanyu', 'Pinyin', ':', 'Chēliú', 'fánmáng', '.', 'Jìnzhǐ', 'zài', 'zhōngjiān', 'chēdào', '(', 'or', 'maybe', 'jīdòng', 'chēdào', '?', ')', 'shàng', 'zǒulù/qíchē', '.', 'Bǎochí', 'zài', 'bái', 'xiàn', 'yòufāng', 'xíngshǐ', '.', '车流繁忙。禁止在中间车道', '(', 'or', 'maybe', '机动车道', '?', ')', '上走路／骑车。保持在白线右方行驶。', 'Fánmáng', 'lùduàn', ',', 'xíngrén', 'hé', 'fēi', 'jīdòngchē', 'yánjìn', 'zhànyòng', 'zhōngjiān', 'chēdào', ',', 'qǐng', 'zài', 'bái', 'xiàn', 'yòucè', 'xíngzǒu', 'huò', 'qíxíng', '.', '繁忙路段，行人和非机动车严禁占用中间车道，请在白线右侧行走或骑行。', 'Gōnglù', 'fánmáng', ',', 'qǐng', 'wù', 'yú', 'zhōngjiān', 'chēdào', 'xíngzǒu/xíngshǐ', '.', 'Xíngzǒu/xíngshǐ', 'shí', 'qǐng', 'kào', 'yòu', ',', 'wù', 'chāoyuè', 'bái', 'xiàn', '.', '公路繁忙，请勿于中间车道行走/行驶。行走/行驶時請靠右，勿超越白綫。', 'Gōnglù', 'fánmáng', ',', 'qǐng', 'wù', 'zhànyòng', 'zhōngjiān', 'chēdào', ',', 'qǐng', 'kào', 'bái', 'xiàn', 'yòucè', 'xíngshǐ', '.', '公路繁忙，请勿占用中间车道，请靠白线右侧行驶。', 'Gōnglù', 'chēliú', 'liàngdà', ',', 'fēi', 'jīdòngchē', 'qǐng', 'bǎochí', 'zài', 'bái', 'xiàn', 'yòucè', ',', 'wù', 'zhànyòng', 'zhōngjiān', 'chēdào', '.', '公路车流量大，非机动车请保持在白线右侧，勿占用中间车道。', 'Gōnglù', 'chēliàng', 'duō', '.', 'Qǐng', 'wù', 'zài', 'zhōngyāng', 'chēdào', 'shàng', 'xíngzǒu', 'huò', 'qíchē', '.', 'Xíngrén', 'qǐng', 'zǒu', 'bái', 'xiàn', 'yòubiān', '.', '公路车辆多。请勿在中央车道上行走或骑车。行人请走白线右边', 'They', 'all', 'mean', 'roughly', 'the', 'same', 'thing', 'as', 'what', 'I', 'proposed', 'above', 'in', 'English', 'and', 'Chinese', '(', 'they', 'were', 'basically', 'following', 'my', 'lead', '[', 'mine', 'was', 'considered', 'correct', ',', 'but', 'too', 'colloquial', 'for', 'a', 'sign', ']', ')', '.', '[', 'h.t', '.', ':', 'Martin', 'Delson', ';', 'thanks', 'to', 'Maiheng', 'Dietrich', ',', 'Melvin', 'Lee', ',', 'Yixue', 'Yang', ',', 'Jinyi', 'Cai', ',', 'Fangyi', 'Cheng', ',', 'and', 'Jing', 'Wen', ']']\n"
     ]
    },
    {
     "name": "stderr",
     "output_type": "stream",
     "text": [
      "C:\\Users\\pc\\Anaconda3\\lib\\site-packages\\bs4\\__init__.py:181: UserWarning: No parser was explicitly specified, so I'm using the best available HTML parser for this system (\"lxml\"). This usually isn't a problem, but if you run this code on another system, or in a different virtual environment, it may use a different parser and behave differently.\n",
      "\n",
      "The code that caused this warning is on line 193 of the file C:\\Users\\pc\\Anaconda3\\lib\\runpy.py. To get rid of this warning, change code that looks like this:\n",
      "\n",
      " BeautifulSoup(YOUR_MARKUP})\n",
      "\n",
      "to this:\n",
      "\n",
      " BeautifulSoup(YOUR_MARKUP, \"lxml\")\n",
      "\n",
      "  markup_type=markup_type))\n"
     ]
    }
   ],
   "source": [
    "raw = BeautifulSoup(content).get_text()\n",
    "print(word_tokenize(raw))"
   ]
  },
  {
   "cell_type": "markdown",
   "metadata": {},
   "source": [
    "#### Reading Local Files\n",
    "\n"
   ]
  },
  {
   "cell_type": "markdown",
   "metadata": {},
   "source": [
    "In order to read a local file, we need to use Python's built-in open() function, followed by the read() method. Suppose you have a file document.txt, you can load its contents like this:\n",
    "\n"
   ]
  },
  {
   "cell_type": "code",
   "execution_count": 7,
   "metadata": {
    "collapsed": true
   },
   "outputs": [],
   "source": [
    "f = open('document.txt')\n",
    "raw = f.read()"
   ]
  },
  {
   "cell_type": "markdown",
   "metadata": {},
   "source": [
    "To check that the file that you are trying to open is really in the right directory, use IDLE's Open command in the File menu; this will display a list of all the files in the directory where IDLE is running. An alternative is to examine the current directory from within Python:\n",
    "\n"
   ]
  },
  {
   "cell_type": "code",
   "execution_count": 8,
   "metadata": {},
   "outputs": [
    {
     "data": {
      "text/plain": [
       "['.ipynb_checkpoints',\n",
       " '1.Language_Processing_and_Python.ipynb',\n",
       " '2_Accessing_Text_Corpora_and_Lexical_Resources.ipynb',\n",
       " '3_Processing_Raw_Text.ipynb',\n",
       " 'accusatif....JPG',\n",
       " 'branches_phonétique.JPG',\n",
       " 'Categorizing_and_Tagging_Words.ipynb',\n",
       " 'document.txt',\n",
       " 'LDM.pdf',\n",
       " 'morohologie.JPG',\n",
       " 'phonologie.JPG',\n",
       " 'phonétique.JPG',\n",
       " 'phonétique_VS_phonologie.JPG',\n",
       " 'pipeline.JPG',\n",
       " 'semantique.JPG',\n",
       " 'table3.JPG',\n",
       " 'testcv.pdf',\n",
       " 'text-mining-pres.pdf',\n",
       " 'tp-nltk-ss.pdf']"
      ]
     },
     "execution_count": 8,
     "metadata": {},
     "output_type": "execute_result"
    }
   ],
   "source": [
    "import os \n",
    "os.listdir('.')  # document is here :)"
   ]
  },
  {
   "cell_type": "markdown",
   "metadata": {},
   "source": [
    "Another possible problem you might have encountered when accessing a text file is the newline conventions, which are different for different operating systems. The built-in open() function has a second parameter for controlling how the file is opened: open('document.txt', 'rU') — 'r' means to open the file for reading (the default), and 'U' stands for \"Universal\", which lets us ignore the different conventions used for marking newlines.\n",
    "\n"
   ]
  },
  {
   "cell_type": "markdown",
   "metadata": {},
   "source": [
    "Assuming that you can open the file, there are several methods for reading it. The read() method creates a string with the contents of the entire file:\n",
    "\n"
   ]
  },
  {
   "cell_type": "code",
   "execution_count": 37,
   "metadata": {},
   "outputs": [
    {
     "name": "stderr",
     "output_type": "stream",
     "text": [
      "C:\\Users\\pc\\Anaconda3\\lib\\site-packages\\ipykernel_launcher.py:1: DeprecationWarning: 'U' mode is deprecated\n",
      "  \"\"\"Entry point for launching an IPython kernel.\n"
     ]
    },
    {
     "data": {
      "text/plain": [
       "'Hello,\\nMy name is Riahi LOURIZ \\nI am new to this field of text mining\\nthese are some notebooks that can help you to learn NLP.'"
      ]
     },
     "execution_count": 37,
     "metadata": {},
     "output_type": "execute_result"
    }
   ],
   "source": [
    "f=open('document.txt', 'rU')\n",
    "raw=f.read()\n",
    "raw"
   ]
  },
  {
   "cell_type": "markdown",
   "metadata": {},
   "source": [
    "Recall that the '\\n' characters are <b>newlines</b>; this is equivalent to pressing Enter on a keyboard and starting a new line.\n",
    "\n"
   ]
  },
  {
   "cell_type": "markdown",
   "metadata": {},
   "source": [
    "We can also read a file one line at a time using a for loop:\n",
    "\n"
   ]
  },
  {
   "cell_type": "code",
   "execution_count": 9,
   "metadata": {},
   "outputs": [
    {
     "name": "stdout",
     "output_type": "stream",
     "text": [
      "Hello,\n",
      "My name is Riahi LOURIZ\n",
      "I am new to this field of text mining\n",
      "these are some notebooks that can help you to learn NLP.\n"
     ]
    },
    {
     "name": "stderr",
     "output_type": "stream",
     "text": [
      "C:\\Users\\pc\\Anaconda3\\lib\\site-packages\\ipykernel_launcher.py:1: DeprecationWarning: 'U' mode is deprecated\n",
      "  \"\"\"Entry point for launching an IPython kernel.\n"
     ]
    }
   ],
   "source": [
    "f=open('document.txt','rU')\n",
    "for line in f:\n",
    "    print(line.strip())\n",
    "    \n"
   ]
  },
  {
   "cell_type": "markdown",
   "metadata": {},
   "source": [
    "Here we use the strip() method to remove the newline character at the end of the input line.\n",
    "\n"
   ]
  },
  {
   "cell_type": "markdown",
   "metadata": {},
   "source": [
    "NLTK's corpus files can also be accessed using these methods. We simply have to use nltk.data.find() to get the filename for any corpus item. Then we can open and read it in the way we just demonstrated above:\n",
    "\n"
   ]
  },
  {
   "cell_type": "code",
   "execution_count": 10,
   "metadata": {
    "collapsed": true
   },
   "outputs": [],
   "source": [
    "path = nltk.data.find('corpora/gutenberg/melville-moby_dick.txt')"
   ]
  },
  {
   "cell_type": "code",
   "execution_count": 11,
   "metadata": {},
   "outputs": [
    {
     "name": "stderr",
     "output_type": "stream",
     "text": [
      "C:\\Users\\pc\\Anaconda3\\lib\\site-packages\\ipykernel_launcher.py:1: DeprecationWarning: 'U' mode is deprecated\n",
      "  \"\"\"Entry point for launching an IPython kernel.\n"
     ]
    }
   ],
   "source": [
    "raw = open(path, 'rU').read()"
   ]
  },
  {
   "cell_type": "markdown",
   "metadata": {},
   "source": [
    "#### Extracting Text from PDF, MSWord and other Binary Formats\n",
    "\n"
   ]
  },
  {
   "cell_type": "markdown",
   "metadata": {},
   "source": [
    "ASCII text and HTML text are human readable formats. Text often comes in binary formats — like PDF and MSWord — that can only be opened using specialized software. Third-party libraries such as  <i>pypdf</i> and <i>pywin32</i> provide access to these formats. Extracting text from multi-column documents is particularly challenging. For once-off conversion of a few documents, it is simpler to open the document with a suitable application, then save it as text to your local drive, and access it as described below. If the document is already on the web, you can enter its URL in Google's search box. The search result often includes a link to an HTML version of the document, which you can save as text.\n",
    "\n"
   ]
  },
  {
   "cell_type": "code",
   "execution_count": 47,
   "metadata": {},
   "outputs": [
    {
     "name": "stdout",
     "output_type": "stream",
     "text": [
      "Collecting PyPDF2\n",
      "  Downloading PyPDF2-1.26.0.tar.gz (77kB)\n",
      "Building wheels for collected packages: PyPDF2\n",
      "  Running setup.py bdist_wheel for PyPDF2: started\n",
      "  Running setup.py bdist_wheel for PyPDF2: finished with status 'done'\n",
      "  Stored in directory: C:\\Users\\pc\\AppData\\Local\\pip\\Cache\\wheels\\86\\6a\\6a\\1ce004a5996894d33d93e1fb1b67c30973dc945cc5875a1dd0\n",
      "Successfully built PyPDF2\n",
      "Installing collected packages: PyPDF2\n",
      "Successfully installed PyPDF2-1.26.0\n"
     ]
    }
   ],
   "source": [
    "!pip install PyPDF2"
   ]
  },
  {
   "cell_type": "code",
   "execution_count": 12,
   "metadata": {
    "collapsed": true
   },
   "outputs": [],
   "source": [
    "import PyPDF2"
   ]
  },
  {
   "cell_type": "code",
   "execution_count": 13,
   "metadata": {
    "collapsed": true
   },
   "outputs": [],
   "source": [
    "pdfFileObj = open('LDM.pdf', 'rb')"
   ]
  },
  {
   "cell_type": "code",
   "execution_count": 14,
   "metadata": {
    "collapsed": true
   },
   "outputs": [],
   "source": [
    "pdfReader = PyPDF2.PdfFileReader(pdfFileObj)"
   ]
  },
  {
   "cell_type": "code",
   "execution_count": 15,
   "metadata": {},
   "outputs": [
    {
     "data": {
      "text/plain": [
       "1"
      ]
     },
     "execution_count": 15,
     "metadata": {},
     "output_type": "execute_result"
    }
   ],
   "source": [
    "pdfReader.numPages"
   ]
  },
  {
   "cell_type": "code",
   "execution_count": 16,
   "metadata": {
    "collapsed": true
   },
   "outputs": [],
   "source": [
    "pageObj = pdfReader.getPage(0)"
   ]
  },
  {
   "cell_type": "code",
   "execution_count": 17,
   "metadata": {},
   "outputs": [
    {
     "data": {
      "text/plain": [
       "\"le8août2017\\nRiahiLOURIZ\\n+60142624708\\nriahi.louriz@telecom-bretagne.eu\\nIFREMER\\nPointeduDiable,\\n29280Plouzané\\nMadame,Monsieur,\\nC'estavecbeaucoupd'enthousiasmeetdemotivationquejevousadressemacandidaturepourrejoindre\\nvotreentrepriseentantqueDataScientist.\\nL'o˙requevousproposezcorrespondparfaitementàmesobjectifsenraisondel'intérêtparticulierqueje\\nporteauxstatistiquesetàl'analysededonnées;denatureobservateur,perspicaceetdotéd'unefortecapacité\\nd'analyseetd'anticipation,j'aipudévelopperungoûtprononcépourcedomaineàtraversplusieursmissions\\ne˙ectuéestoutaulongdemonparcoursprofessionnel,notammentaucoursd'uncerti˝caten\\nMachineLearning\\nquej'aiobtenusurlescoursenlignedecoursera.org(Stanforduniversity,ProfessorAndrewNg)etquim'a\\npermisdemefamiliariseraveclesoutilsetméthodesclassiquesd'analysededonnées(réseauxdeneurones,SVM,\\nMapReduce,LogisticRegression,AnomalyDetection,...).J'aiégalementobtenuuncerti˝catnommé\\nTheData\\nScientist'sToolbox\\n(coursera.org,JohnsHopkinsuniversity)cequim'apermisd'acquérirdesconnaissancessolides\\nentraitementdedonnéesetdedécouvrirlesoutilsduBigData.Jetiensàvouspréciserquejeferaiunéchange\\nacadémiqueenMalaisieoùjesuivraidescoursapprofondisenBigData,MachineLearningetfouillededonnées.\\nDeplus,j'aiobtenuuncerti˝catenprogrammationorientéeobjet(Java)délivréparÉcolepolytechniquefédérale\\ndeLausannecequim'apermisd'avoirdebonnesconnaissanceenprogrammation.Deplus,entroisièmeannée\\nàTélécomBretagnejecomptefairela˝lièredeBigData,doncjesuivraidescoursquivontencorem'aiderà\\ndéveloppermescompétencesdansledomainedeBigDataenparallèleavecmoncontratdeprofessionnalisation.\\nJ'aichoisiIFREMERpourladiversitédesopportunitésqu'elleproposeetpoursonsoucisd'accompagner\\nsescollaborateursdansleurévolutionprofessionnelle;ene˙et,votreentrepriseauneéquipetrèsdynamiquequi\\ntravaillentsurdessujetsliésaudéveloppementdurablecequiestenfaitunendroitidéalpourapprécierletravail.\\nCecontratdeprofessionnalisationmepermettrasansaucundouted'acquérirderéellescompétencesenmatière\\nd'analyseetinterprétationdedonnéesdanslaquellejesouhaitemespécialiser:IFREMERestdoncpourmoiune\\nréelleopportunitédeconcrétisermesambitions.\\nMaformation,àlafoistechniqueetfonctionnelle,m'aégalementpermisd'acquérirdescompétencesma-\\nnagérialesetunecapacitéàapporterdessolutionsinnovantesàdesproblématiquesnouvelles.Cesatoutsme\\npermettront,jel'espère,derépondreàvosattentestantauniveautechniquequ'auniveaudelamiseenplacede\\nprocessusfonctionnellesetdestratégiespertinentes.\\nDansl'attentedevotreréponse,jevouspried'agréer,Madame,Monsieur,l'expressiondemessalutations\\ndistinguées.\\nRiahiLOURIZ\\n1\\n\""
      ]
     },
     "execution_count": 17,
     "metadata": {},
     "output_type": "execute_result"
    }
   ],
   "source": [
    "pageObj.extractText()"
   ]
  },
  {
   "cell_type": "code",
   "execution_count": 18,
   "metadata": {},
   "outputs": [
    {
     "data": {
      "text/plain": [
       "PyPDF2.pdf.PageObject"
      ]
     },
     "execution_count": 18,
     "metadata": {},
     "output_type": "execute_result"
    }
   ],
   "source": [
    "type(pageObj)"
   ]
  },
  {
   "cell_type": "code",
   "execution_count": 80,
   "metadata": {},
   "outputs": [
    {
     "name": "stdout",
     "output_type": "stream",
     "text": [
      "Collecting docx\n",
      "  Downloading docx-0.2.4.tar.gz (54kB)\n",
      "Requirement already satisfied: lxml in c:\\users\\pc\\anaconda3\\lib\\site-packages (from docx)\n",
      "Requirement already satisfied: Pillow>=2.0 in c:\\users\\pc\\anaconda3\\lib\\site-packages (from docx)\n",
      "Requirement already satisfied: olefile in c:\\users\\pc\\anaconda3\\lib\\site-packages (from Pillow>=2.0->docx)\n",
      "Building wheels for collected packages: docx\n",
      "  Running setup.py bdist_wheel for docx: started\n",
      "  Running setup.py bdist_wheel for docx: finished with status 'done'\n",
      "  Stored in directory: C:\\Users\\pc\\AppData\\Local\\pip\\Cache\\wheels\\43\\43\\f7\\ae02727f01b27dd92d5ba84982cfd8da9484b7179e263253a0\n",
      "Successfully built docx\n",
      "Installing collected packages: docx\n",
      "Successfully installed docx-0.2.4\n"
     ]
    }
   ],
   "source": [
    "!pip install docx"
   ]
  },
  {
   "cell_type": "markdown",
   "metadata": {},
   "source": [
    "#### Capturing User Input\n",
    "\n"
   ]
  },
  {
   "cell_type": "markdown",
   "metadata": {},
   "source": [
    "Sometimes we want to capture the text that a user inputs when he is interacting with our program. To prompt the user to type a line of input, call the Python function input(). After saving the input to a variable, we can manipulate it just as we have done for other strings.\n",
    "\n"
   ]
  },
  {
   "cell_type": "code",
   "execution_count": 20,
   "metadata": {},
   "outputs": [
    {
     "name": "stdout",
     "output_type": "stream",
     "text": [
      "Enter some text: my name is Riahi LOURIZ\n"
     ]
    }
   ],
   "source": [
    "s = input(\"Enter some text: \")\n"
   ]
  },
  {
   "cell_type": "code",
   "execution_count": 21,
   "metadata": {},
   "outputs": [
    {
     "name": "stdout",
     "output_type": "stream",
     "text": [
      "You typed 5 words.\n"
     ]
    }
   ],
   "source": [
    "print(\"You typed\", len(word_tokenize(s)), \"words.\")"
   ]
  },
  {
   "cell_type": "code",
   "execution_count": 22,
   "metadata": {},
   "outputs": [
    {
     "data": {
      "text/plain": [
       "['my', 'name', 'is', 'Riahi', 'LOURIZ']"
      ]
     },
     "execution_count": 22,
     "metadata": {},
     "output_type": "execute_result"
    }
   ],
   "source": [
    "word_tokenize(s)"
   ]
  },
  {
   "cell_type": "markdown",
   "metadata": {},
   "source": [
    "#### The NLP Pipeline\n",
    "\n"
   ]
  },
  {
   "cell_type": "markdown",
   "metadata": {},
   "source": [
    "3.1 summarizes what we have covered in this section, including the process of building a vocabulary that we saw in 1.. (One step, normalization, will be discussed in 3.6.)\n",
    "\n"
   ]
  },
  {
   "cell_type": "markdown",
   "metadata": {},
   "source": [
    "\n",
    "![](pipeline.JPG)"
   ]
  },
  {
   "cell_type": "markdown",
   "metadata": {},
   "source": [
    "---\n",
    "##### example :\n",
    "---"
   ]
  },
  {
   "cell_type": "code",
   "execution_count": 92,
   "metadata": {},
   "outputs": [
    {
     "name": "stderr",
     "output_type": "stream",
     "text": [
      "UserWarning: No parser was explicitly specified, so I'm using the best available HTML parser for this system (\"lxml\"). This usually isn't a problem, but if you run this code on another system, or in a different virtual environment, it may use a different parser and behave differently.\n",
      "\n",
      "The code that caused this warning is on line 193 of the file C:\\Users\\pc\\Anaconda3\\lib\\runpy.py. To get rid of this warning, change code that looks like this:\n",
      "\n",
      " BeautifulSoup(YOUR_MARKUP})\n",
      "\n",
      "to this:\n",
      "\n",
      " BeautifulSoup(YOUR_MARKUP, \"lxml\")\n",
      " [__init__.py:181]\n"
     ]
    },
    {
     "data": {
      "text/plain": [
       "['\"',\n",
       " '\",\"\").',\n",
       " '\";',\n",
       " \"'\",\n",
       " '\\'\"><',\n",
       " \"')!=-\",\n",
       " \"'+\",\n",
       " \"'<\",\n",
       " \"'~\",\n",
       " '(',\n",
       " '(!',\n",
       " '(\".',\n",
       " '(\"<',\n",
       " \"('\",\n",
       " \"('<\",\n",
       " '(/\\\\',\n",
       " ')',\n",
       " ')+\"...\";',\n",
       " ');',\n",
       " '){',\n",
       " ')~',\n",
       " '+',\n",
       " '+\"\";',\n",
       " '+\\'\"',\n",
       " '+\\'\">\\'+\\'<',\n",
       " \"+'&\",\n",
       " \"+'</\",\n",
       " ',',\n",
       " ',\"',\n",
       " '-',\n",
       " '-------------',\n",
       " '----------------------------------------------------------------------------------',\n",
       " '.',\n",
       " '.\"',\n",
       " '/',\n",
       " '/\"\\'+\\'',\n",
       " '/))',\n",
       " '//-->',\n",
       " '0',\n",
       " '01',\n",
       " '02',\n",
       " '08',\n",
       " '09',\n",
       " '1',\n",
       " '11',\n",
       " '12',\n",
       " '17',\n",
       " '2',\n",
       " '200',\n",
       " '2002',\n",
       " '2202',\n",
       " '2284783',\n",
       " '252',\n",
       " '27',\n",
       " '28',\n",
       " '51',\n",
       " '99',\n",
       " ':',\n",
       " '://',\n",
       " ';',\n",
       " ';}',\n",
       " '<!--',\n",
       " '=',\n",
       " '=\"',\n",
       " '=\"\\'+',\n",
       " \"='+\",\n",
       " \"='<\",\n",
       " '>\");',\n",
       " \">');\",\n",
       " \">'+\",\n",
       " \">';\",\n",
       " '></',\n",
       " '>=',\n",
       " '>>',\n",
       " '?',\n",
       " '?~',\n",
       " '\\\\',\n",
       " '^^',\n",
       " 'a',\n",
       " 'abductees',\n",
       " 'about',\n",
       " 'africa',\n",
       " 'aid',\n",
       " 'alert',\n",
       " 'alien',\n",
       " 'also',\n",
       " 'alzheimer',\n",
       " 'americas',\n",
       " 'an',\n",
       " 'and',\n",
       " 'ann',\n",
       " 'applet',\n",
       " 'apr',\n",
       " 'are',\n",
       " 'as',\n",
       " 'asia',\n",
       " 'at',\n",
       " 'attractive',\n",
       " 'babies',\n",
       " 'back',\n",
       " 'bbc',\n",
       " 'be',\n",
       " 'become',\n",
       " 'believe',\n",
       " 'beyond',\n",
       " 'big',\n",
       " 'bin',\n",
       " 'blame',\n",
       " 'blonde',\n",
       " 'blondes',\n",
       " 'blood',\n",
       " 'bollywood',\n",
       " 'born',\n",
       " 'both',\n",
       " 'botox',\n",
       " 'bottle',\n",
       " 'business',\n",
       " 'but',\n",
       " 'by',\n",
       " 'called',\n",
       " 'campaign',\n",
       " 'can',\n",
       " 'cancer',\n",
       " 'carry',\n",
       " 'case',\n",
       " 'cause',\n",
       " 'caused',\n",
       " 'centuries',\n",
       " 'cgi',\n",
       " 'chance',\n",
       " 'change',\n",
       " 'child',\n",
       " 'choose',\n",
       " 'cid',\n",
       " 'class',\n",
       " 'co',\n",
       " 'code',\n",
       " 'codebase',\n",
       " 'com',\n",
       " 'comment',\n",
       " 'completely',\n",
       " 'confirmed',\n",
       " 'congo',\n",
       " 'content',\n",
       " 'count',\n",
       " 'country',\n",
       " 'd',\n",
       " 'daily',\n",
       " 'defect',\n",
       " 'demise',\n",
       " 'depth',\n",
       " 'dermatology',\n",
       " 'diabetics',\n",
       " 'die',\n",
       " 'disadvantage',\n",
       " 'disappear',\n",
       " 'do',\n",
       " 'document',\n",
       " 'don',\n",
       " 'drop',\n",
       " 'drug',\n",
       " 'dumb',\n",
       " 'dye',\n",
       " 'dyed',\n",
       " 'e',\n",
       " 'east',\n",
       " 'ebola',\n",
       " 'edinburgh',\n",
       " 'editions',\n",
       " 'education',\n",
       " 'else',\n",
       " 'endangered',\n",
       " 'entertainment',\n",
       " 'escape',\n",
       " 'europe',\n",
       " 'experts',\n",
       " 'explains',\n",
       " 'external',\n",
       " 'extinct',\n",
       " 'families',\n",
       " 'family',\n",
       " 'fears',\n",
       " 'feedback',\n",
       " 'few',\n",
       " 'finland',\n",
       " 'foot',\n",
       " 'for',\n",
       " 'frequency',\n",
       " 'friday',\n",
       " 'friend',\n",
       " 'front',\n",
       " 'gene',\n",
       " 'generation',\n",
       " 'genes',\n",
       " 'germany',\n",
       " 'gif',\n",
       " 'gmt',\n",
       " 'grandparents',\n",
       " 'hair',\n",
       " 'have',\n",
       " 'having',\n",
       " 'he',\n",
       " 'health',\n",
       " 'heart',\n",
       " 'height',\n",
       " 'help',\n",
       " 'hi',\n",
       " 'high',\n",
       " 'highest',\n",
       " 'highweb_legacy',\n",
       " 'how',\n",
       " 'http',\n",
       " 'i',\n",
       " 'if',\n",
       " 'img',\n",
       " 'imgn',\n",
       " 'imrworldwide',\n",
       " 'in',\n",
       " 'index',\n",
       " 'indexof',\n",
       " 'international',\n",
       " 'internet',\n",
       " 'iraq',\n",
       " 'is',\n",
       " 'it',\n",
       " 'jonathan',\n",
       " 'labelled',\n",
       " 'last',\n",
       " 'launched',\n",
       " 'length',\n",
       " 'like',\n",
       " 'link',\n",
       " 'links',\n",
       " 'location',\n",
       " 'mac',\n",
       " 'mail',\n",
       " 'mar',\n",
       " 'match',\n",
       " 'may',\n",
       " 'measure',\n",
       " 'medical',\n",
       " 'men',\n",
       " 'middle',\n",
       " 'mmiii',\n",
       " 'mobile',\n",
       " 'more',\n",
       " 'must',\n",
       " 'name',\n",
       " 'natural',\n",
       " 'nature',\n",
       " 'navigator',\n",
       " 'new',\n",
       " 'news',\n",
       " 'next',\n",
       " 'none',\n",
       " 'not',\n",
       " 'notes',\n",
       " 'now',\n",
       " 'o',\n",
       " 'of',\n",
       " 'off',\n",
       " 'on',\n",
       " 'online',\n",
       " 'only',\n",
       " 'or',\n",
       " 'order',\n",
       " 'out',\n",
       " 'outbreak',\n",
       " 'over',\n",
       " 'p',\n",
       " 'pacific',\n",
       " 'page',\n",
       " 'pain',\n",
       " 'param',\n",
       " 'partners',\n",
       " 'pcid',\n",
       " 'pdas',\n",
       " 'people',\n",
       " 'platinum',\n",
       " 'point',\n",
       " 'polio',\n",
       " 'predict',\n",
       " 'pressure',\n",
       " 'privacy',\n",
       " 'problem',\n",
       " 'prof',\n",
       " 'professor',\n",
       " 'profiles',\n",
       " 'programmes',\n",
       " 'proportion',\n",
       " 'public',\n",
       " 'q',\n",
       " 'r',\n",
       " 'real',\n",
       " 'reason',\n",
       " 'recessive',\n",
       " 'rees',\n",
       " 'ref',\n",
       " 'referrer',\n",
       " 'refr',\n",
       " 'replace',\n",
       " 'researchers',\n",
       " 'responsible',\n",
       " 'risk',\n",
       " 'rivals',\n",
       " 'rs',\n",
       " 's',\n",
       " 'said',\n",
       " 'say',\n",
       " 'science',\n",
       " 'scientists',\n",
       " 'search',\n",
       " 'section',\n",
       " 'see',\n",
       " 'september',\n",
       " 'server',\n",
       " 'service',\n",
       " 'services',\n",
       " 'show',\n",
       " 'si',\n",
       " 'sides',\n",
       " 'sites',\n",
       " 'so',\n",
       " 'sources',\n",
       " 'south',\n",
       " 'species',\n",
       " 'sperm',\n",
       " 'sport',\n",
       " 'spot',\n",
       " 'src',\n",
       " 'stats',\n",
       " 'stm',\n",
       " 'stories',\n",
       " 'story',\n",
       " 'strokes',\n",
       " 'stub',\n",
       " 'study',\n",
       " 'substr',\n",
       " 'substring',\n",
       " 'suggest',\n",
       " 'suggests',\n",
       " 'symptoms',\n",
       " 't',\n",
       " 'talking',\n",
       " 'taught',\n",
       " 'technology',\n",
       " 'text',\n",
       " 'textflow',\n",
       " 'that',\n",
       " 'the',\n",
       " 'their',\n",
       " 'them',\n",
       " 'there',\n",
       " 'they',\n",
       " 'think',\n",
       " 'this',\n",
       " 'ticker',\n",
       " 'to',\n",
       " 'told',\n",
       " 'too',\n",
       " 'top',\n",
       " 'true',\n",
       " 'truly',\n",
       " 'tsi',\n",
       " 'tuna',\n",
       " 'two',\n",
       " 'u',\n",
       " 'uk',\n",
       " 'uk_bbc_0',\n",
       " 'university',\n",
       " 'unless',\n",
       " 'unlikely',\n",
       " 'useragent',\n",
       " 'value',\n",
       " 'var',\n",
       " 'vegetables',\n",
       " 'w0',\n",
       " 'ward',\n",
       " 'was',\n",
       " 'weather',\n",
       " 'what',\n",
       " 'who',\n",
       " 'widdecombe',\n",
       " 'width',\n",
       " 'will',\n",
       " 'with',\n",
       " 'within',\n",
       " 'won',\n",
       " 'world',\n",
       " 'would',\n",
       " 'wriggle',\n",
       " 'wrinkles',\n",
       " 'write',\n",
       " 'years',\n",
       " 'you',\n",
       " 'z',\n",
       " '{',\n",
       " '|',\n",
       " '}',\n",
       " '~',\n",
       " '~\">\\');',\n",
       " \"~'\",\n",
       " '~(',\n",
       " '~/',\n",
       " '~~',\n",
       " '©']"
      ]
     },
     "execution_count": 92,
     "metadata": {},
     "output_type": "execute_result"
    }
   ],
   "source": [
    "url = \"http://news.bbc.co.uk/2/hi/health/2284783.stm\"  # url of the content\n",
    "html = request.urlopen(url).read().decode('utf8')  # open url and read it\n",
    "raw = BeautifulSoup(html).get_text()  # clean markup with bs4.BeautifulSoup(..)\n",
    "tokens = nltk.wordpunct_tokenize(raw) \n",
    "print(len(tokens))\n",
    "text=nltk.Text(tokens)\n",
    "words= [w.lower() for w in text]\n",
    "vocab= sorted(set(words))\n",
    "vocab"
   ]
  },
  {
   "cell_type": "markdown",
   "metadata": {},
   "source": [
    "There's a lot going on in this pipeline. To understand it properly, it helps to be clear about the type of each variable that it mentions. We find out the type of any Python object x using type(x), e.g. type(1) is  <int> since 1 is an integer.\n",
    "\n",
    "When we load the contents of a URL or file, and when we strip out HTML markup, we are dealing with strings, Python's <str> data type. (We will learn more about strings in 3.2):"
   ]
  },
  {
   "cell_type": "code",
   "execution_count": 23,
   "metadata": {},
   "outputs": [
    {
     "data": {
      "text/plain": [
       "str"
      ]
     },
     "execution_count": 23,
     "metadata": {},
     "output_type": "execute_result"
    }
   ],
   "source": [
    "raw = open('document.txt').read()\n",
    "type(raw)"
   ]
  },
  {
   "cell_type": "markdown",
   "metadata": {},
   "source": [
    "When we tokenize a string we produce a list (of words), and this is Python's <list> type. Normalizing and sorting lists produces other lists:\n",
    "\n"
   ]
  },
  {
   "cell_type": "code",
   "execution_count": 24,
   "metadata": {},
   "outputs": [
    {
     "data": {
      "text/plain": [
       "list"
      ]
     },
     "execution_count": 24,
     "metadata": {},
     "output_type": "execute_result"
    }
   ],
   "source": [
    "tokens = word_tokenize(raw)\n",
    "type(tokens)\n",
    "words = [w.lower() for w in tokens]\n",
    "type(words)\n",
    "vocab = sorted(set(words))\n",
    "type(vocab)"
   ]
  },
  {
   "cell_type": "markdown",
   "metadata": {},
   "source": [
    "The type of an object determines what operations you can perform on it. So, for example, we can append to a list but not to a string:\n",
    "\n"
   ]
  },
  {
   "cell_type": "code",
   "execution_count": 25,
   "metadata": {
    "collapsed": true
   },
   "outputs": [],
   "source": [
    "vocab.append('blog')\n"
   ]
  },
  {
   "cell_type": "code",
   "execution_count": 26,
   "metadata": {
    "collapsed": true
   },
   "outputs": [],
   "source": [
    "#raw.append('blog')  # PRODUCE AN ERROR"
   ]
  },
  {
   "cell_type": "markdown",
   "metadata": {},
   "source": [
    "### 3.2   Strings: Text Processing at the Lowest Level\n",
    "\n"
   ]
  },
  {
   "cell_type": "markdown",
   "metadata": {
    "collapsed": true
   },
   "source": [
    "It's time to examine a fundamental data type that we've been studiously avoiding so far. In earlier chapters we focused on a text as a list of words. We didn't look too closely at words and how they are handled in the programming language. By using NLTK's corpus interface we were able to ignore the files that these texts had come from. The contents of a word, and of a file, are represented by programming languages as a fundamental data type known as a string. In this section we explore strings in detail, and show the connection between strings, words, texts and files.\n",
    "\n"
   ]
  },
  {
   "cell_type": "markdown",
   "metadata": {},
   "source": [
    "#### Basic Operations with Strings\n",
    "\n"
   ]
  },
  {
   "cell_type": "markdown",
   "metadata": {},
   "source": [
    "Strings are specified using single quotes [1] or double quotes [2], as shown below. If a string contains a single quote, we must backslash-escape the quote [3] so Python knows a literal quote character is intended, or else put the string in double quotes [2]. Otherwise, the quote inside the string [4] will be interpreted as a close quote, and the Python interpreter will report a syntax error:\n",
    "\n"
   ]
  },
  {
   "cell_type": "code",
   "execution_count": 28,
   "metadata": {},
   "outputs": [
    {
     "name": "stdout",
     "output_type": "stream",
     "text": [
      "Monty Python\n",
      "Monty Python's Flying Circus\n",
      "Monty Python's Flying Circus\n"
     ]
    }
   ],
   "source": [
    "monty = 'Monty Python' #[1]\n",
    "print(monty)\n",
    "circus = \"Monty Python's Flying Circus\" #[2]\n",
    "print(circus)\n",
    "circus = 'Monty Python\\'s Flying Circus' #[3]\n",
    "print(circus)\n"
   ]
  },
  {
   "cell_type": "code",
   "execution_count": 30,
   "metadata": {
    "collapsed": true
   },
   "outputs": [],
   "source": [
    "#circus = 'Monty Python's Flying Circus' #[4]  gives a syntax error"
   ]
  },
  {
   "cell_type": "markdown",
   "metadata": {},
   "source": [
    "Sometimes strings go over several lines. Python provides us with various ways of entering them. In the next example, a sequence of two strings is joined into a single string. We need to use backslash [1] or parentheses [2] so that the interpreter knows that the statement is not complete after the first line.\n",
    "\n"
   ]
  },
  {
   "cell_type": "code",
   "execution_count": 32,
   "metadata": {},
   "outputs": [
    {
     "name": "stdout",
     "output_type": "stream",
     "text": [
      "Shall I compare thee to a Summer's day?Thou are more lovely and more temperate:\n"
     ]
    }
   ],
   "source": [
    "couplet = \"Shall I compare thee to a Summer's day?\"\\\n",
    "...           \"Thou are more lovely and more temperate:\" #[1]\n",
    "print(couplet)"
   ]
  },
  {
   "cell_type": "code",
   "execution_count": 33,
   "metadata": {},
   "outputs": [
    {
     "name": "stdout",
     "output_type": "stream",
     "text": [
      "Rough winds do shake the darling buds of May,And Summer's lease hath all too short a date:\n"
     ]
    }
   ],
   "source": [
    "couplet = (\"Rough winds do shake the darling buds of May,\"\n",
    "...           \"And Summer's lease hath all too short a date:\") #[2]\n",
    "print(couplet)"
   ]
  },
  {
   "cell_type": "markdown",
   "metadata": {},
   "source": [
    "Unfortunately the above methods do not give us a newline between the two lines of the sonnet. Instead, we can use a triple-quoted string as follows:\n",
    "\n"
   ]
  },
  {
   "cell_type": "code",
   "execution_count": 34,
   "metadata": {},
   "outputs": [
    {
     "name": "stdout",
     "output_type": "stream",
     "text": [
      "Shall I compare thee to a Summer's day?\n",
      "Thou are more lovely and more temperate:\n"
     ]
    }
   ],
   "source": [
    "couplet = \"\"\"Shall I compare thee to a Summer's day?\n",
    "... Thou are more lovely and more temperate:\"\"\"\n",
    "print(couplet)"
   ]
  },
  {
   "cell_type": "code",
   "execution_count": 39,
   "metadata": {},
   "outputs": [
    {
     "name": "stdout",
     "output_type": "stream",
     "text": [
      "This is a notebook for nltk's book.\n",
      "You can explore it and get more knwoledge in this field\n"
     ]
    }
   ],
   "source": [
    "test= \"\"\"This is a notebook for nltk's book.\n",
    "... You can explore it and get more knwoledge in this field\"\"\"\n",
    "print(test)"
   ]
  },
  {
   "cell_type": "markdown",
   "metadata": {},
   "source": [
    "Now that we can define strings, we can try some simple operations on them. First let's look at the + operation, known as concatenation [1]. It produces a new string that is a copy of the two original strings pasted together end-to-end. Notice that concatenation doesn't do anything clever like insert a space between the words. We can even multiply strings [2]:\n",
    "\n"
   ]
  },
  {
   "cell_type": "code",
   "execution_count": 42,
   "metadata": {},
   "outputs": [
    {
     "data": {
      "text/plain": [
       "'veryveryvery'"
      ]
     },
     "execution_count": 42,
     "metadata": {},
     "output_type": "execute_result"
    }
   ],
   "source": [
    "'very' + 'very' + 'very'# [1]\n"
   ]
  },
  {
   "cell_type": "code",
   "execution_count": 41,
   "metadata": {},
   "outputs": [
    {
     "data": {
      "text/plain": [
       "'veryveryvery'"
      ]
     },
     "execution_count": 41,
     "metadata": {},
     "output_type": "execute_result"
    }
   ],
   "source": [
    "'very' * 3 #[2]"
   ]
  },
  {
   "cell_type": "markdown",
   "metadata": {},
   "source": [
    "<b>Note</b>\n",
    "\n",
    "Your Turn: Try running the following code, then try to use your understanding of the string + and * operations to figure out how it works. Be careful to distinguish between the string ' ', which is a single whitespace character, and '', which is the empty string."
   ]
  },
  {
   "cell_type": "code",
   "execution_count": 48,
   "metadata": {},
   "outputs": [
    {
     "name": "stdout",
     "output_type": "stream",
     "text": [
      "************SERL\n",
      "**********SERLSERL\n",
      "********SERLSERLSERL\n",
      "******SERLSERLSERLSERL\n",
      "****SERLSERLSERLSERLSERL\n",
      "**SERLSERLSERLSERLSERLSERL\n",
      "SERLSERLSERLSERLSERLSERLSERL\n",
      "**SERLSERLSERLSERLSERLSERL\n",
      "****SERLSERLSERLSERLSERL\n",
      "******SERLSERLSERLSERL\n",
      "********SERLSERLSERL\n",
      "**********SERLSERL\n",
      "************SERL\n"
     ]
    }
   ],
   "source": [
    "a = [1, 2, 3, 4, 5, 6, 7, 6, 5, 4, 3, 2, 1]\n",
    "b = ['*' * 2 * (7 - i) + 'SERL' * i for i in a]\n",
    "for line in b:\n",
    "    print(line)"
   ]
  },
  {
   "cell_type": "markdown",
   "metadata": {},
   "source": [
    "#### Accessing Individual Characters\n",
    "\n"
   ]
  },
  {
   "cell_type": "markdown",
   "metadata": {},
   "source": [
    "Again as with lists, we can use negative indexes for strings, where -1 is the index of the last character [1]. Positive and negative indexes give us two ways to refer to any position in a string. In this case, when the string had a length of 12, indexes 5 and -7 both refer to the same character (a space). (Notice that 5 = len(monty) - 7.)\n",
    "\n"
   ]
  },
  {
   "cell_type": "code",
   "execution_count": 49,
   "metadata": {},
   "outputs": [
    {
     "name": "stdout",
     "output_type": "stream",
     "text": [
      "Monty Python\n"
     ]
    }
   ],
   "source": [
    "print(monty)"
   ]
  },
  {
   "cell_type": "code",
   "execution_count": 50,
   "metadata": {},
   "outputs": [
    {
     "data": {
      "text/plain": [
       "'M'"
      ]
     },
     "execution_count": 50,
     "metadata": {},
     "output_type": "execute_result"
    }
   ],
   "source": [
    "monty[0]"
   ]
  },
  {
   "cell_type": "code",
   "execution_count": 51,
   "metadata": {},
   "outputs": [
    {
     "data": {
      "text/plain": [
       "' '"
      ]
     },
     "execution_count": 51,
     "metadata": {},
     "output_type": "execute_result"
    }
   ],
   "source": [
    "monty[5]"
   ]
  },
  {
   "cell_type": "code",
   "execution_count": 52,
   "metadata": {},
   "outputs": [
    {
     "data": {
      "text/plain": [
       "' '"
      ]
     },
     "execution_count": 52,
     "metadata": {},
     "output_type": "execute_result"
    }
   ],
   "source": [
    "monty[-7]"
   ]
  },
  {
   "cell_type": "markdown",
   "metadata": {},
   "source": [
    "We can write for loops to iterate over the characters in strings. This print function includes the optional end=' ' parameter, which is how we tell Python to print a space instead of a newline at the end.\n",
    "\n"
   ]
  },
  {
   "cell_type": "code",
   "execution_count": 53,
   "metadata": {},
   "outputs": [
    {
     "name": "stdout",
     "output_type": "stream",
     "text": [
      "c o l o r l e s s   g r e e n   i d e a s   s l e e p   f u r i o u s l y "
     ]
    }
   ],
   "source": [
    "sent = 'colorless green ideas sleep furiously'\n",
    "for ch in sent:\n",
    "    print(ch, end=' ')"
   ]
  },
  {
   "cell_type": "markdown",
   "metadata": {},
   "source": [
    "We can count individual characters as well. We should ignore the case distinction by normalizing everything to lowercase, and filter out non-alphabetic characters:\n",
    "\n"
   ]
  },
  {
   "cell_type": "code",
   "execution_count": 54,
   "metadata": {},
   "outputs": [
    {
     "data": {
      "text/plain": [
       "[('e', 117092), ('t', 87996), ('a', 77916), ('o', 69326), ('n', 65617)]"
      ]
     },
     "execution_count": 54,
     "metadata": {},
     "output_type": "execute_result"
    }
   ],
   "source": [
    "from nltk.corpus import gutenberg\n",
    "raw = gutenberg.raw('melville-moby_dick.txt')\n",
    "fdist = nltk.FreqDist(ch.lower() for ch in raw if ch.isalpha())\n",
    "fdist.most_common(5)"
   ]
  },
  {
   "cell_type": "code",
   "execution_count": 57,
   "metadata": {},
   "outputs": [
    {
     "name": "stdout",
     "output_type": "stream",
     "text": [
      "['e', 't', 'a', 'o', 'n', 'i', 's', 'h', 'r', 'l', 'd', 'u', 'm', 'c', 'w', 'f', 'g', 'p', 'b', 'y', 'v', 'k', 'q', 'j', 'x', 'z']\n"
     ]
    }
   ],
   "source": [
    "print([char for (char, count) in fdist.most_common()])\n"
   ]
  },
  {
   "cell_type": "markdown",
   "metadata": {},
   "source": [
    "#### The Difference between Lists and Strings\n",
    "\n"
   ]
  },
  {
   "cell_type": "markdown",
   "metadata": {},
   "source": [
    "Strings and lists are both kinds of sequence. We can pull them apart by indexing and slicing them, and we can join them together by concatenating them. However, we cannot join strings and lists:\n",
    "\n"
   ]
  },
  {
   "cell_type": "code",
   "execution_count": 62,
   "metadata": {},
   "outputs": [
    {
     "data": {
      "text/plain": [
       "'o'"
      ]
     },
     "execution_count": 62,
     "metadata": {},
     "output_type": "execute_result"
    }
   ],
   "source": [
    "query = 'Who knows?'\n",
    "beatles = ['John', 'Paul', 'George', 'Ringo']\n",
    "query[2]"
   ]
  },
  {
   "cell_type": "code",
   "execution_count": 63,
   "metadata": {},
   "outputs": [
    {
     "data": {
      "text/plain": [
       "'George'"
      ]
     },
     "execution_count": 63,
     "metadata": {},
     "output_type": "execute_result"
    }
   ],
   "source": [
    "beatles[2]"
   ]
  },
  {
   "cell_type": "code",
   "execution_count": 64,
   "metadata": {},
   "outputs": [
    {
     "data": {
      "text/plain": [
       "'Wh'"
      ]
     },
     "execution_count": 64,
     "metadata": {},
     "output_type": "execute_result"
    }
   ],
   "source": [
    "query[:2]"
   ]
  },
  {
   "cell_type": "code",
   "execution_count": 65,
   "metadata": {},
   "outputs": [
    {
     "data": {
      "text/plain": [
       "['John', 'Paul']"
      ]
     },
     "execution_count": 65,
     "metadata": {},
     "output_type": "execute_result"
    }
   ],
   "source": [
    "beatles[:2]"
   ]
  },
  {
   "cell_type": "code",
   "execution_count": 66,
   "metadata": {},
   "outputs": [
    {
     "data": {
      "text/plain": [
       "\"Who knows? I don't\""
      ]
     },
     "execution_count": 66,
     "metadata": {},
     "output_type": "execute_result"
    }
   ],
   "source": [
    "query + \" I don't\""
   ]
  },
  {
   "cell_type": "code",
   "execution_count": 68,
   "metadata": {
    "collapsed": true
   },
   "outputs": [],
   "source": [
    "#beatles + 'Brian'     #TypeError: can only concatenate list (not \"str\") to list"
   ]
  },
  {
   "cell_type": "code",
   "execution_count": 69,
   "metadata": {},
   "outputs": [
    {
     "data": {
      "text/plain": [
       "['John', 'Paul', 'George', 'Ringo', 'Brian']"
      ]
     },
     "execution_count": 69,
     "metadata": {},
     "output_type": "execute_result"
    }
   ],
   "source": [
    "beatles + ['Brian']"
   ]
  },
  {
   "cell_type": "markdown",
   "metadata": {},
   "source": [
    "<mark>When we open a file for reading into a Python program, we get a string corresponding to the contents of the whole file. If we use a for loop to process the elements of this string, all we can pick out are the individual characters — we don't get to choose the granularity. By contrast, the elements of a list can be as big or small as we like: for example, they could be paragraphs, sentences, phrases, words, characters. So lists have the advantage that we can be flexible about the elements they contain, and correspondingly flexible about any downstream processing. Consequently, one of the first things we are likely to do in a piece of NLP code is tokenize a string into a list of strings (3.7). Conversely, when we want to write our results to a file, or to a terminal, we will usually format them as a string (3.9).\n",
    "\n",
    "</mark>"
   ]
  },
  {
   "cell_type": "markdown",
   "metadata": {},
   "source": [
    "Lists and strings do not have exactly the same functionality. Lists have the added power that you can change their elements:\n",
    "\n"
   ]
  },
  {
   "cell_type": "code",
   "execution_count": 70,
   "metadata": {},
   "outputs": [
    {
     "data": {
      "text/plain": [
       "['John', 'Paul', 'George', 'Ringo']"
      ]
     },
     "execution_count": 70,
     "metadata": {},
     "output_type": "execute_result"
    }
   ],
   "source": [
    "beatles"
   ]
  },
  {
   "cell_type": "code",
   "execution_count": 72,
   "metadata": {},
   "outputs": [
    {
     "data": {
      "text/plain": [
       "['John', 'Paul', 'George']"
      ]
     },
     "execution_count": 72,
     "metadata": {},
     "output_type": "execute_result"
    }
   ],
   "source": [
    "beatles[0]\n",
    "del beatles[-1]\n",
    "beatles\n"
   ]
  },
  {
   "cell_type": "code",
   "execution_count": 74,
   "metadata": {},
   "outputs": [
    {
     "data": {
      "text/plain": [
       "['John Lennon', 'Paul', 'George']"
      ]
     },
     "execution_count": 74,
     "metadata": {},
     "output_type": "execute_result"
    }
   ],
   "source": [
    "beatles[0] = \"John Lennon\"\n",
    "beatles"
   ]
  },
  {
   "cell_type": "markdown",
   "metadata": {},
   "source": [
    "On the other hand if we try to do that with a string — changing the 0th character in query to 'F' — we get:\n",
    "\n"
   ]
  },
  {
   "cell_type": "code",
   "execution_count": 76,
   "metadata": {
    "collapsed": true
   },
   "outputs": [],
   "source": [
    "#query[0] = 'F'   #TypeError: 'str' object does not support item assignment"
   ]
  },
  {
   "cell_type": "markdown",
   "metadata": {},
   "source": [
    "This is because strings are <b>immutable</b> — you can't change a string once you have created it. However, lists are <b>mutable</b>, and their contents can be modified at any time. As a result, lists support operations that modify the original value rather than producing a new value.\n",
    "\n"
   ]
  },
  {
   "cell_type": "markdown",
   "metadata": {},
   "source": [
    "### 3.3   Text Processing with Unicode\n",
    "\n"
   ]
  },
  {
   "cell_type": "markdown",
   "metadata": {
    "collapsed": true
   },
   "source": [
    "Our programs will often need to deal with different languages, and different character sets. The concept of \"plain text\" is a fiction. If you live in the English-speaking world you probably use ASCII, possibly without realizing it. If you live in Europe you might use one of the extended Latin character sets, containing such characters as \"ø\" for Danish and Norwegian, \"ő\" for Hungarian, \"ñ\" for Spanish and Breton, and \"ň\" for Czech and Slovak. In this section, we will give an overview of how to use Unicode for processing texts that use non-ASCII character sets.\n",
    "\n"
   ]
  },
  {
   "cell_type": "markdown",
   "metadata": {},
   "source": [
    "##### What is Unicode?\n",
    "\n"
   ]
  },
  {
   "cell_type": "markdown",
   "metadata": {},
   "source": [
    "Unicode supports over a million characters. Each character is assigned a number, called a code point. In Python, code points are written in the form \\uXXXX, where XXXX is the number in 4-digit hexadecimal form.\n",
    "\n",
    "Within a program, we can manipulate Unicode strings just like normal strings. However, when Unicode characters are stored in files or displayed on a terminal, they must be encoded as a stream of bytes. Some encodings (such as ASCII and Latin-2) use a single byte per code point, so they can only support a small subset of Unicode, enough for a single language. Other encodings (such as UTF-8) use multiple bytes and can represent the full range of Unicode characters.\n",
    "\n",
    "Text in files will be in a particular encoding, so we need some mechanism for translating it into Unicode — translation into Unicode is called decoding. Conversely, to write out Unicode to a file or a terminal, we first need to translate it into a suitable encoding — this translation out of Unicode is called encoding, and is illustrated in 3.3."
   ]
  },
  {
   "cell_type": "markdown",
   "metadata": {},
   "source": [
    "![](unicode.JPG)"
   ]
  },
  {
   "cell_type": "markdown",
   "metadata": {},
   "source": [
    "From a Unicode perspective, characters are abstract entities which can be realized as one or more glyphs. Only glyphs can appear on a screen or be printed on paper. A font is a mapping from characters to glyphs.\n",
    "\n"
   ]
  },
  {
   "cell_type": "markdown",
   "metadata": {},
   "source": [
    "#### Extracting encoded text from files\n",
    "\n"
   ]
  },
  {
   "cell_type": "markdown",
   "metadata": {},
   "source": [
    "Let's assume that we have a small text file, and that we know how it is encoded. For example, polish-lat2.txt, as the name suggests, is a snippet of Polish text (from the Polish Wikipedia; see http://pl.wikipedia.org/wiki/Biblioteka_Pruska). This file is encoded as Latin-2, also known as ISO-8859-2. The function nltk.data.find() locates the file for us.\n",
    "\n"
   ]
  },
  {
   "cell_type": "code",
   "execution_count": 78,
   "metadata": {
    "collapsed": true
   },
   "outputs": [],
   "source": [
    "path = nltk.data.find('corpora/unicode_samples/polish-lat2.txt')\n"
   ]
  },
  {
   "cell_type": "markdown",
   "metadata": {
    "collapsed": true
   },
   "source": [
    "## 3.4   Regular Expressions for Detecting Word Patterns\n",
    "\n"
   ]
  },
  {
   "cell_type": "markdown",
   "metadata": {},
   "source": [
    "Many linguistic processing tasks involve pattern matching. For example, we can find words ending with ed using endswith('ed'). We saw a variety of such \"word tests\" in 4.2. Regular expressions give us a more powerful and flexible method for describing the character patterns we are interested in.\n",
    "\n"
   ]
  },
  {
   "cell_type": "markdown",
   "metadata": {},
   "source": [
    "To use regular expressions in Python we need to import the re library using: import re. We also need a list of words to search; we'll use the Words Corpus again (4). We will preprocess it to remove any proper names.\n",
    "\n"
   ]
  },
  {
   "cell_type": "code",
   "execution_count": 2,
   "metadata": {
    "collapsed": true
   },
   "outputs": [],
   "source": [
    "import nltk\n",
    "import re"
   ]
  },
  {
   "cell_type": "code",
   "execution_count": 6,
   "metadata": {},
   "outputs": [
    {
     "name": "stdout",
     "output_type": "stream",
     "text": [
      "<class 'list'> 210687\n",
      "['a', 'aa', 'aal', 'aalii', 'aam', 'aardvark', 'aardwolf', 'aba', 'abac', 'abaca'] ['zythem']\n"
     ]
    }
   ],
   "source": [
    "wordlist=[w for w in nltk.corpus.words.words('en') if w.islower()]\n",
    "print(type(wordlist),len(wordlist)) \n",
    "print(wordlist[0:10],wordlist[len(wordlist)-2:-1])"
   ]
  },
  {
   "cell_type": "markdown",
   "metadata": {},
   "source": [
    "#### Using Basic Meta-Characters\n",
    "\n"
   ]
  },
  {
   "cell_type": "markdown",
   "metadata": {},
   "source": [
    "Let's find words ending with ed using the regular expression «ed$». We will use the re.search(p, s) function to check whether the pattern p can be found somewhere inside the string s. We need to specify the characters of interest, and use the dollar sign which has a special behavior in the context of regular expressions in that it matches the end of the word:\n",
    "\n"
   ]
  },
  {
   "cell_type": "code",
   "execution_count": 10,
   "metadata": {},
   "outputs": [
    {
     "name": "stdout",
     "output_type": "stream",
     "text": [
      "['abaissed', 'abandoned', 'abased', 'abashed', 'abatised', 'abed', 'aborted', 'abridged', 'abscessed', 'absconded', 'absorbed', 'abstracted', 'abstricted', 'accelerated', 'accepted', 'accidented', 'accoladed', 'accolated', 'accomplished', 'accosted', 'accredited', 'accursed', 'accused', 'accustomed', 'acetated', 'acheweed', 'aciculated', 'aciliated', 'acknowledged', 'acorned', 'acquainted', 'acquired', 'acquisited', 'acred', 'aculeated', 'addebted', 'added', 'addicted', 'addlebrained', 'addleheaded', 'addlepated', 'addorsed', 'adempted', 'adfected', 'adjoined', 'admired', 'admitted', 'adnexed', 'adopted', 'adossed', 'adreamed', 'adscripted', 'aduncated', 'advanced', 'advised', 'aeried', 'aethered', 'afeared', 'affected', 'affectioned', 'affined', 'afflicted', 'affricated', 'affrighted', 'affronted', 'aforenamed', 'afterfeed', 'aftershafted', 'afterthoughted', 'afterwitted', 'agazed', 'aged', 'agglomerated', 'aggrieved', 'agminated', 'agnamed', 'agonied', 'agreed', 'agueweed', 'ahungered', 'aiguilletted', 'ailweed', 'airbrained', 'airified', 'aiseweed', 'aisled', 'alarmed', 'alated', 'alimonied', 'aliped', 'alleyed', 'allied', 'alligatored', 'allseed', 'almsdeed', 'aloed', 'altared', 'alveolated', 'amazed', 'ameed', 'amiced', 'amphitheatered', 'ampullated', 'amused', 'anchored', 'angled', 'anguiped', 'anguished', 'angulated', 'angulinerved', 'anhungered', 'animated', 'aniseed', 'annodated', 'annulated', 'anomaliped', 'anserated', 'anteflected', 'anteflexed', 'antimoniated', 'antimoniureted', 'antimoniuretted', 'antiquated', 'antired', 'antiweed', 'antlered', 'apertured', 'apexed', 'apicifixed', 'apiculated', 'apocopated', 'apostrophied', 'appearanced', 'appellatived', 'appendaged', 'appendiculated', 'applied', 'appressed', 'aralkylated', 'arbored', 'arched', 'architraved', 'arcked', 'arcuated', 'ared', 'areolated', 'ariled', 'arillated', 'armchaired', 'armed', 'armied', 'armillated', 'armored', 'armoried', 'arpeggiated', 'arpeggioed', 'arrased', 'arrowed', 'arrowheaded', 'arrowweed', 'arseneted', 'arsenetted', 'arseniureted', 'articled', 'articulated', 'ashamed', 'ashlared', 'ashweed', 'aspersed', 'asphyxied', 'assented', 'assessed', 'assigned', 'assistanted', 'associated', 'assonanced', 'assorted', 'assumed', 'assured', 'asteriated', 'astonied', 'aswooned', 'atrophiated', 'atrophied', 'attached', 'attired', 'attrited', 'augmented', 'aurated', 'auricled', 'auriculated', 'authorized', 'autoinhibited', 'autosensitized', 'autosled', 'averted', 'avowed', 'awearied', 'awned', 'awninged', 'axed', 'axhammered', 'axised', 'axled', 'axseed', 'axweed', 'azoted', 'azured', 'babied', 'babished', 'babyfied', 'baccated', 'backboned', 'backed', 'backhanded', 'backwatered', 'baconweed', 'badgerweed', 'bagged', 'bagwigged', 'baked', 'balanced', 'balconied', 'baldachined', 'baldricked', 'balled', 'ballweed', 'balsamweed', 'balustered', 'balustraded', 'bandannaed', 'banded', 'bandoleered', 'bangled', 'banked', 'bankweed', 'bannered', 'barbated', 'barbed', 'barebacked', 'bareboned', 'barefaced', 'barefooted', 'barehanded', 'bareheaded', 'barelegged', 'barenecked', 'barmybrained', 'barred', 'barreled', 'bartizaned', 'basebred', 'based', 'basehearted', 'basifixed', 'basilweed', 'basined', 'basinerved', 'basqued', 'bastioned', 'bated', 'bathroomed', 'battered', 'batteried', 'battled', 'battlemented', 'bayed', 'bayoneted', 'beached', 'beaded', 'beaked', 'bealtared', 'beamed', 'beanweed', 'beaproned', 'bearded', 'beautied', 'beavered', 'beballed', 'bebannered', 'bebed', 'bebelted', 'bebled', 'bebothered', 'bebouldered', 'bebuttoned', 'becassocked', 'bechained', 'bechignoned', 'becircled', 'becoiffed', 'becombed', 'becousined', 'becrinolined', 'becuffed', 'becurtained', 'becushioned', 'bed', 'bedaggered', 'bedangled', 'bedded', 'bediademed', 'bediamonded', 'beedged', 'beefheaded', 'beeheaded', 'beeswinged', 'beetled', 'beetleheaded', 'beetleweed', 'beeweed', 'befamilied', 'befanned', 'befathered', 'beferned', 'befetished', 'befezzed', 'befilleted', 'befilmed', 'beforested', 'befountained', 'befrocked', 'befrogged', 'befurbelowed', 'befurred', 'begabled', 'begarlanded', 'begartered', 'beggarweed', 'beglobed', 'begoggled', 'begowned', 'behatted', 'behaviored', 'beheadlined', 'behooped', 'beinked', 'bekilted', 'beknived', 'beknotted', 'belaced', 'belated', 'belatticed', 'belavendered', 'beledgered', 'belfried', 'beliked', 'belimousined', 'belled', 'bellied', 'bellmouthed', 'bellweed', 'beloved', 'belozenged', 'belted', 'bemazed', 'bemedaled', 'bemedalled', 'bemitered', 'bemitred', 'bemused', 'bemuslined', 'bended', 'beneaped', 'beneficed', 'beneighbored', 'benempted', 'benighted', 'bennetweed', 'benumbed', 'benweed', 'benzoated', 'benzoinated', 'bepastured', 'bepatched', 'beperiwigged', 'bepewed', 'bepillared', 'bepistoled', 'beplaided', 'beplumed', 'beribanded', 'beribboned', 'beringed', 'beringleted', 'berobed', 'berouged', 'berried', 'berthed', 'beruffed', 'beruffled', 'beshawled', 'besieged', 'beslushed', 'besotted', 'bespecked', 'bespectacled', 'besped', 'bespeed', 'bespelled', 'bespurred', 'bestatued', 'bestayed', 'bestrapped', 'bestubbled', 'besweatered', 'betattered', 'betaxed', 'betowered', 'betrothed', 'betrousered', 'betted', 'betuckered', 'beturbaned', 'betusked', 'betutored', 'betwattled', 'beuniformed', 'beveled', 'bevelled', 'bevesseled', 'bevesselled', 'bevined', 'bevoiled', 'bewaitered', 'bewhiskered', 'bewigged', 'bewildered', 'bewinged', 'bewired', 'bewrathed', 'biangulated', 'biarcuated', 'biarticulated', 'bicarbureted', 'biciliated', 'bicolored', 'bicorned', 'bidented', 'bifanged', 'bifidated', 'biflected', 'biforked', 'biformed', 'bifronted', 'bifurcated', 'bigeminated', 'bighearted', 'bigmouthed', 'bigoted', 'bigwigged', 'bilamellated', 'bilaminated', 'billed', 'bilobated', 'bilobed', 'bilsted', 'bimaculated', 'bimotored', 'bindweed', 'bineweed', 'binominated', 'binucleated', 'biparted', 'bipectinated', 'biped', 'bipennated', 'bipinnated', 'bipinnatiparted', 'bipinnatisected', 'biradiated', 'birdmouthed', 'birdseed', 'birdweed', 'birostrated', 'birthbed', 'bisexed', 'bishopweed', 'bistered', 'bistipuled', 'bisubstituted', 'bitted', 'bitterhearted', 'bitterweed', 'bituberculated', 'bitumed', 'bivalved', 'bivaulted', 'bivocalized', 'blackhearted', 'blackseed', 'blackshirted', 'bladderseed', 'bladderweed', 'bladed', 'blakeberyed', 'blamed', 'blanked', 'blanketed', 'blanketweed', 'blasted', 'bleached', 'bleared', 'bleed', 'blended', 'blessed', 'blighted', 'blinded', 'blindfolded', 'blindweed', 'blinked', 'blinkered', 'blistered', 'blisterweed', 'blithehearted', 'bloated', 'blobbed', 'blocked', 'blockheaded', 'blooded', 'bloodied', 'bloodshed', 'bloodstained', 'bloodweed', 'blossomed', 'blotched', 'bloused', 'blowzed', 'bludgeoned', 'bluebelled', 'bluehearted', 'blueweed', 'blunderheaded', 'blunthearted', 'blurred', 'bobbed', 'bobsled', 'bobtailed', 'bodiced', 'bodied', 'boiled', 'boldhearted', 'bolectioned', 'boled', 'boleweed', 'bolled', 'bombed', 'bonded', 'boned', 'boneheaded', 'bonneted', 'booked', 'booted', 'bootied', 'boozed', 'bordered', 'bordured', 'bosomed', 'bossed', 'bosselated', 'botched', 'botherheaded', 'bothsided', 'bottled', 'bottomed', 'boughed', 'bounded', 'bountied', 'bowed', 'boweled', 'bowlegged', 'bowstringed', 'braced', 'braceleted', 'brackened', 'bracted', 'braided', 'brambled', 'branched', 'branded', 'brandied', 'brangled', 'bravehearted', 'brawned', 'brazenfaced', 'breasted', 'breastweed', 'breathed', 'brecciated', 'bred', 'breeched', 'breed', 'breviped', 'bridebed', 'brideweed', 'bridged', 'bridled', 'briered', 'brimmed', 'bristled', 'broadhearted', 'brocaded', 'brocked', 'brokenhearted', 'bromoiodized', 'bronzed', 'brooked', 'brookweed', 'broomweed', 'broozled', 'browed', 'brownweed', 'bruckled', 'brushed', 'buboed', 'bucked', 'buckled', 'buckskinned', 'buffed', 'bugled', 'bugleweed', 'bugseed', 'bugweed', 'bulbed', 'bulked', 'bulkheaded', 'bullated', 'bulldogged', 'bulleted', 'bulletheaded', 'bullheaded', 'bullweed', 'bummed', 'bundlerooted', 'bundweed', 'bunted', 'buried', 'burled', 'burned', 'burnoosed', 'burntweed', 'burred', 'burroweed', 'burseed', 'burweed', 'bushed', 'busied', 'busked', 'buskined', 'busted', 'bustled', 'busybodied', 'buttered', 'butterfingered', 'butterweed', 'butteryfingered', 'buttocked', 'buttoned', 'buttonweed', 'cabled', 'caboshed', 'caddiced', 'caddised', 'cadenced', 'cadweed', 'caftaned', 'caged', 'cairned', 'caissoned', 'calced', 'calcified', 'calcined', 'calculated', 'calibered', 'calicoed', 'caligated', 'calpacked', 'calved', 'calycled', 'calyculated', 'camailed', 'camerated', 'cammed', 'campanulated', 'campshed', 'camused', 'canaliculated', 'cancellated', 'cancered', 'cancerweed', 'candied', 'candlelighted', 'candlesticked', 'candyweed', 'canioned', 'cankered', 'cankerweed', 'canned', 'cannelated', 'cannelured', 'cannoned', 'cannulated', 'canted', 'cantilevered', 'cantoned', 'cantred', 'caped', 'capernoited', 'capeweed', 'capitaled', 'capitated', 'capped', 'capriped', 'capsulated', 'capuched', 'carapaced', 'carbolated', 'carboyed', 'carbuncled', 'carcaneted', 'carded', 'carinated', 'carkled', 'carnaged', 'carnationed', 'carpetweed', 'carried', 'carrotweed', 'carucated', 'carunculated', 'cased', 'casemated', 'casemented', 'caseweed', 'casqued', 'castellated', 'castled', 'castorized', 'catamited', 'cataracted', 'catarrhed', 'catchweed', 'catenated', 'caterpillared', 'catfaced', 'catfooted', 'cathedraled', 'caudated', 'caverned', 'cavitied', 'cayenned', 'cedared', 'ceilinged', 'celebrated', 'cellated', 'celled', 'cellulated', 'celluloided', 'centered', 'centriffed', 'centuried', 'cerated', 'cered', 'certified', 'chafeweed', 'chaffseed', 'chaffweed', 'chafted', 'chained', 'chaliced', 'chambered', 'chamberleted', 'chamberletted', 'chanceled', 'channeled', 'channelled', 'chaped', 'chapleted', 'chapournetted', 'chapped', 'charioted', 'charqued', 'chartered', 'chasmed', 'chasteweed', 'chasubled', 'checked', 'checkered', 'checkrowed', 'cheered', 'cheliped', 'cherried', 'chickenbreasted', 'chickenhearted', 'chickenweed', 'chickweed', 'chicqued', 'chiggerweed', 'chignoned', 'childbed', 'childed', 'chilled', 'chined', 'chinned', 'chipped', 'chiseled', 'chitinized', 'chokered', 'chokeweed', 'cholterheaded', 'chopped', 'choppered', 'chorded', 'chowderheaded', 'christened', 'chubbed', 'chuckleheaded', 'churchified', 'churled', 'ciliated', 'cingulated', 'cinnamoned', 'cinquefoiled', 'circled', 'circumscribed', 'circumstanced', 'cirrated', 'cirrhosed', 'cirriped', 'cisted', 'citied', 'citified', 'citrated', 'civilized', 'clammed', 'clammyweed', 'clanned', 'clapped', 'classed', 'classified', 'clavated', 'clavellated', 'clawed', 'claybrained', 'clayweed', 'cleaded', 'cleanhanded', 'cleanhearted', 'clearheaded', 'clearhearted', 'clearweed', 'cled', 'cleeked', 'clefted', 'clerestoried', 'cliented', 'cliffed', 'cliffweed', 'clipped', 'cloaked', 'clocked', 'clodpated', 'cloistered', 'closed', 'closefisted', 'closehanded', 'closehearted', 'closemouthed', 'clotweed', 'clouded', 'clouted', 'clovered', 'clubbed', 'clubfisted', 'clubfooted', 'clubweed', 'clustered', 'coaged', 'coaggregated', 'coated', 'coattailed', 'cobbed', 'cocashweed', 'cochleated', 'cockaded', 'cocked', 'cockeyed', 'cockled', 'cockneybred', 'cockscombed', 'cockweed', 'codheaded', 'coed', 'coelongated', 'coembedded', 'coequated', 'coexpanded', 'coffeeweed', 'cogged', 'coifed', 'coiled', 'coldhearted', 'coleseed', 'colicweed', 'collared', 'collected', 'collied', 'colloped', 'colonnaded', 'colored', 'columnated', 'columned', 'combed', 'combined', 'compacted', 'complected', 'complexioned', 'complicated', 'componed', 'componented', 'composed', 'compressed', 'comprised', 'compulsed', 'conamed', 'concamerated', 'concealed', 'conceded', 'conceited', 'concentrated', 'concerned', 'concerted', 'conched', 'conchyliated', 'condemned', 'condensed', 'conditioned', 'conduplicated', 'coned', 'confated', 'conferted', 'confined', 'confirmed', 'conflated', 'confounded', 'confused', 'congested', 'conjoined', 'conjugated', 'connected', 'conred', 'consecrated', 'considered', 'consolidated', 'constrained', 'constricted', 'consumpted', 'contagioned', 'contented', 'contextured', 'continued', 'contorted', 'contortioned', 'contracted', 'contractured', 'contusioned', 'converted', 'convexed', 'convinced', 'convoluted', 'coolheaded', 'coolweed', 'copied', 'copleased', 'copped', 'coppernosed', 'copperytailed', 'coppiced', 'coppled', 'copsewooded', 'copygraphed', 'coraled', 'corded', 'corduroyed', 'cored', 'coreflexed', 'corked', 'cornered', 'cornified', 'cornuated', 'cornuted', 'corollated', 'coronaled', 'coronated', 'coroneted', 'coronetted', 'corpusculated', 'corrected', 'correlated', 'corridored', 'corrugated', 'corrupted', 'corticated', 'corymbed', 'corymbiated', 'cosphered', 'costated', 'cothurned', 'cottaged', 'cotted', 'cottonseed', 'cottonweed', 'cotwinned', 'couched', 'coughweed', 'counterattired', 'counterchanged', 'countercolored', 'counterdigged', 'counterembattled', 'counterembowed', 'counterfessed', 'countergirded', 'counterindented', 'counterpaled', 'counterpaned', 'counterpointed', 'counterquartered', 'counterreflected', 'counterscalloped', 'counterturned', 'counterweighted', 'countrified', 'couped', 'coupled', 'couponed', 'coursed', 'courtbred', 'coved', 'covenanted', 'covered', 'coversed', 'cowhearted', 'cowled', 'cowshed', 'cowslipped', 'cowweed', 'crabbed', 'crabweed', 'crackbrained', 'cracked', 'crackled', 'cragged', 'cramped', 'cranked', 'crannied', 'cratered', 'cravenhearted', 'crazed', 'crazyweed', 'creed', 'creeded', 'creepered', 'crenated', 'crenelated', 'creneled', 'crenulated', 'cressed', 'cressweed', 'crested', 'creviced', 'cried', 'crinated', 'crined', 'crispated', 'crisped', 'crocketed', 'crocused', 'crookbacked', 'crookbilled', 'crooked', 'crookfingered', 'crookheaded', 'crookkneed', 'crooklegged', 'crooknecked', 'crooknosed', 'crookshouldered', 'crooksided', 'crooksterned', 'crooktoothed', 'cropweed', 'crosiered', 'crossbolted', 'crossbred', 'crossbreed', 'crosscurrented', 'crossed', 'crossleted', 'crosslighted', 'crosstied', 'crossweed', 'crotched', 'crouched', 'crowded', 'crowdweed', 'crowfooted', 'crowned', 'crowstepped', 'crucified', 'cruelhearted', 'crumpled', 'crunchweed', 'crushed', 'crustated', 'crusted', 'crutched', 'crypted', 'crystallized', 'cubited', 'cudweed', 'cuirassed', 'cultivated', 'cultrated', 'cultured', 'cuminseed', 'cupolated', 'cupped', 'cupseed', 'curled', 'curried', 'cursed', 'curtailed', 'curved', 'curvinerved', 'cushioned', 'cusped', 'cussed', 'cutted', 'cutweed', 'cyanosed', 'cylindered', 'cypressed', 'cysted', 'daggered', 'daggletailed', 'daisied', 'damascened', 'damned', 'damped', 'dappled', 'darkhearted', 'darned', 'dashed', 'dazed', 'deadhearted', 'dealated', 'deathbed', 'deathweed', 'debauched', 'debentured', 'debilitated', 'deboshed', 'decahydrated', 'decarbonized', 'decarnated', 'decayed', 'deceased', 'decided', 'decked', 'declared', 'declined', 'decollated', 'decomposed', 'decorated', 'decried', 'decussated', 'deed', 'deedeed', 'deepmouthed', 'deerweed', 'defamed', 'defeasanced', 'deferred', 'defiled', 'defined', 'deflected', 'defoliated', 'deformed', 'degged', 'degraded', 'dejected', 'deligated', 'delighted', 'demented', 'demersed', 'demibastioned', 'demicivilized', 'demidigested', 'demikindred', 'deminatured', 'demiturned', 'demoded', 'dentated', 'dentelated', 'dentilated', 'departed', 'dephlogisticated', 'deplored', 'deplumated', 'depraved', 'depressed', 'deranged', 'derived', 'deseed', 'desegmented', 'deserted', 'deserved', 'designed', 'desired', 'detached', 'detailed', 'determined', 'detrited', 'deuced', 'devertebrated', 'deviled', 'devitalized', 'devoted', 'dewclawed', 'dewlapped', 'diamonded', 'difformed', 'diffused', 'digammated', 'digested', 'digitated', 'digitinerved', 'dignified', 'dihydrated', 'dilapidated', 'dilated', 'dillseed', 'dillweed', 'diluted', 'dimensioned', 'dimmed', 'dipped', 'directed', 'disabled', 'disaccustomed', 'disaffected', 'disagreed', 'disappointed', 'disaproned', 'disarmed', 'discalced', 'disclosed', 'discolored', 'discomposed', 'disconcerted', 'disconnected', 'discontented', 'discovered', 'discrested', 'diseased', 'disembed', 'disengaged', 'disguised', 'disgusted', 'dished', 'disheveled', 'disimpassioned', 'disinterested', 'disjasked', 'disjointed', 'dislocated', 'dismayed', 'dismembered', 'dismoded', 'disnosed', 'disordained', 'disordered', 'disordinated', 'dispassioned', 'dispatriated', 'dispersed', 'dispirited', 'displayed', 'displeased', 'disposed', 'dispositioned', 'disprivacied', 'disquieted', 'disrelated', 'dissatisfied', 'dissected', 'dissipated', 'dissuited', 'distasted', 'distempered', 'distilled', 'distinguished', 'distorted', 'distracted', 'distressed', 'distributed', 'disturbed', 'disubstituted', 'dittied', 'diversicolored', 'diversified', 'divided', 'doated', 'dobbed', 'dodded', 'doddered', 'dodecahydrated', 'dogged', 'doggoned', 'doghearted', 'doiled', 'doited', 'doitrified', 'dominated', 'donated', 'donnered', 'doored', 'doorweed', 'dormered', 'dorsifixed', 'doted', 'dotted', 'doubled', 'doublehanded', 'doublehearted', 'doublehorned', 'doublelunged', 'doubleted', 'dovetailed', 'doveweed', 'dowed', 'downcurved', 'downfeed', 'downfolded', 'downheaded', 'downhearted', 'downlooked', 'downweed', 'downweighted', 'dozed', 'dozzled', 'drabbletailed', 'dragged', 'draggletailed', 'drained', 'drammed', 'draperied', 'dratted', 'dressed', 'dried', 'driftweed', 'dropseed', 'dropsied', 'drybrained', 'duckhearted', 'duckweed', 'ducted', 'dullbrained', 'dullhearted', 'dummered', 'dummyweed', 'dunderheaded', 'dungbred', 'dutied', 'dwelled', 'dyeweed', 'dynamometamorphosed', 'eared', 'earringed', 'earthbred', 'earthed', 'earthenhearted', 'earthquaked', 'eaved', 'eburated', 'eburnated', 'echinulated', 'edged', 'edgeweed', 'educated', 'elated', 'elbowed', 'electrofused', 'elevated', 'elongated', 'embannered', 'embarrassed', 'embastioned', 'embattled', 'embed', 'embowed', 'embryonated', 'emerited', 'emersed', 'emotioned', 'employed', 'emptyhearted', 'enamored', 'enarched', 'encuirassed', 'endeared', 'ended', 'endorsed', 'enfiled', 'enfonced', 'enforced', 'engaged', 'enghosted', 'engouled', 'engrailed', 'engrained', 'engraved', 'engrossed', 'enhanced', 'enjambed', 'enlarged', 'enlightened', 'enlisted', 'enraged', 'enrolled', 'entablatured', 'entangled', 'envied', 'enworthed', 'epauleted', 'epauletted', 'equiaxed', 'equilobed', 'equiped', 'equisegmented', 'equisided', 'equisized', 'equispaced', 'equivalenced', 'equivalved', 'erased', 'ergoted', 'ermined', 'eroded', 'escaloped', 'escutcheoned', 'essed', 'established', 'estafetted', 'ethered', 'euchred', 'evenhanded', 'evenminded', 'eveweed', 'evilhearted', 'evilmouthed', 'exaggerated', 'exalted', 'exasperated', 'exceed', 'excited', 'excurvated', 'excurved', 'excysted', 'executed', 'exhausted', 'exostosed', 'expanded', 'expedited', 'experienced', 'experimented', 'exploded', 'exposed', 'expressed', 'exserted', 'extended', 'extinguished', 'extraconstellated', 'extracted', 'extradosed', 'extrared', 'extricated', 'eyebridled', 'eyed', 'eyeseed', 'fabled', 'faced', 'faceted', 'facultied', 'faded', 'fainthearted', 'falcated', 'falsehearted', 'fancied', 'fanged', 'fangled', 'fanioned', 'fantasied', 'fanweed', 'farcied', 'farfetched', 'farsighted', 'farweltered', 'fasciated', 'fascicled', 'fasciculated', 'fascinated', 'fashioned', 'fastigated', 'fatbrained', 'fated', 'fatheaded', 'fathearted', 'fathered', 'faunated', 'faussebrayed', 'favored', 'feared', 'featherbed', 'featherbrained', 'feathered', 'featheredged', 'featherheaded', 'featherpated', 'featherweed', 'featured', 'fed', 'feeblebrained', 'feeblehearted', 'feed', 'feigned', 'felonweed', 'felted', 'fenestrated', 'ferned', 'ferntickled', 'ferrated', 'fetched', 'fetlocked', 'feued', 'feverweed', 'fezzed', 'fibered', 'fibrillated', 'fibrilled', 'fibronucleated', 'ficklehearted', 'fiddlebrained', 'fiddlefaced', 'fiddleheaded', 'fielded', 'fiercehearted', 'figged', 'figulated', 'figured', 'filamented', 'filiformed', 'filled', 'fimbriated', 'fimbricated', 'finchbacked', 'finched', 'fingered', 'fingerparted', 'finialed', 'finished', 'finned', 'fiorded', 'firearmed', 'firebolted', 'fired', 'firefanged', 'fireweed', 'firmhearted', 'fishbed', 'fished', 'fishweed', 'fissiped', 'fisted', 'fistulated', 'fitched', 'fitted', 'fittyfied', 'fitweed', 'fixed', 'flabellinerved', 'flacked', 'flagellated', 'flamed', 'flammulated', 'flanched', 'flanked', 'flanneled', 'flannelmouthed', 'flapmouthed', 'flated', 'flatweed', 'flavored', 'flawed', 'flaxseed', 'flaxweed', 'fleaseed', 'fleaweed', 'fleckled', 'fled', 'fleeced', 'fleshed', 'flewed', 'flexed', 'flexured', 'flighted', 'flinthearted', 'flixweed', 'flooded', 'floreted', 'floriated', 'flowered', 'flued', 'fluked', 'flurried', 'fluted', 'fluxweed', 'fogged', 'folded', 'foliaged', 'foliated', 'folliculated', 'fonted', 'footed', 'footnoted', 'foraminated', 'forbled', 'forced', 'forcipated', 'forebemoaned', 'forecited', 'foredefeated', 'foredeserved', 'foredevised', 'forehanded', 'foreheaded', 'foreimpressed', 'foreinclined', 'forementioned', 'forenamed', 'forenoted', 'forepassed', 'forepossessed', 'forepretended', 'forepromised', 'foreprovided', 'forequoted', 'forerecited', 'forerehearsed', 'foreremembered', 'foresettled', 'foresighted', 'forespecified', 'forespeed', 'forested', 'forethoughted', 'foretimed', 'foretypified', 'forevouched', 'forewonted', 'forficated', 'forged', 'forked', 'formed', 'fornicated', 'forthfigured', 'fortuned', 'fossed', 'fossilated', 'fossiled', 'foulmouthed', 'foundationed', 'fountained', 'foveated', 'foveolated', 'foxtailed', 'fracted', 'fragmented', 'framed', 'frankhearted', 'frankincensed', 'fratched', 'frayed', 'freckened', 'freckled', 'freed', 'freehanded', 'freehearted', 'frenched', 'frenzied', 'freshhearted', 'fretted', 'fretworked', 'fried', 'friended', 'frightened', 'frilled', 'fringed', 'frogged', 'fronded', 'fronted', 'frosted', 'frostweed', 'frowzled', 'frozenhearted', 'fructed', 'fruited', 'fullhearted', 'fullmouthed', 'funded', 'fungused', 'funneled', 'furied', 'furnished', 'furred', 'furriered', 'furzed', 'fused', 'gabelled', 'gabioned', 'gadded', 'gaited', 'galeated', 'galled', 'galleried', 'gallooned', 'gallweed', 'galvanized', 'gamboised', 'gambreled', 'gangliated', 'gapeseed', 'gardened', 'gargoyled', 'garnished', 'garreted', 'gartered', 'gaslighted', 'gated', 'gauffered', 'gaunted', 'gauntleted', 'geared', 'ged', 'gelatined', 'gemeled', 'geminated', 'generalized', 'geniculated', 'gentlehearted', 'gentlemouthed', 'gerated', 'gested', 'gewgawed', 'ghostified', 'ghostweed', 'gibbed', 'gied', 'gifted', 'gilded', 'gilled', 'gimbaled', 'gimbaljawed', 'gimberjawed', 'gimleteyed', 'gimped', 'ginghamed', 'ginned', 'gipsyweed', 'glaceed', 'glaciered', 'gladhearted', 'glaived', 'glaked', 'glandered', 'glassweed', 'glazed', 'gleed', 'globated', 'globed', 'glossed', 'glued', 'gnarled', 'gnomed', 'goateed', 'goatweed', 'gobleted', 'gobmouthed', 'gobonated', 'godded', 'goffered', 'goggled', 'goitered', 'goldenmouthed', 'goldseed', 'goldweed', 'goodhearted', 'goosenecked', 'gooserumped', 'gooseweed', 'goosewinged', 'gorbellied', 'gorged', 'gorgeted', 'gormed', 'gossamered', 'gossipred', 'goutweed', 'gowked', 'graded', 'graduated', 'grafted', 'grained', 'granulated', 'graped', 'grassed', 'grassweed', 'gratified', 'graved', 'gravelweed', 'greatcoated', 'greathearted', 'greatmouthed', 'greaved', 'greed', 'greenheaded', 'greenhearted', 'greenswarded', 'greenweed', 'grieced', 'grieved', 'grilled', 'grizzled', 'groined', 'grosgrained', 'grottoed', 'grounded', 'grouped', 'groved', 'growed', 'grubbed', 'grufted', 'gruntled', 'guarded', 'guernseyed', 'gulfweed', 'gummed', 'gumweed', 'guttated', 'gutweed', 'gweed', 'gypsyweed', 'habilimented', 'habited', 'hacked', 'hackneyed', 'hagged', 'hagseed', 'hagweed', 'hailweed', 'haired', 'hairweed', 'halfheaded', 'halfhearted', 'halfpaced', 'hallmarked', 'hallowed', 'hallucined', 'halved', 'hamated', 'hamleted', 'hammerheaded', 'hanced', 'handed', 'handicapped', 'handled', 'hardfisted', 'hardhanded', 'hardheaded', 'hardhearted', 'hardmouthed', 'harebrained', 'harefooted', 'harehearted', 'harelipped', 'harshweed', 'hatred', 'hatted', 'haunched', 'haustellated', 'hawked', 'hawkweed', 'hawthorned', 'hayseed', 'hayweed', 'hazeled', 'headed', 'hearted', 'heartseed', 'heartweed', 'heathered', 'heavyhanded', 'heavyheaded', 'heavyhearted', 'hecatomped', 'hederated', 'hedgeweed', 'heed', 'heeled', 'heliced', 'hellbred', 'hellweed', 'helmed', 'helmeted', 'hemihydrated', 'hemisphered', 'hempseed', 'hempweed', 'henhearted', 'heptahydrated', 'herbaged', 'herniated', 'hersed', 'heterochromatized', 'heterostyled', 'hexahydrated', 'hexaped', 'hidated', 'hided', 'highbred', 'highhanded', 'highhearted', 'hillocked', 'hipped', 'hired', 'historiated', 'historied', 'hoarheaded', 'hoaryheaded', 'hobnailed', 'hogged', 'hogweed', 'hollowfaced', 'hollowhearted', 'holstered', 'homebred', 'homostyled', 'honeycombed', 'honeydewed', 'honeyed', 'honeyhearted', 'honeylipped', 'honeymouthed', 'honeysuckled', 'honied', 'hooded', 'hoofed', 'hooked', 'hookweed', 'hooped', 'hoped', 'hopped', 'horned', 'hornyhanded', 'horsehaired', 'horseweed', 'hosed', 'hotbed', 'hotbrained', 'hotheaded', 'hothearted', 'hotmouthed', 'hotspurred', 'hucklebacked', 'hued', 'hulverheaded', 'humblehearted', 'humblemouthed', 'humpbacked', 'humped', 'hunchbacked', 'hundred', 'hungerweed', 'hurled', 'hurried', 'hurted', 'husked', 'huskened', 'huttonweed', 'hydrated', 'hydraulicked', 'hydrosulphurated', 'hydrosulphureted', 'hypercarbureted', 'hypercarburetted', 'hypercivilized', 'hyperpigmented', 'hypersophisticated', 'hypertrophied', 'hyphenated', 'hyporhined', 'iced', 'ichneumoned', 'ichneumonized', 'ichthyized', 'icicled', 'ideaed', 'idleheaded', 'illimited', 'illoricated', 'illuminated', 'illusioned', 'imbannered', 'imbased', 'imbed', 'imbricated', 'immatured', 'immeasured', 'immerited', 'immodulated', 'immonastered', 'immortified', 'immotioned', 'impacted', 'imparalleled', 'impassioned', 'imperceived', 'imperfected', 'imperforated', 'impermeated', 'imperturbed', 'implumed', 'impolished', 'inaccentuated', 'inanimated', 'inarticulated', 'inbred', 'inbreed', 'incarmined', 'incavated', 'inched', 'included', 'incompensated', 'incompleted', 'incomposed', 'incomprehended', 'inconditioned', 'inconfused', 'inconnected', 'inconsidered', 'inconsumed', 'incontracted', 'incontrolled', 'inconvinced', 'incoronated', 'incorporated', 'incorrupted', 'incrassated', 'incredited', 'incrossbred', 'indebted', 'indeed', 'indented', 'indentured', 'indetermined', 'indevoted', 'indexed', 'indigested', 'indirected', 'indisciplined', 'indiscovered', 'indiscriminated', 'indisposed', 'indistinguished', 'indisturbed', 'induced', 'indulgenced', 'indusiated', 'inedited', 'inelaborated', 'inequilobed', 'inexhausted', 'inexpected', 'inexperienced', 'inextended', 'infarcted', 'infected', 'infeed', 'inflamed', 'inflated', 'inflected', 'inflexed', 'informed', 'infrared', 'infumated', 'ingrained', 'inhabited', 'injured', 'inkshed', 'inkweed', 'inorganized', 'inrigged', 'inrighted', 'inrooted', 'insatiated', 'inscriptioned', 'inscriptured', 'insected', 'inserted', 'inspired', 'instratified', 'instressed', 'instructed', 'insulated', 'insured', 'intagliated', 'intellected', 'intelligenced', 'intended', 'intentioned', 'interallied', 'interbanded', 'interbedded', 'interbreed', 'intercatenated', 'intercontorted', 'interested', 'interfretted', 'interlaced', 'intermewed', 'intermitted', 'internetted', 'interrelated', 'interrupted', 'interseamed', 'intersticed', 'interthreaded', 'intertissued', 'interwed', 'intoed', 'intolerated', 'intoothed', 'intoxicated', 'intrabred', 'introverted', 'inturned', 'inured', 'inutilized', 'invalued', 'invaried', 'invecked', 'invected', 'inversed', 'invertebrated', 'inverted', 'inviolated', 'invised', 'involucellated', 'involucred', 'involuted', 'involved', 'inwedged', 'inweed', 'irisated', 'irised', 'ironfisted', 'ironhanded', 'ironheaded', 'ironhearted', 'ironsided', 'ironweed', 'ironworked', 'irradiated', 'irreclaimed', 'irredeemed', 'irregulated', 'irrelated', 'irresolved', 'isleted', 'isolated', 'itchreed', 'itchweed', 'ivied', 'ivoried', 'ivyweed', 'jabbed', 'jacketed', 'jackweed', 'jaded', 'jagged', 'jalloped', 'jalousied', 'japanned', 'jaseyed', 'jasmined', 'jasperated', 'jaspered', 'jawed', 'jawfooted', 'jed', 'jellied', 'jereed', 'jerkined', 'jerseyed', 'jessakeed', 'jessed', 'jetted', 'jettied', 'jewelweed', 'jimberjawed', 'jingled', 'jointed', 'jointweed', 'jolloped', 'jolterheaded', 'jossakeed', 'joyweed', 'jugated', 'jumpseed', 'jungled', 'justiceweed', 'ked', 'keeled', 'keened', 'kellupweed', 'kerchiefed', 'kerneled', 'keyed', 'keystoned', 'khakied', 'killweed', 'kimonoed', 'kindhearted', 'kindred', 'kingdomed', 'kingweed', 'kinkled', 'kirtled', 'kittenhearted', 'knagged', 'knapsacked', 'knapweed', 'knarred', 'kneed', 'knickerbockered', 'knickered', 'knickknacked', 'knitted', 'knitweed', 'knived', 'knobbed', 'knobweed', 'knopped', 'knopweed', 'knosped', 'knotted', 'knotweed', 'knowledged', 'knuckled', 'knurled', 'labiated', 'labored', 'laced', 'lacerated', 'laciniated', 'lackeyed', 'laddered', 'lagged', 'lakeweed', 'lamellated', 'lamented', 'laminated', 'lamplighted', 'lanated', 'lanced', 'lanceolated', 'lanceted', 'landed', 'landlocked', 'languaged', 'langued', 'lapelled', 'lapped', 'lappeted', 'lapsed', 'lapstreaked', 'largebrained', 'largehanded', 'largehearted', 'largemouthed', 'lated', 'laterinerved', 'latticed', 'laureated', 'laureled', 'lawned', 'layered', 'leaded', 'leadenhearted', 'leadenpated', 'leafed', 'learned', 'leaved', 'led', 'ledged', 'leed', 'legged', 'legginged', 'legioned', 'leisured', 'lemonweed', 'lensed', 'lenticulated', 'lepered', 'leprosied', 'lettered', 'levelheaded', 'licensed', 'lichened', 'lidded', 'lied', 'lightbrained', 'lightheaded', 'lighthearted', 'lightmouthed', 'ligulated', 'lilied', 'lilyhanded', 'limbed', 'limited', 'linchpinned', 'lineaged', 'lineated', 'lined', 'lineolated', 'lingulated', 'linked', 'linseed', 'linteled', 'lintseed', 'lionhearted', 'lipped', 'listed', 'listred', 'literalminded', 'lived', 'livered', 'liverhearted', 'liveried', 'loaded', 'lobated', 'lobed', 'lobefooted', 'lobellated', 'lobiped', 'lobulated', 'locked', 'locoweed', 'loculated', 'lodged', 'logged', 'loggerheaded', 'logheaded', 'loined', 'longheaded', 'longmouthed', 'loosemouthed', 'lopseed', 'lopsided', 'lored', 'loudmouthed', 'louvered', 'lovered', 'lowbred', 'lozenged', 'lugged', 'lunged', 'lunulated', 'lyrated', 'macled', 'maculated', 'madbrained', 'madweed', 'magged', 'magicked', 'magpied', 'maidenweed', 'mailed', 'maimed', 'maladjusted', 'malandered', 'malconceived', 'malcontented', 'malcreated', 'maldeveloped', 'malfed', 'malformed', 'malleableized', 'malnourished', 'maloccluded', 'malorganized', 'malplaced', 'malposed', 'malproportioned', 'malturned', 'mammillated', 'mandibulated', 'maned', 'manifested', 'mannered', 'manred', 'mansarded', 'mansioned', 'mantled', 'manubriated', 'manweed', 'marbled', 'marblehearted', 'marginated', 'margined', 'marinated', 'marked', 'markweed', 'marled', 'marmorated', 'married', 'marrowed', 'mascled', 'masked', 'masoned', 'masted', 'matreed', 'matted', 'matweed', 'maxilliped', 'maximed', 'mayweed', 'mazed', 'meadowed', 'mealmouthed', 'mealymouthed', 'meaned', 'measled', 'measured', 'meated', 'medaled', 'medifixed', 'mediodepressed', 'medullated', 'meed', 'meekhearted', 'meered', 'melamed', 'melanosed', 'melted', 'membered', 'membraned', 'memoried', 'mentholated', 'meringued', 'merited', 'mermithized', 'meshed', 'metalined', 'metamerized', 'mettled', 'midribbed', 'midstyled', 'mightyhearted', 'mildhearted', 'milkshed', 'milkweed', 'milled', 'millfeed', 'millioersted', 'millioned', 'mimmouthed', 'minareted', 'minded', 'mirrored', 'misadvised', 'misaffected', 'miscredited', 'miscreed', 'miscultivated', 'misdeed', 'misdeformed', 'misdevoted', 'miserected', 'misfortuned', 'misguided', 'misincensed', 'misinspired', 'misleared', 'misled', 'misminded', 'misnatured', 'misnomed', 'mispossessed', 'misprejudiced', 'misprincipled', 'misreposed', 'misresolved', 'misted', 'mistempered', 'misusurped', 'miswed', 'mitered', 'mittened', 'mixed', 'mobed', 'mohnseed', 'molassied', 'moneyed', 'monilated', 'monobromated', 'monobrominated', 'monobromized', 'monochlorinated', 'monociliated', 'monocled', 'monogrammed', 'monohydrated', 'monomethylated', 'mononitrated', 'mononucleated', 'monorhymed', 'monospored', 'monosubstituted', 'mooned', 'moonfaced', 'moonlighted', 'moonseed', 'mopheaded', 'morassweed', 'morcellated', 'morned', 'mortified', 'mossed', 'moted', 'mothed', 'mothered', 'motored', 'mottled', 'mottoed', 'moulded', 'mountained', 'mounted', 'mouthed', 'muckweed', 'muddlebrained', 'muddleheaded', 'muddybrained', 'muddyheaded', 'mudweed', 'muffed', 'muffled', 'mugweed', 'mulefooted', 'multiarticulated', 'multibladed', 'multibranched', 'multicarinated', 'multiciliated', 'multicolored', 'multicylindered', 'multidenticulated', 'multiengined', 'multifaced', 'multifaceted', 'multifibered', 'multiflagellated', 'multifoiled', 'multiformed', 'multigranulated', 'multihued', 'multilaminated', 'multilighted', 'multilobed', 'multilobulated', 'multiloculated', 'multimotored', 'multinucleated', 'multinucleolated', 'multiped', 'multiperforated', 'multipointed', 'multiported', 'multiradiated', 'multiramified', 'multirooted', 'multisacculated', 'multiseated', 'multisegmented', 'multispeed', 'multispired', 'multistoried', 'multistratified', 'multisulcated', 'multithreaded', 'multitoed', 'multitoned', 'multituberculated', 'multivalved', 'multivoiced', 'multivolumed', 'mummied', 'muraled', 'muriated', 'muscled', 'mused', 'mushed', 'mushheaded', 'muslined', 'musquashweed', 'musseled', 'mustached', 'mustachioed', 'muttonheaded', 'myelinated', 'myriaded', 'myrrhed', 'nacred', 'naked', 'nakedweed', 'napped', 'narrowhearted', 'nattered', 'naveled', 'neaped', 'nearsighted', 'nebbed', 'nebulated', 'necked', 'necklaced', 'necklaceweed', 'neckweed', 'nectared', 'nectaried', 'need', 'needled', 'needleworked', 'neighbored', 'neighborstained', 'netted', 'nettlebed', 'newfangled', 'newlywed', 'newspaperized', 'nibbed', 'nicotined', 'niellated', 'nielled', 'niggerweed', 'nightcapped', 'nighted', 'nigrified', 'nimbated', 'nimbed', 'nimblebrained', 'nimbused', 'nineted', 'nitered', 'noblehearted', 'nodated', 'noded', 'nodulated', 'noduled', 'nogheaded', 'nominated', 'nonaccredited', 'nonadmitted', 'nonaffiliated', 'nonalliterated', 'nonanalyzed', 'nonanesthetized', 'nonarticulated', 'nonassented', 'nonattached', 'nonazotized', 'nonbearded', 'nonblended', 'nonblockaded', 'nonblooded', 'nonbranded', 'noncalcified', 'noncartelized', 'noncensored', 'noncertified', 'nonchurched', 'noncivilized', 'noncommissioned', 'nonconditioned', 'noncontrolled', 'noncrystallized', 'noncultivated', 'nondecalcified', 'nondegreased', 'nondeported', 'nondepressed', 'nondesigned', 'nondesulphurized', 'nondetailed', 'nondisbursed', 'nondisfranchised', 'nondisinterested', 'nondomesticated', 'nonelectrified', 'nonelectrized', 'nonenrolled', 'nonentailed', 'nonenumerated', 'nonexcepted', 'nonexperienced', 'nonextended', 'nonextracted', 'nonfeatured', 'nonfederated', 'nonfenestrated', 'nonforested', 'nonfrosted', 'nongalvanized', 'nonglandered', 'nongraduated', 'nonimmunized', 'nonimpregnated', 'nonincarnated', 'nonindurated', 'noninfected', 'noninherited', 'noninterrupted', 'noninverted', 'noniodized', 'nonionized', 'nonirradiated', 'nonirrigated', 'nonlaminated', 'nonleaded', 'nonlicensed', 'nonlixiviated', 'nonlocalized', 'nonmanufactured', 'nonmedullated', 'nonmulched', 'nonnitrogenized', 'nonnucleated', 'nonoxygenated', 'nonpatented', 'nonpeaked', 'nonpenalized', 'nonperforated', 'nonphosphorized', 'nonpigmented', 'nonplushed', 'nonpreformed', 'nonprescribed', 'nonprincipled', 'nonprofessed', 'nonprovided', 'nonrated', 'nonrationalized', 'nonrayed', 'nonrecognized', 'nonrectified', 'nonregimented', 'nonregistered', 'nonrelapsed', 'nonrestricted', 'nonreversed', 'nonrhymed', 'nonsacred', 'nonsalaried', 'nonsaturated', 'nonschematized', 'nonsegmented', 'nonselected', 'nonsensitized', 'nonsilicated', 'nonsolidified', 'nonspecialized', 'nonspecified', 'nonspored', 'nonstandardized', 'nonstriated', 'nonstriped', 'nonstylized', 'nonsuppressed', 'nonsynthesized', 'nonthreaded', 'nontimbered', 'nontolerated', 'nontreated', 'nontrunked', 'nontuned', 'nonturbinated', 'nonumbrellaed', 'nonunited', 'nonupholstered', 'nonutilized', 'nonvisaed', 'nonvisualized', 'nonvitrified', 'nonvolatilized', 'nonwetted', 'nonwinged', 'nooked', 'normated', 'nosebanded', 'nosebleed', 'nosed', 'nostriled', 'notched', 'notchweed', 'noted', 'notified', 'notioned', 'nowed', 'nucleolated', 'nudiped', 'nummulated', 'numskulled', 'nunnated', 'nutmegged', 'nutseed', 'nutted', 'oared', 'oarweed', 'oathed', 'oatseed', 'obcompressed', 'obliged', 'oblongated', 'obtected', 'obvoluted', 'oceaned', 'ocellated', 'ocreated', 'octahydrated', 'octofoiled', 'octoped', 'octoradiated', 'oculated', 'odored', 'oersted', 'offended', 'offhanded', 'ogeed', 'ogived', 'oiled', 'oilseed', 'oilskinned', 'oldfangled', 'oldhearted', 'olived', 'omened', 'onehearted', 'onesigned', 'onflemed', 'onionized', 'opaled', 'openhanded', 'openhearted', 'openmouthed', 'opercled', 'operculated', 'opinionated', 'opinioned', 'opposed', 'oppressed', 'orbed', 'orbiculated', 'ordered', 'oreweed', 'organized', 'origanized', 'orphreyed', 'orthosubstituted', 'osiered', 'ossified', 'outbleed', 'outbowed', 'outbred', 'outbreed', 'outdated', 'outed', 'outeyed', 'outlined', 'outlipped', 'outmoded', 'outplayed', 'outriggered', 'outsided', 'outsized', 'outspeed', 'outturned', 'outweed', 'ovated', 'overalled', 'overambitioned', 'overappareled', 'overapprehended', 'overattached', 'overbanded', 'overbanked', 'overbepatched', 'overblessed', 'overbowed', 'overbrained', 'overbred', 'overbreed', 'overburned', 'overcoached', 'overcoated', 'overconcerned', 'overcontented', 'overcorned', 'overcreed', 'overcrowded', 'overcultured', 'overcured', 'overdazed', 'overdelighted', 'overdetermined', 'overdevoted', 'overdignified', 'overdistempered', 'overdrifted', 'overdrowsed', 'overdubbed', 'overdunged', 'overeducated', 'overempired', 'overexerted', 'overeyebrowed', 'overfagged', 'overfamed', 'overfeatured', 'overfed', 'overfeed', 'overfinished', 'overfleshed', 'overforged', 'overformed', 'overfranchised', 'overfrighted', 'overfruited', 'overgalled', 'overgifted', 'overgilted', 'overgirded', 'overgreed', 'overhanded', 'overhatted', 'overinclined', 'overinterested', 'overinventoried', 'overjaded', 'overjawed', 'overlanguaged', 'overlearned', 'overleisured', 'overlettered', 'overlighted', 'overlightheaded', 'overlinked', 'overlisted', 'overmelodied', 'overmettled', 'overnoveled', 'overofficered', 'overornamented', 'overpained', 'overparted', 'overpitched', 'overplaced', 'overpointed', 'overpronounced', 'overproportionated', 'overproportioned', 'overrefined', 'overreserved', 'overrigged', 'overrooted', 'oversanded', 'oversated', 'overscented', 'overscutched', 'overseasoned', 'overseated', 'overseed', 'oversettled', 'overshowered', 'oversized', 'oversophisticated', 'oversorrowed', 'overspangled', 'oversparred', 'overspeed', 'overstalled', 'overstowed', 'overstudied', 'oversweated', 'overtapped', 'overtimbered', 'overtinseled', 'overtongued', 'overtrailed', 'overunionized', 'overwasted', 'overweaponed', 'overwhipped', 'overwiped', 'overwithered', 'overwooded', 'overwrested', 'oviculated', 'oxidulated', 'oystered', 'oysterseed', 'ozoned', 'paced', 'paddled', 'pageanted', 'pailletted', 'pained', 'painted', 'paired', 'pajamaed', 'palaced', 'palated', 'paled', 'palehearted', 'palfreyed', 'palled', 'palmated', 'palmatilobed', 'palmatiparted', 'palmatisected', 'palmed', 'palmilobated', 'palmilobed', 'palminerved', 'palmiped', 'palmiveined', 'palped', 'palsied', 'pampered', 'panached', 'pandurated', 'paned', 'panheaded', 'panicked', 'panicled', 'paniculated', 'panniered', 'panoplied', 'pansied', 'pantaletted', 'pantalooned', 'pantiled', 'papered', 'papillated', 'papulated', 'parallelepiped', 'parallelinerved', 'parallelopiped', 'parapeted', 'parasoled', 'parasubstituted', 'parded', 'parished', 'parricided', 'parsoned', 'partanhanded', 'parted', 'parterred', 'particled', 'partimembered', 'partitioned', 'passioned', 'pasted', 'pasterned', 'pathed', 'pathwayed', 'patined', 'patriarched', 'pattened', 'patterned', 'pauciarticulated', 'pauciradiated', 'paucispirated', 'paunched', 'pavonated', 'payed', 'peaked', 'pearled', 'pearlweed', 'pebbled', 'pebblehearted', 'pecked', 'peckled', 'pectinated', 'ped', 'pedated', 'pedatilobed', 'pedatinerved', 'pedatisected', 'pediceled', 'pedicellated', 'pedicelled', 'pediculated', 'pedimented', 'peduncled', 'pedunculated', 'peed', 'peeled', 'peeved', 'pegged', 'pelleted', 'peltated', 'peltinerved', 'penciled', 'pencilled', 'pendanted', 'penicillated', 'pennated', 'pennatisected', 'pennied', 'penninerved', 'penniveined', 'pennoned', 'pensived', 'pentadecahydrated', 'pentahydrated', 'peplosed', 'pepperweed', 'percentaged', 'perfected', 'perforated', 'perfumed', 'perished', 'periwigpated', 'periwinkled', 'perjured', 'permissioned', 'permitted', 'perplexed', 'personed', 'perspectived', 'persuaded', 'perturbed', 'pertused', 'perverted', 'pestilenceweed', 'petaled', 'petalled', 'petiolated', 'petioled', 'petrified', 'petted', 'petticoated', 'phalanxed', 'phalerated', 'phimosed', 'phlogosed', 'phosphated', 'phosphoreted', 'phylacteried', 'physicianed', 'physicked', 'physiqued', 'piazzaed', 'picked', 'pickerelweed', 'pickleweed', 'picrated', 'pictured', 'pied', 'pierced', 'pigeonhearted', 'pigeonweed', 'pigheaded', 'pigweed', 'piked', 'pilastered', 'pilastraded', 'pilaued', 'pileated', 'piled', 'pileolated', 'pileweed', 'pillared', 'pilled', 'pilotweed', 'pimpled', 'pincerweed', 'pinched', 'pinchfisted', 'pined', 'pineweed', 'pinfeathered', 'pinheaded', 'pinioned', 'pinked', 'pinkweed', 'pinnated', 'pinnatilobed', 'pinnatiped', 'pinnatisected', 'pinned', 'pinninerved', 'pinniped', 'pinnisected', 'pinnulated', 'pinrowed', 'pinweed', 'pioted', 'piped', 'pipped', 'pissabed', 'pitchered', 'pitted', 'pixilated', 'plagued', 'plaided', 'plainhearted', 'plainsoled', 'plaited', 'planeted', 'plated', 'platformed', 'platted', 'pleached', 'pled', 'plicated', 'plicatocontorted', 'plied', 'plighted', 'plotted', 'plouked', 'plucked', 'plugged', 'plumaged', 'plumed', 'plumiped', 'plummeted', 'pluriseriated', 'plushed', 'pneumatized', 'pocketed', 'pockweed', 'podded', 'pointed', 'pointleted', 'poised', 'poisonweed', 'poked', 'pokeweed', 'policed', 'polished', 'politied', 'polled', 'pollened', 'polluted', 'poltfooted', 'polyaffectioned', 'polybuttoned', 'polyglotted', 'polygrooved', 'polylaminated', 'polynucleated', 'polypaged', 'polyped', 'polyphoned', 'polysided', 'polyspored', 'pommeled', 'ponchoed', 'pondweed', 'pooped', 'poorweed', 'popeyed', 'poplared', 'poppied', 'popweed', 'porcated', 'porched', 'pored', 'portaled', 'portalled', 'ported', 'porticoed', 'portiered', 'positioned', 'possessed', 'possessioned', 'postaspirated', 'postdetermined', 'postdisapproved', 'posted', 'postfixed', 'postilioned', 'postposited', 'potbellied', 'potted', 'pottled', 'pouched', 'pounced', 'povertyweed', 'powdered', 'powered', 'practiced', 'prairied', 'prairieweed', 'pranked', 'preaccustomed', 'preachieved', 'preacquired', 'preaged', 'preallied', 'preambled', 'preassigned', 'prebeloved', 'precedented', 'prechampioned', 'precipiced', 'precipitated', 'precited', 'preclassified', 'preconceived', 'preconcentrated', 'preconcerted', 'preconditioned', 'precongested', 'preconsolidated', 'precontained', 'precontrolled', 'precreed', 'predilected', 'prediscontented', 'predisordered', 'predisposed', 'preferred', 'prefixed', 'preformed', 'prehatred', 'prehaunted', 'preheated', 'preindebted', 'prejudiced', 'preoccasioned', 'preoccupied', 'preopinionated', 'prepared', 'prepossessed', 'prerogatived', 'presanctified', 'presbyterated', 'prescored', 'presenced', 'pretended', 'preterdetermined', 'pretexted', 'priced', 'pricked', 'prickled', 'prideweed', 'pried', 'primaried', 'primrosed', 'princified', 'printed', 'prismed', 'privileged', 'probosciformed', 'proceed', 'procurved', 'produced', 'producted', 'professed', 'proflated', 'promontoried', 'pronged', 'pronounced', 'propertied', 'proportioned', 'proptosed', 'propugnacled', 'protracted', 'proudhearted', 'proved', 'provided', 'prowed', 'prowessed', 'prunted', 'pseudocultivated', 'pseudolaminated', 'pseudoreformed', 'pseudosacred', 'publichearted', 'puddingheaded', 'puddled', 'puffed', 'pugged', 'pukeweed', 'pulmonated', 'pulvinated', 'pumiced', 'punctated', 'punctulated', 'punctured', 'pungled', 'pupiled', 'purebred', 'pured', 'purehearted', 'purfled', 'pursed', 'pussyfooted', 'pustulated', 'pustuled', 'putrifacted', 'puttyhearted', 'puzzled', 'puzzleheaded', 'puzzlepated', 'pygmyweed', 'pygostyled', 'pyjamaed', 'quadded', 'quadrangled', 'quadrated', 'quadriarticulated', 'quadridentated', 'quadrifurcated', 'quadrigabled', 'quadrilled', 'quadrilobed', 'quadriplicated', 'quadrisulcated', 'quadruped', 'qualified', 'qualitied', 'quantitied', 'quarred', 'quarreled', 'quarried', 'quartered', 'quartersawed', 'quatrefoiled', 'quatrefoliated', 'queenweed', 'quesited', 'quickhearted', 'quilled', 'quilleted', 'quilted', 'quinquedentated', 'quinquefoliated', 'quinquelobated', 'quinquelobed', 'quinquenerved', 'quinsied', 'quintiped', 'quintuplinerved', 'quintupliribbed', 'quitted', 'quivered', 'quoined', 'rabbithearted', 'rabbitweed', 'racemed', 'radiated', 'radicated', 'ragged', 'raggled', 'ragweed', 'rainbowweed', 'raised', 'ramed', 'ramfeezled', 'ramified', 'ramososubdivided', 'ramped', 'ramshackled', 'ranged', 'ranked', 'rapeseed', 'rapiered', 'raptured', 'rasped', 'rated', 'rathed', 'rattlebrained', 'rattled', 'rattleheaded', 'rattlepated', 'rattleskulled', 'rattleweed', 'ravined', 'rawboned', 'rayed', 'reasoned', 'reassured', 'rebed', 'rebreed', 'received', 'reclinated', 'recollected', 'reconstructed', 'rectangled', 'rectified', 'rectinerved', 'red', 'redeed', 'redheaded', 'redhearted', 'redoubted', 'reduced', 'redweed', 'reed', 'reeded', 'reeled', 'refathered', 'refeed', 'refined', 'reflected', 'reflexed', 'refluxed', 'reformed', 'refracted', 'regimentaled', 'regimentalled', 'regioned', 'registered', 'reglorified', 'regulated', 'reindebted', 'reiterated', 'related', 'relaxed', 'relicted', 'relieved', 'remiped', 'removed', 'renowned', 'rented', 'repeated', 'replicated', 'reposed', 'repped', 'repressed', 'reproceed', 'reputed', 'reseed', 'reserved', 'resigned', 'resolved', 'respiratored', 'restrained', 'restricted', 'resucceed', 'resupinated', 'retarded', 'reticulated', 'reticuled', 'retinerved', 'retiracied', 'retired', 'retorted', 'retracted', 'retricked', 'retrocurved', 'retroflected', 'retroflexed', 'retrofracted', 'retromorphosed', 'retroplexed', 'retroposed', 'retted', 'returned', 'revealed', 'revenued', 'revered', 'reversed', 'revoluted', 'revulsed', 'rewed', 'reworked', 'rheumed', 'ribaudred', 'ribbed', 'ribbonweed', 'richweed', 'ridered', 'ridged', 'ridgepoled', 'rightheaded', 'righthearted', 'rimmed', 'rinded', 'ringboned', 'ringed', 'ringleted', 'rivered', 'riverweed', 'rizzomed', 'roadbed', 'roaded', 'roadweed', 'rocheted', 'rockhearted', 'rockweed', 'roed', 'rolled', 'rookeried', 'roomed', 'roosted', 'rooted', 'rosated', 'rosed', 'rosetted', 'rosied', 'rosinweed', 'rostrated', 'rotated', 'roughhearted', 'roughtailed', 'rounded', 'roundheaded', 'roundmouthed', 'roundnosed', 'rowed', 'rubbed', 'rubiconed', 'rubied', 'ruddied', 'rudented', 'ruffed', 'ruffled', 'rugged', 'rugheaded', 'ruined', 'runchweed', 'runed', 'runted', 'ruptured', 'rushed', 'rushlighted', 'rustred', 'rutilated', 'sabered', 'saboted', 'saccated', 'saccharated', 'saccharinated', 'sacculated', 'sackclothed', 'sacked', 'sacred', 'saddled', 'sadhearted', 'saffroned', 'sailed', 'sainted', 'salaried', 'salited', 'salted', 'saltweed', 'sanctified', 'sanctuaried', 'sandaled', 'sanded', 'sandweed', 'sapheaded', 'sapphired', 'satcheled', 'satellited', 'satined', 'satisfied', 'saturated', 'saved', 'savored', 'savoyed', 'sawed', 'scabbed', 'scalded', 'scaldweed', 'scaled', 'scalled', 'scantlinged', 'scapulated', 'scarfed', 'scarletseed', 'scarred', 'scarved', 'scatterbrained', 'scattered', 'scented', 'sceptered', 'schapped', 'schooled', 'scienced', 'scimitared', 'sclerized', 'sclerosed', 'sclerotized', 'scooped', 'scopiped', 'scopuliped', 'scorched', 'scored', 'scorned', 'scorpionweed', 'scoured', 'scourweed', 'scrabbled', 'scragged', 'scraggled', 'scraped', 'scrapped', 'scratchweed', 'screed', 'screened', 'screeved', 'screwed', 'scribbled', 'scrimped', 'scriptured', 'scrobiculated', 'scrofulaweed', 'scrolled', 'scrubbed', 'scuffed', 'sculptured', 'scummed', 'scurvied', 'scurvyweed', 'scutated', 'scutcheoned', 'scutellated', 'scutiped', 'scutulated', 'sealed', 'seamed', 'seared', 'seasoned', 'seated', 'seaweed', 'secluded', 'secondhanded', 'sectored', 'sedged', 'sedigitated', 'seed', 'seedbed', 'seeded', 'seeped', 'seepweed', 'segged', 'segmented', 'sejoined', 'selected', 'selvaged', 'semeed', 'semiabstracted', 'semiacidified', 'semianimated', 'semiannealed', 'semiappressed', 'semiattached', 'semibalked', 'semibelted', 'semibleached', 'semiboiled', 'semibolshevized', 'semicalcined', 'semicircled', 'semicivilized', 'semiclosed', 'semicoagulated', 'semicombined', 'semicompacted', 'semicomplicated', 'semicordated', 'semicoronated', 'semicured', 'semidemented', 'semidenatured', 'semidetached', 'semideveloped', 'semidigested', 'semidisabled', 'semidivided', 'semidomed', 'semidomesticated', 'semidried', 'semieducated', 'semienclosed', 'semiengaged', 'semiexpanded', 'semiexposed', 'semifasciated', 'semifinished', 'semifixed', 'semiflexed', 'semiformed', 'semifossilized', 'semifused', 'semiglazed', 'semihumanized', 'semilined', 'semimanufactured', 'semimercerized', 'semimineralized', 'seminaked', 'semiopened', 'semiorganized', 'semioxidated', 'semioxidized', 'semioxygenated', 'semioxygenized', 'semipalmated', 'semipectinated', 'semiped', 'semipetrified', 'semiphlogisticated', 'semiprofessionalized', 'semirefined', 'semisacred', 'semiskilled', 'semistarved', 'semistratified', 'semistriated', 'semisupinated', 'semitailored', 'semitrained', 'semitrimmed', 'semiundressed', 'semivitrified', 'semivulcanized', 'sensed', 'sepaled', 'sepalled', 'septangled', 'septated', 'septicolored', 'sequestered', 'sericated', 'serrated', 'serried', 'serriped', 'serrulated', 'sesquihydrated', 'settled', 'sevenfolded', 'sewed', 'sewered', 'sexangled', 'sexdigitated', 'sexed', 'sexiped', 'shabbed', 'shaded', 'shadowed', 'shafted', 'shagged', 'shagreened', 'shallowbrained', 'shallowhearted', 'shallowpated', 'shamed', 'shamefaced', 'shammed', 'shanked', 'shaped', 'sharded', 'shatterbrained', 'shatterheaded', 'shatterpated', 'shaved', 'shaveweed', 'shawled', 'sheathed', 'sheaved', 'shed', 'shedded', 'sheepfaced', 'sheepheaded', 'sheephearted', 'sheepshed', 'sheepweed', 'sheered', 'sheeted', 'shelled', 'sheltered', 'sheveled', 'shickered', 'shied', 'shielded', 'shingled', 'shipped', 'shiverweed', 'shockheaded', 'shored', 'shoreweed', 'shorthanded', 'shortsighted', 'shotted', 'shouldered', 'shovelweed', 'shred', 'shrouded', 'shrubbed', 'shuttleheaded', 'sibbed', 'sickbed', 'sickhearted', 'sickled', 'sickleweed', 'sicklied', 'sided', 'sifted', 'sighted', 'sigillated', 'silenced', 'siliciuretted', 'silked', 'silkweed', 'silvered', 'silverweed', 'simplehearted', 'simplexed', 'simplified', 'sinewed', 'singed', 'singled', 'singlehanded', 'singlehearted', 'sinuated', 'sinuatocontorted', 'sinuatodentated', 'sinuatoserrated', 'siphuncled', 'siphunculated', 'siruped', 'situated', 'sized', 'skeed', 'skeered', 'skeletonweed', 'skewbacked', 'skewed', 'skidded', 'skied', 'skilled', 'skimmed', 'skinned', 'skippered', 'skirted', 'skittled', 'skulled', 'skunkweed', 'slabbed', 'slacked', 'slashed', 'slatted', 'slaved', 'sleaved', 'sled', 'sledded', 'sleepered', 'sleeved', 'slewed', 'sliced', 'slickered', 'slided', 'slighted', 'slinkweed', 'slipped', 'slippered', 'slipperweed', 'sliptopped', 'slitted', 'sloped', 'slopped', 'sloted', 'slotted', 'slowbellied', 'slowheaded', 'slowhearted', 'slowmouthed', 'sludged', 'slugabed', 'slugged', 'smallhearted', 'smallmouthed', 'smartweed', 'smeared', 'smelled', 'smoked', 'smoothbored', 'smoothmouthed', 'smothered', 'smudged', 'smutted', 'snagged', 'snaggled', 'snakeweed', 'snapped', 'snapweed', 'snatched', 'sned', 'sneezeweed', 'snibbled', 'sniveled', 'snooded', 'snookered', 'snouted', 'snowshed', 'snowshoed', 'snubbed', 'snuffcolored', 'soaked', 'soapweed', 'sobersided', 'societified', 'sodded', 'softbrained', 'softheaded', 'softhearted', 'soiled', 'soldierhearted', 'solicited', 'soliped', 'sombreroed', 'sonantized', 'sophisticated', 'soreheaded', 'sorehearted', 'sorryhearted', 'sorted', 'soshed', 'sotted', 'souffleed', 'souled', 'soundheaded', 'soundhearted', 'soured', 'sourhearted', 'sourweed', 'sowbacked', 'spaced', 'spaded', 'spangled', 'sparked', 'sparred', 'spasmed', 'spathed', 'spatted', 'spatterdashed', 'spavied', 'spavined', 'specialized', 'specked', 'speckled', 'spectacled', 'spectered', 'sped', 'speed', 'sphacelated', 'spicated', 'spiced', 'spiculated', 'spidered', 'spied', 'spiffed', 'spiflicated', 'spiked', 'spikeweed', 'spindled', 'spined', 'spiraled', 'spirated', 'spired', 'spirited', 'spiritweed', 'spissated', 'spitscocked', 'spitted', 'splashed', 'splatterfaced', 'splayed', 'splayfooted', 'splaymouthed', 'spoiled', 'sponged', 'spored', 'spotted', 'spreaded', 'spried', 'sprigged', 'sprinkled', 'sprinklered', 'spurred', 'spurwinged', 'squabbed', 'squadroned', 'squamated', 'squamosodentated', 'squamosoimbricated', 'squared', 'squatted', 'squawweed', 'squiffed', 'squinted', 'stackfreed', 'staffed', 'staged', 'staggerweed', 'staired', 'stalactited', 'stalked', 'stamened', 'stampweed', 'stancheled', 'standardbred', 'standardized', 'stanzaed', 'stapled', 'starched', 'starlighted', 'starred', 'starved', 'stated', 'statued', 'statured', 'stayed', 'stealed', 'steed', 'steelhearted', 'steepled', 'steepweed', 'stellated', 'stemmed', 'stenosed', 'stepped', 'stereotyped', 'sterned', 'stewed', 'stibiated', 'sticked', 'stickseed', 'stickweed', 'stiffhearted', 'stilted', 'stinkweed', 'stinted', 'stiped', 'stippled', 'stipuled', 'stoled', 'stoned', 'stonehearted', 'stoneseed', 'stoneweed', 'stonied', 'stonyhearted', 'stooded', 'stopped', 'storied', 'stouthearted', 'strained', 'straked', 'strangleweed', 'strapped', 'stratified', 'streaked', 'streamlined', 'striated', 'strictured', 'stringed', 'stringhalted', 'striolated', 'striped', 'stripped', 'strived', 'strongbrained', 'stronghearted', 'strophiolated', 'structured', 'stubbed', 'stubbled', 'stubbornhearted', 'studied', 'stuffed', 'stunted', 'stupefied', 'sturdied', 'sturdyhearted', 'stylopized', 'subangled', 'subangulated', 'subappressed', 'subarcuated', 'subattenuated', 'subbranched', 'subbreed', 'subcarbureted', 'subcarburetted', 'subcommended', 'subcompressed', 'subcontained', 'subcontinued', 'subcontracted', 'subdentated', 'subdented', 'subdepressed', 'subdilated', 'subdistinguished', 'subdued', 'subhooked', 'subimbricated', 'subimposed', 'subimpressed', 'subinvoluted', 'subjected', 'sublighted', 'sublimed', 'submargined', 'submerged', 'submersed', 'subnitrated', 'suborbiculated', 'subovated', 'subpartitioned', 'subpeltated', 'subsaturated', 'substituted', 'subtriplicated', 'subturriculated', 'subtwined', 'subulated', 'suburbed', 'subventioned', 'subversed', 'subvitalized', 'succeed', 'sucivilized', 'suffused', 'sugared', 'sulcated', 'sullenhearted', 'sulphated', 'sulphonated', 'sulphureosuffused', 'sulphureted', 'sulphurweed', 'summed', 'sunbeamed', 'sunbonneted', 'sunburned', 'sunlighted', 'sunnyhearted', 'sunspotted', 'sunweed', 'superaccomplished', 'superacidulated', 'superbeloved', 'superblessed', 'supercarbureted', 'supercharged', 'supercivilized', 'superclassified', 'superconsecrated', 'supercrowned', 'supercultivated', 'superelated', 'superelevated', 'superexceed', 'superexcited', 'superfructified', 'superimposed', 'superimpregnated', 'superimproved', 'superinsaniated', 'superposed', 'superpowered', 'superrefined', 'superrheumatized', 'supersacred', 'supersublimated', 'supersubtilized', 'supersulphureted', 'superultrafrostified', 'supposed', 'suppressed', 'surbased', 'surbed', 'surfaced', 'surmised', 'surmounted', 'surpeopled', 'surpliced', 'surrounded', 'suspected', 'suspended', 'sustained', 'swagbellied', 'swampweed', 'swannecked', 'swanweed', 'swastikaed', 'swayed', 'sweated', 'sweatweed', 'sweered', 'sweethearted', 'sweetmouthed', 'sweetweed', 'swelled', 'switched', 'swiveled', 'swiveleyed', 'swooned', 'swordweed', 'syllabled', 'synchronized', 'syncopated', 'syruped', 'systemed', 'systolated', 'tabarded', 'tabled', 'tabulated', 'tackled', 'tagged', 'tailed', 'taled', 'talented', 'taliped', 'tallowweed', 'taloned', 'tamehearted', 'tampioned', 'tanged', 'tanked', 'tanned', 'tannined', 'tapered', 'taprooted', 'tarantulated', 'tarbooshed', 'targeted', 'tarlataned', 'tarmined', 'tarred', 'tartarated', 'tartrated', 'tarweed', 'tasted', 'tattered', 'tattied', 'tauted', 'tawdered', 'taxed', 'taximetered', 'teated', 'ted', 'tegulated', 'tellureted', 'telluretted', 'temperamented', 'tempered', 'templed', 'tenchweed', 'tenderhearted', 'tendriled', 'tentacled', 'tentaculated', 'tented', 'terminalized', 'terreted', 'territoried', 'tessellated', 'tesserated', 'tested', 'testiculated', 'testudinated', 'tetrahydrated', 'tetrasubstituted', 'thecaspored', 'theopneusted', 'thewed', 'thickbrained', 'thicketed', 'thickheaded', 'thickskulled', 'thighed', 'thimbled', 'thimbleweed', 'thinbrained', 'thistled', 'thonged', 'thorned', 'thoroughbred', 'thoroughpaced', 'thoroughsped', 'thoroughstitched', 'thoughted', 'threaded', 'threadweed', 'threefolded', 'throated', 'throughbred', 'thumbed', 'thunderheaded', 'ticked', 'tickled', 'tickleweed', 'tickseed', 'tickseeded', 'tickweed', 'tided', 'tied', 'tierced', 'tiered', 'tiewigged', 'tigerhearted', 'tightfisted', 'tiled', 'tileseed', 'timbered', 'timbertuned', 'timbreled', 'timed', 'tindered', 'tined', 'tineweed', 'tinged', 'tinned', 'tinnified', 'tinted', 'tipped', 'tired', 'tiresomeweed', 'tissued', 'titled', 'tobaccofied', 'tobaccoweed', 'toecapped', 'toed', 'togaed', 'togated', 'toiled', 'toileted', 'toiletted', 'tokened', 'toned', 'tongued', 'tonneaued', 'tonsured', 'toothchiseled', 'toothed', 'toothleted', 'topknotted', 'toplighted', 'topped', 'torchlighted', 'torchweed', 'tored', 'tormented', 'torquated', 'torqued', 'tortured', 'toryweed', 'tossicated', 'touched', 'toughhearted', 'toupeed', 'towered', 'towheaded', 'towned', 'trabeated', 'trabeculated', 'traceried', 'tracked', 'tragicolored', 'trained', 'trammeled', 'trammelled', 'tranced', 'transferred', 'transomed', 'transported', 'trapped', 'travated', 'traveled', 'travelled', 'traversed', 'treed', 'trefoiled', 'trellised', 'trenched', 'tressed', 'tressured', 'triangled', 'triarcuated', 'tribarred', 'tricarinated', 'trichinosed', 'tricolored', 'tricornered', 'tricuspidated', 'tridentated', 'tridimensioned', 'tried', 'trifasciated', 'trifoliated', 'triformed', 'triggered', 'triglyphed', 'trihydrated', 'trilamellated', 'trilineated', 'trilobated', 'trilobed', 'trimotored', 'trinerved', 'triparted', 'triphenylated', 'tripinnated', 'triplinerved', 'tripointed', 'triradiated', 'trisected', 'trisinuated', 'trisubstituted', 'trisulcated', 'triunsaturated', 'trophied', 'trottoired', 'trousered', 'truebred', 'truehearted', 'truffled', 'trumpetweed', 'truncated', 'trunched', 'truncheoned', 'trunked', 'trunnioned', 'trussed', 'tubehearted', 'tubercled', 'tuberculated', 'tuberculed', 'tuberculosed', 'tubulated', 'tufted', 'tumbled', 'tumbleweed', 'tumored', 'tunbellied', 'tuned', 'tunicated', 'tunicked', 'tunneled', 'turbaned', 'turbinated', 'turbined', 'turfed', 'turned', 'turnipweed', 'turpantineweed', 'turpentineweed', 'turreted', 'tushed', 'tusked', 'tussocked', 'tweed', 'tweeded', 'twibilled', 'twigged', 'twilled', 'twinned', 'twisted', 'twistened', 'twitterboned', 'twizzened', 'uddered', 'ulcered', 'ullaged', 'ulstered', 'ultradignified', 'ultrainvolved', 'ultrared', 'ultrarefined', 'umbeled', 'umbellated', 'umbilicated', 'umbonated', 'umbrellaed', 'unabandoned', 'unabased', 'unabashed', 'unabated', 'unabbreviated', 'unabetted', 'unabhorred', 'unabjured', 'unabolished', 'unabraded', 'unabrased', 'unabridged', 'unabrogated', 'unabsolved', 'unabsorbed', 'unabused', 'unaccelerated', 'unaccented', 'unaccentuated', 'unaccepted', 'unaccidented', 'unacclimated', 'unacclimatized', 'unaccommodated', 'unaccompanied', 'unaccomplished', 'unaccorded', 'unaccosted', 'unaccounted', 'unaccoutered', 'unaccoutred', 'unaccreditated', 'unaccredited', 'unaccrued', 'unaccumulated', 'unaccursed', 'unaccustomed', 'unachieved', 'unacidulated', 'unacknowledged', 'unacquainted', 'unacquired', 'unacquitted', 'unacted', 'unactivated', 'unactuated', 'unadapted', 'unadded', 'unaddicted', 'unaddressed', 'unadjectived', 'unadjourned', 'unadjudged', 'unadjusted', 'unadministered', 'unadmired', 'unadmitted', 'unadmonished', 'unadopted', 'unadored', 'unadorned', 'unadulterated', 'unadvanced', 'unadvantaged', 'unadventured', 'unadvertised', 'unadvised', 'unadvocated', 'unaerated', 'unafeared', 'unaffected', 'unaffectioned', 'unaffianced', 'unaffied', 'unaffiliated', 'unaffirmed', 'unaffixed', 'unafflicted', 'unafforded', 'unaffranchised', 'unaffrighted', 'unaffronted', 'unaged', 'unaggravated', 'unaggregated', 'unagitated', 'unagreed', 'unaided', 'unaimed', 'unaired', 'unaisled', 'unalarmed', 'unalcoholized', 'unalienated', 'unaligned', 'unallayed', 'unalleged', 'unalleviated', 'unallied', 'unallotted', 'unallowed', 'unalloyed', 'unallured', 'unalmsed', 'unalphabeted', 'unaltered', 'unalternated', 'unamalgamated', 'unamassed', 'unamazed', 'unamended', 'unamerced', 'unamortized', 'unamplified', 'unamputated', 'unamused', 'unanalyzed', 'unanatomized', 'unancestored', 'unancestried', 'unanchored', 'unanchylosed', 'unaneled', 'unanimalized', 'unanimated', 'unannealed', 'unannexed', 'unannihilated', 'unannotated', 'unannounced', 'unannoyed', 'unannulled', 'unanointed', 'unanswered', 'unantagonized', 'unanticipated', 'unantiquated', 'unapostatized', 'unapostrophized', 'unappalled', 'unappareled', 'unappealed', 'unappeased', 'unappendaged', 'unapperceived', 'unapplauded', 'unapplianced', 'unapplied', 'unappointed', 'unapportioned', 'unappraised', 'unappreciated', 'unapprehended', 'unapprenticed', 'unapprised', 'unapproached', 'unappropriated', 'unapproved', 'unaproned', 'unarbitrated', 'unarched', 'unargued', 'unarmed', 'unarmored', 'unaromatized', 'unaroused', 'unarraigned', 'unarranged', 'unarrayed', 'unarrested', 'unarrived', 'unarted', 'unarticled', 'unarticulated', 'unascended', 'unascertained', 'unashamed', 'unasked', 'unaspersed', 'unasphalted', 'unaspirated', 'unassailed', 'unassassinated', 'unassaulted', 'unassayed', 'unassembled', 'unassented', 'unasserted', 'unassessed', 'unassibilated', 'unassigned', 'unassimilated', 'unassisted', 'unassociated', 'unassoiled', 'unassorted', 'unassuaged', 'unassumed', 'unassured', 'unastonished', 'unatoned', 'unattached', 'unattacked', 'unattained', 'unattainted', 'unattempered', 'unattempted', 'unattended', 'unattenuated', 'unattested', 'unattired', 'unattracted', 'unattributed', 'unattuned', 'unauctioned', 'unaudienced', 'unaudited', 'unaugmented', 'unauthenticated', 'unauthoritied', 'unauthorized', 'unavailed', 'unavenged', 'unavenued', 'unaveraged', 'unaverred', 'unaverted', 'unavoided', 'unavouched', 'unavowed', 'unawaked', 'unawakened', 'unawarded', 'unawared', 'unawed', 'unawned', 'unaxled', 'unazotized', 'unbackboarded', 'unbacked', 'unbadged', 'unbaffled', 'unbagged', 'unbailed', 'unbaited', 'unbaized', 'unbaked', 'unbalanced', 'unbalconied', 'unbalked', 'unballasted', 'unballoted', 'unbandaged', 'unbanded', 'unbanished', 'unbanked', 'unbannered', 'unbaptized', 'unbarbed', 'unbarbered', 'unbargained', 'unbarred', 'unbarreled', 'unbarricaded', 'unbarricadoed', 'unbased', 'unbastardized', 'unbasted', 'unbastilled', 'unbastinadoed', 'unbated', 'unbathed', 'unbatted', 'unbattered', 'unbeached', 'unbeaconed', 'unbeaded', 'unbearded', 'unbeaued', 'unbeautified', 'unbeavered', 'unbeclogged', 'unbeclouded', 'unbed', 'unbedabbled', 'unbedaggled', 'unbedashed', 'unbedaubed', 'unbedded', 'unbedecked', 'unbedewed', 'unbedimmed', 'unbedinned', 'unbedizened', 'unbedraggled', 'unbefriended', 'unbefringed', 'unbegged', 'unbegirded', 'unbegreased', 'unbegrimed', 'unbegrudged', 'unbeguiled', 'unbeheaded', 'unbejuggled', 'unbelied', 'unbelieved', 'unbeloved', 'unbemoaned', 'unbemourned', 'unbended', 'unbeneficed', 'unbenefited', 'unbenetted', 'unbenighted', 'unbenumbed', 'unbequeathed', 'unbereaved', 'unberouged', 'unbesieged', 'unbesmeared', 'unbesmirched', 'unbesmutted', 'unbesprinkled', 'unbestarred', 'unbestowed', 'unbeteared', 'unbetrayed', 'unbetrothed', 'unbettered', 'unbeveled', 'unbewailed', 'unbewildered', 'unbewilled', 'unbewitched', 'unbewrayed', 'unbiased', 'unbickered', 'unbigged', 'unbigoted', 'unbilled', 'unbilleted', 'unbirdlimed', 'unbitted', 'unblacked', 'unblackened', 'unblamed', 'unblanched', 'unblanketed', 'unblasphemed', 'unblasted', 'unblazoned', 'unbleached', 'unbled', 'unblemished', 'unblenched', 'unblended', 'unblessed', 'unblighted', 'unblistered', 'unblockaded', 'unblocked', 'unblooded', 'unbloodied', 'unbloomed', 'unblossomed', 'unblotted', 'unbloused', 'unblued', 'unbluffed', 'unblundered', 'unblunted', 'unblurred', 'unboarded', 'unboasted', 'unbodied', 'unbodkined', 'unboiled', 'unbolled', 'unbolstered', 'unbolted', 'unbonded', 'unboned', 'unbonneted', 'unbooked', 'unbooklearned', 'unbooted', 'unboraxed', 'unbordered', 'unbored', 'unborrowed', 'unbossed', 'unbothered', 'unbottomed', 'unbounded', 'unbowdlerized', 'unbowed', 'unboweled', 'unbowered', 'unbowled', 'unboxed', 'unbraced', 'unbraceleted', 'unbragged', 'unbraided', 'unbrailed', 'unbrained', 'unbranched', 'unbranded', 'unbrandied', 'unbraved', 'unbreached', 'unbreaded', 'unbreakfasted', 'unbreathed', 'unbred', 'unbreeched', 'unbrewed', 'unbribed', 'unbridged', 'unbridled', 'unbriefed', 'unbrightened', 'unbrined', 'unbroached', 'unbroadcasted', 'unbroidered', 'unbroiled', 'unbronzed', 'unbrooded', 'unbrothered', 'unbrowned', 'unbruised', 'unbrushed', 'unbrutalized', 'unbuckramed', 'unbudded', 'unbudged', 'unbudgeted', 'unbuffed', 'unbuffered', 'unbuffeted', 'unbuilded', 'unbulled', 'unbulletined', 'unbumped', 'unbunched', 'unbundled', 'unbuoyed', 'unburdened', 'unburgessed', 'unburied', 'unburlesqued', 'unburned', 'unburnished', 'unburrowed', 'unbusied', 'unbuskined', 'unbutchered', 'unbuttered', 'unbuttoned', 'unbuttressed', 'uncabined', 'uncabled', 'uncadenced', 'uncaged', 'uncalcified', 'uncalcined', 'uncalculated', 'uncalendered', 'uncalked', 'uncalled', 'uncalmed', 'uncalumniated', 'uncambered', 'uncamerated', 'uncamouflaged', 'uncanceled', 'uncancelled', 'uncandied', 'uncaned', 'uncankered', 'uncanned', 'uncanonized', 'uncanopied', 'uncantoned', 'uncantonized', 'uncanvassed', 'uncaparisoned', 'uncapitalized', 'uncapped', 'uncapsized', 'uncaptained', 'uncaptioned', 'uncaptivated', 'uncaptived', 'uncaptured', 'uncarbonated', 'uncarboned', 'uncarbureted', 'uncarded', 'uncaressed', 'uncargoed', 'uncaricatured', 'uncaroled', 'uncarpentered', 'uncarpeted', 'uncarried', 'uncarted', 'uncartooned', 'uncarved', 'uncased', 'uncasemated', 'uncasked', 'uncasketed', 'uncastigated', 'uncastled', 'uncastrated', 'uncatalogued', 'uncatechised', 'uncatechized', 'uncategorized', 'uncathedraled', 'uncaused', 'uncauterized', 'unceased', 'unceded', 'unceiled', 'unceilinged', 'uncelebrated', 'uncelestialized', 'uncemented', 'uncensored', 'uncensured', 'uncentered', 'uncentred', 'uncereclothed', 'unceremented', 'uncertificated', 'uncertified', 'unchafed', 'unchained', 'unchaired', 'unchalked', 'unchallenged', 'unchambered', 'unchamfered', 'unchampioned', 'unchanged', 'unchanneled', 'unchannelled', 'unchanted', 'unchaperoned', 'unchapleted', 'unchaptered', 'uncharactered', 'uncharacterized', 'uncharged', 'uncharmed', 'uncharred', 'uncharted', 'unchartered', 'unchased', 'unchastened', 'unchastised', 'unchatteled', 'unchauffeured', 'unchawed', 'uncheated', 'unchecked', 'uncheckered', 'uncheered', 'uncherished', 'unchested', 'unchevroned', 'unchewed', 'unchided', 'unchilled', 'unchinked', 'unchipped', 'unchiseled', 'unchiselled', 'unchloridized', 'unchoked', 'unchopped', 'unchorded', 'unchristened', 'unchristianized', 'unchronicled', 'unchurched', 'uncicatrized', 'unciliated', 'uncinated', 'uncinctured', 'uncircularized', 'uncirculated', 'uncircumcised', 'uncircumscribed', 'uncircumstanced', 'uncited', 'uncitied', 'uncivilized', 'unclaimed', 'unclamped', 'unclarified', 'unclasped', 'unclassed', 'unclassified', 'unclawed', 'unclayed', 'uncleaned', 'uncleansed', 'uncleared', 'uncliented', 'unclimaxed', 'unclimbed', 'unclipped', 'uncloaked', 'unclogged', 'uncloistered', 'unclosed', 'uncloseted', 'unclothed', 'unclotted', 'unclouded', 'uncloyed', 'unclustered', 'unclutched', 'uncluttered', 'uncoached', 'uncoacted', 'uncoagulated', 'uncoated', 'uncoaxed', 'uncocked', 'uncocted', 'uncodded', 'uncoddled', 'uncoded', 'uncodified', 'uncoerced', 'uncoffined', 'uncogged', 'uncognized', 'uncoifed', 'uncoiled', 'uncoined', 'uncoked', 'uncollapsed', 'uncollared', 'uncollated', 'uncollected', 'uncolleged', 'uncolonized', 'uncolored', 'uncoloured', 'uncombated', 'uncombed', 'uncombined', 'uncomforted', 'uncommanded', 'uncommemorated', 'uncommenced', 'uncommended', 'uncommented', 'uncommingled', 'uncomminuted', 'uncommiserated', 'uncommissioned', 'uncommitted', 'uncommixed', 'uncommunicated', 'uncommuted', 'uncompacted', 'uncompanied', 'uncompanioned', 'uncompared', 'uncompassed', 'uncompassionated', 'uncompassioned', 'uncompelled', 'uncompensated', 'uncompiled', 'uncomplained', 'uncompleted', 'uncomplicated', 'uncomplimented', 'uncomposed', 'uncompounded', 'uncomprehended', 'uncompressed', 'uncomprised', 'uncompromised', 'uncomputed', 'uncomraded', 'unconcatenated', 'unconcealed', 'unconceded', 'unconceited', 'unconceived', 'unconcerned', 'unconcerted', 'unconciliated', 'unconcluded', 'unconcocted', 'unconcreted', 'uncondemned', 'uncondensed', 'unconditionated', 'unconditioned', 'uncondoled', 'unconducted', 'unconfected', 'unconfederated', 'unconferred', 'unconfessed', 'unconfided', 'unconfined', 'unconfirmed', 'unconfiscated', 'unconformed', 'unconfounded', 'unconfronted', 'unconfused', 'unconfuted', 'uncongealed', 'uncongested', 'unconglobated', 'unconglomerated', 'unconglutinated', 'uncongratulated', 'uncongregated', 'unconjectured', 'unconjoined', 'unconjugated', 'unconjured', 'unconnected', 'unconned', 'unconnived', 'unconquered', 'unconscienced', 'unconsecrated', 'unconsented', 'unconserved', 'unconsidered', 'unconsigned', 'unconsociated', 'unconsoled', 'unconsolidated', 'unconspired', 'unconstellated', 'unconstipated', 'unconstituted', 'unconstrained', 'unconstricted', 'unconstructed', 'unconstrued', 'unconsulted', 'unconsumed', 'unconsummated', 'uncontained', 'uncontaminated', 'uncontemned', 'uncontemplated', 'uncontended', 'uncontented', 'uncontested', 'uncontinented', 'uncontinued', 'uncontorted', 'uncontracted', 'uncontradicted', 'uncontrasted', 'uncontributed', 'uncontrived', 'uncontrolled', 'uncontroverted', 'unconvened', 'unconventioned', 'unconverted', 'unconveyed', 'unconvicted', 'unconvinced', 'unconvoluted', 'unconvoyed', 'unconvulsed', 'uncooked', 'uncooled', 'uncooped', 'uncoopered', 'uncopied', 'uncopyrighted', 'uncorded', 'uncored', 'uncorked', 'uncorned', 'uncoronated', 'uncoroneted', 'uncorrected', 'uncorrelated', 'uncorroborated', 'uncorroded', 'uncorrugated', 'uncorrupted', 'uncorseted', 'uncosseted', 'uncostumed', 'uncottoned', 'uncouched', 'uncounseled', 'uncounselled', 'uncounted', 'uncountenanced', 'uncounteracted', 'uncounterbalanced', 'uncounterfeited', 'uncountermanded', 'uncountervailed', 'uncountrified', 'uncoupled', 'uncoursed', 'uncourted', 'uncovenanted', 'uncovered', 'uncoveted', 'uncowed', 'uncracked', 'uncradled', 'uncramped', 'uncranked', 'uncrannied', 'uncrated', 'uncravatted', 'uncrazed', 'uncreased', 'uncreated', 'uncredentialed', 'uncredentialled', 'uncredited', 'uncreosoted', 'uncrested', 'uncrevassed', 'uncried', 'uncrinkled', 'uncrippled', 'uncriticised', 'uncriticized', 'uncrooked', 'uncropped', 'uncrossed', 'uncrossexamined', 'uncrowded', 'uncrowned', 'uncrucified', 'uncrudded', 'uncrumbled', 'uncrushed', 'uncrusted', 'uncrystaled', 'uncrystalled', 'uncrystallized', 'uncubbed', 'uncuckolded', 'uncudgelled', 'uncuffed', 'unculled', 'uncultivated', 'uncultured', 'uncumbered', 'uncupped', 'uncurbed', 'uncurdled', 'uncured', 'uncurled', 'uncurricularized', 'uncurried', 'uncursed', 'uncurtailed', 'uncurtained', 'uncushioned', 'uncusped', 'uncustomed', 'undabbled', 'undaggled', 'undamaged', 'undamasked', 'undammed', 'undamped', 'undandled', 'undangered', 'undared', 'undarkened', 'undarned', 'undashed', 'undated', 'undaubed', 'undaunted', 'undawned', 'undazed', 'undazzled', 'undeadened', 'undebarred', 'undebased', 'undebated', 'undebauched', 'undebilitated', 'undecayed', 'undeceased', 'undeceived', 'undecided', 'undeciphered', 'undecked', 'undeclaimed', 'undeclared', 'undeclined', 'undecocted', 'undecomposed', 'undecompounded', 'undecorated', 'undecorticated', 'undecoyed', 'undecreased', 'undecreed', 'undecried', 'undedicated', 'undeducted', 'undeeded', 'undeemed', 'undefaced', 'undefalcated', 'undefamed', 'undefaulted', 'undefeated', 'undefecated', 'undefended', 'undefensed', 'undeferred', 'undefied', 'undefiled', 'undefined', 'undeflected', 'undeflowered', 'undeformed', 'undefrauded', 'undefrayed', 'undegenerated', 'undegraded', 'undeified', 'undejected', 'undelated', 'undelayed', 'undelegated', 'undeleted', 'undeliberated', 'undelighted', 'undelimited', 'undelineated', 'undelivered', 'undeluded', 'undeluged', 'undelved', 'undemanded', 'undemised', 'undemolished', 'undemonstrated', 'undenied', 'undenizened', 'undenominated', 'undenoted', 'undenounced', 'undenuded', 'undeparted', 'undephlegmated', 'undepicted', 'undepleted', 'undeplored', 'undeported', 'undeposed', 'undeposited', 'undepraved', 'undeprecated', 'undepreciated', 'undepressed', 'undeprived', 'undepurated', 'undeputed', 'underaccommodated', 'underacted', 'underanged', 'underbed', 'underbitted', 'underboated', 'underbowed', 'underbraced', 'underbred', 'underburned', 'undercapitaled', 'undercarved', 'undercharged', 'underchurched', 'underclothed', 'undercoated', 'undercolored', 'undercompounded', 'underconcerned', 'underdressed', 'underdunged', 'undereducated', 'underexcited', 'underfed', 'underfeed', 'underfolded', 'underhanded', 'underhorsed', 'underided', 'underived', 'underjawed', 'underlanguaged', 'underlimbed', 'underlunged', 'undermanned', 'undermasted', 'undermatched', 'undermentioned', 'undermoated', 'undernoted', 'undernourished', 'underoccupied', 'underofficered', 'underpeopled', 'underpetticoated', 'underpitched', 'underprivileged', 'underproportioned', 'underpropped', 'underqualified', 'underrented', 'underrespected', 'underrigged', 'underripened', 'underrooted', 'undersailed', 'underseated', 'underseeded', 'undersighted', 'undersized', 'undersparred', 'underspecified', 'undertaxed', 'underteamed', 'undertided', 'undertimed', 'undertoned', 'undertrained', 'undervaulted', 'undervitalized', 'undervocabularied', 'underweighted', 'underwitted', 'underwooded', 'undescended', 'undescribed', 'undescried', 'undeserted', 'undeserved', 'undesignated', 'undesigned', 'undesired', 'undespaired', 'undespatched', 'undespised', 'undespoiled', 'undestined', 'undestroyed', 'undetached', 'undetailed', 'undetained', 'undetected', 'undeteriorated', 'undetermined', 'undeterred', 'undetested', 'undethroned', 'undeveloped', 'undeviated', 'undevised', 'undevoted', 'undevoured', 'undewed', 'undiademed', 'undiagnosed', 'undialed', 'undialyzed', 'undiamonded', 'undiapered', 'undictated', 'undieted', 'undifferenced', 'undifferentiated', 'undiffracted', 'undiffused', 'undigested', 'undigged', 'undighted', 'undigitated', 'undignified', 'undiked', 'undilapidated', 'undilated', 'undiluted', 'undimensioned', 'undiminished', 'undimmed', 'undimpled', 'undined', 'undinted', 'undiocesed', 'undiplomaed', 'undipped', 'undirected', 'undisabled', 'undisappointed', 'undisarmed', 'undisbanded', 'undisbarred', 'undisburdened', 'undisbursed', 'undiscarded', 'undiscerned', 'undischarged', 'undiscipled', 'undisciplined', 'undisclaimed', 'undisclosed', 'undiscolored', 'undiscomfited', 'undiscomposed', 'undisconcerted', 'undisconnected', 'undiscontinued', 'undiscounted', 'undiscouraged', 'undiscoursed', 'undiscovered', 'undiscredited', 'undiscriminated', 'undiscussed', 'undisdained', 'undiseased', 'undisestablished', 'undisfigured', 'undisfranchised', 'undisfulfilled', 'undisgorged', 'undisgraced', 'undisguised', 'undisgusted', 'undisheartened', 'undished', 'undisheveled', 'undishonored', 'undisillusioned', 'undisinfected', 'undisinherited', 'undisintegrated', 'undisinterested', 'undisjoined', 'undisjointed', 'undisliked', 'undislocated', 'undislodged', 'undismantled', 'undismayed', 'undismembered', 'undismissed', 'undismounted', 'undisobeyed', 'undisordered', 'undisorganized', 'undisowned', 'undisparaged', 'undispatched', 'undispelled', 'undispensed', 'undispersed', 'undisplaced', 'undisplanted', 'undisplayed', 'undispleased', 'undisposed', 'undisprivacied', 'undisproved', 'undisputed', 'undisqualified', 'undisquieted', 'undisrobed', 'undisrupted', 'undissected', 'undissembled', 'undisseminated', 'undissevered', 'undissimulated', 'undissipated', 'undissociated', 'undissolved', 'undistanced', 'undistasted', 'undistempered', 'undistended', 'undistilled', 'undistinguished', 'undistorted', 'undistracted', 'undistrained', 'undistressed', 'undistributed', 'undistrusted', 'undisturbed', 'unditched', 'undittoed', 'undiversified', 'undiverted', 'undivested', 'undivided', 'undivined', 'undivorced', 'undivulged', 'undizened', 'undizzied', 'undocked', 'undoctored', 'undoctrined', 'undocumented', 'undodged', 'undoffed', 'undolled', 'undomed', 'undomesticated', 'undomiciled', 'undominated', 'undominoed', 'undonated', 'undoomed', 'undoped', 'undosed', 'undotted', 'undoubled', 'undoubted', 'undouched', 'undoweled', 'undowered', 'undowned', 'undrafted', 'undragoned', 'undragooned', 'undrained', 'undramatized', 'undraped', 'undraperied', 'undreaded', 'undreamed', 'undredged', 'undrenched', 'undressed', 'undried', 'undrilled', 'undropped', 'undrowned', 'undrubbed', 'undrugged', 'undubbed', 'undulated', 'undulled', 'undumped', 'undunged', 'unduped', 'undusted', 'undwarfed', 'undyed', 'uneagled', 'unearned', 'unearthed', 'unebbed', 'unechoed', 'uneclipsed', 'unedged', 'unedified', 'unedited', 'uneducated', 'uneduced', 'uneffaced', 'uneffected', 'uneffectuated', 'uneffeminated', 'uneffigiated', 'uneffused', 'unejaculated', 'unejected', 'unelaborated', 'unelapsed', 'unelated', 'unelbowed', 'unelected', 'unelectrified', 'unelectrized', 'unelevated', 'unelicited', 'unelided', 'uneliminated', 'unelongated', 'uneloped', 'unelucidated', 'uneluded', 'unemaciated', 'unemancipated', 'unemasculated', 'unembalmed', 'unembanked', 'unembarrassed', 'unembased', 'unembattled', 'unembayed', 'unembellished', 'unembezzled', 'unembittered', 'unemblazoned', 'unembodied', 'unembossed', 'unembowelled', 'unembowered', 'unembraced', 'unembroidered', 'unembroiled', 'unemended', 'unemerged', 'unemitted', 'unemolumented', 'unemotioned', 'unempaneled', 'unemployed', 'unempoisoned', 'unempowered', 'unemptied', 'unemulsified', 'unenabled', 'unenacted', 'unenameled', 'unenamored', 'unencamped', 'unenchafed', 'unenchanted', 'unencircled', 'unenclosed', 'unencompassed', 'unencored', 'unencountered', 'unencouraged', 'unencroached', 'unencumbered', 'unencysted', 'unendamaged', 'unendangered', 'unendeared', 'unendeavored', 'unended', 'unendorsed', 'unendowed', 'unendued', 'unendured', 'unenergized', 'unenervated', 'unenfeebled', 'unenfiladed', 'unenforced', 'unenfranchised', 'unengaged', 'unengendered', 'unengineered', 'unengraved', 'unengrossed', 'unenhanced', 'unenjoined', 'unenjoyed', 'unenkindled', 'unenlarged', 'unenlightened', 'unenlisted', 'unenlivened', 'unennobled', 'unenounced', 'unenquired', 'unenraged', 'unenraptured', 'unenriched', 'unenrobed', 'unenrolled', 'unenshrined', 'unenslaved', 'unensnared', 'unensouled', 'unensured', 'unentailed', 'unentangled', 'unentered', 'unenterprised', 'unentertained', 'unenthralled', 'unenthroned', 'unenticed', 'unentitled', 'unentombed', 'unentranced', 'unentrapped', 'unentreated', 'unentrenched', 'unentwined', 'unenumerated', 'unenveloped', 'unenvenomed', 'unenvied', 'unenvironed', 'unepauleted', 'unepilogued', 'unepitaphed', 'unepitomized', 'unequaled', 'unequalized', 'unequated', 'unequiaxed', 'unequilibrated', 'unequipped', 'unequivalved', 'uneradicated', 'unerased', 'unerected', 'unermined', 'uneroded', 'unerupted', 'unescaladed', 'unescalloped', 'unescaped', 'unescheated', 'uneschewed', 'unescorted', 'unescutcheoned', 'unespied', 'unespoused', 'unessayed', 'unestablished', 'unesteemed', 'unestimated', 'unestopped', 'unestranged', 'unetched', 'uneternized', 'unethylated', 'uneulogized', 'unevacuated', 'unevaded', 'unevaluated', 'unevangelized', 'unevaporated', 'uneverted', 'unevicted', 'unevidenced', 'unevinced', 'unevirated', 'uneviscerated', 'unevoked', 'unevolved', 'unexacerbated', 'unexacted', 'unexaggerated', 'unexalted', 'unexamined', 'unexampled', 'unexasperated', 'unexcavated', 'unexceeded', 'unexcelled', 'unexcepted', 'unexcerpted', 'unexchanged', 'unexcised', 'unexcited', 'unexcluded', 'unexcogitated', 'unexcommunicated', 'unexcoriated', 'unexcorticated', 'unexcreted', 'unexculpated', 'unexcused', 'unexecrated', 'unexecuted', 'unexemplified', 'unexempted', 'unexercised', 'unexerted', 'unexhaled', 'unexhausted', 'unexhibited', 'unexhilarated', 'unexhorted', 'unexhumed', 'unexiled', 'unexonerated', 'unexorcised', 'unexpanded', 'unexpected', 'unexpectorated', 'unexpeditated', 'unexpedited', 'unexpelled', 'unexpended', 'unexperienced', 'unexperimented', 'unexpiated', 'unexpired', 'unexplained', 'unexplicated', 'unexploded', 'unexploited', 'unexplored', 'unexported', 'unexposed', 'unexpounded', 'unexpressed', 'unexpropriated', 'unexpunged', 'unexpurgated', 'unextended', 'unextenuated', 'unexterminated', 'unextinguished', 'unextirpated', 'unextolled', 'unextorted', 'unextracted', 'unextradited', 'unextravasated', 'unextricated', 'unextruded', 'unexuded', 'uneyed', 'unfabled', 'unfabricated', 'unfacaded', 'unfaced', 'unfaceted', 'unfacilitated', 'unfactored', 'unfaded', 'unfagged', 'unfagoted', 'unfailed', 'unfairminded', 'unfaked', 'unfallowed', 'unfalsified', 'unfamed', 'unfamiliarized', 'unfancied', 'unfanged', 'unfanned', 'unfarced', 'unfarewelled', 'unfarmed', 'unfarrowed', 'unfarsighted', 'unfasciated', 'unfascinated', 'unfashioned', 'unfastened', 'unfathered', 'unfathomed', 'unfatigued', 'unfatted', 'unfauceted', 'unfavored', 'unfeared', 'unfeasted', 'unfeathered', 'unfeatured', 'unfecundated', 'unfed', 'unfederated', 'unfeed', 'unfeigned', 'unfelicitated', 'unfelled', 'unfellied', 'unfellowed', 'unfellowshiped', 'unfelted', 'unfenced', 'unfendered', 'unfenestrated', 'unfeoffed', 'unfermented', 'unferreted', 'unferried', 'unfertilized', 'unfestered', 'unfestooned', 'unfetched', 'unfeted', 'unfettered', 'unfettled', 'unfeudalized', 'unfeued', 'unfevered', 'unfibbed', 'unfibered', 'unfielded', 'unfigured', 'unfilched', 'unfiled', 'unfilled', 'unfilleted', 'unfilmed', 'unfiltered', 'unfiltrated', 'unfined', 'unfinessed', 'unfingered', 'unfinished', 'unfired', 'unfirmamented', 'unfished', 'unfitted', 'unfixated', 'unfixed', 'unflagged', 'unflanged', 'unflanked', 'unflated', 'unflattened', 'unflattered', 'unflaunted', 'unflavored', 'unflawed', 'unflayed', 'unflecked', 'unfledged', 'unfleeced', 'unfleshed', 'unfletched', 'unflexed', 'unflitched', 'unflogged', 'unflooded', 'unfloored', 'unflounced', 'unfloured', 'unflourished', 'unflouted', 'unflowered', 'unfluked', 'unflunked', 'unflurried', 'unflushed', 'unflustered', 'unfluted', 'unfluttered', 'unfoaled', 'unfocused', 'unfoiled', 'unfoisted', 'unfolded', 'unfoliaged', 'unfoliated', 'unfollowed', 'unfomented', 'unfondled', 'unfooled', 'unfooted', 'unforaged', 'unforced', 'unforded', 'unforeboded', 'unforecasted', 'unforeordained', 'unforeshortened', 'unforestalled', 'unforested', 'unforewarned', 'unforfeited', 'unforged', 'unforked', 'unformalized', 'unformed', 'unformulated', 'unfortified', 'unforwarded', 'unfossilized', 'unfostered', 'unfouled', 'unfounded', 'unfoundered', 'unfountained', 'unfractured', 'unframed', 'unfranchised', 'unfranked', 'unfrayed', 'unfreckled', 'unfreed', 'unfreighted', 'unfrenchified', 'unfrenzied', 'unfrequented', 'unfrictioned', 'unfried', 'unfriended', 'unfrighted', 'unfrightened', 'unfrilled', 'unfringed', 'unfrizzled', 'unfrocked', 'unfronted', 'unfrosted', 'unfrounced', 'unfructed', 'unfructified', 'unfrustrated', 'unfuddled', 'unfueled', 'unfulfilled', 'unfulled', 'unfulminated', 'unfumbled', 'unfumed', 'unfumigated', 'unfunded', 'unfurbelowed', 'unfurbished', 'unfurnished', 'unfurnitured', 'unfurred', 'unfurrowed', 'unfused', 'unfussed', 'ungabled', 'ungaged', 'ungagged', 'ungained', 'ungalvanized', 'unganged', 'ungangrened', 'ungarbed', 'ungarbled', 'ungardened', 'ungargled', 'ungarlanded', 'ungarmented', 'ungarnered', 'ungarnished', 'ungarrisoned', 'ungartered', 'ungashed', 'ungassed', 'ungathered', 'ungauged', 'ungauntleted', 'ungazetted', 'ungeared', 'ungelatinized', 'ungelded', 'ungeminated', 'ungeneraled', 'ungeneralized', 'ungenerated', 'ungenitured', 'ungentled', 'ungerminated', 'ungifted', 'ungilded', 'ungingled', 'unginned', 'ungirded', 'ungirdled', 'ungirthed', 'unglaciated', 'ungladdened', 'unglassed', 'unglazed', 'ungleaned', 'unglimpsed', 'ungloomed', 'unglorified', 'unglosed', 'unglossaried', 'unglossed', 'ungloved', 'unglozed', 'unglued', 'unglutted', 'ungnarred', 'ungoaded', 'ungodmothered', 'ungored', 'ungorged', 'ungospelized', 'ungospelled', 'ungouged', 'ungoverned', 'ungowned', 'ungraced', 'ungradated', 'ungraded', 'ungraduated', 'ungrafted', 'ungrained', 'ungrammared', 'ungranted', 'ungranulated', 'ungraphitized', 'ungrappled', 'ungrasped', 'ungrassed', 'ungrated', 'ungratified', 'ungraved', 'ungraveled', 'ungrayed', 'ungrazed', 'ungreased', 'ungreened', 'ungreeted', 'ungrieved', 'ungrilled', 'ungrimed', 'ungrizzled', 'ungroined', 'ungroomed', 'ungrooved', 'ungrounded', 'ungrouped', 'ungrubbed', 'ungrudged', 'unguaranteed', 'unguarded', 'unguerdoned', 'unguessed', 'unguiculated', 'unguided', 'unguiled', 'unguillotined', 'ungulated', 'unguled', 'ungummed', 'ungutted', 'unguyed', 'unguzzled', 'ungyved', 'unhabited', 'unhabituated', 'unhacked', 'unhackled', 'unhackneyed', 'unhafted', 'unhaggled', 'unhailed', 'unhaired', 'unhallooed', 'unhallowed', 'unhaloed', 'unhalsed', 'unhalted', 'unhaltered', 'unhalved', 'unhammered', 'unhampered', 'unhandcuffed', 'unhandicapped', 'unhandled', 'unhandseled', 'unhanged', 'unharangued', 'unharassed', 'unharbored', 'unhardened', 'unharked', 'unharmed', 'unharmonized', 'unharnessed', 'unharped', 'unharried', 'unharrowed', 'unharvested', 'unhashed', 'unhasped', 'unhasted', 'unhastened', 'unhatched', 'unhatcheled', 'unhated', 'unhatted', 'unhauled', 'unhaunted', 'unhawked', 'unhayed', 'unhazarded', 'unhazed', 'unheaded', 'unhealed', 'unheaped', 'unhearsed', 'unheated', 'unheaved', 'unhectored', 'unhedged', 'unheed', 'unheeded', 'unheeled', 'unheelpieced', 'unhefted', 'unheightened', 'unheired', 'unhelmed', 'unhelmeted', 'unhelped', 'unhelved', 'unhemmed', 'unheralded', 'unherded', 'unhewed', 'unhidated', 'unhindered', 'unhinted', 'unhipped', 'unhired', 'unhissed', 'unhitched', 'unhoarded', 'unhoaxed', 'unhocked', 'unhoed', 'unhogged', 'unhoisted', 'unhollowed', 'unhoned', 'unhoneyed', 'unhonied', 'unhonored', 'unhonoured', 'unhooded', 'unhoodwinked', 'unhoofed', 'unhooked', 'unhooped', 'unhooted', 'unhoped', 'unhopped', 'unhoppled', 'unhorizoned', 'unhorned', 'unhosed', 'unhoused', 'unhouseled', 'unhugged', 'unhulled', 'unhumanized', 'unhumbled', 'unhumbugged', 'unhumiliated', 'unhumored', 'unhumoured', 'unhunted', 'unhurdled', 'unhurled', 'unhurried', 'unhurted', 'unhusbanded', 'unhushed', 'unhusked', 'unhustled', 'unhutched', 'unhuzzaed', 'unhydrolyzed', 'unhymned', 'unhyphenated', 'unhyphened', 'unhypothecated', 'uniauriculated', 'unicarinated', 'uniced', 'unicelled', 'unicolored', 'unicornuted', 'unideaed', 'unidealized', 'unidentated', 'unidentified', 'unidirected', 'unidolized', 'unifaced', 'unified', 'uniflowered', 'uniformed', 'unignited', 'unignored', 'unilabiated', 'unillumed', 'unilluminated', 'unillumined', 'unillusioned', 'unillustrated', 'unilobed', 'unimaged', 'unimagined', 'unimbanked', 'unimbellished', 'unimbezzled', 'unimbibed', 'unimbittered', 'unimbodied', 'unimboldened', 'unimbordered', 'unimbosomed', 'unimbowed', 'unimbowered', 'unimbroiled', 'unimbrowned', 'unimbrued', 'unimbued', 'unimitated', 'unimmerged', 'unimmersed', 'unimmolated', 'unimmortalized', 'unimmured', 'unimpaired', 'unimparted', 'unimpassioned', 'unimpawned', 'unimpeached', 'unimpearled', 'unimped', 'unimpeded', 'unimpelled', 'unimplanted', 'unimplicated', 'unimplied', 'unimplored', 'unimpoisoned', 'unimported', 'unimportuned', 'unimposed', 'unimpounded', 'unimpoverished', 'unimpowered', 'unimprecated', 'unimpregnated', 'unimpressed', 'unimprinted', 'unimprisoned', 'unimpropriated', 'unimproved', 'unimprovised', 'unimpugned', 'unimpurpled', 'unimputed', 'uninaugurated', 'unincantoned', 'unincarcerated', 'unincarnated', 'unincensed', 'unincised', 'unincited', 'uninclined', 'uninclosed', 'unincluded', 'uninconvenienced', 'unincorporated', 'unincreased', 'unincubated', 'uninculcated', 'unincumbered', 'unindebted', 'unindemnified', 'unindented', 'unindentured', 'unindexed', 'unindicated', 'unindicted', 'unindividualized', 'unindividuated', 'unindorsed', 'uninduced', 'unindulged', 'unindurated', 'unindustrialized', 'uninebriated', 'uninerved', 'uninfatuated', 'uninfected', 'uninferred', 'uninfested', 'uninfiltrated', 'uninfixed', 'uninflamed', 'uninflated', 'uninflected', 'uninflicted', 'uninfluenced', 'uninfolded', 'uninformed', 'uninfracted', 'uninfringed', 'uninfuriated', 'uninfused', 'uningested', 'uningrafted', 'uningrained', 'uninhabited', 'uninhaled', 'uninherited', 'uninhibited', 'uninhumed', 'uninitialed', 'uninitialled', 'uninitiated', 'uninjected', 'uninjured', 'uninked', 'uninoculated', 'uninquired', 'uninscribed', 'uninserted', 'uninshrined', 'uninsinuated', 'uninspected', 'uninspired', 'uninspirited', 'uninspissated', 'uninstalled', 'uninstanced', 'uninstated', 'uninstigated', 'uninstilled', 'uninstituted', 'uninstructed', 'uninsulated', 'uninsulted', 'uninsured', 'unintegrated', 'unintended', 'unintercalated', 'unintercepted', 'uninterdicted', 'uninterested', 'uninterjected', 'uninterlaced', 'uninterlarded', 'uninterleaved', 'uninterlined', 'uninterlinked', 'uninterlocked', 'unintermingled', 'unintermitted', 'unintermixed', 'uninterpleaded', 'uninterpolated', 'uninterposed', 'uninterpreted', 'uninterred', 'uninterrogated', 'uninterrupted', 'unintersected', 'uninterspersed', 'uninterviewed', 'unintervolved', 'uninthroned', 'unintimated', 'unintimidated', 'unintitled', 'unintombed', 'unintoned', 'unintoxicated', 'unintrenched', 'unintrigued', 'unintroduced', 'unintromitted', 'unintruded', 'unintrusted', 'unintwined', 'uninucleated', 'uninundated', 'uninured', 'uninurned', 'uninvaded', 'uninvaginated', 'uninvalidated', 'uninveigled', 'uninvented', 'uninverted', 'uninvested', 'uninvestigated', 'uninvigorated', 'uninvited', 'uninvoiced', 'uninvoked', 'uninvolved', 'uninweaved', 'uninwrapped', 'uninwreathed', 'unioned', 'uniped', 'uniradiated', 'unironed', 'unirradiated', 'unirrigated', 'unirritated', 'unisexed', 'unisolated', 'unissued', 'unitalicized', 'united', 'unitemized', 'univied', 'univocalized', 'unjacketed', 'unjaded', 'unjagged', 'unjailed', 'unjapanned', 'unjarred', 'unjaundiced', 'unjealoused', 'unjellied', 'unjesuited', 'unjeweled', 'unjewelled', 'unjilted', 'unjogged', 'unjointed', 'unjointured', 'unjolted', 'unjostled', 'unjournalized', 'unjoyed', 'unjudged', 'unjuggled', 'unjuiced', 'unjumbled', 'unjustified', 'unjustled', 'unkamed', 'unked', 'unkeeled', 'unkembed', 'unkenned', 'unkenneled', 'unkerchiefed', 'unkeyed', 'unkicked', 'unkilled', 'unkilned', 'unkindhearted', 'unkindled', 'unkindred', 'unkinged', 'unkissed', 'unkneaded', 'unknelled', 'unknighted', 'unknitted', 'unknocked', 'unknotted', 'unkodaked', 'unkoshered', 'unlabeled', 'unlabored', 'unlaced', 'unlacerated', 'unlackeyed', 'unlacquered', 'unladled', 'unladyfied', 'unlamed', 'unlamented', 'unlampooned', 'unlanced', 'unlanded', 'unlandmarked', 'unlanguaged', 'unlanterned', 'unlapped', 'unlapsed', 'unlarded', 'unlashed', 'unlassoed', 'unlathed', 'unlathered', 'unlatinized', 'unlatticed', 'unlauded', 'unlaunched', 'unlaundered', 'unlaureled', 'unlaved', 'unlavished', 'unlawed', 'unlawlearned', 'unlawyered', 'unleached', 'unleaded', 'unleafed', 'unleagued', 'unleared', 'unlearned', 'unleased', 'unleashed', 'unleathered', 'unleaved', 'unleavened', 'unlectured', 'unled', 'unlegacied', 'unlegalized', 'unleisured', 'unlensed', 'unlessened', 'unlessoned', 'unletted', 'unlettered', 'unleveled', 'unlevied', 'unlevigated', 'unlibeled', 'unliberalized', 'unliberated', 'unlicensed', 'unlicentiated', 'unlichened', 'unlicked', 'unlidded', 'unlifted', 'unligatured', 'unlighted', 'unlightened', 'unlignified', 'unliked', 'unlimed', 'unlimited', 'unlimned', 'unlined', 'unlinked', 'unliquefied', 'unliquidated', 'unliquored', 'unlisted', 'unlistened', 'unlitigated', 'unlittered', 'unliveried', 'unloaded', 'unloaned', 'unloathed', 'unlobed', 'unlocalized', 'unlocated', 'unlocked', 'unlodged', 'unlogged', 'unlooked', 'unlooped', 'unlooted', 'unlopped', 'unlorded', 'unlotted', 'unloved', 'unlowered', 'unlubricated', 'unluffed', 'unlugged', 'unlumped', 'unlured', 'unluted', 'unluxated', 'unmacadamized', 'unmacerated', 'unmadded', 'unmaddened', 'unmagnetized', 'unmagnified', 'unmailed', 'unmaimed', 'unmaintained', 'unmaligned', 'unmalled', 'unmalted', 'unmammonized', 'unmanacled', 'unmanaged', 'unmancipated', 'unmandated', 'unmanducated', 'unmaned', 'unmaneged', 'unmangled', 'unmanicured', 'unmanifested', 'unmanipulated', 'unmanned', 'unmannered', 'unmanored', 'unmantled', 'unmanufactured', 'unmanumitted', 'unmanured', 'unmapped', 'unmarbled', 'unmarginated', 'unmarked', 'unmarketed', 'unmarled', 'unmarred', 'unmarried', 'unmarshaled', 'unmartyred', 'unmashed', 'unmasked', 'unmassacred', 'unmassed', 'unmastered', 'unmasticated', 'unmatched', 'unmated', 'unmatriculated', 'unmatted', 'unmatured', 'unmauled', 'unmeasured', 'unmeated', 'unmechanized', 'unmedaled', 'unmedalled', 'unmeddled', 'unmediated', 'unmediatized', 'unmedicated', 'unmeditated', 'unmedullated', 'unmeliorated', 'unmellowed', 'unmelodized', 'unmelted', 'unmemoired', 'unmemorialized', 'unmemoried', 'unmemorized', 'unmenaced', 'unmended', 'unmentioned', 'unmercerized', 'unmerged', 'unmerited', 'unmesmerized', 'unmetaled', 'unmetalized', 'unmetalled', 'unmetamorphosed', 'unmeted', 'unmetered', 'unmethodized', 'unmethylated', 'unmewed', 'unmidwifed', 'unmildewed', 'unmilitarized', 'unmilked', 'unmilled', 'unmillinered', 'unmilted', 'unmimicked', 'unminced', 'unminded', 'unmined', 'unmineralized', 'unmingled', 'unminimized', 'unminished', 'unministered', 'unminted', 'unminuted', 'unmiracled', 'unmired', 'unmirrored', 'unmisguided', 'unmisled', 'unmissed', 'unmissionized', 'unmistressed', 'unmistrusted', 'unmitigated', 'unmittened', 'unmixed', 'unmoaned', 'unmoated', 'unmobbed', 'unmobilized', 'unmocked', 'unmodeled', 'unmodelled', 'unmodernized', 'unmodified', 'unmodulated', 'unmoiled', 'unmolded', 'unmoldered', 'unmolested', 'unmollified', 'unmoneyed', 'unmonitored', 'unmonopolized', 'unmonumented', 'unmoored', 'unmooted', 'unmopped', 'unmoralized', 'unmordanted', 'unmortared', 'unmortgaged', 'unmortified', 'unmortised', 'unmossed', 'unmothered', 'unmotivated', 'unmotived', 'unmotorized', 'unmottled', 'unmounded', 'unmounted', 'unmourned', 'unmouthed', 'unmouthpieced', 'unmoved', 'unmowed', 'unmucilaged', 'unmudded', 'unmuddied', 'unmuddled', 'unmuffled', 'unmulcted', 'unmulled', 'unmullioned', 'unmultiplied', 'unmummied', 'unmunched', 'unmundified', 'unmunicipalized', 'unmunitioned', 'unmurmured', 'unmuscled', 'unmusked', 'unmussed', 'unmusted', 'unmustered', 'unmutated', 'unmuted', 'unmutilated', 'unmuttered', 'unmutualized', 'unmuzzled', 'unmyelinated', 'unmystified', 'unnabbed', 'unnagged', 'unnailed', 'unnaked', 'unnamed', 'unnapkined', 'unnapped', 'unnarrated', 'unnationalized', 'unnaturalized', 'unnavigated', 'unneaped', 'unneared', 'unnecessitated', 'unneeded', 'unnegated', 'unneglected', 'unnegotiated', 'unneighbored', 'unnerved', 'unnestled', 'unnetted', 'unnettled', 'unneutralized', 'unnibbed', 'unnibbied', 'unniched', 'unnicked', 'unnickeled', 'unnickelled', 'unnicknamed', 'unnimbed', 'unnipped', 'unnitrogenized', 'unnobilitated', 'unnoised', 'unnominated', 'unnoosed', 'unnosed', 'unnotched', 'unnoted', 'unnoticed', 'unnotified', 'unnourished', 'unnucleated', 'unnullified', 'unnumbered', 'unnurtured', 'unnuzzled', 'unoared', 'unobeyed', 'unobjected', 'unobligated', 'unobliged', 'unobliterated', 'unobscured', 'unobserved', 'unobsessed', 'unobstructed', 'unobtained', 'unobtruded', 'unobtunded', 'unobumbrated', 'unobverted', 'unobviated', 'unoccasioned', 'unoccluded', 'unoccupied', 'unoffended', 'unoffered', 'unofficed', 'unofficered', 'unogled', 'unoiled', 'unomened', 'unomitted', 'unoped', 'unopened', 'unoperated', 'unoperculated', 'unopined', 'unopinionated', 'unoppignorated', 'unopposed', 'unoppressed', 'unoppugned', 'unorbed', 'unorchestrated', 'unordained', 'unordered', 'unordnanced', 'unorganized', 'unoriented', 'unoriginated', 'unornamented', 'unorphaned', 'unosculated', 'unossified', 'unoutlawed', 'unoutraged', 'unoverclouded', 'unoverhauled', 'unoverleaped', 'unoverlooked', 'unoverpowered', 'unoverruled', 'unovervalued', 'unoverwhelmed', 'unowed', 'unowned', 'unoxidated', 'unoxidized', 'unoxygenated', 'unoxygenized', 'unpaced', 'unpacified', 'unpacked', 'unpadded', 'unpadlocked', 'unpaged', 'unpained', 'unpainted', 'unpaired', 'unpaled', 'unpalisaded', 'unpalisadoed', 'unpalled', 'unpalliated', 'unpalped', 'unpalsied', 'unpampered', 'unpanegyrized', 'unpaneled', 'unpanelled', 'unpanged', 'unpanniered', 'unpanoplied', 'unpapered', 'unparaded', 'unparagoned', 'unparagonized', 'unparagraphed', 'unparalleled', 'unparalyzed', 'unparaphrased', 'unparceled', 'unparcelled', 'unparched', 'unpardoned', 'unpared', 'unparented', 'unpargeted', 'unparked', 'unparliamented', 'unparodied', 'unparried', 'unparroted', 'unparsed', 'unparted', 'unparticipated', 'unparticularized', 'unpartitioned', 'unpartnered', 'unpassed', 'unpassioned', 'unpasted', 'unpasteurized', 'unpastured', 'unpatched', 'unpatented', 'unpathed', 'unpathwayed', 'unpatrolled', 'unpatronized', 'unpatted', 'unpatterned', 'unpaunched', 'unpauperized', 'unpaved', 'unpavilioned', 'unpawed', 'unpawned', 'unpealed', 'unpearled', 'unpebbled', 'unpecked', 'unpeddled', 'unpedigreed', 'unpeeled', 'unpeered', 'unpelted', 'unpenalized', 'unpenanced', 'unpenciled', 'unpencilled', 'unpenetrated', 'unpenned', 'unpennied', 'unpennoned', 'unpensioned', 'unpeopled', 'unperceived', 'unperched', 'unpercolated', 'unpercussed', 'unperfected', 'unperflated', 'unperforated', 'unperformed', 'unperfumed', 'unperiphrased', 'unperished', 'unperjured', 'unpermeated', 'unpermitted', 'unpermixed', 'unperpetrated', 'unperpetuated', 'unperplexed', 'unpersecuted', 'unpersonified', 'unpersuaded', 'unperturbed', 'unperuked', 'unperused', 'unpervaded', 'unperverted', 'unpestered', 'unpetitioned', 'unpetrified', 'unpetticoated', 'unphased', 'unphilosophized', 'unphonographed', 'unphosphatized', 'unphotographed', 'unphrased', 'unphysicked', 'unpicked', 'unpicketed', 'unpickled', 'unpictured', 'unpieced', 'unpierced', 'unpigmented', 'unpiled', 'unpilfered', 'unpillaged', 'unpillared', 'unpilled', 'unpilloried', 'unpillowed', 'unpiloted', 'unpimpled', 'unpinched', 'unpinioned', 'unpinked', 'unpinned', 'unpiped', 'unpiqued', 'unpirated', 'unpitched', 'unpitied', 'unpitted', 'unplacated', 'unplaced', 'unplagiarized', 'unplagued', 'unplained', 'unplaited', 'unplaned', 'unplanished', 'unplanked', 'unplanned', 'unplanted', 'unplashed', 'unplastered', 'unplated', 'unplatted', 'unplayed', 'unpleached', 'unpleaded', 'unpleased', 'unpleated', 'unpledged', 'unplenished', 'unplied', 'unplighted', 'unplotted', 'unploughed', 'unplowed', 'unplucked', 'unplugged', 'unplumbed', 'unplumed', 'unplummeted', 'unplundered', 'unplunged', 'unpoached', 'unpocketed', 'unpodded', 'unpoeticized', 'unpoetized', 'unpointed', 'unpoised', 'unpoisoned', 'unpolarized', 'unpoled', 'unpoliced', 'unpolicied', 'unpolished', 'unpollarded', 'unpolled', 'unpolluted', 'unpolymerized', 'unpondered', 'unpooled', 'unpopulated', 'unportended', 'unportioned', 'unportmanteaued', 'unportraited', 'unportrayed', 'unposed', 'unpossessed', 'unposted', 'unpostered', 'unpostmarked', 'unpostponed', 'unpostulated', 'unpotted', 'unpouched', 'unpoulticed', 'unpounced', 'unpounded', 'unpoured', 'unpowdered', 'unpracticed', 'unpraised', 'unpranked', 'unprayed', 'unpreached', 'unprecautioned', 'unpreceded', 'unprecedented', 'unprecipitated', 'unprecluded', 'unpredestinated', 'unpredestined', 'unpredicated', 'unpredicted', 'unpredisposed', 'unpreened', 'unprefaced', 'unpreferred', 'unprefigured', 'unprefined', 'unprefixed', 'unprejudged', 'unprejudicated', 'unprejudiced', 'unpreluded', 'unpremeditated', 'unpremonished', 'unpremonstrated', 'unprenominated', 'unprenticed', 'unpreoccupied', 'unpreordained', 'unprepared', 'unpreponderated', 'unpresaged', 'unpresbyterated', 'unprescinded', 'unprescribed', 'unpresented', 'unpreserved', 'unpressed', 'unpresumed', 'unpresupposed', 'unpretended', 'unpretermitted', 'unprevented', 'unpriced', 'unpricked', 'unprickled', 'unprimed', 'unprimmed', 'unprincipled', 'unprinted', 'unprisoned', 'unprivileged', 'unprized', 'unprobated', 'unprobed', 'unprocessed', 'unproclaimed', 'unprocrastinated', 'unprocreated', 'unproctored', 'unprocured', 'unproded', 'unproduced', 'unprofaned', 'unprofessed', 'unproffered', 'unprofited', 'unprognosticated', 'unprogressed', 'unprohibited', 'unprojected', 'unprologued', 'unprolonged', 'unpromised', 'unpromoted', 'unprompted', 'unpromulgated', 'unpronounced', 'unpropagated', 'unpropelled', 'unpropertied', 'unprophesied', 'unpropitiated', 'unproportioned', 'unproposed', 'unpropounded', 'unpropped', 'unprorogued', 'unproscribed', 'unprosecuted', 'unproselyted', 'unprospected', 'unprospered', 'unprostituted', 'unprostrated', 'unprotected', 'unprotested', 'unprotruded', 'unproved', 'unprovided', 'unprovidenced', 'unprovisioned', 'unprovoked', 'unpruned', 'unpublished', 'unpuckered', 'unpuddled', 'unpuffed', 'unpulled', 'unpulleyed', 'unpulped', 'unpulverized', 'unpulvinated', 'unpumicated', 'unpummeled', 'unpummelled', 'unpumped', 'unpunched', 'unpunctated', 'unpunctuated', 'unpunished', 'unpurchased', 'unpurged', 'unpurified', 'unpurled', 'unpurloined', 'unpurpled', 'unpurported', 'unpurposed', 'unpursed', 'unpursued', 'unpurveyed', 'unpushed', 'unputrefied', 'unputtied', 'unquadded', 'unquaffed', 'unquailed', 'unqualified', 'unqualitied', 'unquantified', 'unquarantined', 'unquarreled', 'unquarrelled', 'unquarried', 'unquartered', 'unquashed', 'unquayed', 'unqueened', 'unquelled', 'unquenched', 'unqueried', 'unquested', 'unquestioned', 'unquibbled', 'unquickened', 'unquicksilvered', 'unquieted', 'unquilleted', 'unquilted', 'unquitted', 'unquivered', 'unquizzed', 'unquoted', 'unrabbeted', 'unraced', 'unracked', 'unradiated', 'unraffled', 'unraftered', 'unraided', 'unrailed', 'unrailroaded', 'unrailwayed', 'unraised', 'unraked', 'unrallied', 'unramified', 'unrammed', 'unramped', 'unranched', 'unrancored', 'unranked', 'unransacked', 'unransomed', 'unraped', 'unraptured', 'unrarefied', 'unrasped', 'unrated', 'unratified', 'unrattled', 'unravaged', 'unraveled', 'unravelled', 'unravished', 'unrayed', 'unrazed', 'unrazored', 'unreached', 'unrealized', 'unrealmed', 'unreaped', 'unreared', 'unreasoned', 'unrebated', 'unrebuked', 'unrebutted', 'unrecalled', 'unrecanted', 'unrecaptured', 'unreceipted', 'unreceived', 'unreciprocated', 'unrecited', 'unrecked', 'unreckoned', 'unreclaimed', 'unreclined', 'unrecognized', 'unrecoined', 'unrecollected', 'unrecompensed', 'unreconciled', 'unreconnoitered', 'unreconsidered', 'unreconstructed', 'unrecorded', 'unrecounted', 'unrecovered', 'unrecreated', 'unrecruited', 'unrectified', 'unrecuperated', 'unred', 'unredacted', 'unredeemed', 'unredressed', 'unreduced', 'unreefed', 'unreeled', 'unreferenced', 'unreferred', 'unrefilled', 'unrefined', 'unrefitted', 'unreflected', 'unreformed', 'unrefracted', 'unrefrained', 'unrefreshed', 'unrefrigerated', 'unrefunded', 'unrefused', 'unrefuted', 'unregained', 'unregaled', 'unregarded', 'unregimented', 'unregistered', 'unregretted', 'unregulated', 'unregurgitated', 'unrehabilitated', 'unrehearsed', 'unreimbodied', 'unreined', 'unreinstated', 'unreiterated', 'unrejoiced', 'unrejuvenated', 'unrelated', 'unrelaxed', 'unreleased', 'unrelegated', 'unrelented', 'unrelieved', 'unreligioned', 'unrelinquished', 'unrelished', 'unremanded', 'unremarked', 'unremarried', 'unremedied', 'unremembered', 'unreminded', 'unremitted', 'unremonstrated', 'unremounted', 'unremoved', 'unremunerated', 'unrendered', 'unrenewed', 'unrenounced', 'unrenovated', 'unrenowned', 'unrented', 'unreorganized', 'unrepaired', 'unreparted', 'unrepealed', 'unrepeated', 'unrepelled', 'unrepented', 'unrepined', 'unrepiqued', 'unreplaced', 'unreplenished', 'unreplevined', 'unreplied', 'unreported', 'unreposed', 'unrepossessed', 'unreprehended', 'unrepresented', 'unrepressed', 'unreprieved', 'unreprimanded', 'unreprinted', 'unreproached', 'unreprobated', 'unreproved', 'unrepudiated', 'unrepulsed', 'unreputed', 'unrequalified', 'unrequested', 'unrequickened', 'unrequired', 'unrequited', 'unrescinded', 'unrescued', 'unresented', 'unreserved', 'unresifted', 'unresigned', 'unresisted', 'unresolved', 'unresounded', 'unrespected', 'unrespired', 'unrespited', 'unrested', 'unrestored', 'unrestrained', 'unrestricted', 'unresumed', 'unretained', 'unretaliated', 'unretarded', 'unretinued', 'unretired', 'unretorted', 'unretouched', 'unretracted', 'unretrenched', 'unretrieved', 'unretted', 'unreturned', 'unrevealed', 'unrevenged', 'unrevenued', 'unreverberated', 'unrevered', 'unreverenced', 'unreversed', 'unreverted', 'unrevested', 'unrevetted', 'unreviewed', 'unreviled', 'unrevised', 'unrevived', 'unrevoked', 'unrevolted', 'unrevolutionized', 'unrevolved', 'unrewarded', 'unreworded', 'unrhymed', 'unribbed', 'unribboned', 'unriched', 'unricked', 'unriddled', 'unridered', 'unridged', 'unridiculed', 'unriffled', 'unrifled', 'unrifted', 'unrigged', 'unrighted', 'unrimpled', 'unringed', 'unrinsed', 'unrioted', 'unriped', 'unripened', 'unripped', 'unrippled', 'unrisked', 'unrivaled', 'unrived', 'unriveted', 'unroaded', 'unroasted', 'unrobbed', 'unrobed', 'unrocked', 'unrodded', 'unroiled', 'unrolled', 'unromanticized', 'unroofed', 'unroosted', 'unrooted', 'unroped', 'unrosed', 'unrosined', 'unrostrated', 'unrotated', 'unroted', 'unrotted', 'unrouged', 'unroughened', 'unrounded', 'unroused', 'unrouted', 'unroved', 'unrowed', 'unroweled', 'unroyalized', 'unrubbed', 'unrubified', 'unrubricated', 'unruddered', 'unruddled', 'unruffed', 'unruffled', 'unrugged', 'unruinated', 'unruined', 'unruled', 'unruminated', 'unrummaged', 'unrumored', 'unrumpled', 'unruptured', 'unrushed', 'unrusted', 'unrusticated', 'unsabered', 'unsabled', 'unsabred', 'unsacked', 'unsacred', 'unsacrificed', 'unsaddened', 'unsaddled', 'unsafeguarded', 'unsailed', 'unsainted', 'unsalaried', 'unsalivated', 'unsalted', 'unsaluted', 'unsalvaged', 'unsalved', 'unsampled', 'unsanctified', 'unsanctioned', 'unsanctuaried', 'unsandaled', 'unsanded', 'unsanitated', 'unsaponified', 'unsapped', 'unsashed', 'unsated', 'unsatiated', 'unsatirized', 'unsatisfied', 'unsaturated', 'unsauced', 'unsaved', 'unsavored', 'unsawed', 'unscabbarded', 'unscabbed', 'unscaffolded', 'unscaled', 'unscalloped', 'unscamped', 'unscandalized', 'unscanned', 'unscanted', 'unscared', 'unscarfed', 'unscarified', 'unscarred', 'unscathed', 'unscattered', 'unscavengered', 'unscented', 'unsceptered', 'unsceptred', 'unscheduled', 'unschematized', 'unschooled', 'unscienced', 'unscioned', 'unscissored', 'unscoffed', 'unscolded', 'unsconced', 'unscooped', 'unscorched', 'unscored', 'unscorified', 'unscorned', 'unscotched', 'unscoured', 'unscourged', 'unscraped', 'unscratched', 'unscrawled', 'unscreened', 'unscrewed', 'unscribbled', 'unscribed', 'unscrimped', 'unscrubbed', 'unscrupled', 'unscrutinized', 'unsculptured', 'unscummed', 'unscutcheoned', 'unsealed', 'unseamed', 'unsearched', 'unseared', 'unseasoned', 'unseated', 'unsecluded', 'unseconded', 'unsecreted', 'unsecularized', 'unsecured', 'unseduced', 'unseeded', 'unseethed', 'unsegmented', 'unsegregated', 'unseized', 'unselected', 'unsensed', 'unsensitized', 'unsensualized', 'unsentenced', 'unsentineled', 'unsentinelled', 'unseparated', 'unseptated', 'unsepulchered', 'unsepulchred', 'unsepultured', 'unsequenced', 'unsequestered', 'unserenaded', 'unserrated', 'unserried', 'unserved', 'unsettled', 'unsevered', 'unsewed', 'unsewered', 'unsexed', 'unshackled', 'unshaded', 'unshadowed', 'unshafted', 'unshaled', 'unshamed', 'unshamefaced', 'unshammed', 'unshanked', 'unshaped', 'unshared', 'unsharped', 'unsharpened', 'unshattered', 'unshaved', 'unsheared', 'unsheathed', 'unshed', 'unsheeted', 'unshelled', 'unsheltered', 'unshepherded', 'unshewed', 'unshielded', 'unshifted', 'unshingled', 'unshipped', 'unshipwrecked', 'unshirted', 'unshivered', 'unshocked', 'unshoed', 'unshored', 'unshortened', 'unshotted', 'unshouted', 'unshoved', 'unshoveled', 'unshowed', 'unshredded', 'unshrined', 'unshrived', 'unshriveled', 'unshrivelled', 'unshrouded', 'unshrubbed', 'unshuffled', 'unshunned', 'unshunted', 'unshuttered', 'unsiccated', 'unsickened', 'unsickled', 'unsided', 'unsifted', 'unsighted', 'unsignaled', 'unsignalized', 'unsignalled', 'unsignatured', 'unsigned', 'unsigneted', 'unsignified', 'unsilenced', 'unsilicified', 'unsilvered', 'unsimplified', 'unsimulated', 'unsinewed', 'unsinged', 'unsingled', 'unsipped', 'unsistered', 'unsized', 'unsketched', 'unskewed', 'unskewered', 'unskilled', 'unskimmed', 'unskinned', 'unskirted', 'unslacked', 'unslackened', 'unslagged', 'unslaked', 'unslammed', 'unslandered', 'unslapped', 'unslashed', 'unslated', 'unslaughtered', 'unsleaved', 'unsleeved', 'unsliced', 'unslighted', 'unslipped', 'unslockened', 'unsloped', 'unslopped', 'unslotted', 'unsloughed', 'unsluiced', 'unslurred', 'unsmacked', 'unsmeared', 'unsmelled', 'unsmelted', 'unsmiled', 'unsmirched', 'unsmoked', 'unsmokified', 'unsmoothed', 'unsmothered', 'unsmudged', 'unsmuggled', 'unsmutched', 'unsmutted', 'unsnaffled', 'unsnagged', 'unsnaggled', 'unsnapped', 'unsnared', 'unsnatched', 'unsnipped', 'unsnouted', 'unsnubbed', 'unsnuffed', 'unsoaked', 'unsoaped', 'unsocialized', 'unsoftened', 'unsoiled', 'unsolaced', 'unsoldered', 'unsoldiered', 'unsoled', 'unsolemnized', 'unsolicitated', 'unsolicited', 'unsolidified', 'unsolved', 'unsonneted', 'unsoothed', 'unsophisticated', 'unsorrowed', 'unsorted', 'unsotted', 'unsounded', 'unsoured', 'unsoused', 'unsowed', 'unspaced', 'unspaded', 'unspangled', 'unspanked', 'unspanned', 'unspared', 'unsparred', 'unspattered', 'unspawned', 'unspayed', 'unspeared', 'unspecialized', 'unspecified', 'unspecked', 'unspeckled', 'unspectacled', 'unsped', 'unspeed', 'unspeered', 'unspelled', 'unspewed', 'unsphered', 'unspiced', 'unspied', 'unspired', 'unspirited', 'unspiritualized', 'unspissated', 'unspited', 'unspitted', 'unsplashed', 'unsplattered', 'unsplayed', 'unspleened', 'unspliced', 'unsplinted', 'unsplintered', 'unspoiled', 'unsponged', 'unsponsored', 'unsported', 'unspotlighted', 'unspotted', 'unspoused', 'unspouted', 'unsprained', 'unsprayed', 'unsprinkled', 'unsprinklered', 'unsprouted', 'unspruced', 'unspurned', 'unspurred', 'unsquandered', 'unsquared', 'unsquashed', 'unsqueezed', 'unsquelched', 'unsquired', 'unsquirted', 'unstabbed', 'unstabled', 'unstablished', 'unstacked', 'unstaffed', 'unstaged', 'unstaggered', 'unstained', 'unstaled', 'unstalked', 'unstalled', 'unstamped', 'unstampeded', 'unstandardized', 'unstarched', 'unstarred', 'unstarted', 'unstartled', 'unstarved', 'unstated', 'unstationed', 'unstatued', 'unstaunched', 'unstaved', 'unstayed', 'unsteadied', 'unsteamed', 'unstecked', 'unsteeled', 'unsteeped', 'unsteepled', 'unsteered', 'unstemmed', 'unstercorated', 'unstereotyped', 'unsterilized', 'unstethoscoped', 'unstewed', 'unstiffened', 'unstifled', 'unstigmatized', 'unstilled', 'unstilted', 'unstimulated', 'unstinged', 'unstinted', 'unstippled', 'unstipulated', 'unstirred', 'unstitched', 'unstocked', 'unstockinged', 'unstoked', 'unstoned', 'unstopped', 'unstoppered', 'unstored', 'unstoried', 'unstormed', 'unstoved', 'unstowed', 'unstraddled', 'unstrafed', 'unstraightened', 'unstrained', 'unstraitened', 'unstranded', 'unstrangered', 'unstrangled', 'unstrapped', 'unstratified', 'unstreaked', 'unstrengthened', 'unstressed', 'unstretched', 'unstrewed', 'unstriated', 'unstrictured', 'unstringed', 'unstriped', 'unstripped', 'unstroked', 'unstubbed', 'unstuccoed', 'unstudded', 'unstudied', 'unstuffed', 'unstultified', 'unstunned', 'unstunted', 'unstupefied', 'unstuttered', 'unstyled', 'unsubdivided', 'unsubducted', 'unsubdued', 'unsubjected', 'unsubjugated', 'unsublimated', 'unsublimed', 'unsubmerged', 'unsubmitted', 'unsubordinated', 'unsuborned', 'unsubpoenaed', 'unsubscribed', 'unsubsided', 'unsubsidized', 'unsubstanced', 'unsubstantiated', 'unsubstituted', 'unsubtracted', 'unsubventioned', 'unsubventionized', 'unsubverted', 'unsucceeded', 'unsuccored', 'unsucked', 'unsuckled', 'unsued', 'unsuffered', 'unsufficed', 'unsufflated', 'unsuffocated', 'unsuffused', 'unsugared', 'unsuggested', 'unsuited', 'unsullied', 'unsulphonated', 'unsulphurized', 'unsummarized', 'unsummed', 'unsummered', 'unsummoned', 'unsunburned', 'unsundered', 'unsunned', 'unsuperannuated', 'unsupernaturalized', 'unsuperscribed', 'unsuperseded', 'unsupervised', 'unsupped', 'unsupplanted', 'unsuppled', 'unsupplemented', 'unsupplicated', 'unsupplied', 'unsupported', 'unsupposed', 'unsuppressed', 'unsuppurated', 'unsurcharged', 'unsurfaced', 'unsurfeited', 'unsurmised', 'unsurmounted', 'unsurnamed', 'unsurpassed', 'unsurpliced', 'unsurprised', 'unsurrendered', 'unsurrounded', 'unsurveyed', 'unsurvived', 'unsuspected', 'unsuspended', 'unsustained', 'unsutured', 'unswabbed', 'unswaddled', 'unswallowed', 'unswapped', 'unswathed', 'unswayed', 'unsweated', 'unsweetened', 'unswelled', 'unsweltered', 'unswerved', 'unswilled', 'unswingled', 'unswitched', 'unsyllabled', 'unsymbolized', 'unsymmetrized', 'unsympathized', 'unsynchronized', 'unsyncopated', 'unsyndicated', 'unsyringed', 'unsystematized', 'untabernacled', 'untabled', 'untabulated', 'untacked', 'untackled', 'untagged', 'untailed', 'untainted', 'untalented', 'untalked', 'untallied', 'untallowed', 'untamed', 'untampered', 'untangled', 'untanned', 'untantalized', 'untaped', 'untapered', 'untapestried', 'untapped', 'untarnished', 'untarred', 'untarried', 'untartarized', 'untasked', 'untasseled', 'untasted', 'untattered', 'untattooed', 'untaunted', 'untawed', 'untaxed', 'unteamed', 'unteased', 'unteasled', 'untedded', 'unteethed', 'untelegraphed', 'untempered', 'untempested', 'untempled', 'untempted', 'untenanted', 'untended', 'untendered', 'untented', 'untentered', 'unterminated', 'unterraced', 'unterrified', 'unterrorized', 'untessellated', 'untested', 'untethered', 'untewed', 'unthanked', 'unthatched', 'unthawed', 'unthickened', 'unthinned', 'unthoughted', 'unthralled', 'unthrashed', 'unthreaded', 'unthreatened', 'unthreshed', 'unthrilled', 'unthroned', 'unthronged', 'unthrottled', 'unthumbed', 'unthumped', 'unthundered', 'unthwacked', 'unthwarted', 'untiaraed', 'unticketed', 'untickled', 'untied', 'untiled', 'untilled', 'untilted', 'untimbered', 'untimed', 'untinctured', 'untinged', 'untinkered', 'untinned', 'untinseled', 'untinted', 'untipped', 'untippled', 'untired', 'untissued', 'untithed', 'untitled', 'untoasted', 'untogaed', 'untoiled', 'untoileted', 'untolerated', 'untombed', 'untoned', 'untongued', 'untonsured', 'untooled', 'untoothed', 'untopped', 'untormented', 'untorpedoed', 'untortured', 'untossed', 'untotaled', 'untotalled', 'untouched', 'untoured', 'untouristed', 'untowered', 'untraced', 'untraceried', 'untracked', 'untraded', 'untraduced', 'untrafficked', 'untrailed', 'untrained', 'untraitored', 'untrammed', 'untrammeled', 'untramped', 'untrampled', 'untranquilized', 'untranquillized', 'untransacted', 'untranscended', 'untranscribed', 'untransferred', 'untransfigured', 'untransfixed', 'untransformed', 'untransfused', 'untransgressed', 'untranslated', 'untransmigrated', 'untransmitted', 'untransmuted', 'untranspired', 'untransplanted', 'untransported', 'untransposed', 'untransubstantiated', 'untrapped', 'untrashed', 'untraveled', 'untraversed', 'untravestied', 'untreasured', 'untreated', 'untreed', 'untrekked', 'untrellised', 'untrenched', 'untrepanned', 'untrespassed', 'untressed', 'untriced', 'untricked', 'untried', 'untrimmed', 'untripped', 'untriturated', 'untriumphed', 'untrolled', 'untrophied', 'untrotted', 'untroubled', 'untrounced', 'untrowed', 'untruckled', 'untrumped', 'untrumpeted', 'untrundled', 'untrunked', 'untrussed', 'untrusted', 'untubbed', 'untucked', 'untuckered', 'untufted', 'untugged', 'untumbled', 'untumefied', 'untuned', 'untunneled', 'untupped', 'unturbaned', 'unturfed', 'unturned', 'unturpentined', 'unturreted', 'untusked', 'untutored', 'untwilled', 'untwined', 'untwinned', 'untwirled', 'untwisted', 'untwitched', 'unulcerated', 'unumpired', 'ununified', 'ununiformed', 'ununited', 'unupholstered', 'unurged', 'unurned', 'unused', 'unushered', 'unusurped', 'unuttered', 'unvaccinated', 'unvaleted', 'unvalidated', 'unvalued', 'unvamped', 'unvanquished', 'unvantaged', 'unvaporized', 'unvaried', 'unvariegated', 'unvarnished', 'unvatted', 'unvaulted', 'unvaunted', 'unveiled', 'unveined', 'unvended', 'unveneered', 'unvenerated', 'unvenged', 'unvenomed', 'unvented', 'unventilated', 'unventured', 'unvenued', 'unverbalized', 'unverdured', 'unverified', 'unvermiculated', 'unversed', 'unversified', 'unvesseled', 'unvested', 'unvetoed', 'unvexed', 'unvibrated', 'unvictimized', 'unvictualed', 'unvictualled', 'unviewed', 'unvilified', 'unvillaged', 'unvindicated', 'unvintaged', 'unviolated', 'unviolenced', 'unviolined', 'unvisioned', 'unvisited', 'unvisored', 'unvisualized', 'unvitalized', 'unvitiated', 'unvitrified', 'unvitriolized', 'unvituperated', 'unvivified', 'unvizarded', 'unvocalized', 'unvoiced', 'unvoided', 'unvolatilized', 'unvolitioned', 'unvomited', 'unvoted', 'unvouched', 'unvouchsafed', 'unvowed', 'unvoweled', 'unvulcanized', 'unvulgarized', 'unwadded', 'unwaded', 'unwafted', 'unwaged', 'unwagered', 'unwagged', 'unwailed', 'unwainscoted', 'unwaited', 'unwaked', 'unwakened', 'unwalked', 'unwalled', 'unwallowed', 'unwandered', 'unwanted', 'unwarbled', 'unwarmed', 'unwarned', 'unwarnished', 'unwarped', 'unwarranted', 'unwashed', 'unwasted', 'unwatched', 'unwatered', 'unwatermarked', 'unwattled', 'unwaved', 'unwavered', 'unwaxed', 'unwayed', 'unweakened', 'unweaned', 'unweaponed', 'unwearied', 'unweathered', 'unwebbed', 'unwed', 'unwedded', 'unwedged', 'unweeded', 'unweened', 'unweighed', 'unweighted', 'unwelcomed', 'unwelded', 'unwelted', 'unwesternized', 'unwetted', 'unwheedled', 'unwheeled', 'unwhelmed', 'unwhelped', 'unwhetted', 'unwhipped', 'unwhirled', 'unwhisked', 'unwhiskered', 'unwhispered', 'unwhistled', 'unwhited', 'unwhitened', 'unwhitewashed', 'unwidened', 'unwidowed', 'unwifed', 'unwigged', 'unwilled', 'unwilted', 'unwindowed', 'unwinged', 'unwinnowed', 'unwiped', 'unwired', 'unwished', 'unwitched', 'unwithered', 'unwitnessed', 'unwitted', 'unwived', 'unwomanized', 'unwonted', 'unwooded', 'unwooed', 'unworked', 'unwormed', 'unworried', 'unworshiped', 'unworshipped', 'unwounded', 'unwrapped', 'unwreaked', 'unwreathed', 'unwrecked', 'unwrenched', 'unwrested', 'unwrestled', 'unwretched', 'unwriggled', 'unwrinkled', 'unwronged', 'unyeaned', 'unyearned', 'unyielded', 'unyoked', 'unzoned', 'upbred', 'upbreed', 'upfeed', 'upfingered', 'uphearted', 'upholstered', 'uplifted', 'upsetted', 'upsighted', 'upspeed', 'uptwined', 'urled', 'used', 'vacanthearted', 'vacuolated', 'vaginated', 'valanced', 'vallated', 'valued', 'valved', 'vambraced', 'vamped', 'vaned', 'vanitied', 'vapored', 'vareheaded', 'varicated', 'varicolored', 'varicosed', 'varied', 'variegated', 'variformed', 'variotinted', 'varnished', 'varved', 'vasculated', 'vaulted', 'vaunted', 'veiled', 'veined', 'velated', 'velveted', 'velveteened', 'velvetseed', 'velvetweed', 'venomed', 'verandaed', 'verdured', 'vermiculated', 'verriculated', 'verrucated', 'versed', 'versicolored', 'vertebrated', 'verticillated', 'veruled', 'verveled', 'vesseled', 'vestibuled', 'vestmented', 'vexed', 'viduated', 'vilehearted', 'vinaigretted', 'vined', 'vinegarweed', 'vingerhoed', 'virgated', 'viroled', 'virtued', 'virulented', 'visaged', 'visioned', 'vistaed', 'vitiated', 'vitrailed', 'vizarded', 'vocabularied', 'voiced', 'voided', 'volumed', 'voluted', 'vowed', 'waged', 'waistcoated', 'waisted', 'waled', 'walled', 'walleyed', 'waned', 'warbled', 'warded', 'warehoused', 'warmed', 'warmhearted', 'warped', 'warranted', 'warted', 'wartweed', 'washed', 'washshed', 'wasted', 'watched', 'watered', 'waterlogged', 'watershed', 'waterweed', 'wattled', 'waved', 'waxhearted', 'waxweed', 'weakbrained', 'weakhanded', 'weakhearted', 'weakmouthed', 'weaponed', 'wearied', 'weathered', 'weatherheaded', 'weatherproofed', 'weaved', 'weazened', 'webbed', 'wed', 'wedbed', 'wedded', 'wedged', 'weed', 'weeded', 'weelfaured', 'weepered', 'weeviled', 'wefted', 'weighed', 'weighted', 'welted', 'wetched', 'wetted', 'whaleboned', 'wheateared', 'wheeled', 'whelked', 'wheyfaced', 'whimsied', 'whipped', 'whirled', 'whiskerandoed', 'whiskered', 'whiskied', 'whiskified', 'whiskyfied', 'whispered', 'whited', 'whitehanded', 'whitehearted', 'whiteweed', 'wholehearted', 'whorled', 'wicked', 'wickerworked', 'widehearted', 'widemouthed', 'widowed', 'widowered', 'wigged', 'wilded', 'willed', 'willinghearted', 'willowed', 'willowweed', 'windbagged', 'winded', 'windgalled', 'wined', 'winged', 'winghanded', 'wingseed', 'winkered', 'wintered', 'winterfeed', 'winterweed', 'wired', 'wireweed', 'wiseacred', 'wisehearted', 'wiseweed', 'wished', 'wistened', 'witched', 'witchweed', 'withered', 'witted', 'wittified', 'wizened', 'womanhearted', 'wombed', 'wonned', 'wonted', 'woodbined', 'wooded', 'woodenheaded', 'woodlocked', 'woodshed', 'woofed', 'wooled', 'woolshed', 'woolweed', 'worded', 'worked', 'workhoused', 'worlded', 'wormed', 'wormholed', 'wormseed', 'wormweed', 'worried', 'worsted', 'wounded', 'wrapped', 'wreathed', 'wrenched', 'wretched', 'wried', 'wrinkled', 'wristed', 'writhed', 'wrizzled', 'wronged', 'wrongheaded', 'wronghearted', 'yapped', 'yawweed', 'yed', 'yellowseed', 'yellowweed', 'yolked', 'younghearted', 'zagged', 'zed', 'zeed', 'zigzagged', 'zonated', 'zoned']\n"
     ]
    }
   ],
   "source": [
    "print([w for w in wordlist if re.search('ed$',w)])"
   ]
  },
  {
   "cell_type": "markdown",
   "metadata": {},
   "source": [
    "The . <b>wildcard</b> symbol matches any single character. Suppose we have room in a crossword puzzle for an 8-letter word with j as its third letter and t as its sixth letter. In place of each blank cell we use a period:\n",
    "\n"
   ]
  },
  {
   "cell_type": "code",
   "execution_count": 12,
   "metadata": {},
   "outputs": [
    {
     "name": "stdout",
     "output_type": "stream",
     "text": [
      "['abjectly', 'adjuster', 'dejected', 'dejectly', 'injector', 'majestic', 'objectee', 'objector', 'rejecter', 'rejector', 'unjilted', 'unjolted', 'unjustly']\n"
     ]
    }
   ],
   "source": [
    "print([w for w in wordlist if re.search('^..j..t..$',w)])"
   ]
  },
  {
   "cell_type": "markdown",
   "metadata": {},
   "source": [
    "Note\n",
    "\n",
    "<b>Your Turn</b>: The caret symbol ^ matches the start of a string, just like the $ matches the end. What results do we get with the above example if we leave out both of these, and search for «..j..t..»?"
   ]
  },
  {
   "cell_type": "code",
   "execution_count": 13,
   "metadata": {},
   "outputs": [
    {
     "name": "stdout",
     "output_type": "stream",
     "text": [
      "['abjectedness', 'abjection', 'abjective', 'abjectly', 'abjectness', 'adjection', 'adjectional', 'adjectival', 'adjectivally', 'adjective', 'adjectively', 'adjectivism', 'adjectivitis', 'adjustable', 'adjustably', 'adjustage', 'adjustation', 'adjuster', 'adjustive', 'adjustment', 'bijouterie', 'cojusticiar', 'dejected', 'dejectedly', 'dejectedness', 'dejectile', 'dejection', 'dejectly', 'dejectory', 'dejecture', 'injectable', 'injection', 'injector', 'injustice', 'majestic', 'majestical', 'majestically', 'majesticalness', 'majesticness', 'majestious', 'majestyship', 'objectable', 'objectation', 'objectative', 'objectee', 'objecthood', 'objectification', 'objectify', 'objection', 'objectionability', 'objectionable', 'objectionableness', 'objectionably', 'objectional', 'objectioner', 'objectionist', 'objectival', 'objectivate', 'objectivation', 'objective', 'objectively', 'objectiveness', 'objectivism', 'objectivist', 'objectivistic', 'objectivity', 'objectivize', 'objectization', 'objectize', 'objectless', 'objectlessly', 'objectlessness', 'objector', 'rejectable', 'rejectableness', 'rejectage', 'rejectamenta', 'rejecter', 'rejectingly', 'rejection', 'rejective', 'rejectment', 'rejector', 'rejustification', 'rejustify', 'unjesting', 'unjilted', 'unjolted', 'unjostled', 'unjustice', 'unjusticiable', 'unjustifiable', 'unjustifiableness', 'unjustifiably', 'unjustified', 'unjustifiedly', 'unjustifiedness', 'unjustify', 'unjustled', 'unjustly', 'unjustness']\n"
     ]
    }
   ],
   "source": [
    "print([w for w in wordlist if re.search('^..j..t..',w)]) # here we care about just the start, third and sixth letters."
   ]
  },
  {
   "cell_type": "code",
   "execution_count": 14,
   "metadata": {},
   "outputs": [
    {
     "name": "stdout",
     "output_type": "stream",
     "text": [
      "['abjectly', 'adjuster', 'coprojector', 'dejected', 'dejectly', 'injector', 'interjector', 'majestic', 'maladjusted', 'microprojector', 'munjistin', 'objectee', 'objector', 'projector', 'readjuster', 'rejecter', 'rejector', 'subjected', 'unadjusted', 'undejected', 'unejected', 'uninjected', 'uninterjected', 'unjilted', 'unjolted', 'unjustly', 'unmajestic', 'unobjected', 'unprojected', 'unsubjected']\n"
     ]
    }
   ],
   "source": [
    "print([w for w in wordlist if re.search('..j..t..$',w)]) # unlike the previous example here we care about the end "
   ]
  },
  {
   "cell_type": "code",
   "execution_count": 17,
   "metadata": {},
   "outputs": [
    {
     "name": "stdout",
     "output_type": "stream",
     "text": [
      "['abjectedness', 'abjection', 'abjective', 'abjectly', 'abjectness', 'adjection', 'adjectional', 'adjectival', 'adjectivally', 'adjective', 'adjectively', 'adjectivism', 'adjectivitis', 'adjustable', 'adjustably', 'adjustage', 'adjustation', 'adjuster', 'adjustive', 'adjustment', 'antejentacular', 'antiprojectivity', 'bijouterie', 'coadjustment', 'cojusticiar', 'conjective', 'conjecturable', 'conjecturably', 'conjectural', 'conjecturalist', 'conjecturality', 'conjecturally', 'conjecture', 'conjecturer', 'coprojector', 'counterobjection', 'dejected', 'dejectedly', 'dejectedness', 'dejectile', 'dejection', 'dejectly', 'dejectory', 'dejecture', 'disjection', 'guanajuatite', 'inadjustability', 'inadjustable', 'injectable', 'injection', 'injector', 'injustice', 'insubjection', 'interjection', 'interjectional', 'interjectionalize', 'interjectionally', 'interjectionary', 'interjectionize', 'interjectiveness', 'interjector', 'interjectorily', 'interjectory', 'interjectural', 'interobjective', 'intersubjective', 'introjection', 'introjective', 'majestic', 'majestical', 'majestically', 'majesticalness', 'majesticness', 'majestious', 'majestyship', 'maladjusted', 'maladjustive', 'maladjustment', 'microinjection', 'microprojector', 'misconjecture', 'munjistin', 'nonadjectival', 'nonadjustable', 'nonadjustive', 'nonadjustment', 'nonconjectural', 'nonejection', 'nonobjection', 'nonobjective', 'nonprojection', 'nonprojective', 'nonprojectively', 'nonrejection', 'nonsubjective', 'objectable', 'objectation', 'objectative', 'objectee', 'objecthood', 'objectification', 'objectify', 'objection', 'objectionability', 'objectionable', 'objectionableness', 'objectionably', 'objectional', 'objectioner', 'objectionist', 'objectival', 'objectivate', 'objectivation', 'objective', 'objectively', 'objectiveness', 'objectivism', 'objectivist', 'objectivistic', 'objectivity', 'objectivize', 'objectization', 'objectize', 'objectless', 'objectlessly', 'objectlessness', 'objector', 'outjetting', 'overjutting', 'overobjectify', 'preadjectival', 'preadjective', 'preadjustable', 'preadjustment', 'preconjecture', 'prejustification', 'prejustify', 'preobjection', 'preobjective', 'prerejection', 'presubjection', 'projectable', 'projectedly', 'projectile', 'projecting', 'projectingly', 'projection', 'projectional', 'projectionist', 'projective', 'projectively', 'projectivity', 'projector', 'projectress', 'projectrix', 'projecture', 'readjustable', 'readjuster', 'readjustment', 'rejectable', 'rejectableness', 'rejectage', 'rejectamenta', 'rejecter', 'rejectingly', 'rejection', 'rejective', 'rejectment', 'rejector', 'rejustification', 'rejustify', 'reobjectivization', 'reobjectivize', 'resubjection', 'retrojection', 'semiadjectively', 'subjectability', 'subjectable', 'subjectdom', 'subjected', 'subjectedly', 'subjectedness', 'subjecthood', 'subjectibility', 'subjectible', 'subjectification', 'subjectify', 'subjectile', 'subjection', 'subjectional', 'subjectist', 'subjective', 'subjectively', 'subjectiveness', 'subjectivism', 'subjectivist', 'subjectivistic', 'subjectivistically', 'subjectivity', 'subjectivize', 'subjectivoidealistic', 'subjectless', 'subjectlike', 'subjectness', 'subjectship', 'superdejection', 'superinjustice', 'superjustification', 'superobjection', 'superobjectionable', 'teleobjective', 'trajectile', 'trajection', 'trajectitious', 'trajectory', 'transsubjective', 'unadjectived', 'unadjustably', 'unadjusted', 'unadjustment', 'unconjecturable', 'unconjectured', 'undejected', 'underadjustment', 'unejected', 'uninjectable', 'uninjected', 'uninterjected', 'unjesting', 'unjilted', 'unjolted', 'unjostled', 'unjustice', 'unjusticiable', 'unjustifiable', 'unjustifiableness', 'unjustifiably', 'unjustified', 'unjustifiedly', 'unjustifiedness', 'unjustify', 'unjustled', 'unjustly', 'unjustness', 'unmajestic', 'unobjected', 'unobjectionable', 'unobjectionableness', 'unobjectionably', 'unobjectional', 'unobjective', 'unprojected', 'unprojecting', 'unrejectable', 'unsubjectable', 'unsubjected', 'unsubjectedness', 'unsubjection', 'unsubjective', 'unsubjectlike']\n"
     ]
    }
   ],
   "source": [
    "print( [w for w in wordlist if re.search('..j..t..',w)])"
   ]
  },
  {
   "cell_type": "markdown",
   "metadata": {},
   "source": [
    "Finally, the ? symbol specifies that the previous character is optional. Thus ^e-?mail    will match both email and e-mail. We could count the total number of occurrences of this word (in either spelling) in a text using sum(1 for w in text if re.search('^e-?mail$', w))."
   ]
  },
  {
   "cell_type": "code",
   "execution_count": 18,
   "metadata": {},
   "outputs": [
    {
     "data": {
      "text/plain": [
       "0"
      ]
     },
     "execution_count": 18,
     "metadata": {},
     "output_type": "execute_result"
    }
   ],
   "source": [
    "sum(1 for w in wordlist if re.search('^e-?mail$',w))"
   ]
  },
  {
   "cell_type": "code",
   "execution_count": 41,
   "metadata": {
    "collapsed": true
   },
   "outputs": [],
   "source": [
    "test=\"salut tu peux envoyer un e-mail à la direction de formation pour leur .... j ai dèjà reçu un email  en me informant que ...\""
   ]
  },
  {
   "cell_type": "code",
   "execution_count": 42,
   "metadata": {},
   "outputs": [
    {
     "data": {
      "text/plain": [
       "str"
      ]
     },
     "execution_count": 42,
     "metadata": {},
     "output_type": "execute_result"
    }
   ],
   "source": [
    "type(test)"
   ]
  },
  {
   "cell_type": "code",
   "execution_count": 43,
   "metadata": {},
   "outputs": [
    {
     "data": {
      "text/plain": [
       "0"
      ]
     },
     "execution_count": 43,
     "metadata": {},
     "output_type": "execute_result"
    }
   ],
   "source": [
    "sum(1 for w in test if re.search('^e-?mail$',w)) # need some preprocessing"
   ]
  },
  {
   "cell_type": "code",
   "execution_count": 44,
   "metadata": {
    "collapsed": true
   },
   "outputs": [],
   "source": [
    "tokens=nltk.word_tokenize(test)\n",
    "test=nltk.Text(tokens)"
   ]
  },
  {
   "cell_type": "code",
   "execution_count": 49,
   "metadata": {},
   "outputs": [
    {
     "data": {
      "text/plain": [
       "nltk.text.Text"
      ]
     },
     "execution_count": 49,
     "metadata": {},
     "output_type": "execute_result"
    }
   ],
   "source": [
    "type(test)\n"
   ]
  },
  {
   "cell_type": "code",
   "execution_count": 46,
   "metadata": {},
   "outputs": [
    {
     "data": {
      "text/plain": [
       "2"
      ]
     },
     "execution_count": 46,
     "metadata": {},
     "output_type": "execute_result"
    }
   ],
   "source": [
    "sum(1 for w in test if re.search('^e-?mail$',w)) # "
   ]
  },
  {
   "cell_type": "markdown",
   "metadata": {},
   "source": [
    "#### Ranges and Closures\n",
    "\n"
   ]
  },
  {
   "cell_type": "markdown",
   "metadata": {},
   "source": [
    "![](T9.JPG)"
   ]
  },
  {
   "cell_type": "markdown",
   "metadata": {},
   "source": [
    "The T9 system is used for entering text on mobile phones (see 3.5). Two or more words that are entered with the same sequence of keystrokes are known as textonyms. For example, both hole and golf are entered by pressing the sequence 4653. What other words could be produced with the same sequence? Here we use the regular expression «^[ghi][mno][jlk][def]$»:\n",
    "\n"
   ]
  },
  {
   "cell_type": "code",
   "execution_count": 50,
   "metadata": {},
   "outputs": [
    {
     "name": "stdout",
     "output_type": "stream",
     "text": [
      "['gold', 'golf', 'hold', 'hole']\n"
     ]
    }
   ],
   "source": [
    "print([w for w in wordlist if re.search('^[ghi][mno][jlk][def]$', w)])\n"
   ]
  },
  {
   "cell_type": "markdown",
   "metadata": {},
   "source": [
    "The first part of the expression, «^[ghi]», matches the start of a word followed by g, h, or i. The next part of the expression, «[mno]», constrains the second character to be m, n, or o. The third and fourth characters are also constrained. Only four words satisfy all these constraints. Note that the order of characters inside the square brackets is not significant, so we could have written «^[hig][nom][ljk][fed]$» and matched the same words.\n",
    "\n"
   ]
  },
  {
   "cell_type": "markdown",
   "metadata": {},
   "source": [
    "Let's explore the + symbol a bit further. Notice that it can be applied to individual letters, or to bracketed sets of letters:\n",
    "\n"
   ]
  },
  {
   "cell_type": "code",
   "execution_count": 51,
   "metadata": {},
   "outputs": [
    {
     "data": {
      "text/plain": [
       "['miiiiiiiiiiiiinnnnnnnnnnneeeeeeeeee',\n",
       " 'miiiiiinnnnnnnnnneeeeeeee',\n",
       " 'mine',\n",
       " 'mmmmmmmmiiiiiiiiinnnnnnnnneeeeeeee']"
      ]
     },
     "execution_count": 51,
     "metadata": {},
     "output_type": "execute_result"
    }
   ],
   "source": [
    "chat_words = sorted(set(w for w in nltk.corpus.nps_chat.words()))\n",
    "[w for w in chat_words if re.search('^m+i+n+e+$', w)]"
   ]
  },
  {
   "cell_type": "code",
   "execution_count": 60,
   "metadata": {},
   "outputs": [
    {
     "data": {
      "text/plain": [
       "['a',\n",
       " 'aaaaaaaaaaaaaaaaa',\n",
       " 'aaahhhh',\n",
       " 'ah',\n",
       " 'ahah',\n",
       " 'ahahah',\n",
       " 'ahh',\n",
       " 'ahhahahaha',\n",
       " 'ahhh',\n",
       " 'ahhhh',\n",
       " 'ahhhhhh',\n",
       " 'ahhhhhhhhhhhhhh',\n",
       " 'h',\n",
       " 'ha',\n",
       " 'haaa',\n",
       " 'hah',\n",
       " 'haha',\n",
       " 'hahaaa',\n",
       " 'hahah',\n",
       " 'hahaha',\n",
       " 'hahahaa',\n",
       " 'hahahah',\n",
       " 'hahahaha',\n",
       " 'hahahahaaa',\n",
       " 'hahahahahaha',\n",
       " 'hahahahahahaha',\n",
       " 'hahahahahahahahahahahahahahahaha',\n",
       " 'hahahhahah',\n",
       " 'hahhahahaha']"
      ]
     },
     "execution_count": 60,
     "metadata": {},
     "output_type": "execute_result"
    }
   ],
   "source": [
    "[w for w in chat_words if re.search('^[ha]+$', w)]\n"
   ]
  },
  {
   "cell_type": "markdown",
   "metadata": {},
   "source": [
    "t should be clear that + simply means \"one or more instances of the preceding item\", which could be an individual character like m, a set like [fed] or a range like [d-f]. Now let's replace + with *, which means \"zero or more instances of the preceding item\". The regular expression ^m*i*n*e*$ will match everything that we found using '^m+i+n+e+$', but also words where some of the letters don't appear at all, e.g. me, min, and mmmmm. Note that the + and * symbols are sometimes referred to as Kleene closures, or simply closures.\n",
    "\n",
    "The ^ operator has another function when it appears as the first character inside square brackets. For example «[^aeiouAEIOU]» matches any character other than a vowel. We can search the NPS Chat Corpus for words that are made up entirely of non-vowel characters using «^[^aeiouAEIOU]+$» to find items like these: :):):), grrr, cyb3r and zzzzzzzz. Notice this includes non-alphabetic characters.\n",
    "\n",
    "Here are some more examples of regular expressions being used to find tokens that match a particular pattern, illustrating the use of some new symbols: \\, {}, (), and |:"
   ]
  },
  {
   "cell_type": "code",
   "execution_count": 61,
   "metadata": {
    "collapsed": true
   },
   "outputs": [],
   "source": [
    "import nltk\n",
    "import re"
   ]
  },
  {
   "cell_type": "code",
   "execution_count": 70,
   "metadata": {},
   "outputs": [
    {
     "name": "stdout",
     "output_type": "stream",
     "text": [
      "{'a', 'b'}\n",
      "['a', 'a', 'b']\n"
     ]
    }
   ],
   "source": [
    "# recall of some functions : set and sorted\n",
    "t=['a','b','a']\n",
    "print(set(t)) # duplicate are deleted \n",
    "print(sorted(t))# sort elements in the list"
   ]
  },
  {
   "cell_type": "code",
   "execution_count": 71,
   "metadata": {
    "collapsed": true
   },
   "outputs": [],
   "source": [
    "wsj = sorted(set(nltk.corpus.treebank.words()))"
   ]
  },
  {
   "cell_type": "code",
   "execution_count": 77,
   "metadata": {},
   "outputs": [
    {
     "name": "stdout",
     "output_type": "stream",
     "text": [
      "['0.0085', '0.05', '0.1', '0.16', '0.2', '0.25', '0.28', '0.3', '0.4', '0.5', '0.50', '0.54', '0.56', '0.60', '0.7', '0.82', '0.84', '0.9', '0.95', '0.99', '1.01', '1.1', '1.125', '1.14', '1.1650', '1.17', '1.18', '1.19', '1.2', '1.20', '1.24', '1.25', '1.26', '1.28', '1.35', '1.39', '1.4', '1.457', '1.46', '1.49', '1.5', '1.50', '1.55', '1.56', '1.5755', '1.5805', '1.6', '1.61', '1.637', '1.64', '1.65', '1.7', '1.75', '1.76', '1.8', '1.82', '1.8415', '1.85', '1.8500', '1.9', '1.916', '1.92', '10.19', '10.2', '10.5', '107.03', '107.9', '109.73', '11.10', '11.5', '11.57', '11.6', '11.72', '11.95', '112.9', '113.2', '116.3', '116.4', '116.7', '116.9', '118.6', '12.09', '12.5', '12.52', '12.68', '12.7', '12.82', '12.97', '120.7', '1206.26', '121.6', '126.1', '126.15', '127.03', '129.91', '13.1', '13.15', '13.5', '13.50', '13.625', '13.65', '13.73', '13.8', '13.90', '130.6', '130.7', '131.01', '132.9', '133.7', '133.8', '14.00', '14.13', '14.26', '14.28', '14.43', '14.5', '14.53', '14.54', '14.6', '14.75', '14.99', '141.9', '142.84', '142.85', '143.08', '143.80', '143.93', '148.9', '149.9', '15.5', '150.00', '153.3', '154.2', '16.05', '16.09', '16.125', '16.2', '16.5', '16.68', '16.7', '16.9', '169.9', '17.3', '17.4', '17.5', '17.95', '1738.1', '176.1', '18.3', '18.6', '18.95', '185.9', '188.84', '19.3', '19.50', '19.6', '19.94', '19.95', '191.9', '2.07', '2.1', '2.15', '2.19', '2.2', '2.25', '2.29', '2.3', '2.30', '2.35', '2.375', '2.4', '2.42', '2.44', '2.46', '2.47', '2.5', '2.50', '2.6', '2.62', '2.65', '2.7', '2.75', '2.8', '2.80', '2.87', '2.875', '2.9', '2.95', '20.07', '20.5', '21.1', '21.9', '2141.7', '2160.1', '2163.2', '22.75', '220.45', '221.4', '225.6', '23.25', '23.4', '23.5', '23.72', '234.4', '236.74', '236.79', '24.95', '25.50', '25.6', '251.2', '26.2', '26.5', '26.8', '263.07', '2645.90', '2691.19', '27.1', '27.4', '273.5', '278.7', '28.25', '28.36', '28.4', '28.5', '28.53', '28.6', '29.3', '29.4', '29.9', '292.32', '3.01', '3.04', '3.1', '3.16', '3.18', '3.19', '3.2', '3.20', '3.23', '3.253', '3.28', '3.3', '3.35', '3.375', '3.4', '3.42', '3.43', '3.5', '3.55', '3.6', '3.61', '3.625', '3.7', '3.75', '3.8', '3.80', '3.9', '30.6', '30.9', '319.75', '32.8', '334.5', '34.625', '341.20', '3436.58', '35.2', '35.7', '352.7', '352.9', '35500.64', '35564.43', '36.9', '361.8', '3648.82', '37.3', '37.5', '372.14', '372.9', '374.19', '374.20', '377.60', '38.3', '38.375', '38.5', '38.875', '387.8', '4.1', '4.10', '4.2', '4.25', '4.3', '4.4', '4.5', '4.55', '4.6', '4.7', '4.75', '4.8', '4.875', '4.898', '4.9', '40.21', '41.60', '415.6', '415.8', '42.1', '42.5', '422.5', '43.875', '434.4', '436.01', '446.62', '449.04', '45.2', '45.3', '45.75', '456.64', '46.1', '47.1', '47.125', '47.5', '47.6', '49.9', '494.50', '497.34', '5.1', '5.2180', '5.276', '5.29', '5.3', '5.39', '5.4', '5.435', '5.5', '5.57', '5.6', '5.63', '5.7', '5.70', '5.8', '5.82', '5.9', '5.92', '50.1', '50.38', '50.45', '51.25', '51.6', '55.1', '566.54', '57.50', '57.6', '57.7', '58.64', '59.6', '59.9', '6.03', '6.1', '6.20', '6.21', '6.25', '6.4', '6.40', '6.44', '6.5', '6.50', '6.53', '6.6', '6.7', '6.70', '6.79', '6.84', '6.9', '60.36', '618.1', '62.1', '62.5', '62.625', '63.79', '630.9', '64.5', '66.5', '7.15', '7.2', '7.20', '7.272', '7.3', '7.4', '7.40', '7.422', '7.45', '7.458', '7.5', '7.50', '7.52', '7.55', '7.60', '7.62', '7.63', '7.65', '7.74', '7.78', '7.79', '7.8', '7.80', '7.84', '7.88', '7.90', '7.95', '70.2', '70.7', '705.6', '72.7', '734.9', '737.5', '77.56', '77.6', '77.70', '8.04', '8.06', '8.07', '8.1', '8.12', '8.14', '8.15', '8.19', '8.2', '8.22', '8.25', '8.30', '8.35', '8.45', '8.467', '8.47', '8.48', '8.5', '8.50', '8.53', '8.55', '8.56', '8.575', '8.60', '8.64', '8.65', '8.70', '8.75', '8.9', '80.50', '80.8', '81.8', '811.9', '83.4', '84.29', '84.9', '85.1', '85.7', '86.12', '87.5', '88.32', '89.7', '89.9', '9.3', '9.32', '9.37', '9.45', '9.5', '9.625', '9.75', '9.8', '9.82', '9.9', '92.9', '93.3', '93.9', '94.2', '94.8', '95.09', '96.4', '98.3', '99.1', '99.3']\n"
     ]
    }
   ],
   "source": [
    "print([w for w in wsj if re.search('^[0-9]+\\.+[0-9]+$',w)])"
   ]
  },
  {
   "cell_type": "code",
   "execution_count": 83,
   "metadata": {},
   "outputs": [
    {
     "name": "stdout",
     "output_type": "stream",
     "text": [
      "['C$', 'US$']\n"
     ]
    }
   ],
   "source": [
    "print( [w for w in wsj if re.search('^[A-Z]+\\$$', w)]) # Dollar sign preceded by one or more letter from [A-Z]"
   ]
  },
  {
   "cell_type": "code",
   "execution_count": 88,
   "metadata": {},
   "outputs": [
    {
     "name": "stdout",
     "output_type": "stream",
     "text": [
      "['1614', '1637', '1787', '1901', '1903', '1917', '1925', '1929', '1933', '1934', '1948', '1953', '1955', '1956', '1961', '1965', '1966', '1967', '1968', '1969', '1970', '1971', '1972', '1973', '1975', '1976', '1977', '1979', '1980', '1981', '1982', '1983', '1984', '1985', '1986', '1987', '1988', '1989', '1990', '1991', '1992', '1993', '1994', '1995', '1996', '1997', '1998', '1999', '2000', '2005', '2009', '2017', '2019', '2029', '3057', '8300']\n"
     ]
    }
   ],
   "source": [
    "print([w for w in wsj if re.search('^[0-9]{4}$', w)])  # all combination of four numbers from 0-9 that exist in wsj\n"
   ]
  },
  {
   "cell_type": "code",
   "execution_count": 89,
   "metadata": {},
   "outputs": [
    {
     "name": "stdout",
     "output_type": "stream",
     "text": [
      "['100', '101', '102', '103', '105', '106', '107', '108', '110', '111', '114', '115', '118', '119', '120', '125', '128', '130', '132', '133', '135', '138', '139', '140', '144', '145', '148', '149', '150', '155', '160', '170', '175', '176', '177', '179', '180', '184', '187', '188', '190', '195', '198', '200', '203', '210', '212', '214', '220', '225', '227', '228', '235', '240', '241', '245', '250', '257', '260', '266', '270', '274', '275', '280', '282', '286', '295', '300', '301', '306', '310', '313', '320', '321', '326', '339', '343', '350', '353', '360', '370', '380', '386', '388', '397', '400', '405', '415', '420', '430', '445', '450', '451', '454', '458', '467', '472', '490', '492', '500', '501', '512', '534', '570', '576', '598', '600', '605', '609', '620', '644', '666', '672', '692', '700', '701', '721', '722', '730', '750', '753', '767', '777', '778', '800', '847', '850', '879', '890', '900', '909', '913', '917', '960', '963']\n"
     ]
    }
   ],
   "source": [
    "print([w for w in wsj if re.search('^[0-9]{3}$', w)])  # all combination of three numbers from 0-9 that exist in wsj\n"
   ]
  },
  {
   "cell_type": "code",
   "execution_count": 107,
   "metadata": {},
   "outputs": [
    {
     "name": "stdout",
     "output_type": "stream",
     "text": [
      "['10-day', '10-lap', '10-year', '100-share', '12-point', '12-year', '14-hour', '15-day', '150-point', '190-point', '20-point', '20-stock', '21-month', '237-seat', '240-page', '27-year', '30-day', '30-point', '30-share', '30-year', '300-day', '36-day', '36-store', '42-year', '50-state', '500-stock', '52-week', '69-point', '84-month', '87-store', '90-day']\n"
     ]
    }
   ],
   "source": [
    "print([w for w in wsj if re.search('^[0-9]+-[a-z]{3,5}$', w)]) # {3,5} limit the length of words after '-'.\n"
   ]
  },
  {
   "cell_type": "code",
   "execution_count": 109,
   "metadata": {},
   "outputs": [
    {
     "data": {
      "text/plain": [
       "['black-and-white',\n",
       " 'bread-and-butter',\n",
       " 'father-in-law',\n",
       " 'machine-gun-toting',\n",
       " 'savings-and-loan']"
      ]
     },
     "execution_count": 109,
     "metadata": {},
     "output_type": "execute_result"
    }
   ],
   "source": [
    ">>> [w for w in wsj if re.search('^[a-z]{5,}-[a-z]{2,3}-[a-z]{,6}$', w)]# all words having the form: w1-w2-w3 where: length(w1)>=5\n",
    "# and 2<=length(w2)<=3 and length(w3)<=6\n"
   ]
  },
  {
   "cell_type": "code",
   "execution_count": 118,
   "metadata": {},
   "outputs": [
    {
     "name": "stdout",
     "output_type": "stream",
     "text": [
      "['62%-owned', 'Absorbed', 'According', 'Adopting', 'Advanced', 'Advancing', 'Alfred', 'Allied', 'Annualized', 'Anything', 'Arbitrage-related', 'Arbitraging', 'Asked', 'Assuming', 'Atlanta-based', 'Baking', 'Banking', 'Beginning', 'Beijing', 'Being', 'Bermuda-based', 'Betting', 'Boeing', 'Broadcasting', 'Bucking', 'Buying', 'Calif.-based', 'Change-ringing', 'Citing', 'Concerned', 'Confronted', 'Conn.based', 'Consolidated', 'Continued', 'Continuing', 'Declining', 'Defending', 'Depending', 'Designated', 'Determining', 'Developed', 'Died', 'During', 'Encouraged', 'Encouraging', 'English-speaking', 'Estimated', 'Everything', 'Excluding', 'Exxon-owned', 'Faulding', 'Fed', 'Feeding', 'Filling', 'Filmed', 'Financing', 'Following', 'Founded', 'Fracturing', 'Francisco-based', 'Fred', 'Funded', 'Funding', 'Generalized', 'Germany-based', 'Getting', 'Guaranteed', 'Having', 'Heating', 'Heightened', 'Holding', 'Housing', 'Illuminating', 'Indeed', 'Indexing', 'Irving', 'Jersey-based', 'Judging', 'Knowing', 'Learning', 'Legislating', 'Leming', 'Limited', 'London-based', 'Manfred', 'Manufacturing', 'Melamed', 'Miami-based', 'Mich.-based', 'Mining', 'Minneapolis-based', 'Mo.-based', 'Mortgage-Backed', 'Moving', 'Muzzling', 'N.J.-based', 'NBC-owned', 'NIH-appointed', 'Named', 'No-Smoking', 'Observing', 'Offering', 'Ohio-based', 'Orleans-based', 'Packaging', 'Performing', 'Philadelphia-based', 'Posted', 'Provided', 'Publishing', 'Purchasing', 'Rated', 'Reached', 'Red', 'Red-blooded', 'Reducing', 'Reed', 'Regarded', 'Rekindled', 'Related', 'Ringing', 'Rolling', 'Sacramento-based', 'Scoring', 'Seattle-based', 'Seed', 'Skilled', 'Smelting', 'Something', 'Spending', 'Standardized', 'Standing', 'Starting', 'Sterling', 'Taking', 'Texas-based', 'Toronto-based', 'Traded', 'Trading', 'Troubled', 'U.N.-supervised', 'U.S.-backed', 'United', 'Used', 'Varying', 'Washington-based', 'Whiting', 'Wilfred', 'Winning', 'Xiaoping', 'York-based', 'Zayed', 'abandoned', 'abating', 'abolishing', 'abortion-related', 'abounding', 'abridging', 'absorbed', 'acceded', 'accelerated', 'accepted', 'accepting', 'according', 'accounted', 'accounting', 'accrued', 'accumulated', 'accused', 'accusing', 'achieved', 'achieving', 'acknowledging', 'acquired', 'acquiring', 'acquisition-minded', 'acted', 'acting', 'adapted', 'adapting', 'added', 'adding', 'addressing', 'adjusted', 'adjusting', 'admitted', 'admitting', 'adopted', 'advanced', 'advancing', 'advertised', 'advertising', 'advised', 'advocated', 'advocating', 'affecting', 'afflicted', 'aggravated', 'agreed', 'agreeing', 'ailing', 'aimed', 'aiming', 'aired', 'airline-related', 'alarmed', 'alienated', 'alleged', 'alleging', 'allocated', 'allowed', 'altered', 'altering', 'amended', 'amending', 'amounted', 'amusing', 'angered', 'announced', 'annoyed', 'annualized', 'answered', 'anti-dumping', 'anticipated', 'anticipating', 'anything', 'apologizing', 'appealing', 'appeared', 'appearing', 'applied', 'appointed', 'approached', 'appropriated', 'approved', 'arched', 'argued', 'arguing', 'arising', 'armed', 'arranged', 'arrested', 'arrived', 'asbestos-related', 'asked', 'asking', 'assassinated', 'assembled', 'asserted', 'asserting', 'assessed', 'assigned', 'assisted', 'associated', 'assumed', 'assuming', 'assured', 'attached', 'attacking', 'attempted', 'attempting', 'attended', 'attending', 'attracted', 'attracting', 'attributed', 'auctioned', 'authorized', 'authorizing', 'automated', 'automotive-lighting', 'averaged', 'averted', 'avoiding', 'awarded', 'awarding', 'backed', 'backing', 'balanced', 'bald-faced', 'balkanized', 'balked', 'balloting', 'bank-backed', 'banking', 'banned', 'banning', 'barking', 'barred', 'based', 'battered', 'battery-operated', 'batting', 'bearing', 'becoming', 'bedding', 'befuddled', 'beginning', 'behaving', 'beheading', 'being', 'beleaguered', 'believed', 'bell-ringing', 'belonging', 'benefited', 'best-selling', 'betting', 'bickering', 'bidding', 'billed', 'billing', 'blamed', 'bled', 'blessing', 'blighted', 'blocked', 'blurred', 'boarding', 'bolstered', 'bombarding', 'booked', 'booming', 'boosted', 'boosting', 'borrowed', 'borrowing', 'botched', 'bothered', 'bounced', 'bowed', 'breaking', 'breathed', 'breathtaking', 'breed', 'bribed', 'bribing', 'briefing', 'brightened', 'bring', 'bringing', 'broad-based', 'broadcasting', 'broadened', 'brokering', 'brushed', 'budding', 'building', 'bundling', 'buoyed', 'burned', 'buying', 'calculated', 'called', 'calling', 'campaigning', 'cancer-causing', 'capitalized', 'capped', 'captivating', 'cared', 'carried', 'carrying', 'cascading', 'casting', 'caused', 'causing', 'cautioned', 'ceiling', 'centralized', 'certified', 'chaired', 'challenging', 'championing', 'change-ringing', 'changed', 'changing', 'characterized', 'characterizing', 'charged', 'charging', 'chastised', 'cheating', 'checking', 'cheerleading', 'chilled', 'choosing', 'chopped', 'circulated', 'cited', 'citing', 'citizen-sparked', 'city-owned', 'claimed', 'claiming', 'clamped', 'clarified', 'clashed', 'classed', 'classified', 'cleaned', 'cleaner-burning', 'cleared', 'clearing', 'clicked', 'climbed', 'climbing', 'clipped', 'clobbered', 'closed', 'closing', 'clothing', 'clouding', 'cluttered', 'co-founded', 'coaching', 'coal-fired', 'coated', 'codified', 'collaborated', 'collapsed', 'collected', 'collecting', 'collective-bargaining', 'colored', 'combined', 'coming', 'commanded', 'commenting', 'committed', 'committing', 'compared', 'compelling', 'competed', 'competing', 'compiled', 'complained', 'complaining', 'completed', 'completing', 'complicated', 'composed', 'composting', 'compressed', 'computer-aided', 'computer-assisted', 'computer-generated', 'computerized', 'computing', 'conceding', 'concentrated', 'concentrating', 'concerned', 'concluded', 'condemned', 'condemning', 'conducted', 'conducting', 'confined', 'confirmed', 'confused', 'connected', 'consented', 'considered', 'considering', 'consisting', 'construed', 'consulting', 'contacted', 'contained', 'containing', 'contesting', 'continued', 'continuing', 'contracted', 'contributed', 'contributing', 'controlled', 'controlling', 'converted', 'converting', 'convicted', 'convinced', 'cooled', 'cooperating', 'copied', 'copying', 'corn-buying', 'corrected', 'correcting', 'cost-cutting', 'cost-sharing', 'counseling', 'counting', 'coupled', 'court-ordered', 'covered', 'covering', 'cranked', 'crashing', 'created', 'creating', 'credit-rating', 'crippled', 'criticized', 'crossed', 'crossing', 'crowded', 'cruising', 'crushed', 'crying', 'cultivated', 'curbed', 'curbing', 'curled', 'current-carrying', 'curtailed', 'cushioned', 'customized', 'cutting', 'damaged', 'damaging', 'dancing', 'darned', 'dashed', 'dating', 'dead-eyed', 'dealing', 'decided', 'declared', 'declaring', 'declined', 'declining', 'decorated', 'decried', 'deducting', 'deemed', 'defeated', 'defended', 'defined', 'defying', 'delayed', 'deliberating', 'delisted', 'delivered', 'delivering', 'demanding', 'demonstrating', 'denied', 'denouncing', 'denying', 'depended', 'depending', 'depleted', 'depressed', 'deprived', 'derived', 'descending', 'described', 'deserving', 'designated', 'designed', 'designing', 'desired', 'despised', 'detailed', 'deteriorated', 'deteriorating', 'determined', 'deterring', 'devastating', 'developed', 'developing', 'devised', 'devoted', 'devouring', 'diagnosed', 'died', 'diluted', 'diming', 'diminished', 'directed', 'directing', 'disaffected', 'disagreed', 'disappointed', 'disappointing', 'disapproved', 'discarded', 'disciplined', 'disclosed', 'disclosing', 'discontinued', 'discontinuing', 'discouraging', 'discovered', 'discussed', 'discussing', 'disembodied', 'dismayed', 'dismissed', 'disposed', 'disputed', 'disseminating', 'distinguished', 'distorted', 'distributed', 'disturbing', 'diversified', 'diversifying', 'divided', 'dividing', 'documented', 'doing', 'doling', 'dollar-denominated', 'dominated', 'dominating', 'doubled', 'doubted', 'downgraded', 'downgrading', 'drafted', 'drawing', 'dreamed', 'dressed', 'drifted', 'drinking', 'driving', 'drooled', 'dropped', 'dubbed', 'duckling', 'dumbfounded', 'dumped', 'during', 'dwindling', 'earned', 'earning', 'eased', 'easing', 'eating', 'echoed', 'edged', 'editing', 'educated', 'elected', 'eliminated', 'eliminating', 'embarrassing', 'embroiled', 'emerged', 'emerging', 'emphasized', 'employed', 'empowered', 'enabled', 'enabling', 'enacted', 'encircling', 'enclosed', 'encouraging', 'encroaching', 'ended', 'ending', 'endorsed', 'engaged', 'engaging', 'engineered', 'engineering', 'enhanced', 'enjoyed', 'enjoying', 'enlarged', 'enraged', 'ensnarled', 'entangled', 'entered', 'entering', 'entertaining', 'enticed', 'entitled', 'entrenched', 'entrusted', 'equaling', 'equipped', 'escalated', 'escaped', 'established', 'establishing', 'estimated', 'evaluated', 'evaluating', 'evaporated', 'evening', 'everything', 'evoking', 'evolved', 'exacerbated', 'examined', 'exceed', 'exceeded', 'exceeding', 'exchanging', 'excited', 'exciting', 'executed', 'executing', 'exercised', 'exerting', 'exhausted', 'exhibited', 'existed', 'existing', 'expanded', 'expanding', 'expected', 'expecting', 'expedited', 'expelled', 'experienced', 'experiencing', 'expired', 'explained', 'explaining', 'exploded', 'export-oriented', 'exposed', 'expressed', 'expressing', 'expunged', 'extended', 'extending', 'exuded', 'eyeing', 'fabled', 'faced', 'facing', 'factoring', 'faded', 'failed', 'failing', 'fainting', 'falling', 'faltered', 'famed', 'family-planning', 'fared', 'fashioned', 'fast-growing', 'fastest-growing', 'fattened', 'favored', 'fawning', 'feared', 'featured', 'featuring', 'fed', 'feed', 'feeling', 'fetching', 'fielded', 'fighting', 'filed', 'filing', 'filled', 'filling', 'finalized', 'financed', 'financing', 'finding', 'fined', 'finished', 'fired', 'firmed', 'fixed', 'fizzled', 'fled', 'fledgling', 'fleeting', 'flirted', 'floated', 'flooded', 'focused', 'focusing', 'folded', 'followed', 'following', 'forced', 'forcing', 'forecasting', 'foreign-led', 'formed', 'forthcoming', 'founded', 'foundering', 'fretted', 'frightened', 'frustrating', 'fueled', 'fueling', 'full-fledged', 'fuming', 'functioning', 'funded', 'funding', 'fundraising', 'futures-related', 'gained', 'gaining', 'galling', 'galvanized', 'gambling', 'gauging', 'generated', 'getting', 'giving', 'going', 'good-hearted', 'good-natured', 'gored', 'government-certified', 'government-funded', 'government-owned', 'graduated', 'granted', 'granting', 'greed', 'gripping', 'growing', 'guaranteed', 'guarding', 'guided', 'gut-wrenching', 'hailed', 'hailing', 'halted', 'hampered', 'handed', 'handled', 'handling', 'happened', 'happening', 'hard-charging', 'hard-drinking', 'hard-hitting', 'harmed', 'harped', 'harvested', 'hauled', 'hauling', 'having', 'headed', 'heading', 'headlined', 'healing', 'hearing', 'heated', 'heating', 'hedging', 'heightened', 'helped', 'helping', 'high-flying', 'high-minded', 'high-polluting', 'high-priced', 'high-rolling', 'high-speed', 'higher-salaried', 'highest-pitched', 'hired', 'hitting', 'holding', 'hoped', 'hosted', 'housing', 'hugging', 'hundred', 'hunted', 'hurting', 'identified', 'ignored', 'ignoring', 'impaired', 'impeding', 'impending', 'implemented', 'implied', 'imported', 'imposed', 'imposing', 'impressed', 'improved', 'improving', 'incentive-backed', 'inched', 'inching', 'included', 'including', 'incorporated', 'increased', 'increasing', 'incurred', 'indeed', 'index-related', 'indicated', 'indicating', 'indulging', 'industrialized', 'industry-supported', 'inflated', 'influenced', 'influencing', 'infringed', 'inherited', 'initialing', 'initiated', 'initiating', 'injecting', 'injuring', 'inkling', 'inquiring', 'inserted', 'insider-trading', 'insinuating', 'insisted', 'inspired', 'installed', 'installing', 'instituted', 'instructed', 'insured', 'integrated', 'intended', 'intentioned', 'interest-bearing', 'interested', 'interesting', 'interrogated', 'interviewed', 'intriguing', 'introduced', 'introducing', 'invented', 'inverted', 'invested', 'investigating', 'investing', 'inviting', 'involved', 'involving', 'issued', 'issuing', 'jeopardizing', 'joined', 'joining', 'judged', 'jumped', 'jumping', 'justified', 'justifying', 'keeping', 'kicked', 'kidnapping', 'killed', 'killing', 'knitted', 'knocked', 'labeled', 'labeling', 'labor-backed', 'lacked', 'lagging', 'land-idling', 'landing', 'lasted', 'lasting', 'lauded', 'laughing', 'launched', 'lawmaking', 'laying', 'leading', 'learned', 'learning', 'leasing', 'leaving', 'led', 'lending', 'lengthened', 'lessening', 'letter-writing', 'letting', 'leveling', 'leveraged', 'leveraging', 'licensed', 'licensing', 'lifted', 'lifting', 'limited', 'limiting', 'limping', 'linked', 'liquidated', 'listed', 'listing', 'living', 'loaded', 'loading', 'located', 'locked', 'long-tenured', 'longstanding', 'looked', 'looking', 'looming', 'losing', 'loved', 'low-priced', 'lower-priced', 'lowered', 'lowering', 'lying', 'machine-gun-toting', 'magnified', 'mailed', 'mailing', 'maintained', 'maintaining', 'making', 'male-dominated', 'managed', 'managing', 'manufactured', 'manufacturing', 'marching', 'market-based', 'market-oriented', 'marketed', 'marketing', 'matched', 'matching', 'materialized', 'mating', 'maturing', 'meaning', 'measured', 'meatpacking', 'medium-sized', 'meeting', 'melt-textured', 'mentioned', 'merchandising', 'merged', 'merger-related', 'midsized', 'milked', 'mind-boggling', 'mining', 'minority-owned', 'minted', 'mired', 'missed', 'mixed', 'mobilizing', 'moderated', 'mollified', 'money-losing', 'monied', 'morale-damaging', 'more-advanced', 'morning', 'mortgage-backed', 'mortgage-based', 'mortgaged', 'mounted', 'moved', 'moving', 'mudslinging', 'muffled', 'mulling', 'multiplying', 'murdered', 'muscling', 'muted', 'muzzling', 'named', 'naming', 'narrowed', 'need', 'needed', 'needing', 'negotiated', 'negotiating', 'neighboring', 'networking', 'newspaper-printing', 'nominated', 'non-encapsulating', 'nonrecurring', 'notched', 'noted', 'nothing', 'noticed', 'noticing', 'notified', 'noting', 'notwithstanding', 'nullified', 'numbered', 'nurtured', 'obligated', 'observed', 'obsessed', 'obtained', 'obtaining', 'occupying', 'occurred', 'odd-sounding', 'offending', 'offered', 'offering', 'offsetting', 'old-fashioned', 'omitted', 'ongoing', 'opened', 'opening', 'operated', 'operating', 'opposed', 'orchestrated', 'ordered', 'ordering', 'organized', 'oriented', 'outdistanced', 'outlawed', 'outlawing', 'outnumbered', 'outpaced', 'outraged', 'outstanding', 'overcrowding', 'overleveraged', 'overpaying', 'overpriced', 'overriding', 'overstated', 'overused', 'overvalued', 'owed', 'owned', 'owning', 'packaging', 'packed', 'painted', 'painting', 'parched', 'parking', 'participated', 'parts-engineering', 'passed', 'passing', 'patented', 'paying', 'peaked', 'pealing', 'peddling', 'pegged', 'pending', 'perceived', 'performed', 'performing', 'permitted', 'permitting', 'phasing', 'photocopying', 'picked', 'picking', 'pinning', 'pitting', 'placed', 'placing', 'plagued', 'planned', 'planning', 'planted', 'planting', 'played', 'playing', 'pleaded', 'pleased', 'pledged', 'plugged', 'plummeted', 'plunged', 'plunging', 'pointed', 'pointing', 'polarized', 'policy-making', 'polled', 'populated', 'portrayed', 'posing', 'positioned', 'possessed', 'post-hearing', 'posted', 'posting', 'postponed', 'poured', 'practiced', 'practicing', 'praised', 'pre-approved', 'pre-cooked', 'pre-existing', 'preapproved', 'predicated', 'predicted', 'predicting', 'preferred', 'prepared', 'presented', 'preserving', 'pressed', 'pressing', 'pressured', 'prevailing', 'preventing', 'price-depressing', 'priced', 'pricing', 'printed', 'privileged', 'processing', 'produced', 'producing', 'profit-taking', 'profited', 'program-trading', 'programming', 'prohibited', 'prohibiting', 'prolonged', 'promised', 'promising', 'promoting', 'prompted', 'propelling', 'proposed', 'proposing', 'prosecuted', 'prosecuting', 'protected', 'protecting', 'protracted', 'proved', 'provided', 'providing', 'proving', 'provoked', 'prying', 'publicized', 'published', 'publishing', 'pulled', 'pulling', 'pumping', 'punishing', 'purchased', 'purchasing', 'purhasing', 'pursued', 'pushed', 'pushing', 'putting', 'puzzled', 'qualified', 'quashing', 'questioned', 'queuing', 'quipped', 'quitting', 'quoted', 'quoting', 'raced', 'racing', 'railing', 'raised', 'raising', 'rallying', 'ranged', 'ranging', 'ranked', 'rarefied', 'raring', 'ratcheting', 'rated', 'ratified', 'rating', 'rationed', 'reached', 'reaching', 'reacted', 'reading', 'reaffirmed', 'realized', 'reallocated', 'reaped', 'reaping', 'reasoning', 'reassuring', 'rebounding', 'rebuffed', 'rebuilding', 'rebuked', 'recalling', 'received', 'receiving', 'recession-inspired', 'reciting', 'reclaimed', 'recognizing', 'recommended', 'recommending', 'record-keeping', 'recorded', 'recouped', 'recovered', 'recovering', 'recruited', 'recruiting', 'rectified', 'recycled', 'red', 'redeemed', 'redeeming', 'redistributing', 'reduced', 'reducing', 'reeling', 'referred', 'referring', 'refitting', 'reflected', 'reflecting', 'refocusing', 'refreshing', 'refunded', 'refunding', 'refused', 'regarded', 'regarding', 'regimented', 'registered', 'regulated', 'regulating', 'reimbursed', 'reinstating', 'rejected', 'related', 'relating', 'relaunched', 'released', 'relegated', 'relied', 'relieved', 'remained', 'remaining', 'remarked', 'reminded', 'remodeling', 'removed', 'removing', 'rendering', 'renewed', 'renewing', 'renovated', 'reopened', 'reorganized', 'repaired', 'replaced', 'replacing', 'replicated', 'replicating', 'reported', 'reporting', 'represented', 'representing', 'repriced', 'requested', 'requesting', 'required', 'requiring', 'rescheduled', 'researching', 'reserved', 'reshaping', 'resigned', 'resigning', 'resisting', 'resolved', 'respected', 'responded', 'responding', 'restored', 'restricting', 'restructured', 'restructuring', 'resulted', 'resulting', 'retailing', 'retained', 'retaining', 'retaliating', 'retired', 'retiring', 'retraced', 'returned', 'returning', 'reversed', 'reviewed', 'reviewing', 'revised', 'revising', 'revived', 'rewarding', 'riding', 'rigged', 'ring', 'ringing', 'rising', 'robbed', 'rolled', 'rolling', 'romanticized', 'rooted', 'ruled', 'ruling', 'rumored', 'running', 'rushed', 'rusted', 'sacked', 'sacrificing', 'safeguarding', 'sagged', 'sagging', 'satisfying', 'saved', 'saving', 'saying', 'scared', 'scaring', 'scattered', 'scheduled', 'school-sponsored', 'scrambled', 'scrambling', 'scrapped', 'screened', 'screwed', 'scrutinizing', 'searched', 'searching', 'seasoned', 'secured', 'securities-based', 'seeing', 'seeking', 'seemed', 'segmenting', 'seized', 'selected', 'self-aggrandizing', 'self-perpetuating', 'self-serving', 'selling', 'sending', 'sentencing', 'served', 'serviced', 'servicing', 'serving', 'setting', 'settled', 'shaded', 'shaping', 'shared', 'shed', 'shedding', 'shipbuilding', 'shipped', 'shipping', 'shirt-sleeved', 'shopped', 'shopping', 'shoring', 'short-lived', 'showed', 'showing', 'shrinking', 'signaling', 'signed', 'signifying', 'signing', 'single-handed', 'singled', 'sitting', 'sketching', 'skidded', 'skilled', 'skipped', 'skyrocketed', 'slashing', 'slated', 'slaying', 'sleeping', 'sliding', 'slipped', 'slowed', 'slowing', 'smattering', 'smoking', 'smothering', 'snaking', 'snapped', 'sneaked', 'so-called', 'soared', 'soaring', 'softening', 'soliciting', 'solved', 'something', 'sometimes-exhausting', 'sophisticated', 'sorting', 'sounded', 'sounding', 'soured', 'sparing', 'sparked', 'sparking', 'speaking', 'specialized', 'specializing', 'specified', 'speculated', 'speculating', 'speed', 'spending', 'spilling', 'spooked', 'sports-oriented', 'spotted', 'sprawling', 'spring', 'spurned', 'spurred', 'spurring', 'sputtered', 'squeezed', 'stabbed', 'stacked', 'stacking', 'staggering', 'standardized', 'standing', 'started', 'starting', 'startling', 'state-appointed', 'state-owned', 'state-supervised', 'stated', 'stayed', 'staying', 'stemmed', 'stemming', 'stepped', 'stepping', 'stereotyped', 'sterling', 'sticking', 'stimulated', 'stimulating', 'stirred', 'stock-picking', 'stoked', 'stopped', 'stored', 'strapped', 'strengthened', 'stressed', 'stressing', 'stretched', 'stretching', 'striking', 'string', 'stripped', 'striving', 'strong-willed', 'structured', 'struggled', 'struggling', 'studied', 'studying', 'stunned', 'subdued', 'subjecting', 'subordinated', 'subpoenaed', 'substance-abusing', 'succeed', 'succeeded', 'succeeding', 'sued', 'suffered', 'suffering', 'suggested', 'suing', 'summoned', 'superimposed', 'supported', 'surfaced', 'surged', 'surprised', 'surprising', 'surrendered', 'surrounding', 'surveyed', 'surviving', 'suspended', 'sustained', 'swapped', 'swapping', 'sweeping', 'sweetened', 'swelling', 'swing', 'switched', 'synchronized', 'tailored', 'tailoring', 'taking', 'talked', 'talking', 'tanked', 'tapping', 'targeted', 'targeting', 'teaching', 'teetering', 'telling', 'tempted', 'tendered', 'tendering', 'termed', 'terminated', 'test-coaching', 'tested', 'testing', 'thin-lipped', 'thing', 'thinking', 'thirtysomething', 'threatened', 'thumbing', 'tie-breaking', 'tied', 'tightened', 'tightening', 'timing', 'tired', 'top-selling', 'top-yielding', 'topped', 'totaled', 'totaling', 'touched', 'touted', 'traced', 'tracked', 'tracking', 'traded', 'trading', 'trafficking', 'trailed', 'trained', 'training', 'transacting', 'transferring', 'transformed', 'transforming', 'transporting', 'travel-related', 'traveled', 'traveling', 'treated', 'treating', 'tried', 'triggered', 'trimmed', 'trimming', 'triple-A-rated', 'tripled', 'troubled', 'truth-in-lending', 'trying', 'tumbled', 'turned', 'turning', 'twinned', 'twisting', 'two-tiered', 'unabated', 'unaffiliated', 'unanticipated', 'unauthorized', 'unchanged', 'uncharted', 'uncompensated', 'uncomplaining', 'unconsolidated', 'undelivered', 'undercutting', 'undergoing', 'underlying', 'underperforming', 'underprivileged', 'understanding', 'undertaking', 'undisclosed', 'unenticing', 'unexpected', 'unfettered', 'unfilled', 'unfocused', 'unfounded', 'unfunded', 'unimpeded', 'unjustified', 'unlabeled', 'unleashed', 'unloaded', 'unmarked', 'unneeded', 'unpublished', 'unraveling', 'unrealized', 'unresolved', 'unrestricted', 'unsecured', 'unsettled', 'unsettling', 'unsolicited', 'unspecified', 'unstinting', 'untrained', 'unveiled', 'unwanted', 'unwashed', 'unwilling', 'upsetting', 'urged', 'urging', 'used', 'ushered', 'ushering', 'using', 'uttering', 'valued', 'varied', 'varying', 'ventilated', 'vested', 'video-viewing', 'viewed', 'viewing', 'violated', 'violating', 'visited', 'visiting', 'voted', 'voting', 'vowed', 'waited', 'waiting', 'waived', 'waiving', 'walking', 'wallowing', 'wanted', 'wanting', 'war-damaged', 'war-rationed', 'warehousing', 'warming', 'warned', 'warning', 'wasted', 'watched', 'watching', 'weakening', 'wedded', 'weighed', 'weighing', 'welcomed', 'well-connected', 'when-issued', 'whipping', 'whirling', 'willing', 'winding', 'wine-buying', 'wine-making', 'winning', 'wooing', 'word-processing', 'worked', 'working', 'worried', 'worrying', 'worsening', 'wrecking', 'wrenching', 'wrestling', 'writing', 'wrongdoing', 'yen-denominated', 'yet-to-be-formed', 'yielded', 'yielding', 'yttrium-containing', 'zoomed']\n"
     ]
    }
   ],
   "source": [
    "print([w for w in wsj if re.search('(ed|ing)$', w)]) # words ending with ed or ing "
   ]
  },
  {
   "cell_type": "code",
   "execution_count": 116,
   "metadata": {},
   "outputs": [
    {
     "name": "stdout",
     "output_type": "stream",
     "text": [
      "['Skilled', 'Skills', 'Skinner', 'to', 'toast', 'tobacco', 'today', 'together', 'toilet', 'told', 'tolerate', 'toll', 'tomorrow', 'ton', 'tone', 'tons', 'too', 'took', 'tool', 'tools', 'tooth', 'top', 'top-level', 'top-selling', 'top-yielding', 'topics', 'topped', 'tormentors', 'torn', 'torrent', 'tort', 'total', 'totaled', 'totaling', 'tote', 'touch', 'touched', 'touchy', 'tough', 'tour', 'tours', 'touted', 'tow', 'toward', 'tower', 'town', 'towns', 'tows', 'toy']\n"
     ]
    }
   ],
   "source": [
    "print([w for w in wsj if re.search('^(to|Ski)',w)])  # words starting with to or Ski"
   ]
  },
  {
   "cell_type": "markdown",
   "metadata": {},
   "source": [
    "You probably worked out that a backslash means that the following character is deprived of its special powers and must literally match a specific character in the word. Thus, while . is special, \\. only matches a period. The braced expressions, like {3,5}, specify the number of repeats of the previous item. The pipe character indicates a choice between the material on its left or its right. Parentheses indicate the scope of an operator: they can be used together with the pipe (or disjunction) symbol like this: «w(i|e|ai|oo)t», matching wit, wet, wait, and woot. It is instructive to see what happens when you omit the parentheses from the last expression above, and search for «ed|ing$»."
   ]
  },
  {
   "cell_type": "markdown",
   "metadata": {},
   "source": [
    "![](meta.JPG)"
   ]
  },
  {
   "cell_type": "markdown",
   "metadata": {},
   "source": [
    "To the Python interpreter, a regular expression is just like any other string. If the string contains a backslash followed by particular characters, it will interpret these specially. For example \\b would be interpreted as the backspace character. In general, when using regular expressions containing backslash, we should instruct the interpreter not to look inside the string at all, but simply to pass it directly to the  re library for processing. We do this by prefixing the string with the letter r, to indicate that it is a raw string. For example, the raw string r'\\band\\b' contains two \\b symbols that are interpreted by the re library as matching word boundaries instead of backspace characters. If you get into the habit of using r'...' for regular expressions — as we will do from now on — you will avoid having to think about these complications.\n",
    "\n"
   ]
  },
  {
   "cell_type": "markdown",
   "metadata": {},
   "source": [
    "### 3.5   Useful Applications of Regular Expressions\n",
    "\n"
   ]
  },
  {
   "cell_type": "markdown",
   "metadata": {},
   "source": [
    "The above examples all involved searching for words w that match some regular expression regexp using re.search(regexp, w). Apart from checking if a regular expression matches a word, we can use regular expressions to extract material from words, or to modify words in specific ways.\n",
    "\n"
   ]
  },
  {
   "cell_type": "markdown",
   "metadata": {},
   "source": [
    "##### Extracting Word Pieces\n",
    "The re.findall() (\"find all\") method finds all (non-overlapping) matches of the given regular expression. Let's find all the vowels in a word, then count them:\n",
    "\n",
    "\n",
    "\n"
   ]
  },
  {
   "cell_type": "code",
   "execution_count": 126,
   "metadata": {},
   "outputs": [
    {
     "name": "stdout",
     "output_type": "stream",
     "text": [
      "['u', 'e', 'a', 'i', 'a', 'i', 'i', 'i', 'e', 'i', 'a', 'i', 'o', 'i', 'o', 'u']\n",
      "16\n"
     ]
    }
   ],
   "source": [
    "word = 'supercalifragilisticexpialidocious'\n",
    "print(re.findall(r'[aeiou]', word))\n",
    "print(len(re.findall(r'[aeiou]',word)))"
   ]
  },
  {
   "cell_type": "markdown",
   "metadata": {},
   "source": [
    "Let's look for all sequences of two or more vowels in some text, and determine their relative frequency:\n",
    "\n"
   ]
  },
  {
   "cell_type": "code",
   "execution_count": 130,
   "metadata": {
    "collapsed": true
   },
   "outputs": [],
   "source": [
    "wsj = sorted(set(nltk.corpus.treebank.words()))\n"
   ]
  },
  {
   "cell_type": "code",
   "execution_count": 138,
   "metadata": {},
   "outputs": [
    {
     "name": "stdout",
     "output_type": "stream",
     "text": [
      "<FreqDist with 43 samples and 3405 outcomes>\n"
     ]
    },
    {
     "data": {
      "text/plain": [
       "[('io', 549),\n",
       " ('ea', 476),\n",
       " ('ie', 331),\n",
       " ('ou', 329),\n",
       " ('ai', 261),\n",
       " ('ia', 253),\n",
       " ('ee', 217),\n",
       " ('oo', 174),\n",
       " ('ua', 109),\n",
       " ('au', 106),\n",
       " ('ue', 105),\n",
       " ('ui', 95)]"
      ]
     },
     "execution_count": 138,
     "metadata": {},
     "output_type": "execute_result"
    }
   ],
   "source": [
    "fd = nltk.FreqDist(vs for word in wsj for vs in re.findall(r'[aeiou]{2,}', word))\n",
    "print(fd)\n",
    "fd.most_common(12)\n"
   ]
  },
  {
   "cell_type": "code",
   "execution_count": 137,
   "metadata": {
    "collapsed": true
   },
   "outputs": [],
   "source": [
    "#re.findall(r'[aeiou]{2,}','aefbuio')"
   ]
  },
  {
   "cell_type": "markdown",
   "metadata": {},
   "source": [
    "Note\n",
    "\n",
    "<b>Your Turn</b>: In the W3C Date Time Format, dates are represented like this: 2009-12-31. Replace the ? in the following Python code with a regular expression, in order to convert the string '2009-12-31' to a list of integers [2009, 12, 31]:\n",
    "\n",
    "[int(n) for n in re.findall(?, '2009-12-31')]"
   ]
  },
  {
   "cell_type": "code",
   "execution_count": 140,
   "metadata": {
    "collapsed": true
   },
   "outputs": [],
   "source": [
    "#[int(n) for n in re.findall(,'2009-12-31')]"
   ]
  },
  {
   "cell_type": "markdown",
   "metadata": {},
   "source": [
    "##### Doing More with Word Pieces\n",
    "\n"
   ]
  },
  {
   "cell_type": "markdown",
   "metadata": {},
   "source": [
    "Once we can use re.findall() to extract material from words, there's interesting things to do with the pieces, like glue them back together or plot them.\n",
    "\n",
    "It is sometimes noted that English text is highly redundant, and it is still easy to read when word-internal vowels are left out. For example, declaration becomes dclrtn, and inalienable becomes inlnble, retaining any initial or final vowel sequences. The regular expression in our next example matches initial vowel sequences, final vowel sequences, and all consonants; everything else is ignored. This three-way disjunction is processed left-to-right, if one of the three parts matches the word, any later parts of the regular expression are ignored. We use re.findall() to extract all the matching pieces, and ''.join() to join them together (see 3.9 for more about the join operation).\n",
    "\n"
   ]
  },
  {
   "cell_type": "code",
   "execution_count": 141,
   "metadata": {
    "collapsed": true
   },
   "outputs": [],
   "source": [
    "regexp = r'^[AEIOUaeiou]+|[AEIOUaeiou]+$|[^AEIOUaeiou]'\n",
    "def compress(word):\n",
    "    pieces = re.findall(regexp, word)\n",
    "    return ''.join(pieces)"
   ]
  },
  {
   "cell_type": "code",
   "execution_count": 142,
   "metadata": {
    "collapsed": true
   },
   "outputs": [],
   "source": [
    "english_udhr = nltk.corpus.udhr.words('English-Latin1')"
   ]
  },
  {
   "cell_type": "code",
   "execution_count": 144,
   "metadata": {},
   "outputs": [
    {
     "name": "stdout",
     "output_type": "stream",
     "text": [
      "['Universal', 'Declaration', 'of', 'Human', 'Rights', 'Preamble', 'Whereas', 'recognition', 'of', 'the', 'inherent', 'dignity', 'and', 'of', 'the', 'equal', 'and', 'inalienable', 'rights', 'of', 'all', 'members', 'of', 'the', 'human', 'family', 'is', 'the', 'foundation', 'of', 'freedom', ',', 'justice', 'and', 'peace', 'in', 'the', 'world', ',', 'Whereas', 'disregard', 'and', 'contempt', 'for', 'human', 'rights', 'have', 'resulted', 'in', 'barbarous', 'acts', 'which', 'have', 'outraged', 'the', 'conscience', 'of', 'mankind', ',', 'and', 'the', 'advent', 'of', 'a', 'world', 'in', 'which', 'human', 'beings', 'shall', 'enjoy', 'freedom', 'of', 'speech', 'and']\n"
     ]
    }
   ],
   "source": [
    "print(english_udhr[:75])"
   ]
  },
  {
   "cell_type": "code",
   "execution_count": 145,
   "metadata": {},
   "outputs": [
    {
     "name": "stdout",
     "output_type": "stream",
     "text": [
      "Unvrsl Dclrtn of Hmn Rghts Prmble Whrs rcgntn of the inhrnt dgnty and\n",
      "of the eql and inlnble rghts of all mmbrs of the hmn fmly is the fndtn\n",
      "of frdm , jstce and pce in the wrld , Whrs dsrgrd and cntmpt fr hmn\n",
      "rghts hve rsltd in brbrs acts whch hve outrgd the cnscnce of mnknd ,\n",
      "and the advnt of a wrld in whch hmn bngs shll enjy frdm of spch and\n"
     ]
    }
   ],
   "source": [
    "print(nltk.tokenwrap(compress(w) for w in english_udhr[:75]))"
   ]
  },
  {
   "cell_type": "code",
   "execution_count": 151,
   "metadata": {},
   "outputs": [
    {
     "data": {
      "text/plain": [
       "'Unvrsl Dclrtn of Hmn Rghts Prmble Whrs rcgntn of the inhrnt dgnty and\\nof the eql and inlnble rghts of all mmbrs of the hmn fmly is the fndtn\\nof frdm , jstce and pce in the wrld , Whrs dsrgrd and cntmpt fr hmn\\nrghts hve rsltd in brbrs acts whch hve outrgd the cnscnce of mnknd ,\\nand the advnt of a wrld in whch hmn bngs shll enjy frdm of spch and'"
      ]
     },
     "execution_count": 151,
     "metadata": {},
     "output_type": "execute_result"
    }
   ],
   "source": [
    "nltk.tokenwrap([compress(w) for w in english_udhr[:75]])"
   ]
  },
  {
   "cell_type": "code",
   "execution_count": 152,
   "metadata": {},
   "outputs": [
    {
     "name": "stdout",
     "output_type": "stream",
     "text": [
      "Unvrsl Dclrtn of Hmn Rghts Prmble Whrs rcgntn of the inhrnt dgnty and\n",
      "of the eql and inlnble rghts of all mmbrs of the hmn fmly is the fndtn\n",
      "of frdm , jstce and pce in the wrld , Whrs dsrgrd and cntmpt fr hmn\n",
      "rghts hve rsltd in brbrs acts whch hve outrgd the cnscnce of mnknd ,\n",
      "and the advnt of a wrld in whch hmn bngs shll enjy frdm of spch and\n"
     ]
    }
   ],
   "source": [
    "print(nltk.tokenwrap([compress(w) for w in english_udhr[:75]]))"
   ]
  },
  {
   "cell_type": "markdown",
   "metadata": {},
   "source": [
    "Next, let's combine regular expressions with conditional frequency distributions. Here we will extract all consonant-vowel sequences from the words of Rotokas, such as ka and si. Since each of these is a pair, it can be used to initialize a conditional frequency distribution. We then tabulate the frequency of each pair:\n",
    "\n"
   ]
  },
  {
   "cell_type": "code",
   "execution_count": 153,
   "metadata": {},
   "outputs": [
    {
     "name": "stdout",
     "output_type": "stream",
     "text": [
      "    a   e   i   o   u \n",
      "k 418 148  94 420 173 \n",
      "p  83  31 105  34  51 \n",
      "r 187  63  84  89  79 \n",
      "s   0   0 100   2   1 \n",
      "t  47   8   0 148  37 \n",
      "v  93  27 105  48  49 \n"
     ]
    }
   ],
   "source": [
    "rotokas_words = nltk.corpus.toolbox.words('rotokas.dic')\n",
    "cvs = [cv for w in rotokas_words for cv in re.findall(r'[ptksvr][aeiou]', w)]\n",
    "cfd = nltk.ConditionalFreqDist(cvs)\n",
    "cfd.tabulate()"
   ]
  },
  {
   "cell_type": "markdown",
   "metadata": {},
   "source": [
    "Examining the rows for s and t, we see they are in partial \"complementary distribution\", which is evidence that they are not distinct phonemes in the language. Thus, we could conceivably drop s from the Rotokas alphabet and simply have a pronunciation rule that the letter t is pronounced s when followed by i. (Note that the single entry having su, namely kasuari, 'cassowary' is borrowed from English.)\n",
    "\n",
    "If we want to be able to inspect the words behind the numbers in the above table, it would be helpful to have an index, allowing us to quickly find the list of words that contains a given consonant-vowel pair, e.g. cv_index['su'] should give us all words containing su. Here's how we can do this:"
   ]
  },
  {
   "cell_type": "code",
   "execution_count": 155,
   "metadata": {},
   "outputs": [
    {
     "name": "stdout",
     "output_type": "stream",
     "text": [
      "['kasuari']\n",
      "['kaapo', 'kaapopato', 'kaipori', 'kaiporipie', 'kaiporivira', 'kapo', 'kapoa', 'kapokao', 'kapokapo', 'kapokapo', 'kapokapoa', 'kapokapoa', 'kapokapora', 'kapokapora', 'kapokaporo', 'kapokaporo', 'kapokari', 'kapokarito', 'kapokoa', 'kapoo', 'kapooto', 'kapoovira', 'kapopaa', 'kaporo', 'kaporo', 'kaporopa', 'kaporoto', 'kapoto', 'karokaropo', 'karopo', 'kepo', 'kepoi', 'keposi', 'kepoto']\n"
     ]
    }
   ],
   "source": [
    "cv_word_pairs = [(cv, w) for w in rotokas_words for cv in re.findall(r'[ptksvr][aeiou]', w)]\n",
    "\n",
    "cv_index = nltk.Index(cv_word_pairs)\n",
    "\n",
    "print(cv_index['su'])\n",
    "\n",
    "print(cv_index['po'])"
   ]
  },
  {
   "cell_type": "markdown",
   "metadata": {},
   "source": [
    "##### Finding Word Stems"
   ]
  },
  {
   "cell_type": "code",
   "execution_count": 6,
   "metadata": {
    "collapsed": true
   },
   "outputs": [],
   "source": [
    "import nltk\n",
    "import re"
   ]
  },
  {
   "cell_type": "markdown",
   "metadata": {},
   "source": [
    "When we use a web search engine, we usually don't mind (or even notice) if the words in the document differ from our search terms in having different endings. A query for laptops finds documents containing laptop and vice versa. Indeed, laptop and laptops are just two forms of the same dictionary word (or lemma). For some language processing tasks we want to ignore word endings, and just deal with word stems.\n",
    "\n",
    "There are various ways we can pull out the stem of a word. Here's a simple-minded approach which just strips off anything that looks like a suffix:"
   ]
  },
  {
   "cell_type": "code",
   "execution_count": 7,
   "metadata": {},
   "outputs": [
    {
     "data": {
      "text/plain": [
       "'find'"
      ]
     },
     "execution_count": 7,
     "metadata": {},
     "output_type": "execute_result"
    }
   ],
   "source": [
    "def stem(word):\n",
    "...     for suffix in ['ing', 'ly', 'ed', 'ious', 'ies', 'ive', 'es', 's', 'ment']:\n",
    "...         if word.endswith(suffix):\n",
    "...             return word[:-len(suffix)]\n",
    "...     return word\n",
    "\n",
    "\n",
    "stem('finding')"
   ]
  },
  {
   "cell_type": "markdown",
   "metadata": {},
   "source": [
    "Although we will ultimately use NLTK's built-in stemmers, it's interesting to see how we can use regular expressions for this task. Our first step is to build up a disjunction of all the suffixes. We need to enclose it in parentheses in order to limit the scope of the disjunction."
   ]
  },
  {
   "cell_type": "code",
   "execution_count": 9,
   "metadata": {},
   "outputs": [
    {
     "data": {
      "text/plain": [
       "['processing']"
      ]
     },
     "execution_count": 9,
     "metadata": {},
     "output_type": "execute_result"
    }
   ],
   "source": [
    "re.findall(r'^.*ing|ly|ed|ious|ies|ive|es|s|ment$', 'processing')"
   ]
  },
  {
   "cell_type": "code",
   "execution_count": 10,
   "metadata": {},
   "outputs": [
    {
     "data": {
      "text/plain": [
       "['ing']"
      ]
     },
     "execution_count": 10,
     "metadata": {},
     "output_type": "execute_result"
    }
   ],
   "source": [
    "re.findall(r'^.*(ing|ly|ed|ious|ies|ive|es|s|ment)$', 'processing')"
   ]
  },
  {
   "cell_type": "markdown",
   "metadata": {},
   "source": [
    "Here, re.findall() just gave us the suffix even though the regular expression matched the entire word. This is because the parentheses have a second function, to select substrings to be extracted. If we want to use the parentheses to specify the scope of the disjunction, but not to select the material to be output, we have to add ?:, which is just one of many arcane subtleties of regular expressions. Here's the revised version.\n",
    "\n"
   ]
  },
  {
   "cell_type": "code",
   "execution_count": 13,
   "metadata": {},
   "outputs": [
    {
     "data": {
      "text/plain": [
       "['processing']"
      ]
     },
     "execution_count": 13,
     "metadata": {},
     "output_type": "execute_result"
    }
   ],
   "source": [
    "re.findall(r'^.*(?:ing|ly|ed|ious|ies|ive|es|s|ment)$', 'processing')\n"
   ]
  },
  {
   "cell_type": "code",
   "execution_count": 14,
   "metadata": {},
   "outputs": [
    {
     "data": {
      "text/plain": [
       "[('process', 'ing')]"
      ]
     },
     "execution_count": 14,
     "metadata": {},
     "output_type": "execute_result"
    }
   ],
   "source": [
    "re.findall(r'^(.*)(ing|ly|ed|ious|ies|ive|es|s|ment)$', 'processing')\n"
   ]
  },
  {
   "cell_type": "markdown",
   "metadata": {},
   "source": [
    "This looks promising, but still has a problem. Let's look at a different word, processes:\n",
    "\n"
   ]
  },
  {
   "cell_type": "code",
   "execution_count": 23,
   "metadata": {},
   "outputs": [
    {
     "data": {
      "text/plain": [
       "[('processe', 's')]"
      ]
     },
     "execution_count": 23,
     "metadata": {},
     "output_type": "execute_result"
    }
   ],
   "source": [
    "re.findall(r'^(.*)(ing|ly|ed|ious|ies|ive|es|s|ment)$', 'processes')\n",
    "# .* is mandat because otherwise we force the word to start with\n",
    "# the suffix which we are looking for"
   ]
  },
  {
   "cell_type": "markdown",
   "metadata": {},
   "source": [
    "The regular expression incorrectly found an -s suffix instead of an -es suffix. This demonstrates another subtlety: the star operator is \"greedy\" and the .* part of the expression tries to consume as much of the input as possible. If we use the \"non-greedy\" version of the star operator, written *?, we get what we want:"
   ]
  },
  {
   "cell_type": "code",
   "execution_count": 19,
   "metadata": {},
   "outputs": [
    {
     "data": {
      "text/plain": [
       "[('process', 'es')]"
      ]
     },
     "execution_count": 19,
     "metadata": {},
     "output_type": "execute_result"
    }
   ],
   "source": [
    "re.findall(r'^(.*?)(ing|ly|ed|ious|ies|ive|es|s|ment)$', 'processes')\n"
   ]
  },
  {
   "cell_type": "markdown",
   "metadata": {},
   "source": [
    "![](meta.JPG)"
   ]
  },
  {
   "cell_type": "markdown",
   "metadata": {},
   "source": [
    "This works even when we allow an empty suffix, by making the content of the second parentheses optional:\n",
    "\n"
   ]
  },
  {
   "cell_type": "code",
   "execution_count": 24,
   "metadata": {},
   "outputs": [
    {
     "data": {
      "text/plain": [
       "[('language', '')]"
      ]
     },
     "execution_count": 24,
     "metadata": {},
     "output_type": "execute_result"
    }
   ],
   "source": [
    "re.findall(r'^(.*?)(ing|ly|ed|ious|ies|ive|es|s|ment)?$', 'language')\n"
   ]
  },
  {
   "cell_type": "markdown",
   "metadata": {},
   "source": [
    "This approach still has many problems (can you spot them?) but we will move on to define a function to perform stemming, and apply it to a whole text:\n",
    "\n"
   ]
  },
  {
   "cell_type": "code",
   "execution_count": 25,
   "metadata": {
    "collapsed": true
   },
   "outputs": [],
   "source": [
    "def stem(word):\n",
    "...     regexp = r'^(.*?)(ing|ly|ed|ious|ies|ive|es|s|ment)?$'\n",
    "...     stem, suffix = re.findall(regexp, word)[0]\n",
    "...     return stem\n"
   ]
  },
  {
   "cell_type": "code",
   "execution_count": 26,
   "metadata": {
    "collapsed": true
   },
   "outputs": [],
   "source": [
    "raw = \"\"\"DENNIS: Listen, strange women lying in ponds distributing swords\n",
    "... is no basis for a system of government.  Supreme executive power derives from\n",
    "... a mandate from the masses, not from some farcical aquatic ceremony.\"\"\""
   ]
  },
  {
   "cell_type": "code",
   "execution_count": 32,
   "metadata": {},
   "outputs": [
    {
     "name": "stdout",
     "output_type": "stream",
     "text": [
      "['DENNIS', ':', 'Listen', ',', 'strange', 'women', 'ly', 'in', 'pond', 'distribut', 'sword', 'i', 'no', 'basi', 'for', 'a', 'system', 'of', 'govern', '.', 'Supreme', 'execut', 'power', 'deriv', 'from', 'a', 'mandate', 'from', 'the', 'mass', ',', 'not', 'from', 'some', 'farcical', 'aquatic', 'ceremony', '.']\n"
     ]
    }
   ],
   "source": [
    "tokens=nltk.word_tokenize(raw)  # generates a list of words that are in raw\n",
    "#type(tokens)\n",
    "print([stem(t) for t in tokens])\n"
   ]
  },
  {
   "cell_type": "markdown",
   "metadata": {},
   "source": [
    "<mark>Notice that our regular expression removed the s from ponds but also from is and basis. It produced some non-words like distribut and deriv, but these are acceptable stems in some applications.</mark>\n",
    "\n"
   ]
  },
  {
   "cell_type": "markdown",
   "metadata": {},
   "source": [
    "#### Searching Tokenized Text\n",
    "\n"
   ]
  },
  {
   "cell_type": "markdown",
   "metadata": {},
   "source": [
    "You can use a special kind of regular expression for searching across multiple words in a text (where a text is a list of tokens). For example, \"<a> <man>\" finds all instances of a man in the text. The angle brackets are used to mark token boundaries, and any whitespace between the angle brackets is ignored (behaviors that are unique to NLTK's findall() method for texts). In the following example, we include <.*> [1] which will match any single token, and enclose it in parentheses so only the matched word (e.g. monied) and not the matched phrase (e.g. a monied man) is produced. The second example finds three-word phrases ending with the word bro [2]. The last example finds sequences of three or more words starting with the letter l [3].\n",
    "\n"
   ]
  },
  {
   "cell_type": "code",
   "execution_count": 36,
   "metadata": {},
   "outputs": [
    {
     "name": "stdout",
     "output_type": "stream",
     "text": [
      "a monied man; a nervous man; a dangerous man; a white man; a white\n",
      "man; a white man; a pious man; a queer man; a good man; a mature man;\n",
      "a white man; a Cape man; a great man; a wise man; a wise man; a\n",
      "butterless man; a white man; a fiendish man; a pale man; a furious\n",
      "man; a better man; a certain man; a complete man; a dismasted man; a\n",
      "younger man; a brave man; a brave man; a brave man; a brave man\n"
     ]
    }
   ],
   "source": [
    "from nltk.corpus import gutenberg, nps_chat\n",
    "moby = nltk.Text(gutenberg.words('melville-moby_dick.txt'))\n",
    "moby.findall(r\"<a> <.*> <man>\")"
   ]
  },
  {
   "cell_type": "code",
   "execution_count": 38,
   "metadata": {},
   "outputs": [
    {
     "name": "stdout",
     "output_type": "stream",
     "text": [
      "monied; nervous; dangerous; white; white; white; pious; queer; good;\n",
      "mature; white; Cape; great; wise; wise; butterless; white; fiendish;\n",
      "pale; furious; better; certain; complete; dismasted; younger; brave;\n",
      "brave; brave; brave\n"
     ]
    }
   ],
   "source": [
    "moby.findall(r'<a> (<.*>) <man>') # adding () permits us to have just the\n",
    "# desires words."
   ]
  },
  {
   "cell_type": "code",
   "execution_count": 42,
   "metadata": {},
   "outputs": [
    {
     "name": "stdout",
     "output_type": "stream",
     "text": [
      "you rule bro; telling you bro; u twizted bro\n",
      "None\n",
      "rule; you; twizted\n",
      "None\n"
     ]
    }
   ],
   "source": [
    "chat = nltk.Text(nps_chat.words())\n",
    "print(chat.findall(r\"<.*> <.*> <bro>\"))\n",
    "print(chat.findall(r\"<.*>(<.*>)<bro>\"))\n"
   ]
  },
  {
   "cell_type": "markdown",
   "metadata": {},
   "source": [
    "Note\n",
    "\n",
    "Your Turn: Consolidate your understanding of regular expression patterns and substitutions using nltk.re_show(p, s) which annotates the string s to show every place where pattern p was matched, and nltk.app.nemo() which provides a graphical interface for exploring regular expressions. For more practice, try some of the exercises on regular expressions at the end of this chapter."
   ]
  },
  {
   "cell_type": "code",
   "execution_count": 44,
   "metadata": {},
   "outputs": [
    {
     "name": "stdout",
     "output_type": "stream",
     "text": [
      "forgmeive\n"
     ]
    }
   ],
   "source": [
    "nltk.re_show(r'(.*)(me)+$','forgmeive')"
   ]
  },
  {
   "cell_type": "markdown",
   "metadata": {},
   "source": [
    "It is easy to build search patterns when the linguistic phenomenon we're studying is tied to particular words. In some cases, a little creativity will go a long way. For instance, searching a large text corpus for expressions of the form x and other ys allows us to discover hypernyms (cf 5):\n",
    "\n"
   ]
  },
  {
   "cell_type": "code",
   "execution_count": 46,
   "metadata": {
    "collapsed": true
   },
   "outputs": [],
   "source": [
    "from nltk.corpus import brown\n",
    "hobbies_learned= nltk.Text(brown.words(categories=['hobbies','learned']))"
   ]
  },
  {
   "cell_type": "code",
   "execution_count": 51,
   "metadata": {},
   "outputs": [
    {
     "name": "stdout",
     "output_type": "stream",
     "text": [
      "speed and other activities; water and other liquids; tomb and other\n",
      "landmarks; Statues and other monuments; pearls and other jewels;\n",
      "charts and other items; roads and other features; figures and other\n",
      "objects; military and other areas; demands and other factors;\n",
      "abstracts and other compilations; iron and other metals\n"
     ]
    }
   ],
   "source": [
    "hobbies_learned.findall(r\"<\\w*> <and> <other> <\\w*s>\")"
   ]
  },
  {
   "cell_type": "markdown",
   "metadata": {},
   "source": [
    "With enough text, this approach would give us a useful store of information about the taxonomy of objects, without the need for any manual labor. However, our search results will usually contain false positives, i.e. cases that we would want to exclude. For example, the result: demands and other factors suggests that demand is an instance of the type factor, but this sentence is actually about wage demands. Nevertheless, we could construct our own ontology of English concepts by manually correcting the output of such searches."
   ]
  },
  {
   "cell_type": "markdown",
   "metadata": {},
   "source": [
    "<b>Note</b>:\n",
    "\n",
    "This combination of automatic and manual processing is the most common way for new corpora to be constructed. We will return to this in 11.."
   ]
  },
  {
   "cell_type": "markdown",
   "metadata": {},
   "source": [
    "Searching corpora also suffers from the problem of false negatives, i.e. omitting cases that we would want to include. It is risky to conclude that some linguistic phenomenon doesn't exist in a corpus just because we couldn't find any instances of a search pattern. Perhaps we just didn't think carefully enough about suitable patterns."
   ]
  },
  {
   "cell_type": "markdown",
   "metadata": {},
   "source": [
    "<b>Note</b>:\n",
    "    \n",
    "\n",
    "Your Turn: Look for instances of the pattern as x as y to discover information about entities and their properties."
   ]
  },
  {
   "cell_type": "code",
   "execution_count": 57,
   "metadata": {},
   "outputs": [
    {
     "name": "stdout",
     "output_type": "stream",
     "text": [
      "as accurately as possible; as well as the; as faithfully as possible;\n",
      "as much as what; as neat as a; as simple as you; as well as other; as\n",
      "well as other; as involved as determining; as well as other; as\n",
      "important as another; as accurately as possible; as accurate as any;\n",
      "as much as any; as different as a; as Orphic as that; as coppery as\n",
      "Delawares; as good as another; as large as small; as well as ease; as\n",
      "well as their; as well as possible; as straight as possible; as well\n",
      "as nailed; as smoothly as the; as soon as a; as well as injuries; as\n",
      "well as many; as well as reason; as well as in; as well as of; as well\n",
      "as a; as well as summer; as well as providing; as important as\n",
      "cooling; as evenly as it; as much as shading; as well as some; as well\n",
      "as subsoil; as high as possible; as well as many; as general as\n",
      "electrical; as long as the; as well as the; as much as was; as well as\n",
      "set; as well as by; as high as 15; as well as aid; as much as\n",
      "possible; as well as personalities; as low as a; as well as the; as\n",
      "much as glass; as popular as renting; as expensive as most; as well as\n",
      "relative; as well as by; as well as the; as far as possible; as far as\n",
      "radiation; as well as theoretical; as well as nuclear; as small as\n",
      "possible; as well as soap; as effective as the; as much as\n",
      "approximately; as well as information; as little as one; as much as\n",
      "an; as low as Af; as long as the; as far as possible; as well as\n",
      "their; as well as Hand; as well as all; as well as fractionation; as\n",
      "potent as the; as well as fever; as large as 3; as well as varying; as\n",
      "well as the; as long as 2; as far as emotional; as well as the; as\n",
      "well as regarding; as well as enthusiasm; as well as by; as well as\n",
      "her; as well as a; as old as social; as well as the; as well as the;\n",
      "as well as in; as much as they; as much as possible; as well as the;\n",
      "as well as some; as simple as one; as well as the; as well as in; as\n",
      "definable as possible; as long as they; as well as their; as well as\n",
      "forecasting; as soon as possible; as inevitable as anything; as well\n",
      "as for; as well as for; as nebulous as the; as awkward as the; as well\n",
      "as the; as well as by; as well as those; as well as the; as well as\n",
      "an; as well as with; as well as the; as well as moral; as much as\n",
      "their; as well as that; as likely as not; as well as upon; as well as\n",
      "on; as well as upon; as long as all; as far as one; as long as the; as\n",
      "empty as the; as well as the; as well as the; as soon as they; as well\n",
      "as office; as speedily as possible; as well as of; as well as start;\n",
      "as well as behind; as much as for; as effectively as they; as\n",
      "important as it; as nearly as feasible; as well as form; as well as\n",
      "aesthetic; as well as ethical; as well as Impressionism; as well as\n",
      "the; as broad as the; as much as he; as arresting as a; as odd as the;\n",
      "as well as the; as soon as possible; as long as it; as impassive as\n",
      "Persian; as long as those; as importantly as his; as well as\n",
      "providing; as well as the; as well as vertically; as well as new; as\n",
      "well as certain; as well as the; as close as possible; as far as\n",
      "obtainable; as well as the; as important as the; as long as the; as\n",
      "satisfactory as those\n"
     ]
    }
   ],
   "source": [
    "hobbies_learned.findall(r\" <as> <\\w*> <as> <\\w*>\")"
   ]
  },
  {
   "cell_type": "markdown",
   "metadata": {},
   "source": [
    "### 3.6   Normalizing Text\n",
    "\n"
   ]
  },
  {
   "cell_type": "markdown",
   "metadata": {},
   "source": [
    "In earlier program examples we have often converted text to lowercase before doing anything with its words, e.g. set(w.lower() for w in text). By using lower(), we have normalized the text to lowercase so that the distinction between The and the is ignored. Often we want to go further than this, and strip off any affixes, a task known as stemming. A further step is to make sure that the resulting form is a known word in a dictionary, a task known as lemmatization. We discuss each of these in turn. First, we need to define the data we will use in this section:\n",
    "\n"
   ]
  },
  {
   "cell_type": "code",
   "execution_count": 59,
   "metadata": {},
   "outputs": [],
   "source": [
    "raw = \"\"\"DENNIS: Listen, strange women lying in ponds distributing swords\n",
    "... is no basis for a system of government.  Supreme executive power derives from\n",
    "... a mandate from the masses, not from some farcical aquatic ceremony.\"\"\"\n",
    "tokens = nltk.word_tokenize(raw)"
   ]
  },
  {
   "cell_type": "markdown",
   "metadata": {},
   "source": [
    "##### Stemmers"
   ]
  },
  {
   "cell_type": "markdown",
   "metadata": {},
   "source": [
    "NLTK includes several off-the-shelf stemmers, and if you ever need a stemmer you should use one of these in preference to crafting your own using regular expressions, since these handle a wide range of irregular cases. The Porter and Lancaster stemmers follow their own rules for stripping affixes. Observe that the Porter stemmer correctly handles the word lying (mapping it to lie), while the Lancaster stemmer does not.\n",
    "\n"
   ]
  },
  {
   "cell_type": "code",
   "execution_count": 63,
   "metadata": {},
   "outputs": [],
   "source": [
    "porter=nltk.PorterStemmer()\n",
    "lancaster=nltk.LancasterStemmer()"
   ]
  },
  {
   "cell_type": "code",
   "execution_count": 65,
   "metadata": {},
   "outputs": [
    {
     "name": "stdout",
     "output_type": "stream",
     "text": [
      "['denni', ':', 'listen', ',', 'strang', 'women', 'lie', 'in', 'pond', 'distribut', 'sword', 'is', 'no', 'basi', 'for', 'a', 'system', 'of', 'govern', '.', 'suprem', 'execut', 'power', 'deriv', 'from', 'a', 'mandat', 'from', 'the', 'mass', ',', 'not', 'from', 'some', 'farcic', 'aquat', 'ceremoni', '.']\n"
     ]
    }
   ],
   "source": [
    "print([porter.stem(t) for t in tokens])"
   ]
  },
  {
   "cell_type": "code",
   "execution_count": 68,
   "metadata": {},
   "outputs": [
    {
     "name": "stdout",
     "output_type": "stream",
     "text": [
      "['den', ':', 'list', ',', 'strange', 'wom', 'lying', 'in', 'pond', 'distribut', 'sword', 'is', 'no', 'bas', 'for', 'a', 'system', 'of', 'govern', '.', 'suprem', 'execut', 'pow', 'der', 'from', 'a', 'mand', 'from', 'the', 'mass', ',', 'not', 'from', 'som', 'farc', 'aqu', 'ceremony', '.']\n"
     ]
    }
   ],
   "source": [
    "print([lancaster.stem(t) for t in tokens])"
   ]
  },
  {
   "cell_type": "markdown",
   "metadata": {},
   "source": [
    "Stemming is not a well-defined process, and we typically pick the stemmer that best suits the application we have in mind. The Porter Stemmer is a good choice if you are indexing some texts and want to support search using alternative forms of words (illustrated in 3.6, which uses object oriented programming techniques that are outside the scope of this book, string formatting techniques to be covered in 3.9, and the enumerate() function to be explained in 4.2)."
   ]
  },
  {
   "cell_type": "code",
   "execution_count": 69,
   "metadata": {
    "collapsed": true
   },
   "outputs": [],
   "source": [
    "class IndexedText(object):\n",
    "\n",
    "    def __init__(self, stemmer, text):\n",
    "        self._text = text\n",
    "        self._stemmer = stemmer\n",
    "        self._index = nltk.Index((self._stem(word), i)\n",
    "                                 for (i, word) in enumerate(text))\n",
    "\n",
    "    def concordance(self, word, width=40):\n",
    "        key = self._stem(word)\n",
    "        wc = int(width/4)                # words of context\n",
    "        for i in self._index[key]:\n",
    "            lcontext = ' '.join(self._text[i-wc:i])\n",
    "            rcontext = ' '.join(self._text[i:i+wc])\n",
    "            ldisplay = '{:>{width}}'.format(lcontext[-width:], width=width)\n",
    "            rdisplay = '{:{width}}'.format(rcontext[:width], width=width)\n",
    "            print(ldisplay, rdisplay)\n",
    "\n",
    "    def _stem(self, word):\n",
    "        return self._stemmer.stem(word).lower()"
   ]
  },
  {
   "cell_type": "code",
   "execution_count": 70,
   "metadata": {},
   "outputs": [
    {
     "name": "stdout",
     "output_type": "stream",
     "text": [
      "r king ! DENNIS : Listen , strange women lying in ponds distributing swords is no\n",
      " beat a very brave retreat . ROBIN : All lies ! MINSTREL : [ singing ] Bravest of\n",
      "       Nay . Nay . Come . Come . You may lie here . Oh , but you are wounded !   \n",
      "doctors immediately ! No , no , please ! Lie down . [ clap clap ] PIGLET : Well  \n",
      "ere is much danger , for beyond the cave lies the Gorge of Eternal Peril , which \n",
      "   you . Oh ... TIM : To the north there lies a cave -- the cave of Caerbannog --\n",
      "h it and lived ! Bones of full fifty men lie strewn about its lair . So , brave k\n",
      "not stop our fight ' til each one of you lies dead , and the Holy Grail returns t\n"
     ]
    }
   ],
   "source": [
    "porter = nltk.PorterStemmer()\n",
    "grail = nltk.corpus.webtext.words('grail.txt')\n",
    "text = IndexedText(porter, grail)\n",
    "text.concordance('lie')"
   ]
  },
  {
   "cell_type": "markdown",
   "metadata": {},
   "source": [
    "#### Lemmatization\n",
    "\n"
   ]
  },
  {
   "cell_type": "markdown",
   "metadata": {},
   "source": [
    "The WordNet lemmatizer only removes affixes if the resulting word is in its dictionary. This additional checking process makes the lemmatizer slower than the above stemmers. Notice that it doesn't handle lying, but it converts women to woman."
   ]
  },
  {
   "cell_type": "code",
   "execution_count": 72,
   "metadata": {},
   "outputs": [
    {
     "name": "stdout",
     "output_type": "stream",
     "text": [
      "['DENNIS', ':', 'Listen', ',', 'strange', 'woman', 'lying', 'in', 'pond', 'distributing', 'sword', 'is', 'no', 'basis', 'for', 'a', 'system', 'of', 'government', '.', 'Supreme', 'executive', 'power', 'derives', 'from', 'a', 'mandate', 'from', 'the', 'mass', ',', 'not', 'from', 'some', 'farcical', 'aquatic', 'ceremony', '.']\n"
     ]
    }
   ],
   "source": [
    "wnl = nltk.WordNetLemmatizer()\n",
    "print([wnl.lemmatize(t) for t in tokens]) # more slower than stemmer\n"
   ]
  },
  {
   "cell_type": "markdown",
   "metadata": {},
   "source": [
    "<mark>The WordNet lemmatizer is a good choice if you want to compile the vocabulary of some texts and want a list of valid lemmas (or lexicon headwords).</mark>\n",
    "\n"
   ]
  },
  {
   "cell_type": "markdown",
   "metadata": {},
   "source": [
    "<b>Note</b>\n",
    "\n",
    "Another normalization task involves identifying non-standard words including numbers, abbreviations, and dates, and mapping any such tokens to a special vocabulary. For example, every decimal number could be mapped to a single token  0.0, and every acronym could be mapped to AAA. This keeps the vocabulary small and improves the accuracy of many language modeling tasks."
   ]
  },
  {
   "cell_type": "markdown",
   "metadata": {},
   "source": [
    "### 3.7   Regular Expressions for Tokenizing Text\n",
    "\n"
   ]
  },
  {
   "cell_type": "markdown",
   "metadata": {},
   "source": [
    "Tokenization is the task of cutting a string into identifiable linguistic units that constitute a piece of language data. Although it is a fundamental task, we have been able to delay it until now because many corpora are already tokenized, and because NLTK includes some tokenizers. Now that you are familiar with regular expressions, you can learn how to use them to tokenize text, and to have much more control over the process.\n",
    "\n"
   ]
  },
  {
   "cell_type": "markdown",
   "metadata": {},
   "source": [
    "##### Simple Approaches to Tokenization\n",
    "\n"
   ]
  },
  {
   "cell_type": "markdown",
   "metadata": {},
   "source": [
    " The very simplest method for tokenizing text is to split on whitespace. Consider the following text from Alice's Adventures in Wonderland:\n",
    "\n"
   ]
  },
  {
   "cell_type": "code",
   "execution_count": 74,
   "metadata": {
    "collapsed": true
   },
   "outputs": [],
   "source": [
    "raw = \"\"\"'When I'M a Duchess,' she said to herself, (not in a very hopeful tone\n",
    "... though), 'I won't have any pepper in my kitchen AT ALL. Soup does very\n",
    "... well without--Maybe it's always pepper that makes people hot-tempered,'...\"\"\"\n"
   ]
  },
  {
   "cell_type": "markdown",
   "metadata": {},
   "source": [
    "We could split this raw text on whitespace using raw.split(). To do the same using a regular expression, it is not enough to match any space characters in the string [1] since this results in tokens that contain a \\n newline character; instead we need to match any number of spaces, tabs, or newlines [2]:\n",
    "\n"
   ]
  },
  {
   "cell_type": "code",
   "execution_count": 77,
   "metadata": {},
   "outputs": [
    {
     "name": "stdout",
     "output_type": "stream",
     "text": [
      "[\"'When\", \"I'M\", 'a', \"Duchess,'\", 'she', 'said', 'to', 'herself,', '(not', 'in', 'a', 'very', 'hopeful', 'tone\\nthough),', \"'I\", \"won't\", 'have', 'any', 'pepper', 'in', 'my', 'kitchen', 'AT', 'ALL.', 'Soup', 'does', 'very\\nwell', 'without--Maybe', \"it's\", 'always', 'pepper', 'that', 'makes', 'people', \"hot-tempered,'...\"]\n"
     ]
    }
   ],
   "source": [
    "print(re.split(r' ',raw))  # [1"
   ]
  },
  {
   "cell_type": "code",
   "execution_count": 78,
   "metadata": {},
   "outputs": [
    {
     "name": "stdout",
     "output_type": "stream",
     "text": [
      "[\"'When\", \"I'M\", 'a', \"Duchess,'\", 'she', 'said', 'to', 'herself,', '(not', 'in', 'a', 'very', 'hopeful', 'tone', 'though),', \"'I\", \"won't\", 'have', 'any', 'pepper', 'in', 'my', 'kitchen', 'AT', 'ALL.', 'Soup', 'does', 'very', 'well', 'without--Maybe', \"it's\", 'always', 'pepper', 'that', 'makes', 'people', \"hot-tempered,'...\"]\n"
     ]
    }
   ],
   "source": [
    "print(re.split(r'[ \\t\\n]+',raw))"
   ]
  },
  {
   "cell_type": "markdown",
   "metadata": {},
   "source": [
    "The regular expression «[ \\t\\n]+» matches one or more space, tab (\\t) or newline (\\n). Other whitespace characters, such as carriage-return and form-feed should really be included too. Instead, we will use a built-in re abbreviation, \\s, which means any whitespace character. The above statement can be rewritten as re.split(r'\\s+', raw).\n",
    "\n"
   ]
  },
  {
   "cell_type": "code",
   "execution_count": 79,
   "metadata": {},
   "outputs": [
    {
     "name": "stdout",
     "output_type": "stream",
     "text": [
      "[\"'When\", \"I'M\", 'a', \"Duchess,'\", 'she', 'said', 'to', 'herself,', '(not', 'in', 'a', 'very', 'hopeful', 'tone', 'though),', \"'I\", \"won't\", 'have', 'any', 'pepper', 'in', 'my', 'kitchen', 'AT', 'ALL.', 'Soup', 'does', 'very', 'well', 'without--Maybe', \"it's\", 'always', 'pepper', 'that', 'makes', 'people', \"hot-tempered,'...\"]\n"
     ]
    }
   ],
   "source": [
    "print(re.split(r'\\s+',raw))"
   ]
  },
  {
   "cell_type": "markdown",
   "metadata": {},
   "source": [
    "\n",
    "Note\n",
    "\n",
    "<b>Important: </b>Remember to prefix regular expressions with the letter r (meaning \"raw\"), which instructs the Python interpreter to treat the string literally, rather than processing any backslashed characters it contains.\n"
   ]
  },
  {
   "cell_type": "markdown",
   "metadata": {},
   "source": [
    "Splitting on whitespace gives us tokens like '(not' and 'herself,'. An alternative is to use the fact that Python provides us with a character class \\w for word characters, equivalent to [a-zA-Z0-9_]. It also defines the complement of this class \\W, i.e. all characters other than letters, digits or underscore. We can use \\W in a simple regular expression to split the input on anything other than a word character:\n",
    "\n"
   ]
  },
  {
   "cell_type": "code",
   "execution_count": 80,
   "metadata": {},
   "outputs": [
    {
     "name": "stdout",
     "output_type": "stream",
     "text": [
      "['', 'When', 'I', 'M', 'a', 'Duchess', 'she', 'said', 'to', 'herself', 'not', 'in', 'a', 'very', 'hopeful', 'tone', 'though', 'I', 'won', 't', 'have', 'any', 'pepper', 'in', 'my', 'kitchen', 'AT', 'ALL', 'Soup', 'does', 'very', 'well', 'without', 'Maybe', 'it', 's', 'always', 'pepper', 'that', 'makes', 'people', 'hot', 'tempered', '']\n"
     ]
    }
   ],
   "source": [
    "print(re.split(r'\\W+',raw))"
   ]
  },
  {
   "cell_type": "code",
   "execution_count": 81,
   "metadata": {},
   "outputs": [
    {
     "data": {
      "text/plain": [
       "['', '', '']"
      ]
     },
     "execution_count": 81,
     "metadata": {},
     "output_type": "execute_result"
    }
   ],
   "source": [
    "'xx'.split('x')"
   ]
  },
  {
   "cell_type": "markdown",
   "metadata": {},
   "source": [
    "Observe that this gives us empty strings at the start and the end (to understand why, try doing  'xx'.split('x')). We get the same tokens, but without the empty strings, with  re.findall(r'\\w+', raw), using a pattern that matches the words instead of the spaces. Now that we're matching the words, we're in a position to extend the regular expression to cover a wider range of cases. The regular expression «\\w+|\\S\\w*» will first try to match any sequence of word characters. If no match is found, it will try to match any non-whitespace character (\\S is the complement of \\s) followed by further word characters. This means that punctuation is grouped with any following letters (e.g. 's) but that sequences of two or more punctuation characters are separated."
   ]
  },
  {
   "cell_type": "code",
   "execution_count": null,
   "metadata": {
    "collapsed": true
   },
   "outputs": [],
   "source": []
  }
 ],
 "metadata": {
  "kernelspec": {
   "display_name": "Python 3",
   "language": "python",
   "name": "python3"
  },
  "language_info": {
   "codemirror_mode": {
    "name": "ipython",
    "version": 3
   },
   "file_extension": ".py",
   "mimetype": "text/x-python",
   "name": "python",
   "nbconvert_exporter": "python",
   "pygments_lexer": "ipython3",
   "version": "3.6.1"
  }
 },
 "nbformat": 4,
 "nbformat_minor": 2
}
